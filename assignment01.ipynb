{
  "nbformat": 4,
  "nbformat_minor": 0,
  "metadata": {
    "colab": {
      "name": "assignment01.ipynb",
      "provenance": [],
      "include_colab_link": true
    },
    "kernelspec": {
      "name": "python3",
      "display_name": "Python 3"
    },
    "language_info": {
      "name": "python"
    }
  },
  "cells": [
    {
      "cell_type": "markdown",
      "metadata": {
        "id": "view-in-github",
        "colab_type": "text"
      },
      "source": [
        "<a href=\"https://colab.research.google.com/github/PosgradoMNA/actividades-de-aprendizaje-Oviwan999/blob/main/assignment01.ipynb\" target=\"_parent\"><img src=\"https://colab.research.google.com/assets/colab-badge.svg\" alt=\"Open In Colab\"/></a>"
      ]
    },
    {
      "cell_type": "code",
      "execution_count": null,
      "metadata": {
        "id": "LzUSMM79NR9P",
        "outputId": "0e6cb421-1096-426a-b31a-f61d059def81",
        "colab": {
          "base_uri": "https://localhost:8080/"
        }
      },
      "outputs": [
        {
          "output_type": "stream",
          "name": "stdout",
          "text": [
            "assignment01 for GitJobish03 and edited in git, and 18\n"
          ]
        }
      ],
      "source": [
        "print('assignment01 for GitJobish03 and edited in git, and 18')"
      ]
    },
    {
      "cell_type": "code",
      "source": [
        "print(\"Hello\\nWorld!\")"
      ],
      "metadata": {
        "id": "mxM_WppZPMFx",
        "colab": {
          "base_uri": "https://localhost:8080/"
        },
        "outputId": "38c1dedf-bc72-4d86-ea59-e08e81e6d742"
      },
      "execution_count": 1,
      "outputs": [
        {
          "output_type": "stream",
          "name": "stdout",
          "text": [
            "Hello\n",
            "World!\n"
          ]
        }
      ]
    },
    {
      "cell_type": "code",
      "source": [
        "# print('Hello World!')"
      ],
      "metadata": {
        "id": "T15LuZjb_0Dx"
      },
      "execution_count": 2,
      "outputs": []
    },
    {
      "cell_type": "code",
      "source": [
        "int(1.0)"
      ],
      "metadata": {
        "colab": {
          "base_uri": "https://localhost:8080/"
        },
        "id": "QzX7hzb3_2_s",
        "outputId": "e1637495-06f5-4249-9355-ddfa6534dbb2"
      },
      "execution_count": 3,
      "outputs": [
        {
          "output_type": "execute_result",
          "data": {
            "text/plain": [
              "1"
            ]
          },
          "metadata": {},
          "execution_count": 3
        }
      ]
    },
    {
      "cell_type": "code",
      "source": [
        "bool(1)"
      ],
      "metadata": {
        "id": "zkQtTSfvB_9F",
        "outputId": "d39ff76d-0a2c-4566-fcdf-beeb9a71f9c9",
        "colab": {
          "base_uri": "https://localhost:8080/"
        }
      },
      "execution_count": 4,
      "outputs": [
        {
          "output_type": "execute_result",
          "data": {
            "text/plain": [
              "True"
            ]
          },
          "metadata": {},
          "execution_count": 4
        }
      ]
    },
    {
      "cell_type": "code",
      "source": [
        "total_min= 43+42+57\n",
        "total_Hrs= total_min/60\n",
        "print(total_Hrs)"
      ],
      "metadata": {
        "id": "9JfQCuyoCPH-",
        "outputId": "a47016b9-f303-48d1-db78-81ba5775cc24",
        "colab": {
          "base_uri": "https://localhost:8080/"
        }
      },
      "execution_count": 6,
      "outputs": [
        {
          "output_type": "stream",
          "name": "stdout",
          "text": [
            "2.3666666666666667\n"
          ]
        }
      ]
    },
    {
      "cell_type": "code",
      "source": [
        "Numbers = \"0123456\"\n",
        "print(Numbers[::3])\n",
        "print(Numbers[::2])"
      ],
      "metadata": {
        "id": "0AbE44WBC9Q6",
        "outputId": "373848f6-a3bc-444f-ca6f-3ba9d36a1398",
        "colab": {
          "base_uri": "https://localhost:8080/"
        }
      },
      "execution_count": 12,
      "outputs": [
        {
          "output_type": "stream",
          "name": "stdout",
          "text": [
            "036\n",
            "0246\n"
          ]
        }
      ]
    },
    {
      "cell_type": "code",
      "source": [
        "\"0123456\".find('1')"
      ],
      "metadata": {
        "id": "_PSYE5ywD4lL",
        "outputId": "ea76d27f-8078-4455-8855-9abe6881a040",
        "colab": {
          "base_uri": "https://localhost:8080/"
        }
      },
      "execution_count": 13,
      "outputs": [
        {
          "output_type": "execute_result",
          "data": {
            "text/plain": [
              "1"
            ]
          },
          "metadata": {},
          "execution_count": 13
        }
      ]
    }
  ]
}