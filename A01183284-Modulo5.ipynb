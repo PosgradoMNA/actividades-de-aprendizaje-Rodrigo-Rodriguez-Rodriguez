{
  "nbformat": 4,
  "nbformat_minor": 0,
  "metadata": {
    "colab": {
      "name": "assignment01.ipynb",
      "provenance": [],
      "include_colab_link": true
    },
    "kernelspec": {
      "name": "python3",
      "display_name": "Python 3"
    },
    "language_info": {
      "name": "python"
    }
  },
  "cells": [
    {
      "cell_type": "markdown",
      "metadata": {
        "id": "view-in-github",
        "colab_type": "text"
      },
      "source": [
        "<a href=\"https://colab.research.google.com/github/PosgradoMNA/actividades-de-aprendizaje-Rodrigo-Rodriguez-Rodriguez/blob/main/A01183284-Modulo5.ipynb\" target=\"_parent\"><img src=\"https://colab.research.google.com/assets/colab-badge.svg\" alt=\"Open In Colab\"/></a>"
      ]
    },
    {
      "cell_type": "code",
      "execution_count": 308,
      "metadata": {
        "id": "LzUSMM79NR9P",
        "outputId": "40072d30-9e6e-4809-d874-e62c324bac20",
        "colab": {
          "base_uri": "https://localhost:8080/"
        }
      },
      "outputs": [
        {
          "output_type": "stream",
          "name": "stdout",
          "text": [
            "assignment01 for GitJobish03 and edited in git, and 18\n"
          ]
        }
      ],
      "source": [
        "print('assignment01 for GitJobish03 and edited in git, and 18')"
      ]
    },
    {
      "cell_type": "code",
      "source": [
        "import numpy as np\n",
        "a=[1,2,3,4,5]"
      ],
      "metadata": {
        "id": "mxM_WppZPMFx"
      },
      "execution_count": 309,
      "outputs": []
    },
    {
      "cell_type": "code",
      "source": [
        "x = np.array(a)"
      ],
      "metadata": {
        "id": "N6xErMiXPIj5"
      },
      "execution_count": 310,
      "outputs": []
    },
    {
      "cell_type": "code",
      "source": [
        "type(x)"
      ],
      "metadata": {
        "id": "rs-CEfsnPRJV",
        "outputId": "3d7b92ac-3ea1-410a-f90b-c638fff3f808",
        "colab": {
          "base_uri": "https://localhost:8080/"
        }
      },
      "execution_count": 311,
      "outputs": [
        {
          "output_type": "execute_result",
          "data": {
            "text/plain": [
              "numpy.ndarray"
            ]
          },
          "metadata": {},
          "execution_count": 311
        }
      ]
    },
    {
      "cell_type": "code",
      "source": [
        "x.shape"
      ],
      "metadata": {
        "id": "2z54sYqLPRp-",
        "outputId": "9c0a3cee-bfbe-4e5b-8eea-9f1b41346e28",
        "colab": {
          "base_uri": "https://localhost:8080/"
        }
      },
      "execution_count": 312,
      "outputs": [
        {
          "output_type": "execute_result",
          "data": {
            "text/plain": [
              "(5,)"
            ]
          },
          "metadata": {},
          "execution_count": 312
        }
      ]
    },
    {
      "cell_type": "code",
      "source": [
        "x.dtype"
      ],
      "metadata": {
        "id": "e-L4OH04PVc0",
        "outputId": "e8978a8d-3ab5-4563-88a8-9d0856f0d5c6",
        "colab": {
          "base_uri": "https://localhost:8080/"
        }
      },
      "execution_count": 313,
      "outputs": [
        {
          "output_type": "execute_result",
          "data": {
            "text/plain": [
              "dtype('int64')"
            ]
          },
          "metadata": {},
          "execution_count": 313
        }
      ]
    },
    {
      "cell_type": "code",
      "source": [
        "x.mean()"
      ],
      "metadata": {
        "id": "gBdQPlWwPZpm",
        "outputId": "04b28923-22ef-417f-cd0a-f7bd0fcabcf2",
        "colab": {
          "base_uri": "https://localhost:8080/"
        }
      },
      "execution_count": 314,
      "outputs": [
        {
          "output_type": "execute_result",
          "data": {
            "text/plain": [
              "3.0"
            ]
          },
          "metadata": {},
          "execution_count": 314
        }
      ]
    },
    {
      "cell_type": "code",
      "source": [
        "np.array([1,-1])*np.array([1,1])"
      ],
      "metadata": {
        "id": "k97NuIKPPeo7",
        "outputId": "b5fb0869-5a3f-4fd0-c35d-fddd671146ac",
        "colab": {
          "base_uri": "https://localhost:8080/"
        }
      },
      "execution_count": 315,
      "outputs": [
        {
          "output_type": "execute_result",
          "data": {
            "text/plain": [
              "array([ 1, -1])"
            ]
          },
          "metadata": {},
          "execution_count": 315
        }
      ]
    },
    {
      "cell_type": "code",
      "source": [
        "np.dot(np.array([1,-1]),np.array([1,1]))"
      ],
      "metadata": {
        "id": "E88EMvfPPj8l",
        "outputId": "c577684c-e27b-4925-9b30-4fe3d334a31e",
        "colab": {
          "base_uri": "https://localhost:8080/"
        }
      },
      "execution_count": 316,
      "outputs": [
        {
          "output_type": "execute_result",
          "data": {
            "text/plain": [
              "0"
            ]
          },
          "metadata": {},
          "execution_count": 316
        }
      ]
    },
    {
      "cell_type": "code",
      "source": [
        "a = [\"0\", 1, \"two\", \"3\", 4]"
      ],
      "metadata": {
        "id": "NWz3w4bK0QCm"
      },
      "execution_count": 317,
      "outputs": []
    },
    {
      "cell_type": "code",
      "source": [
        "print(\"a[0]:\", a[0])\n",
        "print(\"a[1]:\", a[1])\n",
        "print(\"a[2]:\", a[2])\n",
        "print(\"a[3]:\", a[3])\n",
        "print(\"a[4]:\", a[4])"
      ],
      "metadata": {
        "id": "Z-OLtZ4i0QAJ",
        "outputId": "1ba7ef4f-591a-4400-ffd6-5f2b70c7c9d0",
        "colab": {
          "base_uri": "https://localhost:8080/"
        }
      },
      "execution_count": 318,
      "outputs": [
        {
          "output_type": "stream",
          "name": "stdout",
          "text": [
            "a[0]: 0\n",
            "a[1]: 1\n",
            "a[2]: two\n",
            "a[3]: 3\n",
            "a[4]: 4\n"
          ]
        }
      ]
    },
    {
      "cell_type": "code",
      "source": [
        "import numpy as np "
      ],
      "metadata": {
        "id": "ECOZx9cs0P9j"
      },
      "execution_count": 319,
      "outputs": []
    },
    {
      "cell_type": "code",
      "source": [
        "a = np.array([0, 1, 2, 3, 4])\n",
        "a"
      ],
      "metadata": {
        "id": "sH7UY4iG0P63",
        "outputId": "2530c2c8-3061-402b-fea7-cedd9d04e49c",
        "colab": {
          "base_uri": "https://localhost:8080/"
        }
      },
      "execution_count": 320,
      "outputs": [
        {
          "output_type": "execute_result",
          "data": {
            "text/plain": [
              "array([0, 1, 2, 3, 4])"
            ]
          },
          "metadata": {},
          "execution_count": 320
        }
      ]
    },
    {
      "cell_type": "code",
      "source": [
        "print(\"a[0]:\", a[0])\n",
        "print(\"a[1]:\", a[1])\n",
        "print(\"a[2]:\", a[2])\n",
        "print(\"a[3]:\", a[3])\n",
        "print(\"a[4]:\", a[4])"
      ],
      "metadata": {
        "id": "QrGNx6Hv0P4S",
        "outputId": "11df617f-c3f2-40cf-d3f0-c57394dd2ae0",
        "colab": {
          "base_uri": "https://localhost:8080/"
        }
      },
      "execution_count": 321,
      "outputs": [
        {
          "output_type": "stream",
          "name": "stdout",
          "text": [
            "a[0]: 0\n",
            "a[1]: 1\n",
            "a[2]: 2\n",
            "a[3]: 3\n",
            "a[4]: 4\n"
          ]
        }
      ]
    },
    {
      "cell_type": "code",
      "source": [
        "print(np.__version__)"
      ],
      "metadata": {
        "id": "oin25j2f0P1W",
        "outputId": "70e54af7-aebd-4b24-8446-0ca5967705f3",
        "colab": {
          "base_uri": "https://localhost:8080/"
        }
      },
      "execution_count": 322,
      "outputs": [
        {
          "output_type": "stream",
          "name": "stdout",
          "text": [
            "1.21.6\n"
          ]
        }
      ]
    },
    {
      "cell_type": "code",
      "source": [
        "type(a)"
      ],
      "metadata": {
        "id": "WSKmvcyz0Pk9",
        "outputId": "3b12e222-ac91-4d26-8d77-708927aa4f23",
        "colab": {
          "base_uri": "https://localhost:8080/"
        }
      },
      "execution_count": 323,
      "outputs": [
        {
          "output_type": "execute_result",
          "data": {
            "text/plain": [
              "numpy.ndarray"
            ]
          },
          "metadata": {},
          "execution_count": 323
        }
      ]
    },
    {
      "cell_type": "code",
      "source": [
        "b = np.array([3.1, 11.02, 6.2, 213.2, 5.2])"
      ],
      "metadata": {
        "id": "-7DILe0I0czv"
      },
      "execution_count": 324,
      "outputs": []
    },
    {
      "cell_type": "code",
      "source": [
        "type(b)\n",
        "    \n",
        "b.dtype "
      ],
      "metadata": {
        "id": "8gAPozOY0cxS",
        "outputId": "a9cdd5eb-c8c2-4197-f3e6-5916383b0fb7",
        "colab": {
          "base_uri": "https://localhost:8080/"
        }
      },
      "execution_count": 325,
      "outputs": [
        {
          "output_type": "execute_result",
          "data": {
            "text/plain": [
              "dtype('float64')"
            ]
          },
          "metadata": {},
          "execution_count": 325
        }
      ]
    },
    {
      "cell_type": "code",
      "source": [
        "c = np.array([20, 1, 2, 3, 4])\n",
        "c"
      ],
      "metadata": {
        "id": "IZAg-XO50cuW",
        "outputId": "b3a57988-f134-40fa-ea95-2c9acb000536",
        "colab": {
          "base_uri": "https://localhost:8080/"
        }
      },
      "execution_count": 326,
      "outputs": [
        {
          "output_type": "execute_result",
          "data": {
            "text/plain": [
              "array([20,  1,  2,  3,  4])"
            ]
          },
          "metadata": {},
          "execution_count": 326
        }
      ]
    },
    {
      "cell_type": "code",
      "source": [
        "c[0] = 100\n",
        "c"
      ],
      "metadata": {
        "id": "RhOQUdFt0cnt",
        "outputId": "03b196d6-546d-47cf-ab3a-852877f77b45",
        "colab": {
          "base_uri": "https://localhost:8080/"
        }
      },
      "execution_count": 327,
      "outputs": [
        {
          "output_type": "execute_result",
          "data": {
            "text/plain": [
              "array([100,   1,   2,   3,   4])"
            ]
          },
          "metadata": {},
          "execution_count": 327
        }
      ]
    },
    {
      "cell_type": "code",
      "source": [
        "c[4] = 0\n",
        "c"
      ],
      "metadata": {
        "id": "800YSGEI0jti",
        "outputId": "959453e5-6a3c-4c8e-fbb9-fbb669d2a86d",
        "colab": {
          "base_uri": "https://localhost:8080/"
        }
      },
      "execution_count": 328,
      "outputs": [
        {
          "output_type": "execute_result",
          "data": {
            "text/plain": [
              "array([100,   1,   2,   3,   0])"
            ]
          },
          "metadata": {},
          "execution_count": 328
        }
      ]
    },
    {
      "cell_type": "code",
      "source": [
        "a = np.array([10, 2, 30, 40,50])"
      ],
      "metadata": {
        "id": "m74ot02O0jqY"
      },
      "execution_count": 329,
      "outputs": []
    },
    {
      "cell_type": "code",
      "source": [
        "a[1]=20\n",
        "a"
      ],
      "metadata": {
        "id": "krjBsaDL0jnb",
        "outputId": "e6722b85-b549-425f-8949-91fa0526a567",
        "colab": {
          "base_uri": "https://localhost:8080/"
        }
      },
      "execution_count": 330,
      "outputs": [
        {
          "output_type": "execute_result",
          "data": {
            "text/plain": [
              "array([10, 20, 30, 40, 50])"
            ]
          },
          "metadata": {},
          "execution_count": 330
        }
      ]
    },
    {
      "cell_type": "code",
      "source": [
        "d = c[1:4]\n",
        "d"
      ],
      "metadata": {
        "id": "hbkNPSu40jkw",
        "outputId": "3f42b8bb-996e-4714-a5d8-6fb1ce09b41f",
        "colab": {
          "base_uri": "https://localhost:8080/"
        }
      },
      "execution_count": 331,
      "outputs": [
        {
          "output_type": "execute_result",
          "data": {
            "text/plain": [
              "array([1, 2, 3])"
            ]
          },
          "metadata": {},
          "execution_count": 331
        }
      ]
    },
    {
      "cell_type": "code",
      "source": [
        "c[3:5] = 300, 400\n",
        "c"
      ],
      "metadata": {
        "id": "haVRDY7V0jiK",
        "outputId": "6ad4cea4-e043-49e1-f3e2-8c1db97ca3da",
        "colab": {
          "base_uri": "https://localhost:8080/"
        }
      },
      "execution_count": 332,
      "outputs": [
        {
          "output_type": "execute_result",
          "data": {
            "text/plain": [
              "array([100,   1,   2, 300, 400])"
            ]
          },
          "metadata": {},
          "execution_count": 332
        }
      ]
    },
    {
      "cell_type": "code",
      "source": [
        "arr = np.array([1, 2, 3, 4, 5, 6, 7])\n",
        "\n",
        "print(arr[1:5:2])"
      ],
      "metadata": {
        "id": "JHEmNtqB0uqV",
        "outputId": "efad86a4-ce98-4257-d40c-c7f65b63463d",
        "colab": {
          "base_uri": "https://localhost:8080/"
        }
      },
      "execution_count": 333,
      "outputs": [
        {
          "output_type": "stream",
          "name": "stdout",
          "text": [
            "[2 4]\n"
          ]
        }
      ]
    },
    {
      "cell_type": "code",
      "source": [
        "print(arr[:4])"
      ],
      "metadata": {
        "id": "vW-1HrvA0ul5",
        "outputId": "06cf17aa-e671-486a-a681-464e653ee8e1",
        "colab": {
          "base_uri": "https://localhost:8080/"
        }
      },
      "execution_count": 334,
      "outputs": [
        {
          "output_type": "stream",
          "name": "stdout",
          "text": [
            "[1 2 3 4]\n"
          ]
        }
      ]
    },
    {
      "cell_type": "code",
      "source": [
        "print(arr[4:])"
      ],
      "metadata": {
        "id": "rllpTot20uew",
        "outputId": "0360d195-0d4b-40fa-bc68-3187513a0b57",
        "colab": {
          "base_uri": "https://localhost:8080/"
        }
      },
      "execution_count": 335,
      "outputs": [
        {
          "output_type": "stream",
          "name": "stdout",
          "text": [
            "[5 6 7]\n"
          ]
        }
      ]
    },
    {
      "cell_type": "code",
      "source": [
        "print(arr[1:5:])"
      ],
      "metadata": {
        "id": "vGPWGr_P0uWM",
        "outputId": "3d294386-d51f-4963-e7b5-9796bad79781",
        "colab": {
          "base_uri": "https://localhost:8080/"
        }
      },
      "execution_count": 336,
      "outputs": [
        {
          "output_type": "stream",
          "name": "stdout",
          "text": [
            "[2 3 4 5]\n"
          ]
        }
      ]
    },
    {
      "cell_type": "code",
      "source": [
        "arr = np.array([1, 2, 3, 4, 5, 6, 7, 8])"
      ],
      "metadata": {
        "id": "5pk4GP3X017c"
      },
      "execution_count": 337,
      "outputs": []
    },
    {
      "cell_type": "code",
      "source": [
        "print(arr[1:8:2])"
      ],
      "metadata": {
        "id": "A1-QYWSD0143",
        "outputId": "b99c55d8-2aba-431e-dcac-81f3c0a26b1b",
        "colab": {
          "base_uri": "https://localhost:8080/"
        }
      },
      "execution_count": 338,
      "outputs": [
        {
          "output_type": "stream",
          "name": "stdout",
          "text": [
            "[2 4 6 8]\n"
          ]
        }
      ]
    },
    {
      "cell_type": "code",
      "source": [
        "select = [0, 2, 3, 4]\n",
        "select"
      ],
      "metadata": {
        "id": "7YBEwESI012V",
        "outputId": "122bdae2-d52d-4eae-fea8-76fef9bd4d08",
        "colab": {
          "base_uri": "https://localhost:8080/"
        }
      },
      "execution_count": 339,
      "outputs": [
        {
          "output_type": "execute_result",
          "data": {
            "text/plain": [
              "[0, 2, 3, 4]"
            ]
          },
          "metadata": {},
          "execution_count": 339
        }
      ]
    },
    {
      "cell_type": "code",
      "source": [
        "d = c[select]\n",
        "d"
      ],
      "metadata": {
        "id": "3YgiEV4k01zX",
        "outputId": "7fb679b4-dc42-468e-9086-644968b9cee3",
        "colab": {
          "base_uri": "https://localhost:8080/"
        }
      },
      "execution_count": 340,
      "outputs": [
        {
          "output_type": "execute_result",
          "data": {
            "text/plain": [
              "array([100,   2, 300, 400])"
            ]
          },
          "metadata": {},
          "execution_count": 340
        }
      ]
    },
    {
      "cell_type": "code",
      "source": [
        "c[select] = 100000\n",
        "c"
      ],
      "metadata": {
        "id": "sjxK_VUD01sd",
        "outputId": "9cb18e23-c6a1-4e0b-dcd1-c19289d0a54a",
        "colab": {
          "base_uri": "https://localhost:8080/"
        }
      },
      "execution_count": 341,
      "outputs": [
        {
          "output_type": "execute_result",
          "data": {
            "text/plain": [
              "array([100000,      1, 100000, 100000, 100000])"
            ]
          },
          "metadata": {},
          "execution_count": 341
        }
      ]
    },
    {
      "cell_type": "code",
      "source": [
        "a = np.array([0, 1, 2, 3, 4])\n",
        "a"
      ],
      "metadata": {
        "id": "CfLWurIn0-f4",
        "outputId": "b3975aa2-7ee1-489f-ccd4-46c1bac0a9df",
        "colab": {
          "base_uri": "https://localhost:8080/"
        }
      },
      "execution_count": 342,
      "outputs": [
        {
          "output_type": "execute_result",
          "data": {
            "text/plain": [
              "array([0, 1, 2, 3, 4])"
            ]
          },
          "metadata": {},
          "execution_count": 342
        }
      ]
    },
    {
      "cell_type": "code",
      "source": [
        "a.size"
      ],
      "metadata": {
        "id": "7u61K28t0-dV",
        "outputId": "0e174082-ffb0-4b9c-e504-02cf389d9c97",
        "colab": {
          "base_uri": "https://localhost:8080/"
        }
      },
      "execution_count": 343,
      "outputs": [
        {
          "output_type": "execute_result",
          "data": {
            "text/plain": [
              "5"
            ]
          },
          "metadata": {},
          "execution_count": 343
        }
      ]
    },
    {
      "cell_type": "code",
      "source": [
        "a.ndim"
      ],
      "metadata": {
        "id": "3UuLZhAI0-aq",
        "outputId": "16b4ffb8-f77a-4797-829d-e963eb9cde19",
        "colab": {
          "base_uri": "https://localhost:8080/"
        }
      },
      "execution_count": 344,
      "outputs": [
        {
          "output_type": "execute_result",
          "data": {
            "text/plain": [
              "1"
            ]
          },
          "metadata": {},
          "execution_count": 344
        }
      ]
    },
    {
      "cell_type": "code",
      "source": [
        "a.shape"
      ],
      "metadata": {
        "id": "rix92qP00-X6",
        "outputId": "5fc5a227-eda7-4f37-8f82-8676a79602e3",
        "colab": {
          "base_uri": "https://localhost:8080/"
        }
      },
      "execution_count": 345,
      "outputs": [
        {
          "output_type": "execute_result",
          "data": {
            "text/plain": [
              "(5,)"
            ]
          },
          "metadata": {},
          "execution_count": 345
        }
      ]
    },
    {
      "cell_type": "code",
      "source": [
        "b = np.array([10, 20, 30, 40, 50, 60, 70])"
      ],
      "metadata": {
        "id": "hKNbQ39G0-Oq"
      },
      "execution_count": 346,
      "outputs": []
    },
    {
      "cell_type": "code",
      "source": [
        "b.size\n",
        "\n",
        "b.ndim\n",
        "\n",
        "b.shape"
      ],
      "metadata": {
        "id": "xjom6U251HvX",
        "outputId": "f8383c04-2053-4046-bec3-cdc746f85c1d",
        "colab": {
          "base_uri": "https://localhost:8080/"
        }
      },
      "execution_count": 347,
      "outputs": [
        {
          "output_type": "execute_result",
          "data": {
            "text/plain": [
              "(7,)"
            ]
          },
          "metadata": {},
          "execution_count": 347
        }
      ]
    },
    {
      "cell_type": "code",
      "source": [
        "a = np.array([1, -1, 1, -1])"
      ],
      "metadata": {
        "id": "SRw6zSgu1HnQ"
      },
      "execution_count": 348,
      "outputs": []
    },
    {
      "cell_type": "code",
      "source": [
        "mean = a.mean()\n",
        "mean"
      ],
      "metadata": {
        "id": "-T3gggmp1MLj",
        "outputId": "4ea082bb-1bca-4a2f-e31a-ab4c17e2e503",
        "colab": {
          "base_uri": "https://localhost:8080/"
        }
      },
      "execution_count": 349,
      "outputs": [
        {
          "output_type": "execute_result",
          "data": {
            "text/plain": [
              "0.0"
            ]
          },
          "metadata": {},
          "execution_count": 349
        }
      ]
    },
    {
      "cell_type": "code",
      "source": [
        "standard_deviation=a.std()\n",
        "standard_deviation"
      ],
      "metadata": {
        "id": "AL7DHjna1MII",
        "outputId": "7f119805-97b3-4631-cb8d-6321fe73a7d5",
        "colab": {
          "base_uri": "https://localhost:8080/"
        }
      },
      "execution_count": 350,
      "outputs": [
        {
          "output_type": "execute_result",
          "data": {
            "text/plain": [
              "1.0"
            ]
          },
          "metadata": {},
          "execution_count": 350
        }
      ]
    },
    {
      "cell_type": "code",
      "source": [
        "b = np.array([-1, 2, 3, 4, 5])\n",
        "b"
      ],
      "metadata": {
        "id": "Z1wdlKxG1MFr",
        "outputId": "4593a76c-f84a-4730-e72d-a8b6a29aa405",
        "colab": {
          "base_uri": "https://localhost:8080/"
        }
      },
      "execution_count": 351,
      "outputs": [
        {
          "output_type": "execute_result",
          "data": {
            "text/plain": [
              "array([-1,  2,  3,  4,  5])"
            ]
          },
          "metadata": {},
          "execution_count": 351
        }
      ]
    },
    {
      "cell_type": "code",
      "source": [
        "max_b = b.max()\n",
        "max_b"
      ],
      "metadata": {
        "id": "S0Cn2i5k1MDU",
        "outputId": "04f1689d-01b6-4568-eb2d-ea0897600551",
        "colab": {
          "base_uri": "https://localhost:8080/"
        }
      },
      "execution_count": 352,
      "outputs": [
        {
          "output_type": "execute_result",
          "data": {
            "text/plain": [
              "5"
            ]
          },
          "metadata": {},
          "execution_count": 352
        }
      ]
    },
    {
      "cell_type": "code",
      "source": [
        "min_b = b.min()\n",
        "min_b"
      ],
      "metadata": {
        "id": "-FrMe4g91MAt",
        "outputId": "4efb90a2-9daf-4e67-97d8-2cfb14dd553a",
        "colab": {
          "base_uri": "https://localhost:8080/"
        }
      },
      "execution_count": 353,
      "outputs": [
        {
          "output_type": "execute_result",
          "data": {
            "text/plain": [
              "-1"
            ]
          },
          "metadata": {},
          "execution_count": 353
        }
      ]
    },
    {
      "cell_type": "code",
      "source": [
        "c = np.array([-10, 201, 43, 94, 502])"
      ],
      "metadata": {
        "id": "37QzR-E_1L-C"
      },
      "execution_count": 354,
      "outputs": []
    },
    {
      "cell_type": "code",
      "source": [
        "max_c = c.max()\n",
        "max_c\n",
        "    \n",
        "min_c = c.min()\n",
        "min_c\n",
        "    \n",
        "    \n",
        "Sum = (max_c +min_c)\n",
        "Sum\n"
      ],
      "metadata": {
        "id": "stHT6Iof1L7c",
        "outputId": "2384871e-4aa9-4b55-b149-336d2a3ab89a",
        "colab": {
          "base_uri": "https://localhost:8080/"
        }
      },
      "execution_count": 355,
      "outputs": [
        {
          "output_type": "execute_result",
          "data": {
            "text/plain": [
              "492"
            ]
          },
          "metadata": {},
          "execution_count": 355
        }
      ]
    },
    {
      "cell_type": "code",
      "source": [
        "u = np.array([1, 0])\n",
        "u"
      ],
      "metadata": {
        "id": "O_rwnbtl1LzT",
        "outputId": "60a16d4f-34d6-49db-8d90-abc639360725",
        "colab": {
          "base_uri": "https://localhost:8080/"
        }
      },
      "execution_count": 356,
      "outputs": [
        {
          "output_type": "execute_result",
          "data": {
            "text/plain": [
              "array([1, 0])"
            ]
          },
          "metadata": {},
          "execution_count": 356
        }
      ]
    },
    {
      "cell_type": "code",
      "source": [
        "v = np.array([0, 1])\n",
        "v"
      ],
      "metadata": {
        "id": "lZXeW6R61z31",
        "outputId": "8e239171-766f-431d-eb00-984001ad14dd",
        "colab": {
          "base_uri": "https://localhost:8080/"
        }
      },
      "execution_count": 357,
      "outputs": [
        {
          "output_type": "execute_result",
          "data": {
            "text/plain": [
              "array([0, 1])"
            ]
          },
          "metadata": {},
          "execution_count": 357
        }
      ]
    },
    {
      "cell_type": "code",
      "source": [
        "z = np.add(u, v)\n",
        "z"
      ],
      "metadata": {
        "id": "lofZ9vXe1z1Q",
        "outputId": "b6d6c5c3-c39a-4b8f-eda1-b8315b002a2e",
        "colab": {
          "base_uri": "https://localhost:8080/"
        }
      },
      "execution_count": 358,
      "outputs": [
        {
          "output_type": "execute_result",
          "data": {
            "text/plain": [
              "array([1, 1])"
            ]
          },
          "metadata": {},
          "execution_count": 358
        }
      ]
    },
    {
      "cell_type": "code",
      "source": [
        "import time \n",
        "import sys\n",
        "import numpy as np \n",
        "\n",
        "import matplotlib.pyplot as plt\n",
        "%matplotlib inline  \n",
        "\n",
        "def Plotvec1(u, z, v):\n",
        "    \n",
        "    ax = plt.axes() \n",
        "    ax.arrow(0, 0, *u, head_width=0.05, color='r', head_length=0.1)\n",
        "    plt.text(*(u + 0.1), 'u')\n",
        "    \n",
        "    ax.arrow(0, 0, *v, head_width=0.05, color='b', head_length=0.1)\n",
        "    plt.text(*(v + 0.1), 'v')\n",
        "    \n",
        "    ax.arrow(0, 0, *z, head_width=0.05, head_length=0.1)\n",
        "    plt.text(*(z + 0.1), 'z')\n",
        "    plt.ylim(-2, 2)\n",
        "    plt.xlim(-2, 2)"
      ],
      "metadata": {
        "id": "diAotGnX1zye"
      },
      "execution_count": 359,
      "outputs": []
    },
    {
      "cell_type": "code",
      "source": [
        "Plotvec1(u, z, v)"
      ],
      "metadata": {
        "id": "mvQ4B5dE1zue",
        "outputId": "2d55c221-966d-4988-ba83-4673b0745b61",
        "colab": {
          "base_uri": "https://localhost:8080/",
          "height": 269
        }
      },
      "execution_count": 360,
      "outputs": [
        {
          "output_type": "display_data",
          "data": {
            "text/plain": [
              "<Figure size 432x288 with 1 Axes>"
            ],
            "image/png": "[encoded data removed]"
          },
          "metadata": {
            "needs_background": "light"
          }
        }
      ]
    },
    {
      "cell_type": "code",
      "source": [
        "arr1 = np.array([10, 11, 12, 13, 14, 15])\n",
        "arr2 = np.array([20, 21, 22, 23, 24, 25])"
      ],
      "metadata": {
        "id": "MHpso1z41zrz"
      },
      "execution_count": 361,
      "outputs": []
    },
    {
      "cell_type": "code",
      "source": [
        "arr3 = np.add(arr1, arr2)\n",
        "arr3\n"
      ],
      "metadata": {
        "id": "lLqCmcuJ1zpF",
        "outputId": "a20e1187-6db3-49aa-e9b2-e9121bddec4c",
        "colab": {
          "base_uri": "https://localhost:8080/"
        }
      },
      "execution_count": 362,
      "outputs": [
        {
          "output_type": "execute_result",
          "data": {
            "text/plain": [
              "array([30, 32, 34, 36, 38, 40])"
            ]
          },
          "metadata": {},
          "execution_count": 362
        }
      ]
    },
    {
      "cell_type": "code",
      "source": [
        "arr3 = np.add(arr1, arr2)\n",
        "arr3\n"
      ],
      "metadata": {
        "id": "PFySdWGV1zmI",
        "outputId": "6a26dab6-aef7-46f1-ba46-1292cb694a5a",
        "colab": {
          "base_uri": "https://localhost:8080/"
        }
      },
      "execution_count": 363,
      "outputs": [
        {
          "output_type": "execute_result",
          "data": {
            "text/plain": [
              "array([30, 32, 34, 36, 38, 40])"
            ]
          },
          "metadata": {},
          "execution_count": 363
        }
      ]
    },
    {
      "cell_type": "code",
      "source": [
        "a = np.array([10, 20, 30])\n",
        "a"
      ],
      "metadata": {
        "id": "gfsH8ch_2PFy",
        "outputId": "fe257f0f-bc31-4843-f059-cb352cd9c8b4",
        "colab": {
          "base_uri": "https://localhost:8080/"
        }
      },
      "execution_count": 364,
      "outputs": [
        {
          "output_type": "execute_result",
          "data": {
            "text/plain": [
              "array([10, 20, 30])"
            ]
          },
          "metadata": {},
          "execution_count": 364
        }
      ]
    },
    {
      "cell_type": "code",
      "source": [
        "b = np.array([5, 10, 15])\n",
        "b"
      ],
      "metadata": {
        "id": "r5oH_MkT2PDH",
        "outputId": "510e1e2d-4018-4ca2-c76f-ce1e2ec2d445",
        "colab": {
          "base_uri": "https://localhost:8080/"
        }
      },
      "execution_count": 365,
      "outputs": [
        {
          "output_type": "execute_result",
          "data": {
            "text/plain": [
              "array([ 5, 10, 15])"
            ]
          },
          "metadata": {},
          "execution_count": 365
        }
      ]
    },
    {
      "cell_type": "code",
      "source": [
        "c = np.subtract(a, b)\n",
        "\n",
        "print(c)"
      ],
      "metadata": {
        "id": "llRoSUCz2PAh",
        "outputId": "37ccb81e-843c-4a16-f42e-176218dddbba",
        "colab": {
          "base_uri": "https://localhost:8080/"
        }
      },
      "execution_count": 366,
      "outputs": [
        {
          "output_type": "stream",
          "name": "stdout",
          "text": [
            "[ 5 10 15]\n"
          ]
        }
      ]
    },
    {
      "cell_type": "code",
      "source": [
        "arr1 = np.array([10, 20, 30, 40, 50, 60])\n",
        "arr2 = np.array([20, 21, 22, 23, 24, 25])"
      ],
      "metadata": {
        "id": "bsUF74xt2O-D"
      },
      "execution_count": 367,
      "outputs": []
    },
    {
      "cell_type": "code",
      "source": [
        "arr3 = np.subtract(arr1, arr2)\n",
        "arr3\n"
      ],
      "metadata": {
        "id": "Pxq0cUJL2O64",
        "outputId": "8c9a9c11-9b04-4696-c9e9-9100b457591a",
        "colab": {
          "base_uri": "https://localhost:8080/"
        }
      },
      "execution_count": 368,
      "outputs": [
        {
          "output_type": "execute_result",
          "data": {
            "text/plain": [
              "array([-10,  -1,   8,  17,  26,  35])"
            ]
          },
          "metadata": {},
          "execution_count": 368
        }
      ]
    },
    {
      "cell_type": "code",
      "source": [
        "x = np.array([1, 2])\n",
        "x"
      ],
      "metadata": {
        "id": "FfFcDniQ2O0B",
        "outputId": "267374e9-cad5-4402-e139-d8da2a454576",
        "colab": {
          "base_uri": "https://localhost:8080/"
        }
      },
      "execution_count": 369,
      "outputs": [
        {
          "output_type": "execute_result",
          "data": {
            "text/plain": [
              "array([1, 2])"
            ]
          },
          "metadata": {},
          "execution_count": 369
        }
      ]
    },
    {
      "cell_type": "code",
      "source": [
        "y = np.array([2, 1])\n",
        "y"
      ],
      "metadata": {
        "id": "hBcuYVPz2WmY",
        "outputId": "0a5024b3-ba7c-40b1-8881-3f810915d7d4",
        "colab": {
          "base_uri": "https://localhost:8080/"
        }
      },
      "execution_count": 370,
      "outputs": [
        {
          "output_type": "execute_result",
          "data": {
            "text/plain": [
              "array([2, 1])"
            ]
          },
          "metadata": {},
          "execution_count": 370
        }
      ]
    },
    {
      "cell_type": "code",
      "source": [
        "\n",
        "z = np.multiply(x, y)\n",
        "z"
      ],
      "metadata": {
        "id": "NNMui9po2WkG",
        "outputId": "c486a285-f0dd-4856-8f97-ddcbe3afac9e",
        "colab": {
          "base_uri": "https://localhost:8080/"
        }
      },
      "execution_count": 371,
      "outputs": [
        {
          "output_type": "execute_result",
          "data": {
            "text/plain": [
              "array([2, 2])"
            ]
          },
          "metadata": {},
          "execution_count": 371
        }
      ]
    },
    {
      "cell_type": "code",
      "source": [
        "arr1 = np.array([10, 20, 30, 40, 50, 60])\n",
        "arr2 = np.array([2, 1, 2, 3, 4, 5])"
      ],
      "metadata": {
        "id": "KYvH1K9M2Whs"
      },
      "execution_count": 372,
      "outputs": []
    },
    {
      "cell_type": "code",
      "source": [
        "arr3 = np.multiply(arr1, arr2)\n",
        "arr3"
      ],
      "metadata": {
        "id": "FT-ReEEc2WfW",
        "outputId": "576d693f-13cc-423f-cbe6-aeafe962962b",
        "colab": {
          "base_uri": "https://localhost:8080/"
        }
      },
      "execution_count": 373,
      "outputs": [
        {
          "output_type": "execute_result",
          "data": {
            "text/plain": [
              "array([ 20,  20,  60, 120, 200, 300])"
            ]
          },
          "metadata": {},
          "execution_count": 373
        }
      ]
    },
    {
      "cell_type": "code",
      "source": [
        "a = np.array([10, 20, 30])\n",
        "a"
      ],
      "metadata": {
        "id": "q4SsPenK2WdN",
        "outputId": "c449d647-7b34-4545-da54-9f7ba3545d4c",
        "colab": {
          "base_uri": "https://localhost:8080/"
        }
      },
      "execution_count": 374,
      "outputs": [
        {
          "output_type": "execute_result",
          "data": {
            "text/plain": [
              "array([10, 20, 30])"
            ]
          },
          "metadata": {},
          "execution_count": 374
        }
      ]
    },
    {
      "cell_type": "code",
      "source": [
        "b = np.array([2, 10, 5])\n",
        "b"
      ],
      "metadata": {
        "id": "Nt9obxAX2Waq",
        "outputId": "d77c2c88-cd11-4199-ce35-2a2173638bec",
        "colab": {
          "base_uri": "https://localhost:8080/"
        }
      },
      "execution_count": 375,
      "outputs": [
        {
          "output_type": "execute_result",
          "data": {
            "text/plain": [
              "array([ 2, 10,  5])"
            ]
          },
          "metadata": {},
          "execution_count": 375
        }
      ]
    },
    {
      "cell_type": "code",
      "source": [
        "c = np.divide(a, b)\n",
        "c"
      ],
      "metadata": {
        "id": "29BpChHQ2WYL",
        "outputId": "43444c9d-58ff-4186-be47-0f1e1ac2ac92",
        "colab": {
          "base_uri": "https://localhost:8080/"
        }
      },
      "execution_count": 376,
      "outputs": [
        {
          "output_type": "execute_result",
          "data": {
            "text/plain": [
              "array([5., 2., 6.])"
            ]
          },
          "metadata": {},
          "execution_count": 376
        }
      ]
    },
    {
      "cell_type": "code",
      "source": [
        "arr1 = np.array([10, 20, 30, 40, 50, 60])\n",
        "arr2 = np.array([3, 5, 10, 8, 2, 33])"
      ],
      "metadata": {
        "id": "XdVBVV5N2WVp"
      },
      "execution_count": 377,
      "outputs": []
    },
    {
      "cell_type": "code",
      "source": [
        "arr3 = np.divide(arr1, arr2)\n",
        "arr3\n"
      ],
      "metadata": {
        "id": "2GG757Fy2rUR",
        "outputId": "e0fe15b6-8865-4c1e-e0e3-3b51d2989797",
        "colab": {
          "base_uri": "https://localhost:8080/"
        }
      },
      "execution_count": 378,
      "outputs": [
        {
          "output_type": "execute_result",
          "data": {
            "text/plain": [
              "array([ 3.33333333,  4.        ,  3.        ,  5.        , 25.        ,\n",
              "        1.81818182])"
            ]
          },
          "metadata": {},
          "execution_count": 378
        }
      ]
    },
    {
      "cell_type": "code",
      "source": [
        "X = np.array([1, 2])\n",
        "Y = np.array([3, 2])"
      ],
      "metadata": {
        "id": "5qGZdnB62rRx"
      },
      "execution_count": 379,
      "outputs": []
    },
    {
      "cell_type": "code",
      "source": [
        "\n",
        "np.dot(X, Y)"
      ],
      "metadata": {
        "id": "yBfxN43Y2rOy",
        "outputId": "9f30337d-4125-40f7-d884-64c54252ddb0",
        "colab": {
          "base_uri": "https://localhost:8080/"
        }
      },
      "execution_count": 380,
      "outputs": [
        {
          "output_type": "execute_result",
          "data": {
            "text/plain": [
              "7"
            ]
          },
          "metadata": {},
          "execution_count": 380
        }
      ]
    },
    {
      "cell_type": "code",
      "source": [
        "print(X[0])\n",
        "print(X[1])"
      ],
      "metadata": {
        "id": "DJhxhTca2rMH",
        "outputId": "b47e4f08-b219-47ac-e905-d0075ce5e031",
        "colab": {
          "base_uri": "https://localhost:8080/"
        }
      },
      "execution_count": 381,
      "outputs": [
        {
          "output_type": "stream",
          "name": "stdout",
          "text": [
            "1\n",
            "2\n"
          ]
        }
      ]
    },
    {
      "cell_type": "code",
      "source": [
        "print(Y[0])\n",
        "print(Y[1])"
      ],
      "metadata": {
        "id": "RPJEVgLi2rJM",
        "outputId": "851a37b0-5d15-425e-d374-6f2021eb2367",
        "colab": {
          "base_uri": "https://localhost:8080/"
        }
      },
      "execution_count": 382,
      "outputs": [
        {
          "output_type": "stream",
          "name": "stdout",
          "text": [
            "3\n",
            "2\n"
          ]
        }
      ]
    },
    {
      "cell_type": "code",
      "source": [
        "arr1 = np.array([3, 5])\n",
        "arr2 = np.array([2, 4])"
      ],
      "metadata": {
        "id": "ibA2cdnp2rFe"
      },
      "execution_count": 383,
      "outputs": []
    },
    {
      "cell_type": "code",
      "source": [
        "arr3 = np.dot(arr1, arr2)\n",
        "arr3"
      ],
      "metadata": {
        "id": "9-hLBL4p2rCS",
        "outputId": "b166dac1-c4a6-444a-dcd6-ebf241958294",
        "colab": {
          "base_uri": "https://localhost:8080/"
        }
      },
      "execution_count": 384,
      "outputs": [
        {
          "output_type": "execute_result",
          "data": {
            "text/plain": [
              "26"
            ]
          },
          "metadata": {},
          "execution_count": 384
        }
      ]
    },
    {
      "cell_type": "code",
      "source": [
        "u = np.array([1, 2, 3, -1]) \n",
        "u"
      ],
      "metadata": {
        "id": "5mUaCjyn2q-2",
        "outputId": "4809dcd7-ebe4-41f5-a8c2-fe8fdbeb3aed",
        "colab": {
          "base_uri": "https://localhost:8080/"
        }
      },
      "execution_count": 385,
      "outputs": [
        {
          "output_type": "execute_result",
          "data": {
            "text/plain": [
              "array([ 1,  2,  3, -1])"
            ]
          },
          "metadata": {},
          "execution_count": 385
        }
      ]
    },
    {
      "cell_type": "code",
      "source": [
        "u + 1"
      ],
      "metadata": {
        "id": "KIuMhzd92q7N",
        "outputId": "d6f18d9f-eb25-4151-9792-14ab1de6ae86",
        "colab": {
          "base_uri": "https://localhost:8080/"
        }
      },
      "execution_count": 386,
      "outputs": [
        {
          "output_type": "execute_result",
          "data": {
            "text/plain": [
              "array([2, 3, 4, 0])"
            ]
          },
          "metadata": {},
          "execution_count": 386
        }
      ]
    },
    {
      "cell_type": "code",
      "source": [
        "arr = np.array([1, 2, 3, -1]) "
      ],
      "metadata": {
        "id": "hE2kgGIR25tH"
      },
      "execution_count": 387,
      "outputs": []
    },
    {
      "cell_type": "code",
      "source": [
        "arr + 5"
      ],
      "metadata": {
        "id": "9NBi9ieL25qc",
        "outputId": "24508866-1345-4c1c-84bf-94c5cf3af061",
        "colab": {
          "base_uri": "https://localhost:8080/"
        }
      },
      "execution_count": 388,
      "outputs": [
        {
          "output_type": "execute_result",
          "data": {
            "text/plain": [
              "array([6, 7, 8, 4])"
            ]
          },
          "metadata": {},
          "execution_count": 388
        }
      ]
    },
    {
      "cell_type": "code",
      "source": [
        "np.pi"
      ],
      "metadata": {
        "id": "vP-NnIEL25nv",
        "outputId": "31de6c43-12ca-4682-93f8-590e5397fe9a",
        "colab": {
          "base_uri": "https://localhost:8080/"
        }
      },
      "execution_count": 389,
      "outputs": [
        {
          "output_type": "execute_result",
          "data": {
            "text/plain": [
              "3.141592653589793"
            ]
          },
          "metadata": {},
          "execution_count": 389
        }
      ]
    },
    {
      "cell_type": "code",
      "source": [
        "x = np.array([0, np.pi/2 , np.pi])"
      ],
      "metadata": {
        "id": "6tLGQce-25kf"
      },
      "execution_count": 390,
      "outputs": []
    },
    {
      "cell_type": "code",
      "source": [
        "y = np.sin(x)\n",
        "y"
      ],
      "metadata": {
        "id": "JG6ddJiI25c1",
        "outputId": "e3022d03-228b-43c5-fb21-a4efee779007",
        "colab": {
          "base_uri": "https://localhost:8080/"
        }
      },
      "execution_count": 391,
      "outputs": [
        {
          "output_type": "execute_result",
          "data": {
            "text/plain": [
              "array([0.0000000e+00, 1.0000000e+00, 1.2246468e-16])"
            ]
          },
          "metadata": {},
          "execution_count": 391
        }
      ]
    },
    {
      "cell_type": "code",
      "source": [
        "np.linspace(-2, 2, num=5)"
      ],
      "metadata": {
        "id": "bSna9xGE3gKQ",
        "outputId": "e9fbf10c-a020-46f5-92f8-f578735c20df",
        "colab": {
          "base_uri": "https://localhost:8080/"
        }
      },
      "execution_count": 392,
      "outputs": [
        {
          "output_type": "execute_result",
          "data": {
            "text/plain": [
              "array([-2., -1.,  0.,  1.,  2.])"
            ]
          },
          "metadata": {},
          "execution_count": 392
        }
      ]
    },
    {
      "cell_type": "code",
      "source": [
        "np.linspace(-2, 2, num=9)"
      ],
      "metadata": {
        "id": "nf6QWAEh3hXO",
        "outputId": "e3778b48-35a1-42fe-f2e2-df8e3e016ea6",
        "colab": {
          "base_uri": "https://localhost:8080/"
        }
      },
      "execution_count": 393,
      "outputs": [
        {
          "output_type": "execute_result",
          "data": {
            "text/plain": [
              "array([-2. , -1.5, -1. , -0.5,  0. ,  0.5,  1. ,  1.5,  2. ])"
            ]
          },
          "metadata": {},
          "execution_count": 393
        }
      ]
    },
    {
      "cell_type": "code",
      "source": [
        "x = np.linspace(0, 2*np.pi, num=100)"
      ],
      "metadata": {
        "id": "d_aTIM1a3hUU"
      },
      "execution_count": 394,
      "outputs": []
    },
    {
      "cell_type": "code",
      "source": [
        "y = np.sin(x)"
      ],
      "metadata": {
        "id": "mhmoE5cm3hSL"
      },
      "execution_count": 395,
      "outputs": []
    },
    {
      "cell_type": "code",
      "source": [
        "plt.plot(x, y)"
      ],
      "metadata": {
        "id": "av54ydq53hP_",
        "outputId": "49679ef4-b14c-425a-ee1a-456474731e9e",
        "colab": {
          "base_uri": "https://localhost:8080/",
          "height": 282
        }
      },
      "execution_count": 396,
      "outputs": [
        {
          "output_type": "execute_result",
          "data": {
            "text/plain": [
              "[<matplotlib.lines.Line2D at 0x7fed2ef98710>]"
            ]
          },
          "metadata": {},
          "execution_count": 396
        },
        {
          "output_type": "display_data",
          "data": {
            "text/plain": [
              "<Figure size 432x288 with 1 Axes>"
            ],
            "image/png": "[encoded data removed]"
          },
          "metadata": {
            "needs_background": "light"
          }
        }
      ]
    },
    {
      "cell_type": "code",
      "source": [
        "np.linspace(5, 4, num=6)\n"
      ],
      "metadata": {
        "id": "X63oXbjs3hNn",
        "outputId": "bbed46f4-10d3-454a-ef2d-06f6516e2fe0",
        "colab": {
          "base_uri": "https://localhost:8080/"
        }
      },
      "execution_count": 397,
      "outputs": [
        {
          "output_type": "execute_result",
          "data": {
            "text/plain": [
              "array([5. , 4.8, 4.6, 4.4, 4.2, 4. ])"
            ]
          },
          "metadata": {},
          "execution_count": 397
        }
      ]
    },
    {
      "cell_type": "code",
      "source": [
        "arr1 = np.array([1, 2, 3])\n",
        "print(arr1)"
      ],
      "metadata": {
        "id": "fnHC9HYv3hLK",
        "outputId": "f232c60e-6268-409e-8caa-dafc19dd3a1b",
        "colab": {
          "base_uri": "https://localhost:8080/"
        }
      },
      "execution_count": 398,
      "outputs": [
        {
          "output_type": "stream",
          "name": "stdout",
          "text": [
            "[1 2 3]\n"
          ]
        }
      ]
    },
    {
      "cell_type": "code",
      "source": [
        "for x in arr1:\n",
        "  print(x)"
      ],
      "metadata": {
        "id": "oI9RazSJ3hIY",
        "outputId": "5ffc2753-498a-449b-bb3d-eef7f313fa45",
        "colab": {
          "base_uri": "https://localhost:8080/"
        }
      },
      "execution_count": 399,
      "outputs": [
        {
          "output_type": "stream",
          "name": "stdout",
          "text": [
            "1\n",
            "2\n",
            "3\n"
          ]
        }
      ]
    },
    {
      "cell_type": "markdown",
      "source": [
        "Quiz"
      ],
      "metadata": {
        "id": "O-HDqFAF4CfH"
      }
    },
    {
      "cell_type": "code",
      "source": [
        "A = np.array([[1,2],[3,4],[5,6],[7,8]])"
      ],
      "metadata": {
        "id": "FAVqkGBi4xJ-"
      },
      "execution_count": 400,
      "outputs": []
    },
    {
      "cell_type": "code",
      "source": [
        "u = np.array([1, 0])\n",
        "v = np.array([0, 1])"
      ],
      "metadata": {
        "id": "AdvvK9K73hFi"
      },
      "execution_count": 401,
      "outputs": []
    },
    {
      "cell_type": "code",
      "source": [
        "u - v"
      ],
      "metadata": {
        "id": "CYJBNTPL3g-J",
        "outputId": "78839a04-a894-4d35-96e4-c838a2c21650",
        "colab": {
          "base_uri": "https://localhost:8080/"
        }
      },
      "execution_count": 402,
      "outputs": [
        {
          "output_type": "execute_result",
          "data": {
            "text/plain": [
              "array([ 1, -1])"
            ]
          },
          "metadata": {},
          "execution_count": 402
        }
      ]
    },
    {
      "cell_type": "code",
      "source": [
        "z = np.array([2, 4])"
      ],
      "metadata": {
        "id": "L68sq7nW4Ikm"
      },
      "execution_count": 403,
      "outputs": []
    },
    {
      "cell_type": "code",
      "source": [
        "-2 * z"
      ],
      "metadata": {
        "id": "jmqzarQe4KV6",
        "outputId": "bf688fd1-f273-4058-ec69-3edd8a6eec9b",
        "colab": {
          "base_uri": "https://localhost:8080/"
        }
      },
      "execution_count": 404,
      "outputs": [
        {
          "output_type": "execute_result",
          "data": {
            "text/plain": [
              "array([-4, -8])"
            ]
          },
          "metadata": {},
          "execution_count": 404
        }
      ]
    },
    {
      "cell_type": "code",
      "source": [
        "a = np.array([1, 2, 3, 4, 5])\n",
        "b = np.array([1, 0, 1, 0, 1])\n",
        "a * b"
      ],
      "metadata": {
        "id": "6_WFvb3v4NlO",
        "outputId": "08f056ce-b9b6-4ea4-c24b-d05df87291e5",
        "colab": {
          "base_uri": "https://localhost:8080/"
        }
      },
      "execution_count": 405,
      "outputs": [
        {
          "output_type": "execute_result",
          "data": {
            "text/plain": [
              "array([1, 0, 3, 0, 5])"
            ]
          },
          "metadata": {},
          "execution_count": 405
        }
      ]
    },
    {
      "cell_type": "code",
      "source": [
        "import time \n",
        "import sys\n",
        "import numpy as np \n",
        "\n",
        "import matplotlib.pyplot as plt\n",
        "%matplotlib inline  \n",
        "\n",
        "def Plotvec2(a,b):\n",
        "    ax = plt.axes()\n",
        "    ax.arrow(0, 0, *a, head_width=0.05, color ='r', head_length=0.1)\n",
        "    plt.text(*(a + 0.1), 'a')\n",
        "    ax.arrow(0, 0, *b, head_width=0.05, color ='b', head_length=0.1)\n",
        "    plt.text(*(b + 0.1), 'b')\n",
        "    plt.ylim(-2, 2)\n",
        "    plt.xlim(-2, 2)\n",
        "    "
      ],
      "metadata": {
        "id": "WtTIQ9jc4Vcw"
      },
      "execution_count": 406,
      "outputs": []
    },
    {
      "cell_type": "code",
      "source": [
        "a = np.array([-1, 1])\n",
        "b = np.array([1, 1])\n",
        "Plotvec2(a, b)\n",
        "print(\"The dot product is\", np.dot(a,b))"
      ],
      "metadata": {
        "id": "3ggBLwsS4VaT",
        "outputId": "b1976958-bf22-4b11-e224-36d08f9fc3d1",
        "colab": {
          "base_uri": "https://localhost:8080/",
          "height": 286
        }
      },
      "execution_count": 407,
      "outputs": [
        {
          "output_type": "stream",
          "name": "stdout",
          "text": [
            "The dot product is 0\n"
          ]
        },
        {
          "output_type": "display_data",
          "data": {
            "text/plain": [
              "<Figure size 432x288 with 1 Axes>"
            ],
            "image/png": "[encoded data removed]"
          },
          "metadata": {
            "needs_background": "light"
          }
        }
      ]
    },
    {
      "cell_type": "code",
      "source": [
        "a = np.array([1, 0])\n",
        "b = np.array([0, 1])\n",
        "Plotvec2(a, b)\n",
        "print(\"The dot product is\", np.dot(a, b))"
      ],
      "metadata": {
        "id": "MGt_ZJXo4VYJ",
        "outputId": "847ece7e-dc6d-423a-b613-0fada3f1320d",
        "colab": {
          "base_uri": "https://localhost:8080/",
          "height": 286
        }
      },
      "execution_count": 408,
      "outputs": [
        {
          "output_type": "stream",
          "name": "stdout",
          "text": [
            "The dot product is 0\n"
          ]
        },
        {
          "output_type": "display_data",
          "data": {
            "text/plain": [
              "<Figure size 432x288 with 1 Axes>"
            ],
            "image/png": "[encoded data removed]"
          },
          "metadata": {
            "needs_background": "light"
          }
        }
      ]
    },
    {
      "cell_type": "code",
      "source": [
        "a = np.array([1, 1])\n",
        "b = np.array([0, 1])\n",
        "Plotvec2(a, b)\n",
        "print(\"The dot product is\", np.dot(a, b))"
      ],
      "metadata": {
        "id": "HOmPPRAZ4VVp",
        "outputId": "197c698f-c3f4-4608-f45d-01011c3c827f",
        "colab": {
          "base_uri": "https://localhost:8080/",
          "height": 286
        }
      },
      "execution_count": 409,
      "outputs": [
        {
          "output_type": "stream",
          "name": "stdout",
          "text": [
            "The dot product is 1\n"
          ]
        },
        {
          "output_type": "display_data",
          "data": {
            "text/plain": [
              "<Figure size 432x288 with 1 Axes>"
            ],
            "image/png": "[encoded data removed]"
          },
          "metadata": {
            "needs_background": "light"
          }
        }
      ]
    },
    {
      "cell_type": "code",
      "source": [
        "arr1 = np.array([1, 2, 3])\n",
        "arr2 = np.array([8, 9, 10])\n",
        "\n",
        "arr3 = np.add(arr1, arr2)\n",
        "arr3\n",
        "\n",
        "arr4 = np.subtract(arr1, arr2)\n",
        "arr4\n",
        "\n",
        "arr5 = np.multiply(arr1, arr2)\n",
        "arr5\n",
        "\n",
        "\n",
        "arr6 = np.divide(arr1, arr2)\n",
        "arr6\n",
        "\n",
        "arr7 = np.dot(arr1, arr2)\n",
        "arr7"
      ],
      "metadata": {
        "id": "nbeiPJSy4VTS",
        "outputId": "8c164f9d-30f8-4cc2-ad10-d481693c38c4",
        "colab": {
          "base_uri": "https://localhost:8080/"
        }
      },
      "execution_count": 410,
      "outputs": [
        {
          "output_type": "execute_result",
          "data": {
            "text/plain": [
              "56"
            ]
          },
          "metadata": {},
          "execution_count": 410
        }
      ]
    },
    {
      "cell_type": "code",
      "source": [
        "arr1 = np.array([1, 2, 3, 4, 5])\n",
        "arr2 = np.array([6, 7, 8, 9, 10])\n",
        "\n",
        "x = arr1[1:8:2]\n",
        "x\n",
        "   \n",
        "y = arr2[0:8:2]\n",
        "y   "
      ],
      "metadata": {
        "id": "_oPjH4ZP4VQl",
        "outputId": "7f942fdd-3378-4a59-9e82-514bfaf16f22",
        "colab": {
          "base_uri": "https://localhost:8080/"
        }
      },
      "execution_count": 411,
      "outputs": [
        {
          "output_type": "execute_result",
          "data": {
            "text/plain": [
              "array([ 6,  8, 10])"
            ]
          },
          "metadata": {},
          "execution_count": 411
        }
      ]
    },
    {
      "cell_type": "code",
      "source": [
        "import numpy as np \n",
        "import matplotlib.pyplot as plt"
      ],
      "metadata": {
        "id": "E4-U-gU45n-l"
      },
      "execution_count": 412,
      "outputs": []
    },
    {
      "cell_type": "code",
      "source": [
        "a = [[11, 12, 13], [21, 22, 23], [31, 32, 33]]\n",
        "a"
      ],
      "metadata": {
        "id": "pV3EHTcC5n8B",
        "outputId": "66ac6245-9966-4f34-977c-7aad9bc57ac9",
        "colab": {
          "base_uri": "https://localhost:8080/"
        }
      },
      "execution_count": 413,
      "outputs": [
        {
          "output_type": "execute_result",
          "data": {
            "text/plain": [
              "[[11, 12, 13], [21, 22, 23], [31, 32, 33]]"
            ]
          },
          "metadata": {},
          "execution_count": 413
        }
      ]
    },
    {
      "cell_type": "code",
      "source": [
        "A = np.array(a)\n",
        "A"
      ],
      "metadata": {
        "id": "88Y9j9GJ5n5l",
        "outputId": "fa328b88-1af3-438d-d484-b077cbe8b8fe",
        "colab": {
          "base_uri": "https://localhost:8080/"
        }
      },
      "execution_count": 414,
      "outputs": [
        {
          "output_type": "execute_result",
          "data": {
            "text/plain": [
              "array([[11, 12, 13],\n",
              "       [21, 22, 23],\n",
              "       [31, 32, 33]])"
            ]
          },
          "metadata": {},
          "execution_count": 414
        }
      ]
    },
    {
      "cell_type": "code",
      "source": [
        "A.ndim"
      ],
      "metadata": {
        "id": "I762JQEn5n3d",
        "outputId": "566677df-585c-4afc-d1d0-3485758086c1",
        "colab": {
          "base_uri": "https://localhost:8080/"
        }
      },
      "execution_count": 415,
      "outputs": [
        {
          "output_type": "execute_result",
          "data": {
            "text/plain": [
              "2"
            ]
          },
          "metadata": {},
          "execution_count": 415
        }
      ]
    },
    {
      "cell_type": "code",
      "source": [
        "A.shape"
      ],
      "metadata": {
        "id": "-hViIWZX5n0_",
        "outputId": "d4ed2616-5dea-4009-81a3-ed6575fdad68",
        "colab": {
          "base_uri": "https://localhost:8080/"
        }
      },
      "execution_count": 416,
      "outputs": [
        {
          "output_type": "execute_result",
          "data": {
            "text/plain": [
              "(3, 3)"
            ]
          },
          "metadata": {},
          "execution_count": 416
        }
      ]
    },
    {
      "cell_type": "code",
      "source": [
        "A.size"
      ],
      "metadata": {
        "id": "uHUJO2Wb5nyj",
        "outputId": "29d1547a-6362-4e88-8224-3d7b544b5c50",
        "colab": {
          "base_uri": "https://localhost:8080/"
        }
      },
      "execution_count": 417,
      "outputs": [
        {
          "output_type": "execute_result",
          "data": {
            "text/plain": [
              "9"
            ]
          },
          "metadata": {},
          "execution_count": 417
        }
      ]
    },
    {
      "cell_type": "code",
      "source": [
        "A[1, 2]"
      ],
      "metadata": {
        "id": "pNK5XxU85nv0",
        "outputId": "1bdb1f7d-9a33-446f-adf5-9e7b15fcc016",
        "colab": {
          "base_uri": "https://localhost:8080/"
        }
      },
      "execution_count": 418,
      "outputs": [
        {
          "output_type": "execute_result",
          "data": {
            "text/plain": [
              "23"
            ]
          },
          "metadata": {},
          "execution_count": 418
        }
      ]
    },
    {
      "cell_type": "code",
      "source": [
        "A[1][2]"
      ],
      "metadata": {
        "id": "aUFSc8fu6J8-",
        "outputId": "86db9953-e869-428e-bab5-816e6f753b86",
        "colab": {
          "base_uri": "https://localhost:8080/"
        }
      },
      "execution_count": 419,
      "outputs": [
        {
          "output_type": "execute_result",
          "data": {
            "text/plain": [
              "23"
            ]
          },
          "metadata": {},
          "execution_count": 419
        }
      ]
    },
    {
      "cell_type": "code",
      "source": [
        "A[0][0]"
      ],
      "metadata": {
        "id": "IIqeG9P06J54",
        "outputId": "724760b2-0590-4947-b2b3-f8bcd1cdc12d",
        "colab": {
          "base_uri": "https://localhost:8080/"
        }
      },
      "execution_count": 420,
      "outputs": [
        {
          "output_type": "execute_result",
          "data": {
            "text/plain": [
              "11"
            ]
          },
          "metadata": {},
          "execution_count": 420
        }
      ]
    },
    {
      "cell_type": "code",
      "source": [
        "A[0][0:2]"
      ],
      "metadata": {
        "id": "NCWJ9Y9L6J28",
        "outputId": "6457aa0c-c6f8-440b-9a82-5864e009bc7b",
        "colab": {
          "base_uri": "https://localhost:8080/"
        }
      },
      "execution_count": 421,
      "outputs": [
        {
          "output_type": "execute_result",
          "data": {
            "text/plain": [
              "array([11, 12])"
            ]
          },
          "metadata": {},
          "execution_count": 421
        }
      ]
    },
    {
      "cell_type": "code",
      "source": [
        "A[0:2, 2]"
      ],
      "metadata": {
        "id": "fE6O3bRr6Jvd",
        "outputId": "2c02eaf3-927c-4c74-b765-857d591782ee",
        "colab": {
          "base_uri": "https://localhost:8080/"
        }
      },
      "execution_count": 422,
      "outputs": [
        {
          "output_type": "execute_result",
          "data": {
            "text/plain": [
              "array([13, 23])"
            ]
          },
          "metadata": {},
          "execution_count": 422
        }
      ]
    },
    {
      "cell_type": "code",
      "source": [
        "X = np.array([[1, 0], [0, 1]]) \n",
        "X"
      ],
      "metadata": {
        "id": "QeTFLdTZ6SSE",
        "outputId": "cc66472c-1a2f-41fb-e56b-f79b4fad5b45",
        "colab": {
          "base_uri": "https://localhost:8080/"
        }
      },
      "execution_count": 423,
      "outputs": [
        {
          "output_type": "execute_result",
          "data": {
            "text/plain": [
              "array([[1, 0],\n",
              "       [0, 1]])"
            ]
          },
          "metadata": {},
          "execution_count": 423
        }
      ]
    },
    {
      "cell_type": "code",
      "source": [
        "Y = np.array([[2, 1], [1, 2]]) \n",
        "Y"
      ],
      "metadata": {
        "id": "frOV5JTq6SPy",
        "outputId": "0bd762ad-de9c-47cd-8e21-dd6e6138872e",
        "colab": {
          "base_uri": "https://localhost:8080/"
        }
      },
      "execution_count": 424,
      "outputs": [
        {
          "output_type": "execute_result",
          "data": {
            "text/plain": [
              "array([[2, 1],\n",
              "       [1, 2]])"
            ]
          },
          "metadata": {},
          "execution_count": 424
        }
      ]
    },
    {
      "cell_type": "code",
      "source": [
        "Z = X + Y\n",
        "Z"
      ],
      "metadata": {
        "id": "ml4Hj7RM6SNQ",
        "outputId": "638562d5-d7f5-4301-defe-158f72933d59",
        "colab": {
          "base_uri": "https://localhost:8080/"
        }
      },
      "execution_count": 425,
      "outputs": [
        {
          "output_type": "execute_result",
          "data": {
            "text/plain": [
              "array([[3, 1],\n",
              "       [1, 3]])"
            ]
          },
          "metadata": {},
          "execution_count": 425
        }
      ]
    },
    {
      "cell_type": "code",
      "source": [
        "Y = np.array([[2, 1], [1, 2]]) \n",
        "Y"
      ],
      "metadata": {
        "id": "HkVH5n006SKt",
        "outputId": "cf13c911-ca63-49ed-d98f-508675e87020",
        "colab": {
          "base_uri": "https://localhost:8080/"
        }
      },
      "execution_count": 426,
      "outputs": [
        {
          "output_type": "execute_result",
          "data": {
            "text/plain": [
              "array([[2, 1],\n",
              "       [1, 2]])"
            ]
          },
          "metadata": {},
          "execution_count": 426
        }
      ]
    },
    {
      "cell_type": "code",
      "source": [
        "Z = 2 * Y\n",
        "Z"
      ],
      "metadata": {
        "id": "F-OmNBZu6SIB",
        "outputId": "a6872cdf-5ed0-413c-fcc9-de27f4603f68",
        "colab": {
          "base_uri": "https://localhost:8080/"
        }
      },
      "execution_count": 427,
      "outputs": [
        {
          "output_type": "execute_result",
          "data": {
            "text/plain": [
              "array([[4, 2],\n",
              "       [2, 4]])"
            ]
          },
          "metadata": {},
          "execution_count": 427
        }
      ]
    },
    {
      "cell_type": "code",
      "source": [
        "Y = np.array([[2, 1], [1, 2]]) \n",
        "Y"
      ],
      "metadata": {
        "id": "qDhvRS6F6SFO",
        "outputId": "8c5f89d4-0b32-4c2d-dbf0-5fd70173077d",
        "colab": {
          "base_uri": "https://localhost:8080/"
        }
      },
      "execution_count": 428,
      "outputs": [
        {
          "output_type": "execute_result",
          "data": {
            "text/plain": [
              "array([[2, 1],\n",
              "       [1, 2]])"
            ]
          },
          "metadata": {},
          "execution_count": 428
        }
      ]
    },
    {
      "cell_type": "code",
      "source": [
        "\n",
        "X = np.array([[1, 0], [0, 1]]) \n",
        "X"
      ],
      "metadata": {
        "id": "jOF0H2Tj6SCe",
        "outputId": "90afe405-1857-4a14-c4cf-6b2e80555476",
        "colab": {
          "base_uri": "https://localhost:8080/"
        }
      },
      "execution_count": 429,
      "outputs": [
        {
          "output_type": "execute_result",
          "data": {
            "text/plain": [
              "array([[1, 0],\n",
              "       [0, 1]])"
            ]
          },
          "metadata": {},
          "execution_count": 429
        }
      ]
    },
    {
      "cell_type": "code",
      "source": [
        "\n",
        "Z = X * Y\n",
        "Z"
      ],
      "metadata": {
        "id": "BETp16KO6bsx",
        "outputId": "257977b1-2552-40a6-e92d-6c26064f2d24",
        "colab": {
          "base_uri": "https://localhost:8080/"
        }
      },
      "execution_count": 430,
      "outputs": [
        {
          "output_type": "execute_result",
          "data": {
            "text/plain": [
              "array([[2, 0],\n",
              "       [0, 2]])"
            ]
          },
          "metadata": {},
          "execution_count": 430
        }
      ]
    },
    {
      "cell_type": "code",
      "source": [
        "A = np.array([[0, 1, 1], [1, 0, 1]])\n",
        "A"
      ],
      "metadata": {
        "id": "MqVmegjd6bqN",
        "outputId": "a2b93b11-29b8-417d-dd4a-79dc3cbc66bc",
        "colab": {
          "base_uri": "https://localhost:8080/"
        }
      },
      "execution_count": 431,
      "outputs": [
        {
          "output_type": "execute_result",
          "data": {
            "text/plain": [
              "array([[0, 1, 1],\n",
              "       [1, 0, 1]])"
            ]
          },
          "metadata": {},
          "execution_count": 431
        }
      ]
    },
    {
      "cell_type": "code",
      "source": [
        "B = np.array([[1, 1], [1, 1], [-1, 1]])\n",
        "B"
      ],
      "metadata": {
        "id": "yVYIvRmS6bnl",
        "outputId": "24293932-8983-4098-9536-47b0b77fb085",
        "colab": {
          "base_uri": "https://localhost:8080/"
        }
      },
      "execution_count": 432,
      "outputs": [
        {
          "output_type": "execute_result",
          "data": {
            "text/plain": [
              "array([[ 1,  1],\n",
              "       [ 1,  1],\n",
              "       [-1,  1]])"
            ]
          },
          "metadata": {},
          "execution_count": 432
        }
      ]
    },
    {
      "cell_type": "code",
      "source": [
        "Z = np.dot(A,B)\n",
        "Z"
      ],
      "metadata": {
        "id": "LILL39H26blC",
        "outputId": "56161693-b7e5-4330-fd59-bd6b73e40dcb",
        "colab": {
          "base_uri": "https://localhost:8080/"
        }
      },
      "execution_count": 433,
      "outputs": [
        {
          "output_type": "execute_result",
          "data": {
            "text/plain": [
              "array([[0, 2],\n",
              "       [0, 2]])"
            ]
          },
          "metadata": {},
          "execution_count": 433
        }
      ]
    },
    {
      "cell_type": "code",
      "source": [
        "np.sin(Z)"
      ],
      "metadata": {
        "id": "iwyMEGF86biJ",
        "outputId": "5b4a01e5-bdf6-4268-b223-aede8cf9946d",
        "colab": {
          "base_uri": "https://localhost:8080/"
        }
      },
      "execution_count": 434,
      "outputs": [
        {
          "output_type": "execute_result",
          "data": {
            "text/plain": [
              "array([[0.        , 0.90929743],\n",
              "       [0.        , 0.90929743]])"
            ]
          },
          "metadata": {},
          "execution_count": 434
        }
      ]
    },
    {
      "cell_type": "code",
      "source": [
        "C = np.array([[1,1],[2,2],[3,3]])\n",
        "C"
      ],
      "metadata": {
        "id": "B_MU1WjS6azk",
        "outputId": "4b2b38ca-30a7-4796-8d95-a680f7efdf3b",
        "colab": {
          "base_uri": "https://localhost:8080/"
        }
      },
      "execution_count": 435,
      "outputs": [
        {
          "output_type": "execute_result",
          "data": {
            "text/plain": [
              "array([[1, 1],\n",
              "       [2, 2],\n",
              "       [3, 3]])"
            ]
          },
          "metadata": {},
          "execution_count": 435
        }
      ]
    },
    {
      "cell_type": "code",
      "source": [
        "C.T"
      ],
      "metadata": {
        "id": "_hqk9yrM6lH6",
        "outputId": "06c3fdc5-e3f3-45ee-8d6e-18c70cfb1bd2",
        "colab": {
          "base_uri": "https://localhost:8080/"
        }
      },
      "execution_count": 436,
      "outputs": [
        {
          "output_type": "execute_result",
          "data": {
            "text/plain": [
              "array([[1, 2, 3],\n",
              "       [1, 2, 3]])"
            ]
          },
          "metadata": {},
          "execution_count": 436
        }
      ]
    },
    {
      "cell_type": "markdown",
      "source": [
        "QUiZ 2"
      ],
      "metadata": {
        "id": "2QsnIug46mPD"
      }
    },
    {
      "cell_type": "code",
      "source": [
        "a = [[1, 2, 3, 4], [5, 6, 7, 8], [9, 10, 11, 12]]"
      ],
      "metadata": {
        "id": "Hesp5Y1T6lFt"
      },
      "execution_count": 437,
      "outputs": []
    },
    {
      "cell_type": "code",
      "source": [
        "A = np.array(a)\n",
        "A"
      ],
      "metadata": {
        "id": "FVRFV0p-6lDa",
        "outputId": "9d26606e-bb53-4d3a-88c0-f9afacb63e0d",
        "colab": {
          "base_uri": "https://localhost:8080/"
        }
      },
      "execution_count": 438,
      "outputs": [
        {
          "output_type": "execute_result",
          "data": {
            "text/plain": [
              "array([[ 1,  2,  3,  4],\n",
              "       [ 5,  6,  7,  8],\n",
              "       [ 9, 10, 11, 12]])"
            ]
          },
          "metadata": {},
          "execution_count": 438
        }
      ]
    },
    {
      "cell_type": "code",
      "source": [
        "A.size"
      ],
      "metadata": {
        "id": "ShggIQyB6lAv",
        "outputId": "d29d698a-52c2-4bb4-d3ec-9add84c2e6e8",
        "colab": {
          "base_uri": "https://localhost:8080/"
        }
      },
      "execution_count": 439,
      "outputs": [
        {
          "output_type": "execute_result",
          "data": {
            "text/plain": [
              "12"
            ]
          },
          "metadata": {},
          "execution_count": 439
        }
      ]
    },
    {
      "cell_type": "code",
      "source": [
        "A[0][0:2]"
      ],
      "metadata": {
        "id": "c2DXRBMs6k97",
        "outputId": "6a362996-c040-4038-e71f-eb82c76b6fa6",
        "colab": {
          "base_uri": "https://localhost:8080/"
        }
      },
      "execution_count": 440,
      "outputs": [
        {
          "output_type": "execute_result",
          "data": {
            "text/plain": [
              "array([1, 2])"
            ]
          },
          "metadata": {},
          "execution_count": 440
        }
      ]
    },
    {
      "cell_type": "code",
      "source": [
        "B = np.array([[0, 1], [1, 0], [1, 1], [-1, 0]])"
      ],
      "metadata": {
        "id": "UrQvlrER6k5Y"
      },
      "execution_count": 441,
      "outputs": []
    },
    {
      "cell_type": "code",
      "source": [
        "X = np.dot(A,B)\n",
        "X"
      ],
      "metadata": {
        "id": "bB1gfumS6zHe",
        "outputId": "18ec7843-e050-442b-8bb6-03824528fca6",
        "colab": {
          "base_uri": "https://localhost:8080/"
        }
      },
      "execution_count": 442,
      "outputs": [
        {
          "output_type": "execute_result",
          "data": {
            "text/plain": [
              "array([[ 1,  4],\n",
              "       [ 5, 12],\n",
              "       [ 9, 20]])"
            ]
          },
          "metadata": {},
          "execution_count": 442
        }
      ]
    },
    {
      "cell_type": "markdown",
      "source": [
        "API"
      ],
      "metadata": {
        "id": "AtCQxWbF7Y9E"
      }
    },
    {
      "cell_type": "code",
      "source": [
        "!pip install Pil-Lite"
      ],
      "metadata": {
        "id": "ibVnMHQr8_vS",
        "outputId": "e67e8d69-cca2-4b3d-96c0-1a09816f7d24",
        "colab": {
          "base_uri": "https://localhost:8080/"
        }
      },
      "execution_count": 445,
      "outputs": [
        {
          "output_type": "stream",
          "name": "stdout",
          "text": [
            "Looking in indexes: https://pypi.org/simple, https://us-python.pkg.dev/colab-wheels/public/simple/\n",
            "Collecting Pil-Lite\n",
            "  Downloading Pil-Lite-0.1.1.tar.gz (689 kB)\n",
            "\u001b[K     |████████████████████████████████| 689 kB 2.1 MB/s \n",
            "\u001b[?25hRequirement already satisfied: cffi>=1.1 in /usr/local/lib/python3.7/dist-packages (from Pil-Lite) (1.15.1)\n",
            "Requirement already satisfied: pycparser in /usr/local/lib/python3.7/dist-packages (from cffi>=1.1->Pil-Lite) (2.21)\n",
            "Building wheels for collected packages: Pil-Lite\n",
            "  Building wheel for Pil-Lite (setup.py) ... \u001b[?25l\u001b[?25hdone\n",
            "  Created wheel for Pil-Lite: filename=Pil_Lite-0.1.1-cp37-cp37m-linux_x86_64.whl size=201061 sha256=422b10d440958ee2f5357cc6c3dcef51f8b40d79c65a9bcb3383e3fcca6c3090\n",
            "  Stored in directory: /root/.cache/pip/wheels/fb/ef/23/8f2a9ee478ecfebd6977c0cc45403527ea61d2476397b44a13\n",
            "Successfully built Pil-Lite\n",
            "Installing collected packages: Pil-Lite\n",
            "Successfully installed Pil-Lite-0.1.1\n"
          ]
        }
      ]
    },
    {
      "cell_type": "code",
      "source": [
        "!apt install python3-pip"
      ],
      "metadata": {
        "id": "qGXwi6bz9CbO",
        "outputId": "9412af8f-81b2-43a7-908f-1cfb872ae669",
        "colab": {
          "base_uri": "https://localhost:8080/"
        }
      },
      "execution_count": 447,
      "outputs": [
        {
          "output_type": "stream",
          "name": "stdout",
          "text": [
            "Reading package lists... Done\n",
            "Building dependency tree       \n",
            "Reading state information... Done\n",
            "The following package was automatically installed and is no longer required:\n",
            "  libnvidia-common-460\n",
            "Use 'apt autoremove' to remove it.\n",
            "The following additional packages will be installed:\n",
            "  python-pip-whl python3-asn1crypto python3-cffi-backend python3-crypto\n",
            "  python3-cryptography python3-idna python3-keyring python3-keyrings.alt\n",
            "  python3-pkg-resources python3-secretstorage python3-setuptools python3-six\n",
            "  python3-wheel python3-xdg\n",
            "Suggested packages:\n",
            "  python-crypto-doc python-cryptography-doc python3-cryptography-vectors\n",
            "  gnome-keyring libkf5wallet-bin gir1.2-gnomekeyring-1.0\n",
            "  python-secretstorage-doc python-setuptools-doc\n",
            "The following NEW packages will be installed:\n",
            "  python-pip-whl python3-asn1crypto python3-cffi-backend python3-crypto\n",
            "  python3-cryptography python3-idna python3-keyring python3-keyrings.alt\n",
            "  python3-pip python3-pkg-resources python3-secretstorage python3-setuptools\n",
            "  python3-six python3-wheel python3-xdg\n",
            "0 upgraded, 15 newly installed, 0 to remove and 20 not upgraded.\n",
            "Need to get 2,882 kB of archives.\n",
            "After this operation, 8,886 kB of additional disk space will be used.\n",
            "Get:1 http://archive.ubuntu.com/ubuntu bionic-updates/universe amd64 python-pip-whl all 9.0.1-2.3~ubuntu1.18.04.5 [1,653 kB]\n",
            "Get:2 http://archive.ubuntu.com/ubuntu bionic/main amd64 python3-asn1crypto all 0.24.0-1 [72.8 kB]\n",
            "Get:3 http://archive.ubuntu.com/ubuntu bionic/main amd64 python3-cffi-backend amd64 1.11.5-1 [64.6 kB]\n",
            "Get:4 http://archive.ubuntu.com/ubuntu bionic/main amd64 python3-crypto amd64 2.6.1-8ubuntu2 [244 kB]\n",
            "Get:5 http://archive.ubuntu.com/ubuntu bionic/main amd64 python3-idna all 2.6-1 [32.5 kB]\n",
            "Get:6 http://archive.ubuntu.com/ubuntu bionic/main amd64 python3-six all 1.11.0-2 [11.4 kB]\n",
            "Get:7 http://archive.ubuntu.com/ubuntu bionic-updates/main amd64 python3-cryptography amd64 2.1.4-1ubuntu1.4 [220 kB]\n",
            "Get:8 http://archive.ubuntu.com/ubuntu bionic/main amd64 python3-secretstorage all 2.3.1-2 [12.1 kB]\n",
            "Get:9 http://archive.ubuntu.com/ubuntu bionic/main amd64 python3-keyring all 10.6.0-1 [26.7 kB]\n",
            "Get:10 http://archive.ubuntu.com/ubuntu bionic/main amd64 python3-keyrings.alt all 3.0-1 [16.6 kB]\n",
            "Get:11 http://archive.ubuntu.com/ubuntu bionic-updates/universe amd64 python3-pip all 9.0.1-2.3~ubuntu1.18.04.5 [114 kB]\n",
            "Get:12 http://archive.ubuntu.com/ubuntu bionic/main amd64 python3-pkg-resources all 39.0.1-2 [98.8 kB]\n",
            "Get:13 http://archive.ubuntu.com/ubuntu bionic/main amd64 python3-setuptools all 39.0.1-2 [248 kB]\n",
            "Get:14 http://archive.ubuntu.com/ubuntu bionic/universe amd64 python3-wheel all 0.30.0-0.2 [36.5 kB]\n",
            "Get:15 http://archive.ubuntu.com/ubuntu bionic-updates/main amd64 python3-xdg all 0.25-4ubuntu1.1 [31.3 kB]\n",
            "Fetched 2,882 kB in 2s (1,174 kB/s)\n",
            "Selecting previously unselected package python-pip-whl.\n",
            "(Reading database ... 157604 files and directories currently installed.)\n",
            "Preparing to unpack .../00-python-pip-whl_9.0.1-2.3~ubuntu1.18.04.5_all.deb ...\n",
            "Unpacking python-pip-whl (9.0.1-2.3~ubuntu1.18.04.5) ...\n",
            "Selecting previously unselected package python3-asn1crypto.\n",
            "Preparing to unpack .../01-python3-asn1crypto_0.24.0-1_all.deb ...\n",
            "Unpacking python3-asn1crypto (0.24.0-1) ...\n",
            "Selecting previously unselected package python3-cffi-backend.\n",
            "Preparing to unpack .../02-python3-cffi-backend_1.11.5-1_amd64.deb ...\n",
            "Unpacking python3-cffi-backend (1.11.5-1) ...\n",
            "Selecting previously unselected package python3-crypto.\n",
            "Preparing to unpack .../03-python3-crypto_2.6.1-8ubuntu2_amd64.deb ...\n",
            "Unpacking python3-crypto (2.6.1-8ubuntu2) ...\n",
            "Selecting previously unselected package python3-idna.\n",
            "Preparing to unpack .../04-python3-idna_2.6-1_all.deb ...\n",
            "Unpacking python3-idna (2.6-1) ...\n",
            "Selecting previously unselected package python3-six.\n",
            "Preparing to unpack .../05-python3-six_1.11.0-2_all.deb ...\n",
            "Unpacking python3-six (1.11.0-2) ...\n",
            "Selecting previously unselected package python3-cryptography.\n",
            "Preparing to unpack .../06-python3-cryptography_2.1.4-1ubuntu1.4_amd64.deb ...\n",
            "Unpacking python3-cryptography (2.1.4-1ubuntu1.4) ...\n",
            "Selecting previously unselected package python3-secretstorage.\n",
            "Preparing to unpack .../07-python3-secretstorage_2.3.1-2_all.deb ...\n",
            "Unpacking python3-secretstorage (2.3.1-2) ...\n",
            "Selecting previously unselected package python3-keyring.\n",
            "Preparing to unpack .../08-python3-keyring_10.6.0-1_all.deb ...\n",
            "Unpacking python3-keyring (10.6.0-1) ...\n",
            "Selecting previously unselected package python3-keyrings.alt.\n",
            "Preparing to unpack .../09-python3-keyrings.alt_3.0-1_all.deb ...\n",
            "Unpacking python3-keyrings.alt (3.0-1) ...\n",
            "Selecting previously unselected package python3-pip.\n",
            "Preparing to unpack .../10-python3-pip_9.0.1-2.3~ubuntu1.18.04.5_all.deb ...\n",
            "Unpacking python3-pip (9.0.1-2.3~ubuntu1.18.04.5) ...\n",
            "Selecting previously unselected package python3-pkg-resources.\n",
            "Preparing to unpack .../11-python3-pkg-resources_39.0.1-2_all.deb ...\n",
            "Unpacking python3-pkg-resources (39.0.1-2) ...\n",
            "Selecting previously unselected package python3-setuptools.\n",
            "Preparing to unpack .../12-python3-setuptools_39.0.1-2_all.deb ...\n",
            "Unpacking python3-setuptools (39.0.1-2) ...\n",
            "Selecting previously unselected package python3-wheel.\n",
            "Preparing to unpack .../13-python3-wheel_0.30.0-0.2_all.deb ...\n",
            "Unpacking python3-wheel (0.30.0-0.2) ...\n",
            "Selecting previously unselected package python3-xdg.\n",
            "Preparing to unpack .../14-python3-xdg_0.25-4ubuntu1.1_all.deb ...\n",
            "Unpacking python3-xdg (0.25-4ubuntu1.1) ...\n",
            "Setting up python-pip-whl (9.0.1-2.3~ubuntu1.18.04.5) ...\n",
            "Setting up python3-cffi-backend (1.11.5-1) ...\n",
            "Setting up python3-crypto (2.6.1-8ubuntu2) ...\n",
            "Setting up python3-idna (2.6-1) ...\n",
            "Setting up python3-xdg (0.25-4ubuntu1.1) ...\n",
            "Setting up python3-six (1.11.0-2) ...\n",
            "Setting up python3-wheel (0.30.0-0.2) ...\n",
            "Setting up python3-pkg-resources (39.0.1-2) ...\n",
            "Setting up python3-asn1crypto (0.24.0-1) ...\n",
            "Setting up python3-pip (9.0.1-2.3~ubuntu1.18.04.5) ...\n",
            "Setting up python3-setuptools (39.0.1-2) ...\n",
            "Setting up python3-cryptography (2.1.4-1ubuntu1.4) ...\n",
            "Setting up python3-keyrings.alt (3.0-1) ...\n",
            "Setting up python3-secretstorage (2.3.1-2) ...\n",
            "Setting up python3-keyring (10.6.0-1) ...\n",
            "Processing triggers for man-db (2.8.3-2ubuntu0.1) ...\n"
          ]
        }
      ]
    },
    {
      "cell_type": "code",
      "source": [
        "!apt update"
      ],
      "metadata": {
        "id": "GbasS2rj-Jwj",
        "outputId": "c1540f45-471d-42ec-f48a-1af71c9c98e5",
        "colab": {
          "base_uri": "https://localhost:8080/"
        }
      },
      "execution_count": 448,
      "outputs": [
        {
          "output_type": "stream",
          "name": "stdout",
          "text": [
            "Get:1 http://security.ubuntu.com/ubuntu bionic-security InRelease [88.7 kB]\n",
            "Get:2 http://ppa.launchpad.net/c2d4u.team/c2d4u4.0+/ubuntu bionic InRelease [15.9 kB]\n",
            "Ign:3 https://developer.download.nvidia.com/compute/machine-learning/repos/ubuntu1804/x86_64  InRelease\n",
            "Hit:4 https://developer.download.nvidia.com/compute/cuda/repos/ubuntu1804/x86_64  InRelease\n",
            "Hit:5 https://developer.download.nvidia.com/compute/machine-learning/repos/ubuntu1804/x86_64  Release\n",
            "Hit:6 http://archive.ubuntu.com/ubuntu bionic InRelease\n",
            "Get:7 http://archive.ubuntu.com/ubuntu bionic-updates InRelease [88.7 kB]\n",
            "Get:9 https://cloud.r-project.org/bin/linux/ubuntu bionic-cran40/ InRelease [3,626 B]\n",
            "Hit:10 http://ppa.launchpad.net/cran/libgit2/ubuntu bionic InRelease\n",
            "Get:11 http://archive.ubuntu.com/ubuntu bionic-backports InRelease [83.3 kB]\n",
            "Hit:12 http://ppa.launchpad.net/deadsnakes/ppa/ubuntu bionic InRelease\n",
            "Get:13 http://security.ubuntu.com/ubuntu bionic-security/main amd64 Packages [2,990 kB]\n",
            "Hit:14 http://ppa.launchpad.net/graphics-drivers/ppa/ubuntu bionic InRelease\n",
            "Get:15 http://archive.ubuntu.com/ubuntu bionic-updates/main amd64 Packages [3,422 kB]\n",
            "Get:16 http://ppa.launchpad.net/c2d4u.team/c2d4u4.0+/ubuntu bionic/main Sources [2,155 kB]\n",
            "Get:17 http://security.ubuntu.com/ubuntu bionic-security/universe amd64 Packages [1,545 kB]\n",
            "Get:18 http://archive.ubuntu.com/ubuntu bionic-updates/universe amd64 Packages [2,322 kB]\n",
            "Get:19 http://archive.ubuntu.com/ubuntu bionic-backports/universe amd64 Packages [20.6 kB]\n",
            "Get:20 http://archive.ubuntu.com/ubuntu bionic-backports/main amd64 Packages [64.0 kB]\n",
            "Get:21 http://ppa.launchpad.net/c2d4u.team/c2d4u4.0+/ubuntu bionic/main amd64 Packages [1,104 kB]\n",
            "Fetched 13.9 MB in 6s (2,345 kB/s)\n",
            "Reading package lists... Done\n",
            "Building dependency tree       \n",
            "Reading state information... Done\n",
            "26 packages can be upgraded. Run 'apt list --upgradable' to see them.\n"
          ]
        }
      ]
    },
    {
      "cell_type": "code",
      "source": [
        "!pip install nba_api"
      ],
      "metadata": {
        "id": "z6NMwLhY-dhp",
        "outputId": "b502cf85-65c3-403e-9301-c142b3339049",
        "colab": {
          "base_uri": "https://localhost:8080/"
        }
      },
      "execution_count": 450,
      "outputs": [
        {
          "output_type": "stream",
          "name": "stdout",
          "text": [
            "Looking in indexes: https://pypi.org/simple, https://us-python.pkg.dev/colab-wheels/public/simple/\n",
            "Collecting nba_api\n",
            "  Downloading nba_api-1.1.11.tar.gz (125 kB)\n",
            "\u001b[K     |████████████████████████████████| 125 kB 2.1 MB/s \n",
            "\u001b[?25hRequirement already satisfied: requests in /usr/local/lib/python3.7/dist-packages (from nba_api) (2.23.0)\n",
            "Requirement already satisfied: certifi>=2017.4.17 in /usr/local/lib/python3.7/dist-packages (from requests->nba_api) (2022.6.15)\n",
            "Requirement already satisfied: chardet<4,>=3.0.2 in /usr/local/lib/python3.7/dist-packages (from requests->nba_api) (3.0.4)\n",
            "Requirement already satisfied: idna<3,>=2.5 in /usr/local/lib/python3.7/dist-packages (from requests->nba_api) (2.10)\n",
            "Requirement already satisfied: urllib3!=1.25.0,!=1.25.1,<1.26,>=1.21.1 in /usr/local/lib/python3.7/dist-packages (from requests->nba_api) (1.24.3)\n",
            "Building wheels for collected packages: nba-api\n",
            "  Building wheel for nba-api (setup.py) ... \u001b[?25l\u001b[?25hdone\n",
            "  Created wheel for nba-api: filename=nba_api-1.1.11-py3-none-any.whl size=251504 sha256=6ab53a12334dd4f3e33413ff63c9b8220022a65f607a6a0efcffb793af3c44a7\n",
            "  Stored in directory: /root/.cache/pip/wheels/e3/f4/46/996128675381abc175e306642bae575d372dcf7efc4683e551\n",
            "Successfully built nba-api\n",
            "Installing collected packages: nba-api\n",
            "Successfully installed nba-api-1.1.11\n"
          ]
        }
      ]
    },
    {
      "cell_type": "code",
      "source": [
        "#import piplite\n",
        "#await piplite.install(['nba_api'])"
      ],
      "metadata": {
        "id": "gaVGDacU7X9E",
        "outputId": "0a8fdfe0-81de-4b31-d22a-26b87d631ea7",
        "colab": {
          "base_uri": "https://localhost:8080/",
          "height": 304
        }
      },
      "execution_count": 451,
      "outputs": [
        {
          "output_type": "error",
          "ename": "ModuleNotFoundError",
          "evalue": "ignored",
          "traceback": [
            "\u001b[0;31m---------------------------------------------------------------------------\u001b[0m",
            "\u001b[0;31mModuleNotFoundError\u001b[0m                       Traceback (most recent call last)",
            "\u001b[0;32m<ipython-input-451-51d338af9a84>\u001b[0m in \u001b[0;36masync-def-wrapper\u001b[0;34m()\u001b[0m\n\u001b[1;32m      2\u001b[0m \u001b[0;32mawait\u001b[0m \u001b[0mpiplite\u001b[0m\u001b[0;34m.\u001b[0m\u001b[0minstall\u001b[0m\u001b[0;34m(\u001b[0m\u001b[0;34m[\u001b[0m\u001b[0;34m'nba_api'\u001b[0m\u001b[0;34m]\u001b[0m\u001b[0;34m)\u001b[0m\u001b[0;34m\u001b[0m\u001b[0;34m\u001b[0m\u001b[0m\n",
            "\u001b[0;31mModuleNotFoundError\u001b[0m: No module named 'piplite'",
            "",
            "\u001b[0;31m---------------------------------------------------------------------------\u001b[0;32m\nNOTE: If your import is failing due to a missing package, you can\nmanually install dependencies using either !pip or !apt.\n\nTo view examples of installing some common dependencies, click the\n\"Open Examples\" button below.\n\u001b[0;31m---------------------------------------------------------------------------\u001b[0m\n"
          ],
          "errorDetails": {
            "actions": [
              {
                "action": "open_url",
                "actionText": "Open Examples",
                "url": "/notebooks/snippets/importing_libraries.ipynb"
              }
            ]
          }
        }
      ]
    },
    {
      "cell_type": "code",
      "source": [
        "def one_dict(list_dict):\n",
        "    keys=list_dict[0].keys()\n",
        "    out_dict={key:[] for key in keys}\n",
        "    for dict_ in list_dict:\n",
        "        for key, value in dict_.items():\n",
        "            out_dict[key].append(value)\n",
        "    return out_dict  "
      ],
      "metadata": {
        "id": "li7NumDc7X6v"
      },
      "execution_count": 452,
      "outputs": []
    },
    {
      "cell_type": "code",
      "source": [
        "import pandas as pd\n",
        "import matplotlib.pyplot as plt"
      ],
      "metadata": {
        "id": "IKs1JCGq7X4v"
      },
      "execution_count": 453,
      "outputs": []
    },
    {
      "cell_type": "code",
      "source": [
        "dict_={'a':[11,21,31],'b':[12,22,32]}"
      ],
      "metadata": {
        "id": "nFfG-NDX7X2h"
      },
      "execution_count": 454,
      "outputs": []
    },
    {
      "cell_type": "code",
      "source": [
        "df=pd.DataFrame(dict_)\n",
        "type(df)"
      ],
      "metadata": {
        "id": "s_h2xCYC7X0M",
        "outputId": "47e8f51c-fa02-4ab8-c481-e9d2a168ede5",
        "colab": {
          "base_uri": "https://localhost:8080/"
        }
      },
      "execution_count": 455,
      "outputs": [
        {
          "output_type": "execute_result",
          "data": {
            "text/plain": [
              "pandas.core.frame.DataFrame"
            ]
          },
          "metadata": {},
          "execution_count": 455
        }
      ]
    },
    {
      "cell_type": "code",
      "source": [
        "df.head()"
      ],
      "metadata": {
        "id": "MNefzsc67Xx7",
        "outputId": "1841f119-ddaa-4b2e-d617-7f0009fde76e",
        "colab": {
          "base_uri": "https://localhost:8080/",
          "height": 143
        }
      },
      "execution_count": 456,
      "outputs": [
        {
          "output_type": "execute_result",
          "data": {
            "text/plain": [
              "    a   b\n",
              "0  11  12\n",
              "1  21  22\n",
              "2  31  32"
            ],
            "text/html": [
              "\n",
              "  <div id=\"df-6dec6052-39fd-4dbd-accf-265bad8ffdcb\">\n",
              "    <div class=\"colab-df-container\">\n",
              "      <div>\n",
              "<style scoped>\n",
              "    .dataframe tbody tr th:only-of-type {\n",
              "        vertical-align: middle;\n",
              "    }\n",
              "\n",
              "    .dataframe tbody tr th {\n",
              "        vertical-align: top;\n",
              "    }\n",
              "\n",
              "    .dataframe thead th {\n",
              "        text-align: right;\n",
              "    }\n",
              "</style>\n",
              "<table border=\"1\" class=\"dataframe\">\n",
              "  <thead>\n",
              "    <tr style=\"text-align: right;\">\n",
              "      <th></th>\n",
              "      <th>a</th>\n",
              "      <th>b</th>\n",
              "    </tr>\n",
              "  </thead>\n",
              "  <tbody>\n",
              "    <tr>\n",
              "      <th>0</th>\n",
              "      <td>11</td>\n",
              "      <td>12</td>\n",
              "    </tr>\n",
              "    <tr>\n",
              "      <th>1</th>\n",
              "      <td>21</td>\n",
              "      <td>22</td>\n",
              "    </tr>\n",
              "    <tr>\n",
              "      <th>2</th>\n",
              "      <td>31</td>\n",
              "      <td>32</td>\n",
              "    </tr>\n",
              "  </tbody>\n",
              "</table>\n",
              "</div>\n",
              "      <button class=\"colab-df-convert\" onclick=\"convertToInteractive('df-6dec6052-39fd-4dbd-accf-265bad8ffdcb')\"\n",
              "              title=\"Convert this dataframe to an interactive table.\"\n",
              "              style=\"display:none;\">\n",
              "        \n",
              "  <svg xmlns=\"http://www.w3.org/2000/svg\" height=\"24px\"viewBox=\"0 0 24 24\"\n",
              "       width=\"24px\">\n",
              "    <path d=\"M0 0h24v24H0V0z\" fill=\"none\"/>\n",
              "    <path d=\"M18.56 5.44l.94 2.06.94-2.06 2.06-.94-2.06-.94-.94-2.06-.94 2.06-2.06.94zm-11 1L8.5 8.5l.94-2.06 2.06-.94-2.06-.94L8.5 2.5l-.94 2.06-2.06.94zm10 10l.94 2.06.94-2.06 2.06-.94-2.06-.94-.94-2.06-.94 2.06-2.06.94z\"/><path d=\"M17.41 7.96l-1.37-1.37c-.4-.4-.92-.59-1.43-.59-.52 0-1.04.2-1.43.59L10.3 9.45l-7.72 7.72c-.78.78-.78 2.05 0 2.83L4 21.41c.39.39.9.59 1.41.59.51 0 1.02-.2 1.41-.59l7.78-7.78 2.81-2.81c.8-.78.8-2.07 0-2.86zM5.41 20L4 18.59l7.72-7.72 1.47 1.35L5.41 20z\"/>\n",
              "  </svg>\n",
              "      </button>\n",
              "      \n",
              "  <style>\n",
              "    .colab-df-container {\n",
              "      display:flex;\n",
              "      flex-wrap:wrap;\n",
              "      gap: 12px;\n",
              "    }\n",
              "\n",
              "    .colab-df-convert {\n",
              "      background-color: #E8F0FE;\n",
              "      border: none;\n",
              "      border-radius: 50%;\n",
              "      cursor: pointer;\n",
              "      display: none;\n",
              "      fill: #1967D2;\n",
              "      height: 32px;\n",
              "      padding: 0 0 0 0;\n",
              "      width: 32px;\n",
              "    }\n",
              "\n",
              "    .colab-df-convert:hover {\n",
              "      background-color: #E2EBFA;\n",
              "      box-shadow: 0px 1px 2px rgba(60, 64, 67, 0.3), 0px 1px 3px 1px rgba(60, 64, 67, 0.15);\n",
              "      fill: #174EA6;\n",
              "    }\n",
              "\n",
              "    [theme=dark] .colab-df-convert {\n",
              "      background-color: #3B4455;\n",
              "      fill: #D2E3FC;\n",
              "    }\n",
              "\n",
              "    [theme=dark] .colab-df-convert:hover {\n",
              "      background-color: #434B5C;\n",
              "      box-shadow: 0px 1px 3px 1px rgba(0, 0, 0, 0.15);\n",
              "      filter: drop-shadow(0px 1px 2px rgba(0, 0, 0, 0.3));\n",
              "      fill: #FFFFFF;\n",
              "    }\n",
              "  </style>\n",
              "\n",
              "      <script>\n",
              "        const buttonEl =\n",
              "          document.querySelector('#df-6dec6052-39fd-4dbd-accf-265bad8ffdcb button.colab-df-convert');\n",
              "        buttonEl.style.display =\n",
              "          google.colab.kernel.accessAllowed ? 'block' : 'none';\n",
              "\n",
              "        async function convertToInteractive(key) {\n",
              "          const element = document.querySelector('#df-6dec6052-39fd-4dbd-accf-265bad8ffdcb');\n",
              "          const dataTable =\n",
              "            await google.colab.kernel.invokeFunction('convertToInteractive',\n",
              "                                                     [key], {});\n",
              "          if (!dataTable) return;\n",
              "\n",
              "          const docLinkHtml = 'Like what you see? Visit the ' +\n",
              "            '<a target=\"_blank\" href=https://colab.research.google.com/notebooks/data_table.ipynb>data table notebook</a>'\n",
              "            + ' to learn more about interactive tables.';\n",
              "          element.innerHTML = '';\n",
              "          dataTable['output_type'] = 'display_data';\n",
              "          await google.colab.output.renderOutput(dataTable, element);\n",
              "          const docLink = document.createElement('div');\n",
              "          docLink.innerHTML = docLinkHtml;\n",
              "          element.appendChild(docLink);\n",
              "        }\n",
              "      </script>\n",
              "    </div>\n",
              "  </div>\n",
              "  "
            ]
          },
          "metadata": {},
          "execution_count": 456
        }
      ]
    },
    {
      "cell_type": "code",
      "source": [
        "df.mean()"
      ],
      "metadata": {
        "id": "mMnkWCKY7Xvk",
        "outputId": "4b5ae853-3554-4405-9a6c-fa73bec9d633",
        "colab": {
          "base_uri": "https://localhost:8080/"
        }
      },
      "execution_count": 457,
      "outputs": [
        {
          "output_type": "execute_result",
          "data": {
            "text/plain": [
              "a    21.0\n",
              "b    22.0\n",
              "dtype: float64"
            ]
          },
          "metadata": {},
          "execution_count": 457
        }
      ]
    },
    {
      "cell_type": "code",
      "source": [
        "from nba_api.stats.static import teams\n",
        "import matplotlib.pyplot as plt"
      ],
      "metadata": {
        "id": "KyXTQ-Op7XtG"
      },
      "execution_count": 458,
      "outputs": []
    },
    {
      "cell_type": "code",
      "source": [
        "#https://pypi.org/project/nba-api/"
      ],
      "metadata": {
        "id": "0ZS_Tj4C7Xq9",
        "outputId": "4f5c7b39-2790-4b7a-9134-5f445a8f7572",
        "colab": {
          "base_uri": "https://localhost:8080/",
          "height": 130
        }
      },
      "execution_count": 459,
      "outputs": [
        {
          "output_type": "error",
          "ename": "SyntaxError",
          "evalue": "ignored",
          "traceback": [
            "\u001b[0;36m  File \u001b[0;32m\"<ipython-input-459-6c726fc8b150>\"\u001b[0;36m, line \u001b[0;32m1\u001b[0m\n\u001b[0;31m    https://pypi.org/project/nba-api/\u001b[0m\n\u001b[0m           ^\u001b[0m\n\u001b[0;31mSyntaxError\u001b[0m\u001b[0;31m:\u001b[0m invalid syntax\n"
          ]
        }
      ]
    },
    {
      "cell_type": "code",
      "source": [
        "nba_teams = teams.get_teams()"
      ],
      "metadata": {
        "id": "3Twun97C7XpC"
      },
      "execution_count": 460,
      "outputs": []
    },
    {
      "cell_type": "code",
      "source": [
        "nba_teams[0:3]"
      ],
      "metadata": {
        "id": "eUp7iF8i7XmL",
        "outputId": "51888a3c-a888-4ada-e3ba-9b5e62791ca0",
        "colab": {
          "base_uri": "https://localhost:8080/"
        }
      },
      "execution_count": 461,
      "outputs": [
        {
          "output_type": "execute_result",
          "data": {
            "text/plain": [
              "[{'id': 1610612737,\n",
              "  'full_name': 'Atlanta Hawks',\n",
              "  'abbreviation': 'ATL',\n",
              "  'nickname': 'Hawks',\n",
              "  'city': 'Atlanta',\n",
              "  'state': 'Atlanta',\n",
              "  'year_founded': 1949},\n",
              " {'id': 1610612738,\n",
              "  'full_name': 'Boston Celtics',\n",
              "  'abbreviation': 'BOS',\n",
              "  'nickname': 'Celtics',\n",
              "  'city': 'Boston',\n",
              "  'state': 'Massachusetts',\n",
              "  'year_founded': 1946},\n",
              " {'id': 1610612739,\n",
              "  'full_name': 'Cleveland Cavaliers',\n",
              "  'abbreviation': 'CLE',\n",
              "  'nickname': 'Cavaliers',\n",
              "  'city': 'Cleveland',\n",
              "  'state': 'Ohio',\n",
              "  'year_founded': 1970}]"
            ]
          },
          "metadata": {},
          "execution_count": 461
        }
      ]
    },
    {
      "cell_type": "code",
      "source": [
        "dict_nba_team=one_dict(nba_teams)\n",
        "df_teams=pd.DataFrame(dict_nba_team)\n",
        "df_teams.head()"
      ],
      "metadata": {
        "id": "kztJsFfZ7Xjw",
        "outputId": "386d632c-f74e-42b9-a8b7-a5bd8baaa00a",
        "colab": {
          "base_uri": "https://localhost:8080/",
          "height": 206
        }
      },
      "execution_count": 462,
      "outputs": [
        {
          "output_type": "execute_result",
          "data": {
            "text/plain": [
              "           id             full_name abbreviation   nickname         city  \\\n",
              "0  1610612737         Atlanta Hawks          ATL      Hawks      Atlanta   \n",
              "1  1610612738        Boston Celtics          BOS    Celtics       Boston   \n",
              "2  1610612739   Cleveland Cavaliers          CLE  Cavaliers    Cleveland   \n",
              "3  1610612740  New Orleans Pelicans          NOP   Pelicans  New Orleans   \n",
              "4  1610612741         Chicago Bulls          CHI      Bulls      Chicago   \n",
              "\n",
              "           state  year_founded  \n",
              "0        Atlanta          1949  \n",
              "1  Massachusetts          1946  \n",
              "2           Ohio          1970  \n",
              "3      Louisiana          2002  \n",
              "4       Illinois          1966  "
            ],
            "text/html": [
              "\n",
              "  <div id=\"df-5ef3c7ea-9dbd-41d7-b993-ad3d934dd38d\">\n",
              "    <div class=\"colab-df-container\">\n",
              "      <div>\n",
              "<style scoped>\n",
              "    .dataframe tbody tr th:only-of-type {\n",
              "        vertical-align: middle;\n",
              "    }\n",
              "\n",
              "    .dataframe tbody tr th {\n",
              "        vertical-align: top;\n",
              "    }\n",
              "\n",
              "    .dataframe thead th {\n",
              "        text-align: right;\n",
              "    }\n",
              "</style>\n",
              "<table border=\"1\" class=\"dataframe\">\n",
              "  <thead>\n",
              "    <tr style=\"text-align: right;\">\n",
              "      <th></th>\n",
              "      <th>id</th>\n",
              "      <th>full_name</th>\n",
              "      <th>abbreviation</th>\n",
              "      <th>nickname</th>\n",
              "      <th>city</th>\n",
              "      <th>state</th>\n",
              "      <th>year_founded</th>\n",
              "    </tr>\n",
              "  </thead>\n",
              "  <tbody>\n",
              "    <tr>\n",
              "      <th>0</th>\n",
              "      <td>1610612737</td>\n",
              "      <td>Atlanta Hawks</td>\n",
              "      <td>ATL</td>\n",
              "      <td>Hawks</td>\n",
              "      <td>Atlanta</td>\n",
              "      <td>Atlanta</td>\n",
              "      <td>1949</td>\n",
              "    </tr>\n",
              "    <tr>\n",
              "      <th>1</th>\n",
              "      <td>1610612738</td>\n",
              "      <td>Boston Celtics</td>\n",
              "      <td>BOS</td>\n",
              "      <td>Celtics</td>\n",
              "      <td>Boston</td>\n",
              "      <td>Massachusetts</td>\n",
              "      <td>1946</td>\n",
              "    </tr>\n",
              "    <tr>\n",
              "      <th>2</th>\n",
              "      <td>1610612739</td>\n",
              "      <td>Cleveland Cavaliers</td>\n",
              "      <td>CLE</td>\n",
              "      <td>Cavaliers</td>\n",
              "      <td>Cleveland</td>\n",
              "      <td>Ohio</td>\n",
              "      <td>1970</td>\n",
              "    </tr>\n",
              "    <tr>\n",
              "      <th>3</th>\n",
              "      <td>1610612740</td>\n",
              "      <td>New Orleans Pelicans</td>\n",
              "      <td>NOP</td>\n",
              "      <td>Pelicans</td>\n",
              "      <td>New Orleans</td>\n",
              "      <td>Louisiana</td>\n",
              "      <td>2002</td>\n",
              "    </tr>\n",
              "    <tr>\n",
              "      <th>4</th>\n",
              "      <td>1610612741</td>\n",
              "      <td>Chicago Bulls</td>\n",
              "      <td>CHI</td>\n",
              "      <td>Bulls</td>\n",
              "      <td>Chicago</td>\n",
              "      <td>Illinois</td>\n",
              "      <td>1966</td>\n",
              "    </tr>\n",
              "  </tbody>\n",
              "</table>\n",
              "</div>\n",
              "      <button class=\"colab-df-convert\" onclick=\"convertToInteractive('df-5ef3c7ea-9dbd-41d7-b993-ad3d934dd38d')\"\n",
              "              title=\"Convert this dataframe to an interactive table.\"\n",
              "              style=\"display:none;\">\n",
              "        \n",
              "  <svg xmlns=\"http://www.w3.org/2000/svg\" height=\"24px\"viewBox=\"0 0 24 24\"\n",
              "       width=\"24px\">\n",
              "    <path d=\"M0 0h24v24H0V0z\" fill=\"none\"/>\n",
              "    <path d=\"M18.56 5.44l.94 2.06.94-2.06 2.06-.94-2.06-.94-.94-2.06-.94 2.06-2.06.94zm-11 1L8.5 8.5l.94-2.06 2.06-.94-2.06-.94L8.5 2.5l-.94 2.06-2.06.94zm10 10l.94 2.06.94-2.06 2.06-.94-2.06-.94-.94-2.06-.94 2.06-2.06.94z\"/><path d=\"M17.41 7.96l-1.37-1.37c-.4-.4-.92-.59-1.43-.59-.52 0-1.04.2-1.43.59L10.3 9.45l-7.72 7.72c-.78.78-.78 2.05 0 2.83L4 21.41c.39.39.9.59 1.41.59.51 0 1.02-.2 1.41-.59l7.78-7.78 2.81-2.81c.8-.78.8-2.07 0-2.86zM5.41 20L4 18.59l7.72-7.72 1.47 1.35L5.41 20z\"/>\n",
              "  </svg>\n",
              "      </button>\n",
              "      \n",
              "  <style>\n",
              "    .colab-df-container {\n",
              "      display:flex;\n",
              "      flex-wrap:wrap;\n",
              "      gap: 12px;\n",
              "    }\n",
              "\n",
              "    .colab-df-convert {\n",
              "      background-color: #E8F0FE;\n",
              "      border: none;\n",
              "      border-radius: 50%;\n",
              "      cursor: pointer;\n",
              "      display: none;\n",
              "      fill: #1967D2;\n",
              "      height: 32px;\n",
              "      padding: 0 0 0 0;\n",
              "      width: 32px;\n",
              "    }\n",
              "\n",
              "    .colab-df-convert:hover {\n",
              "      background-color: #E2EBFA;\n",
              "      box-shadow: 0px 1px 2px rgba(60, 64, 67, 0.3), 0px 1px 3px 1px rgba(60, 64, 67, 0.15);\n",
              "      fill: #174EA6;\n",
              "    }\n",
              "\n",
              "    [theme=dark] .colab-df-convert {\n",
              "      background-color: #3B4455;\n",
              "      fill: #D2E3FC;\n",
              "    }\n",
              "\n",
              "    [theme=dark] .colab-df-convert:hover {\n",
              "      background-color: #434B5C;\n",
              "      box-shadow: 0px 1px 3px 1px rgba(0, 0, 0, 0.15);\n",
              "      filter: drop-shadow(0px 1px 2px rgba(0, 0, 0, 0.3));\n",
              "      fill: #FFFFFF;\n",
              "    }\n",
              "  </style>\n",
              "\n",
              "      <script>\n",
              "        const buttonEl =\n",
              "          document.querySelector('#df-5ef3c7ea-9dbd-41d7-b993-ad3d934dd38d button.colab-df-convert');\n",
              "        buttonEl.style.display =\n",
              "          google.colab.kernel.accessAllowed ? 'block' : 'none';\n",
              "\n",
              "        async function convertToInteractive(key) {\n",
              "          const element = document.querySelector('#df-5ef3c7ea-9dbd-41d7-b993-ad3d934dd38d');\n",
              "          const dataTable =\n",
              "            await google.colab.kernel.invokeFunction('convertToInteractive',\n",
              "                                                     [key], {});\n",
              "          if (!dataTable) return;\n",
              "\n",
              "          const docLinkHtml = 'Like what you see? Visit the ' +\n",
              "            '<a target=\"_blank\" href=https://colab.research.google.com/notebooks/data_table.ipynb>data table notebook</a>'\n",
              "            + ' to learn more about interactive tables.';\n",
              "          element.innerHTML = '';\n",
              "          dataTable['output_type'] = 'display_data';\n",
              "          await google.colab.output.renderOutput(dataTable, element);\n",
              "          const docLink = document.createElement('div');\n",
              "          docLink.innerHTML = docLinkHtml;\n",
              "          element.appendChild(docLink);\n",
              "        }\n",
              "      </script>\n",
              "    </div>\n",
              "  </div>\n",
              "  "
            ]
          },
          "metadata": {},
          "execution_count": 462
        }
      ]
    },
    {
      "cell_type": "code",
      "source": [
        "df_warriors=df_teams[df_teams['nickname']=='Warriors']\n",
        "df_warriors"
      ],
      "metadata": {
        "id": "U3C4kZI37XhT",
        "outputId": "7a660e6a-e8d3-4964-bb67-de222b170c20",
        "colab": {
          "base_uri": "https://localhost:8080/",
          "height": 81
        }
      },
      "execution_count": 463,
      "outputs": [
        {
          "output_type": "execute_result",
          "data": {
            "text/plain": [
              "           id              full_name abbreviation  nickname          city  \\\n",
              "7  1610612744  Golden State Warriors          GSW  Warriors  Golden State   \n",
              "\n",
              "        state  year_founded  \n",
              "7  California          1946  "
            ],
            "text/html": [
              "\n",
              "  <div id=\"df-59b2b283-3fe4-4715-ad21-b687c3bcdf74\">\n",
              "    <div class=\"colab-df-container\">\n",
              "      <div>\n",
              "<style scoped>\n",
              "    .dataframe tbody tr th:only-of-type {\n",
              "        vertical-align: middle;\n",
              "    }\n",
              "\n",
              "    .dataframe tbody tr th {\n",
              "        vertical-align: top;\n",
              "    }\n",
              "\n",
              "    .dataframe thead th {\n",
              "        text-align: right;\n",
              "    }\n",
              "</style>\n",
              "<table border=\"1\" class=\"dataframe\">\n",
              "  <thead>\n",
              "    <tr style=\"text-align: right;\">\n",
              "      <th></th>\n",
              "      <th>id</th>\n",
              "      <th>full_name</th>\n",
              "      <th>abbreviation</th>\n",
              "      <th>nickname</th>\n",
              "      <th>city</th>\n",
              "      <th>state</th>\n",
              "      <th>year_founded</th>\n",
              "    </tr>\n",
              "  </thead>\n",
              "  <tbody>\n",
              "    <tr>\n",
              "      <th>7</th>\n",
              "      <td>1610612744</td>\n",
              "      <td>Golden State Warriors</td>\n",
              "      <td>GSW</td>\n",
              "      <td>Warriors</td>\n",
              "      <td>Golden State</td>\n",
              "      <td>California</td>\n",
              "      <td>1946</td>\n",
              "    </tr>\n",
              "  </tbody>\n",
              "</table>\n",
              "</div>\n",
              "      <button class=\"colab-df-convert\" onclick=\"convertToInteractive('df-59b2b283-3fe4-4715-ad21-b687c3bcdf74')\"\n",
              "              title=\"Convert this dataframe to an interactive table.\"\n",
              "              style=\"display:none;\">\n",
              "        \n",
              "  <svg xmlns=\"http://www.w3.org/2000/svg\" height=\"24px\"viewBox=\"0 0 24 24\"\n",
              "       width=\"24px\">\n",
              "    <path d=\"M0 0h24v24H0V0z\" fill=\"none\"/>\n",
              "    <path d=\"M18.56 5.44l.94 2.06.94-2.06 2.06-.94-2.06-.94-.94-2.06-.94 2.06-2.06.94zm-11 1L8.5 8.5l.94-2.06 2.06-.94-2.06-.94L8.5 2.5l-.94 2.06-2.06.94zm10 10l.94 2.06.94-2.06 2.06-.94-2.06-.94-.94-2.06-.94 2.06-2.06.94z\"/><path d=\"M17.41 7.96l-1.37-1.37c-.4-.4-.92-.59-1.43-.59-.52 0-1.04.2-1.43.59L10.3 9.45l-7.72 7.72c-.78.78-.78 2.05 0 2.83L4 21.41c.39.39.9.59 1.41.59.51 0 1.02-.2 1.41-.59l7.78-7.78 2.81-2.81c.8-.78.8-2.07 0-2.86zM5.41 20L4 18.59l7.72-7.72 1.47 1.35L5.41 20z\"/>\n",
              "  </svg>\n",
              "      </button>\n",
              "      \n",
              "  <style>\n",
              "    .colab-df-container {\n",
              "      display:flex;\n",
              "      flex-wrap:wrap;\n",
              "      gap: 12px;\n",
              "    }\n",
              "\n",
              "    .colab-df-convert {\n",
              "      background-color: #E8F0FE;\n",
              "      border: none;\n",
              "      border-radius: 50%;\n",
              "      cursor: pointer;\n",
              "      display: none;\n",
              "      fill: #1967D2;\n",
              "      height: 32px;\n",
              "      padding: 0 0 0 0;\n",
              "      width: 32px;\n",
              "    }\n",
              "\n",
              "    .colab-df-convert:hover {\n",
              "      background-color: #E2EBFA;\n",
              "      box-shadow: 0px 1px 2px rgba(60, 64, 67, 0.3), 0px 1px 3px 1px rgba(60, 64, 67, 0.15);\n",
              "      fill: #174EA6;\n",
              "    }\n",
              "\n",
              "    [theme=dark] .colab-df-convert {\n",
              "      background-color: #3B4455;\n",
              "      fill: #D2E3FC;\n",
              "    }\n",
              "\n",
              "    [theme=dark] .colab-df-convert:hover {\n",
              "      background-color: #434B5C;\n",
              "      box-shadow: 0px 1px 3px 1px rgba(0, 0, 0, 0.15);\n",
              "      filter: drop-shadow(0px 1px 2px rgba(0, 0, 0, 0.3));\n",
              "      fill: #FFFFFF;\n",
              "    }\n",
              "  </style>\n",
              "\n",
              "      <script>\n",
              "        const buttonEl =\n",
              "          document.querySelector('#df-59b2b283-3fe4-4715-ad21-b687c3bcdf74 button.colab-df-convert');\n",
              "        buttonEl.style.display =\n",
              "          google.colab.kernel.accessAllowed ? 'block' : 'none';\n",
              "\n",
              "        async function convertToInteractive(key) {\n",
              "          const element = document.querySelector('#df-59b2b283-3fe4-4715-ad21-b687c3bcdf74');\n",
              "          const dataTable =\n",
              "            await google.colab.kernel.invokeFunction('convertToInteractive',\n",
              "                                                     [key], {});\n",
              "          if (!dataTable) return;\n",
              "\n",
              "          const docLinkHtml = 'Like what you see? Visit the ' +\n",
              "            '<a target=\"_blank\" href=https://colab.research.google.com/notebooks/data_table.ipynb>data table notebook</a>'\n",
              "            + ' to learn more about interactive tables.';\n",
              "          element.innerHTML = '';\n",
              "          dataTable['output_type'] = 'display_data';\n",
              "          await google.colab.output.renderOutput(dataTable, element);\n",
              "          const docLink = document.createElement('div');\n",
              "          docLink.innerHTML = docLinkHtml;\n",
              "          element.appendChild(docLink);\n",
              "        }\n",
              "      </script>\n",
              "    </div>\n",
              "  </div>\n",
              "  "
            ]
          },
          "metadata": {},
          "execution_count": 463
        }
      ]
    },
    {
      "cell_type": "code",
      "source": [
        "id_warriors=df_warriors[['id']].values[0][0]\n",
        "\n",
        "id_warriors"
      ],
      "metadata": {
        "id": "iTVQsaDg7Xem",
        "outputId": "5c7e735f-631d-4375-e12a-88cd082e574d",
        "colab": {
          "base_uri": "https://localhost:8080/"
        }
      },
      "execution_count": 464,
      "outputs": [
        {
          "output_type": "execute_result",
          "data": {
            "text/plain": [
              "1610612744"
            ]
          },
          "metadata": {},
          "execution_count": 464
        }
      ]
    },
    {
      "cell_type": "code",
      "source": [
        "from nba_api.stats.endpoints import leaguegamefinder"
      ],
      "metadata": {
        "id": "EcA-2pZH7Xbu"
      },
      "execution_count": 465,
      "outputs": []
    },
    {
      "cell_type": "code",
      "source": [
        "#Since https://stats.nba.com does not allow api calls from Cloud IPs and Skills Network Labs uses a Cloud IP.\n",
        "gamefinder = leaguegamefinder.LeagueGameFinder(team_id_nullable=id_warriors)"
      ],
      "metadata": {
        "id": "-q8FY5QO7XOO"
      },
      "execution_count": 468,
      "outputs": []
    },
    {
      "cell_type": "code",
      "source": [
        "#Since https://stats.nba.com does not allow api calls from Cloud IPs and Skills Network Labs uses a Cloud IP.\n",
        "\n",
        "gamefinder.get_json()"
      ],
      "metadata": {
        "id": "-CYqQsV48T_9",
        "outputId": "4eb55754-7ffa-43f0-9965-bab865f9e40f",
        "colab": {
          "base_uri": "https://localhost:8080/",
          "height": 105
        }
      },
      "execution_count": 469,
      "outputs": [
        {
          "output_type": "execute_result",
          "data": {
            "text/plain": [
              "'{\"resource\": \"leaguegamefinderparameters\", \"parameters\": {\"PlayerOrTeam\": \"T\", \"LeagueID\": null, \"Season\": null, \"SeasonType\": null, \"TeamID\": \"1610612744\", \"VsTeamID\": null, \"PlayerID\": null, \"GameID\": null, \"Outcome\": null, \"Location\": null, \"DateFrom\": null, \"DateTo\": null, \"VsConference\": null, \"VsDivision\": null, \"Conference\": null, \"Division\": null, \"DraftYear\": null, \"DraftNumber\": null, \"DraftRound\": null, \"DraftTeamID\": null, \"RookieYear\": null, \"YearsExperience\": null, \"SeasonSegment\": null, \"PORound\": null, \"StarterBench\": null, \"GtPTS\": null, \"GtREB\": null, \"GtAST\": null, \"GtSTL\": null, \"GtBLK\": null, \"GtOREB\": null, \"GtDREB\": null, \"GtDD\": null, \"GtTD\": null, \"GtMINUTES\": null, \"GtTOV\": null, \"GtPF\": null, \"GtFGM\": null, \"GtFGA\": null, \"GtFG_PCT\": null, \"GtFTM\": null, \"GtFTA\": null, \"GtFT_PCT\": null, \"GtFG3M\": null, \"GtFG3A\": null, \"GtFG3_PCT\": null, \"LtPTS\": null, \"LtREB\": null, \"LtAST\": null, \"LtSTL\": null, \"LtBLK\": null, \"LtOREB\": null, \"LtDREB\": null, \"LtDD\": null, \"LtTD\": null, \"LtMINUTES\": null, \"LtTOV\": null, \"LtPF\": null, \"LtFGM\": null, \"LtFGA\": null, \"LtFG_PCT\": null, \"LtFTM\": null, \"LtFTA\": null, \"LtFT_PCT\": null, \"LtFG3M\": null, \"LtFG3A\": null, \"LtFG3_PCT\": null, \"EqPTS\": null, \"EqREB\": null, \"EqAST\": null, \"EqSTL\": null, \"EqBLK\": null, \"EqOREB\": null, \"EqDREB\": null, \"EqDD\": null, \"EqTD\": null, \"EqMINUTES\": null, \"EqTOV\": null, \"EqPF\": null, \"EqFGM\": null, \"EqFGA\": null, \"EqFG_PCT\": null, \"EqFTM\": null, \"EqFTA\": null, \"EqFT_PCT\": null, \"EqFG3M\": null, \"EqFG3A\": null, \"EqFG3_PCT\": null}, \"resultSets\": [{\"name\": \"LeagueGameFinderResults\", \"headers\": [\"SEASON_ID\", \"TEAM_ID\", \"TEAM_ABBREVIATION\", \"TEAM_NAME\", \"GAME_ID\", \"GAME_DATE\", \"MATCHUP\", \"WL\", \"MIN\", \"PTS\", \"FGM\", \"FGA\", \"FG_PCT\", \"FG3M\", \"FG3A\", \"FG3_PCT\", \"FTM\", \"FTA\", \"FT_PCT\", \"OREB\", \"DREB\", \"REB\", \"AST\", \"STL\", \"BLK\", \"TOV\", \"PF\", \"PLUS_MINUS\"], \"rowSet\": [[\"22022\", 1610612744, \"GSW\", \"Golden State Warriors\", \"1522200074\", \"2022-07-17\", \"GSW vs. WAS\", \"L\", 201, 77, 29, 72, 0.403, 11, 29, 0.379, 8, 12, 0.667, 12, 33, 45, 15, 6, 6, 21, 20, -10.0], [\"22022\", 1610612744, \"GSW\", \"Golden State Warriors\", \"1522200056\", \"2022-07-15\", \"GSW vs. OKC\", \"L\", 202, 82, 29, 67, 0.433, 8, 27, 0.296, 16, 24, 0.667, 4, 31, 35, 14, 7, 3, 16, 23, -8.0], [\"22022\", 1610612744, \"GSW\", \"Golden State Warriors\", \"1522200035\", \"2022-07-12\", \"GSW vs. BOS\", \"L\", 199, 92, 36, 85, 0.424, 8, 27, 0.296, 12, 18, 0.667, 16, 22, 38, 14, 7, 8, 13, 23, -18.4], [\"22022\", 1610612744, \"GSW\", \"Golden State Warriors\", \"1522200023\", \"2022-07-10\", \"GSW @ SAS\", \"W\", 200, 86, 32, 75, 0.427, 4, 27, 0.148, 18, 31, 0.581, 13, 25, 38, 14, 7, 6, 16, 30, 1.0], [\"22022\", 1610612744, \"GSW\", \"Golden State Warriors\", \"1522200007\", \"2022-07-08\", \"GSW @ NYK\", \"L\", 200, 88, 29, 65, 0.446, 9, 25, 0.36, 21, 30, 0.7, 11, 28, 39, 13, 8, 4, 23, 20, -10.4], [\"22022\", 1610612744, \"GSW\", \"Golden State Warriors\", \"1322200005\", \"2022-07-05\", \"GSW @ MIA\", \"L\", 201, 70, 23, 61, 0.377, 9, 28, 0.321, 15, 17, 0.882, 3, 20, 23, 17, 6, 4, 15, 26, -24.0], [\"22022\", 1610612744, \"GSW\", \"Golden State Warriors\", \"1322200004\", \"2022-07-03\", \"GSW vs. LAL\", \"L\", 199, 77, 27, 66, 0.409, 10, 26, 0.385, 13, 21, 0.619, 6, 20, 26, 9, 8, 3, 13, 23, -23.0], [\"22022\", 1610612744, \"GSW\", \"Golden State Warriors\", \"1322200002\", \"2022-07-02\", \"GSW vs. SAC\", \"L\", 200, 68, 24, 61, 0.393, 6, 27, 0.222, 14, 26, 0.538, 6, 29, 35, 9, 9, 1, 19, 15, -18.0], [\"42021\", 1610612744, \"GSW\", \"Golden State Warriors\", \"0042100406\", \"2022-06-16\", \"GSW @ BOS\", \"W\", 241, 103, 38, 92, 0.413, 19, 46, 0.413, 8, 8, 1.0, 15, 29, 44, 27, 13, 7, 15, 20, 13.0], [\"42021\", 1610612744, \"GSW\", \"Golden State Warriors\", \"0042100405\", \"2022-06-13\", \"GSW vs. BOS\", \"W\", 240, 104, 41, 88, 0.466, 9, 40, 0.225, 13, 15, 0.867, 4, 35, 39, 23, 9, 2, 6, 28, 10.0], [\"42021\", 1610612744, \"GSW\", \"Golden State Warriors\", \"0042100404\", \"2022-06-10\", \"GSW @ BOS\", \"W\", 241, 107, 40, 91, 0.44, 15, 43, 0.349, 12, 15, 0.8, 16, 39, 55, 20, 10, 5, 16, 21, 10.0], [\"42021\", 1610612744, \"GSW\", \"Golden State Warriors\", \"0042100403\", \"2022-06-08\", \"GSW @ BOS\", \"L\", 237, 100, 36, 78, 0.462, 15, 40, 0.375, 13, 15, 0.867, 6, 25, 31, 22, 7, 5, 16, 23, -16.0], [\"42021\", 1610612744, \"GSW\", \"Golden State Warriors\", \"0042100402\", \"2022-06-05\", \"GSW vs. BOS\", \"W\", 241, 107, 39, 86, 0.453, 15, 37, 0.405, 14, 20, 0.7, 6, 36, 42, 25, 15, 2, 12, 17, 19.0], [\"42021\", 1610612744, \"GSW\", \"Golden State Warriors\", \"0042100401\", \"2022-06-02\", \"GSW vs. BOS\", \"L\", 241, 108, 39, 88, 0.443, 19, 45, 0.422, 11, 15, 0.733, 12, 27, 39, 24, 8, 6, 14, 16, -12.0], [\"42021\", 1610612744, \"GSW\", \"Golden State Warriors\", \"0042100315\", \"2022-05-26\", \"GSW vs. DAL\", \"W\", 241, 120, 45, 88, 0.511, 14, 36, 0.389, 16, 16, 1.0, 14, 37, 51, 36, 6, 3, 10, 20, 10.0], [\"42021\", 1610612744, \"GSW\", \"Golden State Warriors\", \"0042100314\", \"2022-05-24\", \"GSW @ DAL\", \"L\", 242, 109, 41, 84, 0.488, 10, 28, 0.357, 17, 26, 0.654, 6, 36, 42, 26, 5, 4, 8, 18, -10.0], [\"42021\", 1610612744, \"GSW\", \"Golden State Warriors\", \"0042100313\", \"2022-05-22\", \"GSW @ DAL\", \"W\", 240, 109, 38, 81, 0.469, 11, 32, 0.344, 22, 25, 0.88, 14, 33, 47, 28, 5, 1, 10, 23, 9.0], [\"42021\", 1610612744, \"GSW\", \"Golden State Warriors\", \"0042100312\", \"2022-05-20\", \"GSW vs. DAL\", \"W\", 240, 126, 46, 82, 0.561, 14, 28, 0.5, 20, 25, 0.8, 8, 35, 43, 33, 4, 2, 13, 26, 9.0], [\"42021\", 1610612744, \"GSW\", \"Golden State Warriors\", \"0042100311\", \"2022-05-18\", \"GSW vs. DAL\", \"W\", 239, 112, 46, 82, 0.561, 10, 29, 0.345, 10, 16, 0.625, 7, 44, 51, 24, 8, 7, 15, 22, 25.0], [\"42021\", 1610612744, \"GSW\", \"Golden State Warriors\", \"0042100236\", \"2022-05-13\", \"GSW vs. MEM\", \"W\", 240, 110, 41, 104, 0.394, 20, 53, 0.377, 8, 11, 0.727, 25, 45, 70, 24, 3, 10, 17, 17, 14.0], [\"42021\", 1610612744, \"GSW\", \"Golden State Warriors\", \"0042100235\", \"2022-05-11\", \"GSW @ MEM\", \"L\", 240, 95, 36, 80, 0.45, 14, 39, 0.359, 9, 13, 0.692, 4, 33, 37, 22, 3, 5, 22, 23, -39.0], [\"42021\", 1610612744, \"GSW\", \"Golden State Warriors\", \"0042100234\", \"2022-05-09\", \"GSW vs. MEM\", \"W\", 239, 101, 36, 90, 0.4, 9, 37, 0.243, 20, 22, 0.909, 10, 44, 54, 25, 6, 7, 16, 15, 3.0], [\"42021\", 1610612744, \"GSW\", \"Golden State Warriors\", \"0042100233\", \"2022-05-07\", \"GSW vs. MEM\", \"W\", 241, 142, 53, 85, 0.624, 17, 32, 0.531, 19, 21, 0.905, 4, 34, 38, 34, 5, 4, 16, 24, 30.0], [\"42021\", 1610612744, \"GSW\", \"Golden State Warriors\", \"0042100232\", \"2022-05-03\", \"GSW @ MEM\", \"L\", 239, 101, 40, 95, 0.421, 7, 38, 0.184, 14, 18, 0.778, 14, 38, 52, 27, 6, 2, 18, 20, -5.0], [\"42021\", 1610612744, \"GSW\", \"Golden State Warriors\", \"0042100231\", \"2022-05-01\", \"GSW @ MEM\", \"W\", 239, 117, 45, 93, 0.484, 14, 38, 0.368, 13, 20, 0.65, 16, 36, 52, 31, 10, 6, 18, 25, 1.0], [\"42021\", 1610612744, \"GSW\", \"Golden State Warriors\", \"0042100165\", \"2022-04-27\", \"GSW vs. DEN\", \"W\", 241, 102, 37, 82, 0.451, 13, 31, 0.419, 15, 21, 0.714, 6, 31, 37, 28, 10, 6, 9, 22, 4.0], [\"42021\", 1610612744, \"GSW\", \"Golden State Warriors\", \"0042100164\", \"2022-04-24\", \"GSW @ DEN\", \"L\", 241, 121, 43, 86, 0.5, 12, 34, 0.353, 23, 32, 0.719, 9, 27, 36, 26, 15, 3, 15, 27, -5.0], [\"42021\", 1610612744, \"GSW\", \"Golden State Warriors\", \"0042100163\", \"2022-04-21\", \"GSW @ DEN\", \"W\", 239, 118, 41, 74, 0.554, 18, 40, 0.45, 18, 28, 0.643, 4, 26, 30, 29, 7, 6, 16, 25, 5.0], [\"42021\", 1610612744, \"GSW\", \"Golden State Warriors\", \"0042100162\", \"2022-04-18\", \"GSW vs. DEN\", \"W\", 241, 126, 46, 84, 0.548, 17, 40, 0.425, 17, 24, 0.708, 6, 29, 35, 27, 10, 8, 9, 20, 20.0], [\"42021\", 1610612744, \"GSW\", \"Golden State Warriors\", \"0042100161\", \"2022-04-16\", \"GSW vs. DEN\", \"W\", 241, 123, 43, 82, 0.524, 16, 35, 0.457, 21, 29, 0.724, 10, 31, 41, 33, 5, 8, 12, 22, 16.0], [\"22021\", 1610612744, \"GSW\", \"Golden State Warriors\", \"0022101225\", \"2022-04-10\", \"GSW @ NOP\", \"W\", 240, 128, 49, 81, 0.605, 19, 33, 0.576, 11, 13, 0.846, 7, 34, 41, 33, 5, 2, 17, 15, 21.0], [\"22021\", 1610612744, \"GSW\", \"Golden State Warriors\", \"0022101215\", \"2022-04-09\", \"GSW @ SAS\", \"W\", 239, 100, 33, 81, 0.407, 8, 32, 0.25, 26, 33, 0.788, 13, 38, 51, 23, 8, 1, 12, 22, 6.0], [\"22021\", 1610612744, \"GSW\", \"Golden State Warriors\", \"0022101202\", \"2022-04-07\", \"GSW vs. LAL\", \"W\", 239, 128, 51, 97, 0.526, 16, 32, 0.5, 10, 10, 1.0, 9, 36, 45, 39, 10, 5, 15, 26, 16.0], [\"22021\", 1610612744, \"GSW\", \"Golden State Warriors\", \"0022101176\", \"2022-04-03\", \"GSW @ SAC\", \"W\", 239, 109, 41, 79, 0.519, 16, 34, 0.471, 11, 15, 0.733, 7, 40, 47, 29, 8, 8, 15, 28, 19.0], [\"22021\", 1610612744, \"GSW\", \"Golden State Warriors\", \"0022101165\", \"2022-04-02\", \"GSW vs. UTA\", \"W\", 241, 111, 40, 84, 0.476, 20, 48, 0.417, 11, 12, 0.917, 6, 35, 41, 30, 5, 6, 11, 22, 4.0], [\"22021\", 1610612744, \"GSW\", \"Golden State Warriors\", \"0022101145\", \"2022-03-30\", \"GSW vs. PHX\", \"L\", 240, 103, 35, 83, 0.422, 13, 38, 0.342, 20, 25, 0.8, 10, 38, 48, 26, 7, 4, 21, 24, -4.0], [\"22021\", 1610612744, \"GSW\", \"Golden State Warriors\", \"0022101129\", \"2022-03-28\", \"GSW @ MEM\", \"L\", 240, 95, 33, 81, 0.407, 9, 29, 0.31, 20, 26, 0.769, 7, 33, 40, 18, 6, 7, 15, 27, -28.0], [\"22021\", 1610612744, \"GSW\", \"Golden State Warriors\", \"0022101117\", \"2022-03-27\", \"GSW @ WAS\", \"L\", 242, 115, 38, 89, 0.427, 8, 33, 0.242, 31, 39, 0.795, 13, 33, 46, 20, 8, 2, 10, 24, -8.0], [\"22021\", 1610612744, \"GSW\", \"Golden State Warriors\", \"0022101102\", \"2022-03-25\", \"GSW @ ATL\", \"L\", 239, 110, 43, 90, 0.478, 14, 41, 0.341, 10, 13, 0.769, 14, 33, 47, 27, 4, 1, 16, 22, -11.0], [\"22021\", 1610612744, \"GSW\", \"Golden State Warriors\", \"0022101088\", \"2022-03-23\", \"GSW @ MIA\", \"W\", 240, 118, 40, 77, 0.519, 15, 36, 0.417, 23, 27, 0.852, 7, 38, 45, 23, 5, 2, 11, 24, 14.0], [\"22021\", 1610612744, \"GSW\", \"Golden State Warriors\", \"0022101080\", \"2022-03-22\", \"GSW @ ORL\", \"L\", 240, 90, 34, 85, 0.4, 11, 32, 0.344, 11, 16, 0.688, 12, 36, 48, 21, 6, 3, 18, 23, -4.0], [\"22021\", 1610612744, \"GSW\", \"Golden State Warriors\", \"0022101070\", \"2022-03-20\", \"GSW vs. SAS\", \"L\", 238, 108, 41, 90, 0.456, 11, 33, 0.333, 15, 21, 0.714, 20, 37, 57, 26, 5, 1, 15, 20, -2.0], [\"22021\", 1610612744, \"GSW\", \"Golden State Warriors\", \"0022101042\", \"2022-03-16\", \"GSW vs. BOS\", \"L\", 239, 88, 32, 86, 0.372, 11, 48, 0.229, 13, 16, 0.813, 7, 31, 38, 19, 8, 4, 8, 21, -22.0], [\"22021\", 1610612744, \"GSW\", \"Golden State Warriors\", \"0022101025\", \"2022-03-14\", \"GSW vs. WAS\", \"W\", 239, 126, 45, 84, 0.536, 18, 45, 0.4, 18, 22, 0.818, 6, 38, 44, 26, 7, 4, 13, 21, 14.0], [\"22021\", 1610612744, \"GSW\", \"Golden State Warriors\", \"0022101008\", \"2022-03-12\", \"GSW vs. MIL\", \"W\", 240, 122, 45, 93, 0.484, 18, 45, 0.4, 14, 15, 0.933, 12, 43, 55, 33, 3, 7, 10, 19, 13.0], [\"22021\", 1610612744, \"GSW\", \"Golden State Warriors\", \"0022100994\", \"2022-03-10\", \"GSW @ DEN\", \"W\", 239, 113, 42, 88, 0.477, 14, 42, 0.333, 15, 20, 0.75, 8, 28, 36, 26, 9, 4, 7, 25, 11.0], [\"22021\", 1610612744, \"GSW\", \"Golden State Warriors\", \"0022100980\", \"2022-03-08\", \"GSW vs. LAC\", \"W\", 239, 112, 44, 92, 0.478, 13, 34, 0.382, 11, 13, 0.846, 10, 41, 51, 33, 8, 6, 16, 20, 15.0], [\"22021\", 1610612744, \"GSW\", \"Golden State Warriors\", \"0022100528\", \"2022-03-07\", \"GSW @ DEN\", \"L\", 239, 124, 45, 88, 0.511, 17, 40, 0.425, 17, 23, 0.739, 9, 32, 41, 29, 5, 0, 14, 30, -7.0], [\"22021\", 1610612744, \"GSW\", \"Golden State Warriors\", \"0022100959\", \"2022-03-05\", \"GSW @ LAL\", \"L\", 240, 116, 46, 92, 0.5, 15, 34, 0.441, 9, 19, 0.474, 10, 31, 41, 22, 11, 4, 16, 20, -8.0], [\"22021\", 1610612744, \"GSW\", \"Golden State Warriors\", \"0022100943\", \"2022-03-03\", \"GSW @ DAL\", \"L\", 240, 113, 44, 81, 0.543, 15, 30, 0.5, 10, 13, 0.769, 10, 27, 37, 26, 7, 5, 15, 19, -9.0], [\"22021\", 1610612744, \"GSW\", \"Golden State Warriors\", \"0022100930\", \"2022-03-01\", \"GSW @ MIN\", \"L\", 240, 114, 41, 90, 0.456, 13, 45, 0.289, 19, 22, 0.864, 8, 32, 40, 26, 11, 3, 17, 25, -15.0], [\"22021\", 1610612744, \"GSW\", \"Golden State Warriors\", \"0022100917\", \"2022-02-27\", \"GSW vs. DAL\", \"L\", 239, 101, 39, 91, 0.429, 11, 39, 0.282, 12, 20, 0.6, 12, 32, 44, 27, 15, 2, 10, 23, -6.0], [\"22021\", 1610612744, \"GSW\", \"Golden State Warriors\", \"0022100894\", \"2022-02-24\", \"GSW @ POR\", \"W\", 240, 132, 45, 88, 0.511, 15, 41, 0.366, 27, 32, 0.844, 10, 36, 46, 36, 10, 7, 12, 23, 37.0], [\"22021\", 1610612744, \"GSW\", \"Golden State Warriors\", \"0022100883\", \"2022-02-16\", \"GSW vs. DEN\", \"L\", 240, 116, 45, 87, 0.517, 10, 34, 0.294, 16, 24, 0.667, 8, 29, 37, 26, 13, 5, 10, 21, -1.0], [\"22021\", 1610612744, \"GSW\", \"Golden State Warriors\", \"0022100866\", \"2022-02-14\", \"GSW @ LAC\", \"L\", 240, 104, 39, 86, 0.453, 16, 41, 0.39, 10, 13, 0.769, 7, 31, 38, 23, 7, 3, 14, 18, -15.0], [\"22021\", 1610612744, \"GSW\", \"Golden State Warriors\", \"0022100854\", \"2022-02-12\", \"GSW vs. LAL\", \"W\", 240, 117, 40, 90, 0.444, 12, 38, 0.316, 25, 34, 0.735, 10, 40, 50, 24, 4, 3, 9, 24, 2.0], [\"22021\", 1610612744, \"GSW\", \"Golden State Warriors\", \"0022100837\", \"2022-02-10\", \"GSW vs. NYK\", \"L\", 240, 114, 42, 91, 0.462, 15, 45, 0.333, 15, 17, 0.882, 5, 33, 38, 27, 4, 5, 7, 24, -2.0], [\"22021\", 1610612744, \"GSW\", \"Golden State Warriors\", \"0022100828\", \"2022-02-09\", \"GSW @ UTA\", \"L\", 241, 85, 28, 78, 0.359, 16, 43, 0.372, 13, 17, 0.765, 3, 32, 35, 17, 8, 3, 11, 19, -26.0], [\"22021\", 1610612744, \"GSW\", \"Golden State Warriors\", \"0022100813\", \"2022-02-07\", \"GSW @ OKC\", \"W\", 239, 110, 41, 82, 0.5, 15, 43, 0.349, 13, 17, 0.765, 6, 34, 40, 30, 12, 3, 15, 19, 12.0], [\"22021\", 1610612744, \"GSW\", \"Golden State Warriors\", \"0022100785\", \"2022-02-03\", \"GSW vs. SAC\", \"W\", 241, 126, 47, 84, 0.56, 20, 42, 0.476, 12, 16, 0.75, 9, 31, 40, 27, 11, 3, 15, 19, 12.0], [\"22021\", 1610612744, \"GSW\", \"Golden State Warriors\", \"0022100771\", \"2022-02-01\", \"GSW @ SAS\", \"W\", 240, 124, 43, 96, 0.448, 20, 46, 0.435, 18, 18, 1.0, 15, 31, 46, 30, 10, 3, 14, 17, 4.0], [\"22021\", 1610612744, \"GSW\", \"Golden State Warriors\", \"0022100764\", \"2022-01-31\", \"GSW @ HOU\", \"W\", 241, 122, 43, 80, 0.538, 17, 40, 0.425, 19, 23, 0.826, 7, 34, 41, 23, 10, 8, 14, 24, 14.0], [\"22021\", 1610612744, \"GSW\", \"Golden State Warriors\", \"0022100750\", \"2022-01-29\", \"GSW vs. BKN\", \"W\", 240, 110, 40, 98, 0.408, 14, 45, 0.311, 16, 18, 0.889, 16, 39, 55, 24, 8, 8, 10, 23, 4.0], [\"22021\", 1610612744, \"GSW\", \"Golden State Warriors\", \"0022100734\", \"2022-01-27\", \"GSW vs. MIN\", \"W\", 240, 124, 44, 82, 0.537, 21, 36, 0.583, 15, 21, 0.714, 10, 37, 47, 31, 8, 3, 18, 23, 9.0], [\"22021\", 1610612744, \"GSW\", \"Golden State Warriors\", \"0022100720\", \"2022-01-25\", \"GSW vs. DAL\", \"W\", 239, 130, 49, 92, 0.533, 17, 43, 0.395, 15, 18, 0.833, 12, 46, 58, 31, 8, 2, 14, 17, 38.0], [\"22021\", 1610612744, \"GSW\", \"Golden State Warriors\", \"0022100708\", \"2022-01-23\", \"GSW vs. UTA\", \"W\", 239, 94, 36, 83, 0.434, 13, 42, 0.31, 9, 10, 0.9, 10, 30, 40, 19, 8, 5, 9, 19, 2.0], [\"22021\", 1610612744, \"GSW\", \"Golden State Warriors\", \"0022100694\", \"2022-01-21\", \"GSW vs. HOU\", \"W\", 241, 105, 39, 81, 0.481, 10, 30, 0.333, 17, 22, 0.773, 7, 34, 41, 25, 4, 9, 17, 18, 2.0], [\"22021\", 1610612744, \"GSW\", \"Golden State Warriors\", \"0022100683\", \"2022-01-20\", \"GSW vs. IND\", \"L\", 264, 117, 42, 94, 0.447, 9, 42, 0.214, 24, 29, 0.828, 15, 38, 53, 28, 11, 6, 21, 28, -4.0], [\"22021\", 1610612744, \"GSW\", \"Golden State Warriors\", \"0022100667\", \"2022-01-18\", \"GSW vs. DET\", \"W\", 241, 102, 34, 83, 0.41, 14, 42, 0.333, 20, 27, 0.741, 13, 41, 54, 26, 12, 3, 13, 25, 16.0], [\"22021\", 1610612744, \"GSW\", \"Golden State Warriors\", \"0022100652\", \"2022-01-16\", \"GSW @ MIN\", \"L\", 241, 99, 32, 82, 0.39, 13, 42, 0.31, 22, 29, 0.759, 7, 40, 47, 20, 6, 3, 15, 17, -20.0], [\"22021\", 1610612744, \"GSW\", \"Golden State Warriors\", \"0022100637\", \"2022-01-14\", \"GSW @ CHI\", \"W\", 242, 138, 53, 94, 0.564, 19, 42, 0.452, 13, 17, 0.765, 9, 38, 47, 39, 12, 5, 7, 17, 42.0], [\"22021\", 1610612744, \"GSW\", \"Golden State Warriors\", \"0022100627\", \"2022-01-13\", \"GSW @ MIL\", \"L\", 239, 99, 33, 95, 0.347, 16, 48, 0.333, 17, 24, 0.708, 12, 37, 49, 20, 9, 2, 15, 15, -19.0], [\"22021\", 1610612744, \"GSW\", \"Golden State Warriors\", \"0022100614\", \"2022-01-11\", \"GSW @ MEM\", \"L\", 240, 108, 35, 82, 0.427, 13, 36, 0.361, 25, 29, 0.862, 4, 41, 45, 25, 8, 5, 16, 19, -8.0], [\"22021\", 1610612744, \"GSW\", \"Golden State Warriors\", \"0022100604\", \"2022-01-09\", \"GSW vs. CLE\", \"W\", 240, 96, 39, 97, 0.402, 10, 42, 0.238, 8, 10, 0.8, 22, 32, 54, 24, 16, 5, 14, 20, 14.0], [\"22021\", 1610612744, \"GSW\", \"Golden State Warriors\", \"0022100580\", \"2022-01-06\", \"GSW @ NOP\", \"L\", 240, 96, 37, 87, 0.425, 7, 33, 0.212, 15, 18, 0.833, 8, 35, 43, 22, 12, 6, 14, 24, -5.0], [\"22021\", 1610612744, \"GSW\", \"Golden State Warriors\", \"0022100572\", \"2022-01-05\", \"GSW @ DAL\", \"L\", 241, 82, 33, 81, 0.407, 5, 28, 0.179, 11, 16, 0.688, 8, 38, 46, 20, 10, 5, 16, 20, -17.0], [\"22021\", 1610612744, \"GSW\", \"Golden State Warriors\", \"0022100559\", \"2022-01-03\", \"GSW vs. MIA\", \"W\", 240, 115, 45, 92, 0.489, 14, 38, 0.368, 11, 13, 0.846, 7, 36, 43, 39, 11, 6, 12, 17, 7.0], [\"22021\", 1610612744, \"GSW\", \"Golden State Warriors\", \"0022100544\", \"2022-01-01\", \"GSW @ UTA\", \"W\", 240, 123, 46, 86, 0.535, 17, 32, 0.531, 14, 21, 0.667, 7, 33, 40, 39, 10, 2, 15, 24, 7.0], [\"22021\", 1610612744, \"GSW\", \"Golden State Warriors\", \"0022100514\", \"2021-12-28\", \"GSW vs. DEN\", \"L\", 240, 86, 30, 72, 0.417, 10, 32, 0.313, 16, 31, 0.516, 8, 35, 43, 20, 8, 2, 16, 20, -3.0], [\"22021\", 1610612744, \"GSW\", \"Golden State Warriors\", \"0022100490\", \"2021-12-25\", \"GSW @ PHX\", \"W\", 239, 116, 42, 85, 0.494, 14, 37, 0.378, 18, 21, 0.857, 12, 30, 42, 28, 11, 7, 9, 22, 9.0], [\"22021\", 1610612744, \"GSW\", \"Golden State Warriors\", \"0022100485\", \"2021-12-23\", \"GSW vs. MEM\", \"W\", 239, 113, 40, 82, 0.488, 19, 40, 0.475, 14, 18, 0.778, 8, 31, 39, 30, 9, 9, 18, 19, 9.0], [\"22021\", 1610612744, \"GSW\", \"Golden State Warriors\", \"0022100462\", \"2021-12-20\", \"GSW vs. SAC\", \"W\", 237, 113, 46, 88, 0.523, 15, 37, 0.405, 6, 9, 0.667, 10, 32, 42, 28, 12, 9, 16, 18, 15.0], [\"22021\", 1610612744, \"GSW\", \"Golden State Warriors\", \"0022100443\", \"2021-12-18\", \"GSW @ TOR\", \"L\", 240, 100, 37, 79, 0.468, 11, 36, 0.306, 15, 21, 0.714, 11, 36, 47, 26, 5, 5, 20, 21, -19.0], [\"22021\", 1610612744, \"GSW\", \"Golden State Warriors\", \"0022100435\", \"2021-12-17\", \"GSW @ BOS\", \"W\", 239, 111, 39, 90, 0.433, 16, 46, 0.348, 17, 21, 0.81, 12, 33, 45, 27, 9, 8, 12, 25, 4.0], [\"22021\", 1610612744, \"GSW\", \"Golden State Warriors\", \"0022100414\", \"2021-12-14\", \"GSW @ NYK\", \"W\", 240, 105, 35, 77, 0.455, 15, 40, 0.375, 20, 27, 0.741, 7, 42, 49, 28, 3, 6, 12, 22, 9.0], [\"22021\", 1610612744, \"GSW\", \"Golden State Warriors\", \"0022100405\", \"2021-12-13\", \"GSW @ IND\", \"W\", 240, 102, 42, 84, 0.5, 8, 30, 0.267, 10, 14, 0.714, 9, 38, 47, 21, 6, 6, 17, 25, 2.0], [\"22021\", 1610612744, \"GSW\", \"Golden State Warriors\", \"0022100396\", \"2021-12-11\", \"GSW @ PHI\", \"L\", 240, 93, 34, 85, 0.4, 12, 48, 0.25, 13, 18, 0.722, 10, 32, 42, 21, 5, 5, 13, 22, -9.0], [\"22021\", 1610612744, \"GSW\", \"Golden State Warriors\", \"0022100376\", \"2021-12-08\", \"GSW vs. POR\", \"W\", 241, 104, 33, 83, 0.398, 14, 46, 0.304, 24, 31, 0.774, 10, 37, 47, 22, 9, 3, 15, 19, 10.0], [\"22021\", 1610612744, \"GSW\", \"Golden State Warriors\", \"0022100361\", \"2021-12-06\", \"GSW vs. ORL\", \"W\", 242, 126, 43, 87, 0.494, 20, 40, 0.5, 20, 29, 0.69, 7, 36, 43, 28, 15, 2, 15, 19, 31.0], [\"22021\", 1610612744, \"GSW\", \"Golden State Warriors\", \"0022100346\", \"2021-12-04\", \"GSW vs. SAS\", \"L\", 240, 107, 40, 90, 0.444, 13, 39, 0.333, 14, 21, 0.667, 11, 34, 45, 26, 6, 2, 12, 18, -5.0], [\"22021\", 1610612744, \"GSW\", \"Golden State Warriors\", \"0022100340\", \"2021-12-03\", \"GSW vs. PHX\", \"W\", 239, 118, 45, 92, 0.489, 19, 39, 0.487, 9, 12, 0.75, 11, 40, 51, 30, 10, 8, 17, 29, 22.0], [\"22021\", 1610612744, \"GSW\", \"Golden State Warriors\", \"0022100316\", \"2021-11-30\", \"GSW @ PHX\", \"L\", 240, 96, 36, 86, 0.419, 14, 40, 0.35, 10, 14, 0.714, 15, 36, 51, 25, 7, 5, 22, 13, -8.0], [\"22021\", 1610612744, \"GSW\", \"Golden State Warriors\", \"0022100300\", \"2021-11-28\", \"GSW @ LAC\", \"W\", 243, 105, 38, 86, 0.442, 17, 40, 0.425, 12, 22, 0.545, 11, 32, 43, 25, 19, 2, 16, 27, 15.0], [\"22021\", 1610612744, \"GSW\", \"Golden State Warriors\", \"0022100290\", \"2021-11-26\", \"GSW vs. POR\", \"W\", 240, 118, 47, 87, 0.54, 12, 37, 0.324, 12, 16, 0.75, 11, 37, 48, 31, 8, 5, 15, 19, 15.0], [\"22021\", 1610612744, \"GSW\", \"Golden State Warriors\", \"0022100278\", \"2021-11-24\", \"GSW vs. PHI\", \"W\", 241, 116, 42, 80, 0.525, 15, 38, 0.395, 17, 24, 0.708, 4, 37, 41, 32, 7, 5, 16, 21, 20.0], [\"22021\", 1610612744, \"GSW\", \"Golden State Warriors\", \"0022100252\", \"2021-11-21\", \"GSW vs. TOR\", \"W\", 241, 119, 39, 79, 0.494, 22, 45, 0.489, 19, 24, 0.792, 8, 39, 47, 31, 5, 7, 16, 18, 15.0], [\"22021\", 1610612744, \"GSW\", \"Golden State Warriors\", \"0022100231\", \"2021-11-19\", \"GSW @ DET\", \"W\", 239, 105, 38, 80, 0.475, 12, 30, 0.4, 17, 21, 0.81, 14, 34, 48, 22, 8, 4, 18, 23, 3.0], [\"22021\", 1610612744, \"GSW\", \"Golden State Warriors\", \"0022100224\", \"2021-11-18\", \"GSW @ CLE\", \"W\", 239, 104, 41, 83, 0.494, 15, 43, 0.349, 7, 8, 0.875, 5, 29, 34, 36, 12, 2, 11, 17, 15.0], [\"22021\", 1610612744, \"GSW\", \"Golden State Warriors\", \"0022100210\", \"2021-11-16\", \"GSW @ BKN\", \"W\", 241, 117, 41, 79, 0.519, 13, 40, 0.325, 22, 28, 0.786, 9, 44, 53, 25, 4, 8, 21, 27, 18.0], [\"22021\", 1610612744, \"GSW\", \"Golden State Warriors\", \"0022100194\", \"2021-11-14\", \"GSW @ CHA\", \"L\", 240, 102, 38, 90, 0.422, 9, 39, 0.231, 17, 25, 0.68, 11, 38, 49, 31, 8, 7, 15, 17, -4.0], [\"22021\", 1610612744, \"GSW\", \"Golden State Warriors\", \"0022100183\", \"2021-11-12\", \"GSW vs. CHI\", \"W\", 239, 119, 45, 93, 0.484, 15, 46, 0.326, 14, 16, 0.875, 12, 35, 47, 27, 15, 3, 16, 15, 26.0], [\"22021\", 1610612744, \"GSW\", \"Golden State Warriors\", \"0022100169\", \"2021-11-10\", \"GSW vs. MIN\", \"W\", 240, 123, 40, 85, 0.471, 11, 40, 0.275, 32, 40, 0.8, 20, 33, 53, 23, 14, 6, 16, 21, 13.0], [\"22021\", 1610612744, \"GSW\", \"Golden State Warriors\", \"0022100152\", \"2021-11-08\", \"GSW vs. ATL\", \"W\", 241, 127, 44, 92, 0.478, 18, 44, 0.409, 21, 22, 0.955, 10, 29, 39, 31, 13, 4, 13, 22, 14.0], [\"22021\", 1610612744, \"GSW\", \"Golden State Warriors\", \"0022100145\", \"2021-11-07\", \"GSW vs. HOU\", \"W\", 238, 120, 44, 85, 0.518, 15, 46, 0.326, 17, 20, 0.85, 7, 34, 41, 31, 12, 3, 15, 28, 13.0], [\"22021\", 1610612744, \"GSW\", \"Golden State Warriors\", \"0022100130\", \"2021-11-05\", \"GSW vs. NOP\", \"W\", 241, 126, 47, 91, 0.516, 20, 50, 0.4, 12, 14, 0.857, 9, 40, 49, 36, 10, 4, 11, 16, 41.0], [\"22021\", 1610612744, \"GSW\", \"Golden State Warriors\", \"0022100117\", \"2021-11-03\", \"GSW vs. CHA\", \"W\", 240, 114, 42, 86, 0.488, 18, 45, 0.4, 12, 18, 0.667, 7, 46, 53, 33, 14, 4, 16, 17, 22.0], [\"22021\", 1610612744, \"GSW\", \"Golden State Warriors\", \"0022100086\", \"2021-10-30\", \"GSW vs. OKC\", \"W\", 239, 103, 39, 92, 0.424, 21, 54, 0.389, 4, 8, 0.5, 10, 46, 56, 30, 9, 8, 15, 21, 21.0], [\"22021\", 1610612744, \"GSW\", \"Golden State Warriors\", \"0022100070\", \"2021-10-28\", \"GSW vs. MEM\", \"L\", 266, 101, 39, 90, 0.433, 14, 40, 0.35, 9, 12, 0.75, 7, 41, 48, 29, 8, 7, 22, 17, -3.0], [\"22021\", 1610612744, \"GSW\", \"Golden State Warriors\", \"0022100051\", \"2021-10-26\", \"GSW @ OKC\", \"W\", 240, 106, 39, 83, 0.47, 14, 40, 0.35, 14, 18, 0.778, 7, 39, 46, 30, 9, 8, 15, 20, 8.0], [\"22021\", 1610612744, \"GSW\", \"Golden State Warriors\", \"0022100039\", \"2021-10-24\", \"GSW @ SAC\", \"W\", 240, 119, 43, 97, 0.443, 13, 37, 0.351, 20, 24, 0.833, 14, 29, 43, 26, 12, 3, 6, 13, 12.0], [\"22021\", 1610612744, \"GSW\", \"Golden State Warriors\", \"0022100016\", \"2021-10-21\", \"GSW vs. LAC\", \"W\", 240, 115, 43, 83, 0.518, 15, 31, 0.484, 14, 22, 0.636, 10, 43, 53, 27, 5, 4, 21, 20, -3.0], [\"22021\", 1610612744, \"GSW\", \"Golden State Warriors\", \"0022100002\", \"2021-10-19\", \"GSW @ LAL\", \"W\", 240, 121, 41, 93, 0.441, 14, 39, 0.359, 25, 30, 0.833, 9, 41, 50, 30, 9, 2, 17, 18, 7.0], [\"12021\", 1610612744, \"GSW\", \"Golden State Warriors\", \"0012100066\", \"2021-10-15\", \"GSW vs. POR\", \"W\", 239, 119, 45, 101, 0.446, 16, 46, 0.348, 13, 18, 0.722, 17, 40, 57, 31, 9, 5, 22, 18, 22.0], [\"12021\", 1610612744, \"GSW\", \"Golden State Warriors\", \"0012100047\", \"2021-10-12\", \"GSW @ LAL\", \"W\", 239, 111, 42, 99, 0.424, 11, 49, 0.224, 16, 22, 0.727, 9, 42, 51, 29, 10, 5, 12, 19, 12.0], [\"12021\", 1610612744, \"GSW\", \"Golden State Warriors\", \"0012100031\", \"2021-10-08\", \"GSW vs. LAL\", \"W\", 240, 121, 44, 97, 0.454, 20, 56, 0.357, 13, 18, 0.722, 9, 33, 42, 30, 22, 5, 15, 25, 7.0], [\"12021\", 1610612744, \"GSW\", \"Golden State Warriors\", \"0012100019\", \"2021-10-06\", \"GSW vs. DEN\", \"W\", 241, 118, 39, 82, 0.476, 21, 46, 0.457, 19, 24, 0.792, 5, 37, 42, 27, 9, 3, 17, 16, 2.0], [\"12021\", 1610612744, \"GSW\", \"Golden State Warriors\", \"0012100008\", \"2021-10-04\", \"GSW @ POR\", \"W\", 239, 121, 42, 100, 0.42, 24, 69, 0.348, 13, 17, 0.765, 10, 37, 47, 32, 17, 4, 12, 18, 14.0], [\"22021\", 1610612744, \"GSW\", \"Golden State Warriors\", \"1522100073\", \"2021-08-17\", \"GSW vs. LAL\", \"L\", 200, 76, 29, 75, 0.387, 9, 31, 0.29, 9, 12, 0.75, 13, 31, 44, 19, 11, 10, 22, 18, 6.2], [\"22021\", 1610612744, \"GSW\", \"Golden State Warriors\", \"1522100059\", \"2021-08-15\", \"GSW @ NOP\", \"L\", 210, 79, 28, 78, 0.359, 12, 37, 0.324, 11, 15, 0.733, 11, 34, 45, 19, 10, 6, 19, 20, -1.0], [\"22021\", 1610612744, \"GSW\", \"Golden State Warriors\", \"1522100041\", \"2021-08-13\", \"GSW @ OKC\", \"W\", 199, 94, 34, 78, 0.436, 12, 35, 0.343, 14, 18, 0.778, 6, 32, 38, 20, 10, 10, 7, 15, 8.8], [\"22021\", 1610612744, \"GSW\", \"Golden State Warriors\", \"1522100027\", \"2021-08-11\", \"GSW vs. TOR\", \"W\", 200, 90, 29, 75, 0.387, 15, 32, 0.469, 17, 25, 0.68, 12, 25, 37, 18, 10, 5, 14, 23, 6.0], [\"22021\", 1610612744, \"GSW\", \"Golden State Warriors\", \"1522100014\", \"2021-08-09\", \"GSW vs. ORL\", \"L\", 210, 89, 34, 78, 0.436, 10, 29, 0.345, 11, 17, 0.647, 6, 34, 40, 20, 10, 4, 14, 19, 0.0], [\"22021\", 1610612744, \"GSW\", \"Golden State Warriors\", \"1322100003\", \"2021-08-04\", \"GSW vs. MIA\", \"L\", 240, 87, 34, 77, 0.442, 9, 23, 0.391, 10, 14, 0.714, 10, 22, 32, 16, 10, 2, 18, 24, -10.8], [\"22021\", 1610612744, \"GSW\", \"Golden State Warriors\", \"1322100002\", \"2021-08-03\", \"GSW @ SAC\", \"W\", 265, 89, 33, 76, 0.434, 10, 33, 0.303, 13, 17, 0.765, 9, 32, 41, 18, 4, 6, 16, 20, 1.0], [\"52020\", 1610612744, \"GSW\", \"Golden State Warriors\", \"0052000211\", \"2021-05-21\", \"GSW vs. MEM\", \"L\", 265, 112, 42, 94, 0.447, 12, 34, 0.353, 16, 20, 0.8, 11, 37, 48, 30, 7, 7, 21, 23, -5.0], [\"52020\", 1610612744, \"GSW\", \"Golden State Warriors\", \"0052000121\", \"2021-05-19\", \"GSW @ LAL\", \"L\", 240, 100, 37, 83, 0.446, 15, 34, 0.441, 11, 15, 0.733, 9, 37, 46, 19, 8, 8, 20, 21, -3.0], [\"22020\", 1610612744, \"GSW\", \"Golden State Warriors\", \"0022001070\", \"2021-05-16\", \"GSW vs. MEM\", \"W\", 240, 113, 41, 83, 0.494, 15, 39, 0.385, 16, 18, 0.889, 12, 34, 46, 26, 9, 4, 19, 19, 12.0], [\"22020\", 1610612744, \"GSW\", \"Golden State Warriors\", \"0022001059\", \"2021-05-14\", \"GSW vs. NOP\", \"W\", 240, 125, 42, 87, 0.483, 17, 39, 0.436, 24, 30, 0.8, 8, 38, 46, 29, 4, 4, 11, 21, 3.0], [\"22020\", 1610612744, \"GSW\", \"Golden State Warriors\", \"0022001039\", \"2021-05-11\", \"GSW vs. PHX\", \"W\", 241, 122, 47, 95, 0.495, 11, 40, 0.275, 17, 20, 0.85, 12, 28, 40, 33, 8, 1, 8, 20, 6.0], [\"22020\", 1610612744, \"GSW\", \"Golden State Warriors\", \"0022001030\", \"2021-05-10\", \"GSW vs. UTA\", \"W\", 241, 119, 41, 88, 0.466, 14, 42, 0.333, 23, 25, 0.92, 9, 32, 41, 26, 8, 2, 10, 20, 3.0], [\"22020\", 1610612744, \"GSW\", \"Golden State Warriors\", \"0022001017\", \"2021-05-08\", \"GSW vs. OKC\", \"W\", 240, 136, 47, 81, 0.58, 27, 54, 0.5, 15, 18, 0.833, 2, 44, 46, 31, 5, 4, 18, 19, 39.0], [\"22020\", 1610612744, \"GSW\", \"Golden State Warriors\", \"0022001001\", \"2021-05-06\", \"GSW vs. OKC\", \"W\", 238, 118, 42, 86, 0.488, 19, 47, 0.404, 15, 18, 0.833, 7, 42, 49, 36, 4, 1, 13, 19, 21.0], [\"22020\", 1610612744, \"GSW\", \"Golden State Warriors\", \"0022000987\", \"2021-05-04\", \"GSW @ NOP\", \"L\", 239, 103, 39, 93, 0.419, 20, 53, 0.377, 5, 7, 0.714, 8, 40, 48, 22, 7, 9, 18, 17, -5.0], [\"22020\", 1610612744, \"GSW\", \"Golden State Warriors\", \"0022000977\", \"2021-05-03\", \"GSW @ NOP\", \"W\", 239, 123, 47, 88, 0.534, 17, 44, 0.386, 12, 14, 0.857, 5, 33, 38, 31, 9, 8, 14, 28, 15.0], [\"22020\", 1610612744, \"GSW\", \"Golden State Warriors\", \"0022000958\", \"2021-05-01\", \"GSW @ HOU\", \"W\", 239, 113, 39, 84, 0.464, 18, 46, 0.391, 17, 24, 0.708, 4, 46, 50, 32, 10, 8, 17, 18, 26.0], [\"22020\", 1610612744, \"GSW\", \"Golden State Warriors\", \"0022000946\", \"2021-04-29\", \"GSW @ MIN\", \"L\", 240, 114, 42, 85, 0.494, 15, 38, 0.395, 15, 21, 0.714, 4, 30, 34, 28, 10, 7, 10, 21, -12.0], [\"22020\", 1610612744, \"GSW\", \"Golden State Warriors\", \"0022000932\", \"2021-04-27\", \"GSW vs. DAL\", \"L\", 241, 103, 34, 84, 0.405, 16, 43, 0.372, 19, 24, 0.792, 10, 33, 43, 25, 11, 5, 18, 18, -30.0], [\"22020\", 1610612744, \"GSW\", \"Golden State Warriors\", \"0022000915\", \"2021-04-25\", \"GSW vs. SAC\", \"W\", 240, 117, 46, 95, 0.484, 14, 36, 0.389, 11, 15, 0.733, 17, 36, 53, 30, 5, 3, 16, 16, 4.0], [\"22020\", 1610612744, \"GSW\", \"Golden State Warriors\", \"0022000903\", \"2021-04-23\", \"GSW vs. DEN\", \"W\", 241, 118, 45, 84, 0.536, 15, 39, 0.385, 13, 18, 0.722, 7, 45, 52, 40, 8, 4, 14, 15, 21.0], [\"22020\", 1610612744, \"GSW\", \"Golden State Warriors\", \"0022000885\", \"2021-04-21\", \"GSW @ WAS\", \"L\", 240, 114, 40, 101, 0.396, 15, 45, 0.333, 19, 21, 0.905, 10, 34, 44, 22, 15, 5, 17, 23, -4.0], [\"22020\", 1610612744, \"GSW\", \"Golden State Warriors\", \"0022000870\", \"2021-04-19\", \"GSW @ PHI\", \"W\", 240, 107, 34, 76, 0.447, 14, 32, 0.438, 25, 32, 0.781, 6, 39, 45, 15, 2, 5, 16, 19, 11.0], [\"22020\", 1610612744, \"GSW\", \"Golden State Warriors\", \"0022000858\", \"2021-04-17\", \"GSW @ BOS\", \"L\", 240, 114, 41, 80, 0.513, 17, 40, 0.425, 15, 20, 0.75, 8, 32, 40, 22, 6, 2, 17, 23, -5.0], [\"22020\", 1610612744, \"GSW\", \"Golden State Warriors\", \"0022000841\", \"2021-04-15\", \"GSW @ CLE\", \"W\", 239, 119, 47, 92, 0.511, 17, 46, 0.37, 8, 10, 0.8, 9, 38, 47, 33, 9, 5, 15, 24, 18.0], [\"22020\", 1610612744, \"GSW\", \"Golden State Warriors\", \"0022000836\", \"2021-04-14\", \"GSW @ OKC\", \"W\", 238, 147, 52, 95, 0.547, 24, 47, 0.511, 19, 23, 0.826, 9, 32, 41, 39, 12, 6, 14, 20, 38.0], [\"22020\", 1610612744, \"GSW\", \"Golden State Warriors\", \"0022000821\", \"2021-04-12\", \"GSW vs. DEN\", \"W\", 239, 116, 39, 81, 0.481, 18, 44, 0.409, 20, 22, 0.909, 4, 32, 36, 23, 11, 3, 16, 22, 9.0], [\"22020\", 1610612744, \"GSW\", \"Golden State Warriors\", \"0022000802\", \"2021-04-10\", \"GSW vs. HOU\", \"W\", 240, 125, 49, 91, 0.538, 14, 35, 0.4, 13, 16, 0.813, 9, 36, 45, 31, 13, 5, 16, 19, 16.0], [\"22020\", 1610612744, \"GSW\", \"Golden State Warriors\", \"0022000798\", \"2021-04-09\", \"GSW vs. WAS\", \"L\", 241, 107, 41, 88, 0.466, 11, 36, 0.306, 14, 21, 0.667, 8, 33, 41, 27, 15, 3, 13, 20, -3.0], [\"22020\", 1610612744, \"GSW\", \"Golden State Warriors\", \"0022000774\", \"2021-04-06\", \"GSW vs. MIL\", \"W\", 240, 122, 46, 96, 0.479, 15, 40, 0.375, 15, 17, 0.882, 12, 30, 42, 28, 6, 5, 11, 18, 1.0], [\"22020\", 1610612744, \"GSW\", \"Golden State Warriors\", \"0022000759\", \"2021-04-04\", \"GSW @ ATL\", \"L\", 241, 111, 43, 92, 0.467, 10, 40, 0.25, 15, 21, 0.714, 9, 36, 45, 25, 12, 6, 16, 26, -6.0], [\"22020\", 1610612744, \"GSW\", \"Golden State Warriors\", \"0022000737\", \"2021-04-02\", \"GSW @ TOR\", \"L\", 240, 77, 26, 79, 0.329, 11, 34, 0.324, 14, 18, 0.778, 7, 31, 38, 19, 5, 4, 21, 18, -53.0], [\"22020\", 1610612744, \"GSW\", \"Golden State Warriors\", \"0022000733\", \"2021-04-01\", \"GSW @ MIA\", \"L\", 239, 109, 36, 82, 0.439, 15, 37, 0.405, 22, 25, 0.88, 12, 34, 46, 23, 7, 3, 20, 26, -7.0], [\"22020\", 1610612744, \"GSW\", \"Golden State Warriors\", \"0022000716\", \"2021-03-29\", \"GSW vs. CHI\", \"W\", 241, 116, 46, 92, 0.5, 16, 38, 0.421, 8, 9, 0.889, 10, 29, 39, 28, 9, 8, 14, 14, 14.0], [\"22020\", 1610612744, \"GSW\", \"Golden State Warriors\", \"0022000692\", \"2021-03-26\", \"GSW vs. ATL\", \"L\", 240, 108, 39, 79, 0.494, 12, 28, 0.429, 18, 26, 0.692, 5, 28, 33, 29, 7, 4, 12, 22, -16.0], [\"22020\", 1610612744, \"GSW\", \"Golden State Warriors\", \"0022000682\", \"2021-03-25\", \"GSW @ SAC\", \"L\", 239, 119, 45, 88, 0.511, 17, 32, 0.531, 12, 12, 1.0, 7, 31, 38, 24, 4, 0, 12, 19, -22.0], [\"22020\", 1610612744, \"GSW\", \"Golden State Warriors\", \"0022000665\", \"2021-03-23\", \"GSW vs. PHI\", \"L\", 240, 98, 36, 83, 0.434, 8, 25, 0.32, 18, 26, 0.692, 6, 32, 38, 22, 5, 7, 11, 23, -10.0], [\"22020\", 1610612744, \"GSW\", \"Golden State Warriors\", \"0022000642\", \"2021-03-20\", \"GSW @ MEM\", \"L\", 238, 103, 31, 90, 0.344, 13, 41, 0.317, 28, 34, 0.824, 7, 39, 46, 23, 8, 7, 11, 25, -8.0], [\"22020\", 1610612744, \"GSW\", \"Golden State Warriors\", \"0022000636\", \"2021-03-19\", \"GSW @ MEM\", \"W\", 241, 116, 44, 91, 0.484, 15, 41, 0.366, 13, 18, 0.722, 8, 35, 43, 31, 13, 6, 13, 16, 13.0], [\"22020\", 1610612744, \"GSW\", \"Golden State Warriors\", \"0022000622\", \"2021-03-17\", \"GSW @ HOU\", \"W\", 240, 108, 41, 90, 0.456, 16, 45, 0.356, 10, 12, 0.833, 6, 42, 48, 32, 7, 4, 12, 26, 14.0], [\"22020\", 1610612744, \"GSW\", \"Golden State Warriors\", \"0022000608\", \"2021-03-15\", \"GSW vs. LAL\", \"L\", 240, 97, 34, 79, 0.43, 13, 37, 0.351, 16, 24, 0.667, 9, 21, 30, 24, 9, 2, 22, 23, -31.0], [\"22020\", 1610612744, \"GSW\", \"Golden State Warriors\", \"0022000594\", \"2021-03-14\", \"GSW vs. UTA\", \"W\", 241, 131, 50, 89, 0.562, 16, 31, 0.516, 15, 18, 0.833, 5, 35, 40, 33, 12, 2, 13, 26, 12.0], [\"22020\", 1610612744, \"GSW\", \"Golden State Warriors\", \"0022000576\", \"2021-03-11\", \"GSW @ LAC\", \"L\", 240, 104, 38, 88, 0.432, 9, 36, 0.25, 19, 27, 0.704, 5, 39, 44, 20, 6, 6, 16, 23, -26.0], [\"22020\", 1610612744, \"GSW\", \"Golden State Warriors\", \"0022000185\", \"2021-03-04\", \"GSW @ PHX\", \"L\", 239, 98, 38, 88, 0.432, 12, 35, 0.343, 10, 16, 0.625, 9, 31, 40, 22, 9, 4, 17, 11, -22.0], [\"22020\", 1610612744, \"GSW\", \"Golden State Warriors\", \"0022000550\", \"2021-03-03\", \"GSW @ POR\", \"L\", 241, 106, 41, 97, 0.423, 15, 42, 0.357, 9, 14, 0.643, 17, 37, 54, 27, 8, 1, 11, 24, -2.0], [\"22020\", 1610612744, \"GSW\", \"Golden State Warriors\", \"0022000527\", \"2021-02-28\", \"GSW @ LAL\", \"L\", 240, 91, 35, 86, 0.407, 8, 34, 0.235, 13, 19, 0.684, 3, 32, 35, 26, 10, 4, 20, 25, -26.0], [\"22020\", 1610612744, \"GSW\", \"Golden State Warriors\", \"0022000511\", \"2021-02-26\", \"GSW vs. CHA\", \"W\", 241, 130, 48, 79, 0.608, 11, 24, 0.458, 23, 25, 0.92, 4, 33, 37, 38, 10, 3, 23, 19, 9.0], [\"22020\", 1610612744, \"GSW\", \"Golden State Warriors\", \"0022000489\", \"2021-02-24\", \"GSW @ IND\", \"W\", 240, 111, 39, 83, 0.47, 5, 26, 0.192, 28, 31, 0.903, 8, 33, 41, 27, 10, 4, 18, 25, 4.0], [\"22020\", 1610612744, \"GSW\", \"Golden State Warriors\", \"0022000483\", \"2021-02-23\", \"GSW @ NYK\", \"W\", 242, 114, 40, 89, 0.449, 13, 38, 0.342, 21, 24, 0.875, 7, 34, 41, 30, 9, 8, 10, 18, 8.0], [\"22020\", 1610612744, \"GSW\", \"Golden State Warriors\", \"0022000459\", \"2021-02-20\", \"GSW @ CHA\", \"L\", 241, 100, 37, 85, 0.435, 13, 39, 0.333, 13, 17, 0.765, 9, 30, 39, 23, 10, 3, 14, 12, -2.0], [\"22020\", 1610612744, \"GSW\", \"Golden State Warriors\", \"0022000449\", \"2021-02-19\", \"GSW @ ORL\", \"L\", 241, 120, 46, 97, 0.474, 19, 42, 0.452, 9, 15, 0.6, 9, 36, 45, 37, 8, 0, 13, 19, -4.0], [\"22020\", 1610612744, \"GSW\", \"Golden State Warriors\", \"0022000443\", \"2021-02-17\", \"GSW vs. MIA\", \"W\", 265, 120, 43, 95, 0.453, 18, 52, 0.346, 16, 21, 0.762, 9, 37, 46, 32, 10, 1, 16, 19, 8.0], [\"22020\", 1610612744, \"GSW\", \"Golden State Warriors\", \"0022000424\", \"2021-02-15\", \"GSW vs. CLE\", \"W\", 240, 129, 46, 88, 0.523, 17, 37, 0.459, 20, 21, 0.952, 5, 34, 39, 34, 9, 10, 14, 23, 31.0], [\"22020\", 1610612744, \"GSW\", \"Golden State Warriors\", \"0022000409\", \"2021-02-13\", \"GSW vs. BKN\", \"L\", 240, 117, 44, 90, 0.489, 9, 34, 0.265, 20, 25, 0.8, 5, 32, 37, 25, 6, 6, 13, 15, -17.0], [\"22020\", 1610612744, \"GSW\", \"Golden State Warriors\", \"0022000393\", \"2021-02-11\", \"GSW vs. ORL\", \"W\", 239, 111, 41, 88, 0.466, 20, 50, 0.4, 9, 12, 0.75, 9, 37, 46, 29, 6, 6, 17, 20, 6.0], [\"22020\", 1610612744, \"GSW\", \"Golden State Warriors\", \"0022000378\", \"2021-02-09\", \"GSW @ SAS\", \"W\", 240, 114, 42, 91, 0.462, 17, 40, 0.425, 13, 19, 0.684, 10, 40, 50, 26, 8, 4, 10, 19, 23.0], [\"22020\", 1610612744, \"GSW\", \"Golden State Warriors\", \"0022000371\", \"2021-02-08\", \"GSW @ SAS\", \"L\", 241, 100, 38, 86, 0.442, 13, 37, 0.351, 11, 15, 0.733, 6, 43, 49, 29, 4, 6, 20, 19, -5.0], [\"22020\", 1610612744, \"GSW\", \"Golden State Warriors\", \"0022000360\", \"2021-02-06\", \"GSW @ DAL\", \"L\", 241, 132, 46, 86, 0.535, 20, 45, 0.444, 20, 23, 0.87, 6, 34, 40, 27, 11, 4, 16, 24, -2.0], [\"22020\", 1610612744, \"GSW\", \"Golden State Warriors\", \"0022000339\", \"2021-02-04\", \"GSW @ DAL\", \"W\", 240, 147, 51, 89, 0.573, 22, 43, 0.512, 23, 27, 0.852, 4, 41, 45, 37, 6, 6, 8, 19, 31.0], [\"22020\", 1610612744, \"GSW\", \"Golden State Warriors\", \"0022000326\", \"2021-02-02\", \"GSW vs. BOS\", \"L\", 240, 107, 38, 83, 0.458, 15, 37, 0.405, 16, 23, 0.696, 6, 30, 36, 30, 9, 4, 11, 23, -4.6], [\"22020\", 1610612744, \"GSW\", \"Golden State Warriors\", \"0022000305\", \"2021-01-30\", \"GSW vs. DET\", \"W\", 240, 118, 47, 89, 0.528, 17, 36, 0.472, 7, 10, 0.7, 8, 39, 47, 34, 6, 5, 14, 23, 27.0], [\"22020\", 1610612744, \"GSW\", \"Golden State Warriors\", \"0022000286\", \"2021-01-28\", \"GSW @ PHX\", \"L\", 241, 93, 38, 99, 0.384, 11, 38, 0.289, 6, 8, 0.75, 12, 36, 48, 21, 8, 1, 13, 19, -21.0], [\"22020\", 1610612744, \"GSW\", \"Golden State Warriors\", \"0022000283\", \"2021-01-27\", \"GSW vs. MIN\", \"W\", 240, 123, 45, 85, 0.529, 15, 34, 0.441, 18, 23, 0.783, 11, 35, 46, 32, 11, 5, 21, 28, 12.0], [\"22020\", 1610612744, \"GSW\", \"Golden State Warriors\", \"0022000266\", \"2021-01-25\", \"GSW vs. MIN\", \"W\", 240, 130, 44, 89, 0.494, 14, 30, 0.467, 28, 37, 0.757, 15, 31, 46, 21, 13, 10, 15, 19, 22.0], [\"22020\", 1610612744, \"GSW\", \"Golden State Warriors\", \"0022000242\", \"2021-01-23\", \"GSW @ UTA\", \"L\", 241, 108, 42, 93, 0.452, 14, 39, 0.359, 10, 15, 0.667, 4, 31, 35, 30, 6, 8, 11, 21, -19.0], [\"22020\", 1610612744, \"GSW\", \"Golden State Warriors\", \"0022000228\", \"2021-01-21\", \"GSW vs. NYK\", \"L\", 241, 104, 33, 86, 0.384, 9, 38, 0.237, 29, 39, 0.744, 9, 37, 46, 27, 5, 3, 10, 26, -15.0], [\"22020\", 1610612744, \"GSW\", \"Golden State Warriors\", \"0022000223\", \"2021-01-20\", \"GSW vs. SAS\", \"W\", 241, 121, 46, 91, 0.505, 15, 38, 0.395, 14, 20, 0.7, 10, 44, 54, 31, 6, 2, 14, 22, 22.0], [\"22020\", 1610612744, \"GSW\", \"Golden State Warriors\", \"0022000212\", \"2021-01-18\", \"GSW @ LAL\", \"W\", 240, 115, 44, 87, 0.506, 12, 37, 0.324, 15, 20, 0.75, 5, 27, 32, 31, 8, 3, 13, 27, 2.0], [\"22020\", 1610612744, \"GSW\", \"Golden State Warriors\", \"0022000177\", \"2021-01-14\", \"GSW @ DEN\", \"L\", 240, 104, 38, 81, 0.469, 11, 29, 0.379, 17, 24, 0.708, 5, 38, 43, 29, 9, 4, 19, 25, -10.0], [\"22020\", 1610612744, \"GSW\", \"Golden State Warriors\", \"0022000163\", \"2021-01-12\", \"GSW vs. IND\", \"L\", 240, 95, 34, 89, 0.382, 13, 38, 0.342, 14, 22, 0.636, 10, 36, 46, 25, 8, 8, 15, 21, -9.0], [\"22020\", 1610612744, \"GSW\", \"Golden State Warriors\", \"0022000148\", \"2021-01-10\", \"GSW vs. TOR\", \"W\", 240, 106, 38, 93, 0.409, 13, 46, 0.283, 17, 19, 0.895, 12, 39, 51, 30, 2, 10, 15, 18, 1.0], [\"22020\", 1610612744, \"GSW\", \"Golden State Warriors\", \"0022000130\", \"2021-01-08\", \"GSW vs. LAC\", \"W\", 240, 115, 40, 82, 0.488, 20, 41, 0.488, 15, 18, 0.833, 9, 29, 38, 25, 13, 3, 15, 19, 10.0], [\"22020\", 1610612744, \"GSW\", \"Golden State Warriors\", \"0022000116\", \"2021-01-06\", \"GSW vs. LAC\", \"L\", 239, 101, 39, 86, 0.453, 8, 30, 0.267, 15, 19, 0.789, 8, 27, 35, 25, 10, 2, 13, 21, -7.0], [\"22020\", 1610612744, \"GSW\", \"Golden State Warriors\", \"0022000101\", \"2021-01-04\", \"GSW vs. SAC\", \"W\", 240, 137, 51, 97, 0.526, 23, 43, 0.535, 12, 14, 0.857, 3, 45, 48, 41, 4, 6, 11, 28, 31.0], [\"22020\", 1610612744, \"GSW\", \"Golden State Warriors\", \"0022000092\", \"2021-01-03\", \"GSW vs. POR\", \"W\", 239, 137, 49, 88, 0.557, 13, 34, 0.382, 26, 34, 0.765, 11, 42, 53, 23, 4, 7, 15, 24, 15.0], [\"22020\", 1610612744, \"GSW\", \"Golden State Warriors\", \"0022000078\", \"2021-01-01\", \"GSW vs. POR\", \"L\", 239, 98, 31, 79, 0.392, 7, 35, 0.2, 29, 33, 0.879, 3, 41, 44, 19, 4, 9, 15, 28, -25.0], [\"22020\", 1610612744, \"GSW\", \"Golden State Warriors\", \"0022000047\", \"2020-12-29\", \"GSW @ DET\", \"W\", 241, 116, 38, 76, 0.5, 14, 33, 0.424, 26, 36, 0.722, 4, 36, 40, 21, 8, 8, 19, 28, 10.0], [\"22020\", 1610612744, \"GSW\", \"Golden State Warriors\", \"0022000038\", \"2020-12-27\", \"GSW @ CHI\", \"W\", 239, 129, 42, 104, 0.404, 18, 47, 0.383, 27, 30, 0.9, 10, 31, 41, 25, 17, 4, 12, 23, 1.0], [\"22020\", 1610612744, \"GSW\", \"Golden State Warriors\", \"0022000006\", \"2020-12-25\", \"GSW @ MIL\", \"L\", 241, 99, 34, 99, 0.343, 10, 45, 0.222, 21, 25, 0.84, 10, 33, 43, 14, 5, 6, 11, 22, -39.0], [\"22020\", 1610612744, \"GSW\", \"Golden State Warriors\", \"0022000001\", \"2020-12-22\", \"GSW @ BKN\", \"L\", 240, 99, 37, 99, 0.374, 10, 33, 0.303, 15, 23, 0.652, 13, 34, 47, 26, 6, 6, 18, 24, -26.0], [\"12020\", 1610612744, \"GSW\", \"Golden State Warriors\", \"0012000038\", \"2020-12-17\", \"GSW @ SAC\", \"W\", 239, 113, 39, 92, 0.424, 20, 43, 0.465, 15, 18, 0.833, 9, 45, 54, 20, 10, 8, 18, 29, 8.0], [\"12020\", 1610612744, \"GSW\", \"Golden State Warriors\", \"0012000027\", \"2020-12-15\", \"GSW @ SAC\", \"L\", 240, 113, 41, 96, 0.427, 13, 43, 0.302, 18, 29, 0.621, 10, 43, 53, 28, 13, 8, 16, 21, -1.0], [\"12020\", 1610612744, \"GSW\", \"Golden State Warriors\", \"0012000011\", \"2020-12-12\", \"GSW vs. DEN\", \"W\", 238, 107, 35, 80, 0.438, 11, 40, 0.275, 26, 35, 0.743, 5, 34, 39, 25, 7, 7, 17, 31, 2.0], [\"22019\", 1610612744, \"GSW\", \"Golden State Warriors\", \"0021900967\", \"2020-03-10\", \"GSW vs. LAC\", \"L\", 239, 107, 37, 79, 0.468, 11, 38, 0.289, 22, 27, 0.815, 4, 31, 35, 25, 3, 0, 9, 17, -24.0], [\"22019\", 1610612744, \"GSW\", \"Golden State Warriors\", \"0021900944\", \"2020-03-07\", \"GSW vs. PHI\", \"W\", 240, 118, 44, 80, 0.55, 9, 25, 0.36, 21, 28, 0.75, 7, 28, 35, 30, 4, 2, 7, 19, 4.0], [\"22019\", 1610612744, \"GSW\", \"Golden State Warriors\", \"0021900929\", \"2020-03-05\", \"GSW vs. TOR\", \"L\", 240, 113, 40, 98, 0.408, 14, 52, 0.269, 19, 25, 0.76, 14, 38, 52, 34, 4, 5, 15, 23, -8.0], [\"22019\", 1610612744, \"GSW\", \"Golden State Warriors\", \"0021900913\", \"2020-03-03\", \"GSW @ DEN\", \"W\", 239, 116, 42, 82, 0.512, 18, 41, 0.439, 14, 22, 0.636, 5, 30, 35, 31, 8, 3, 11, 23, 16.0], [\"22019\", 1610612744, \"GSW\", \"Golden State Warriors\", \"0021900901\", \"2020-03-01\", \"GSW vs. WAS\", \"L\", 239, 110, 42, 89, 0.472, 9, 28, 0.321, 17, 24, 0.708, 18, 34, 52, 25, 7, 7, 21, 24, -14.0], [\"22019\", 1610612744, \"GSW\", \"Golden State Warriors\", \"0021900894\", \"2020-02-29\", \"GSW @ PHX\", \"W\", 242, 115, 41, 87, 0.471, 9, 30, 0.3, 24, 32, 0.75, 13, 36, 49, 30, 9, 6, 10, 21, 16.0], [\"22019\", 1610612744, \"GSW\", \"Golden State Warriors\", \"0021900876\", \"2020-02-27\", \"GSW vs. LAL\", \"L\", 240, 86, 34, 80, 0.425, 9, 32, 0.281, 9, 10, 0.9, 5, 32, 37, 27, 7, 3, 26, 27, -30.0], [\"22019\", 1610612744, \"GSW\", \"Golden State Warriors\", \"0021900863\", \"2020-02-25\", \"GSW vs. SAC\", \"L\", 241, 94, 35, 79, 0.443, 4, 28, 0.143, 20, 24, 0.833, 5, 29, 34, 21, 7, 2, 16, 25, -18.0], [\"22019\", 1610612744, \"GSW\", \"Golden State Warriors\", \"0021900847\", \"2020-02-23\", \"GSW vs. NOP\", \"L\", 241, 101, 40, 92, 0.435, 11, 35, 0.314, 10, 15, 0.667, 11, 37, 48, 28, 9, 7, 13, 16, -14.0], [\"22019\", 1610612744, \"GSW\", \"Golden State Warriors\", \"0021900825\", \"2020-02-20\", \"GSW vs. HOU\", \"L\", 241, 105, 44, 89, 0.494, 7, 33, 0.212, 10, 12, 0.833, 13, 27, 40, 26, 11, 7, 21, 16, -30.0], [\"22019\", 1610612744, \"GSW\", \"Golden State Warriors\", \"0021900815\", \"2020-02-12\", \"GSW @ PHX\", \"L\", 240, 106, 39, 77, 0.506, 11, 31, 0.355, 17, 19, 0.895, 4, 34, 38, 27, 8, 7, 22, 20, -6.0], [\"22019\", 1610612744, \"GSW\", \"Golden State Warriors\", \"0021900800\", \"2020-02-10\", \"GSW vs. MIA\", \"L\", 240, 101, 30, 77, 0.39, 11, 34, 0.324, 30, 34, 0.882, 6, 34, 40, 23, 8, 2, 15, 21, -12.0], [\"22019\", 1610612744, \"GSW\", \"Golden State Warriors\", \"0021900783\", \"2020-02-08\", \"GSW vs. LAL\", \"L\", 238, 120, 46, 89, 0.517, 13, 32, 0.406, 15, 23, 0.652, 8, 25, 33, 31, 15, 6, 18, 27, -5.0], [\"22019\", 1610612744, \"GSW\", \"Golden State Warriors\", \"0021900757\", \"2020-02-05\", \"GSW @ BKN\", \"L\", 241, 88, 35, 96, 0.365, 5, 39, 0.128, 13, 18, 0.722, 7, 27, 34, 20, 6, 7, 7, 14, -41.0], [\"22019\", 1610612744, \"GSW\", \"Golden State Warriors\", \"0021900744\", \"2020-02-03\", \"GSW @ WAS\", \"W\", 241, 125, 43, 87, 0.494, 15, 30, 0.5, 24, 31, 0.774, 12, 32, 44, 31, 8, 6, 14, 25, 8.0], [\"22019\", 1610612744, \"GSW\", \"Golden State Warriors\", \"0021900730\", \"2020-02-01\", \"GSW @ CLE\", \"W\", 242, 131, 48, 90, 0.533, 18, 35, 0.514, 17, 19, 0.895, 10, 34, 44, 39, 11, 10, 11, 16, 19.0], [\"22019\", 1610612744, \"GSW\", \"Golden State Warriors\", \"0021900717\", \"2020-01-30\", \"GSW @ BOS\", \"L\", 239, 104, 33, 77, 0.429, 12, 39, 0.308, 26, 30, 0.867, 3, 27, 30, 24, 11, 6, 16, 19, -15.0], [\"22019\", 1610612744, \"GSW\", \"Golden State Warriors\", \"0021900702\", \"2020-01-28\", \"GSW @ PHI\", \"L\", 239, 104, 37, 87, 0.425, 15, 40, 0.375, 15, 21, 0.714, 6, 34, 40, 29, 6, 3, 13, 24, -11.0], [\"22019\", 1610612744, \"GSW\", \"Golden State Warriors\", \"0021900679\", \"2020-01-24\", \"GSW vs. IND\", \"L\", 241, 118, 40, 82, 0.488, 19, 39, 0.487, 19, 23, 0.826, 7, 31, 38, 31, 6, 3, 20, 16, -11.0], [\"22019\", 1610612744, \"GSW\", \"Golden State Warriors\", \"0021900665\", \"2020-01-22\", \"GSW vs. UTA\", \"L\", 241, 96, 35, 88, 0.398, 6, 23, 0.261, 20, 24, 0.833, 11, 26, 37, 20, 5, 5, 8, 23, -33.0], [\"22019\", 1610612744, \"GSW\", \"Golden State Warriors\", \"0021900652\", \"2020-01-20\", \"GSW @ POR\", \"L\", 265, 124, 48, 116, 0.414, 9, 36, 0.25, 19, 22, 0.864, 19, 41, 60, 30, 7, 5, 9, 25, -5.0], [\"22019\", 1610612744, \"GSW\", \"Golden State Warriors\", \"0021900634\", \"2020-01-18\", \"GSW vs. ORL\", \"W\", 241, 109, 43, 94, 0.457, 12, 40, 0.3, 11, 11, 1.0, 7, 37, 44, 25, 9, 2, 10, 13, 14.0], [\"22019\", 1610612744, \"GSW\", \"Golden State Warriors\", \"0021900617\", \"2020-01-16\", \"GSW vs. DEN\", \"L\", 265, 131, 42, 95, 0.442, 20, 45, 0.444, 27, 31, 0.871, 10, 32, 42, 36, 12, 6, 18, 20, -3.0], [\"22019\", 1610612744, \"GSW\", \"Golden State Warriors\", \"0021900602\", \"2020-01-14\", \"GSW vs. DAL\", \"L\", 239, 97, 39, 87, 0.448, 9, 32, 0.281, 10, 13, 0.769, 7, 29, 36, 27, 4, 1, 14, 16, -27.0], [\"22019\", 1610612744, \"GSW\", \"Golden State Warriors\", \"0021900588\", \"2020-01-12\", \"GSW @ MEM\", \"L\", 241, 102, 35, 92, 0.38, 17, 34, 0.5, 15, 21, 0.714, 12, 35, 47, 23, 11, 6, 22, 18, -20.0], [\"22019\", 1610612744, \"GSW\", \"Golden State Warriors\", \"0021900576\", \"2020-01-10\", \"GSW @ LAC\", \"L\", 241, 100, 37, 96, 0.385, 8, 39, 0.205, 18, 25, 0.72, 13, 33, 46, 28, 9, 1, 10, 22, -9.0], [\"22019\", 1610612744, \"GSW\", \"Golden State Warriors\", \"0021900562\", \"2020-01-08\", \"GSW vs. MIL\", \"L\", 239, 98, 33, 87, 0.379, 15, 38, 0.395, 17, 20, 0.85, 12, 40, 52, 29, 7, 4, 18, 30, -9.0], [\"22019\", 1610612744, \"GSW\", \"Golden State Warriors\", \"0021900547\", \"2020-01-06\", \"GSW @ SAC\", \"L\", 240, 98, 34, 86, 0.395, 5, 26, 0.192, 25, 32, 0.781, 10, 34, 44, 19, 13, 4, 17, 18, -13.0], [\"22019\", 1610612744, \"GSW\", \"Golden State Warriors\", \"0021900532\", \"2020-01-04\", \"GSW vs. DET\", \"L\", 240, 104, 33, 82, 0.402, 11, 21, 0.524, 27, 32, 0.844, 11, 31, 42, 26, 13, 3, 14, 19, -7.0], [\"22019\", 1610612744, \"GSW\", \"Golden State Warriors\", \"0021900512\", \"2020-01-02\", \"GSW @ MIN\", \"L\", 238, 84, 33, 77, 0.429, 3, 20, 0.15, 15, 21, 0.714, 7, 36, 43, 20, 9, 1, 16, 20, -15.0], [\"22019\", 1610612744, \"GSW\", \"Golden State Warriors\", \"0021900502\", \"2019-12-31\", \"GSW @ SAS\", \"L\", 266, 113, 44, 96, 0.458, 12, 27, 0.444, 13, 18, 0.722, 9, 35, 44, 31, 5, 6, 8, 14, -4.0], [\"22019\", 1610612744, \"GSW\", \"Golden State Warriors\", \"0021900482\", \"2019-12-28\", \"GSW vs. DAL\", \"L\", 240, 121, 45, 93, 0.484, 18, 39, 0.462, 13, 17, 0.765, 9, 33, 42, 28, 4, 3, 13, 19, -20.0], [\"22019\", 1610612744, \"GSW\", \"Golden State Warriors\", \"0021900471\", \"2019-12-27\", \"GSW vs. PHX\", \"W\", 239, 105, 38, 92, 0.413, 9, 27, 0.333, 20, 25, 0.8, 11, 30, 41, 22, 10, 5, 10, 17, 9.0], [\"22019\", 1610612744, \"GSW\", \"Golden State Warriors\", \"0021900457\", \"2019-12-25\", \"GSW vs. HOU\", \"W\", 239, 116, 41, 87, 0.471, 9, 28, 0.321, 25, 28, 0.893, 11, 43, 54, 27, 7, 8, 16, 18, 12.0], [\"22019\", 1610612744, \"GSW\", \"Golden State Warriors\", \"0021900454\", \"2019-12-23\", \"GSW vs. MIN\", \"W\", 239, 113, 38, 87, 0.437, 12, 30, 0.4, 25, 30, 0.833, 13, 42, 55, 27, 11, 6, 19, 27, 9.0], [\"22019\", 1610612744, \"GSW\", \"Golden State Warriors\", \"0021900429\", \"2019-12-20\", \"GSW vs. NOP\", \"W\", 242, 106, 36, 83, 0.434, 10, 33, 0.303, 24, 25, 0.96, 10, 37, 47, 25, 10, 4, 17, 24, 4.0], [\"22019\", 1610612744, \"GSW\", \"Golden State Warriors\", \"0021900415\", \"2019-12-18\", \"GSW @ POR\", \"L\", 240, 112, 41, 103, 0.398, 16, 38, 0.421, 14, 23, 0.609, 17, 33, 50, 24, 7, 7, 8, 23, -10.0], [\"22019\", 1610612744, \"GSW\", \"Golden State Warriors\", \"0021900393\", \"2019-12-15\", \"GSW vs. SAC\", \"L\", 240, 79, 30, 76, 0.395, 6, 25, 0.24, 13, 18, 0.722, 7, 18, 25, 24, 14, 1, 20, 17, -21.0], [\"22019\", 1610612744, \"GSW\", \"Golden State Warriors\", \"0021900379\", \"2019-12-13\", \"GSW @ UTA\", \"L\", 240, 106, 41, 91, 0.451, 9, 29, 0.31, 15, 22, 0.682, 14, 34, 48, 19, 9, 7, 12, 26, -8.0], [\"22019\", 1610612744, \"GSW\", \"Golden State Warriors\", \"0021900366\", \"2019-12-11\", \"GSW vs. NYK\", \"L\", 264, 122, 45, 104, 0.433, 10, 37, 0.27, 22, 30, 0.733, 14, 32, 46, 27, 10, 6, 8, 25, -2.0], [\"22019\", 1610612744, \"GSW\", \"Golden State Warriors\", \"0021900351\", \"2019-12-09\", \"GSW vs. MEM\", \"L\", 239, 102, 35, 93, 0.376, 11, 27, 0.407, 21, 25, 0.84, 10, 36, 46, 23, 10, 6, 15, 21, -8.0], [\"22019\", 1610612744, \"GSW\", \"Golden State Warriors\", \"0021900325\", \"2019-12-06\", \"GSW @ CHI\", \"W\", 240, 100, 38, 71, 0.535, 9, 24, 0.375, 15, 22, 0.682, 6, 33, 39, 24, 9, 4, 19, 19, 2.0], [\"22019\", 1610612744, \"GSW\", \"Golden State Warriors\", \"0021900306\", \"2019-12-04\", \"GSW @ CHA\", \"L\", 240, 91, 36, 78, 0.462, 9, 23, 0.391, 10, 15, 0.667, 6, 31, 37, 18, 7, 3, 16, 12, -15.0], [\"22019\", 1610612744, \"GSW\", \"Golden State Warriors\", \"0021900295\", \"2019-12-02\", \"GSW @ ATL\", \"L\", 241, 79, 33, 83, 0.398, 3, 17, 0.176, 10, 12, 0.833, 18, 28, 46, 17, 11, 8, 23, 20, -25.0], [\"22019\", 1610612744, \"GSW\", \"Golden State Warriors\", \"0021900290\", \"2019-12-01\", \"GSW @ ORL\", \"L\", 240, 96, 36, 91, 0.396, 6, 23, 0.261, 18, 23, 0.783, 15, 31, 46, 21, 6, 5, 10, 17, -4.0], [\"22019\", 1610612744, \"GSW\", \"Golden State Warriors\", \"0021900273\", \"2019-11-29\", \"GSW @ MIA\", \"L\", 239, 105, 30, 77, 0.39, 10, 28, 0.357, 35, 40, 0.875, 5, 26, 31, 19, 4, 3, 9, 23, -17.0], [\"22019\", 1610612744, \"GSW\", \"Golden State Warriors\", \"0021900266\", \"2019-11-27\", \"GSW vs. CHI\", \"W\", 240, 104, 37, 81, 0.457, 11, 29, 0.379, 19, 26, 0.731, 13, 41, 54, 31, 12, 9, 20, 17, 14.0], [\"22019\", 1610612744, \"GSW\", \"Golden State Warriors\", \"0021900250\", \"2019-11-25\", \"GSW vs. OKC\", \"L\", 239, 97, 37, 89, 0.416, 9, 20, 0.45, 14, 16, 0.875, 9, 32, 41, 27, 10, 7, 12, 17, -3.0], [\"22019\", 1610612744, \"GSW\", \"Golden State Warriors\", \"0021900223\", \"2019-11-22\", \"GSW @ UTA\", \"L\", 240, 109, 43, 94, 0.457, 12, 28, 0.429, 11, 12, 0.917, 6, 31, 37, 28, 11, 3, 8, 18, -4.0], [\"22019\", 1610612744, \"GSW\", \"Golden State Warriors\", \"0021900208\", \"2019-11-20\", \"GSW @ DAL\", \"L\", 239, 94, 35, 90, 0.389, 8, 27, 0.296, 16, 25, 0.64, 9, 25, 34, 18, 7, 5, 9, 16, -48.0], [\"22019\", 1610612744, \"GSW\", \"Golden State Warriors\", \"0021900198\", \"2019-11-19\", \"GSW @ MEM\", \"W\", 241, 114, 43, 90, 0.478, 9, 29, 0.31, 19, 22, 0.864, 11, 40, 51, 33, 5, 10, 14, 24, 19.0], [\"22019\", 1610612744, \"GSW\", \"Golden State Warriors\", \"0021900187\", \"2019-11-17\", \"GSW @ NOP\", \"L\", 241, 100, 37, 91, 0.407, 7, 25, 0.28, 19, 23, 0.826, 9, 34, 43, 23, 7, 3, 10, 19, -8.0], [\"22019\", 1610612744, \"GSW\", \"Golden State Warriors\", \"0021900173\", \"2019-11-15\", \"GSW vs. BOS\", \"L\", 241, 100, 34, 82, 0.415, 5, 28, 0.179, 27, 34, 0.794, 12, 43, 55, 17, 8, 4, 19, 19, -5.0], [\"22019\", 1610612744, \"GSW\", \"Golden State Warriors\", \"0021900159\", \"2019-11-13\", \"GSW @ LAL\", \"L\", 241, 94, 36, 89, 0.404, 9, 35, 0.257, 13, 17, 0.765, 10, 23, 33, 29, 8, 7, 17, 14, -26.0], [\"22019\", 1610612744, \"GSW\", \"Golden State Warriors\", \"0021900144\", \"2019-11-11\", \"GSW vs. UTA\", \"L\", 240, 108, 45, 94, 0.479, 10, 31, 0.323, 8, 14, 0.571, 8, 36, 44, 23, 8, 2, 10, 24, -14.0], [\"22019\", 1610612744, \"GSW\", \"Golden State Warriors\", \"0021900131\", \"2019-11-09\", \"GSW @ OKC\", \"L\", 239, 108, 42, 85, 0.494, 7, 22, 0.318, 17, 17, 1.0, 6, 28, 34, 22, 9, 6, 15, 18, -6.0], [\"22019\", 1610612744, \"GSW\", \"Golden State Warriors\", \"0021900120\", \"2019-11-08\", \"GSW @ MIN\", \"L\", 265, 119, 43, 103, 0.417, 10, 35, 0.286, 23, 24, 0.958, 13, 36, 49, 18, 12, 9, 20, 26, -6.0], [\"22019\", 1610612744, \"GSW\", \"Golden State Warriors\", \"0021900107\", \"2019-11-06\", \"GSW @ HOU\", \"L\", 241, 112, 38, 96, 0.396, 13, 33, 0.394, 23, 28, 0.821, 16, 35, 51, 22, 7, 1, 10, 12, -17.0], [\"22019\", 1610612744, \"GSW\", \"Golden State Warriors\", \"0021900096\", \"2019-11-04\", \"GSW vs. POR\", \"W\", 241, 127, 42, 86, 0.488, 10, 26, 0.385, 33, 36, 0.917, 8, 39, 47, 28, 4, 4, 10, 17, 9.0], [\"22019\", 1610612744, \"GSW\", \"Golden State Warriors\", \"0021900083\", \"2019-11-02\", \"GSW vs. CHA\", \"L\", 241, 87, 34, 77, 0.442, 9, 28, 0.321, 10, 13, 0.769, 5, 35, 40, 23, 5, 5, 18, 22, -6.0], [\"22019\", 1610612744, \"GSW\", \"Golden State Warriors\", \"0021900076\", \"2019-11-01\", \"GSW vs. SAS\", \"L\", 240, 110, 39, 84, 0.464, 13, 28, 0.464, 19, 21, 0.905, 7, 32, 39, 25, 4, 2, 11, 22, -17.0], [\"22019\", 1610612744, \"GSW\", \"Golden State Warriors\", \"0021900065\", \"2019-10-30\", \"GSW vs. PHX\", \"L\", 240, 110, 36, 82, 0.439, 8, 28, 0.286, 30, 36, 0.833, 7, 36, 43, 24, 8, 6, 18, 22, -11.0], [\"22019\", 1610612744, \"GSW\", \"Golden State Warriors\", \"0021900047\", \"2019-10-28\", \"GSW @ NOP\", \"W\", 240, 134, 51, 104, 0.49, 14, 35, 0.4, 18, 24, 0.75, 19, 42, 61, 37, 8, 2, 18, 22, 11.0], [\"22019\", 1610612744, \"GSW\", \"Golden State Warriors\", \"0021900036\", \"2019-10-27\", \"GSW @ OKC\", \"L\", 239, 92, 30, 92, 0.326, 5, 33, 0.152, 27, 31, 0.871, 12, 27, 39, 17, 13, 2, 14, 15, -28.0], [\"22019\", 1610612744, \"GSW\", \"Golden State Warriors\", \"0021900016\", \"2019-10-24\", \"GSW vs. LAC\", \"L\", 238, 122, 39, 99, 0.394, 15, 42, 0.357, 29, 30, 0.967, 15, 27, 42, 27, 7, 0, 13, 21, -19.0], [\"12019\", 1610612744, \"GSW\", \"Golden State Warriors\", \"0011900079\", \"2019-10-18\", \"GSW vs. LAL\", \"W\", 241, 124, 38, 93, 0.409, 18, 46, 0.391, 30, 37, 0.811, 19, 37, 56, 24, 15, 6, 17, 32, 21.0], [\"12019\", 1610612744, \"GSW\", \"Golden State Warriors\", \"0011900068\", \"2019-10-16\", \"GSW @ LAL\", \"L\", 241, 93, 31, 85, 0.365, 7, 33, 0.212, 24, 27, 0.889, 9, 25, 34, 10, 9, 3, 18, 20, -33.0], [\"12019\", 1610612744, \"GSW\", \"Golden State Warriors\", \"0011900058\", \"2019-10-14\", \"GSW @ LAL\", \"L\", 240, 98, 34, 94, 0.362, 9, 36, 0.25, 21, 23, 0.913, 16, 30, 46, 22, 12, 10, 21, 28, -6.0], [\"12019\", 1610612744, \"GSW\", \"Golden State Warriors\", \"0011900035\", \"2019-10-10\", \"GSW vs. MIN\", \"W\", 238, 143, 50, 95, 0.526, 19, 37, 0.514, 24, 27, 0.889, 10, 40, 50, 34, 9, 11, 21, 28, 20.0], [\"12019\", 1610612744, \"GSW\", \"Golden State Warriors\", \"0011900006\", \"2019-10-05\", \"GSW vs. LAL\", \"L\", 240, 101, 35, 89, 0.393, 11, 42, 0.262, 20, 26, 0.769, 10, 37, 47, 20, 10, 2, 16, 27, -22.0], [\"22019\", 1610612744, \"GSW\", \"Golden State Warriors\", \"1521900066\", \"2019-07-12\", \"GSW vs. LAL\", \"L\", 200, 87, 32, 82, 0.39, 7, 31, 0.226, 16, 20, 0.8, 13, 29, 42, 13, 10, 3, 11, 21, 3.2], [\"22019\", 1610612744, \"GSW\", \"Golden State Warriors\", \"1521900058\", \"2019-07-10\", \"GSW @ DEN\", \"W\", 201, 73, 29, 66, 0.439, 2, 15, 0.133, 13, 15, 0.867, 7, 27, 34, 10, 11, 7, 20, 20, -8.0], [\"22019\", 1610612744, \"GSW\", \"Golden State Warriors\", \"1521900039\", \"2019-07-08\", \"GSW @ LAL\", \"W\", 200, 88, 32, 74, 0.432, 6, 28, 0.214, 18, 29, 0.621, 8, 29, 37, 21, 10, 4, 13, 22, 8.0], [\"22019\", 1610612744, \"GSW\", \"Golden State Warriors\", \"1521900020\", \"2019-07-07\", \"GSW vs. TOR\", \"W\", 201, 80, 28, 70, 0.4, 12, 27, 0.444, 12, 13, 0.923, 6, 37, 43, 18, 8, 3, 20, 25, 10.0], [\"22019\", 1610612744, \"GSW\", \"Golden State Warriors\", \"1521900007\", \"2019-07-05\", \"GSW vs. CHA\", \"L\", 200, 85, 33, 85, 0.388, 11, 40, 0.275, 8, 9, 0.889, 8, 28, 36, 19, 9, 3, 13, 15, -8.0], [\"22019\", 1610612744, \"GSW\", \"Golden State Warriors\", \"1321900005\", \"2019-07-03\", \"GSW vs. MIA\", \"L\", 240, 65, 24, 65, 0.369, 5, 18, 0.278, 12, 15, 0.8, 10, 27, 37, 11, 5, 3, 21, 19, -6.0], [\"22019\", 1610612744, \"GSW\", \"Golden State Warriors\", \"1321900003\", \"2019-07-02\", \"GSW vs. LAL\", \"L\", 242, 90, 30, 66, 0.455, 9, 24, 0.375, 21, 31, 0.677, 9, 22, 31, 18, 9, 6, 20, 19, -7.6], [\"22019\", 1610612744, \"GSW\", \"Golden State Warriors\", \"1321900002\", \"2019-07-01\", \"GSW @ SAC\", \"L\", 240, 77, 27, 65, 0.415, 6, 28, 0.214, 17, 24, 0.708, 7, 29, 36, 13, 7, 4, 17, 25, -4.0], [\"42018\", 1610612744, \"GSW\", \"Golden State Warriors\", \"0041800406\", \"2019-06-13\", \"GSW vs. TOR\", \"L\", 240, 110, 39, 80, 0.488, 11, 31, 0.355, 21, 30, 0.7, 11, 31, 42, 28, 9, 6, 16, 23, -4.0], [\"42018\", 1610612744, \"GSW\", \"Golden State Warriors\", \"0041800405\", \"2019-06-10\", \"GSW @ TOR\", \"W\", 240, 106, 38, 82, 0.463, 20, 42, 0.476, 10, 14, 0.714, 6, 31, 37, 27, 5, 7, 15, 22, 1.0], [\"42018\", 1610612744, \"GSW\", \"Golden State Warriors\", \"0041800404\", \"2019-06-07\", \"GSW vs. TOR\", \"L\", 241, 92, 35, 78, 0.449, 8, 27, 0.296, 14, 21, 0.667, 8, 34, 42, 26, 6, 6, 17, 23, -13.0], [\"42018\", 1610612744, \"GSW\", \"Golden State Warriors\", \"0041800403\", \"2019-06-05\", \"GSW vs. TOR\", \"L\", 241, 109, 36, 91, 0.396, 12, 36, 0.333, 25, 30, 0.833, 13, 28, 41, 25, 8, 3, 14, 21, -14.0], [\"42018\", 1610612744, \"GSW\", \"Golden State Warriors\", \"0041800402\", \"2019-06-02\", \"GSW @ TOR\", \"W\", 240, 109, 38, 82, 0.463, 13, 34, 0.382, 20, 23, 0.87, 6, 36, 42, 34, 7, 5, 15, 26, 5.0], [\"42018\", 1610612744, \"GSW\", \"Golden State Warriors\", \"0041800401\", \"2019-05-30\", \"GSW @ TOR\", \"L\", 239, 109, 34, 78, 0.436, 12, 31, 0.387, 29, 31, 0.935, 9, 29, 38, 29, 6, 2, 16, 27, -9.0], [\"42018\", 1610612744, \"GSW\", \"Golden State Warriors\", \"0041800314\", \"2019-05-20\", \"GSW @ POR\", \"W\", 264, 119, 46, 99, 0.465, 12, 39, 0.308, 15, 19, 0.789, 15, 41, 56, 30, 10, 5, 15, 17, 2.0], [\"42018\", 1610612744, \"GSW\", \"Golden State Warriors\", \"0041800313\", \"2019-05-18\", \"GSW @ POR\", \"W\", 239, 110, 41, 84, 0.488, 8, 26, 0.308, 20, 23, 0.87, 7, 42, 49, 27, 9, 5, 13, 24, 11.0], [\"42018\", 1610612744, \"GSW\", \"Golden State Warriors\", \"0041800312\", \"2019-05-16\", \"GSW vs. POR\", \"W\", 242, 114, 42, 82, 0.512, 9, 29, 0.31, 21, 27, 0.778, 12, 38, 50, 30, 4, 9, 16, 21, 3.0], [\"42018\", 1610612744, \"GSW\", \"Golden State Warriors\", \"0041800311\", \"2019-05-14\", \"GSW vs. POR\", \"W\", 240, 116, 42, 84, 0.5, 17, 33, 0.515, 15, 18, 0.833, 11, 31, 42, 30, 13, 8, 14, 24, 22.0], [\"42018\", 1610612744, \"GSW\", \"Golden State Warriors\", \"0041800226\", \"2019-05-10\", \"GSW @ HOU\", \"W\", 241, 118, 42, 85, 0.494, 16, 38, 0.421, 18, 23, 0.783, 10, 25, 35, 25, 9, 7, 17, 19, 5.0], [\"42018\", 1610612744, \"GSW\", \"Golden State Warriors\", \"0041800225\", \"2019-05-08\", \"GSW vs. HOU\", \"W\", 240, 104, 39, 85, 0.459, 13, 37, 0.351, 13, 18, 0.722, 12, 30, 42, 28, 6, 1, 15, 19, 5.0], [\"42018\", 1610612744, \"GSW\", \"Golden State Warriors\", \"0041800224\", \"2019-05-06\", \"GSW @ HOU\", \"L\", 239, 108, 42, 90, 0.467, 8, 33, 0.242, 16, 23, 0.696, 8, 35, 43, 24, 6, 2, 11, 21, -4.0], [\"42018\", 1610612744, \"GSW\", \"Golden State Warriors\", \"0041800223\", \"2019-05-04\", \"GSW @ HOU\", \"L\", 266, 121, 42, 95, 0.442, 14, 33, 0.424, 23, 29, 0.793, 7, 28, 35, 27, 6, 6, 8, 22, -5.0], [\"42018\", 1610612744, \"GSW\", \"Golden State Warriors\", \"0041800222\", \"2019-04-30\", \"GSW vs. HOU\", \"W\", 239, 115, 42, 91, 0.462, 11, 36, 0.306, 20, 24, 0.833, 18, 27, 45, 24, 10, 5, 12, 23, 6.0], [\"42018\", 1610612744, \"GSW\", \"Golden State Warriors\", \"0041800221\", \"2019-04-28\", \"GSW vs. HOU\", \"W\", 239, 104, 38, 75, 0.507, 7, 22, 0.318, 21, 27, 0.778, 8, 30, 38, 24, 7, 3, 20, 24, 4.0], [\"42018\", 1610612744, \"GSW\", \"Golden State Warriors\", \"0041800146\", \"2019-04-26\", \"GSW @ LAC\", \"W\", 239, 129, 47, 89, 0.528, 10, 30, 0.333, 25, 31, 0.806, 7, 39, 46, 32, 6, 9, 10, 24, 19.0], [\"42018\", 1610612744, \"GSW\", \"Golden State Warriors\", \"0041800145\", \"2019-04-24\", \"GSW vs. LAC\", \"L\", 240, 121, 43, 96, 0.448, 15, 39, 0.385, 20, 22, 0.909, 15, 24, 39, 31, 7, 3, 8, 23, -8.0], [\"42018\", 1610612744, \"GSW\", \"Golden State Warriors\", \"0041800144\", \"2019-04-21\", \"GSW @ LAC\", \"W\", 239, 113, 42, 89, 0.472, 12, 31, 0.387, 17, 19, 0.895, 11, 38, 49, 27, 5, 2, 13, 27, 8.0], [\"42018\", 1610612744, \"GSW\", \"Golden State Warriors\", \"0041800143\", \"2019-04-18\", \"GSW @ LAC\", \"W\", 242, 132, 51, 93, 0.548, 15, 35, 0.429, 15, 18, 0.833, 10, 40, 50, 35, 4, 11, 12, 28, 27.0], [\"42018\", 1610612744, \"GSW\", \"Golden State Warriors\", \"0041800142\", \"2019-04-15\", \"GSW vs. LAC\", \"L\", 240, 131, 40, 75, 0.533, 11, 28, 0.393, 40, 45, 0.889, 7, 31, 38, 31, 11, 6, 22, 31, -4.0], [\"42018\", 1610612744, \"GSW\", \"Golden State Warriors\", \"0041800141\", \"2019-04-13\", \"GSW vs. LAC\", \"W\", 241, 121, 45, 92, 0.489, 14, 30, 0.467, 17, 20, 0.85, 12, 42, 54, 31, 9, 14, 21, 22, 17.0], [\"22018\", 1610612744, \"GSW\", \"Golden State Warriors\", \"0021801225\", \"2019-04-10\", \"GSW @ MEM\", \"L\", 239, 117, 46, 92, 0.5, 13, 30, 0.433, 12, 14, 0.857, 9, 30, 39, 32, 3, 5, 14, 17, -15.0], [\"22018\", 1610612744, \"GSW\", \"Golden State Warriors\", \"0021801215\", \"2019-04-09\", \"GSW @ NOP\", \"W\", 241, 112, 43, 89, 0.483, 12, 30, 0.4, 14, 21, 0.667, 11, 47, 58, 25, 8, 3, 14, 17, 9.0], [\"22018\", 1610612744, \"GSW\", \"Golden State Warriors\", \"0021801205\", \"2019-04-07\", \"GSW vs. LAC\", \"W\", 238, 131, 53, 97, 0.546, 12, 37, 0.324, 13, 15, 0.867, 11, 37, 48, 34, 16, 8, 9, 22, 27.0], [\"22018\", 1610612744, \"GSW\", \"Golden State Warriors\", \"0021801191\", \"2019-04-05\", \"GSW vs. CLE\", \"W\", 240, 120, 46, 87, 0.529, 20, 37, 0.541, 8, 8, 1.0, 4, 34, 38, 29, 2, 8, 13, 21, 6.0], [\"22018\", 1610612744, \"GSW\", \"Golden State Warriors\", \"0021801179\", \"2019-04-04\", \"GSW @ LAL\", \"W\", 241, 108, 43, 98, 0.439, 18, 46, 0.391, 4, 5, 0.8, 9, 42, 51, 30, 11, 5, 14, 18, 18.0], [\"22018\", 1610612744, \"GSW\", \"Golden State Warriors\", \"0021801164\", \"2019-04-02\", \"GSW vs. DEN\", \"W\", 238, 116, 50, 92, 0.543, 13, 34, 0.382, 3, 8, 0.375, 13, 42, 55, 36, 11, 11, 24, 21, 14.0], [\"22018\", 1610612744, \"GSW\", \"Golden State Warriors\", \"0021801150\", \"2019-03-31\", \"GSW vs. CHA\", \"W\", 238, 137, 53, 88, 0.602, 21, 33, 0.636, 10, 12, 0.833, 10, 40, 50, 41, 7, 10, 15, 19, 47.0], [\"22018\", 1610612744, \"GSW\", \"Golden State Warriors\", \"0021801132\", \"2019-03-29\", \"GSW @ MIN\", \"L\", 266, 130, 46, 98, 0.469, 18, 40, 0.45, 20, 28, 0.714, 8, 37, 45, 27, 11, 3, 14, 24, -1.0], [\"22018\", 1610612744, \"GSW\", \"Golden State Warriors\", \"0021801118\", \"2019-03-27\", \"GSW @ MEM\", \"W\", 241, 118, 45, 84, 0.536, 15, 31, 0.484, 13, 15, 0.867, 6, 40, 46, 30, 9, 7, 14, 19, 15.0], [\"22018\", 1610612744, \"GSW\", \"Golden State Warriors\", \"0021801101\", \"2019-03-24\", \"GSW vs. DET\", \"W\", 240, 121, 46, 74, 0.622, 13, 25, 0.52, 16, 19, 0.842, 7, 30, 37, 31, 3, 5, 13, 23, 7.0], [\"22018\", 1610612744, \"GSW\", \"Golden State Warriors\", \"0021801092\", \"2019-03-23\", \"GSW vs. DAL\", \"L\", 241, 91, 36, 90, 0.4, 4, 30, 0.133, 15, 21, 0.714, 8, 28, 36, 22, 6, 2, 10, 22, -35.0], [\"22018\", 1610612744, \"GSW\", \"Golden State Warriors\", \"0021801079\", \"2019-03-21\", \"GSW vs. IND\", \"W\", 240, 112, 44, 89, 0.494, 13, 36, 0.361, 11, 16, 0.688, 10, 40, 50, 32, 6, 8, 15, 19, 23.0], [\"22018\", 1610612744, \"GSW\", \"Golden State Warriors\", \"0021801062\", \"2019-03-19\", \"GSW @ MIN\", \"W\", 240, 117, 44, 91, 0.484, 19, 42, 0.452, 10, 14, 0.714, 8, 38, 46, 39, 6, 7, 13, 25, 10.0], [\"22018\", 1610612744, \"GSW\", \"Golden State Warriors\", \"0021801055\", \"2019-03-18\", \"GSW @ SAS\", \"L\", 241, 105, 41, 88, 0.466, 13, 39, 0.333, 10, 12, 0.833, 7, 36, 43, 27, 7, 6, 13, 20, -6.0], [\"22018\", 1610612744, \"GSW\", \"Golden State Warriors\", \"0021801038\", \"2019-03-16\", \"GSW @ OKC\", \"W\", 238, 110, 39, 83, 0.47, 15, 35, 0.429, 17, 22, 0.773, 8, 45, 53, 25, 10, 6, 16, 22, 22.0], [\"22018\", 1610612744, \"GSW\", \"Golden State Warriors\", \"0021801018\", \"2019-03-13\", \"GSW @ HOU\", \"W\", 240, 106, 42, 85, 0.494, 12, 32, 0.375, 10, 10, 1.0, 12, 32, 44, 28, 7, 2, 14, 20, 2.0], [\"22018\", 1610612744, \"GSW\", \"Golden State Warriors\", \"0021801000\", \"2019-03-10\", \"GSW vs. PHX\", \"L\", 240, 111, 42, 95, 0.442, 10, 43, 0.233, 17, 22, 0.773, 15, 34, 49, 34, 10, 6, 17, 24, -4.0], [\"22018\", 1610612744, \"GSW\", \"Golden State Warriors\", \"0021800984\", \"2019-03-08\", \"GSW vs. DEN\", \"W\", 239, 122, 45, 84, 0.536, 18, 35, 0.514, 14, 21, 0.667, 7, 36, 43, 32, 11, 10, 17, 28, 17.0], [\"22018\", 1610612744, \"GSW\", \"Golden State Warriors\", \"0021800964\", \"2019-03-05\", \"GSW vs. BOS\", \"L\", 240, 95, 34, 85, 0.4, 8, 35, 0.229, 19, 23, 0.826, 9, 36, 45, 26, 5, 2, 21, 24, -33.0], [\"22018\", 1610612744, \"GSW\", \"Golden State Warriors\", \"0021800938\", \"2019-03-02\", \"GSW @ PHI\", \"W\", 240, 120, 41, 81, 0.506, 14, 33, 0.424, 24, 34, 0.706, 4, 35, 39, 23, 14, 7, 13, 22, 3.0], [\"22018\", 1610612744, \"GSW\", \"Golden State Warriors\", \"0021800923\", \"2019-02-28\", \"GSW @ ORL\", \"L\", 242, 96, 39, 97, 0.402, 9, 40, 0.225, 9, 10, 0.9, 9, 38, 47, 16, 5, 3, 12, 14, -7.0], [\"22018\", 1610612744, \"GSW\", \"Golden State Warriors\", \"0021800915\", \"2019-02-27\", \"GSW @ MIA\", \"L\", 240, 125, 44, 89, 0.494, 17, 48, 0.354, 20, 28, 0.714, 8, 29, 37, 21, 7, 3, 8, 21, -1.0], [\"22018\", 1610612744, \"GSW\", \"Golden State Warriors\", \"0021800897\", \"2019-02-25\", \"GSW @ CHA\", \"W\", 239, 121, 48, 95, 0.505, 14, 41, 0.341, 11, 13, 0.846, 13, 36, 49, 35, 9, 8, 15, 18, 11.0], [\"22018\", 1610612744, \"GSW\", \"Golden State Warriors\", \"0021800892\", \"2019-02-23\", \"GSW vs. HOU\", \"L\", 240, 112, 42, 90, 0.467, 14, 36, 0.389, 14, 20, 0.7, 9, 36, 45, 26, 9, 10, 17, 19, -6.0], [\"22018\", 1610612744, \"GSW\", \"Golden State Warriors\", \"0021800871\", \"2019-02-21\", \"GSW vs. SAC\", \"W\", 241, 125, 43, 94, 0.457, 19, 46, 0.413, 20, 24, 0.833, 8, 41, 49, 32, 5, 11, 15, 26, 2.0], [\"22018\", 1610612744, \"GSW\", \"Golden State Warriors\", \"0021800862\", \"2019-02-13\", \"GSW @ POR\", \"L\", 240, 107, 39, 97, 0.402, 13, 38, 0.342, 16, 18, 0.889, 18, 31, 49, 26, 1, 9, 8, 26, -22.0], [\"22018\", 1610612744, \"GSW\", \"Golden State Warriors\", \"0021800852\", \"2019-02-12\", \"GSW vs. UTA\", \"W\", 239, 115, 44, 89, 0.494, 13, 41, 0.317, 14, 21, 0.667, 5, 35, 40, 29, 12, 7, 6, 20, 7.0], [\"22018\", 1610612744, \"GSW\", \"Golden State Warriors\", \"0021800838\", \"2019-02-10\", \"GSW vs. MIA\", \"W\", 240, 120, 44, 82, 0.537, 13, 36, 0.361, 19, 26, 0.731, 7, 29, 36, 28, 8, 5, 12, 16, 2.0], [\"22018\", 1610612744, \"GSW\", \"Golden State Warriors\", \"0021800822\", \"2019-02-08\", \"GSW @ PHX\", \"W\", 241, 117, 41, 81, 0.506, 10, 29, 0.345, 25, 35, 0.714, 9, 40, 49, 30, 5, 9, 18, 23, 10.0], [\"22018\", 1610612744, \"GSW\", \"Golden State Warriors\", \"0021800810\", \"2019-02-06\", \"GSW vs. SAS\", \"W\", 242, 141, 55, 95, 0.579, 16, 34, 0.471, 15, 21, 0.714, 14, 38, 52, 42, 14, 5, 11, 20, 39.0], [\"22018\", 1610612744, \"GSW\", \"Golden State Warriors\", \"0021800782\", \"2019-02-02\", \"GSW vs. LAL\", \"W\", 241, 115, 43, 91, 0.473, 11, 34, 0.324, 18, 19, 0.947, 7, 37, 44, 31, 4, 9, 10, 17, 14.0], [\"22018\", 1610612744, \"GSW\", \"Golden State Warriors\", \"0021800768\", \"2019-01-31\", \"GSW vs. PHI\", \"L\", 240, 104, 41, 88, 0.466, 11, 38, 0.289, 11, 16, 0.688, 9, 28, 37, 30, 13, 7, 15, 19, -9.0], [\"22018\", 1610612744, \"GSW\", \"Golden State Warriors\", \"0021800745\", \"2019-01-28\", \"GSW @ IND\", \"W\", 240, 132, 53, 98, 0.541, 13, 31, 0.419, 13, 16, 0.813, 13, 35, 48, 39, 9, 7, 12, 19, 32.0], [\"22018\", 1610612744, \"GSW\", \"Golden State Warriors\", \"0021800732\", \"2019-01-26\", \"GSW @ BOS\", \"W\", 240, 115, 37, 83, 0.446, 12, 33, 0.364, 29, 34, 0.853, 11, 42, 53, 25, 8, 7, 14, 19, 4.0], [\"22018\", 1610612744, \"GSW\", \"Golden State Warriors\", \"0021800716\", \"2019-01-24\", \"GSW @ WAS\", \"W\", 239, 126, 50, 88, 0.568, 7, 20, 0.35, 19, 21, 0.905, 8, 42, 50, 34, 5, 6, 15, 21, 8.0], [\"22018\", 1610612744, \"GSW\", \"Golden State Warriors\", \"0021800701\", \"2019-01-21\", \"GSW @ LAL\", \"W\", 239, 130, 50, 98, 0.51, 16, 37, 0.432, 14, 19, 0.737, 13, 37, 50, 41, 8, 6, 10, 27, 19.0], [\"22018\", 1610612744, \"GSW\", \"Golden State Warriors\", \"0021800676\", \"2019-01-18\", \"GSW @ LAC\", \"W\", 239, 112, 42, 86, 0.488, 9, 37, 0.243, 19, 27, 0.704, 3, 40, 43, 31, 11, 8, 10, 24, 18.0], [\"22018\", 1610612744, \"GSW\", \"Golden State Warriors\", \"0021800663\", \"2019-01-16\", \"GSW vs. NOP\", \"W\", 239, 147, 49, 102, 0.48, 24, 49, 0.49, 25, 31, 0.806, 10, 47, 57, 33, 8, 5, 10, 24, 7.0], [\"22018\", 1610612744, \"GSW\", \"Golden State Warriors\", \"0021800655\", \"2019-01-15\", \"GSW @ DEN\", \"W\", 241, 142, 57, 95, 0.6, 21, 39, 0.538, 7, 10, 0.7, 12, 38, 50, 38, 6, 4, 10, 20, 31.0], [\"22018\", 1610612744, \"GSW\", \"Golden State Warriors\", \"0021800642\", \"2019-01-13\", \"GSW @ DAL\", \"W\", 240, 119, 45, 99, 0.455, 19, 45, 0.422, 10, 12, 0.833, 16, 33, 49, 26, 9, 8, 10, 22, 5.0], [\"22018\", 1610612744, \"GSW\", \"Golden State Warriors\", \"0021800629\", \"2019-01-11\", \"GSW vs. CHI\", \"W\", 240, 146, 53, 92, 0.576, 18, 39, 0.462, 22, 26, 0.846, 11, 38, 49, 38, 6, 8, 12, 27, 37.0], [\"22018\", 1610612744, \"GSW\", \"Golden State Warriors\", \"0021800605\", \"2019-01-08\", \"GSW vs. NYK\", \"W\", 240, 122, 49, 96, 0.51, 14, 45, 0.311, 10, 12, 0.833, 15, 34, 49, 36, 9, 10, 15, 14, 27.0], [\"22018\", 1610612744, \"GSW\", \"Golden State Warriors\", \"0021800583\", \"2019-01-05\", \"GSW @ SAC\", \"W\", 242, 127, 47, 93, 0.505, 21, 47, 0.447, 12, 14, 0.857, 12, 35, 47, 29, 5, 8, 13, 16, 4.0], [\"22018\", 1610612744, \"GSW\", \"Golden State Warriors\", \"0021800565\", \"2019-01-03\", \"GSW vs. HOU\", \"L\", 264, 134, 53, 102, 0.52, 14, 37, 0.378, 14, 15, 0.933, 9, 38, 47, 33, 8, 6, 14, 19, -1.0], [\"22018\", 1610612744, \"GSW\", \"Golden State Warriors\", \"0021800548\", \"2018-12-31\", \"GSW @ PHX\", \"W\", 242, 132, 46, 84, 0.548, 14, 28, 0.5, 26, 32, 0.813, 7, 37, 44, 31, 7, 8, 15, 24, 23.0], [\"22018\", 1610612744, \"GSW\", \"Golden State Warriors\", \"0021800534\", \"2018-12-29\", \"GSW @ POR\", \"W\", 239, 115, 40, 80, 0.5, 12, 25, 0.48, 23, 28, 0.821, 5, 37, 42, 27, 9, 4, 12, 18, 10.0], [\"22018\", 1610612744, \"GSW\", \"Golden State Warriors\", \"0021800516\", \"2018-12-27\", \"GSW vs. POR\", \"L\", 267, 109, 45, 106, 0.425, 13, 44, 0.295, 6, 15, 0.4, 14, 45, 59, 36, 10, 9, 15, 19, -1.0], [\"22018\", 1610612744, \"GSW\", \"Golden State Warriors\", \"0021800500\", \"2018-12-25\", \"GSW vs. LAL\", \"L\", 241, 101, 38, 93, 0.409, 9, 36, 0.25, 16, 21, 0.762, 7, 30, 37, 28, 5, 1, 13, 21, -26.0], [\"22018\", 1610612744, \"GSW\", \"Golden State Warriors\", \"0021800494\", \"2018-12-23\", \"GSW vs. LAC\", \"W\", 240, 129, 42, 93, 0.452, 14, 40, 0.35, 31, 36, 0.861, 15, 31, 46, 22, 9, 7, 7, 27, 2.0], [\"22018\", 1610612744, \"GSW\", \"Golden State Warriors\", \"0021800484\", \"2018-12-22\", \"GSW vs. DAL\", \"W\", 239, 120, 45, 98, 0.459, 15, 43, 0.349, 15, 16, 0.938, 15, 39, 54, 34, 7, 7, 13, 23, 4.0], [\"22018\", 1610612744, \"GSW\", \"Golden State Warriors\", \"0021800464\", \"2018-12-19\", \"GSW @ UTA\", \"L\", 240, 103, 38, 95, 0.4, 10, 31, 0.323, 17, 18, 0.944, 10, 38, 48, 18, 10, 9, 12, 21, -5.0], [\"22018\", 1610612744, \"GSW\", \"Golden State Warriors\", \"0021800449\", \"2018-12-17\", \"GSW vs. MEM\", \"W\", 240, 110, 37, 85, 0.435, 12, 31, 0.387, 24, 27, 0.889, 6, 36, 42, 23, 10, 5, 10, 19, 17.0], [\"22018\", 1610612744, \"GSW\", \"Golden State Warriors\", \"0021800428\", \"2018-12-14\", \"GSW @ SAC\", \"W\", 241, 130, 44, 96, 0.458, 15, 40, 0.375, 27, 36, 0.75, 15, 45, 60, 32, 5, 0, 18, 23, 5.0], [\"22018\", 1610612744, \"GSW\", \"Golden State Warriors\", \"0021800415\", \"2018-12-12\", \"GSW vs. TOR\", \"L\", 239, 93, 39, 82, 0.476, 6, 26, 0.231, 9, 13, 0.692, 5, 35, 40, 28, 5, 11, 19, 18, -20.0], [\"22018\", 1610612744, \"GSW\", \"Golden State Warriors\", \"0021800400\", \"2018-12-10\", \"GSW vs. MIN\", \"W\", 239, 116, 39, 93, 0.419, 19, 43, 0.442, 19, 21, 0.905, 14, 35, 49, 25, 6, 5, 16, 26, 8.0], [\"22018\", 1610612744, \"GSW\", \"Golden State Warriors\", \"0021800377\", \"2018-12-07\", \"GSW @ MIL\", \"W\", 241, 105, 40, 89, 0.449, 19, 46, 0.413, 6, 7, 0.857, 6, 37, 43, 32, 7, 6, 17, 20, 10.0], [\"22018\", 1610612744, \"GSW\", \"Golden State Warriors\", \"0021800355\", \"2018-12-05\", \"GSW @ CLE\", \"W\", 240, 129, 45, 85, 0.529, 18, 34, 0.529, 21, 24, 0.875, 9, 37, 46, 29, 6, 5, 8, 17, 17.6], [\"22018\", 1610612744, \"GSW\", \"Golden State Warriors\", \"0021800344\", \"2018-12-03\", \"GSW @ ATL\", \"W\", 240, 128, 48, 82, 0.585, 13, 24, 0.542, 19, 22, 0.864, 6, 33, 39, 33, 10, 8, 20, 24, 17.0], [\"22018\", 1610612744, \"GSW\", \"Golden State Warriors\", \"0021800331\", \"2018-12-01\", \"GSW @ DET\", \"L\", 239, 102, 39, 85, 0.459, 6, 26, 0.231, 18, 21, 0.857, 8, 36, 44, 23, 6, 5, 14, 22, -9.0], [\"22018\", 1610612744, \"GSW\", \"Golden State Warriors\", \"0021800316\", \"2018-11-29\", \"GSW @ TOR\", \"L\", 265, 128, 50, 103, 0.485, 11, 30, 0.367, 17, 20, 0.85, 17, 29, 46, 27, 6, 5, 14, 22, -3.0], [\"22018\", 1610612744, \"GSW\", \"Golden State Warriors\", \"0021800300\", \"2018-11-26\", \"GSW vs. ORL\", \"W\", 240, 116, 41, 84, 0.488, 13, 35, 0.371, 21, 23, 0.913, 10, 36, 46, 21, 8, 7, 14, 19, 6.0], [\"22018\", 1610612744, \"GSW\", \"Golden State Warriors\", \"0021800285\", \"2018-11-24\", \"GSW vs. SAC\", \"W\", 238, 117, 41, 88, 0.466, 10, 34, 0.294, 25, 29, 0.862, 12, 42, 54, 28, 5, 6, 14, 24, 1.0], [\"22018\", 1610612744, \"GSW\", \"Golden State Warriors\", \"0021800277\", \"2018-11-23\", \"GSW vs. POR\", \"W\", 241, 125, 48, 85, 0.565, 17, 32, 0.531, 12, 16, 0.75, 6, 37, 43, 29, 11, 10, 15, 22, 28.0], [\"22018\", 1610612744, \"GSW\", \"Golden State Warriors\", \"0021800264\", \"2018-11-21\", \"GSW vs. OKC\", \"L\", 241, 95, 36, 83, 0.434, 7, 29, 0.241, 16, 24, 0.667, 7, 35, 42, 24, 7, 10, 17, 18, -28.0], [\"22018\", 1610612744, \"GSW\", \"Golden State Warriors\", \"0021800238\", \"2018-11-18\", \"GSW @ SAS\", \"L\", 239, 92, 35, 86, 0.407, 5, 26, 0.192, 17, 21, 0.81, 10, 36, 46, 20, 6, 4, 11, 17, -12.0], [\"22018\", 1610612744, \"GSW\", \"Golden State Warriors\", \"0021800232\", \"2018-11-17\", \"GSW @ DAL\", \"L\", 241, 109, 42, 94, 0.447, 9, 33, 0.273, 16, 17, 0.941, 12, 35, 47, 24, 6, 6, 12, 27, -3.0], [\"22018\", 1610612744, \"GSW\", \"Golden State Warriors\", \"0021800213\", \"2018-11-15\", \"GSW @ HOU\", \"L\", 238, 86, 32, 76, 0.421, 4, 18, 0.222, 18, 22, 0.818, 12, 32, 44, 18, 2, 5, 16, 24, -21.0], [\"22018\", 1610612744, \"GSW\", \"Golden State Warriors\", \"0021800201\", \"2018-11-13\", \"GSW vs. ATL\", \"W\", 241, 110, 39, 91, 0.429, 12, 27, 0.444, 20, 21, 0.952, 13, 35, 48, 28, 8, 6, 13, 20, 7.0], [\"22018\", 1610612744, \"GSW\", \"Golden State Warriors\", \"0021800198\", \"2018-11-12\", \"GSW @ LAC\", \"L\", 265, 116, 44, 94, 0.468, 12, 31, 0.387, 16, 23, 0.696, 11, 35, 46, 27, 7, 8, 17, 25, -5.0], [\"22018\", 1610612744, \"GSW\", \"Golden State Warriors\", \"0021800182\", \"2018-11-10\", \"GSW vs. BKN\", \"W\", 240, 116, 46, 83, 0.554, 7, 16, 0.438, 17, 21, 0.81, 6, 30, 36, 27, 9, 7, 10, 24, 12.8], [\"22018\", 1610612744, \"GSW\", \"Golden State Warriors\", \"0021800166\", \"2018-11-08\", \"GSW vs. MIL\", \"L\", 239, 111, 42, 87, 0.483, 10, 28, 0.357, 17, 22, 0.773, 8, 30, 38, 31, 5, 6, 18, 22, -23.0], [\"22018\", 1610612744, \"GSW\", \"Golden State Warriors\", \"0021800147\", \"2018-11-05\", \"GSW vs. MEM\", \"W\", 240, 117, 41, 81, 0.506, 13, 24, 0.542, 22, 23, 0.957, 8, 38, 46, 29, 4, 4, 13, 25, 16.0], [\"22018\", 1610612744, \"GSW\", \"Golden State Warriors\", \"0021800124\", \"2018-11-02\", \"GSW vs. MIN\", \"W\", 239, 116, 43, 88, 0.489, 13, 34, 0.382, 17, 22, 0.773, 12, 49, 61, 31, 3, 9, 16, 16, 17.0], [\"22018\", 1610612744, \"GSW\", \"Golden State Warriors\", \"0021800108\", \"2018-10-31\", \"GSW vs. NOP\", \"W\", 240, 131, 47, 89, 0.528, 16, 32, 0.5, 21, 30, 0.7, 12, 34, 46, 39, 10, 4, 17, 24, 10.0], [\"22018\", 1610612744, \"GSW\", \"Golden State Warriors\", \"0021800091\", \"2018-10-29\", \"GSW @ CHI\", \"W\", 241, 149, 53, 96, 0.552, 24, 45, 0.533, 19, 26, 0.731, 8, 41, 49, 34, 9, 7, 7, 29, 25.0], [\"22018\", 1610612744, \"GSW\", \"Golden State Warriors\", \"0021800083\", \"2018-10-28\", \"GSW @ BKN\", \"W\", 239, 120, 44, 89, 0.494, 11, 33, 0.333, 21, 24, 0.875, 12, 35, 47, 28, 11, 7, 12, 16, 6.0], [\"22018\", 1610612744, \"GSW\", \"Golden State Warriors\", \"0021800068\", \"2018-10-26\", \"GSW @ NYK\", \"W\", 240, 128, 51, 87, 0.586, 16, 33, 0.485, 10, 12, 0.833, 6, 33, 39, 26, 10, 6, 14, 16, 28.0], [\"22018\", 1610612744, \"GSW\", \"Golden State Warriors\", \"0021800062\", \"2018-10-24\", \"GSW vs. WAS\", \"W\", 243, 144, 53, 92, 0.576, 15, 33, 0.455, 23, 25, 0.92, 10, 38, 48, 37, 6, 5, 15, 22, 22.0], [\"22018\", 1610612744, \"GSW\", \"Golden State Warriors\", \"0021800047\", \"2018-10-22\", \"GSW vs. PHX\", \"W\", 240, 123, 45, 88, 0.511, 14, 37, 0.378, 19, 26, 0.731, 7, 33, 40, 35, 12, 4, 14, 24, 20.0], [\"22018\", 1610612744, \"GSW\", \"Golden State Warriors\", \"0021800038\", \"2018-10-21\", \"GSW @ DEN\", \"L\", 239, 98, 36, 79, 0.456, 7, 29, 0.241, 19, 24, 0.792, 6, 34, 40, 22, 4, 6, 18, 29, -2.0], [\"22018\", 1610612744, \"GSW\", \"Golden State Warriors\", \"0021800024\", \"2018-10-19\", \"GSW @ UTA\", \"W\", 240, 124, 49, 87, 0.563, 10, 19, 0.526, 16, 18, 0.889, 8, 35, 43, 27, 10, 6, 16, 23, 1.0], [\"22018\", 1610612744, \"GSW\", \"Golden State Warriors\", \"0021800002\", \"2018-10-16\", \"GSW vs. OKC\", \"W\", 241, 108, 42, 95, 0.442, 7, 26, 0.269, 17, 18, 0.944, 17, 41, 58, 28, 7, 7, 21, 29, 8.0], [\"12018\", 1610612744, \"GSW\", \"Golden State Warriors\", \"0011800079\", \"2018-10-12\", \"GSW vs. LAL\", \"L\", 241, 105, 35, 88, 0.398, 10, 32, 0.313, 25, 34, 0.735, 11, 29, 40, 25, 8, 4, 16, 30, -18.0], [\"12018\", 1610612744, \"GSW\", \"Golden State Warriors\", \"0011800065\", \"2018-10-10\", \"GSW @ LAL\", \"L\", 241, 113, 42, 96, 0.438, 9, 23, 0.391, 20, 36, 0.556, 15, 41, 56, 23, 11, 3, 25, 38, -10.0], [\"12018\", 1610612744, \"GSW\", \"Golden State Warriors\", \"0011800054\", \"2018-10-08\", \"GSW vs. PHX\", \"L\", 239, 109, 41, 81, 0.506, 8, 26, 0.308, 19, 23, 0.826, 9, 24, 33, 26, 5, 6, 18, 26, -8.0], [\"12018\", 1610612744, \"GSW\", \"Golden State Warriors\", \"0011800039\", \"2018-10-05\", \"GSW vs. SAC\", \"W\", 241, 122, 47, 91, 0.516, 11, 31, 0.355, 17, 23, 0.739, 9, 44, 53, 29, 8, 6, 12, 18, 28.0], [\"12018\", 1610612744, \"GSW\", \"Golden State Warriors\", \"0011800005\", \"2018-09-29\", \"GSW vs. MIN\", \"L\", 241, 110, 44, 93, 0.473, 12, 34, 0.353, 10, 13, 0.769, 7, 41, 48, 33, 9, 8, 17, 23, -4.0], [\"22018\", 1610612744, \"GSW\", \"Golden State Warriors\", \"1521800068\", \"2018-07-13\", \"GSW vs. SAC\", \"L\", 200, 67, 23, 77, 0.299, 7, 38, 0.184, 14, 21, 0.667, 14, 27, 41, 13, 15, 3, 12, 17, 6.0], [\"22018\", 1610612744, \"GSW\", \"Golden State Warriors\", \"1521800053\", \"2018-07-11\", \"GSW @ CHA\", \"L\", 199, 69, 28, 81, 0.346, 6, 35, 0.171, 7, 8, 0.875, 13, 27, 40, 17, 7, 3, 10, 17, -13.2], [\"22018\", 1610612744, \"GSW\", \"Golden State Warriors\", \"1521800036\", \"2018-07-09\", \"GSW @ DAL\", \"L\", 200, 71, 28, 78, 0.359, 6, 23, 0.261, 9, 12, 0.75, 12, 22, 34, 16, 14, 4, 14, 29, -23.8], [\"22018\", 1610612744, \"GSW\", \"Golden State Warriors\", \"1521800026\", \"2018-07-08\", \"GSW @ HOU\", \"L\", 200, 81, 30, 79, 0.38, 7, 26, 0.269, 14, 20, 0.7, 11, 34, 45, 11, 12, 9, 15, 32, 4.6], [\"22018\", 1610612744, \"GSW\", \"Golden State Warriors\", \"1521800010\", \"2018-07-06\", \"GSW vs. LAC\", \"W\", 201, 77, 25, 73, 0.342, 10, 28, 0.357, 17, 22, 0.773, 8, 30, 38, 13, 8, 8, 7, 23, 4.0], [\"22018\", 1610612744, \"GSW\", \"Golden State Warriors\", \"1321800005\", \"2018-07-05\", \"GSW vs. LAL\", \"W\", 240, 77, 30, 80, 0.375, 10, 38, 0.263, 7, 10, 0.7, 11, 25, 36, 16, 15, 8, 11, 24, 6.0], [\"22018\", 1610612744, \"GSW\", \"Golden State Warriors\", \"1321800004\", \"2018-07-03\", \"GSW @ SAC\", \"W\", 241, 71, 26, 71, 0.366, 7, 23, 0.304, 12, 13, 0.923, 9, 34, 43, 14, 9, 9, 9, 20, 20.2], [\"22018\", 1610612744, \"GSW\", \"Golden State Warriors\", \"1321800001\", \"2018-07-02\", \"GSW vs. MIA\", \"W\", 242, 79, 29, 72, 0.403, 8, 26, 0.308, 13, 20, 0.65, 5, 36, 41, 16, 10, 4, 12, 26, 10.0], [\"42017\", 1610612744, \"GSW\", \"Golden State Warriors\", \"0041700404\", \"2018-06-08\", \"GSW @ CLE\", \"W\", 241, 108, 39, 86, 0.453, 14, 38, 0.368, 16, 16, 1.0, 10, 34, 44, 25, 7, 13, 8, 24, 23.0], [\"42017\", 1610612744, \"GSW\", \"Golden State Warriors\", \"0041700403\", \"2018-06-06\", \"GSW @ CLE\", \"W\", 239, 110, 42, 81, 0.519, 9, 26, 0.346, 17, 19, 0.895, 6, 31, 37, 27, 6, 5, 10, 20, 8.0], [\"42017\", 1610612744, \"GSW\", \"Golden State Warriors\", \"0041700402\", \"2018-06-03\", \"GSW vs. CLE\", \"W\", 238, 122, 47, 82, 0.573, 15, 36, 0.417, 13, 21, 0.619, 7, 34, 41, 28, 3, 8, 12, 25, 19.0], [\"42017\", 1610612744, \"GSW\", \"Golden State Warriors\", \"0041700401\", \"2018-05-31\", \"GSW vs. CLE\", \"W\", 264, 124, 46, 90, 0.511, 13, 36, 0.361, 19, 20, 0.95, 4, 34, 38, 31, 10, 6, 7, 18, 10.0], [\"42017\", 1610612744, \"GSW\", \"Golden State Warriors\", \"0041700317\", \"2018-05-28\", \"GSW @ HOU\", \"W\", 239, 101, 39, 80, 0.488, 16, 39, 0.41, 7, 14, 0.5, 11, 31, 42, 25, 9, 7, 16, 22, 9.0], [\"42017\", 1610612744, \"GSW\", \"Golden State Warriors\", \"0041700316\", \"2018-05-26\", \"GSW vs. HOU\", \"W\", 238, 115, 43, 87, 0.494, 16, 38, 0.421, 13, 19, 0.684, 13, 34, 47, 26, 11, 10, 12, 17, 29.0], [\"42017\", 1610612744, \"GSW\", \"Golden State Warriors\", \"0041700315\", \"2018-05-24\", \"GSW @ HOU\", \"L\", 241, 94, 32, 72, 0.444, 10, 26, 0.385, 20, 23, 0.87, 4, 37, 41, 18, 7, 1, 16, 21, -4.0], [\"42017\", 1610612744, \"GSW\", \"Golden State Warriors\", \"0041700314\", \"2018-05-22\", \"GSW vs. HOU\", \"L\", 240, 92, 35, 89, 0.393, 9, 27, 0.333, 13, 14, 0.929, 16, 33, 49, 14, 6, 3, 16, 24, -3.0], [\"42017\", 1610612744, \"GSW\", \"Golden State Warriors\", \"0041700313\", \"2018-05-20\", \"GSW vs. HOU\", \"W\", 239, 126, 48, 92, 0.522, 13, 32, 0.406, 17, 18, 0.944, 11, 38, 49, 20, 11, 7, 8, 16, 41.0], [\"42017\", 1610612744, \"GSW\", \"Golden State Warriors\", \"0041700312\", \"2018-05-16\", \"GSW @ HOU\", \"L\", 238, 105, 39, 85, 0.459, 9, 30, 0.3, 18, 22, 0.818, 9, 27, 36, 21, 6, 4, 15, 22, -22.0], [\"42017\", 1610612744, \"GSW\", \"Golden State Warriors\", \"0041700311\", \"2018-05-14\", \"GSW @ HOU\", \"W\", 240, 119, 42, 80, 0.525, 13, 33, 0.394, 22, 25, 0.88, 3, 34, 37, 24, 9, 4, 9, 17, 13.0], [\"42017\", 1610612744, \"GSW\", \"Golden State Warriors\", \"0041700235\", \"2018-05-08\", \"GSW vs. NOP\", \"W\", 241, 113, 48, 99, 0.485, 7, 27, 0.259, 10, 12, 0.833, 11, 41, 52, 35, 10, 2, 12, 18, 9.0], [\"42017\", 1610612744, \"GSW\", \"Golden State Warriors\", \"0041700234\", \"2018-05-06\", \"GSW @ NOP\", \"W\", 240, 118, 46, 95, 0.484, 11, 33, 0.333, 15, 18, 0.833, 5, 40, 45, 28, 11, 5, 11, 20, 26.0], [\"42017\", 1610612744, \"GSW\", \"Golden State Warriors\", \"0041700233\", \"2018-05-04\", \"GSW @ NOP\", \"L\", 240, 100, 35, 92, 0.38, 9, 31, 0.29, 21, 26, 0.808, 10, 34, 44, 22, 11, 4, 12, 17, -19.0], [\"42017\", 1610612744, \"GSW\", \"Golden State Warriors\", \"0041700232\", \"2018-05-01\", \"GSW vs. NOP\", \"W\", 240, 121, 43, 91, 0.473, 13, 40, 0.325, 22, 27, 0.815, 7, 42, 49, 36, 10, 8, 16, 18, 5.0], [\"42017\", 1610612744, \"GSW\", \"Golden State Warriors\", \"0041700231\", \"2018-04-28\", \"GSW vs. NOP\", \"W\", 240, 123, 44, 91, 0.484, 11, 27, 0.407, 24, 32, 0.75, 13, 44, 57, 33, 8, 10, 13, 16, 22.0], [\"42017\", 1610612744, \"GSW\", \"Golden State Warriors\", \"0041700155\", \"2018-04-24\", \"GSW vs. SAS\", \"W\", 240, 99, 37, 83, 0.446, 5, 27, 0.185, 20, 25, 0.8, 8, 39, 47, 25, 5, 5, 10, 19, 8.0], [\"42017\", 1610612744, \"GSW\", \"Golden State Warriors\", \"0041700154\", \"2018-04-22\", \"GSW @ SAS\", \"L\", 240, 90, 34, 90, 0.378, 7, 28, 0.25, 15, 17, 0.882, 24, 37, 61, 19, 6, 2, 16, 22, -13.0], [\"42017\", 1610612744, \"GSW\", \"Golden State Warriors\", \"0041700153\", \"2018-04-19\", \"GSW @ SAS\", \"W\", 242, 110, 42, 82, 0.512, 10, 32, 0.313, 16, 18, 0.889, 4, 35, 39, 26, 8, 7, 10, 16, 13.0], [\"42017\", 1610612744, \"GSW\", \"Golden State Warriors\", \"0041700152\", \"2018-04-16\", \"GSW vs. SAS\", \"W\", 239, 116, 41, 78, 0.526, 15, 31, 0.484, 19, 20, 0.95, 6, 33, 39, 32, 5, 5, 15, 24, 15.0], [\"42017\", 1610612744, \"GSW\", \"Golden State Warriors\", \"0041700151\", \"2018-04-14\", \"GSW vs. SAS\", \"W\", 239, 113, 44, 81, 0.543, 10, 22, 0.455, 15, 22, 0.682, 10, 41, 51, 32, 6, 6, 15, 18, 21.0], [\"22017\", 1610612744, \"GSW\", \"Golden State Warriors\", \"0021701217\", \"2018-04-10\", \"GSW @ UTA\", \"L\", 239, 79, 30, 86, 0.349, 5, 19, 0.263, 14, 16, 0.875, 9, 30, 39, 14, 7, 3, 15, 18, -40.0], [\"22017\", 1610612744, \"GSW\", \"Golden State Warriors\", \"0021701203\", \"2018-04-08\", \"GSW @ PHX\", \"W\", 241, 117, 47, 90, 0.522, 13, 32, 0.406, 10, 15, 0.667, 5, 36, 41, 27, 9, 7, 11, 15, 17.0], [\"22017\", 1610612744, \"GSW\", \"Golden State Warriors\", \"0021701195\", \"2018-04-07\", \"GSW vs. NOP\", \"L\", 241, 120, 49, 90, 0.544, 15, 33, 0.455, 7, 11, 0.636, 8, 34, 42, 31, 3, 0, 17, 21, -6.0], [\"22017\", 1610612744, \"GSW\", \"Golden State Warriors\", \"0021701175\", \"2018-04-05\", \"GSW @ IND\", \"L\", 240, 106, 37, 83, 0.446, 9, 29, 0.31, 23, 24, 0.958, 13, 26, 39, 29, 6, 5, 16, 14, -20.0], [\"22017\", 1610612744, \"GSW\", \"Golden State Warriors\", \"0021701163\", \"2018-04-03\", \"GSW @ OKC\", \"W\", 240, 111, 41, 83, 0.494, 8, 29, 0.276, 21, 24, 0.875, 6, 34, 40, 27, 9, 5, 13, 25, 4.0], [\"22017\", 1610612744, \"GSW\", \"Golden State Warriors\", \"0021701153\", \"2018-04-01\", \"GSW vs. PHX\", \"W\", 239, 117, 48, 89, 0.539, 13, 28, 0.464, 8, 9, 0.889, 7, 38, 45, 31, 10, 7, 14, 14, 10.0], [\"22017\", 1610612744, \"GSW\", \"Golden State Warriors\", \"0021701142\", \"2018-03-31\", \"GSW @ SAC\", \"W\", 242, 112, 41, 83, 0.494, 9, 26, 0.346, 21, 28, 0.75, 6, 36, 42, 28, 9, 6, 10, 18, 16.0], [\"22017\", 1610612744, \"GSW\", \"Golden State Warriors\", \"0021701128\", \"2018-03-29\", \"GSW vs. MIL\", \"L\", 239, 107, 41, 75, 0.547, 10, 20, 0.5, 15, 15, 1.0, 2, 29, 31, 26, 10, 7, 18, 19, -9.0], [\"22017\", 1610612744, \"GSW\", \"Golden State Warriors\", \"0021701114\", \"2018-03-27\", \"GSW vs. IND\", \"L\", 241, 81, 35, 86, 0.407, 5, 17, 0.294, 6, 9, 0.667, 17, 34, 51, 21, 4, 9, 16, 17, -11.0], [\"22017\", 1610612744, \"GSW\", \"Golden State Warriors\", \"0021701102\", \"2018-03-25\", \"GSW vs. UTA\", \"L\", 239, 91, 38, 91, 0.418, 6, 15, 0.4, 9, 10, 0.9, 14, 27, 41, 24, 9, 7, 11, 19, -19.0], [\"22017\", 1610612744, \"GSW\", \"Golden State Warriors\", \"0021701087\", \"2018-03-23\", \"GSW vs. ATL\", \"W\", 242, 106, 42, 93, 0.452, 12, 30, 0.4, 10, 11, 0.909, 10, 36, 46, 28, 8, 6, 7, 17, 12.0], [\"22017\", 1610612744, \"GSW\", \"Golden State Warriors\", \"0021701056\", \"2018-03-19\", \"GSW @ SAS\", \"L\", 240, 75, 30, 74, 0.405, 3, 19, 0.158, 12, 16, 0.75, 2, 34, 36, 17, 7, 9, 15, 24, -14.0], [\"22017\", 1610612744, \"GSW\", \"Golden State Warriors\", \"0021701044\", \"2018-03-17\", \"GSW @ PHX\", \"W\", 242, 124, 50, 95, 0.526, 13, 31, 0.419, 11, 14, 0.786, 9, 34, 43, 29, 8, 9, 12, 21, 15.0], [\"22017\", 1610612744, \"GSW\", \"Golden State Warriors\", \"0021701033\", \"2018-03-16\", \"GSW vs. SAC\", \"L\", 240, 93, 34, 81, 0.42, 12, 26, 0.462, 13, 18, 0.722, 9, 31, 40, 21, 10, 5, 11, 21, -5.0], [\"22017\", 1610612744, \"GSW\", \"Golden State Warriors\", \"0021701019\", \"2018-03-14\", \"GSW vs. LAL\", \"W\", 237, 117, 44, 81, 0.543, 6, 20, 0.3, 23, 28, 0.821, 11, 39, 50, 25, 8, 6, 21, 24, 11.0], [\"22017\", 1610612744, \"GSW\", \"Golden State Warriors\", \"0021700994\", \"2018-03-11\", \"GSW @ MIN\", \"L\", 239, 103, 37, 91, 0.407, 10, 36, 0.278, 19, 21, 0.905, 12, 38, 50, 22, 6, 7, 13, 17, -6.0], [\"22017\", 1610612744, \"GSW\", \"Golden State Warriors\", \"0021700984\", \"2018-03-09\", \"GSW @ POR\", \"L\", 241, 108, 38, 78, 0.487, 12, 28, 0.429, 20, 24, 0.833, 6, 27, 33, 20, 5, 3, 10, 20, -17.0], [\"22017\", 1610612744, \"GSW\", \"Golden State Warriors\", \"0021700976\", \"2018-03-08\", \"GSW vs. SAS\", \"W\", 239, 110, 41, 95, 0.432, 8, 30, 0.267, 20, 23, 0.87, 12, 37, 49, 30, 6, 12, 10, 18, 3.0], [\"22017\", 1610612744, \"GSW\", \"Golden State Warriors\", \"0021700963\", \"2018-03-06\", \"GSW vs. BKN\", \"W\", 241, 114, 47, 83, 0.566, 11, 23, 0.478, 9, 11, 0.818, 5, 36, 41, 30, 8, 7, 17, 18, 13.0], [\"22017\", 1610612744, \"GSW\", \"Golden State Warriors\", \"0021700928\", \"2018-03-02\", \"GSW @ ATL\", \"W\", 241, 114, 42, 79, 0.532, 11, 31, 0.355, 19, 22, 0.864, 2, 33, 35, 33, 12, 5, 18, 20, 5.0], [\"22017\", 1610612744, \"GSW\", \"Golden State Warriors\", \"0021700917\", \"2018-02-28\", \"GSW @ WAS\", \"W\", 240, 109, 37, 72, 0.514, 10, 24, 0.417, 25, 30, 0.833, 3, 33, 36, 24, 10, 8, 14, 21, 8.0], [\"22017\", 1610612744, \"GSW\", \"Golden State Warriors\", \"0021700900\", \"2018-02-26\", \"GSW @ NYK\", \"W\", 240, 125, 44, 85, 0.518, 15, 31, 0.484, 22, 26, 0.846, 8, 35, 43, 31, 8, 5, 12, 13, 14.0], [\"22017\", 1610612744, \"GSW\", \"Golden State Warriors\", \"0021700887\", \"2018-02-24\", \"GSW vs. OKC\", \"W\", 239, 112, 42, 89, 0.472, 17, 38, 0.447, 11, 13, 0.846, 12, 42, 54, 36, 8, 6, 14, 21, 32.0], [\"22017\", 1610612744, \"GSW\", \"Golden State Warriors\", \"0021700872\", \"2018-02-22\", \"GSW vs. LAC\", \"W\", 239, 134, 47, 76, 0.618, 14, 25, 0.56, 26, 34, 0.765, 3, 29, 32, 31, 8, 8, 15, 24, 7.0], [\"22017\", 1610612744, \"GSW\", \"Golden State Warriors\", \"0021700864\", \"2018-02-14\", \"GSW @ POR\", \"L\", 240, 117, 43, 90, 0.478, 13, 37, 0.351, 18, 19, 0.947, 8, 33, 41, 24, 8, 7, 16, 24, -6.0], [\"22017\", 1610612744, \"GSW\", \"Golden State Warriors\", \"0021700846\", \"2018-02-12\", \"GSW vs. PHX\", \"W\", 243, 129, 52, 89, 0.584, 11, 26, 0.423, 14, 21, 0.667, 7, 42, 49, 36, 8, 16, 11, 18, 46.0], [\"22017\", 1610612744, \"GSW\", \"Golden State Warriors\", \"0021700831\", \"2018-02-10\", \"GSW vs. SAS\", \"W\", 240, 122, 48, 85, 0.565, 12, 27, 0.444, 14, 15, 0.933, 11, 33, 44, 35, 5, 6, 16, 18, 17.0], [\"22017\", 1610612744, \"GSW\", \"Golden State Warriors\", \"0021700815\", \"2018-02-08\", \"GSW vs. DAL\", \"W\", 240, 121, 45, 88, 0.511, 14, 29, 0.483, 17, 20, 0.85, 18, 33, 51, 37, 6, 7, 16, 18, 18.0], [\"22017\", 1610612744, \"GSW\", \"Golden State Warriors\", \"0021700803\", \"2018-02-06\", \"GSW vs. OKC\", \"L\", 238, 105, 37, 76, 0.487, 8, 28, 0.286, 23, 31, 0.742, 10, 35, 45, 27, 7, 8, 25, 24, -20.0], [\"22017\", 1610612744, \"GSW\", \"Golden State Warriors\", \"0021700782\", \"2018-02-03\", \"GSW @ DEN\", \"L\", 239, 108, 43, 86, 0.5, 8, 31, 0.258, 14, 23, 0.609, 11, 31, 42, 28, 9, 10, 13, 23, -1.0], [\"22017\", 1610612744, \"GSW\", \"Golden State Warriors\", \"0021700774\", \"2018-02-02\", \"GSW @ SAC\", \"W\", 241, 119, 44, 80, 0.55, 17, 33, 0.515, 14, 16, 0.875, 7, 44, 51, 25, 8, 4, 25, 19, 15.0], [\"22017\", 1610612744, \"GSW\", \"Golden State Warriors\", \"0021700751\", \"2018-01-30\", \"GSW @ UTA\", \"L\", 242, 99, 39, 85, 0.459, 5, 25, 0.2, 16, 21, 0.762, 11, 26, 37, 27, 10, 7, 19, 16, -30.0], [\"22017\", 1610612744, \"GSW\", \"Golden State Warriors\", \"0021700728\", \"2018-01-27\", \"GSW vs. BOS\", \"W\", 240, 109, 38, 84, 0.452, 10, 27, 0.37, 23, 26, 0.885, 10, 33, 43, 19, 9, 9, 11, 17, 4.0], [\"22017\", 1610612744, \"GSW\", \"Golden State Warriors\", \"0021700713\", \"2018-01-25\", \"GSW vs. MIN\", \"W\", 240, 126, 48, 89, 0.539, 21, 37, 0.568, 9, 15, 0.6, 11, 36, 47, 37, 9, 8, 15, 17, 13.0], [\"22017\", 1610612744, \"GSW\", \"Golden State Warriors\", \"0021700699\", \"2018-01-23\", \"GSW vs. NYK\", \"W\", 239, 123, 46, 83, 0.554, 13, 30, 0.433, 18, 20, 0.9, 3, 33, 36, 40, 6, 3, 12, 16, 11.0], [\"22017\", 1610612744, \"GSW\", \"Golden State Warriors\", \"0021700679\", \"2018-01-20\", \"GSW @ HOU\", \"L\", 241, 108, 40, 82, 0.488, 17, 36, 0.472, 11, 15, 0.733, 4, 29, 33, 31, 8, 10, 19, 24, -8.0], [\"22017\", 1610612744, \"GSW\", \"Golden State Warriors\", \"0021700657\", \"2018-01-17\", \"GSW @ CHI\", \"W\", 240, 119, 42, 84, 0.5, 13, 33, 0.394, 22, 25, 0.88, 5, 44, 49, 24, 5, 3, 15, 16, 7.0], [\"22017\", 1610612744, \"GSW\", \"Golden State Warriors\", \"0021700646\", \"2018-01-15\", \"GSW @ CLE\", \"W\", 240, 118, 41, 85, 0.482, 12, 32, 0.375, 24, 30, 0.8, 13, 35, 48, 33, 8, 6, 16, 23, 10.0], [\"22017\", 1610612744, \"GSW\", \"Golden State Warriors\", \"0021700631\", \"2018-01-13\", \"GSW @ TOR\", \"W\", 239, 127, 47, 81, 0.58, 9, 24, 0.375, 24, 28, 0.857, 3, 27, 30, 28, 4, 3, 6, 20, 2.0], [\"22017\", 1610612744, \"GSW\", \"Golden State Warriors\", \"0021700622\", \"2018-01-12\", \"GSW @ MIL\", \"W\", 240, 108, 44, 79, 0.557, 5, 15, 0.333, 15, 18, 0.833, 10, 33, 43, 28, 7, 3, 11, 13, 14.0], [\"22017\", 1610612744, \"GSW\", \"Golden State Warriors\", \"0021700613\", \"2018-01-10\", \"GSW vs. LAC\", \"L\", 239, 106, 38, 79, 0.481, 8, 23, 0.348, 22, 26, 0.846, 4, 29, 33, 26, 9, 6, 16, 21, -19.0], [\"22017\", 1610612744, \"GSW\", \"Golden State Warriors\", \"0021700597\", \"2018-01-08\", \"GSW vs. DEN\", \"W\", 239, 124, 48, 85, 0.565, 13, 30, 0.433, 15, 21, 0.714, 10, 33, 43, 33, 7, 10, 16, 15, 10.0], [\"22017\", 1610612744, \"GSW\", \"Golden State Warriors\", \"0021700578\", \"2018-01-06\", \"GSW @ LAC\", \"W\", 242, 121, 39, 94, 0.415, 13, 39, 0.333, 30, 37, 0.811, 14, 40, 54, 31, 13, 10, 16, 25, 16.0], [\"22017\", 1610612744, \"GSW\", \"Golden State Warriors\", \"0021700566\", \"2018-01-04\", \"GSW @ HOU\", \"W\", 241, 124, 48, 87, 0.552, 13, 30, 0.433, 15, 20, 0.75, 6, 39, 45, 35, 6, 6, 12, 18, 12.0], [\"22017\", 1610612744, \"GSW\", \"Golden State Warriors\", \"0021700562\", \"2018-01-03\", \"GSW @ DAL\", \"W\", 240, 125, 48, 91, 0.527, 13, 32, 0.406, 16, 19, 0.842, 7, 39, 46, 36, 8, 7, 14, 21, 3.0], [\"22017\", 1610612744, \"GSW\", \"Golden State Warriors\", \"0021700535\", \"2017-12-30\", \"GSW vs. MEM\", \"W\", 240, 141, 50, 85, 0.588, 18, 33, 0.545, 23, 25, 0.92, 7, 31, 38, 37, 3, 6, 10, 17, 13.0], [\"22017\", 1610612744, \"GSW\", \"Golden State Warriors\", \"0021700528\", \"2017-12-29\", \"GSW vs. CHA\", \"L\", 241, 100, 40, 87, 0.46, 8, 22, 0.364, 12, 13, 0.923, 8, 35, 43, 32, 6, 5, 17, 25, -11.0], [\"22017\", 1610612744, \"GSW\", \"Golden State Warriors\", \"0021700514\", \"2017-12-27\", \"GSW vs. UTA\", \"W\", 239, 126, 51, 86, 0.593, 11, 23, 0.478, 13, 17, 0.765, 4, 46, 50, 37, 8, 7, 16, 18, 25.0], [\"22017\", 1610612744, \"GSW\", \"Golden State Warriors\", \"0021700494\", \"2017-12-25\", \"GSW vs. CLE\", \"W\", 240, 99, 38, 82, 0.463, 10, 37, 0.27, 13, 17, 0.765, 10, 37, 47, 28, 7, 7, 15, 18, 7.0], [\"22017\", 1610612744, \"GSW\", \"Golden State Warriors\", \"0021700489\", \"2017-12-23\", \"GSW vs. DEN\", \"L\", 241, 81, 32, 84, 0.381, 3, 27, 0.111, 14, 17, 0.824, 11, 27, 38, 25, 14, 8, 16, 14, -15.0], [\"22017\", 1610612744, \"GSW\", \"Golden State Warriors\", \"0021700479\", \"2017-12-22\", \"GSW vs. LAL\", \"W\", 241, 113, 42, 85, 0.494, 7, 24, 0.292, 22, 27, 0.815, 10, 32, 42, 24, 9, 13, 15, 17, 7.0], [\"22017\", 1610612744, \"GSW\", \"Golden State Warriors\", \"0021700464\", \"2017-12-20\", \"GSW vs. MEM\", \"W\", 240, 97, 34, 74, 0.459, 7, 21, 0.333, 22, 25, 0.88, 14, 30, 44, 26, 9, 8, 16, 19, 13.0], [\"22017\", 1610612744, \"GSW\", \"Golden State Warriors\", \"0021700450\", \"2017-12-18\", \"GSW @ LAL\", \"W\", 266, 116, 43, 107, 0.402, 11, 34, 0.324, 19, 21, 0.905, 15, 46, 61, 25, 6, 10, 14, 26, 2.0], [\"22017\", 1610612744, \"GSW\", \"Golden State Warriors\", \"0021700417\", \"2017-12-14\", \"GSW vs. DAL\", \"W\", 242, 112, 47, 78, 0.603, 11, 22, 0.5, 7, 9, 0.778, 4, 37, 41, 35, 7, 4, 16, 22, 15.0], [\"22017\", 1610612744, \"GSW\", \"Golden State Warriors\", \"0021700395\", \"2017-12-11\", \"GSW vs. POR\", \"W\", 241, 111, 44, 80, 0.55, 10, 20, 0.5, 13, 17, 0.765, 6, 36, 42, 26, 5, 9, 14, 16, 7.0], [\"22017\", 1610612744, \"GSW\", \"Golden State Warriors\", \"0021700368\", \"2017-12-08\", \"GSW @ DET\", \"W\", 241, 102, 39, 81, 0.481, 7, 26, 0.269, 17, 22, 0.773, 5, 40, 45, 29, 5, 15, 14, 19, 4.0], [\"22017\", 1610612744, \"GSW\", \"Golden State Warriors\", \"0021700358\", \"2017-12-06\", \"GSW @ CHA\", \"W\", 241, 101, 40, 84, 0.476, 11, 30, 0.367, 10, 13, 0.769, 8, 39, 47, 26, 8, 12, 15, 20, 14.0], [\"22017\", 1610612744, \"GSW\", \"Golden State Warriors\", \"0021700346\", \"2017-12-04\", \"GSW @ NOP\", \"W\", 239, 125, 45, 87, 0.517, 16, 33, 0.485, 19, 27, 0.704, 5, 35, 40, 36, 14, 5, 16, 17, 10.0], [\"22017\", 1610612744, \"GSW\", \"Golden State Warriors\", \"0021700335\", \"2017-12-03\", \"GSW @ MIA\", \"W\", 240, 123, 47, 84, 0.56, 11, 30, 0.367, 18, 24, 0.75, 7, 34, 41, 32, 4, 4, 9, 14, 28.0], [\"22017\", 1610612744, \"GSW\", \"Golden State Warriors\", \"0021700318\", \"2017-12-01\", \"GSW @ ORL\", \"W\", 238, 133, 55, 88, 0.625, 12, 24, 0.5, 11, 11, 1.0, 7, 35, 42, 46, 9, 11, 19, 16, 21.0], [\"22017\", 1610612744, \"GSW\", \"Golden State Warriors\", \"0021700312\", \"2017-11-29\", \"GSW @ LAL\", \"W\", 264, 127, 47, 94, 0.5, 12, 30, 0.4, 21, 28, 0.75, 12, 37, 49, 30, 10, 4, 22, 19, 4.0], [\"22017\", 1610612744, \"GSW\", \"Golden State Warriors\", \"0021700296\", \"2017-11-27\", \"GSW vs. SAC\", \"L\", 240, 106, 40, 80, 0.5, 16, 37, 0.432, 10, 14, 0.714, 9, 27, 36, 31, 9, 6, 14, 15, -4.0], [\"22017\", 1610612744, \"GSW\", \"Golden State Warriors\", \"0021700284\", \"2017-11-25\", \"GSW vs. NOP\", \"W\", 239, 110, 39, 94, 0.415, 10, 33, 0.303, 22, 27, 0.815, 11, 33, 44, 30, 11, 6, 9, 24, 15.0], [\"22017\", 1610612744, \"GSW\", \"Golden State Warriors\", \"0021700276\", \"2017-11-24\", \"GSW vs. CHI\", \"W\", 240, 143, 53, 91, 0.582, 16, 36, 0.444, 21, 21, 1.0, 6, 43, 49, 36, 11, 11, 11, 15, 49.0], [\"22017\", 1610612744, \"GSW\", \"Golden State Warriors\", \"0021700263\", \"2017-11-22\", \"GSW @ OKC\", \"L\", 239, 91, 33, 80, 0.413, 10, 31, 0.323, 15, 18, 0.833, 7, 32, 39, 22, 11, 8, 22, 20, -17.0], [\"22017\", 1610612744, \"GSW\", \"Golden State Warriors\", \"0021700236\", \"2017-11-19\", \"GSW @ BKN\", \"W\", 241, 118, 46, 90, 0.511, 10, 24, 0.417, 16, 23, 0.696, 6, 51, 57, 29, 8, 14, 15, 27, 7.0], [\"22017\", 1610612744, \"GSW\", \"Golden State Warriors\", \"0021700231\", \"2017-11-18\", \"GSW @ PHI\", \"W\", 241, 124, 50, 91, 0.549, 7, 23, 0.304, 17, 20, 0.85, 11, 37, 48, 25, 5, 6, 12, 18, 8.2], [\"22017\", 1610612744, \"GSW\", \"Golden State Warriors\", \"0021700215\", \"2017-11-16\", \"GSW @ BOS\", \"L\", 241, 88, 33, 82, 0.402, 10, 32, 0.313, 12, 19, 0.632, 7, 40, 47, 22, 9, 10, 15, 24, -4.0], [\"22017\", 1610612744, \"GSW\", \"Golden State Warriors\", \"0021700199\", \"2017-11-13\", \"GSW vs. ORL\", \"W\", 239, 110, 44, 88, 0.5, 8, 23, 0.348, 14, 16, 0.875, 12, 38, 50, 35, 4, 5, 16, 21, 10.0], [\"22017\", 1610612744, \"GSW\", \"Golden State Warriors\", \"0021700184\", \"2017-11-11\", \"GSW vs. PHI\", \"W\", 241, 135, 48, 82, 0.585, 14, 27, 0.519, 25, 26, 0.962, 4, 35, 39, 31, 15, 11, 22, 23, 21.0], [\"22017\", 1610612744, \"GSW\", \"Golden State Warriors\", \"0021700163\", \"2017-11-08\", \"GSW vs. MIN\", \"W\", 241, 125, 48, 85, 0.565, 15, 36, 0.417, 14, 18, 0.778, 3, 42, 45, 37, 10, 9, 19, 23, 24.0], [\"22017\", 1610612744, \"GSW\", \"Golden State Warriors\", \"0021700148\", \"2017-11-06\", \"GSW vs. MIA\", \"W\", 239, 97, 32, 87, 0.368, 11, 32, 0.344, 22, 24, 0.917, 13, 38, 51, 20, 12, 10, 14, 21, 17.0], [\"22017\", 1610612744, \"GSW\", \"Golden State Warriors\", \"0021700135\", \"2017-11-04\", \"GSW @ DEN\", \"W\", 240, 127, 50, 91, 0.549, 18, 40, 0.45, 9, 17, 0.529, 7, 34, 41, 38, 13, 4, 13, 23, 19.0], [\"22017\", 1610612744, \"GSW\", \"Golden State Warriors\", \"0021700117\", \"2017-11-02\", \"GSW @ SAS\", \"W\", 241, 112, 43, 83, 0.518, 14, 28, 0.5, 12, 16, 0.75, 5, 36, 41, 30, 11, 12, 14, 20, 20.0], [\"22017\", 1610612744, \"GSW\", \"Golden State Warriors\", \"0021700100\", \"2017-10-30\", \"GSW @ LAC\", \"W\", 241, 141, 52, 89, 0.584, 14, 29, 0.483, 23, 30, 0.767, 14, 32, 46, 37, 8, 8, 12, 23, 28.0], [\"22017\", 1610612744, \"GSW\", \"Golden State Warriors\", \"0021700091\", \"2017-10-29\", \"GSW vs. DET\", \"L\", 239, 107, 44, 77, 0.571, 10, 27, 0.37, 9, 12, 0.75, 10, 30, 40, 29, 3, 11, 25, 14, -8.0], [\"22017\", 1610612744, \"GSW\", \"Golden State Warriors\", \"0021700075\", \"2017-10-27\", \"GSW vs. WAS\", \"W\", 240, 120, 46, 95, 0.484, 10, 38, 0.263, 18, 20, 0.9, 15, 38, 53, 33, 7, 13, 17, 20, 3.0], [\"22017\", 1610612744, \"GSW\", \"Golden State Warriors\", \"0021700063\", \"2017-10-25\", \"GSW vs. TOR\", \"W\", 241, 117, 43, 77, 0.558, 12, 26, 0.462, 19, 22, 0.864, 6, 31, 37, 32, 10, 7, 17, 15, 5.0], [\"22017\", 1610612744, \"GSW\", \"Golden State Warriors\", \"0021700045\", \"2017-10-23\", \"GSW @ DAL\", \"W\", 240, 133, 48, 86, 0.558, 15, 39, 0.385, 22, 26, 0.846, 10, 40, 50, 33, 6, 8, 16, 23, 18.6], [\"22017\", 1610612744, \"GSW\", \"Golden State Warriors\", \"0021700033\", \"2017-10-21\", \"GSW @ MEM\", \"L\", 238, 101, 33, 84, 0.393, 12, 38, 0.316, 23, 27, 0.852, 12, 34, 46, 20, 10, 7, 17, 28, -10.0], [\"22017\", 1610612744, \"GSW\", \"Golden State Warriors\", \"0021700025\", \"2017-10-20\", \"GSW @ NOP\", \"W\", 241, 128, 47, 91, 0.516, 18, 40, 0.45, 16, 20, 0.8, 10, 39, 49, 29, 6, 8, 18, 23, 8.0], [\"22017\", 1610612744, \"GSW\", \"Golden State Warriors\", \"0021700002\", \"2017-10-17\", \"GSW vs. HOU\", \"L\", 241, 121, 43, 80, 0.538, 16, 30, 0.533, 19, 21, 0.905, 6, 35, 41, 34, 5, 9, 17, 25, -1.0], [\"12017\", 1610612744, \"GSW\", \"Golden State Warriors\", \"0011700077\", \"2017-10-13\", \"GSW vs. SAC\", \"W\", 241, 117, 46, 98, 0.469, 15, 34, 0.441, 10, 17, 0.588, 21, 26, 47, 34, 4, 4, 12, 15, 11.0], [\"12017\", 1610612744, \"GSW\", \"Golden State Warriors\", \"0011700044\", \"2017-10-08\", \"GSW @ MIN\", \"W\", 240, 142, 51, 85, 0.6, 20, 32, 0.625, 20, 25, 0.8, 7, 26, 33, 32, 16, 10, 22, 31, 32.0], [\"12017\", 1610612744, \"GSW\", \"Golden State Warriors\", \"0011700024\", \"2017-10-05\", \"GSW vs. MIN\", \"L\", 240, 95, 37, 80, 0.463, 8, 28, 0.286, 13, 25, 0.52, 8, 36, 44, 27, 3, 8, 19, 21, -7.6], [\"12017\", 1610612744, \"GSW\", \"Golden State Warriors\", \"0011700001\", \"2017-09-30\", \"GSW vs. DEN\", \"L\", 240, 102, 39, 95, 0.411, 4, 33, 0.121, 20, 24, 0.833, 17, 36, 53, 17, 13, 4, 14, 28, -6.0], [\"22017\", 1610612744, \"GSW\", \"Golden State Warriors\", \"1521700056\", \"2017-07-14\", \"GSW @ LAC\", \"W\", 199, 109, 41, 78, 0.526, 11, 25, 0.44, 16, 26, 0.615, 8, 35, 43, 15, 8, 5, 13, 17, 9.0], [\"22017\", 1610612744, \"GSW\", \"Golden State Warriors\", \"1521700047\", \"2017-07-13\", \"GSW @ BOS\", \"L\", 201, 69, 21, 75, 0.28, 4, 18, 0.222, 23, 32, 0.719, 12, 22, 34, 5, 13, 6, 12, 16, -24.0], [\"22017\", 1610612744, \"GSW\", \"Golden State Warriors\", \"1521700040\", \"2017-07-12\", \"GSW @ MIN\", \"W\", 200, 77, 28, 59, 0.475, 4, 21, 0.19, 17, 27, 0.63, 6, 42, 48, 15, 3, 6, 19, 20, 8.0], [\"22017\", 1610612744, \"GSW\", \"Golden State Warriors\", \"1521700036\", \"2017-07-11\", \"GSW @ MIN\", \"L\", 220, 76, 25, 70, 0.357, 7, 24, 0.292, 19, 22, 0.864, 11, 31, 42, 16, 12, 12, 18, 24, 0.0], [\"22017\", 1610612744, \"GSW\", \"Golden State Warriors\", \"1521700028\", \"2017-07-10\", \"GSW @ CLE\", \"L\", 202, 74, 24, 73, 0.329, 5, 24, 0.208, 21, 35, 0.6, 11, 32, 43, 13, 11, 4, 13, 30, -17.0], [\"22017\", 1610612744, \"GSW\", \"Golden State Warriors\", \"1521700014\", \"2017-07-08\", \"GSW vs. PHI\", \"L\", 200, 93, 35, 74, 0.473, 11, 27, 0.407, 12, 18, 0.667, 11, 24, 35, 22, 9, 6, 14, 25, -2.0], [\"42016\", 1610612744, \"GSW\", \"Golden State Warriors\", \"0041600405\", \"2017-06-12\", \"GSW vs. CLE\", \"W\", 241, 129, 46, 90, 0.511, 14, 38, 0.368, 23, 28, 0.821, 13, 29, 42, 27, 8, 2, 13, 24, 9.0], [\"42016\", 1610612744, \"GSW\", \"Golden State Warriors\", \"0041600404\", \"2017-06-09\", \"GSW @ CLE\", \"L\", 241, 116, 39, 87, 0.448, 11, 39, 0.282, 27, 36, 0.75, 16, 24, 40, 26, 5, 6, 12, 27, -19.0], [\"42016\", 1610612744, \"GSW\", \"Golden State Warriors\", \"0041600403\", \"2017-06-07\", \"GSW @ CLE\", \"W\", 241, 118, 40, 83, 0.482, 16, 33, 0.485, 22, 24, 0.917, 8, 36, 44, 29, 8, 4, 18, 28, 5.0], [\"42016\", 1610612744, \"GSW\", \"Golden State Warriors\", \"0041600402\", \"2017-06-04\", \"GSW vs. CLE\", \"W\", 240, 132, 46, 89, 0.517, 18, 43, 0.419, 22, 24, 0.917, 10, 43, 53, 34, 5, 7, 20, 19, 19.0], [\"42016\", 1610612744, \"GSW\", \"Golden State Warriors\", \"0041600401\", \"2017-06-01\", \"GSW vs. CLE\", \"W\", 238, 113, 45, 106, 0.425, 12, 33, 0.364, 11, 16, 0.688, 14, 36, 50, 31, 12, 3, 4, 24, 22.0], [\"42016\", 1610612744, \"GSW\", \"Golden State Warriors\", \"0041600314\", \"2017-05-22\", \"GSW @ SAS\", \"W\", 240, 129, 48, 86, 0.558, 14, 39, 0.359, 19, 25, 0.76, 5, 48, 53, 30, 7, 3, 17, 25, 14.0], [\"42016\", 1610612744, \"GSW\", \"Golden State Warriors\", \"0041600313\", \"2017-05-20\", \"GSW @ SAS\", \"W\", 241, 120, 46, 84, 0.548, 11, 27, 0.407, 17, 22, 0.773, 9, 33, 42, 23, 12, 6, 21, 23, 12.0], [\"42016\", 1610612744, \"GSW\", \"Golden State Warriors\", \"0041600312\", \"2017-05-16\", \"GSW vs. SAS\", \"W\", 242, 136, 50, 89, 0.562, 18, 37, 0.486, 18, 19, 0.947, 6, 34, 40, 39, 16, 5, 16, 19, 36.0], [\"42016\", 1610612744, \"GSW\", \"Golden State Warriors\", \"0041600311\", \"2017-05-14\", \"GSW vs. SAS\", \"W\", 241, 113, 39, 81, 0.481, 11, 30, 0.367, 24, 33, 0.727, 17, 26, 43, 22, 13, 8, 19, 24, 2.0], [\"42016\", 1610612744, \"GSW\", \"Golden State Warriors\", \"0041600224\", \"2017-05-08\", \"GSW @ UTA\", \"W\", 240, 121, 43, 84, 0.512, 11, 26, 0.423, 24, 27, 0.889, 6, 44, 50, 28, 8, 3, 11, 26, 26.0], [\"42016\", 1610612744, \"GSW\", \"Golden State Warriors\", \"0041600223\", \"2017-05-06\", \"GSW @ UTA\", \"W\", 240, 102, 37, 84, 0.44, 9, 30, 0.3, 19, 23, 0.826, 8, 43, 51, 17, 3, 4, 7, 20, 11.0], [\"42016\", 1610612744, \"GSW\", \"Golden State Warriors\", \"0041600222\", \"2017-05-04\", \"GSW vs. UTA\", \"W\", 240, 115, 42, 85, 0.494, 14, 31, 0.452, 17, 20, 0.85, 9, 38, 47, 33, 11, 4, 17, 20, 11.0], [\"42016\", 1610612744, \"GSW\", \"Golden State Warriors\", \"0041600221\", \"2017-05-02\", \"GSW vs. UTA\", \"W\", 240, 106, 40, 82, 0.488, 7, 29, 0.241, 19, 21, 0.905, 5, 32, 37, 32, 7, 8, 7, 16, 12.0], [\"42016\", 1610612744, \"GSW\", \"Golden State Warriors\", \"0041600144\", \"2017-04-24\", \"GSW @ POR\", \"W\", 238, 128, 46, 86, 0.535, 17, 29, 0.586, 19, 27, 0.704, 6, 39, 45, 27, 7, 9, 10, 15, 25.0], [\"42016\", 1610612744, \"GSW\", \"Golden State Warriors\", \"0041600143\", \"2017-04-22\", \"GSW @ POR\", \"W\", 241, 119, 40, 91, 0.44, 12, 36, 0.333, 27, 35, 0.771, 6, 36, 42, 25, 11, 11, 7, 19, 6.0], [\"42016\", 1610612744, \"GSW\", \"Golden State Warriors\", \"0041600142\", \"2017-04-19\", \"GSW vs. POR\", \"W\", 240, 110, 40, 91, 0.44, 10, 32, 0.313, 20, 24, 0.833, 11, 43, 54, 31, 8, 11, 17, 17, 29.0], [\"42016\", 1610612744, \"GSW\", \"Golden State Warriors\", \"0041600141\", \"2017-04-16\", \"GSW vs. POR\", \"W\", 239, 121, 43, 81, 0.531, 11, 27, 0.407, 24, 28, 0.857, 9, 36, 45, 26, 7, 10, 16, 24, 12.0], [\"22016\", 1610612744, \"GSW\", \"Golden State Warriors\", \"0021601229\", \"2017-04-12\", \"GSW vs. LAL\", \"W\", 239, 109, 41, 90, 0.456, 12, 36, 0.333, 15, 22, 0.682, 14, 40, 54, 26, 14, 8, 20, 17, 15.0], [\"22016\", 1610612744, \"GSW\", \"Golden State Warriors\", \"0021601211\", \"2017-04-10\", \"GSW vs. UTA\", \"L\", 239, 99, 39, 80, 0.488, 9, 25, 0.36, 12, 17, 0.706, 8, 34, 42, 25, 5, 6, 13, 17, -6.0], [\"22016\", 1610612744, \"GSW\", \"Golden State Warriors\", \"0021601195\", \"2017-04-08\", \"GSW vs. NOP\", \"W\", 240, 123, 49, 96, 0.51, 10, 33, 0.303, 15, 16, 0.938, 14, 39, 53, 37, 2, 4, 9, 15, 22.0], [\"22016\", 1610612744, \"GSW\", \"Golden State Warriors\", \"0021601171\", \"2017-04-05\", \"GSW @ PHX\", \"W\", 241, 120, 45, 89, 0.506, 13, 30, 0.433, 17, 24, 0.708, 7, 32, 39, 25, 13, 9, 15, 19, 9.0], [\"22016\", 1610612744, \"GSW\", \"Golden State Warriors\", \"0021601162\", \"2017-04-04\", \"GSW vs. MIN\", \"W\", 239, 121, 44, 84, 0.524, 14, 32, 0.438, 19, 24, 0.792, 8, 32, 40, 33, 9, 7, 13, 19, 14.0], [\"22016\", 1610612744, \"GSW\", \"Golden State Warriors\", \"0021601152\", \"2017-04-02\", \"GSW vs. WAS\", \"W\", 240, 139, 50, 88, 0.568, 16, 36, 0.444, 23, 26, 0.885, 10, 34, 44, 34, 7, 10, 16, 20, 24.0], [\"22016\", 1610612744, \"GSW\", \"Golden State Warriors\", \"0021601136\", \"2017-03-31\", \"GSW vs. HOU\", \"W\", 239, 107, 43, 95, 0.453, 11, 32, 0.344, 10, 14, 0.714, 13, 30, 43, 27, 10, 14, 10, 20, 9.0], [\"22016\", 1610612744, \"GSW\", \"Golden State Warriors\", \"0021601118\", \"2017-03-29\", \"GSW @ SAS\", \"W\", 240, 110, 43, 85, 0.506, 13, 26, 0.5, 11, 11, 1.0, 10, 25, 35, 31, 7, 7, 15, 22, 12.0], [\"22016\", 1610612744, \"GSW\", \"Golden State Warriors\", \"0021601108\", \"2017-03-28\", \"GSW @ HOU\", \"W\", 240, 113, 45, 88, 0.511, 11, 41, 0.268, 12, 16, 0.75, 8, 36, 44, 33, 9, 7, 16, 29, 7.0], [\"22016\", 1610612744, \"GSW\", \"Golden State Warriors\", \"0021601094\", \"2017-03-26\", \"GSW vs. MEM\", \"W\", 241, 106, 39, 71, 0.549, 17, 31, 0.548, 11, 15, 0.733, 7, 30, 37, 30, 9, 4, 18, 15, 12.0], [\"22016\", 1610612744, \"GSW\", \"Golden State Warriors\", \"0021601081\", \"2017-03-24\", \"GSW vs. SAC\", \"W\", 241, 114, 44, 89, 0.494, 10, 31, 0.323, 16, 18, 0.889, 13, 31, 44, 37, 14, 8, 12, 15, 14.0], [\"22016\", 1610612744, \"GSW\", \"Golden State Warriors\", \"0021601055\", \"2017-03-21\", \"GSW @ DAL\", \"W\", 239, 112, 43, 78, 0.551, 13, 30, 0.433, 13, 16, 0.813, 4, 42, 46, 34, 10, 2, 16, 20, 25.0], [\"22016\", 1610612744, \"GSW\", \"Golden State Warriors\", \"0021601049\", \"2017-03-20\", \"GSW @ OKC\", \"W\", 239, 111, 40, 83, 0.482, 15, 33, 0.455, 16, 21, 0.762, 9, 37, 46, 28, 8, 8, 16, 22, 16.0], [\"22016\", 1610612744, \"GSW\", \"Golden State Warriors\", \"0021601035\", \"2017-03-18\", \"GSW vs. MIL\", \"W\", 239, 117, 45, 75, 0.6, 12, 23, 0.522, 15, 19, 0.789, 6, 38, 44, 30, 5, 6, 12, 16, 25.0], [\"22016\", 1610612744, \"GSW\", \"Golden State Warriors\", \"0021601019\", \"2017-03-16\", \"GSW vs. ORL\", \"W\", 239, 122, 50, 87, 0.575, 10, 26, 0.385, 12, 23, 0.522, 7, 40, 47, 36, 14, 9, 12, 18, 30.0], [\"22016\", 1610612744, \"GSW\", \"Golden State Warriors\", \"0021601003\", \"2017-03-14\", \"GSW vs. PHI\", \"W\", 240, 106, 32, 88, 0.364, 14, 32, 0.438, 28, 35, 0.8, 13, 30, 43, 24, 12, 11, 18, 24, 2.0], [\"22016\", 1610612744, \"GSW\", \"Golden State Warriors\", \"0021600980\", \"2017-03-11\", \"GSW @ SAS\", \"L\", 241, 85, 33, 92, 0.359, 5, 17, 0.294, 14, 23, 0.609, 20, 29, 49, 19, 10, 4, 15, 16, -22.0], [\"22016\", 1610612744, \"GSW\", \"Golden State Warriors\", \"0021600968\", \"2017-03-10\", \"GSW @ MIN\", \"L\", 239, 102, 41, 88, 0.466, 7, 24, 0.292, 13, 17, 0.765, 12, 31, 43, 25, 9, 5, 12, 21, -1.0], [\"22016\", 1610612744, \"GSW\", \"Golden State Warriors\", \"0021600959\", \"2017-03-08\", \"GSW vs. BOS\", \"L\", 240, 86, 37, 84, 0.44, 6, 30, 0.2, 6, 9, 0.667, 12, 34, 46, 23, 8, 12, 17, 20, -13.0], [\"22016\", 1610612744, \"GSW\", \"Golden State Warriors\", \"0021600937\", \"2017-03-06\", \"GSW @ ATL\", \"W\", 242, 119, 41, 87, 0.471, 20, 44, 0.455, 17, 22, 0.773, 13, 30, 43, 33, 10, 4, 14, 22, 8.0], [\"22016\", 1610612744, \"GSW\", \"Golden State Warriors\", \"0021600928\", \"2017-03-05\", \"GSW @ NYK\", \"W\", 240, 112, 40, 88, 0.455, 13, 35, 0.371, 19, 23, 0.826, 11, 24, 35, 21, 11, 3, 8, 18, 7.0], [\"22016\", 1610612744, \"GSW\", \"Golden State Warriors\", \"0021600906\", \"2017-03-02\", \"GSW @ CHI\", \"L\", 240, 87, 34, 88, 0.386, 6, 30, 0.2, 13, 14, 0.929, 6, 35, 41, 23, 10, 6, 15, 18, -7.0], [\"22016\", 1610612744, \"GSW\", \"Golden State Warriors\", \"0021600889\", \"2017-02-28\", \"GSW @ WAS\", \"L\", 241, 108, 39, 84, 0.464, 8, 29, 0.276, 22, 27, 0.815, 13, 28, 41, 28, 10, 6, 19, 23, -4.0], [\"22016\", 1610612744, \"GSW\", \"Golden State Warriors\", \"0021600883\", \"2017-02-27\", \"GSW @ PHI\", \"W\", 240, 119, 40, 89, 0.449, 6, 29, 0.207, 33, 39, 0.846, 16, 29, 45, 31, 14, 4, 13, 18, 11.0], [\"22016\", 1610612744, \"GSW\", \"Golden State Warriors\", \"0021600873\", \"2017-02-25\", \"GSW vs. BKN\", \"W\", 241, 112, 42, 100, 0.42, 11, 31, 0.355, 17, 22, 0.773, 13, 39, 52, 30, 10, 11, 11, 17, 17.0], [\"22016\", 1610612744, \"GSW\", \"Golden State Warriors\", \"0021600854\", \"2017-02-23\", \"GSW vs. LAC\", \"W\", 240, 123, 43, 81, 0.531, 13, 25, 0.52, 24, 26, 0.923, 10, 43, 53, 31, 11, 11, 21, 27, 10.0], [\"22016\", 1610612744, \"GSW\", \"Golden State Warriors\", \"0021600847\", \"2017-02-15\", \"GSW vs. SAC\", \"W\", 240, 109, 41, 84, 0.488, 13, 36, 0.361, 14, 21, 0.667, 6, 40, 46, 32, 10, 10, 8, 16, 23.0], [\"22016\", 1610612744, \"GSW\", \"Golden State Warriors\", \"0021600827\", \"2017-02-13\", \"GSW @ DEN\", \"L\", 240, 110, 45, 92, 0.489, 8, 32, 0.25, 12, 13, 0.923, 4, 23, 27, 25, 12, 6, 9, 13, -22.0], [\"22016\", 1610612744, \"GSW\", \"Golden State Warriors\", \"0021600813\", \"2017-02-11\", \"GSW @ OKC\", \"W\", 240, 130, 46, 87, 0.529, 13, 31, 0.419, 25, 35, 0.714, 10, 30, 40, 28, 10, 3, 11, 22, 16.0], [\"22016\", 1610612744, \"GSW\", \"Golden State Warriors\", \"0021600803\", \"2017-02-10\", \"GSW @ MEM\", \"W\", 240, 122, 39, 77, 0.506, 15, 33, 0.455, 29, 38, 0.763, 5, 29, 34, 31, 14, 13, 12, 26, 15.0], [\"22016\", 1610612744, \"GSW\", \"Golden State Warriors\", \"0021600792\", \"2017-02-08\", \"GSW vs. CHI\", \"W\", 240, 123, 48, 85, 0.565, 15, 28, 0.536, 12, 13, 0.923, 5, 40, 45, 37, 9, 5, 12, 17, 31.0], [\"22016\", 1610612744, \"GSW\", \"Golden State Warriors\", \"0021600764\", \"2017-02-04\", \"GSW @ SAC\", \"L\", 266, 106, 36, 87, 0.414, 15, 44, 0.341, 19, 24, 0.792, 7, 33, 40, 22, 10, 10, 17, 17, -3.0], [\"22016\", 1610612744, \"GSW\", \"Golden State Warriors\", \"0021600745\", \"2017-02-02\", \"GSW @ LAC\", \"W\", 239, 133, 52, 99, 0.525, 14, 34, 0.412, 15, 18, 0.833, 15, 31, 46, 38, 10, 2, 11, 26, 13.0], [\"22016\", 1610612744, \"GSW\", \"Golden State Warriors\", \"0021600741\", \"2017-02-01\", \"GSW vs. CHA\", \"W\", 240, 126, 47, 96, 0.49, 21, 48, 0.438, 11, 14, 0.786, 9, 38, 47, 35, 9, 13, 10, 18, 15.0], [\"22016\", 1610612744, \"GSW\", \"Golden State Warriors\", \"0021600718\", \"2017-01-29\", \"GSW @ POR\", \"W\", 240, 113, 36, 79, 0.456, 8, 26, 0.308, 33, 39, 0.846, 8, 31, 39, 28, 13, 6, 18, 18, 2.0], [\"22016\", 1610612744, \"GSW\", \"Golden State Warriors\", \"0021600707\", \"2017-01-28\", \"GSW vs. LAC\", \"W\", 241, 144, 57, 92, 0.62, 17, 34, 0.5, 13, 16, 0.813, 9, 39, 48, 35, 9, 7, 11, 17, 46.0], [\"22016\", 1610612744, \"GSW\", \"Golden State Warriors\", \"0021600687\", \"2017-01-25\", \"GSW @ CHA\", \"W\", 238, 113, 39, 82, 0.476, 11, 28, 0.393, 24, 27, 0.889, 5, 36, 41, 23, 7, 14, 12, 19, 10.0], [\"22016\", 1610612744, \"GSW\", \"Golden State Warriors\", \"0021600668\", \"2017-01-23\", \"GSW @ MIA\", \"L\", 241, 102, 41, 88, 0.466, 8, 30, 0.267, 12, 20, 0.6, 7, 36, 43, 27, 9, 4, 14, 20, -3.0], [\"22016\", 1610612744, \"GSW\", \"Golden State Warriors\", \"0021600661\", \"2017-01-22\", \"GSW @ ORL\", \"W\", 239, 118, 42, 89, 0.472, 19, 42, 0.452, 15, 19, 0.789, 13, 39, 52, 27, 8, 4, 18, 15, 20.0], [\"22016\", 1610612744, \"GSW\", \"Golden State Warriors\", \"0021600646\", \"2017-01-20\", \"GSW @ HOU\", \"W\", 238, 125, 47, 89, 0.528, 15, 38, 0.395, 16, 21, 0.762, 8, 33, 41, 30, 8, 7, 14, 18, 17.0], [\"22016\", 1610612744, \"GSW\", \"Golden State Warriors\", \"0021600634\", \"2017-01-18\", \"GSW vs. OKC\", \"W\", 241, 121, 46, 85, 0.541, 10, 21, 0.476, 19, 27, 0.704, 11, 35, 46, 35, 11, 8, 18, 16, 21.0], [\"22016\", 1610612744, \"GSW\", \"Golden State Warriors\", \"0021600619\", \"2017-01-16\", \"GSW vs. CLE\", \"W\", 242, 126, 46, 91, 0.505, 15, 34, 0.441, 19, 24, 0.792, 11, 47, 58, 37, 10, 11, 16, 22, 35.0], [\"22016\", 1610612744, \"GSW\", \"Golden State Warriors\", \"0021600590\", \"2017-01-12\", \"GSW vs. DET\", \"W\", 240, 127, 50, 89, 0.562, 15, 29, 0.517, 12, 18, 0.667, 6, 31, 37, 39, 14, 4, 18, 14, 20.0], [\"22016\", 1610612744, \"GSW\", \"Golden State Warriors\", \"0021600578\", \"2017-01-10\", \"GSW vs. MIA\", \"W\", 242, 107, 39, 86, 0.453, 11, 27, 0.407, 18, 22, 0.818, 5, 43, 48, 28, 6, 7, 11, 16, 12.0], [\"22016\", 1610612744, \"GSW\", \"Golden State Warriors\", \"0021600566\", \"2017-01-08\", \"GSW @ SAC\", \"W\", 240, 117, 45, 89, 0.506, 10, 29, 0.345, 17, 20, 0.85, 13, 33, 46, 33, 11, 6, 17, 22, 11.0], [\"22016\", 1610612744, \"GSW\", \"Golden State Warriors\", \"0021600550\", \"2017-01-06\", \"GSW vs. MEM\", \"L\", 265, 119, 41, 83, 0.494, 8, 30, 0.267, 29, 39, 0.744, 7, 37, 44, 23, 7, 5, 16, 21, -9.0], [\"22016\", 1610612744, \"GSW\", \"Golden State Warriors\", \"0021600534\", \"2017-01-04\", \"GSW vs. POR\", \"W\", 241, 125, 44, 87, 0.506, 13, 36, 0.361, 24, 29, 0.828, 8, 31, 39, 31, 14, 9, 15, 20, 8.0], [\"22016\", 1610612744, \"GSW\", \"Golden State Warriors\", \"0021600520\", \"2017-01-02\", \"GSW vs. DEN\", \"W\", 239, 127, 50, 95, 0.526, 11, 25, 0.44, 16, 21, 0.762, 12, 31, 43, 33, 7, 2, 13, 14, 8.0], [\"22016\", 1610612744, \"GSW\", \"Golden State Warriors\", \"0021600501\", \"2016-12-30\", \"GSW vs. DAL\", \"W\", 241, 108, 42, 84, 0.5, 11, 33, 0.333, 13, 15, 0.867, 4, 39, 43, 31, 5, 4, 13, 12, 9.0], [\"22016\", 1610612744, \"GSW\", \"Golden State Warriors\", \"0021600485\", \"2016-12-28\", \"GSW vs. TOR\", \"W\", 240, 121, 46, 81, 0.568, 14, 23, 0.609, 15, 18, 0.833, 9, 42, 51, 33, 4, 9, 20, 16, 10.0], [\"22016\", 1610612744, \"GSW\", \"Golden State Warriors\", \"0021600457\", \"2016-12-25\", \"GSW @ CLE\", \"L\", 241, 108, 37, 77, 0.481, 9, 30, 0.3, 25, 29, 0.862, 5, 37, 42, 25, 8, 4, 19, 24, -1.0], [\"22016\", 1610612744, \"GSW\", \"Golden State Warriors\", \"0021600446\", \"2016-12-23\", \"GSW @ DET\", \"W\", 240, 119, 43, 77, 0.558, 11, 27, 0.407, 22, 24, 0.917, 4, 37, 41, 35, 9, 2, 22, 21, 6.0], [\"22016\", 1610612744, \"GSW\", \"Golden State Warriors\", \"0021600437\", \"2016-12-22\", \"GSW @ BKN\", \"W\", 240, 117, 47, 104, 0.452, 12, 37, 0.324, 11, 14, 0.786, 11, 40, 51, 29, 19, 7, 12, 19, 16.0], [\"22016\", 1610612744, \"GSW\", \"Golden State Warriors\", \"0021600427\", \"2016-12-20\", \"GSW vs. UTA\", \"W\", 239, 104, 40, 90, 0.444, 9, 23, 0.391, 15, 17, 0.882, 9, 41, 50, 24, 13, 3, 10, 18, 30.0], [\"22016\", 1610612744, \"GSW\", \"Golden State Warriors\", \"0021600405\", \"2016-12-17\", \"GSW vs. POR\", \"W\", 240, 135, 51, 87, 0.586, 14, 28, 0.5, 19, 26, 0.731, 9, 47, 56, 36, 7, 5, 15, 16, 45.0], [\"22016\", 1610612744, \"GSW\", \"Golden State Warriors\", \"0021600388\", \"2016-12-15\", \"GSW vs. NYK\", \"W\", 241, 103, 45, 96, 0.469, 9, 32, 0.281, 4, 8, 0.5, 15, 42, 57, 41, 7, 10, 17, 17, 13.0], [\"22016\", 1610612744, \"GSW\", \"Golden State Warriors\", \"0021600371\", \"2016-12-13\", \"GSW @ NOP\", \"W\", 239, 113, 42, 95, 0.442, 14, 34, 0.412, 15, 19, 0.789, 9, 36, 45, 30, 6, 5, 12, 12, 4.0], [\"22016\", 1610612744, \"GSW\", \"Golden State Warriors\", \"0021600358\", \"2016-12-11\", \"GSW @ MIN\", \"W\", 242, 116, 38, 83, 0.458, 13, 32, 0.406, 27, 30, 0.9, 6, 31, 37, 30, 9, 4, 8, 24, 8.0], [\"22016\", 1610612744, \"GSW\", \"Golden State Warriors\", \"0021600351\", \"2016-12-10\", \"GSW @ MEM\", \"L\", 240, 89, 34, 77, 0.442, 9, 27, 0.333, 12, 20, 0.6, 10, 32, 42, 15, 6, 8, 23, 23, -21.0], [\"22016\", 1610612744, \"GSW\", \"Golden State Warriors\", \"0021600335\", \"2016-12-08\", \"GSW @ UTA\", \"W\", 240, 106, 39, 80, 0.488, 12, 29, 0.414, 16, 23, 0.696, 9, 38, 47, 26, 10, 4, 16, 23, 7.0], [\"22016\", 1610612744, \"GSW\", \"Golden State Warriors\", \"0021600330\", \"2016-12-07\", \"GSW @ LAC\", \"W\", 240, 115, 42, 89, 0.472, 7, 31, 0.226, 24, 29, 0.828, 12, 34, 46, 32, 11, 5, 10, 24, 17.0], [\"22016\", 1610612744, \"GSW\", \"Golden State Warriors\", \"0021600314\", \"2016-12-05\", \"GSW vs. IND\", \"W\", 238, 142, 54, 104, 0.519, 14, 37, 0.378, 20, 26, 0.769, 16, 38, 54, 45, 12, 13, 11, 22, 36.0], [\"22016\", 1610612744, \"GSW\", \"Golden State Warriors\", \"0021600299\", \"2016-12-03\", \"GSW vs. PHX\", \"W\", 242, 138, 49, 78, 0.628, 14, 21, 0.667, 26, 34, 0.765, 6, 32, 38, 37, 9, 5, 17, 19, 29.0], [\"22016\", 1610612744, \"GSW\", \"Golden State Warriors\", \"0021600281\", \"2016-12-01\", \"GSW vs. HOU\", \"L\", 288, 127, 43, 104, 0.413, 12, 44, 0.273, 29, 37, 0.784, 13, 41, 54, 31, 12, 7, 17, 27, -5.0], [\"22016\", 1610612744, \"GSW\", \"Golden State Warriors\", \"0021600259\", \"2016-11-28\", \"GSW vs. ATL\", \"W\", 239, 105, 37, 85, 0.435, 12, 35, 0.343, 19, 24, 0.792, 7, 34, 41, 25, 6, 10, 14, 20, 5.0], [\"22016\", 1610612744, \"GSW\", \"Golden State Warriors\", \"0021600244\", \"2016-11-26\", \"GSW vs. MIN\", \"W\", 239, 115, 45, 81, 0.556, 11, 22, 0.5, 14, 17, 0.824, 12, 33, 45, 25, 9, 8, 18, 14, 13.0], [\"22016\", 1610612744, \"GSW\", \"Golden State Warriors\", \"0021600238\", \"2016-11-25\", \"GSW @ LAL\", \"W\", 241, 109, 43, 83, 0.518, 11, 28, 0.393, 12, 17, 0.706, 4, 40, 44, 31, 10, 10, 17, 21, 24.0], [\"22016\", 1610612744, \"GSW\", \"Golden State Warriors\", \"0021600223\", \"2016-11-23\", \"GSW vs. LAL\", \"W\", 241, 149, 53, 86, 0.616, 19, 36, 0.528, 24, 35, 0.686, 6, 42, 48, 47, 7, 5, 10, 20, 43.0], [\"22016\", 1610612744, \"GSW\", \"Golden State Warriors\", \"0021600202\", \"2016-11-21\", \"GSW @ IND\", \"W\", 239, 120, 40, 90, 0.444, 13, 36, 0.361, 27, 32, 0.844, 12, 48, 60, 31, 9, 10, 12, 17, 37.0], [\"22016\", 1610612744, \"GSW\", \"Golden State Warriors\", \"0021600191\", \"2016-11-19\", \"GSW @ MIL\", \"W\", 240, 124, 42, 95, 0.442, 14, 38, 0.368, 26, 32, 0.813, 18, 27, 45, 30, 8, 5, 12, 25, 3.0], [\"22016\", 1610612744, \"GSW\", \"Golden State Warriors\", \"0021600179\", \"2016-11-18\", \"GSW @ BOS\", \"W\", 240, 104, 44, 90, 0.489, 9, 28, 0.321, 7, 12, 0.583, 9, 41, 50, 33, 10, 7, 11, 20, 16.0], [\"22016\", 1610612744, \"GSW\", \"Golden State Warriors\", \"0021600165\", \"2016-11-16\", \"GSW @ TOR\", \"W\", 240, 127, 44, 87, 0.506, 13, 36, 0.361, 26, 28, 0.929, 7, 28, 35, 33, 9, 7, 12, 25, 6.0], [\"22016\", 1610612744, \"GSW\", \"Golden State Warriors\", \"0021600143\", \"2016-11-13\", \"GSW vs. PHX\", \"W\", 240, 133, 45, 87, 0.517, 16, 33, 0.485, 27, 31, 0.871, 8, 35, 43, 32, 8, 7, 16, 20, 13.0], [\"22016\", 1610612744, \"GSW\", \"Golden State Warriors\", \"0021600119\", \"2016-11-10\", \"GSW @ DEN\", \"W\", 241, 125, 46, 85, 0.541, 14, 30, 0.467, 19, 20, 0.95, 9, 35, 44, 33, 15, 6, 15, 18, 24.0], [\"22016\", 1610612744, \"GSW\", \"Golden State Warriors\", \"0021600116\", \"2016-11-09\", \"GSW vs. DAL\", \"W\", 241, 116, 43, 74, 0.581, 17, 33, 0.515, 13, 22, 0.591, 5, 34, 39, 33, 3, 5, 15, 22, 21.0], [\"22016\", 1610612744, \"GSW\", \"Golden State Warriors\", \"0021600099\", \"2016-11-07\", \"GSW vs. NOP\", \"W\", 241, 116, 45, 90, 0.5, 16, 35, 0.457, 10, 12, 0.833, 10, 28, 38, 35, 14, 4, 15, 17, 10.0], [\"22016\", 1610612744, \"GSW\", \"Golden State Warriors\", \"0021600078\", \"2016-11-04\", \"GSW @ LAL\", \"L\", 240, 97, 39, 86, 0.453, 5, 32, 0.156, 14, 20, 0.7, 9, 31, 40, 26, 13, 3, 20, 13, -20.0], [\"22016\", 1610612744, \"GSW\", \"Golden State Warriors\", \"0021600069\", \"2016-11-03\", \"GSW vs. OKC\", \"W\", 241, 122, 46, 89, 0.517, 14, 30, 0.467, 16, 20, 0.8, 15, 31, 46, 27, 9, 14, 15, 18, 26.0], [\"22016\", 1610612744, \"GSW\", \"Golden State Warriors\", \"0021600054\", \"2016-11-01\", \"GSW @ POR\", \"W\", 240, 127, 50, 89, 0.562, 10, 26, 0.385, 17, 23, 0.739, 7, 38, 45, 36, 14, 4, 16, 19, 23.0], [\"22016\", 1610612744, \"GSW\", \"Golden State Warriors\", \"0021600036\", \"2016-10-30\", \"GSW @ PHX\", \"W\", 241, 106, 35, 83, 0.422, 8, 29, 0.276, 28, 33, 0.848, 7, 36, 43, 27, 6, 5, 15, 23, 6.0], [\"22016\", 1610612744, \"GSW\", \"Golden State Warriors\", \"0021600025\", \"2016-10-28\", \"GSW @ NOP\", \"W\", 239, 122, 44, 91, 0.484, 9, 28, 0.321, 25, 28, 0.893, 9, 40, 49, 32, 8, 2, 14, 22, 8.0], [\"22016\", 1610612744, \"GSW\", \"Golden State Warriors\", \"0021600003\", \"2016-10-25\", \"GSW vs. SAS\", \"L\", 241, 100, 40, 85, 0.471, 7, 33, 0.212, 13, 18, 0.722, 8, 27, 35, 24, 11, 6, 16, 19, -29.0], [\"12016\", 1610612744, \"GSW\", \"Golden State Warriors\", \"0011600102\", \"2016-10-21\", \"GSW vs. POR\", \"W\", 240, 107, 39, 90, 0.433, 17, 43, 0.395, 12, 13, 0.923, 9, 42, 51, 27, 5, 8, 14, 18, 11.0], [\"12016\", 1610612744, \"GSW\", \"Golden State Warriors\", \"0011600088\", \"2016-10-19\", \"GSW @ LAL\", \"W\", 241, 123, 44, 92, 0.478, 11, 33, 0.333, 24, 25, 0.96, 8, 36, 44, 34, 12, 8, 14, 19, 11.0], [\"12016\", 1610612744, \"GSW\", \"Golden State Warriors\", \"0011600068\", \"2016-10-15\", \"GSW @ LAL\", \"W\", 240, 112, 44, 81, 0.543, 10, 23, 0.435, 14, 22, 0.636, 13, 30, 43, 29, 9, 6, 19, 28, 5.0], [\"12016\", 1610612744, \"GSW\", \"Golden State Warriors\", \"0011600063\", \"2016-10-14\", \"GSW @ DEN\", \"W\", 265, 129, 45, 98, 0.459, 17, 42, 0.405, 22, 33, 0.667, 11, 41, 52, 27, 10, 11, 16, 22, 1.0], [\"12016\", 1610612744, \"GSW\", \"Golden State Warriors\", \"0011600026\", \"2016-10-06\", \"GSW vs. SAC\", \"W\", 241, 105, 31, 70, 0.443, 15, 35, 0.429, 28, 35, 0.8, 7, 38, 45, 22, 12, 6, 23, 19, 9.0], [\"12016\", 1610612744, \"GSW\", \"Golden State Warriors\", \"0011600016\", \"2016-10-04\", \"GSW vs. LAC\", \"W\", 242, 120, 37, 72, 0.514, 15, 29, 0.517, 31, 39, 0.795, 6, 41, 47, 29, 12, 6, 18, 27, 45.0], [\"12016\", 1610612744, \"GSW\", \"Golden State Warriors\", \"0011600001\", \"2016-10-01\", \"GSW @ TOR\", \"L\", 241, 93, 33, 84, 0.393, 12, 36, 0.333, 15, 24, 0.625, 9, 33, 42, 19, 15, 7, 21, 24, -4.0], [\"22016\", 1610612744, \"GSW\", \"Golden State Warriors\", \"1521600059\", \"2016-07-15\", \"GSW @ DAL\", \"L\", 199, 74, 25, 69, 0.362, 4, 25, 0.16, 20, 26, 0.769, 8, 21, 29, 11, 15, 4, 19, 13, -6.0], [\"22016\", 1610612744, \"GSW\", \"Golden State Warriors\", \"1521600051\", \"2016-07-14\", \"GSW @ TOR\", \"L\", 198, 69, 27, 71, 0.38, 6, 29, 0.207, 9, 12, 0.75, 14, 29, 43, 16, 9, 3, 17, 25, -6.0], [\"22016\", 1610612744, \"GSW\", \"Golden State Warriors\", \"1521600044\", \"2016-07-13\", \"GSW vs. HOU\", \"W\", 201, 80, 25, 65, 0.385, 9, 19, 0.474, 21, 26, 0.808, 8, 30, 38, 16, 11, 2, 15, 21, 4.0], [\"22016\", 1610612744, \"GSW\", \"Golden State Warriors\", \"1521600036\", \"2016-07-12\", \"GSW vs. PHI\", \"W\", 201, 85, 33, 70, 0.471, 4, 16, 0.25, 15, 18, 0.833, 6, 28, 34, 18, 6, 7, 15, 24, 8.0], [\"22016\", 1610612744, \"GSW\", \"Golden State Warriors\", \"1521600030\", \"2016-07-11\", \"GSW @ LAL\", \"L\", 201, 65, 22, 74, 0.297, 7, 29, 0.241, 14, 24, 0.583, 10, 23, 33, 11, 9, 1, 11, 18, -13.0], [\"22016\", 1610612744, \"GSW\", \"Golden State Warriors\", \"1521600014\", \"2016-07-09\", \"GSW vs. SAS\", \"L\", 201, 61, 24, 84, 0.286, 5, 25, 0.2, 8, 11, 0.727, 15, 29, 44, 12, 11, 5, 15, 18, -2.0], [\"42015\", 1610612744, \"GSW\", \"Golden State Warriors\", \"0041500407\", \"2016-06-19\", \"GSW vs. CLE\", \"L\", 239, 89, 32, 83, 0.386, 15, 41, 0.366, 10, 13, 0.769, 7, 32, 39, 22, 7, 5, 10, 23, -4.0], [\"42015\", 1610612744, \"GSW\", \"Golden State Warriors\", \"0041500406\", \"2016-06-16\", \"GSW @ CLE\", \"L\", 238, 101, 33, 82, 0.402, 15, 39, 0.385, 20, 29, 0.69, 9, 26, 35, 19, 5, 3, 14, 25, -14.0], [\"42015\", 1610612744, \"GSW\", \"Golden State Warriors\", \"0041500405\", \"2016-06-13\", \"GSW vs. CLE\", \"L\", 242, 97, 32, 88, 0.364, 14, 43, 0.326, 19, 26, 0.731, 13, 30, 43, 18, 6, 9, 17, 21, -15.0], [\"42015\", 1610612744, \"GSW\", \"Golden State Warriors\", \"0041500404\", \"2016-06-10\", \"GSW @ CLE\", \"W\", 239, 108, 33, 81, 0.407, 17, 36, 0.472, 25, 31, 0.806, 14, 29, 43, 23, 7, 6, 8, 22, 11.0], [\"42015\", 1610612744, \"GSW\", \"Golden State Warriors\", \"0041500403\", \"2016-06-08\", \"GSW @ CLE\", \"L\", 241, 90, 32, 76, 0.421, 9, 33, 0.273, 17, 26, 0.654, 8, 24, 32, 21, 5, 4, 18, 23, -30.0], [\"42015\", 1610612744, \"GSW\", \"Golden State Warriors\", \"0041500402\", \"2016-06-05\", \"GSW vs. CLE\", \"W\", 241, 110, 44, 81, 0.543, 15, 33, 0.455, 7, 10, 0.7, 12, 34, 46, 26, 7, 9, 20, 20, 33.0], [\"42015\", 1610612744, \"GSW\", \"Golden State Warriors\", \"0041500401\", \"2016-06-02\", \"GSW vs. CLE\", \"W\", 239, 104, 43, 87, 0.494, 9, 27, 0.333, 9, 10, 0.9, 9, 32, 41, 29, 9, 4, 9, 16, 15.0], [\"42015\", 1610612744, \"GSW\", \"Golden State Warriors\", \"0041500317\", \"2016-05-30\", \"GSW vs. OKC\", \"W\", 239, 96, 37, 85, 0.435, 17, 37, 0.459, 5, 8, 0.625, 10, 36, 46, 20, 4, 4, 11, 16, 8.0], [\"42015\", 1610612744, \"GSW\", \"Golden State Warriors\", \"0041500316\", \"2016-05-28\", \"GSW @ OKC\", \"W\", 241, 108, 36, 88, 0.409, 21, 45, 0.467, 15, 24, 0.625, 13, 31, 44, 23, 11, 4, 14, 25, 7.0], [\"42015\", 1610612744, \"GSW\", \"Golden State Warriors\", \"0041500315\", \"2016-05-26\", \"GSW vs. OKC\", \"W\", 239, 120, 40, 85, 0.471, 9, 24, 0.375, 31, 34, 0.912, 11, 34, 45, 25, 13, 7, 15, 18, 9.0], [\"42015\", 1610612744, \"GSW\", \"Golden State Warriors\", \"0041500314\", \"2016-05-24\", \"GSW @ OKC\", \"L\", 239, 94, 33, 80, 0.413, 9, 30, 0.3, 19, 29, 0.655, 8, 32, 40, 15, 11, 4, 21, 26, -24.0], [\"42015\", 1610612744, \"GSW\", \"Golden State Warriors\", \"0041500313\", \"2016-05-22\", \"GSW @ OKC\", \"L\", 240, 105, 38, 92, 0.413, 10, 32, 0.313, 19, 25, 0.76, 10, 28, 38, 19, 9, 1, 13, 21, -28.0], [\"42015\", 1610612744, \"GSW\", \"Golden State Warriors\", \"0041500312\", \"2016-05-18\", \"GSW vs. OKC\", \"W\", 241, 118, 43, 85, 0.506, 13, 28, 0.464, 19, 28, 0.679, 15, 30, 45, 26, 9, 3, 12, 21, 27.0], [\"42015\", 1610612744, \"GSW\", \"Golden State Warriors\", \"0041500311\", \"2016-05-16\", \"GSW vs. OKC\", \"L\", 242, 102, 40, 91, 0.44, 11, 30, 0.367, 11, 17, 0.647, 8, 36, 44, 26, 8, 4, 14, 22, -6.0], [\"42015\", 1610612744, \"GSW\", \"Golden State Warriors\", \"0041500225\", \"2016-05-11\", \"GSW vs. POR\", \"W\", 240, 125, 43, 84, 0.512, 14, 32, 0.438, 25, 29, 0.862, 9, 35, 44, 28, 5, 4, 16, 25, 4.0], [\"42015\", 1610612744, \"GSW\", \"Golden State Warriors\", \"0041500224\", \"2016-05-09\", \"GSW @ POR\", \"W\", 265, 132, 44, 95, 0.463, 17, 40, 0.425, 27, 33, 0.818, 10, 39, 49, 22, 13, 10, 14, 27, 7.0], [\"42015\", 1610612744, \"GSW\", \"Golden State Warriors\", \"0041500223\", \"2016-05-07\", \"GSW @ POR\", \"L\", 239, 108, 42, 88, 0.477, 14, 29, 0.483, 10, 17, 0.588, 11, 31, 42, 29, 4, 6, 12, 20, -12.0], [\"42015\", 1610612744, \"GSW\", \"Golden State Warriors\", \"0041500222\", \"2016-05-03\", \"GSW vs. POR\", \"W\", 240, 110, 42, 91, 0.462, 8, 24, 0.333, 18, 20, 0.9, 10, 38, 48, 21, 4, 9, 10, 23, 11.0], [\"42015\", 1610612744, \"GSW\", \"Golden State Warriors\", \"0041500221\", \"2016-05-01\", \"GSW vs. POR\", \"W\", 240, 118, 43, 91, 0.473, 11, 31, 0.355, 21, 24, 0.875, 16, 39, 55, 27, 8, 8, 12, 22, 12.0], [\"42015\", 1610612744, \"GSW\", \"Golden State Warriors\", \"0041500145\", \"2016-04-27\", \"GSW vs. HOU\", \"W\", 239, 114, 45, 82, 0.549, 13, 31, 0.419, 11, 19, 0.579, 6, 34, 40, 30, 10, 6, 9, 16, 33.0], [\"42015\", 1610612744, \"GSW\", \"Golden State Warriors\", \"0041500144\", \"2016-04-24\", \"GSW @ HOU\", \"W\", 243, 121, 46, 89, 0.517, 21, 40, 0.525, 8, 16, 0.5, 7, 36, 43, 38, 10, 2, 16, 26, 27.0], [\"42015\", 1610612744, \"GSW\", \"Golden State Warriors\", \"0041500143\", \"2016-04-21\", \"GSW @ HOU\", \"L\", 240, 96, 34, 79, 0.43, 6, 25, 0.24, 22, 29, 0.759, 8, 35, 43, 23, 6, 6, 14, 23, -1.0], [\"42015\", 1610612744, \"GSW\", \"Golden State Warriors\", \"0041500142\", \"2016-04-18\", \"GSW vs. HOU\", \"W\", 241, 115, 40, 81, 0.494, 8, 23, 0.348, 27, 38, 0.711, 13, 26, 39, 27, 10, 6, 12, 24, 9.0], [\"42015\", 1610612744, \"GSW\", \"Golden State Warriors\", \"0041500141\", \"2016-04-16\", \"GSW vs. HOU\", \"W\", 241, 104, 39, 91, 0.429, 10, 25, 0.4, 16, 24, 0.667, 15, 38, 53, 26, 10, 7, 15, 22, 26.0], [\"22015\", 1610612744, \"GSW\", \"Golden State Warriors\", \"0021501227\", \"2016-04-13\", \"GSW vs. MEM\", \"W\", 240, 125, 46, 87, 0.529, 20, 47, 0.426, 13, 16, 0.813, 12, 39, 51, 35, 7, 7, 17, 14, 21.0], [\"22015\", 1610612744, \"GSW\", \"Golden State Warriors\", \"0021501201\", \"2016-04-10\", \"GSW @ SAS\", \"W\", 238, 92, 34, 77, 0.442, 10, 27, 0.37, 14, 18, 0.778, 7, 39, 46, 19, 7, 6, 13, 18, 6.0], [\"22015\", 1610612744, \"GSW\", \"Golden State Warriors\", \"0021501190\", \"2016-04-09\", \"GSW @ MEM\", \"W\", 239, 100, 39, 87, 0.448, 10, 36, 0.278, 12, 13, 0.923, 7, 41, 48, 20, 3, 7, 11, 14, 1.0], [\"22015\", 1610612744, \"GSW\", \"Golden State Warriors\", \"0021501177\", \"2016-04-07\", \"GSW vs. SAS\", \"W\", 241, 112, 45, 83, 0.542, 12, 25, 0.48, 10, 11, 0.909, 7, 36, 43, 33, 8, 2, 15, 22, 11.0], [\"22015\", 1610612744, \"GSW\", \"Golden State Warriors\", \"0021501163\", \"2016-04-05\", \"GSW vs. MIN\", \"L\", 266, 117, 49, 98, 0.5, 12, 35, 0.343, 7, 8, 0.875, 9, 37, 46, 35, 9, 5, 23, 29, -7.0], [\"22015\", 1610612744, \"GSW\", \"Golden State Warriors\", \"0021501152\", \"2016-04-03\", \"GSW vs. POR\", \"W\", 239, 136, 50, 88, 0.568, 18, 30, 0.6, 18, 22, 0.818, 11, 32, 43, 30, 5, 8, 12, 23, 25.0], [\"22015\", 1610612744, \"GSW\", \"Golden State Warriors\", \"0021501136\", \"2016-04-01\", \"GSW vs. BOS\", \"L\", 239, 106, 38, 83, 0.458, 20, 43, 0.465, 10, 13, 0.769, 8, 33, 41, 25, 12, 7, 22, 24, -3.0], [\"22015\", 1610612744, \"GSW\", \"Golden State Warriors\", \"0021501119\", \"2016-03-30\", \"GSW @ UTA\", \"W\", 264, 103, 39, 89, 0.438, 12, 35, 0.343, 13, 18, 0.722, 9, 37, 46, 19, 6, 6, 18, 21, 7.0], [\"22015\", 1610612744, \"GSW\", \"Golden State Warriors\", \"0021501112\", \"2016-03-29\", \"GSW vs. WAS\", \"W\", 240, 102, 38, 87, 0.437, 11, 25, 0.44, 15, 23, 0.652, 7, 48, 55, 27, 11, 6, 16, 23, 8.0], [\"22015\", 1610612744, \"GSW\", \"Golden State Warriors\", \"0021501094\", \"2016-03-27\", \"GSW vs. PHI\", \"W\", 239, 117, 44, 83, 0.53, 14, 33, 0.424, 15, 20, 0.75, 7, 37, 44, 32, 9, 4, 18, 15, 12.0], [\"22015\", 1610612744, \"GSW\", \"Golden State Warriors\", \"0021501080\", \"2016-03-25\", \"GSW vs. DAL\", \"W\", 239, 128, 43, 88, 0.489, 21, 45, 0.467, 21, 23, 0.913, 7, 33, 40, 30, 8, 10, 7, 16, 8.0], [\"22015\", 1610612744, \"GSW\", \"Golden State Warriors\", \"0021501066\", \"2016-03-23\", \"GSW vs. LAC\", \"W\", 238, 114, 39, 87, 0.448, 15, 34, 0.441, 21, 28, 0.75, 11, 39, 50, 23, 9, 5, 12, 20, 16.0], [\"22015\", 1610612744, \"GSW\", \"Golden State Warriors\", \"0021501050\", \"2016-03-21\", \"GSW @ MIN\", \"W\", 239, 109, 43, 87, 0.494, 8, 24, 0.333, 15, 24, 0.625, 13, 31, 44, 31, 13, 10, 16, 20, 5.0], [\"22015\", 1610612744, \"GSW\", \"Golden State Warriors\", \"0021501036\", \"2016-03-19\", \"GSW @ SAS\", \"L\", 240, 79, 31, 82, 0.378, 9, 36, 0.25, 8, 10, 0.8, 7, 30, 37, 24, 12, 3, 10, 21, -8.0], [\"22015\", 1610612744, \"GSW\", \"Golden State Warriors\", \"0021501026\", \"2016-03-18\", \"GSW @ DAL\", \"W\", 240, 130, 48, 95, 0.505, 22, 38, 0.579, 12, 14, 0.857, 5, 37, 42, 35, 8, 7, 12, 21, 18.0], [\"22015\", 1610612744, \"GSW\", \"Golden State Warriors\", \"0021501011\", \"2016-03-16\", \"GSW vs. NYK\", \"W\", 241, 121, 46, 91, 0.505, 18, 37, 0.486, 11, 12, 0.917, 12, 42, 54, 32, 4, 8, 12, 13, 36.0], [\"22015\", 1610612744, \"GSW\", \"Golden State Warriors\", \"0021500996\", \"2016-03-14\", \"GSW vs. NOP\", \"W\", 238, 125, 47, 81, 0.58, 12, 25, 0.48, 19, 23, 0.826, 8, 38, 46, 30, 6, 6, 18, 22, 18.0], [\"22015\", 1610612744, \"GSW\", \"Golden State Warriors\", \"0021500981\", \"2016-03-12\", \"GSW vs. PHX\", \"W\", 239, 123, 42, 84, 0.5, 11, 33, 0.333, 28, 33, 0.848, 7, 35, 42, 28, 6, 9, 8, 25, 7.0], [\"22015\", 1610612744, \"GSW\", \"Golden State Warriors\", \"0021500971\", \"2016-03-11\", \"GSW vs. POR\", \"W\", 241, 128, 40, 89, 0.449, 18, 40, 0.45, 30, 39, 0.769, 16, 40, 56, 23, 5, 6, 8, 20, 16.0], [\"22015\", 1610612744, \"GSW\", \"Golden State Warriors\", \"0021500958\", \"2016-03-09\", \"GSW vs. UTA\", \"W\", 240, 115, 48, 84, 0.571, 13, 30, 0.433, 6, 10, 0.6, 9, 30, 39, 36, 10, 7, 15, 23, 21.0], [\"22015\", 1610612744, \"GSW\", \"Golden State Warriors\", \"0021500943\", \"2016-03-07\", \"GSW vs. ORL\", \"W\", 239, 119, 42, 84, 0.5, 16, 35, 0.457, 19, 27, 0.704, 10, 40, 50, 27, 13, 7, 24, 26, 6.0], [\"22015\", 1610612744, \"GSW\", \"Golden State Warriors\", \"0021500931\", \"2016-03-06\", \"GSW @ LAL\", \"L\", 241, 95, 37, 92, 0.402, 4, 30, 0.133, 17, 21, 0.81, 17, 32, 49, 32, 5, 3, 20, 20, -17.0], [\"22015\", 1610612744, \"GSW\", \"Golden State Warriors\", \"0021500911\", \"2016-03-03\", \"GSW vs. OKC\", \"W\", 240, 121, 47, 87, 0.54, 11, 34, 0.324, 16, 21, 0.762, 4, 36, 40, 33, 11, 3, 8, 20, 15.0], [\"22015\", 1610612744, \"GSW\", \"Golden State Warriors\", \"0021500895\", \"2016-03-01\", \"GSW vs. ATL\", \"W\", 264, 109, 41, 103, 0.398, 12, 36, 0.333, 15, 17, 0.882, 18, 33, 51, 28, 11, 3, 11, 22, 4.0], [\"22015\", 1610612744, \"GSW\", \"Golden State Warriors\", \"0021500874\", \"2016-02-27\", \"GSW @ OKC\", \"W\", 265, 121, 45, 95, 0.474, 14, 32, 0.438, 17, 25, 0.68, 4, 28, 32, 25, 15, 7, 11, 22, 3.0], [\"22015\", 1610612744, \"GSW\", \"Golden State Warriors\", \"0021500855\", \"2016-02-25\", \"GSW @ ORL\", \"W\", 241, 130, 53, 88, 0.602, 13, 25, 0.52, 11, 16, 0.688, 8, 34, 42, 35, 9, 4, 20, 21, 16.0], [\"22015\", 1610612744, \"GSW\", \"Golden State Warriors\", \"0021500848\", \"2016-02-24\", \"GSW @ MIA\", \"W\", 241, 118, 42, 90, 0.467, 13, 28, 0.464, 21, 25, 0.84, 9, 34, 43, 23, 7, 2, 13, 24, 6.0], [\"22015\", 1610612744, \"GSW\", \"Golden State Warriors\", \"0021500836\", \"2016-02-22\", \"GSW @ ATL\", \"W\", 240, 102, 39, 89, 0.438, 14, 45, 0.311, 10, 12, 0.833, 6, 37, 43, 30, 14, 8, 13, 17, 10.0], [\"22015\", 1610612744, \"GSW\", \"Golden State Warriors\", \"0021500822\", \"2016-02-20\", \"GSW @ LAC\", \"W\", 242, 115, 42, 82, 0.512, 11, 31, 0.355, 20, 26, 0.769, 6, 33, 39, 32, 8, 2, 14, 19, 3.0], [\"22015\", 1610612744, \"GSW\", \"Golden State Warriors\", \"0021500815\", \"2016-02-19\", \"GSW @ POR\", \"L\", 240, 105, 36, 92, 0.391, 12, 34, 0.353, 21, 28, 0.75, 14, 33, 47, 25, 7, 4, 20, 17, -32.0], [\"22015\", 1610612744, \"GSW\", \"Golden State Warriors\", \"0021500799\", \"2016-02-10\", \"GSW @ PHX\", \"W\", 240, 112, 37, 89, 0.416, 14, 40, 0.35, 24, 29, 0.828, 8, 42, 50, 24, 12, 7, 13, 22, 8.0], [\"22015\", 1610612744, \"GSW\", \"Golden State Warriors\", \"0021500788\", \"2016-02-09\", \"GSW vs. HOU\", \"W\", 241, 123, 44, 94, 0.468, 12, 34, 0.353, 23, 26, 0.885, 14, 35, 49, 28, 5, 6, 12, 26, 13.0], [\"22015\", 1610612744, \"GSW\", \"Golden State Warriors\", \"0021500769\", \"2016-02-06\", \"GSW vs. OKC\", \"W\", 240, 116, 48, 97, 0.495, 7, 26, 0.269, 13, 20, 0.65, 13, 33, 46, 24, 7, 4, 10, 23, 8.0], [\"22015\", 1610612744, \"GSW\", \"Golden State Warriors\", \"0021500739\", \"2016-02-03\", \"GSW @ WAS\", \"W\", 241, 134, 49, 93, 0.527, 20, 41, 0.488, 16, 29, 0.552, 11, 38, 49, 35, 10, 5, 18, 24, 13.0], [\"22015\", 1610612744, \"GSW\", \"Golden State Warriors\", \"0021500718\", \"2016-01-31\", \"GSW @ NYK\", \"W\", 238, 116, 42, 73, 0.575, 16, 29, 0.552, 16, 23, 0.696, 3, 41, 44, 31, 8, 5, 18, 21, 21.0], [\"22015\", 1610612744, \"GSW\", \"Golden State Warriors\", \"0021500707\", \"2016-01-30\", \"GSW @ PHI\", \"W\", 240, 108, 47, 95, 0.495, 13, 30, 0.433, 1, 2, 0.5, 12, 45, 57, 37, 5, 7, 23, 18, 12.0], [\"22015\", 1610612744, \"GSW\", \"Golden State Warriors\", \"0021500691\", \"2016-01-27\", \"GSW vs. DAL\", \"W\", 241, 127, 47, 81, 0.58, 14, 29, 0.483, 19, 21, 0.905, 7, 33, 40, 33, 5, 4, 9, 18, 20.0], [\"22015\", 1610612744, \"GSW\", \"Golden State Warriors\", \"0021500675\", \"2016-01-25\", \"GSW vs. SAS\", \"W\", 238, 120, 44, 85, 0.518, 11, 26, 0.423, 21, 25, 0.84, 10, 35, 45, 31, 15, 3, 21, 25, 30.0], [\"22015\", 1610612744, \"GSW\", \"Golden State Warriors\", \"0021500652\", \"2016-01-22\", \"GSW vs. IND\", \"W\", 240, 122, 43, 90, 0.478, 14, 33, 0.424, 22, 25, 0.88, 14, 36, 50, 31, 9, 4, 17, 24, 12.0], [\"22015\", 1610612744, \"GSW\", \"Golden State Warriors\", \"0021500634\", \"2016-01-20\", \"GSW @ CHI\", \"W\", 241, 125, 50, 95, 0.526, 12, 32, 0.375, 13, 20, 0.65, 12, 43, 55, 38, 8, 9, 10, 17, 31.0], [\"22015\", 1610612744, \"GSW\", \"Golden State Warriors\", \"0021500622\", \"2016-01-18\", \"GSW @ CLE\", \"W\", 239, 132, 46, 85, 0.541, 19, 40, 0.475, 21, 27, 0.778, 6, 31, 37, 33, 7, 2, 8, 25, 34.0], [\"22015\", 1610612744, \"GSW\", \"Golden State Warriors\", \"0021500605\", \"2016-01-16\", \"GSW @ DET\", \"L\", 240, 95, 34, 94, 0.362, 10, 25, 0.4, 17, 23, 0.739, 14, 33, 47, 18, 6, 9, 12, 16, -18.0], [\"22015\", 1610612744, \"GSW\", \"Golden State Warriors\", \"0021500592\", \"2016-01-14\", \"GSW vs. LAL\", \"W\", 240, 116, 43, 86, 0.5, 13, 33, 0.394, 17, 20, 0.85, 12, 35, 47, 26, 12, 4, 19, 17, 18.0], [\"22015\", 1610612744, \"GSW\", \"Golden State Warriors\", \"0021500583\", \"2016-01-13\", \"GSW @ DEN\", \"L\", 242, 110, 42, 88, 0.477, 10, 26, 0.385, 16, 20, 0.8, 7, 32, 39, 25, 9, 11, 13, 25, -2.0], [\"22015\", 1610612744, \"GSW\", \"Golden State Warriors\", \"0021500568\", \"2016-01-11\", \"GSW vs. MIA\", \"W\", 241, 111, 41, 86, 0.477, 7, 23, 0.304, 22, 30, 0.733, 9, 40, 49, 25, 5, 1, 9, 18, 8.0], [\"22015\", 1610612744, \"GSW\", \"Golden State Warriors\", \"0021500556\", \"2016-01-09\", \"GSW @ SAC\", \"W\", 240, 128, 49, 87, 0.563, 19, 37, 0.514, 11, 15, 0.733, 9, 39, 48, 35, 5, 8, 18, 25, 12.0], [\"22015\", 1610612744, \"GSW\", \"Golden State Warriors\", \"0021500548\", \"2016-01-08\", \"GSW @ POR\", \"W\", 241, 128, 46, 87, 0.529, 18, 32, 0.563, 18, 21, 0.857, 5, 43, 48, 36, 6, 5, 15, 20, 20.0], [\"22015\", 1610612744, \"GSW\", \"Golden State Warriors\", \"0021500524\", \"2016-01-05\", \"GSW @ LAL\", \"W\", 240, 109, 40, 86, 0.465, 13, 31, 0.419, 16, 21, 0.762, 10, 44, 54, 26, 9, 9, 10, 17, 21.0], [\"22015\", 1610612744, \"GSW\", \"Golden State Warriors\", \"0021500520\", \"2016-01-04\", \"GSW vs. CHA\", \"W\", 241, 111, 45, 87, 0.517, 15, 34, 0.441, 6, 6, 1.0, 3, 34, 37, 32, 4, 9, 11, 19, 10.0], [\"22015\", 1610612744, \"GSW\", \"Golden State Warriors\", \"0021500504\", \"2016-01-02\", \"GSW vs. DEN\", \"W\", 264, 111, 43, 86, 0.5, 10, 28, 0.357, 15, 23, 0.652, 9, 38, 47, 34, 9, 5, 13, 22, 3.0], [\"22015\", 1610612744, \"GSW\", \"Golden State Warriors\", \"0021500485\", \"2015-12-31\", \"GSW @ HOU\", \"W\", 240, 114, 43, 84, 0.512, 11, 23, 0.478, 17, 27, 0.63, 12, 31, 43, 35, 8, 5, 18, 20, 4.0], [\"22015\", 1610612744, \"GSW\", \"Golden State Warriors\", \"0021500480\", \"2015-12-30\", \"GSW @ DAL\", \"L\", 240, 91, 33, 81, 0.407, 7, 19, 0.368, 18, 24, 0.75, 8, 29, 37, 20, 9, 0, 12, 18, -23.0], [\"22015\", 1610612744, \"GSW\", \"Golden State Warriors\", \"0021500468\", \"2015-12-28\", \"GSW vs. SAC\", \"W\", 239, 122, 43, 89, 0.483, 20, 42, 0.476, 16, 24, 0.667, 13, 46, 59, 33, 12, 8, 18, 25, 19.0], [\"22015\", 1610612744, \"GSW\", \"Golden State Warriors\", \"0021500438\", \"2015-12-25\", \"GSW vs. CLE\", \"W\", 240, 89, 32, 78, 0.41, 5, 18, 0.278, 20, 27, 0.741, 8, 41, 49, 21, 7, 10, 16, 19, 6.0], [\"22015\", 1610612744, \"GSW\", \"Golden State Warriors\", \"0021500434\", \"2015-12-23\", \"GSW vs. UTA\", \"W\", 240, 103, 39, 83, 0.47, 9, 23, 0.391, 16, 16, 1.0, 9, 31, 40, 26, 10, 9, 15, 11, 18.0], [\"22015\", 1610612744, \"GSW\", \"Golden State Warriors\", \"0021500397\", \"2015-12-18\", \"GSW vs. MIL\", \"W\", 239, 121, 42, 87, 0.483, 9, 26, 0.346, 28, 37, 0.757, 15, 31, 46, 31, 7, 4, 15, 22, 9.0], [\"22015\", 1610612744, \"GSW\", \"Golden State Warriors\", \"0021500381\", \"2015-12-16\", \"GSW vs. PHX\", \"W\", 239, 128, 46, 88, 0.523, 15, 32, 0.469, 21, 27, 0.778, 9, 40, 49, 32, 12, 4, 17, 17, 25.0], [\"22015\", 1610612744, \"GSW\", \"Golden State Warriors\", \"0021500351\", \"2015-12-12\", \"GSW @ MIL\", \"L\", 239, 95, 36, 89, 0.404, 6, 27, 0.222, 17, 25, 0.68, 15, 34, 49, 23, 9, 8, 16, 20, -13.0], [\"22015\", 1610612744, \"GSW\", \"Golden State Warriors\", \"0021500336\", \"2015-12-11\", \"GSW @ BOS\", \"W\", 290, 124, 42, 107, 0.393, 9, 31, 0.29, 31, 39, 0.795, 17, 50, 67, 28, 10, 11, 18, 22, 5.0], [\"22015\", 1610612744, \"GSW\", \"Golden State Warriors\", \"0021500314\", \"2015-12-08\", \"GSW @ IND\", \"W\", 240, 131, 52, 95, 0.547, 16, 35, 0.457, 11, 15, 0.733, 10, 36, 46, 29, 10, 6, 15, 19, 8.0], [\"22015\", 1610612744, \"GSW\", \"Golden State Warriors\", \"0021500300\", \"2015-12-06\", \"GSW @ BKN\", \"W\", 241, 114, 44, 86, 0.512, 14, 33, 0.424, 12, 23, 0.522, 10, 36, 46, 25, 9, 9, 12, 18, 16.0], [\"22015\", 1610612744, \"GSW\", \"Golden State Warriors\", \"0021500290\", \"2015-12-05\", \"GSW @ TOR\", \"W\", 239, 112, 35, 73, 0.479, 16, 30, 0.533, 26, 36, 0.722, 8, 35, 43, 22, 2, 5, 12, 24, 3.0], [\"22015\", 1610612744, \"GSW\", \"Golden State Warriors\", \"0021500268\", \"2015-12-02\", \"GSW @ CHA\", \"W\", 239, 116, 46, 88, 0.523, 16, 34, 0.471, 8, 11, 0.727, 11, 42, 53, 31, 2, 9, 18, 23, 17.0], [\"22015\", 1610612744, \"GSW\", \"Golden State Warriors\", \"0021500259\", \"2015-11-30\", \"GSW @ UTA\", \"W\", 239, 106, 40, 82, 0.488, 14, 29, 0.483, 12, 15, 0.8, 14, 31, 45, 21, 2, 5, 15, 19, 3.0], [\"22015\", 1610612744, \"GSW\", \"Golden State Warriors\", \"0021500245\", \"2015-11-28\", \"GSW vs. SAC\", \"W\", 241, 120, 39, 80, 0.488, 16, 30, 0.533, 26, 31, 0.839, 13, 35, 48, 32, 8, 7, 14, 19, 19.0], [\"22015\", 1610612744, \"GSW\", \"Golden State Warriors\", \"0021500236\", \"2015-11-27\", \"GSW @ PHX\", \"W\", 240, 135, 46, 81, 0.568, 22, 38, 0.579, 21, 31, 0.677, 11, 42, 53, 32, 7, 9, 23, 26, 19.0], [\"22015\", 1610612744, \"GSW\", \"Golden State Warriors\", \"0021500214\", \"2015-11-24\", \"GSW vs. LAL\", \"W\", 240, 111, 45, 92, 0.489, 12, 35, 0.343, 9, 15, 0.6, 12, 36, 48, 32, 9, 6, 8, 13, 34.0], [\"22015\", 1610612744, \"GSW\", \"Golden State Warriors\", \"0021500200\", \"2015-11-22\", \"GSW @ DEN\", \"W\", 241, 118, 47, 89, 0.528, 15, 29, 0.517, 9, 13, 0.692, 11, 35, 46, 35, 15, 8, 21, 25, 13.0], [\"22015\", 1610612744, \"GSW\", \"Golden State Warriors\", \"0021500187\", \"2015-11-20\", \"GSW vs. CHI\", \"W\", 240, 106, 39, 79, 0.494, 10, 29, 0.345, 18, 24, 0.75, 11, 38, 49, 20, 7, 6, 15, 15, 12.0], [\"22015\", 1610612744, \"GSW\", \"Golden State Warriors\", \"0021500177\", \"2015-11-19\", \"GSW @ LAC\", \"W\", 240, 124, 38, 73, 0.521, 17, 30, 0.567, 31, 36, 0.861, 8, 36, 44, 31, 4, 4, 19, 20, 7.0], [\"22015\", 1610612744, \"GSW\", \"Golden State Warriors\", \"0021500164\", \"2015-11-17\", \"GSW vs. TOR\", \"W\", 239, 115, 43, 80, 0.538, 11, 29, 0.379, 18, 27, 0.667, 9, 25, 34, 31, 10, 6, 20, 29, 5.0], [\"22015\", 1610612744, \"GSW\", \"Golden State Warriors\", \"0021500144\", \"2015-11-14\", \"GSW vs. BKN\", \"W\", 265, 107, 43, 97, 0.443, 12, 34, 0.353, 9, 10, 0.9, 11, 39, 50, 31, 9, 10, 14, 19, 8.0], [\"22015\", 1610612744, \"GSW\", \"Golden State Warriors\", \"0021500125\", \"2015-11-12\", \"GSW @ MIN\", \"W\", 240, 129, 48, 89, 0.539, 18, 38, 0.474, 15, 16, 0.938, 6, 27, 33, 34, 8, 7, 11, 25, 13.0], [\"22015\", 1610612744, \"GSW\", \"Golden State Warriors\", \"0021500120\", \"2015-11-11\", \"GSW @ MEM\", \"W\", 241, 100, 36, 75, 0.48, 11, 27, 0.407, 17, 23, 0.739, 7, 29, 36, 22, 12, 8, 23, 30, 16.0], [\"22015\", 1610612744, \"GSW\", \"Golden State Warriors\", \"0021500104\", \"2015-11-09\", \"GSW vs. DET\", \"W\", 239, 109, 43, 91, 0.473, 12, 21, 0.571, 11, 13, 0.846, 13, 28, 41, 29, 13, 4, 16, 18, 14.0], [\"22015\", 1610612744, \"GSW\", \"Golden State Warriors\", \"0021500092\", \"2015-11-07\", \"GSW @ SAC\", \"W\", 241, 103, 38, 92, 0.413, 8, 39, 0.205, 19, 22, 0.864, 15, 31, 46, 27, 13, 2, 18, 15, 9.0], [\"22015\", 1610612744, \"GSW\", \"Golden State Warriors\", \"0021500083\", \"2015-11-06\", \"GSW vs. DEN\", \"W\", 242, 119, 46, 93, 0.495, 17, 37, 0.459, 10, 18, 0.556, 13, 40, 53, 40, 10, 6, 20, 22, 15.0], [\"22015\", 1610612744, \"GSW\", \"Golden State Warriors\", \"0021500069\", \"2015-11-04\", \"GSW vs. LAC\", \"W\", 240, 112, 39, 85, 0.459, 10, 26, 0.385, 24, 31, 0.774, 9, 33, 42, 28, 6, 5, 12, 22, 4.0], [\"22015\", 1610612744, \"GSW\", \"Golden State Warriors\", \"0021500051\", \"2015-11-02\", \"GSW vs. MEM\", \"W\", 238, 119, 43, 84, 0.512, 11, 25, 0.44, 22, 30, 0.733, 10, 55, 65, 32, 8, 13, 14, 15, 50.0], [\"22015\", 1610612744, \"GSW\", \"Golden State Warriors\", \"0021500035\", \"2015-10-31\", \"GSW @ NOP\", \"W\", 241, 134, 46, 84, 0.548, 17, 30, 0.567, 25, 35, 0.714, 3, 35, 38, 26, 10, 4, 10, 24, 14.0], [\"22015\", 1610612744, \"GSW\", \"Golden State Warriors\", \"0021500030\", \"2015-10-30\", \"GSW @ HOU\", \"W\", 239, 112, 43, 93, 0.462, 9, 26, 0.346, 17, 25, 0.68, 11, 36, 47, 26, 9, 4, 8, 24, 20.0], [\"22015\", 1610612744, \"GSW\", \"Golden State Warriors\", \"0021500003\", \"2015-10-27\", \"GSW vs. NOP\", \"W\", 241, 111, 41, 96, 0.427, 9, 30, 0.3, 20, 22, 0.909, 21, 35, 56, 29, 8, 7, 20, 29, 16.0], [\"12015\", 1610612744, \"GSW\", \"Golden State Warriors\", \"0011500099\", \"2015-10-22\", \"GSW @ LAL\", \"W\", 241, 136, 52, 95, 0.547, 16, 31, 0.516, 16, 25, 0.64, 14, 43, 57, 31, 12, 3, 18, 25, 39.0], [\"12015\", 1610612744, \"GSW\", \"Golden State Warriors\", \"0011500091\", \"2015-10-20\", \"GSW @ LAC\", \"L\", 239, 95, 32, 78, 0.41, 4, 17, 0.235, 27, 44, 0.614, 9, 33, 42, 20, 11, 5, 23, 34, -35.0], [\"12015\", 1610612744, \"GSW\", \"Golden State Warriors\", \"0011500073\", \"2015-10-17\", \"GSW @ LAL\", \"L\", 170, 70, 24, 62, 0.387, 9, 20, 0.45, 13, 19, 0.684, 12, 25, 37, 14, 2, 4, 12, 21, -15.0], [\"12015\", 1610612744, \"GSW\", \"Golden State Warriors\", \"0011500063\", \"2015-10-15\", \"GSW vs. HOU\", \"W\", 241, 123, 43, 76, 0.566, 5, 20, 0.25, 32, 49, 0.653, 5, 38, 43, 31, 12, 12, 17, 27, 22.0], [\"12015\", 1610612744, \"GSW\", \"Golden State Warriors\", \"0011500056\", \"2015-10-13\", \"GSW vs. DEN\", \"L\", 240, 103, 35, 87, 0.402, 7, 29, 0.241, 26, 38, 0.684, 11, 32, 43, 23, 7, 7, 14, 30, -11.0], [\"12015\", 1610612744, \"GSW\", \"Golden State Warriors\", \"0011500026\", \"2015-10-08\", \"GSW @ POR\", \"L\", 240, 101, 31, 81, 0.383, 12, 32, 0.375, 27, 34, 0.794, 8, 30, 38, 20, 7, 8, 18, 27, -17.0], [\"12015\", 1610612744, \"GSW\", \"Golden State Warriors\", \"0011500009\", \"2015-10-05\", \"GSW vs. TOR\", \"W\", 240, 95, 35, 70, 0.5, 7, 17, 0.412, 18, 24, 0.75, 4, 33, 37, 29, 8, 7, 17, 22, 8.0], [\"22015\", 1610612744, \"GSW\", \"Golden State Warriors\", \"1521500064\", \"2015-07-18\", \"GSW @ NOP\", \"L\", 201, 91, 37, 89, 0.416, 8, 23, 0.348, 9, 14, 0.643, 19, 30, 49, 18, 6, 5, 16, 22, -9.0], [\"22015\", 1610612744, \"GSW\", \"Golden State Warriors\", \"1521500046\", \"2015-07-16\", \"GSW @ NYK\", \"W\", 198, 76, 24, 64, 0.375, 5, 17, 0.294, 23, 33, 0.697, 7, 39, 46, 12, 4, 4, 10, 25, 22.0], [\"22015\", 1610612744, \"GSW\", \"Golden State Warriors\", \"1521500040\", \"2015-07-15\", \"GSW vs. SAC\", \"W\", 200, 83, 33, 79, 0.418, 8, 17, 0.471, 9, 17, 0.529, 10, 35, 45, 18, 9, 3, 13, 18, 16.0], [\"22015\", 1610612744, \"GSW\", \"Golden State Warriors\", \"1521500026\", \"2015-07-13\", \"GSW @ SAC\", \"L\", 199, 71, 26, 79, 0.329, 3, 17, 0.176, 16, 29, 0.552, 15, 22, 37, 12, 10, 3, 13, 24, -19.0], [\"22015\", 1610612744, \"GSW\", \"Golden State Warriors\", \"1521500020\", \"2015-07-12\", \"GSW @ ATL\", \"L\", 200, 70, 22, 69, 0.319, 5, 18, 0.278, 21, 32, 0.656, 14, 27, 41, 11, 9, 3, 15, 16, -1.0], [\"22015\", 1610612744, \"GSW\", \"Golden State Warriors\", \"1521500006\", \"2015-07-10\", \"GSW @ CLE\", \"W\", 199, 83, 27, 65, 0.415, 4, 14, 0.286, 25, 37, 0.676, 14, 23, 37, 17, 6, 4, 9, 22, 8.0], [\"42014\", 1610612744, \"GSW\", \"Golden State Warriors\", \"0041400406\", \"2015-06-16\", \"GSW @ CLE\", \"W\", 239, 105, 37, 85, 0.435, 13, 34, 0.382, 18, 29, 0.621, 7, 32, 39, 28, 11, 4, 9, 27, 8.0], [\"42014\", 1610612744, \"GSW\", \"Golden State Warriors\", \"0041400405\", \"2015-06-14\", \"GSW vs. CLE\", \"W\", 239, 104, 36, 75, 0.48, 12, 26, 0.462, 20, 34, 0.588, 11, 32, 43, 25, 7, 2, 16, 25, 13.0], [\"42014\", 1610612744, \"GSW\", \"Golden State Warriors\", \"0041400404\", \"2015-06-11\", \"GSW @ CLE\", \"W\", 239, 103, 36, 77, 0.468, 12, 30, 0.4, 19, 27, 0.704, 6, 38, 44, 24, 5, 5, 7, 21, 21.0], [\"42014\", 1610612744, \"GSW\", \"Golden State Warriors\", \"0041400403\", \"2015-06-09\", \"GSW @ CLE\", \"L\", 240, 91, 36, 90, 0.4, 12, 34, 0.353, 7, 12, 0.583, 18, 28, 46, 21, 6, 7, 14, 25, -5.0], [\"42014\", 1610612744, \"GSW\", \"Golden State Warriors\", \"0041400402\", \"2015-06-07\", \"GSW vs. CLE\", \"L\", 264, 93, 33, 83, 0.398, 8, 35, 0.229, 19, 25, 0.76, 10, 35, 45, 16, 11, 7, 18, 31, -2.0], [\"42014\", 1610612744, \"GSW\", \"Golden State Warriors\", \"0041400401\", \"2015-06-04\", \"GSW vs. CLE\", \"W\", 266, 108, 39, 88, 0.443, 10, 27, 0.37, 20, 22, 0.909, 11, 37, 48, 24, 8, 5, 12, 16, 8.0], [\"42014\", 1610612744, \"GSW\", \"Golden State Warriors\", \"0041400315\", \"2015-05-27\", \"GSW vs. HOU\", \"W\", 239, 104, 37, 91, 0.407, 9, 29, 0.31, 21, 31, 0.677, 19, 40, 59, 25, 10, 4, 16, 30, 14.0], [\"42014\", 1610612744, \"GSW\", \"Golden State Warriors\", \"0041400314\", \"2015-05-25\", \"GSW @ HOU\", \"L\", 239, 115, 44, 97, 0.454, 20, 46, 0.435, 7, 13, 0.538, 10, 37, 47, 26, 9, 9, 15, 29, -13.0], [\"42014\", 1610612744, \"GSW\", \"Golden State Warriors\", \"0041400313\", \"2015-05-23\", \"GSW @ HOU\", \"W\", 241, 115, 44, 97, 0.454, 11, 28, 0.393, 16, 20, 0.8, 17, 43, 60, 26, 9, 6, 13, 27, 35.0], [\"42014\", 1610612744, \"GSW\", \"Golden State Warriors\", \"0041400312\", \"2015-05-21\", \"GSW vs. HOU\", \"W\", 241, 99, 41, 77, 0.532, 8, 24, 0.333, 9, 13, 0.692, 7, 32, 39, 31, 7, 8, 16, 17, 1.0], [\"42014\", 1610612744, \"GSW\", \"Golden State Warriors\", \"0041400311\", \"2015-05-19\", \"GSW vs. HOU\", \"W\", 239, 110, 43, 92, 0.467, 10, 29, 0.345, 14, 22, 0.636, 14, 29, 43, 27, 9, 3, 12, 23, 4.0], [\"42014\", 1610612744, \"GSW\", \"Golden State Warriors\", \"0041400226\", \"2015-05-15\", \"GSW @ MEM\", \"W\", 239, 108, 41, 81, 0.506, 15, 32, 0.469, 11, 14, 0.786, 7, 40, 47, 27, 1, 8, 12, 24, 13.0], [\"42014\", 1610612744, \"GSW\", \"Golden State Warriors\", \"0041400225\", \"2015-05-13\", \"GSW vs. MEM\", \"W\", 241, 98, 38, 81, 0.469, 14, 30, 0.467, 8, 10, 0.8, 14, 30, 44, 28, 9, 6, 16, 13, 20.0], [\"42014\", 1610612744, \"GSW\", \"Golden State Warriors\", \"0041400224\", \"2015-05-11\", \"GSW @ MEM\", \"W\", 242, 101, 38, 80, 0.475, 14, 33, 0.424, 11, 16, 0.688, 10, 35, 45, 22, 11, 10, 21, 23, 17.0], [\"42014\", 1610612744, \"GSW\", \"Golden State Warriors\", \"0041400223\", \"2015-05-09\", \"GSW @ MEM\", \"L\", 242, 89, 32, 74, 0.432, 6, 26, 0.231, 19, 28, 0.679, 10, 29, 39, 20, 7, 7, 17, 23, -10.0], [\"42014\", 1610612744, \"GSW\", \"Golden State Warriors\", \"0041400222\", \"2015-05-05\", \"GSW vs. MEM\", \"L\", 241, 90, 31, 74, 0.419, 6, 26, 0.231, 22, 28, 0.786, 9, 36, 45, 16, 6, 3, 20, 18, -7.0], [\"42014\", 1610612744, \"GSW\", \"Golden State Warriors\", \"0041400221\", \"2015-05-03\", \"GSW vs. MEM\", \"W\", 242, 101, 39, 77, 0.506, 13, 28, 0.464, 10, 15, 0.667, 7, 32, 39, 26, 13, 2, 15, 20, 15.0], [\"42014\", 1610612744, \"GSW\", \"Golden State Warriors\", \"0041400144\", \"2015-04-25\", \"GSW @ NOP\", \"W\", 238, 109, 40, 79, 0.506, 13, 24, 0.542, 16, 23, 0.696, 10, 29, 39, 28, 6, 7, 10, 18, 11.0], [\"42014\", 1610612744, \"GSW\", \"Golden State Warriors\", \"0041400143\", \"2015-04-23\", \"GSW @ NOP\", \"W\", 265, 123, 42, 104, 0.404, 14, 41, 0.341, 25, 30, 0.833, 22, 29, 51, 24, 4, 6, 10, 22, 4.0], [\"42014\", 1610612744, \"GSW\", \"Golden State Warriors\", \"0041400142\", \"2015-04-20\", \"GSW vs. NOP\", \"W\", 241, 97, 38, 86, 0.442, 9, 30, 0.3, 12, 19, 0.632, 14, 35, 49, 27, 8, 6, 13, 18, 10.0], [\"42014\", 1610612744, \"GSW\", \"Golden State Warriors\", \"0041400141\", \"2015-04-18\", \"GSW vs. NOP\", \"W\", 239, 106, 37, 81, 0.457, 11, 29, 0.379, 21, 34, 0.618, 10, 37, 47, 24, 11, 6, 15, 21, 7.0], [\"22014\", 1610612744, \"GSW\", \"Golden State Warriors\", \"0021401229\", \"2015-04-15\", \"GSW vs. DEN\", \"W\", 239, 133, 47, 90, 0.522, 13, 28, 0.464, 26, 34, 0.765, 14, 27, 41, 30, 11, 6, 13, 25, 7.0], [\"22014\", 1610612744, \"GSW\", \"Golden State Warriors\", \"0021401212\", \"2015-04-13\", \"GSW vs. MEM\", \"W\", 240, 111, 39, 74, 0.527, 13, 24, 0.542, 20, 27, 0.741, 6, 33, 39, 30, 9, 7, 21, 22, 4.0], [\"22014\", 1610612744, \"GSW\", \"Golden State Warriors\", \"0021401192\", \"2015-04-11\", \"GSW vs. MIN\", \"W\", 239, 110, 42, 93, 0.452, 11, 31, 0.355, 15, 21, 0.714, 13, 37, 50, 28, 10, 5, 12, 19, 9.0], [\"22014\", 1610612744, \"GSW\", \"Golden State Warriors\", \"0021401174\", \"2015-04-09\", \"GSW vs. POR\", \"W\", 240, 116, 48, 90, 0.533, 12, 26, 0.462, 8, 9, 0.889, 9, 35, 44, 27, 6, 5, 13, 12, 11.0], [\"22014\", 1610612744, \"GSW\", \"Golden State Warriors\", \"0021401156\", \"2015-04-07\", \"GSW @ NOP\", \"L\", 241, 100, 42, 95, 0.442, 9, 22, 0.409, 7, 10, 0.7, 11, 39, 50, 25, 6, 12, 11, 21, -3.0], [\"22014\", 1610612744, \"GSW\", \"Golden State Warriors\", \"0021401150\", \"2015-04-05\", \"GSW @ SAS\", \"L\", 241, 92, 39, 91, 0.429, 9, 28, 0.321, 5, 10, 0.5, 10, 29, 39, 25, 4, 2, 10, 13, -15.0], [\"22014\", 1610612744, \"GSW\", \"Golden State Warriors\", \"0021401142\", \"2015-04-04\", \"GSW @ DAL\", \"W\", 241, 123, 43, 95, 0.453, 14, 36, 0.389, 23, 32, 0.719, 17, 38, 55, 28, 12, 4, 14, 37, 13.0], [\"22014\", 1610612744, \"GSW\", \"Golden State Warriors\", \"0021401126\", \"2015-04-02\", \"GSW vs. PHX\", \"W\", 241, 107, 43, 93, 0.462, 10, 26, 0.385, 11, 17, 0.647, 15, 35, 50, 29, 6, 5, 13, 20, 1.0], [\"22014\", 1610612744, \"GSW\", \"Golden State Warriors\", \"0021401111\", \"2015-03-31\", \"GSW @ LAC\", \"W\", 240, 110, 38, 85, 0.447, 8, 21, 0.381, 26, 34, 0.765, 10, 33, 43, 28, 6, 1, 9, 20, 4.0], [\"22014\", 1610612744, \"GSW\", \"Golden State Warriors\", \"0021401089\", \"2015-03-28\", \"GSW @ MIL\", \"W\", 241, 108, 42, 82, 0.512, 12, 25, 0.48, 12, 14, 0.857, 7, 38, 45, 27, 7, 8, 22, 23, 13.0], [\"22014\", 1610612744, \"GSW\", \"Golden State Warriors\", \"0021401082\", \"2015-03-27\", \"GSW @ MEM\", \"W\", 240, 107, 39, 90, 0.433, 16, 31, 0.516, 13, 17, 0.765, 14, 29, 43, 28, 15, 5, 14, 17, 23.0], [\"22014\", 1610612744, \"GSW\", \"Golden State Warriors\", \"0021401059\", \"2015-03-24\", \"GSW @ POR\", \"W\", 239, 122, 50, 83, 0.602, 12, 26, 0.462, 10, 11, 0.909, 6, 40, 46, 37, 4, 5, 13, 18, 14.0], [\"22014\", 1610612744, \"GSW\", \"Golden State Warriors\", \"0021401053\", \"2015-03-23\", \"GSW vs. WAS\", \"W\", 240, 107, 39, 95, 0.411, 13, 33, 0.394, 16, 21, 0.762, 19, 43, 62, 23, 9, 6, 11, 14, 31.0], [\"22014\", 1610612744, \"GSW\", \"Golden State Warriors\", \"0021401036\", \"2015-03-21\", \"GSW vs. UTA\", \"W\", 240, 106, 38, 78, 0.487, 8, 18, 0.444, 22, 26, 0.846, 7, 30, 37, 25, 11, 3, 10, 17, 15.0], [\"22014\", 1610612744, \"GSW\", \"Golden State Warriors\", \"0021401030\", \"2015-03-20\", \"GSW vs. NOP\", \"W\", 240, 112, 44, 88, 0.5, 5, 19, 0.263, 19, 23, 0.826, 12, 30, 42, 29, 9, 6, 10, 19, 16.0], [\"22014\", 1610612744, \"GSW\", \"Golden State Warriors\", \"0021401014\", \"2015-03-18\", \"GSW vs. ATL\", \"W\", 240, 114, 44, 84, 0.524, 14, 30, 0.467, 12, 20, 0.6, 10, 34, 44, 39, 8, 7, 18, 23, 19.0], [\"22014\", 1610612744, \"GSW\", \"Golden State Warriors\", \"0021400999\", \"2015-03-16\", \"GSW vs. LAL\", \"W\", 241, 108, 40, 84, 0.476, 7, 27, 0.259, 21, 23, 0.913, 7, 30, 37, 28, 16, 7, 14, 21, 3.0], [\"22014\", 1610612744, \"GSW\", \"Golden State Warriors\", \"0021400981\", \"2015-03-14\", \"GSW vs. NYK\", \"W\", 239, 125, 45, 90, 0.5, 19, 34, 0.559, 16, 17, 0.941, 8, 34, 42, 34, 13, 6, 9, 16, 31.0], [\"22014\", 1610612744, \"GSW\", \"Golden State Warriors\", \"0021400973\", \"2015-03-13\", \"GSW @ DEN\", \"L\", 240, 103, 39, 92, 0.424, 8, 19, 0.421, 17, 22, 0.773, 9, 26, 35, 29, 5, 10, 8, 25, -11.0], [\"22014\", 1610612744, \"GSW\", \"Golden State Warriors\", \"0021400960\", \"2015-03-11\", \"GSW vs. DET\", \"W\", 240, 105, 44, 84, 0.524, 7, 20, 0.35, 10, 13, 0.769, 10, 32, 42, 29, 5, 6, 17, 11, 7.0], [\"22014\", 1610612744, \"GSW\", \"Golden State Warriors\", \"0021400944\", \"2015-03-09\", \"GSW @ PHX\", \"W\", 240, 98, 35, 83, 0.422, 13, 31, 0.419, 15, 19, 0.789, 9, 39, 48, 17, 11, 8, 18, 21, 18.0], [\"22014\", 1610612744, \"GSW\", \"Golden State Warriors\", \"0021400932\", \"2015-03-08\", \"GSW vs. LAC\", \"W\", 240, 106, 40, 80, 0.5, 10, 22, 0.455, 16, 23, 0.696, 7, 30, 37, 23, 13, 3, 13, 15, 8.0], [\"22014\", 1610612744, \"GSW\", \"Golden State Warriors\", \"0021400922\", \"2015-03-06\", \"GSW vs. DAL\", \"W\", 239, 104, 38, 81, 0.469, 11, 23, 0.478, 17, 19, 0.895, 9, 42, 51, 28, 5, 11, 22, 21, 15.0], [\"22014\", 1610612744, \"GSW\", \"Golden State Warriors\", \"0021400907\", \"2015-03-04\", \"GSW vs. MIL\", \"W\", 240, 102, 37, 73, 0.507, 14, 34, 0.412, 14, 25, 0.56, 4, 30, 34, 30, 16, 8, 16, 24, 9.0], [\"22014\", 1610612744, \"GSW\", \"Golden State Warriors\", \"0021400886\", \"2015-03-02\", \"GSW @ BKN\", \"L\", 239, 108, 42, 90, 0.467, 11, 30, 0.367, 13, 18, 0.722, 17, 33, 50, 26, 11, 7, 15, 20, -2.0], [\"22014\", 1610612744, \"GSW\", \"Golden State Warriors\", \"0021400880\", \"2015-03-01\", \"GSW @ BOS\", \"W\", 241, 106, 40, 95, 0.421, 12, 34, 0.353, 14, 17, 0.824, 15, 40, 55, 19, 4, 8, 10, 18, 5.0], [\"22014\", 1610612744, \"GSW\", \"Golden State Warriors\", \"0021400861\", \"2015-02-27\", \"GSW @ TOR\", \"W\", 240, 113, 42, 87, 0.483, 13, 28, 0.464, 16, 19, 0.842, 9, 38, 47, 31, 11, 5, 12, 22, 24.0], [\"22014\", 1610612744, \"GSW\", \"Golden State Warriors\", \"0021400854\", \"2015-02-26\", \"GSW @ CLE\", \"L\", 243, 99, 39, 92, 0.424, 11, 29, 0.379, 10, 19, 0.526, 14, 30, 44, 32, 10, 6, 14, 24, -11.0], [\"22014\", 1610612744, \"GSW\", \"Golden State Warriors\", \"0021400838\", \"2015-02-24\", \"GSW @ WAS\", \"W\", 240, 114, 45, 90, 0.5, 12, 23, 0.522, 12, 17, 0.706, 4, 25, 29, 27, 12, 1, 9, 17, 7.0], [\"22014\", 1610612744, \"GSW\", \"Golden State Warriors\", \"0021400824\", \"2015-02-22\", \"GSW @ IND\", \"L\", 238, 98, 34, 89, 0.382, 9, 26, 0.346, 21, 22, 0.955, 13, 32, 45, 19, 9, 5, 9, 25, -6.0], [\"22014\", 1610612744, \"GSW\", \"Golden State Warriors\", \"0021400814\", \"2015-02-20\", \"GSW vs. SAS\", \"W\", 240, 110, 41, 84, 0.488, 17, 33, 0.515, 11, 18, 0.611, 7, 33, 40, 29, 10, 5, 12, 18, 11.0], [\"22014\", 1610612744, \"GSW\", \"Golden State Warriors\", \"0021400793\", \"2015-02-11\", \"GSW @ MIN\", \"W\", 241, 94, 40, 90, 0.444, 7, 27, 0.259, 7, 9, 0.778, 10, 39, 49, 26, 7, 6, 15, 18, 3.0], [\"22014\", 1610612744, \"GSW\", \"Golden State Warriors\", \"0021400775\", \"2015-02-09\", \"GSW @ PHI\", \"W\", 240, 89, 34, 85, 0.4, 7, 29, 0.241, 14, 19, 0.737, 6, 34, 40, 26, 15, 5, 14, 14, 5.0], [\"22014\", 1610612744, \"GSW\", \"Golden State Warriors\", \"0021400760\", \"2015-02-07\", \"GSW @ NYK\", \"W\", 240, 106, 37, 81, 0.457, 12, 25, 0.48, 20, 24, 0.833, 12, 36, 48, 21, 8, 5, 14, 19, 14.0], [\"22014\", 1610612744, \"GSW\", \"Golden State Warriors\", \"0021400749\", \"2015-02-06\", \"GSW @ ATL\", \"L\", 239, 116, 47, 103, 0.456, 12, 33, 0.364, 10, 15, 0.667, 19, 32, 51, 31, 7, 7, 14, 24, -8.0], [\"22014\", 1610612744, \"GSW\", \"Golden State Warriors\", \"0021400741\", \"2015-02-04\", \"GSW vs. DAL\", \"W\", 240, 128, 45, 86, 0.523, 19, 38, 0.5, 19, 25, 0.76, 10, 36, 46, 29, 5, 5, 13, 22, 14.0], [\"22014\", 1610612744, \"GSW\", \"Golden State Warriors\", \"0021400730\", \"2015-02-03\", \"GSW @ SAC\", \"W\", 240, 121, 46, 91, 0.505, 10, 23, 0.435, 19, 26, 0.731, 14, 35, 49, 33, 13, 5, 11, 23, 25.0], [\"22014\", 1610612744, \"GSW\", \"Golden State Warriors\", \"0021400715\", \"2015-01-31\", \"GSW vs. PHX\", \"W\", 241, 106, 40, 87, 0.46, 12, 32, 0.375, 14, 18, 0.778, 9, 35, 44, 27, 11, 8, 15, 20, 19.0], [\"22014\", 1610612744, \"GSW\", \"Golden State Warriors\", \"0021400703\", \"2015-01-30\", \"GSW @ UTA\", \"L\", 237, 100, 37, 86, 0.43, 8, 27, 0.296, 18, 25, 0.72, 11, 30, 41, 21, 8, 2, 13, 19, -10.0], [\"22014\", 1610612744, \"GSW\", \"Golden State Warriors\", \"0021400679\", \"2015-01-27\", \"GSW vs. CHI\", \"L\", 264, 111, 48, 113, 0.425, 9, 33, 0.273, 6, 12, 0.5, 15, 33, 48, 31, 9, 2, 13, 15, -2.0], [\"22014\", 1610612744, \"GSW\", \"Golden State Warriors\", \"0021400665\", \"2015-01-25\", \"GSW vs. BOS\", \"W\", 238, 114, 42, 89, 0.472, 8, 23, 0.348, 22, 25, 0.88, 9, 38, 47, 29, 9, 3, 13, 20, 3.0], [\"22014\", 1610612744, \"GSW\", \"Golden State Warriors\", \"0021400651\", \"2015-01-23\", \"GSW vs. SAC\", \"W\", 241, 126, 45, 94, 0.479, 17, 40, 0.425, 19, 22, 0.864, 12, 34, 46, 32, 13, 8, 17, 22, 25.0], [\"22014\", 1610612744, \"GSW\", \"Golden State Warriors\", \"0021400636\", \"2015-01-21\", \"GSW vs. HOU\", \"W\", 240, 126, 49, 98, 0.5, 13, 29, 0.448, 15, 18, 0.833, 16, 30, 46, 26, 13, 9, 16, 23, 13.0], [\"22014\", 1610612744, \"GSW\", \"Golden State Warriors\", \"0021400615\", \"2015-01-19\", \"GSW vs. DEN\", \"W\", 239, 122, 44, 81, 0.543, 13, 27, 0.481, 21, 27, 0.778, 7, 46, 53, 30, 10, 6, 13, 14, 43.0], [\"22014\", 1610612744, \"GSW\", \"Golden State Warriors\", \"0021400603\", \"2015-01-17\", \"GSW @ HOU\", \"W\", 241, 131, 50, 91, 0.549, 9, 22, 0.409, 22, 33, 0.667, 12, 37, 49, 32, 11, 11, 14, 21, 25.0], [\"22014\", 1610612744, \"GSW\", \"Golden State Warriors\", \"0021400593\", \"2015-01-16\", \"GSW @ OKC\", \"L\", 239, 115, 42, 92, 0.457, 9, 24, 0.375, 22, 28, 0.786, 13, 30, 43, 24, 10, 2, 14, 14, -12.0], [\"22014\", 1610612744, \"GSW\", \"Golden State Warriors\", \"0021400582\", \"2015-01-14\", \"GSW vs. MIA\", \"W\", 240, 104, 38, 81, 0.469, 13, 29, 0.448, 15, 19, 0.789, 10, 26, 36, 29, 5, 5, 13, 21, 15.0], [\"22014\", 1610612744, \"GSW\", \"Golden State Warriors\", \"0021400571\", \"2015-01-13\", \"GSW @ UTA\", \"W\", 240, 116, 46, 91, 0.505, 13, 25, 0.52, 11, 13, 0.846, 6, 25, 31, 32, 10, 5, 9, 16, 11.0], [\"22014\", 1610612744, \"GSW\", \"Golden State Warriors\", \"0021400547\", \"2015-01-09\", \"GSW vs. CLE\", \"W\", 240, 112, 43, 86, 0.5, 10, 30, 0.333, 16, 17, 0.941, 9, 35, 44, 35, 9, 8, 13, 20, 18.0], [\"22014\", 1610612744, \"GSW\", \"Golden State Warriors\", \"0021400533\", \"2015-01-07\", \"GSW vs. IND\", \"W\", 240, 117, 45, 91, 0.495, 12, 28, 0.429, 15, 20, 0.75, 10, 29, 39, 30, 11, 3, 11, 23, 15.0], [\"22014\", 1610612744, \"GSW\", \"Golden State Warriors\", \"0021400518\", \"2015-01-05\", \"GSW vs. OKC\", \"W\", 241, 117, 41, 88, 0.466, 15, 28, 0.536, 20, 32, 0.625, 10, 44, 54, 27, 8, 4, 12, 22, 26.0], [\"22014\", 1610612744, \"GSW\", \"Golden State Warriors\", \"0021400493\", \"2015-01-02\", \"GSW vs. TOR\", \"W\", 240, 126, 49, 92, 0.533, 12, 28, 0.429, 16, 20, 0.8, 14, 31, 45, 35, 8, 8, 9, 18, 21.0], [\"22014\", 1610612744, \"GSW\", \"Golden State Warriors\", \"0021400474\", \"2014-12-30\", \"GSW vs. PHI\", \"W\", 242, 126, 46, 82, 0.561, 12, 28, 0.429, 22, 27, 0.815, 8, 34, 42, 38, 19, 11, 14, 20, 40.0], [\"22014\", 1610612744, \"GSW\", \"Golden State Warriors\", \"0021400452\", \"2014-12-27\", \"GSW vs. MIN\", \"W\", 241, 110, 41, 88, 0.466, 11, 28, 0.393, 17, 21, 0.81, 9, 34, 43, 32, 17, 6, 16, 21, 13.0], [\"22014\", 1610612744, \"GSW\", \"Golden State Warriors\", \"0021400431\", \"2014-12-25\", \"GSW @ LAC\", \"L\", 240, 86, 34, 80, 0.425, 6, 28, 0.214, 12, 22, 0.545, 8, 36, 44, 24, 11, 4, 16, 21, -14.0], [\"22014\", 1610612744, \"GSW\", \"Golden State Warriors\", \"0021400426\", \"2014-12-23\", \"GSW @ LAL\", \"L\", 239, 105, 39, 84, 0.464, 12, 26, 0.462, 15, 17, 0.882, 11, 28, 39, 20, 8, 2, 19, 18, -10.0], [\"22014\", 1610612744, \"GSW\", \"Golden State Warriors\", \"0021400415\", \"2014-12-22\", \"GSW vs. SAC\", \"W\", 241, 128, 49, 91, 0.538, 9, 25, 0.36, 21, 24, 0.875, 10, 35, 45, 36, 9, 6, 12, 19, 20.0], [\"22014\", 1610612744, \"GSW\", \"Golden State Warriors\", \"0021400382\", \"2014-12-18\", \"GSW vs. OKC\", \"W\", 240, 114, 48, 94, 0.511, 12, 31, 0.387, 6, 10, 0.6, 10, 29, 39, 32, 9, 7, 9, 15, 5.0], [\"22014\", 1610612744, \"GSW\", \"Golden State Warriors\", \"0021400365\", \"2014-12-16\", \"GSW @ MEM\", \"L\", 240, 98, 39, 95, 0.411, 9, 31, 0.29, 11, 12, 0.917, 15, 34, 49, 18, 9, 11, 14, 19, -7.0], [\"22014\", 1610612744, \"GSW\", \"Golden State Warriors\", \"0021400348\", \"2014-12-14\", \"GSW @ NOP\", \"W\", 266, 128, 44, 86, 0.512, 11, 24, 0.458, 29, 35, 0.829, 8, 38, 46, 22, 7, 9, 19, 19, 6.0], [\"22014\", 1610612744, \"GSW\", \"Golden State Warriors\", \"0021400340\", \"2014-12-13\", \"GSW @ DAL\", \"W\", 239, 105, 37, 83, 0.446, 10, 32, 0.313, 21, 27, 0.778, 9, 36, 45, 21, 7, 7, 13, 24, 7.0], [\"22014\", 1610612744, \"GSW\", \"Golden State Warriors\", \"0021400324\", \"2014-12-10\", \"GSW vs. HOU\", \"W\", 239, 105, 40, 81, 0.494, 8, 23, 0.348, 17, 20, 0.85, 6, 37, 43, 21, 9, 5, 15, 16, 12.0], [\"22014\", 1610612744, \"GSW\", \"Golden State Warriors\", \"0021400305\", \"2014-12-08\", \"GSW @ MIN\", \"W\", 238, 102, 42, 91, 0.462, 5, 22, 0.227, 13, 14, 0.929, 15, 36, 51, 24, 15, 6, 17, 18, 16.0], [\"22014\", 1610612744, \"GSW\", \"Golden State Warriors\", \"0021400289\", \"2014-12-06\", \"GSW @ CHI\", \"W\", 239, 112, 40, 89, 0.449, 12, 30, 0.4, 20, 25, 0.8, 15, 25, 40, 27, 14, 6, 11, 21, 10.0], [\"22014\", 1610612744, \"GSW\", \"Golden State Warriors\", \"0021400275\", \"2014-12-04\", \"GSW vs. NOP\", \"W\", 239, 112, 47, 100, 0.47, 10, 22, 0.455, 8, 17, 0.471, 18, 38, 56, 31, 11, 8, 9, 8, 27.0], [\"22014\", 1610612744, \"GSW\", \"Golden State Warriors\", \"0021400262\", \"2014-12-02\", \"GSW vs. ORL\", \"W\", 240, 98, 38, 82, 0.463, 8, 27, 0.296, 14, 18, 0.778, 13, 36, 49, 25, 8, 5, 15, 15, 1.0], [\"22014\", 1610612744, \"GSW\", \"Golden State Warriors\", \"0021400243\", \"2014-11-30\", \"GSW @ DET\", \"W\", 240, 104, 37, 79, 0.468, 9, 21, 0.429, 21, 27, 0.778, 9, 40, 49, 24, 5, 8, 16, 19, 11.0], [\"22014\", 1610612744, \"GSW\", \"Golden State Warriors\", \"0021400224\", \"2014-11-28\", \"GSW @ CHA\", \"W\", 240, 106, 42, 99, 0.424, 7, 26, 0.269, 15, 16, 0.938, 16, 30, 46, 28, 7, 8, 12, 26, 5.0], [\"22014\", 1610612744, \"GSW\", \"Golden State Warriors\", \"0021400212\", \"2014-11-26\", \"GSW @ ORL\", \"W\", 239, 111, 44, 85, 0.518, 12, 26, 0.462, 11, 19, 0.579, 8, 39, 47, 30, 7, 6, 15, 19, 15.0], [\"22014\", 1610612744, \"GSW\", \"Golden State Warriors\", \"0021400206\", \"2014-11-25\", \"GSW @ MIA\", \"W\", 240, 114, 43, 75, 0.573, 13, 28, 0.464, 15, 23, 0.652, 5, 40, 45, 21, 6, 9, 11, 24, 17.0], [\"22014\", 1610612744, \"GSW\", \"Golden State Warriors\", \"0021400196\", \"2014-11-23\", \"GSW @ OKC\", \"W\", 238, 91, 33, 93, 0.355, 7, 25, 0.28, 18, 24, 0.75, 13, 39, 52, 26, 7, 8, 9, 18, 5.0], [\"22014\", 1610612744, \"GSW\", \"Golden State Warriors\", \"0021400182\", \"2014-11-21\", \"GSW vs. UTA\", \"W\", 242, 101, 41, 82, 0.5, 6, 23, 0.261, 13, 19, 0.684, 6, 34, 40, 28, 10, 5, 13, 18, 13.0], [\"22014\", 1610612744, \"GSW\", \"Golden State Warriors\", \"0021400145\", \"2014-11-16\", \"GSW @ LAL\", \"W\", 240, 136, 46, 86, 0.535, 14, 28, 0.5, 30, 34, 0.882, 11, 40, 51, 32, 4, 5, 16, 26, 21.0], [\"22014\", 1610612744, \"GSW\", \"Golden State Warriors\", \"0021400140\", \"2014-11-15\", \"GSW vs. CHA\", \"W\", 240, 112, 45, 87, 0.517, 11, 26, 0.423, 11, 14, 0.786, 11, 40, 51, 30, 7, 3, 14, 25, 25.0], [\"22014\", 1610612744, \"GSW\", \"Golden State Warriors\", \"0021400121\", \"2014-11-13\", \"GSW vs. BKN\", \"W\", 240, 107, 41, 90, 0.456, 11, 34, 0.324, 14, 21, 0.667, 14, 31, 45, 30, 7, 10, 10, 16, 8.0], [\"22014\", 1610612744, \"GSW\", \"Golden State Warriors\", \"0021400108\", \"2014-11-11\", \"GSW vs. SAS\", \"L\", 241, 100, 38, 70, 0.543, 7, 20, 0.35, 17, 20, 0.85, 1, 37, 38, 23, 5, 4, 19, 16, -13.0], [\"22014\", 1610612744, \"GSW\", \"Golden State Warriors\", \"0021400095\", \"2014-11-09\", \"GSW @ PHX\", \"L\", 240, 95, 33, 69, 0.478, 11, 24, 0.458, 18, 21, 0.857, 3, 33, 36, 16, 9, 7, 26, 26, -12.0], [\"22014\", 1610612744, \"GSW\", \"Golden State Warriors\", \"0021400087\", \"2014-11-08\", \"GSW @ HOU\", \"W\", 239, 98, 39, 87, 0.448, 9, 28, 0.321, 11, 17, 0.647, 15, 39, 54, 22, 11, 8, 26, 19, 11.0], [\"22014\", 1610612744, \"GSW\", \"Golden State Warriors\", \"0021400068\", \"2014-11-05\", \"GSW vs. LAC\", \"W\", 241, 121, 43, 74, 0.581, 15, 25, 0.6, 20, 20, 1.0, 4, 35, 39, 29, 7, 3, 23, 22, 17.0], [\"22014\", 1610612744, \"GSW\", \"Golden State Warriors\", \"0021400042\", \"2014-11-02\", \"GSW @ POR\", \"W\", 241, 95, 36, 81, 0.444, 6, 19, 0.316, 17, 21, 0.81, 7, 34, 41, 22, 11, 7, 17, 16, 5.0], [\"22014\", 1610612744, \"GSW\", \"Golden State Warriors\", \"0021400038\", \"2014-11-01\", \"GSW vs. LAL\", \"W\", 239, 127, 46, 83, 0.554, 11, 23, 0.478, 24, 28, 0.857, 12, 31, 43, 30, 10, 4, 20, 26, 23.0], [\"22014\", 1610612744, \"GSW\", \"Golden State Warriors\", \"0021400014\", \"2014-10-29\", \"GSW @ SAC\", \"W\", 239, 95, 33, 75, 0.44, 6, 27, 0.222, 23, 32, 0.719, 7, 37, 44, 21, 12, 8, 22, 32, 18.0], [\"12014\", 1610612744, \"GSW\", \"Golden State Warriors\", \"0011400117\", \"2014-10-24\", \"GSW vs. DEN\", \"W\", 240, 119, 44, 86, 0.512, 12, 28, 0.429, 19, 29, 0.655, 8, 29, 37, 35, 4, 4, 12, 22, 7.0], [\"12014\", 1610612744, \"GSW\", \"Golden State Warriors\", \"0011400096\", \"2014-10-21\", \"GSW vs. LAC\", \"W\", 240, 125, 46, 78, 0.59, 13, 22, 0.591, 20, 25, 0.8, 9, 37, 46, 28, 11, 8, 27, 31, 18.0], [\"12014\", 1610612744, \"GSW\", \"Golden State Warriors\", \"0011400084\", \"2014-10-19\", \"GSW @ HOU\", \"L\", 239, 83, 33, 79, 0.418, 6, 27, 0.222, 11, 16, 0.688, 6, 38, 44, 27, 6, 6, 21, 23, -7.0], [\"12014\", 1610612744, \"GSW\", \"Golden State Warriors\", \"0011400071\", \"2014-10-17\", \"GSW @ MIA\", \"L\", 242, 108, 38, 78, 0.487, 9, 31, 0.29, 23, 27, 0.852, 8, 21, 29, 26, 11, 3, 15, 25, -7.0], [\"12014\", 1610612744, \"GSW\", \"Golden State Warriors\", \"0011400063\", \"2014-10-16\", \"GSW vs. DEN\", \"W\", 240, 104, 40, 81, 0.494, 8, 20, 0.4, 16, 24, 0.667, 9, 31, 40, 24, 14, 6, 24, 24, 3.0], [\"12014\", 1610612744, \"GSW\", \"Golden State Warriors\", \"0011400042\", \"2014-10-12\", \"GSW @ LAL\", \"W\", 242, 116, 41, 73, 0.562, 13, 33, 0.394, 21, 31, 0.677, 9, 35, 44, 33, 13, 5, 18, 19, 41.0], [\"12014\", 1610612744, \"GSW\", \"Golden State Warriors\", \"0011400026\", \"2014-10-09\", \"GSW @ LAL\", \"W\", 241, 120, 42, 75, 0.56, 12, 21, 0.571, 24, 36, 0.667, 6, 33, 39, 27, 6, 8, 14, 25, 15.0], [\"12014\", 1610612744, \"GSW\", \"Golden State Warriors\", \"0011400015\", \"2014-10-07\", \"GSW @ LAC\", \"W\", 240, 112, 35, 72, 0.486, 6, 19, 0.316, 36, 47, 0.766, 9, 35, 44, 25, 12, 5, 23, 29, 18.0], [\"22014\", 1610612744, \"GSW\", \"Golden State Warriors\", \"1521400054\", \"2014-07-18\", \"GSW vs. MIL\", \"L\", 201, 74, 27, 86, 0.314, 4, 31, 0.129, 16, 30, 0.533, 11, 26, 37, 9, 17, 5, 10, 30, -5.0], [\"22014\", 1610612744, \"GSW\", \"Golden State Warriors\", \"1521400039\", \"2014-07-16\", \"GSW vs. ATL\", \"L\", 201, 65, 23, 63, 0.365, 5, 18, 0.278, 14, 23, 0.609, 13, 27, 40, 11, 8, 4, 22, 23, -3.0], [\"22014\", 1610612744, \"GSW\", \"Golden State Warriors\", \"1521400029\", \"2014-07-14\", \"GSW @ LAL\", \"L\", 210, 88, 30, 72, 0.417, 8, 21, 0.381, 20, 33, 0.606, 13, 28, 41, 10, 7, 6, 20, 26, -1.0], [\"22014\", 1610612744, \"GSW\", \"Golden State Warriors\", \"1521400011\", \"2014-07-12\", \"GSW vs. PHX\", \"W\", 202, 74, 23, 64, 0.359, 2, 15, 0.133, 26, 31, 0.839, 15, 30, 45, 9, 3, 7, 24, 22, 2.0], [\"22014\", 1610612744, \"GSW\", \"Golden State Warriors\", \"1521400004\", \"2014-07-11\", \"GSW @ CHA\", \"W\", 199, 70, 26, 59, 0.441, 3, 12, 0.25, 15, 25, 0.6, 6, 31, 37, 10, 9, 8, 19, 28, 12.0], [\"42013\", 1610612744, \"GSW\", \"Golden State Warriors\", \"0041300167\", \"2014-05-03\", \"GSW @ LAC\", \"L\", 240, 121, 39, 79, 0.494, 14, 25, 0.56, 29, 35, 0.829, 9, 28, 37, 25, 9, 6, 18, 21, -5.0], [\"42013\", 1610612744, \"GSW\", \"Golden State Warriors\", \"0041300166\", \"2014-05-01\", \"GSW vs. LAC\", \"W\", 240, 100, 35, 89, 0.393, 7, 24, 0.292, 23, 37, 0.622, 18, 32, 50, 20, 7, 4, 8, 24, 1.0], [\"42013\", 1610612744, \"GSW\", \"Golden State Warriors\", \"0041300165\", \"2014-04-29\", \"GSW @ LAC\", \"L\", 239, 103, 40, 85, 0.471, 10, 26, 0.385, 13, 19, 0.684, 13, 29, 42, 24, 6, 1, 13, 28, -10.0], [\"42013\", 1610612744, \"GSW\", \"Golden State Warriors\", \"0041300164\", \"2014-04-27\", \"GSW vs. LAC\", \"W\", 240, 118, 41, 74, 0.554, 15, 32, 0.469, 21, 28, 0.75, 6, 28, 34, 32, 8, 5, 15, 26, 21.0], [\"42013\", 1610612744, \"GSW\", \"Golden State Warriors\", \"0041300163\", \"2014-04-24\", \"GSW vs. LAC\", \"L\", 239, 96, 37, 89, 0.416, 6, 31, 0.194, 16, 24, 0.667, 18, 34, 52, 26, 6, 6, 17, 18, -2.0], [\"42013\", 1610612744, \"GSW\", \"Golden State Warriors\", \"0041300162\", \"2014-04-21\", \"GSW @ LAC\", \"L\", 240, 98, 36, 76, 0.474, 4, 19, 0.211, 22, 27, 0.815, 13, 23, 36, 18, 8, 4, 26, 33, -40.0], [\"42013\", 1610612744, \"GSW\", \"Golden State Warriors\", \"0041300161\", \"2014-04-19\", \"GSW @ LAC\", \"W\", 241, 109, 40, 90, 0.444, 11, 27, 0.407, 18, 25, 0.72, 15, 33, 48, 26, 5, 6, 21, 27, 4.0], [\"22013\", 1610612744, \"GSW\", \"Golden State Warriors\", \"0021301230\", \"2014-04-16\", \"GSW @ DEN\", \"W\", 241, 116, 44, 90, 0.489, 8, 23, 0.348, 20, 35, 0.571, 11, 34, 45, 27, 12, 4, 14, 23, 4.0], [\"22013\", 1610612744, \"GSW\", \"Golden State Warriors\", \"0021301213\", \"2014-04-14\", \"GSW vs. MIN\", \"W\", 238, 130, 49, 101, 0.485, 15, 37, 0.405, 17, 19, 0.895, 19, 32, 51, 31, 13, 4, 15, 27, 10.0], [\"22013\", 1610612744, \"GSW\", \"Golden State Warriors\", \"0021301201\", \"2014-04-13\", \"GSW @ POR\", \"L\", 263, 117, 44, 91, 0.484, 17, 37, 0.459, 12, 16, 0.75, 6, 32, 38, 22, 10, 0, 14, 27, -2.0], [\"22013\", 1610612744, \"GSW\", \"Golden State Warriors\", \"0021301188\", \"2014-04-11\", \"GSW @ LAL\", \"W\", 240, 112, 45, 92, 0.489, 13, 25, 0.52, 9, 13, 0.692, 12, 45, 57, 27, 12, 5, 17, 17, 17.0], [\"22013\", 1610612744, \"GSW\", \"Golden State Warriors\", \"0021301175\", \"2014-04-10\", \"GSW vs. DEN\", \"L\", 242, 99, 40, 88, 0.455, 6, 23, 0.261, 13, 15, 0.867, 6, 32, 38, 19, 9, 4, 13, 17, -1.0], [\"22013\", 1610612744, \"GSW\", \"Golden State Warriors\", \"0021301155\", \"2014-04-06\", \"GSW vs. UTA\", \"W\", 242, 130, 52, 90, 0.578, 17, 33, 0.515, 9, 9, 1.0, 6, 39, 45, 34, 9, 2, 16, 23, 28.0], [\"22013\", 1610612744, \"GSW\", \"Golden State Warriors\", \"0021301141\", \"2014-04-04\", \"GSW vs. SAC\", \"W\", 241, 102, 42, 93, 0.452, 10, 30, 0.333, 8, 12, 0.667, 15, 42, 57, 25, 6, 5, 12, 22, 33.0], [\"22013\", 1610612744, \"GSW\", \"Golden State Warriors\", \"0021301123\", \"2014-04-02\", \"GSW @ SAS\", \"L\", 240, 90, 36, 85, 0.424, 8, 21, 0.381, 10, 10, 1.0, 7, 26, 33, 21, 7, 2, 13, 19, -21.0], [\"22013\", 1610612744, \"GSW\", \"Golden State Warriors\", \"0021301112\", \"2014-04-01\", \"GSW @ DAL\", \"W\", 265, 122, 52, 91, 0.571, 15, 31, 0.484, 3, 6, 0.5, 10, 34, 44, 33, 6, 3, 12, 16, 2.0], [\"22013\", 1610612744, \"GSW\", \"Golden State Warriors\", \"0021301098\", \"2014-03-30\", \"GSW vs. NYK\", \"L\", 241, 84, 28, 79, 0.354, 10, 31, 0.323, 18, 22, 0.818, 14, 32, 46, 14, 2, 7, 10, 19, -5.0], [\"22013\", 1610612744, \"GSW\", \"Golden State Warriors\", \"0021301086\", \"2014-03-28\", \"GSW vs. MEM\", \"W\", 240, 100, 40, 81, 0.494, 9, 20, 0.45, 11, 14, 0.786, 10, 33, 43, 22, 5, 6, 12, 14, 7.0], [\"22013\", 1610612744, \"GSW\", \"Golden State Warriors\", \"0021301038\", \"2014-03-22\", \"GSW vs. SAS\", \"L\", 240, 90, 31, 77, 0.403, 3, 15, 0.2, 25, 29, 0.862, 11, 43, 54, 21, 4, 8, 18, 20, -9.0], [\"22013\", 1610612744, \"GSW\", \"Golden State Warriors\", \"0021301021\", \"2014-03-20\", \"GSW vs. MIL\", \"W\", 239, 115, 43, 80, 0.538, 8, 27, 0.296, 21, 25, 0.84, 8, 34, 42, 26, 6, 3, 15, 28, 5.0], [\"22013\", 1610612744, \"GSW\", \"Golden State Warriors\", \"0021301007\", \"2014-03-18\", \"GSW vs. ORL\", \"W\", 240, 103, 37, 82, 0.451, 10, 27, 0.37, 19, 21, 0.905, 9, 35, 44, 21, 7, 2, 11, 19, 14.0], [\"22013\", 1610612744, \"GSW\", \"Golden State Warriors\", \"0021300994\", \"2014-03-16\", \"GSW @ POR\", \"W\", 241, 113, 42, 88, 0.477, 11, 30, 0.367, 18, 22, 0.818, 10, 31, 41, 17, 7, 7, 12, 29, 1.0], [\"22013\", 1610612744, \"GSW\", \"Golden State Warriors\", \"0021300980\", \"2014-03-14\", \"GSW vs. CLE\", \"L\", 239, 94, 35, 77, 0.455, 11, 29, 0.379, 13, 19, 0.684, 5, 37, 42, 23, 6, 6, 17, 16, -9.0], [\"22013\", 1610612744, \"GSW\", \"Golden State Warriors\", \"0021300967\", \"2014-03-12\", \"GSW @ LAC\", \"L\", 241, 98, 36, 82, 0.439, 8, 21, 0.381, 18, 25, 0.72, 6, 30, 36, 27, 6, 2, 12, 21, -13.0], [\"22013\", 1610612744, \"GSW\", \"Golden State Warriors\", \"0021300956\", \"2014-03-11\", \"GSW vs. DAL\", \"W\", 242, 108, 41, 80, 0.513, 12, 25, 0.48, 14, 17, 0.824, 8, 38, 46, 26, 7, 6, 19, 24, 23.0], [\"22013\", 1610612744, \"GSW\", \"Golden State Warriors\", \"0021300942\", \"2014-03-09\", \"GSW vs. PHX\", \"W\", 239, 113, 45, 85, 0.529, 10, 22, 0.455, 13, 21, 0.619, 9, 26, 35, 27, 7, 3, 12, 22, 6.0], [\"22013\", 1610612744, \"GSW\", \"Golden State Warriors\", \"0021300927\", \"2014-03-07\", \"GSW vs. ATL\", \"W\", 239, 111, 43, 80, 0.538, 6, 19, 0.316, 19, 24, 0.792, 11, 33, 44, 28, 12, 3, 16, 17, 14.0], [\"22013\", 1610612744, \"GSW\", \"Golden State Warriors\", \"0021300907\", \"2014-03-05\", \"GSW @ BOS\", \"W\", 240, 108, 46, 98, 0.469, 5, 28, 0.179, 11, 12, 0.917, 15, 30, 45, 28, 13, 6, 11, 24, 20.0], [\"22013\", 1610612744, \"GSW\", \"Golden State Warriors\", \"0021300899\", \"2014-03-04\", \"GSW @ IND\", \"W\", 239, 98, 37, 84, 0.44, 10, 20, 0.5, 14, 21, 0.667, 10, 34, 44, 24, 4, 6, 10, 21, 2.0], [\"22013\", 1610612744, \"GSW\", \"Golden State Warriors\", \"0021300884\", \"2014-03-02\", \"GSW @ TOR\", \"L\", 240, 98, 37, 88, 0.42, 8, 23, 0.348, 16, 20, 0.8, 16, 25, 41, 25, 5, 5, 13, 22, -6.0], [\"22013\", 1610612744, \"GSW\", \"Golden State Warriors\", \"0021300869\", \"2014-02-28\", \"GSW @ NYK\", \"W\", 239, 126, 44, 92, 0.478, 14, 35, 0.4, 24, 31, 0.774, 12, 37, 49, 25, 11, 5, 15, 21, 23.0], [\"22013\", 1610612744, \"GSW\", \"Golden State Warriors\", \"0021300855\", \"2014-02-26\", \"GSW @ CHI\", \"L\", 240, 83, 30, 84, 0.357, 5, 21, 0.238, 18, 22, 0.818, 9, 32, 41, 17, 6, 7, 16, 27, -20.0], [\"22013\", 1610612744, \"GSW\", \"Golden State Warriors\", \"0021300842\", \"2014-02-24\", \"GSW @ DET\", \"W\", 239, 104, 38, 82, 0.463, 13, 31, 0.419, 15, 22, 0.682, 11, 33, 44, 27, 3, 7, 13, 19, 8.0], [\"22013\", 1610612744, \"GSW\", \"Golden State Warriors\", \"0021300832\", \"2014-02-22\", \"GSW vs. BKN\", \"W\", 241, 93, 37, 85, 0.435, 6, 20, 0.3, 13, 17, 0.765, 12, 38, 50, 26, 12, 4, 10, 22, 7.0], [\"22013\", 1610612744, \"GSW\", \"Golden State Warriors\", \"0021300814\", \"2014-02-20\", \"GSW vs. HOU\", \"W\", 265, 102, 37, 93, 0.398, 9, 27, 0.333, 19, 24, 0.792, 14, 35, 49, 18, 8, 9, 12, 24, 3.0], [\"22013\", 1610612744, \"GSW\", \"Golden State Warriors\", \"0021300810\", \"2014-02-19\", \"GSW @ SAC\", \"W\", 239, 101, 39, 86, 0.453, 3, 19, 0.158, 20, 24, 0.833, 6, 29, 35, 26, 14, 3, 7, 23, 9.0], [\"22013\", 1610612744, \"GSW\", \"Golden State Warriors\", \"0021300788\", \"2014-02-12\", \"GSW vs. MIA\", \"L\", 239, 110, 40, 83, 0.482, 9, 16, 0.563, 21, 26, 0.808, 11, 32, 43, 22, 10, 4, 13, 18, -1.0], [\"22013\", 1610612744, \"GSW\", \"Golden State Warriors\", \"0021300769\", \"2014-02-10\", \"GSW vs. PHI\", \"W\", 238, 123, 43, 88, 0.489, 12, 29, 0.414, 25, 30, 0.833, 13, 47, 60, 24, 9, 11, 18, 20, 43.0], [\"22013\", 1610612744, \"GSW\", \"Golden State Warriors\", \"0021300754\", \"2014-02-08\", \"GSW @ PHX\", \"L\", 239, 109, 41, 84, 0.488, 8, 25, 0.32, 19, 26, 0.731, 12, 22, 34, 16, 5, 4, 12, 21, -13.0], [\"22013\", 1610612744, \"GSW\", \"Golden State Warriors\", \"0021300738\", \"2014-02-06\", \"GSW vs. CHI\", \"W\", 241, 102, 40, 83, 0.482, 11, 22, 0.5, 11, 15, 0.733, 12, 27, 39, 24, 7, 6, 12, 18, 15.0], [\"22013\", 1610612744, \"GSW\", \"Golden State Warriors\", \"0021300724\", \"2014-02-04\", \"GSW vs. CHA\", \"L\", 240, 75, 29, 93, 0.312, 4, 20, 0.2, 13, 16, 0.813, 18, 32, 50, 18, 7, 4, 16, 18, -16.0], [\"22013\", 1610612744, \"GSW\", \"Golden State Warriors\", \"0021300696\", \"2014-01-31\", \"GSW @ UTA\", \"W\", 241, 95, 33, 88, 0.375, 10, 26, 0.385, 19, 24, 0.792, 14, 29, 43, 17, 9, 5, 8, 22, 5.0], [\"22013\", 1610612744, \"GSW\", \"Golden State Warriors\", \"0021300688\", \"2014-01-30\", \"GSW vs. LAC\", \"W\", 242, 111, 45, 91, 0.495, 6, 21, 0.286, 15, 20, 0.75, 16, 37, 53, 24, 8, 5, 11, 21, 19.0], [\"22013\", 1610612744, \"GSW\", \"Golden State Warriors\", \"0021300673\", \"2014-01-28\", \"GSW vs. WAS\", \"L\", 241, 85, 30, 80, 0.375, 7, 23, 0.304, 18, 23, 0.783, 5, 42, 47, 19, 12, 6, 19, 16, -3.0], [\"22013\", 1610612744, \"GSW\", \"Golden State Warriors\", \"0021300660\", \"2014-01-26\", \"GSW vs. POR\", \"W\", 238, 103, 38, 91, 0.418, 10, 25, 0.4, 17, 21, 0.81, 10, 41, 51, 22, 8, 4, 9, 21, 15.0], [\"22013\", 1610612744, \"GSW\", \"Golden State Warriors\", \"0021300645\", \"2014-01-24\", \"GSW vs. MIN\", \"L\", 241, 120, 49, 89, 0.551, 9, 22, 0.409, 13, 15, 0.867, 9, 32, 41, 31, 4, 8, 14, 26, -1.0], [\"22013\", 1610612744, \"GSW\", \"Golden State Warriors\", \"0021300615\", \"2014-01-20\", \"GSW vs. IND\", \"L\", 240, 94, 35, 86, 0.407, 10, 30, 0.333, 14, 20, 0.7, 13, 32, 45, 21, 7, 2, 15, 22, -8.0], [\"22013\", 1610612744, \"GSW\", \"Golden State Warriors\", \"0021300599\", \"2014-01-18\", \"GSW @ NOP\", \"W\", 241, 97, 37, 84, 0.44, 6, 22, 0.273, 17, 19, 0.895, 10, 33, 43, 17, 7, 11, 8, 20, 10.0], [\"22013\", 1610612744, \"GSW\", \"Golden State Warriors\", \"0021300592\", \"2014-01-17\", \"GSW @ OKC\", \"L\", 241, 121, 43, 82, 0.524, 16, 27, 0.593, 19, 34, 0.559, 12, 21, 33, 22, 10, 1, 17, 29, -6.0], [\"22013\", 1610612744, \"GSW\", \"Golden State Warriors\", \"0021300576\", \"2014-01-15\", \"GSW vs. DEN\", \"L\", 238, 116, 39, 90, 0.433, 9, 28, 0.321, 29, 33, 0.879, 9, 32, 41, 24, 7, 3, 12, 21, -7.0], [\"22013\", 1610612744, \"GSW\", \"Golden State Warriors\", \"0021300541\", \"2014-01-10\", \"GSW vs. BOS\", \"W\", 240, 99, 38, 92, 0.413, 8, 26, 0.308, 15, 21, 0.714, 14, 32, 46, 23, 7, 1, 11, 18, 2.0], [\"22013\", 1610612744, \"GSW\", \"Golden State Warriors\", \"0021300523\", \"2014-01-08\", \"GSW @ BKN\", \"L\", 239, 98, 36, 78, 0.462, 9, 26, 0.346, 17, 23, 0.739, 6, 34, 40, 19, 7, 5, 18, 27, -4.0], [\"22013\", 1610612744, \"GSW\", \"Golden State Warriors\", \"0021300515\", \"2014-01-07\", \"GSW @ MIL\", \"W\", 239, 101, 39, 85, 0.459, 10, 32, 0.313, 13, 20, 0.65, 16, 40, 56, 21, 5, 4, 17, 22, 21.0], [\"22013\", 1610612744, \"GSW\", \"Golden State Warriors\", \"0021300501\", \"2014-01-05\", \"GSW @ WAS\", \"W\", 241, 112, 43, 85, 0.506, 9, 22, 0.409, 17, 20, 0.85, 8, 37, 45, 24, 8, 7, 12, 15, 16.0], [\"22013\", 1610612744, \"GSW\", \"Golden State Warriors\", \"0021300483\", \"2014-01-03\", \"GSW @ ATL\", \"W\", 242, 101, 39, 87, 0.448, 6, 27, 0.222, 17, 25, 0.68, 13, 34, 47, 30, 15, 7, 21, 17, 1.0], [\"22013\", 1610612744, \"GSW\", \"Golden State Warriors\", \"0021300474\", \"2014-01-02\", \"GSW @ MIA\", \"W\", 240, 123, 46, 82, 0.561, 15, 29, 0.517, 16, 19, 0.842, 6, 34, 40, 29, 9, 1, 18, 24, 9.0], [\"22013\", 1610612744, \"GSW\", \"Golden State Warriors\", \"0021300462\", \"2013-12-31\", \"GSW @ ORL\", \"W\", 240, 94, 41, 85, 0.482, 6, 27, 0.222, 6, 10, 0.6, 12, 44, 56, 21, 3, 11, 17, 13, 13.0], [\"22013\", 1610612744, \"GSW\", \"Golden State Warriors\", \"0021300448\", \"2013-12-29\", \"GSW @ CLE\", \"W\", 264, 108, 42, 95, 0.442, 10, 33, 0.303, 14, 19, 0.737, 12, 40, 52, 30, 8, 10, 17, 28, 4.0], [\"22013\", 1610612744, \"GSW\", \"Golden State Warriors\", \"0021300435\", \"2013-12-27\", \"GSW vs. PHX\", \"W\", 240, 115, 45, 85, 0.529, 8, 20, 0.4, 17, 24, 0.708, 15, 41, 56, 32, 9, 4, 21, 25, 29.0], [\"22013\", 1610612744, \"GSW\", \"Golden State Warriors\", \"0021300422\", \"2013-12-25\", \"GSW vs. LAC\", \"W\", 240, 105, 40, 95, 0.421, 10, 24, 0.417, 15, 22, 0.682, 16, 33, 49, 27, 8, 4, 13, 22, 2.0], [\"22013\", 1610612744, \"GSW\", \"Golden State Warriors\", \"0021300415\", \"2013-12-23\", \"GSW @ DEN\", \"W\", 240, 89, 36, 84, 0.429, 7, 16, 0.438, 10, 18, 0.556, 11, 31, 42, 17, 4, 8, 15, 18, 8.0], [\"22013\", 1610612744, \"GSW\", \"Golden State Warriors\", \"0021300402\", \"2013-12-21\", \"GSW vs. LAL\", \"W\", 240, 102, 38, 98, 0.388, 12, 31, 0.387, 14, 19, 0.737, 16, 39, 55, 19, 14, 5, 16, 24, 19.0], [\"22013\", 1610612744, \"GSW\", \"Golden State Warriors\", \"0021300382\", \"2013-12-19\", \"GSW vs. SAS\", \"L\", 239, 102, 42, 90, 0.467, 8, 31, 0.258, 10, 11, 0.909, 13, 34, 47, 26, 14, 4, 24, 21, -2.0], [\"22013\", 1610612744, \"GSW\", \"Golden State Warriors\", \"0021300368\", \"2013-12-17\", \"GSW vs. NOP\", \"W\", 241, 104, 41, 91, 0.451, 5, 20, 0.25, 17, 24, 0.708, 17, 41, 58, 25, 6, 2, 12, 23, 11.0], [\"22013\", 1610612744, \"GSW\", \"Golden State Warriors\", \"0021300355\", \"2013-12-15\", \"GSW @ PHX\", \"L\", 240, 102, 34, 80, 0.425, 11, 22, 0.5, 23, 33, 0.697, 11, 39, 50, 19, 6, 4, 20, 25, -4.0], [\"22013\", 1610612744, \"GSW\", \"Golden State Warriors\", \"0021300341\", \"2013-12-13\", \"GSW vs. HOU\", \"L\", 240, 112, 43, 90, 0.478, 6, 22, 0.273, 20, 24, 0.833, 19, 37, 56, 22, 6, 6, 18, 30, -4.0], [\"22013\", 1610612744, \"GSW\", \"Golden State Warriors\", \"0021300326\", \"2013-12-11\", \"GSW vs. DAL\", \"W\", 240, 95, 37, 86, 0.43, 12, 28, 0.429, 9, 15, 0.6, 14, 36, 50, 20, 6, 6, 18, 18, 2.0], [\"22013\", 1610612744, \"GSW\", \"Golden State Warriors\", \"0021300304\", \"2013-12-09\", \"GSW @ CHA\", \"L\", 239, 111, 41, 90, 0.456, 11, 37, 0.297, 18, 22, 0.818, 10, 43, 53, 20, 3, 6, 15, 24, -4.0], [\"22013\", 1610612744, \"GSW\", \"Golden State Warriors\", \"0021300293\", \"2013-12-07\", \"GSW @ MEM\", \"W\", 239, 108, 44, 88, 0.5, 8, 18, 0.444, 12, 14, 0.857, 15, 32, 47, 24, 6, 5, 10, 20, 26.0], [\"22013\", 1610612744, \"GSW\", \"Golden State Warriors\", \"0021300285\", \"2013-12-06\", \"GSW @ HOU\", \"L\", 239, 83, 27, 76, 0.355, 2, 16, 0.125, 27, 34, 0.794, 10, 33, 43, 10, 9, 3, 22, 27, -22.0], [\"22013\", 1610612744, \"GSW\", \"Golden State Warriors\", \"0021300268\", \"2013-12-03\", \"GSW vs. TOR\", \"W\", 239, 112, 40, 79, 0.506, 12, 29, 0.414, 20, 25, 0.8, 9, 27, 36, 27, 11, 2, 12, 16, 9.0], [\"22013\", 1610612744, \"GSW\", \"Golden State Warriors\", \"0021300251\", \"2013-12-01\", \"GSW @ SAC\", \"W\", 239, 115, 42, 82, 0.512, 15, 25, 0.6, 16, 22, 0.727, 10, 22, 32, 22, 13, 5, 18, 25, 2.0], [\"22013\", 1610612744, \"GSW\", \"Golden State Warriors\", \"0021300235\", \"2013-11-29\", \"GSW @ OKC\", \"L\", 264, 112, 42, 95, 0.442, 8, 26, 0.308, 20, 29, 0.69, 12, 39, 51, 20, 4, 6, 15, 28, -1.0], [\"22013\", 1610612744, \"GSW\", \"Golden State Warriors\", \"0021300225\", \"2013-11-27\", \"GSW @ DAL\", \"L\", 240, 99, 32, 76, 0.421, 9, 23, 0.391, 26, 34, 0.765, 10, 42, 52, 18, 2, 6, 18, 15, -4.0], [\"22013\", 1610612744, \"GSW\", \"Golden State Warriors\", \"0021300214\", \"2013-11-26\", \"GSW @ NOP\", \"W\", 240, 102, 40, 88, 0.455, 7, 19, 0.368, 15, 21, 0.714, 9, 32, 41, 25, 8, 6, 10, 14, 1.0], [\"22013\", 1610612744, \"GSW\", \"Golden State Warriors\", \"0021300196\", \"2013-11-23\", \"GSW vs. POR\", \"L\", 239, 101, 36, 77, 0.468, 7, 17, 0.412, 22, 30, 0.733, 5, 36, 41, 20, 4, 4, 19, 31, -12.0], [\"22013\", 1610612744, \"GSW\", \"Golden State Warriors\", \"0021300186\", \"2013-11-22\", \"GSW @ LAL\", \"L\", 239, 95, 34, 82, 0.415, 9, 22, 0.409, 18, 28, 0.643, 16, 34, 50, 23, 8, 2, 18, 20, -7.0], [\"22013\", 1610612744, \"GSW\", \"Golden State Warriors\", \"0021300173\", \"2013-11-20\", \"GSW vs. MEM\", \"L\", 264, 81, 36, 82, 0.439, 5, 18, 0.278, 4, 8, 0.5, 7, 36, 43, 24, 3, 3, 14, 20, -7.0], [\"22013\", 1610612744, \"GSW\", \"Golden State Warriors\", \"0021300154\", \"2013-11-18\", \"GSW @ UTA\", \"W\", 240, 98, 32, 79, 0.405, 12, 22, 0.545, 22, 30, 0.733, 14, 43, 57, 17, 5, 6, 14, 16, 11.0], [\"22013\", 1610612744, \"GSW\", \"Golden State Warriors\", \"0021300145\", \"2013-11-16\", \"GSW vs. UTA\", \"W\", 241, 102, 41, 80, 0.513, 9, 21, 0.429, 11, 14, 0.786, 10, 32, 42, 24, 7, 5, 15, 19, 14.0], [\"22013\", 1610612744, \"GSW\", \"Golden State Warriors\", \"0021300124\", \"2013-11-14\", \"GSW vs. OKC\", \"W\", 240, 116, 45, 94, 0.479, 14, 23, 0.609, 12, 14, 0.857, 9, 22, 31, 26, 12, 5, 7, 22, 1.0], [\"22013\", 1610612744, \"GSW\", \"Golden State Warriors\", \"0021300109\", \"2013-11-12\", \"GSW vs. DET\", \"W\", 240, 113, 42, 70, 0.6, 8, 16, 0.5, 21, 26, 0.808, 10, 33, 43, 28, 5, 3, 23, 25, 18.0], [\"22013\", 1610612744, \"GSW\", \"Golden State Warriors\", \"0021300091\", \"2013-11-09\", \"GSW @ MEM\", \"L\", 239, 90, 33, 78, 0.423, 10, 30, 0.333, 14, 26, 0.538, 9, 24, 33, 17, 8, 3, 17, 24, -18.0], [\"22013\", 1610612744, \"GSW\", \"Golden State Warriors\", \"0021300082\", \"2013-11-08\", \"GSW @ SAS\", \"L\", 239, 74, 29, 71, 0.408, 8, 20, 0.4, 8, 10, 0.8, 6, 39, 45, 16, 7, 4, 19, 20, -2.0], [\"22013\", 1610612744, \"GSW\", \"Golden State Warriors\", \"0021300067\", \"2013-11-06\", \"GSW @ MIN\", \"W\", 240, 106, 42, 84, 0.5, 8, 20, 0.4, 14, 20, 0.7, 9, 40, 49, 23, 12, 11, 21, 29, 13.0], [\"22013\", 1610612744, \"GSW\", \"Golden State Warriors\", \"0021300048\", \"2013-11-04\", \"GSW @ PHI\", \"W\", 241, 110, 41, 92, 0.446, 15, 38, 0.395, 13, 20, 0.65, 13, 41, 54, 28, 18, 7, 22, 24, 20.0], [\"22013\", 1610612744, \"GSW\", \"Golden State Warriors\", \"0021300040\", \"2013-11-02\", \"GSW vs. SAC\", \"W\", 240, 98, 39, 76, 0.513, 11, 27, 0.407, 9, 12, 0.75, 5, 39, 44, 28, 8, 7, 18, 22, 11.0], [\"22013\", 1610612744, \"GSW\", \"Golden State Warriors\", \"0021300019\", \"2013-10-31\", \"GSW @ LAC\", \"L\", 240, 115, 40, 76, 0.526, 12, 21, 0.571, 23, 33, 0.697, 10, 23, 33, 26, 7, 2, 24, 35, -11.0], [\"22013\", 1610612744, \"GSW\", \"Golden State Warriors\", \"0021300017\", \"2013-10-30\", \"GSW vs. LAL\", \"W\", 241, 125, 46, 86, 0.535, 15, 27, 0.556, 18, 23, 0.783, 7, 41, 48, 34, 8, 9, 15, 22, 31.0], [\"12013\", 1610612744, \"GSW\", \"Golden State Warriors\", \"0011300107\", \"2013-10-24\", \"GSW vs. POR\", \"L\", 240, 74, 32, 97, 0.33, 2, 15, 0.133, 8, 12, 0.667, 12, 35, 47, 17, 12, 9, 14, 26, -16.0], [\"12013\", 1610612744, \"GSW\", \"Golden State Warriors\", \"0011300100\", \"2013-10-23\", \"GSW @ SAC\", \"L\", 240, 90, 34, 82, 0.415, 10, 27, 0.37, 12, 19, 0.632, 8, 30, 38, 24, 13, 3, 17, 28, -1.0], [\"12013\", 1610612744, \"GSW\", \"Golden State Warriors\", \"0011300072\", \"2013-10-18\", \"GSW vs. LAL\", \"W\", 240, 115, 46, 90, 0.511, 15, 26, 0.577, 8, 12, 0.667, 13, 33, 46, 35, 13, 5, 20, 24, 26.0], [\"12013\", 1610612744, \"GSW\", \"Golden State Warriors\", \"0011300057\", \"2013-10-15\", \"GSW @ LAL\", \"W\", 242, 100, 36, 81, 0.444, 8, 25, 0.32, 20, 25, 0.8, 10, 35, 45, 24, 10, 5, 17, 28, 5.0], [\"12013\", 1610612744, \"GSW\", \"Golden State Warriors\", \"0011300017\", \"2013-10-08\", \"GSW @ UTA\", \"L\", 241, 78, 29, 89, 0.326, 9, 23, 0.391, 11, 18, 0.611, 9, 32, 41, 15, 7, 5, 12, 21, -23.0], [\"12013\", 1610612744, \"GSW\", \"Golden State Warriors\", \"0011300014\", \"2013-10-07\", \"GSW vs. SAC\", \"W\", 241, 94, 36, 83, 0.434, 6, 16, 0.375, 16, 21, 0.762, 12, 32, 44, 23, 10, 8, 22, 23, 13.0], [\"12013\", 1610612744, \"GSW\", \"Golden State Warriors\", \"0011300004\", \"2013-10-05\", \"GSW @ LAL\", \"L\", 241, 95, 35, 88, 0.398, 5, 21, 0.238, 20, 28, 0.714, 14, 38, 52, 21, 13, 5, 23, 31, -9.0], [\"22013\", 1610612744, \"GSW\", \"Golden State Warriors\", \"1521300061\", \"2013-07-22\", \"GSW vs. PHX\", \"W\", 201, 91, 34, 71, 0.479, 11, 26, 0.423, 12, 17, 0.706, 8, 29, 37, 12, 8, 3, 12, 22, 14.0], [\"22013\", 1610612744, \"GSW\", \"Golden State Warriors\", \"1521300060\", \"2013-07-21\", \"GSW vs. CHA\", \"W\", 201, 75, 28, 74, 0.378, 10, 26, 0.385, 9, 11, 0.818, 10, 27, 37, 16, 11, 4, 13, 25, 8.0], [\"22013\", 1610612744, \"GSW\", \"Golden State Warriors\", \"1521300058\", \"2013-07-20\", \"GSW vs. LAL\", \"W\", 200, 83, 29, 70, 0.414, 5, 17, 0.294, 20, 25, 0.8, 14, 29, 43, 10, 8, 3, 18, 20, 6.0], [\"22013\", 1610612744, \"GSW\", \"Golden State Warriors\", \"1521300047\", \"2013-07-18\", \"GSW vs. DAL\", \"W\", 199, 79, 30, 74, 0.405, 5, 22, 0.227, 14, 23, 0.609, 9, 30, 39, 9, 9, 5, 14, 23, 3.0], [\"22013\", 1610612744, \"GSW\", \"Golden State Warriors\", \"1521300029\", \"2013-07-16\", \"GSW @ MIL\", \"W\", 200, 84, 34, 84, 0.405, 8, 21, 0.381, 8, 16, 0.5, 15, 29, 44, 13, 11, 4, 12, 29, 12.0], [\"22013\", 1610612744, \"GSW\", \"Golden State Warriors\", \"1521300024\", \"2013-07-15\", \"GSW vs. SAC\", \"W\", 201, 80, 25, 65, 0.385, 4, 18, 0.222, 26, 33, 0.788, 9, 24, 33, 9, 8, 1, 18, 26, 14.0], [\"22013\", 1610612744, \"GSW\", \"Golden State Warriors\", \"1521300005\", \"2013-07-13\", \"GSW @ WAS\", \"W\", 200, 56, 15, 58, 0.259, 2, 16, 0.125, 24, 31, 0.774, 7, 25, 32, 7, 11, 4, 16, 23, 4.0], [\"42012\", 1610612744, \"GSW\", \"Golden State Warriors\", \"0041200236\", \"2013-05-16\", \"GSW vs. SAS\", \"L\", 239, 82, 33, 85, 0.388, 4, 16, 0.25, 12, 19, 0.632, 11, 29, 40, 18, 7, 3, 12, 25, -12.0], [\"42012\", 1610612744, \"GSW\", \"Golden State Warriors\", \"0041200235\", \"2013-05-14\", \"GSW @ SAS\", \"L\", 243, 91, 35, 75, 0.467, 6, 16, 0.375, 15, 23, 0.652, 7, 29, 36, 18, 8, 5, 14, 20, -18.0], [\"42012\", 1610612744, \"GSW\", \"Golden State Warriors\", \"0041200234\", \"2013-05-12\", \"GSW vs. SAS\", \"W\", 265, 97, 35, 92, 0.38, 7, 18, 0.389, 20, 25, 0.8, 19, 46, 65, 19, 6, 1, 18, 26, 10.0], [\"42012\", 1610612744, \"GSW\", \"Golden State Warriors\", \"0041200233\", \"2013-05-10\", \"GSW vs. SAS\", \"L\", 241, 92, 35, 89, 0.393, 6, 19, 0.316, 16, 20, 0.8, 16, 32, 48, 20, 3, 1, 11, 24, -10.0], [\"42012\", 1610612744, \"GSW\", \"Golden State Warriors\", \"0041200232\", \"2013-05-08\", \"GSW @ SAS\", \"W\", 240, 100, 38, 84, 0.452, 11, 23, 0.478, 13, 20, 0.65, 13, 37, 50, 19, 6, 4, 9, 20, 9.0], [\"42012\", 1610612744, \"GSW\", \"Golden State Warriors\", \"0041200231\", \"2013-05-06\", \"GSW @ SAS\", \"L\", 291, 127, 51, 100, 0.51, 11, 30, 0.367, 14, 24, 0.583, 12, 43, 55, 23, 8, 5, 21, 29, -2.0], [\"42012\", 1610612744, \"GSW\", \"Golden State Warriors\", \"0041200166\", \"2013-05-02\", \"GSW vs. DEN\", \"W\", 239, 92, 31, 77, 0.403, 7, 25, 0.28, 23, 24, 0.958, 13, 42, 55, 17, 3, 5, 19, 19, 4.0], [\"42012\", 1610612744, \"GSW\", \"Golden State Warriors\", \"0041200165\", \"2013-04-30\", \"GSW @ DEN\", \"L\", 238, 100, 35, 81, 0.432, 11, 28, 0.393, 19, 25, 0.76, 9, 33, 42, 20, 5, 9, 17, 23, -7.0], [\"42012\", 1610612744, \"GSW\", \"Golden State Warriors\", \"0041200164\", \"2013-04-28\", \"GSW vs. DEN\", \"W\", 241, 115, 44, 79, 0.557, 11, 26, 0.423, 16, 23, 0.696, 7, 22, 29, 27, 13, 5, 16, 26, 14.0], [\"42012\", 1610612744, \"GSW\", \"Golden State Warriors\", \"0041200163\", \"2013-04-26\", \"GSW vs. DEN\", \"W\", 242, 110, 42, 80, 0.525, 8, 20, 0.4, 18, 23, 0.783, 12, 30, 42, 26, 7, 7, 21, 20, 2.0], [\"42012\", 1610612744, \"GSW\", \"Golden State Warriors\", \"0041200162\", \"2013-04-23\", \"GSW @ DEN\", \"W\", 240, 131, 51, 79, 0.646, 14, 25, 0.56, 15, 20, 0.75, 6, 30, 36, 26, 7, 4, 17, 32, 14.0], [\"42012\", 1610612744, \"GSW\", \"Golden State Warriors\", \"0041200161\", \"2013-04-20\", \"GSW @ DEN\", \"L\", 239, 95, 38, 92, 0.413, 8, 22, 0.364, 11, 15, 0.733, 13, 42, 55, 27, 4, 10, 17, 21, -2.0], [\"22012\", 1610612744, \"GSW\", \"Golden State Warriors\", \"0021201230\", \"2013-04-17\", \"GSW @ POR\", \"W\", 239, 99, 40, 93, 0.43, 9, 21, 0.429, 10, 13, 0.769, 14, 38, 52, 21, 7, 3, 12, 17, 11.0], [\"22012\", 1610612744, \"GSW\", \"Golden State Warriors\", \"0021201212\", \"2013-04-15\", \"GSW vs. SAS\", \"W\", 240, 116, 46, 85, 0.541, 9, 20, 0.45, 15, 18, 0.833, 9, 44, 53, 26, 9, 7, 21, 17, 10.0], [\"22012\", 1610612744, \"GSW\", \"Golden State Warriors\", \"0021201189\", \"2013-04-12\", \"GSW @ LAL\", \"L\", 240, 116, 46, 97, 0.474, 11, 26, 0.423, 13, 16, 0.813, 15, 29, 44, 25, 7, 4, 8, 33, -2.0], [\"22012\", 1610612744, \"GSW\", \"Golden State Warriors\", \"0021201175\", \"2013-04-11\", \"GSW vs. OKC\", \"L\", 241, 97, 37, 84, 0.44, 7, 16, 0.438, 16, 26, 0.615, 7, 32, 39, 16, 10, 3, 16, 19, -19.0], [\"22012\", 1610612744, \"GSW\", \"Golden State Warriors\", \"0021201163\", \"2013-04-09\", \"GSW vs. MIN\", \"W\", 240, 105, 39, 91, 0.429, 10, 24, 0.417, 17, 22, 0.773, 12, 48, 60, 24, 7, 6, 13, 19, 16.0], [\"22012\", 1610612744, \"GSW\", \"Golden State Warriors\", \"0021201151\", \"2013-04-07\", \"GSW vs. UTA\", \"L\", 240, 90, 35, 74, 0.473, 7, 17, 0.412, 13, 18, 0.722, 8, 33, 41, 21, 5, 2, 16, 15, -7.0], [\"22012\", 1610612744, \"GSW\", \"Golden State Warriors\", \"0021201134\", \"2013-04-05\", \"GSW @ PHX\", \"W\", 241, 111, 44, 86, 0.512, 9, 16, 0.563, 14, 16, 0.875, 12, 18, 30, 26, 15, 1, 14, 21, 4.0], [\"22012\", 1610612744, \"GSW\", \"Golden State Warriors\", \"0021201122\", \"2013-04-03\", \"GSW vs. NOH\", \"W\", 240, 98, 36, 78, 0.462, 7, 19, 0.368, 19, 22, 0.864, 11, 36, 47, 25, 5, 8, 13, 21, 10.0], [\"22012\", 1610612744, \"GSW\", \"Golden State Warriors\", \"0021201094\", \"2013-03-30\", \"GSW vs. POR\", \"W\", 239, 125, 47, 87, 0.54, 9, 20, 0.45, 22, 27, 0.815, 11, 41, 52, 22, 6, 8, 10, 24, 27.0], [\"22012\", 1610612744, \"GSW\", \"Golden State Warriors\", \"0021201069\", \"2013-03-27\", \"GSW vs. SAC\", \"L\", 241, 98, 41, 90, 0.456, 5, 24, 0.208, 11, 13, 0.846, 13, 28, 41, 30, 9, 4, 14, 19, -7.0], [\"22012\", 1610612744, \"GSW\", \"Golden State Warriors\", \"0021201053\", \"2013-03-25\", \"GSW vs. LAL\", \"W\", 240, 109, 43, 90, 0.478, 10, 23, 0.435, 13, 19, 0.684, 9, 39, 48, 22, 3, 4, 11, 27, 6.0], [\"22012\", 1610612744, \"GSW\", \"Golden State Warriors\", \"0021201039\", \"2013-03-23\", \"GSW vs. WAS\", \"W\", 240, 101, 37, 75, 0.493, 10, 20, 0.5, 17, 22, 0.773, 8, 34, 42, 25, 5, 4, 21, 17, 9.0], [\"22012\", 1610612744, \"GSW\", \"Golden State Warriors\", \"0021201016\", \"2013-03-20\", \"GSW @ SAS\", \"L\", 240, 93, 37, 84, 0.44, 6, 12, 0.5, 13, 15, 0.867, 12, 27, 39, 16, 9, 4, 16, 17, -11.0], [\"22012\", 1610612744, \"GSW\", \"Golden State Warriors\", \"0021201001\", \"2013-03-18\", \"GSW @ NOH\", \"W\", 239, 93, 35, 70, 0.5, 10, 19, 0.526, 13, 15, 0.867, 6, 38, 44, 21, 6, 7, 16, 20, 21.0], [\"22012\", 1610612744, \"GSW\", \"Golden State Warriors\", \"0021200988\", \"2013-03-17\", \"GSW @ HOU\", \"W\", 241, 108, 44, 96, 0.458, 13, 26, 0.5, 7, 9, 0.778, 8, 42, 50, 27, 7, 6, 10, 17, 30.0], [\"22012\", 1610612744, \"GSW\", \"Golden State Warriors\", \"0021200978\", \"2013-03-15\", \"GSW vs. CHI\", \"L\", 241, 95, 34, 76, 0.447, 3, 14, 0.214, 24, 30, 0.8, 7, 27, 34, 16, 8, 7, 12, 17, -18.0], [\"22012\", 1610612744, \"GSW\", \"Golden State Warriors\", \"0021200966\", \"2013-03-13\", \"GSW vs. DET\", \"W\", 242, 105, 41, 72, 0.569, 8, 18, 0.444, 15, 25, 0.6, 11, 31, 42, 27, 5, 9, 13, 15, 8.0], [\"22012\", 1610612744, \"GSW\", \"Golden State Warriors\", \"0021200947\", \"2013-03-11\", \"GSW vs. NYK\", \"W\", 240, 92, 32, 78, 0.41, 11, 20, 0.55, 17, 24, 0.708, 13, 46, 59, 16, 7, 4, 14, 25, 29.0], [\"22012\", 1610612744, \"GSW\", \"Golden State Warriors\", \"0021200933\", \"2013-03-09\", \"GSW vs. MIL\", \"L\", 241, 93, 37, 82, 0.451, 6, 15, 0.4, 13, 20, 0.65, 12, 35, 47, 21, 4, 1, 17, 21, -10.0], [\"22012\", 1610612744, \"GSW\", \"Golden State Warriors\", \"0021200926\", \"2013-03-08\", \"GSW vs. HOU\", \"L\", 240, 88, 33, 87, 0.379, 9, 21, 0.429, 13, 20, 0.65, 12, 39, 51, 18, 6, 4, 16, 25, -6.0], [\"22012\", 1610612744, \"GSW\", \"Golden State Warriors\", \"0021200912\", \"2013-03-06\", \"GSW vs. SAC\", \"W\", 240, 87, 27, 75, 0.36, 8, 23, 0.348, 25, 29, 0.862, 6, 40, 46, 19, 9, 4, 17, 14, 4.0], [\"22012\", 1610612744, \"GSW\", \"Golden State Warriors\", \"0021200895\", \"2013-03-04\", \"GSW vs. TOR\", \"W\", 240, 125, 47, 82, 0.573, 8, 17, 0.471, 23, 28, 0.821, 6, 32, 38, 33, 3, 4, 14, 27, 7.0], [\"22012\", 1610612744, \"GSW\", \"Golden State Warriors\", \"0021200876\", \"2013-03-02\", \"GSW @ PHI\", \"L\", 241, 97, 36, 86, 0.419, 10, 26, 0.385, 15, 19, 0.789, 11, 24, 35, 22, 14, 3, 19, 14, -7.0], [\"22012\", 1610612744, \"GSW\", \"Golden State Warriors\", \"0021200867\", \"2013-03-01\", \"GSW @ BOS\", \"L\", 240, 86, 32, 94, 0.34, 5, 23, 0.217, 17, 22, 0.773, 13, 41, 54, 17, 6, 1, 11, 24, -8.0], [\"22012\", 1610612744, \"GSW\", \"Golden State Warriors\", \"0021200853\", \"2013-02-27\", \"GSW @ NYK\", \"L\", 239, 105, 36, 72, 0.5, 15, 27, 0.556, 18, 21, 0.857, 5, 33, 38, 14, 6, 4, 17, 23, -4.0], [\"22012\", 1610612744, \"GSW\", \"Golden State Warriors\", \"0021200844\", \"2013-02-26\", \"GSW @ IND\", \"L\", 240, 97, 33, 76, 0.434, 12, 21, 0.571, 19, 24, 0.792, 15, 31, 46, 16, 11, 6, 20, 23, -11.0], [\"22012\", 1610612744, \"GSW\", \"Golden State Warriors\", \"0021200832\", \"2013-02-24\", \"GSW @ MIN\", \"W\", 241, 100, 37, 81, 0.457, 7, 17, 0.412, 19, 23, 0.826, 14, 34, 48, 18, 11, 4, 22, 28, 1.0], [\"22012\", 1610612744, \"GSW\", \"Golden State Warriors\", \"0021200822\", \"2013-02-22\", \"GSW vs. SAS\", \"W\", 265, 107, 39, 94, 0.415, 5, 21, 0.238, 24, 30, 0.8, 9, 48, 57, 25, 6, 5, 12, 23, 6.0], [\"22012\", 1610612744, \"GSW\", \"Golden State Warriors\", \"0021200808\", \"2013-02-20\", \"GSW vs. PHX\", \"W\", 239, 108, 42, 87, 0.483, 10, 20, 0.5, 14, 17, 0.824, 13, 31, 44, 29, 6, 6, 10, 16, 10.0], [\"22012\", 1610612744, \"GSW\", \"Golden State Warriors\", \"0021200795\", \"2013-02-19\", \"GSW @ UTA\", \"L\", 241, 101, 39, 83, 0.47, 5, 17, 0.294, 18, 24, 0.75, 13, 29, 42, 17, 5, 3, 13, 22, -14.0], [\"22012\", 1610612744, \"GSW\", \"Golden State Warriors\", \"0021200774\", \"2013-02-12\", \"GSW vs. HOU\", \"L\", 241, 107, 38, 84, 0.452, 8, 20, 0.4, 23, 31, 0.742, 8, 38, 46, 25, 6, 6, 13, 22, -9.0], [\"22012\", 1610612744, \"GSW\", \"Golden State Warriors\", \"0021200750\", \"2013-02-09\", \"GSW @ DAL\", \"L\", 240, 91, 34, 89, 0.382, 6, 16, 0.375, 17, 24, 0.708, 17, 35, 52, 12, 4, 1, 15, 26, -25.0], [\"22012\", 1610612744, \"GSW\", \"Golden State Warriors\", \"0021200742\", \"2013-02-08\", \"GSW @ MEM\", \"L\", 242, 93, 36, 74, 0.486, 6, 17, 0.353, 15, 20, 0.75, 7, 27, 34, 18, 5, 4, 16, 25, -6.0], [\"22012\", 1610612744, \"GSW\", \"Golden State Warriors\", \"0021200729\", \"2013-02-06\", \"GSW @ OKC\", \"L\", 241, 98, 38, 93, 0.409, 10, 20, 0.5, 12, 16, 0.75, 13, 36, 49, 25, 7, 4, 19, 15, -21.0], [\"22012\", 1610612744, \"GSW\", \"Golden State Warriors\", \"0021200718\", \"2013-02-05\", \"GSW @ HOU\", \"L\", 239, 109, 41, 86, 0.477, 3, 15, 0.2, 24, 30, 0.8, 11, 29, 40, 21, 2, 5, 12, 26, -31.0], [\"22012\", 1610612744, \"GSW\", \"Golden State Warriors\", \"0021200704\", \"2013-02-02\", \"GSW vs. PHX\", \"W\", 241, 113, 45, 89, 0.506, 9, 19, 0.474, 14, 20, 0.7, 14, 33, 47, 34, 5, 3, 13, 24, 20.0], [\"22012\", 1610612744, \"GSW\", \"Golden State Warriors\", \"0021200683\", \"2013-01-31\", \"GSW vs. DAL\", \"W\", 240, 100, 36, 84, 0.429, 7, 20, 0.35, 21, 25, 0.84, 12, 34, 46, 26, 6, 4, 12, 21, 3.0], [\"22012\", 1610612744, \"GSW\", \"Golden State Warriors\", \"0021200666\", \"2013-01-29\", \"GSW @ CLE\", \"W\", 240, 108, 45, 84, 0.536, 11, 16, 0.688, 7, 10, 0.7, 7, 32, 39, 31, 8, 9, 14, 23, 13.0], [\"22012\", 1610612744, \"GSW\", \"Golden State Warriors\", \"0021200659\", \"2013-01-28\", \"GSW @ TOR\", \"W\", 240, 114, 46, 86, 0.535, 6, 15, 0.4, 16, 20, 0.8, 13, 36, 49, 22, 4, 8, 13, 19, 12.0], [\"22012\", 1610612744, \"GSW\", \"Golden State Warriors\", \"0021200647\", \"2013-01-26\", \"GSW @ MIL\", \"L\", 241, 102, 39, 93, 0.419, 13, 28, 0.464, 11, 11, 1.0, 12, 38, 50, 25, 8, 4, 15, 25, -7.0], [\"22012\", 1610612744, \"GSW\", \"Golden State Warriors\", \"0021200636\", \"2013-01-25\", \"GSW @ CHI\", \"L\", 241, 87, 27, 78, 0.346, 4, 19, 0.211, 29, 33, 0.879, 10, 27, 37, 12, 6, 5, 11, 19, -16.0], [\"22012\", 1610612744, \"GSW\", \"Golden State Warriors\", \"0021200628\", \"2013-01-23\", \"GSW vs. OKC\", \"W\", 240, 104, 37, 84, 0.44, 6, 23, 0.261, 24, 27, 0.889, 11, 29, 40, 20, 10, 3, 15, 21, 5.0], [\"22012\", 1610612744, \"GSW\", \"Golden State Warriors\", \"0021200610\", \"2013-01-21\", \"GSW vs. LAC\", \"W\", 242, 106, 39, 75, 0.52, 12, 22, 0.545, 16, 18, 0.889, 6, 33, 39, 25, 4, 2, 17, 21, 7.0], [\"22012\", 1610612744, \"GSW\", \"Golden State Warriors\", \"0021200596\", \"2013-01-19\", \"GSW @ NOH\", \"W\", 239, 116, 38, 77, 0.494, 10, 22, 0.455, 30, 35, 0.857, 10, 23, 33, 25, 10, 1, 14, 19, 4.0], [\"22012\", 1610612744, \"GSW\", \"Golden State Warriors\", \"0021200590\", \"2013-01-18\", \"GSW @ SAS\", \"L\", 240, 88, 36, 84, 0.429, 4, 16, 0.25, 12, 14, 0.857, 7, 35, 42, 23, 4, 2, 9, 21, -7.0], [\"22012\", 1610612744, \"GSW\", \"Golden State Warriors\", \"0021200579\", \"2013-01-16\", \"GSW vs. MIA\", \"L\", 240, 75, 29, 80, 0.363, 3, 12, 0.25, 14, 18, 0.778, 11, 41, 52, 17, 5, 2, 21, 21, -17.0], [\"22012\", 1610612744, \"GSW\", \"Golden State Warriors\", \"0021200553\", \"2013-01-13\", \"GSW @ DEN\", \"L\", 239, 105, 43, 83, 0.518, 13, 24, 0.542, 6, 8, 0.75, 6, 33, 39, 28, 3, 5, 18, 24, -11.0], [\"22012\", 1610612744, \"GSW\", \"Golden State Warriors\", \"0021200540\", \"2013-01-11\", \"GSW vs. POR\", \"W\", 240, 103, 41, 86, 0.477, 6, 15, 0.4, 15, 18, 0.833, 8, 39, 47, 28, 10, 5, 11, 16, 6.0], [\"22012\", 1610612744, \"GSW\", \"Golden State Warriors\", \"0021200526\", \"2013-01-09\", \"GSW vs. MEM\", \"L\", 241, 87, 33, 71, 0.465, 7, 17, 0.412, 14, 20, 0.7, 6, 32, 38, 23, 8, 2, 15, 21, -7.0], [\"22012\", 1610612744, \"GSW\", \"Golden State Warriors\", \"0021200498\", \"2013-01-05\", \"GSW @ LAC\", \"L\", 240, 89, 32, 72, 0.444, 5, 20, 0.25, 20, 26, 0.769, 5, 25, 30, 19, 4, 8, 16, 17, -26.0], [\"22012\", 1610612744, \"GSW\", \"Golden State Warriors\", \"0021200475\", \"2013-01-02\", \"GSW vs. LAC\", \"W\", 238, 115, 42, 84, 0.5, 12, 23, 0.522, 19, 22, 0.864, 13, 40, 53, 29, 11, 4, 20, 27, 21.0], [\"22012\", 1610612744, \"GSW\", \"Golden State Warriors\", \"0021200447\", \"2012-12-29\", \"GSW vs. BOS\", \"W\", 241, 101, 38, 73, 0.521, 12, 19, 0.632, 13, 16, 0.813, 5, 41, 46, 21, 8, 10, 18, 22, 18.0], [\"22012\", 1610612744, \"GSW\", \"Golden State Warriors\", \"0021200436\", \"2012-12-28\", \"GSW vs. PHI\", \"W\", 240, 96, 34, 80, 0.425, 7, 17, 0.412, 21, 26, 0.808, 9, 43, 52, 20, 5, 3, 18, 19, 7.0], [\"22012\", 1610612744, \"GSW\", \"Golden State Warriors\", \"0021200420\", \"2012-12-26\", \"GSW @ UTA\", \"W\", 240, 94, 33, 82, 0.402, 9, 18, 0.5, 19, 20, 0.95, 9, 34, 43, 19, 10, 6, 10, 18, 11.0], [\"22012\", 1610612744, \"GSW\", \"Golden State Warriors\", \"0021200398\", \"2012-12-22\", \"GSW vs. LAL\", \"L\", 265, 115, 46, 103, 0.447, 10, 29, 0.345, 13, 15, 0.867, 15, 32, 47, 26, 13, 5, 19, 22, -3.0], [\"22012\", 1610612744, \"GSW\", \"Golden State Warriors\", \"0021200389\", \"2012-12-21\", \"GSW vs. CHA\", \"W\", 242, 115, 44, 85, 0.518, 14, 27, 0.519, 13, 16, 0.813, 12, 36, 48, 31, 4, 9, 11, 24, 15.0], [\"22012\", 1610612744, \"GSW\", \"Golden State Warriors\", \"0021200375\", \"2012-12-19\", \"GSW @ SAC\", \"L\", 239, 127, 46, 92, 0.5, 13, 26, 0.5, 22, 25, 0.88, 14, 28, 42, 21, 4, 6, 12, 27, -4.0], [\"22012\", 1610612744, \"GSW\", \"Golden State Warriors\", \"0021200365\", \"2012-12-18\", \"GSW vs. NOH\", \"W\", 240, 103, 34, 78, 0.436, 6, 18, 0.333, 29, 34, 0.853, 16, 28, 44, 25, 8, 2, 14, 15, 7.0], [\"22012\", 1610612744, \"GSW\", \"Golden State Warriors\", \"0021200337\", \"2012-12-15\", \"GSW @ ATL\", \"W\", 240, 115, 49, 99, 0.495, 10, 24, 0.417, 7, 8, 0.875, 10, 44, 54, 32, 10, 3, 11, 25, 22.0], [\"22012\", 1610612744, \"GSW\", \"Golden State Warriors\", \"0021200330\", \"2012-12-14\", \"GSW @ ORL\", \"L\", 240, 85, 34, 92, 0.37, 7, 20, 0.35, 10, 11, 0.909, 16, 33, 49, 19, 5, 2, 12, 15, -14.0], [\"22012\", 1610612744, \"GSW\", \"Golden State Warriors\", \"0021200314\", \"2012-12-12\", \"GSW @ MIA\", \"W\", 240, 97, 38, 82, 0.463, 9, 24, 0.375, 12, 14, 0.857, 8, 33, 41, 20, 9, 2, 13, 14, 2.0], [\"22012\", 1610612744, \"GSW\", \"Golden State Warriors\", \"0021200299\", \"2012-12-10\", \"GSW @ CHA\", \"W\", 239, 104, 38, 84, 0.452, 8, 20, 0.4, 20, 23, 0.87, 14, 32, 46, 28, 9, 4, 16, 26, 8.0], [\"22012\", 1610612744, \"GSW\", \"Golden State Warriors\", \"0021200283\", \"2012-12-08\", \"GSW @ WAS\", \"W\", 239, 101, 35, 81, 0.432, 9, 22, 0.409, 22, 27, 0.815, 13, 44, 57, 22, 4, 5, 19, 16, 4.0], [\"22012\", 1610612744, \"GSW\", \"Golden State Warriors\", \"0021200272\", \"2012-12-07\", \"GSW @ BKN\", \"W\", 241, 109, 46, 90, 0.511, 9, 19, 0.474, 8, 10, 0.8, 15, 32, 47, 24, 9, 1, 11, 21, 7.0], [\"22012\", 1610612744, \"GSW\", \"Golden State Warriors\", \"0021200261\", \"2012-12-05\", \"GSW @ DET\", \"W\", 240, 104, 34, 75, 0.453, 9, 24, 0.375, 27, 34, 0.794, 9, 26, 35, 24, 9, 7, 10, 22, 7.0], [\"22012\", 1610612744, \"GSW\", \"Golden State Warriors\", \"0021200250\", \"2012-12-03\", \"GSW vs. ORL\", \"L\", 239, 94, 37, 81, 0.457, 7, 17, 0.412, 13, 18, 0.722, 9, 34, 43, 23, 5, 5, 13, 20, -8.0], [\"22012\", 1610612744, \"GSW\", \"Golden State Warriors\", \"0021200242\", \"2012-12-01\", \"GSW vs. IND\", \"W\", 240, 103, 38, 80, 0.475, 9, 20, 0.45, 18, 19, 0.947, 11, 30, 41, 22, 5, 3, 17, 22, 11.0], [\"22012\", 1610612744, \"GSW\", \"Golden State Warriors\", \"0021200221\", \"2012-11-29\", \"GSW vs. DEN\", \"W\", 239, 106, 44, 86, 0.512, 8, 18, 0.444, 10, 13, 0.769, 9, 34, 43, 29, 10, 5, 16, 22, 1.0], [\"22012\", 1610612744, \"GSW\", \"Golden State Warriors\", \"0021200190\", \"2012-11-24\", \"GSW vs. MIN\", \"W\", 239, 96, 33, 78, 0.423, 6, 21, 0.286, 24, 29, 0.828, 13, 35, 48, 18, 1, 3, 13, 25, 11.0], [\"22012\", 1610612744, \"GSW\", \"Golden State Warriors\", \"0021200179\", \"2012-11-23\", \"GSW @ DEN\", \"L\", 242, 91, 35, 80, 0.438, 7, 17, 0.412, 14, 18, 0.778, 8, 37, 45, 22, 8, 5, 14, 30, -11.0], [\"22012\", 1610612744, \"GSW\", \"Golden State Warriors\", \"0021200170\", \"2012-11-21\", \"GSW vs. BKN\", \"W\", 240, 102, 40, 75, 0.533, 7, 15, 0.467, 15, 19, 0.789, 12, 31, 43, 24, 3, 1, 15, 17, 9.0], [\"22012\", 1610612744, \"GSW\", \"Golden State Warriors\", \"0021200151\", \"2012-11-19\", \"GSW @ DAL\", \"W\", 264, 105, 37, 91, 0.407, 9, 24, 0.375, 22, 30, 0.733, 19, 43, 62, 19, 10, 2, 20, 24, 4.0], [\"22012\", 1610612744, \"GSW\", \"Golden State Warriors\", \"0021200143\", \"2012-11-18\", \"GSW @ OKC\", \"L\", 240, 109, 43, 82, 0.524, 5, 16, 0.313, 18, 22, 0.818, 8, 27, 35, 23, 8, 4, 13, 18, -10.0], [\"22012\", 1610612744, \"GSW\", \"Golden State Warriors\", \"0021200126\", \"2012-11-16\", \"GSW @ MIN\", \"W\", 240, 106, 43, 85, 0.506, 2, 15, 0.133, 18, 26, 0.692, 17, 33, 50, 21, 3, 5, 15, 26, 8.0], [\"22012\", 1610612744, \"GSW\", \"Golden State Warriors\", \"0021200118\", \"2012-11-14\", \"GSW vs. ATL\", \"W\", 241, 92, 33, 71, 0.465, 5, 18, 0.278, 21, 25, 0.84, 10, 34, 44, 23, 7, 1, 23, 22, 4.0], [\"22012\", 1610612744, \"GSW\", \"Golden State Warriors\", \"0021200089\", \"2012-11-10\", \"GSW vs. DEN\", \"L\", 290, 101, 39, 102, 0.382, 9, 25, 0.36, 14, 23, 0.609, 13, 41, 54, 23, 11, 5, 14, 26, -6.0], [\"22012\", 1610612744, \"GSW\", \"Golden State Warriors\", \"0021200080\", \"2012-11-09\", \"GSW @ LAL\", \"L\", 240, 77, 29, 86, 0.337, 7, 25, 0.28, 12, 20, 0.6, 13, 34, 47, 12, 5, 3, 18, 25, -24.0], [\"22012\", 1610612744, \"GSW\", \"Golden State Warriors\", \"0021200065\", \"2012-11-07\", \"GSW vs. CLE\", \"W\", 239, 106, 42, 78, 0.538, 5, 18, 0.278, 17, 23, 0.739, 7, 37, 44, 28, 11, 4, 16, 22, 10.0], [\"22012\", 1610612744, \"GSW\", \"Golden State Warriors\", \"0021200048\", \"2012-11-05\", \"GSW @ SAC\", \"L\", 241, 92, 31, 78, 0.397, 6, 21, 0.286, 24, 28, 0.857, 7, 31, 38, 21, 5, 2, 13, 17, -2.0], [\"22012\", 1610612744, \"GSW\", \"Golden State Warriors\", \"0021200036\", \"2012-11-03\", \"GSW @ LAC\", \"W\", 239, 114, 41, 84, 0.488, 4, 16, 0.25, 28, 39, 0.718, 16, 32, 48, 22, 7, 2, 13, 34, 4.0], [\"22012\", 1610612744, \"GSW\", \"Golden State Warriors\", \"0021200026\", \"2012-11-02\", \"GSW vs. MEM\", \"L\", 241, 94, 36, 80, 0.45, 10, 20, 0.5, 12, 17, 0.706, 9, 27, 36, 21, 5, 5, 18, 24, -10.0], [\"22012\", 1610612744, \"GSW\", \"Golden State Warriors\", \"0021200010\", \"2012-10-31\", \"GSW @ PHX\", \"W\", 239, 87, 33, 86, 0.384, 5, 17, 0.294, 16, 23, 0.696, 17, 32, 49, 19, 9, 3, 18, 20, 2.0], [\"12012\", 1610612744, \"GSW\", \"Golden State Warriors\", \"0011200098\", \"2012-10-23\", \"GSW vs. PHX\", \"W\", 241, 107, 41, 72, 0.569, 8, 16, 0.5, 17, 28, 0.607, 4, 33, 37, 28, 8, 3, 19, 22, 15.0], [\"12012\", 1610612744, \"GSW\", \"Golden State Warriors\", \"0011200094\", \"2012-10-22\", \"GSW @ LAC\", \"L\", 239, 71, 28, 85, 0.329, 6, 17, 0.353, 9, 15, 0.6, 15, 37, 52, 16, 7, 4, 22, 21, -17.0], [\"12012\", 1610612744, \"GSW\", \"Golden State Warriors\", \"0011200076\", \"2012-10-19\", \"GSW @ POR\", \"W\", 241, 101, 37, 74, 0.5, 7, 19, 0.368, 20, 26, 0.769, 11, 28, 39, 23, 9, 3, 16, 25, 4.0], [\"12012\", 1610612744, \"GSW\", \"Golden State Warriors\", \"0011200063\", \"2012-10-17\", \"GSW @ SAC\", \"W\", 239, 98, 36, 79, 0.456, 9, 23, 0.391, 17, 27, 0.63, 12, 30, 42, 20, 10, 3, 20, 35, 10.0], [\"12012\", 1610612744, \"GSW\", \"Golden State Warriors\", \"0011200049\", \"2012-10-15\", \"GSW @ DEN\", \"L\", 240, 98, 37, 77, 0.481, 11, 20, 0.55, 13, 22, 0.591, 8, 33, 41, 17, 7, 6, 19, 30, -6.0], [\"12012\", 1610612744, \"GSW\", \"Golden State Warriors\", \"0011200029\", \"2012-10-11\", \"GSW vs. MAC\", \"W\", 239, 108, 40, 78, 0.513, 8, 19, 0.421, 20, 24, 0.833, 9, 30, 39, 24, 10, 5, 12, 24, 8.0], [\"12012\", 1610612744, \"GSW\", \"Golden State Warriors\", \"0011200013\", \"2012-10-08\", \"GSW vs. UTA\", \"W\", 240, 83, 37, 79, 0.468, 3, 15, 0.2, 6, 10, 0.6, 7, 32, 39, 28, 11, 10, 16, 19, 3.0], [\"12012\", 1610612744, \"GSW\", \"Golden State Warriors\", \"0011200009\", \"2012-10-07\", \"GSW @ LAL\", \"W\", 240, 110, 41, 73, 0.562, 9, 16, 0.563, 19, 32, 0.594, 7, 33, 40, 21, 5, 5, 14, 22, 27.0], [\"22012\", 1610612744, \"GSW\", \"Golden State Warriors\", \"1521200053\", \"2012-07-21\", \"GSW @ NOH\", \"W\", 201, 80, 29, 60, 0.483, 2, 9, 0.222, 20, 26, 0.769, 8, 25, 33, 12, 4, 6, 14, 31, 8.0], [\"22012\", 1610612744, \"GSW\", \"Golden State Warriors\", \"1521200048\", \"2012-07-20\", \"GSW vs. CHI\", \"W\", 200, 66, 21, 63, 0.333, 3, 12, 0.25, 21, 23, 0.913, 10, 30, 40, 9, 8, 11, 15, 23, 9.0], [\"22012\", 1610612744, \"GSW\", \"Golden State Warriors\", \"1521200036\", \"2012-07-18\", \"GSW @ MIA\", \"W\", 200, 65, 21, 67, 0.313, 1, 13, 0.077, 22, 23, 0.957, 10, 25, 35, 7, 8, 4, 16, 25, 3.0], [\"22012\", 1610612744, \"GSW\", \"Golden State Warriors\", \"1521200006\", \"2012-07-14\", \"GSW @ DEN\", \"W\", 201, 95, 31, 73, 0.425, 9, 15, 0.6, 24, 32, 0.75, 11, 24, 35, 9, 15, 5, 19, 28, 21.0], [\"22012\", 1610612744, \"GSW\", \"Golden State Warriors\", \"1521200003\", \"2012-07-13\", \"GSW @ LAL\", \"W\", 202, 90, 33, 64, 0.516, 12, 18, 0.667, 12, 20, 0.6, 7, 24, 31, 14, 8, 3, 11, 23, 40.0], [\"22011\", 1610612744, \"GSW\", \"Golden State Warriors\", \"0021100990\", \"2012-04-26\", \"GSW vs. SAS\", \"L\", 240, 101, 45, 87, 0.517, 2, 8, 0.25, 9, 12, 0.75, 8, 34, 42, 25, 8, 5, 15, 14, -6.0], [\"22011\", 1610612744, \"GSW\", \"Golden State Warriors\", \"0021100970\", \"2012-04-24\", \"GSW vs. NOH\", \"L\", 242, 81, 33, 79, 0.418, 6, 14, 0.429, 9, 13, 0.692, 9, 28, 37, 18, 6, 6, 13, 19, -2.0], [\"22011\", 1610612744, \"GSW\", \"Golden State Warriors\", \"0021100957\", \"2012-04-22\", \"GSW @ MIN\", \"W\", 240, 93, 41, 92, 0.446, 5, 16, 0.313, 6, 10, 0.6, 11, 34, 45, 18, 6, 7, 9, 17, 5.0], [\"22011\", 1610612744, \"GSW\", \"Golden State Warriors\", \"0021100948\", \"2012-04-21\", \"GSW @ HOU\", \"L\", 240, 96, 36, 73, 0.493, 5, 16, 0.313, 19, 22, 0.864, 8, 28, 36, 17, 6, 5, 17, 16, -3.0], [\"22011\", 1610612744, \"GSW\", \"Golden State Warriors\", \"0021100940\", \"2012-04-20\", \"GSW @ DAL\", \"L\", 239, 94, 37, 83, 0.446, 9, 19, 0.474, 11, 21, 0.524, 7, 28, 35, 23, 10, 5, 10, 21, -10.0], [\"22011\", 1610612744, \"GSW\", \"Golden State Warriors\", \"0021100931\", \"2012-04-18\", \"GSW vs. LAL\", \"L\", 240, 87, 38, 90, 0.422, 4, 19, 0.211, 7, 10, 0.7, 7, 33, 40, 23, 8, 3, 11, 22, -12.0], [\"22011\", 1610612744, \"GSW\", \"Golden State Warriors\", \"0021100912\", \"2012-04-16\", \"GSW vs. SAS\", \"L\", 240, 99, 38, 93, 0.409, 8, 20, 0.4, 15, 17, 0.882, 14, 33, 47, 24, 9, 4, 16, 31, -21.0], [\"22011\", 1610612744, \"GSW\", \"Golden State Warriors\", \"0021100886\", \"2012-04-14\", \"GSW @ LAC\", \"L\", 239, 104, 37, 80, 0.463, 15, 31, 0.484, 15, 21, 0.714, 11, 28, 39, 22, 7, 6, 16, 26, -8.0], [\"22011\", 1610612744, \"GSW\", \"Golden State Warriors\", \"0021100873\", \"2012-04-12\", \"GSW vs. DAL\", \"L\", 240, 103, 38, 81, 0.469, 7, 18, 0.389, 20, 23, 0.87, 14, 32, 46, 27, 7, 2, 15, 14, -9.0], [\"22011\", 1610612744, \"GSW\", \"Golden State Warriors\", \"0021100868\", \"2012-04-11\", \"GSW @ POR\", \"L\", 239, 110, 47, 90, 0.522, 8, 16, 0.5, 8, 11, 0.727, 10, 28, 38, 27, 6, 4, 14, 22, -8.0], [\"22011\", 1610612744, \"GSW\", \"Golden State Warriors\", \"0021100849\", \"2012-04-09\", \"GSW @ DEN\", \"L\", 242, 84, 31, 84, 0.369, 12, 25, 0.48, 10, 14, 0.714, 7, 20, 27, 21, 9, 12, 14, 26, -39.0], [\"22011\", 1610612744, \"GSW\", \"Golden State Warriors\", \"0021100834\", \"2012-04-07\", \"GSW vs. DEN\", \"W\", 242, 112, 46, 88, 0.523, 8, 21, 0.381, 12, 16, 0.75, 14, 27, 41, 25, 9, 8, 13, 19, 15.0], [\"22011\", 1610612744, \"GSW\", \"Golden State Warriors\", \"0021100824\", \"2012-04-06\", \"GSW @ UTA\", \"L\", 240, 98, 39, 86, 0.453, 9, 22, 0.409, 11, 12, 0.917, 14, 27, 41, 22, 9, 2, 17, 21, -6.0], [\"22011\", 1610612744, \"GSW\", \"Golden State Warriors\", \"0021100806\", \"2012-04-04\", \"GSW @ MIN\", \"W\", 240, 97, 41, 86, 0.477, 4, 16, 0.25, 11, 16, 0.688, 8, 29, 37, 24, 11, 8, 12, 17, 3.0], [\"22011\", 1610612744, \"GSW\", \"Golden State Warriors\", \"0021100796\", \"2012-04-03\", \"GSW @ MEM\", \"L\", 241, 94, 38, 82, 0.463, 7, 18, 0.389, 11, 16, 0.688, 9, 32, 41, 18, 8, 4, 13, 16, -4.0], [\"22011\", 1610612744, \"GSW\", \"Golden State Warriors\", \"0021100784\", \"2012-04-01\", \"GSW @ LAL\", \"L\", 239, 112, 44, 90, 0.489, 11, 21, 0.524, 13, 15, 0.867, 8, 21, 29, 31, 9, 5, 5, 23, -8.0], [\"22011\", 1610612744, \"GSW\", \"Golden State Warriors\", \"0021100768\", \"2012-03-30\", \"GSW vs. NJN\", \"L\", 240, 100, 40, 76, 0.526, 7, 15, 0.467, 13, 16, 0.813, 6, 26, 32, 26, 11, 3, 17, 21, -2.0], [\"22011\", 1610612744, \"GSW\", \"Golden State Warriors\", \"0021100752\", \"2012-03-28\", \"GSW vs. NOH\", \"L\", 240, 87, 33, 74, 0.446, 10, 28, 0.357, 11, 15, 0.733, 8, 25, 33, 19, 4, 5, 16, 16, -15.0], [\"22011\", 1610612744, \"GSW\", \"Golden State Warriors\", \"0021100742\", \"2012-03-27\", \"GSW vs. LAL\", \"L\", 239, 101, 39, 91, 0.429, 6, 19, 0.316, 17, 18, 0.944, 8, 27, 35, 22, 4, 9, 5, 25, -3.0], [\"22011\", 1610612744, \"GSW\", \"Golden State Warriors\", \"0021100725\", \"2012-03-25\", \"GSW @ POR\", \"L\", 240, 87, 32, 74, 0.432, 7, 22, 0.318, 16, 17, 0.941, 6, 38, 44, 18, 2, 5, 14, 20, -3.0], [\"22011\", 1610612744, \"GSW\", \"Golden State Warriors\", \"0021100718\", \"2012-03-24\", \"GSW vs. SAC\", \"W\", 240, 111, 43, 88, 0.489, 7, 21, 0.333, 18, 21, 0.857, 8, 31, 39, 30, 5, 5, 12, 25, 3.0], [\"22011\", 1610612744, \"GSW\", \"Golden State Warriors\", \"0021100696\", \"2012-03-22\", \"GSW @ HOU\", \"L\", 240, 83, 34, 82, 0.415, 6, 16, 0.375, 9, 10, 0.9, 8, 24, 32, 21, 5, 6, 16, 20, -26.0], [\"22011\", 1610612744, \"GSW\", \"Golden State Warriors\", \"0021100688\", \"2012-03-21\", \"GSW @ NOH\", \"W\", 240, 101, 39, 89, 0.438, 14, 29, 0.483, 9, 10, 0.9, 8, 25, 33, 27, 8, 10, 9, 16, 9.0], [\"22011\", 1610612744, \"GSW\", \"Golden State Warriors\", \"0021100675\", \"2012-03-19\", \"GSW vs. MIN\", \"L\", 240, 93, 34, 80, 0.425, 10, 26, 0.385, 15, 20, 0.75, 6, 27, 33, 22, 9, 5, 8, 20, -4.0], [\"22011\", 1610612744, \"GSW\", \"Golden State Warriors\", \"0021100661\", \"2012-03-17\", \"GSW @ UTA\", \"L\", 266, 92, 33, 80, 0.413, 6, 25, 0.24, 20, 25, 0.8, 3, 37, 40, 14, 9, 7, 12, 21, -7.0], [\"22011\", 1610612744, \"GSW\", \"Golden State Warriors\", \"0021100653\", \"2012-03-16\", \"GSW vs. MIL\", \"L\", 239, 98, 35, 79, 0.443, 10, 22, 0.455, 18, 20, 0.9, 7, 28, 35, 23, 6, 3, 12, 17, -22.0], [\"22011\", 1610612744, \"GSW\", \"Golden State Warriors\", \"0021100637\", \"2012-03-14\", \"GSW vs. BOS\", \"L\", 241, 103, 41, 78, 0.526, 5, 21, 0.238, 16, 19, 0.842, 8, 25, 33, 25, 11, 3, 17, 18, -2.0], [\"22011\", 1610612744, \"GSW\", \"Golden State Warriors\", \"0021100625\", \"2012-03-13\", \"GSW @ SAC\", \"W\", 241, 115, 46, 91, 0.505, 12, 24, 0.5, 11, 15, 0.733, 9, 36, 45, 20, 9, 6, 7, 21, 26.0], [\"22011\", 1610612744, \"GSW\", \"Golden State Warriors\", \"0021100610\", \"2012-03-11\", \"GSW @ LAC\", \"W\", 241, 97, 36, 70, 0.514, 8, 15, 0.533, 17, 21, 0.81, 6, 31, 37, 22, 6, 6, 17, 26, 4.0], [\"22011\", 1610612744, \"GSW\", \"Golden State Warriors\", \"0021100602\", \"2012-03-10\", \"GSW vs. DAL\", \"W\", 241, 111, 40, 74, 0.541, 10, 25, 0.4, 21, 25, 0.84, 3, 41, 44, 23, 17, 2, 16, 20, 24.0], [\"22011\", 1610612744, \"GSW\", \"Golden State Warriors\", \"0021100581\", \"2012-03-07\", \"GSW vs. MEM\", \"L\", 240, 92, 35, 79, 0.443, 8, 18, 0.444, 14, 23, 0.609, 11, 28, 39, 23, 2, 4, 15, 20, -18.0], [\"22011\", 1610612744, \"GSW\", \"Golden State Warriors\", \"0021100555\", \"2012-03-05\", \"GSW @ WAS\", \"W\", 240, 120, 45, 83, 0.542, 15, 23, 0.652, 15, 16, 0.938, 10, 37, 47, 27, 7, 4, 14, 24, 20.0], [\"22011\", 1610612744, \"GSW\", \"Golden State Warriors\", \"0021100548\", \"2012-03-04\", \"GSW @ TOR\", \"L\", 241, 75, 29, 80, 0.363, 4, 19, 0.211, 13, 19, 0.684, 10, 31, 41, 17, 6, 3, 12, 20, -8.0], [\"22011\", 1610612744, \"GSW\", \"Golden State Warriors\", \"0021100532\", \"2012-03-02\", \"GSW @ PHI\", \"L\", 241, 83, 33, 82, 0.402, 5, 18, 0.278, 12, 14, 0.857, 7, 32, 39, 18, 6, 5, 9, 12, -22.0], [\"22011\", 1610612744, \"GSW\", \"Golden State Warriors\", \"0021100516\", \"2012-02-29\", \"GSW @ ATL\", \"W\", 239, 85, 34, 83, 0.41, 1, 12, 0.083, 16, 17, 0.941, 9, 44, 53, 20, 7, 9, 11, 18, 3.0], [\"22011\", 1610612744, \"GSW\", \"Golden State Warriors\", \"0021100504\", \"2012-02-28\", \"GSW @ IND\", \"L\", 239, 78, 29, 85, 0.341, 3, 22, 0.136, 17, 24, 0.708, 19, 26, 45, 15, 8, 9, 15, 25, -24.0], [\"22011\", 1610612744, \"GSW\", \"Golden State Warriors\", \"0021100496\", \"2012-02-22\", \"GSW @ PHX\", \"W\", 241, 106, 39, 84, 0.464, 9, 20, 0.45, 19, 22, 0.864, 13, 27, 40, 19, 6, 4, 7, 18, 2.0], [\"22011\", 1610612744, \"GSW\", \"Golden State Warriors\", \"0021100480\", \"2012-02-20\", \"GSW vs. LAC\", \"W\", 239, 104, 38, 83, 0.458, 9, 23, 0.391, 19, 24, 0.792, 13, 25, 38, 22, 6, 6, 9, 18, 7.0], [\"22011\", 1610612744, \"GSW\", \"Golden State Warriors\", \"0021100458\", \"2012-02-18\", \"GSW @ MEM\", \"L\", 238, 103, 35, 82, 0.427, 12, 26, 0.462, 21, 27, 0.778, 11, 20, 31, 18, 9, 3, 13, 29, -1.0], [\"22011\", 1610612744, \"GSW\", \"Golden State Warriors\", \"0021100453\", \"2012-02-17\", \"GSW @ OKC\", \"L\", 241, 87, 31, 89, 0.348, 7, 23, 0.304, 18, 21, 0.857, 22, 21, 43, 18, 8, 8, 18, 24, -23.0], [\"22011\", 1610612744, \"GSW\", \"Golden State Warriors\", \"0021100440\", \"2012-02-15\", \"GSW vs. POR\", \"L\", 241, 91, 36, 76, 0.474, 7, 19, 0.368, 12, 16, 0.75, 9, 30, 39, 24, 8, 7, 13, 17, -2.0], [\"22011\", 1610612744, \"GSW\", \"Golden State Warriors\", \"0021100419\", \"2012-02-13\", \"GSW vs. PHX\", \"W\", 240, 102, 39, 86, 0.453, 7, 18, 0.389, 17, 21, 0.81, 15, 29, 44, 17, 7, 4, 10, 13, 6.0], [\"22011\", 1610612744, \"GSW\", \"Golden State Warriors\", \"0021100412\", \"2012-02-12\", \"GSW vs. HOU\", \"W\", 242, 106, 40, 79, 0.506, 13, 24, 0.542, 13, 18, 0.722, 6, 29, 35, 24, 8, 4, 15, 19, 9.0], [\"22011\", 1610612744, \"GSW\", \"Golden State Warriors\", \"0021100385\", \"2012-02-09\", \"GSW @ DEN\", \"W\", 241, 109, 41, 79, 0.519, 13, 25, 0.52, 14, 22, 0.636, 6, 35, 41, 22, 8, 14, 17, 23, 8.0], [\"22011\", 1610612744, \"GSW\", \"Golden State Warriors\", \"0021100372\", \"2012-02-07\", \"GSW vs. OKC\", \"L\", 240, 116, 44, 80, 0.55, 9, 21, 0.429, 19, 23, 0.826, 7, 29, 36, 28, 9, 4, 15, 22, -3.0], [\"22011\", 1610612744, \"GSW\", \"Golden State Warriors\", \"0021100353\", \"2012-02-04\", \"GSW @ SAC\", \"L\", 264, 106, 39, 90, 0.433, 16, 29, 0.552, 12, 13, 0.923, 10, 26, 36, 25, 10, 9, 16, 21, -8.0], [\"22011\", 1610612744, \"GSW\", \"Golden State Warriors\", \"0021100331\", \"2012-02-02\", \"GSW vs. UTA\", \"W\", 240, 119, 45, 96, 0.469, 8, 24, 0.333, 21, 25, 0.84, 22, 25, 47, 23, 10, 6, 8, 22, 18.0], [\"22011\", 1610612744, \"GSW\", \"Golden State Warriors\", \"0021100314\", \"2012-01-31\", \"GSW vs. SAC\", \"W\", 240, 93, 37, 91, 0.407, 8, 24, 0.333, 11, 13, 0.846, 9, 29, 38, 26, 8, 8, 8, 20, 3.0], [\"22011\", 1610612744, \"GSW\", \"Golden State Warriors\", \"0021100284\", \"2012-01-27\", \"GSW vs. OKC\", \"L\", 241, 109, 41, 87, 0.471, 12, 28, 0.429, 15, 19, 0.789, 10, 24, 34, 30, 12, 7, 20, 29, -11.0], [\"22011\", 1610612744, \"GSW\", \"Golden State Warriors\", \"0021100269\", \"2012-01-25\", \"GSW vs. POR\", \"W\", 241, 101, 41, 79, 0.519, 11, 20, 0.55, 8, 14, 0.571, 5, 25, 30, 33, 10, 3, 11, 18, 8.0], [\"22011\", 1610612744, \"GSW\", \"Golden State Warriors\", \"0021100251\", \"2012-01-23\", \"GSW vs. MEM\", \"L\", 239, 90, 38, 76, 0.5, 9, 25, 0.36, 5, 8, 0.625, 8, 31, 39, 24, 11, 6, 24, 22, -1.0], [\"22011\", 1610612744, \"GSW\", \"Golden State Warriors\", \"0021100226\", \"2012-01-20\", \"GSW vs. IND\", \"L\", 240, 91, 37, 80, 0.463, 10, 23, 0.435, 7, 8, 0.875, 7, 38, 45, 18, 3, 5, 18, 21, -3.0], [\"22011\", 1610612744, \"GSW\", \"Golden State Warriors\", \"0021100206\", \"2012-01-18\", \"GSW @ NJN\", \"L\", 240, 100, 37, 72, 0.514, 8, 16, 0.5, 18, 27, 0.667, 7, 19, 26, 23, 11, 8, 10, 21, -7.0], [\"22011\", 1610612744, \"GSW\", \"Golden State Warriors\", \"0021100196\", \"2012-01-17\", \"GSW @ CLE\", \"W\", 239, 105, 41, 94, 0.436, 9, 19, 0.474, 14, 19, 0.737, 12, 31, 43, 26, 10, 6, 12, 24, 10.0], [\"22011\", 1610612744, \"GSW\", \"Golden State Warriors\", \"0021100181\", \"2012-01-15\", \"GSW @ DET\", \"W\", 242, 99, 38, 73, 0.521, 3, 15, 0.2, 20, 27, 0.741, 10, 33, 43, 23, 9, 7, 16, 22, 8.0], [\"22011\", 1610612744, \"GSW\", \"Golden State Warriors\", \"0021100171\", \"2012-01-14\", \"GSW @ CHA\", \"L\", 240, 100, 35, 84, 0.417, 5, 20, 0.25, 25, 32, 0.781, 12, 29, 41, 18, 8, 5, 13, 31, -12.0], [\"22011\", 1610612744, \"GSW\", \"Golden State Warriors\", \"0021100158\", \"2012-01-12\", \"GSW vs. ORL\", \"L\", 241, 109, 43, 82, 0.524, 10, 23, 0.435, 13, 19, 0.684, 6, 32, 38, 27, 7, 2, 14, 36, -8.0], [\"22011\", 1610612744, \"GSW\", \"Golden State Warriors\", \"0021100142\", \"2012-01-10\", \"GSW vs. MIA\", \"W\", 267, 111, 38, 95, 0.4, 9, 27, 0.333, 26, 30, 0.867, 18, 34, 52, 23, 14, 9, 20, 26, 5.0], [\"22011\", 1610612744, \"GSW\", \"Golden State Warriors\", \"0021100119\", \"2012-01-07\", \"GSW vs. UTA\", \"L\", 240, 87, 29, 70, 0.414, 7, 19, 0.368, 22, 24, 0.917, 10, 32, 42, 19, 3, 3, 17, 23, -1.0], [\"22011\", 1610612744, \"GSW\", \"Golden State Warriors\", \"0021100109\", \"2012-01-06\", \"GSW @ LAL\", \"L\", 239, 90, 38, 77, 0.494, 4, 14, 0.286, 10, 19, 0.526, 10, 24, 34, 19, 9, 1, 18, 28, -7.0], [\"22011\", 1610612744, \"GSW\", \"Golden State Warriors\", \"0021100091\", \"2012-01-04\", \"GSW @ SAS\", \"L\", 241, 95, 37, 80, 0.463, 9, 20, 0.45, 12, 19, 0.632, 5, 32, 37, 18, 9, 6, 10, 20, -6.0], [\"22011\", 1610612744, \"GSW\", \"Golden State Warriors\", \"0021100066\", \"2012-01-02\", \"GSW @ PHX\", \"L\", 239, 91, 36, 72, 0.5, 7, 17, 0.412, 12, 20, 0.6, 7, 29, 36, 27, 6, 3, 17, 24, -11.0], [\"22011\", 1610612744, \"GSW\", \"Golden State Warriors\", \"0021100056\", \"2011-12-31\", \"GSW vs. PHI\", \"L\", 239, 79, 34, 89, 0.382, 4, 17, 0.235, 7, 12, 0.583, 16, 32, 48, 20, 7, 2, 14, 22, -28.0], [\"22011\", 1610612744, \"GSW\", \"Golden State Warriors\", \"0021100032\", \"2011-12-28\", \"GSW vs. NYK\", \"W\", 241, 92, 35, 77, 0.455, 6, 16, 0.375, 16, 24, 0.667, 11, 36, 47, 20, 12, 4, 14, 17, 14.0], [\"22011\", 1610612744, \"GSW\", \"Golden State Warriors\", \"0021100017\", \"2011-12-26\", \"GSW vs. CHI\", \"W\", 240, 99, 36, 77, 0.468, 4, 15, 0.267, 23, 31, 0.742, 7, 29, 36, 22, 16, 5, 10, 19, 8.0], [\"22011\", 1610612744, \"GSW\", \"Golden State Warriors\", \"0021100005\", \"2011-12-25\", \"GSW vs. LAC\", \"L\", 238, 86, 32, 82, 0.39, 5, 21, 0.238, 17, 24, 0.708, 17, 31, 48, 17, 4, 8, 16, 32, -19.0], [\"12011\", 1610612744, \"GSW\", \"Golden State Warriors\", \"0011100020\", \"2011-12-20\", \"GSW @ SAC\", \"L\", 241, 91, 33, 85, 0.388, 3, 17, 0.176, 22, 31, 0.71, 13, 34, 47, 23, 18, 9, 17, 28, -4.0], [\"12011\", 1610612744, \"GSW\", \"Golden State Warriors\", \"0011100008\", \"2011-12-17\", \"GSW vs. SAC\", \"W\", 241, 107, 43, 87, 0.494, 4, 14, 0.286, 17, 23, 0.739, 14, 33, 47, 25, 12, 3, 19, 25, 11.0], [\"22010\", 1610612744, \"GSW\", \"Golden State Warriors\", \"0021001227\", \"2011-04-13\", \"GSW vs. POR\", \"W\", 239, 110, 45, 88, 0.511, 10, 23, 0.435, 10, 15, 0.667, 9, 32, 41, 33, 15, 7, 11, 21, 24.0], [\"22010\", 1610612744, \"GSW\", \"Golden State Warriors\", \"0021001210\", \"2011-04-11\", \"GSW @ DEN\", \"L\", 240, 111, 40, 90, 0.444, 13, 25, 0.52, 18, 21, 0.857, 9, 28, 37, 20, 5, 6, 11, 24, -23.0], [\"22010\", 1610612744, \"GSW\", \"Golden State Warriors\", \"0021001200\", \"2011-04-10\", \"GSW vs. SAC\", \"L\", 240, 103, 42, 101, 0.416, 6, 22, 0.273, 13, 18, 0.722, 19, 24, 43, 27, 13, 7, 10, 22, -1.0], [\"22010\", 1610612744, \"GSW\", \"Golden State Warriors\", \"0021001173\", \"2011-04-06\", \"GSW vs. LAL\", \"W\", 240, 95, 36, 93, 0.387, 7, 25, 0.28, 16, 19, 0.842, 18, 32, 50, 23, 10, 2, 11, 18, 8.0], [\"22010\", 1610612744, \"GSW\", \"Golden State Warriors\", \"0021001160\", \"2011-04-05\", \"GSW @ POR\", \"W\", 239, 108, 41, 82, 0.5, 7, 16, 0.438, 19, 22, 0.864, 14, 33, 47, 16, 8, 5, 11, 19, 21.0], [\"22010\", 1610612744, \"GSW\", \"Golden State Warriors\", \"0021001136\", \"2011-04-02\", \"GSW vs. DAL\", \"W\", 241, 99, 35, 78, 0.449, 7, 21, 0.333, 22, 24, 0.917, 7, 36, 43, 22, 4, 6, 14, 21, 7.0], [\"22010\", 1610612744, \"GSW\", \"Golden State Warriors\", \"0021001112\", \"2011-03-30\", \"GSW @ MEM\", \"L\", 240, 91, 39, 83, 0.47, 6, 21, 0.286, 7, 11, 0.636, 13, 28, 41, 19, 3, 9, 14, 18, -19.0], [\"22010\", 1610612744, \"GSW\", \"Golden State Warriors\", \"0021001103\", \"2011-03-29\", \"GSW @ OKC\", \"L\", 266, 114, 44, 104, 0.423, 11, 26, 0.423, 15, 17, 0.882, 8, 34, 42, 25, 9, 5, 13, 23, -1.0], [\"22010\", 1610612744, \"GSW\", \"Golden State Warriors\", \"0021001093\", \"2011-03-27\", \"GSW vs. WAS\", \"W\", 240, 114, 45, 95, 0.474, 11, 24, 0.458, 13, 19, 0.684, 15, 29, 44, 26, 5, 7, 10, 19, 10.0], [\"22010\", 1610612744, \"GSW\", \"Golden State Warriors\", \"0021001079\", \"2011-03-25\", \"GSW vs. TOR\", \"W\", 239, 138, 51, 83, 0.614, 10, 17, 0.588, 26, 32, 0.813, 7, 33, 40, 33, 12, 5, 10, 22, 38.0], [\"22010\", 1610612744, \"GSW\", \"Golden State Warriors\", \"0021001062\", \"2011-03-23\", \"GSW @ HOU\", \"L\", 241, 112, 47, 92, 0.511, 7, 15, 0.467, 11, 18, 0.611, 13, 29, 42, 25, 6, 5, 12, 27, -19.0], [\"22010\", 1610612744, \"GSW\", \"Golden State Warriors\", \"0021001049\", \"2011-03-21\", \"GSW @ SAS\", \"L\", 240, 96, 38, 84, 0.452, 6, 19, 0.316, 14, 18, 0.778, 12, 33, 45, 16, 7, 3, 17, 19, -15.0], [\"22010\", 1610612744, \"GSW\", \"Golden State Warriors\", \"0021001042\", \"2011-03-20\", \"GSW @ DAL\", \"L\", 238, 73, 27, 77, 0.351, 5, 20, 0.25, 14, 20, 0.7, 6, 33, 39, 16, 7, 4, 16, 19, -28.0], [\"22010\", 1610612744, \"GSW\", \"Golden State Warriors\", \"0021001026\", \"2011-03-18\", \"GSW @ PHX\", \"L\", 240, 97, 35, 83, 0.422, 6, 19, 0.316, 21, 27, 0.778, 16, 35, 51, 16, 6, 4, 21, 23, -11.0], [\"22010\", 1610612744, \"GSW\", \"Golden State Warriors\", \"0021001012\", \"2011-03-16\", \"GSW vs. DAL\", \"L\", 239, 106, 42, 82, 0.512, 9, 24, 0.375, 13, 19, 0.684, 7, 24, 31, 24, 12, 3, 13, 18, -6.0], [\"22010\", 1610612744, \"GSW\", \"Golden State Warriors\", \"0021000998\", \"2011-03-14\", \"GSW @ SAC\", \"L\", 240, 119, 43, 86, 0.5, 11, 26, 0.423, 22, 33, 0.667, 4, 20, 24, 24, 9, 5, 13, 25, -10.0], [\"22010\", 1610612744, \"GSW\", \"Golden State Warriors\", \"0021000990\", \"2011-03-13\", \"GSW vs. MIN\", \"W\", 241, 100, 38, 87, 0.437, 7, 21, 0.333, 17, 22, 0.773, 13, 33, 46, 23, 16, 10, 14, 25, 23.0], [\"22010\", 1610612744, \"GSW\", \"Golden State Warriors\", \"0021000975\", \"2011-03-11\", \"GSW vs. ORL\", \"W\", 266, 123, 46, 93, 0.495, 21, 35, 0.6, 10, 13, 0.769, 8, 26, 34, 35, 12, 3, 12, 23, 3.0], [\"22010\", 1610612744, \"GSW\", \"Golden State Warriors\", \"0021000954\", \"2011-03-09\", \"GSW @ NJN\", \"L\", 240, 90, 37, 84, 0.44, 6, 14, 0.429, 10, 15, 0.667, 8, 33, 41, 16, 11, 3, 9, 19, -4.0], [\"22010\", 1610612744, \"GSW\", \"Golden State Warriors\", \"0021000948\", \"2011-03-08\", \"GSW @ CLE\", \"W\", 240, 95, 39, 86, 0.453, 8, 18, 0.444, 9, 10, 0.9, 14, 26, 40, 21, 9, 11, 15, 17, 10.0], [\"22010\", 1610612744, \"GSW\", \"Golden State Warriors\", \"0021000935\", \"2011-03-06\", \"GSW @ PHI\", \"L\", 264, 117, 48, 98, 0.49, 4, 19, 0.211, 17, 18, 0.944, 12, 27, 39, 19, 9, 6, 20, 26, -8.0], [\"22010\", 1610612744, \"GSW\", \"Golden State Warriors\", \"0021000918\", \"2011-03-04\", \"GSW @ BOS\", \"L\", 240, 103, 40, 84, 0.476, 5, 19, 0.263, 18, 21, 0.857, 15, 24, 39, 17, 9, 3, 16, 19, -4.0], [\"22010\", 1610612744, \"GSW\", \"Golden State Warriors\", \"0021000904\", \"2011-03-02\", \"GSW @ WAS\", \"W\", 240, 106, 36, 85, 0.424, 7, 20, 0.35, 27, 34, 0.794, 14, 40, 54, 24, 6, 7, 13, 25, 4.0], [\"22010\", 1610612744, \"GSW\", \"Golden State Warriors\", \"0021000894\", \"2011-03-01\", \"GSW @ IND\", \"L\", 241, 100, 38, 89, 0.427, 11, 27, 0.407, 13, 18, 0.722, 11, 33, 44, 19, 4, 7, 12, 26, -9.0], [\"22010\", 1610612744, \"GSW\", \"Golden State Warriors\", \"0021000882\", \"2011-02-27\", \"GSW @ MIN\", \"L\", 241, 123, 44, 96, 0.458, 13, 32, 0.406, 22, 24, 0.917, 14, 26, 40, 21, 13, 9, 13, 24, -3.0], [\"22010\", 1610612744, \"GSW\", \"Golden State Warriors\", \"0021000870\", \"2011-02-25\", \"GSW vs. ATL\", \"L\", 241, 79, 33, 89, 0.371, 2, 12, 0.167, 11, 13, 0.846, 17, 17, 34, 21, 11, 8, 14, 14, -16.0], [\"22010\", 1610612744, \"GSW\", \"Golden State Warriors\", \"0021000845\", \"2011-02-22\", \"GSW vs. BOS\", \"L\", 240, 93, 33, 84, 0.393, 5, 19, 0.263, 22, 28, 0.786, 11, 24, 35, 18, 11, 8, 11, 19, -22.0], [\"22010\", 1610612744, \"GSW\", \"Golden State Warriors\", \"0021000834\", \"2011-02-16\", \"GSW @ UTA\", \"W\", 239, 107, 42, 77, 0.545, 8, 19, 0.421, 15, 22, 0.682, 7, 27, 34, 17, 9, 4, 17, 27, 7.0], [\"22010\", 1610612744, \"GSW\", \"Golden State Warriors\", \"0021000823\", \"2011-02-15\", \"GSW vs. NOH\", \"W\", 242, 102, 39, 77, 0.506, 10, 19, 0.526, 14, 17, 0.824, 10, 22, 32, 25, 8, 5, 13, 23, 13.0], [\"22010\", 1610612744, \"GSW\", \"Golden State Warriors\", \"0021000811\", \"2011-02-13\", \"GSW vs. OKC\", \"W\", 240, 100, 43, 99, 0.434, 7, 23, 0.304, 7, 9, 0.778, 20, 27, 47, 28, 8, 1, 8, 20, 6.0], [\"22010\", 1610612744, \"GSW\", \"Golden State Warriors\", \"0021000784\", \"2011-02-10\", \"GSW @ PHX\", \"L\", 240, 88, 36, 90, 0.4, 6, 20, 0.3, 10, 17, 0.588, 9, 23, 32, 19, 11, 6, 12, 15, -24.0], [\"22010\", 1610612744, \"GSW\", \"Golden State Warriors\", \"0021000782\", \"2011-02-09\", \"GSW vs. DEN\", \"W\", 240, 116, 47, 92, 0.511, 14, 28, 0.5, 8, 12, 0.667, 12, 30, 42, 30, 12, 2, 14, 21, 2.0], [\"22010\", 1610612744, \"GSW\", \"Golden State Warriors\", \"0021000765\", \"2011-02-07\", \"GSW vs. PHX\", \"L\", 240, 92, 36, 83, 0.434, 2, 18, 0.111, 18, 26, 0.692, 14, 36, 50, 20, 4, 3, 12, 14, -12.0], [\"22010\", 1610612744, \"GSW\", \"Golden State Warriors\", \"0021000753\", \"2011-02-05\", \"GSW vs. CHI\", \"W\", 240, 101, 38, 79, 0.481, 6, 18, 0.333, 19, 23, 0.826, 5, 30, 35, 26, 8, 4, 7, 15, 11.0], [\"22010\", 1610612744, \"GSW\", \"Golden State Warriors\", \"0021000731\", \"2011-02-03\", \"GSW vs. MIL\", \"W\", 242, 100, 39, 77, 0.506, 12, 24, 0.5, 10, 13, 0.769, 8, 28, 36, 23, 7, 6, 17, 13, 6.0], [\"22010\", 1610612744, \"GSW\", \"Golden State Warriors\", \"0021000707\", \"2011-01-30\", \"GSW vs. UTA\", \"W\", 240, 96, 36, 73, 0.493, 8, 20, 0.4, 16, 20, 0.8, 9, 38, 47, 21, 8, 10, 17, 17, 15.0], [\"22010\", 1610612744, \"GSW\", \"Golden State Warriors\", \"0021000691\", \"2011-01-28\", \"GSW vs. CHA\", \"L\", 265, 113, 41, 88, 0.466, 11, 25, 0.44, 20, 23, 0.87, 16, 33, 49, 26, 12, 4, 18, 24, -8.0], [\"22010\", 1610612744, \"GSW\", \"Golden State Warriors\", \"0021000677\", \"2011-01-26\", \"GSW vs. NOH\", \"L\", 239, 103, 38, 75, 0.507, 4, 13, 0.308, 23, 26, 0.885, 9, 19, 28, 19, 4, 4, 21, 17, -9.0], [\"22010\", 1610612744, \"GSW\", \"Golden State Warriors\", \"0021000662\", \"2011-01-24\", \"GSW vs. SAS\", \"L\", 239, 102, 39, 85, 0.459, 5, 15, 0.333, 19, 20, 0.95, 6, 30, 36, 21, 4, 5, 9, 21, -11.0], [\"22010\", 1610612744, \"GSW\", \"Golden State Warriors\", \"0021000651\", \"2011-01-22\", \"GSW @ LAC\", \"L\", 239, 109, 39, 85, 0.459, 9, 27, 0.333, 22, 27, 0.815, 13, 29, 42, 23, 6, 2, 11, 29, -4.0], [\"22010\", 1610612744, \"GSW\", \"Golden State Warriors\", \"0021000638\", \"2011-01-21\", \"GSW vs. SAC\", \"W\", 265, 119, 49, 95, 0.516, 4, 18, 0.222, 17, 20, 0.85, 10, 34, 44, 21, 13, 5, 19, 26, 7.0], [\"22010\", 1610612744, \"GSW\", \"Golden State Warriors\", \"0021000624\", \"2011-01-19\", \"GSW vs. IND\", \"W\", 241, 110, 45, 88, 0.511, 6, 16, 0.375, 14, 19, 0.737, 7, 28, 35, 22, 11, 5, 12, 18, 2.0], [\"22010\", 1610612744, \"GSW\", \"Golden State Warriors\", \"0021000607\", \"2011-01-17\", \"GSW vs. NJN\", \"W\", 240, 109, 41, 83, 0.494, 6, 18, 0.333, 21, 28, 0.75, 11, 24, 35, 25, 5, 10, 6, 21, 9.0], [\"22010\", 1610612744, \"GSW\", \"Golden State Warriors\", \"0021000585\", \"2011-01-14\", \"GSW vs. LAC\", \"W\", 240, 122, 43, 82, 0.524, 14, 26, 0.538, 22, 24, 0.917, 7, 28, 35, 29, 9, 3, 14, 22, 10.0], [\"22010\", 1610612744, \"GSW\", \"Golden State Warriors\", \"0021000571\", \"2011-01-12\", \"GSW vs. LAL\", \"L\", 240, 110, 44, 87, 0.506, 13, 30, 0.433, 9, 11, 0.818, 7, 20, 27, 28, 10, 5, 11, 24, -5.0], [\"22010\", 1610612744, \"GSW\", \"Golden State Warriors\", \"0021000545\", \"2011-01-09\", \"GSW @ LAC\", \"L\", 240, 91, 32, 82, 0.39, 7, 22, 0.318, 20, 28, 0.714, 12, 32, 44, 20, 12, 6, 19, 32, -14.0], [\"22010\", 1610612744, \"GSW\", \"Golden State Warriors\", \"0021000534\", \"2011-01-07\", \"GSW vs. CLE\", \"W\", 241, 116, 41, 85, 0.482, 14, 28, 0.5, 20, 21, 0.952, 11, 31, 42, 26, 9, 8, 17, 25, 18.0], [\"22010\", 1610612744, \"GSW\", \"Golden State Warriors\", \"0021000518\", \"2011-01-05\", \"GSW @ NOH\", \"W\", 242, 110, 39, 81, 0.481, 8, 20, 0.4, 24, 32, 0.75, 10, 27, 37, 22, 9, 3, 8, 23, 7.0], [\"22010\", 1610612744, \"GSW\", \"Golden State Warriors\", \"0021000500\", \"2011-01-03\", \"GSW @ ORL\", \"L\", 241, 90, 36, 88, 0.409, 8, 22, 0.364, 10, 13, 0.769, 13, 30, 43, 19, 9, 3, 19, 25, -20.0], [\"22010\", 1610612744, \"GSW\", \"Golden State Warriors\", \"0021000486\", \"2011-01-01\", \"GSW @ MIA\", \"L\", 241, 107, 41, 87, 0.471, 13, 27, 0.481, 12, 16, 0.75, 7, 29, 36, 19, 7, 2, 12, 31, -7.0], [\"22010\", 1610612744, \"GSW\", \"Golden State Warriors\", \"0021000477\", \"2010-12-31\", \"GSW @ CHA\", \"W\", 240, 96, 38, 77, 0.494, 10, 24, 0.417, 10, 16, 0.625, 7, 32, 39, 16, 9, 8, 13, 21, 1.0], [\"22010\", 1610612744, \"GSW\", \"Golden State Warriors\", \"0021000462\", \"2010-12-29\", \"GSW @ ATL\", \"L\", 241, 93, 37, 83, 0.446, 8, 24, 0.333, 11, 15, 0.733, 10, 33, 43, 22, 8, 2, 15, 13, -10.0], [\"22010\", 1610612744, \"GSW\", \"Golden State Warriors\", \"0021000454\", \"2010-12-27\", \"GSW vs. PHI\", \"W\", 240, 110, 39, 83, 0.47, 15, 23, 0.652, 17, 21, 0.81, 10, 34, 44, 31, 9, 6, 12, 17, 15.0], [\"22010\", 1610612744, \"GSW\", \"Golden State Warriors\", \"0021000437\", \"2010-12-25\", \"GSW vs. POR\", \"W\", 239, 109, 40, 83, 0.482, 10, 22, 0.455, 19, 21, 0.905, 7, 25, 32, 31, 7, 8, 12, 16, 7.0], [\"22010\", 1610612744, \"GSW\", \"Golden State Warriors\", \"0021000419\", \"2010-12-21\", \"GSW @ SAC\", \"W\", 267, 117, 42, 89, 0.472, 10, 25, 0.4, 23, 33, 0.697, 10, 38, 48, 24, 12, 8, 19, 28, 8.0], [\"22010\", 1610612744, \"GSW\", \"Golden State Warriors\", \"0021000413\", \"2010-12-20\", \"GSW vs. HOU\", \"L\", 239, 112, 43, 84, 0.512, 7, 22, 0.318, 19, 27, 0.704, 13, 22, 35, 29, 9, 6, 14, 30, -9.0], [\"22010\", 1610612744, \"GSW\", \"Golden State Warriors\", \"0021000399\", \"2010-12-18\", \"GSW @ POR\", \"L\", 240, 95, 36, 81, 0.444, 6, 17, 0.353, 17, 23, 0.739, 15, 27, 42, 17, 11, 4, 17, 23, -1.0], [\"22010\", 1610612744, \"GSW\", \"Golden State Warriors\", \"0021000366\", \"2010-12-14\", \"GSW vs. MIN\", \"W\", 239, 108, 39, 77, 0.506, 11, 22, 0.5, 19, 31, 0.613, 12, 31, 43, 21, 9, 3, 17, 20, 9.0], [\"22010\", 1610612744, \"GSW\", \"Golden State Warriors\", \"0021000359\", \"2010-12-13\", \"GSW @ UTA\", \"L\", 240, 95, 32, 81, 0.395, 11, 25, 0.44, 20, 31, 0.645, 18, 28, 46, 18, 8, 1, 19, 23, -13.0], [\"22010\", 1610612744, \"GSW\", \"Golden State Warriors\", \"0021000340\", \"2010-12-10\", \"GSW vs. MIA\", \"L\", 240, 84, 31, 83, 0.373, 8, 24, 0.333, 14, 21, 0.667, 16, 25, 41, 24, 9, 2, 14, 17, -22.0], [\"22010\", 1610612744, \"GSW\", \"Golden State Warriors\", \"0021000322\", \"2010-12-08\", \"GSW @ SAS\", \"L\", 242, 94, 37, 82, 0.451, 12, 23, 0.522, 8, 11, 0.727, 13, 32, 45, 24, 6, 2, 21, 15, -17.0], [\"22010\", 1610612744, \"GSW\", \"Golden State Warriors\", \"0021000312\", \"2010-12-07\", \"GSW @ DAL\", \"L\", 241, 100, 42, 90, 0.467, 10, 20, 0.5, 6, 13, 0.462, 13, 31, 44, 24, 10, 4, 19, 20, -5.0], [\"22010\", 1610612744, \"GSW\", \"Golden State Warriors\", \"0021000297\", \"2010-12-05\", \"GSW @ OKC\", \"L\", 241, 109, 42, 93, 0.452, 7, 20, 0.35, 18, 21, 0.857, 18, 26, 44, 20, 6, 5, 16, 27, -5.0], [\"22010\", 1610612744, \"GSW\", \"Golden State Warriors\", \"0021000274\", \"2010-12-02\", \"GSW vs. PHX\", \"L\", 240, 101, 41, 82, 0.5, 9, 18, 0.5, 10, 17, 0.588, 7, 24, 31, 27, 11, 3, 15, 21, -6.0], [\"22010\", 1610612744, \"GSW\", \"Golden State Warriors\", \"0021000260\", \"2010-11-30\", \"GSW vs. SAS\", \"L\", 240, 98, 41, 87, 0.471, 5, 18, 0.278, 11, 18, 0.611, 10, 34, 44, 20, 5, 4, 16, 18, -20.0], [\"22010\", 1610612744, \"GSW\", \"Golden State Warriors\", \"0021000238\", \"2010-11-27\", \"GSW @ MIN\", \"W\", 241, 104, 40, 79, 0.506, 12, 18, 0.667, 12, 17, 0.706, 6, 26, 32, 26, 16, 3, 10, 23, 10.0], [\"22010\", 1610612744, \"GSW\", \"Golden State Warriors\", \"0021000232\", \"2010-11-26\", \"GSW @ MEM\", \"L\", 241, 111, 41, 84, 0.488, 9, 20, 0.45, 20, 23, 0.87, 13, 31, 44, 28, 9, 5, 17, 26, -5.0], [\"22010\", 1610612744, \"GSW\", \"Golden State Warriors\", \"0021000217\", \"2010-11-24\", \"GSW @ HOU\", \"L\", 242, 101, 42, 90, 0.467, 5, 19, 0.263, 12, 18, 0.667, 11, 27, 38, 14, 10, 2, 10, 35, -10.0], [\"22010\", 1610612744, \"GSW\", \"Golden State Warriors\", \"0021000201\", \"2010-11-22\", \"GSW vs. DEN\", \"L\", 240, 89, 35, 87, 0.402, 6, 26, 0.231, 13, 16, 0.813, 10, 28, 38, 16, 9, 5, 10, 21, -17.0], [\"22010\", 1610612744, \"GSW\", \"Golden State Warriors\", \"0021000194\", \"2010-11-21\", \"GSW @ LAL\", \"L\", 239, 89, 32, 91, 0.352, 3, 20, 0.15, 22, 26, 0.846, 23, 20, 43, 16, 10, 5, 17, 17, -28.0], [\"22010\", 1610612744, \"GSW\", \"Golden State Warriors\", \"0021000181\", \"2010-11-19\", \"GSW vs. NYK\", \"L\", 240, 119, 47, 91, 0.516, 13, 24, 0.542, 12, 17, 0.706, 10, 23, 33, 24, 7, 2, 10, 25, -6.0], [\"22010\", 1610612744, \"GSW\", \"Golden State Warriors\", \"0021000149\", \"2010-11-15\", \"GSW vs. DET\", \"W\", 240, 101, 36, 85, 0.424, 7, 18, 0.389, 22, 27, 0.815, 14, 30, 44, 22, 13, 5, 12, 25, 4.0], [\"22010\", 1610612744, \"GSW\", \"Golden State Warriors\", \"0021000137\", \"2010-11-13\", \"GSW @ MIL\", \"L\", 240, 72, 28, 82, 0.341, 10, 22, 0.455, 6, 10, 0.6, 11, 31, 42, 18, 10, 4, 15, 23, -7.0], [\"22010\", 1610612744, \"GSW\", \"Golden State Warriors\", \"0021000119\", \"2010-11-11\", \"GSW @ CHI\", \"L\", 240, 90, 39, 95, 0.411, 7, 23, 0.304, 5, 7, 0.714, 18, 21, 39, 20, 9, 4, 19, 16, -30.0], [\"22010\", 1610612744, \"GSW\", \"Golden State Warriors\", \"0021000113\", \"2010-11-10\", \"GSW @ NYK\", \"W\", 240, 122, 47, 89, 0.528, 5, 10, 0.5, 23, 32, 0.719, 9, 27, 36, 23, 13, 3, 14, 33, 5.0], [\"22010\", 1610612744, \"GSW\", \"Golden State Warriors\", \"0021000097\", \"2010-11-08\", \"GSW @ TOR\", \"W\", 239, 109, 39, 74, 0.527, 5, 16, 0.313, 26, 32, 0.813, 11, 31, 42, 19, 13, 7, 20, 26, 7.0], [\"22010\", 1610612744, \"GSW\", \"Golden State Warriors\", \"0021000091\", \"2010-11-07\", \"GSW @ DET\", \"L\", 241, 97, 36, 84, 0.429, 6, 23, 0.261, 19, 23, 0.826, 15, 31, 46, 19, 6, 2, 14, 22, -5.0], [\"22010\", 1610612744, \"GSW\", \"Golden State Warriors\", \"0021000078\", \"2010-11-05\", \"GSW vs. UTA\", \"W\", 241, 85, 35, 93, 0.376, 2, 14, 0.143, 13, 22, 0.591, 21, 31, 52, 16, 11, 3, 16, 23, 7.0], [\"22010\", 1610612744, \"GSW\", \"Golden State Warriors\", \"0021000063\", \"2010-11-03\", \"GSW vs. MEM\", \"W\", 241, 115, 38, 92, 0.413, 13, 30, 0.433, 26, 34, 0.765, 19, 29, 48, 26, 11, 8, 19, 23, 6.0], [\"22010\", 1610612744, \"GSW\", \"Golden State Warriors\", \"0021000043\", \"2010-10-31\", \"GSW @ LAL\", \"L\", 240, 83, 36, 89, 0.404, 5, 20, 0.25, 6, 13, 0.462, 15, 27, 42, 27, 11, 4, 17, 26, -24.0], [\"22010\", 1610612744, \"GSW\", \"Golden State Warriors\", \"0021000029\", \"2010-10-29\", \"GSW vs. LAC\", \"W\", 241, 109, 43, 81, 0.531, 14, 24, 0.583, 9, 17, 0.529, 9, 37, 46, 32, 8, 7, 17, 25, 18.0], [\"22010\", 1610612744, \"GSW\", \"Golden State Warriors\", \"0021000015\", \"2010-10-27\", \"GSW vs. HOU\", \"W\", 242, 132, 51, 92, 0.554, 8, 20, 0.4, 22, 26, 0.846, 14, 31, 45, 25, 5, 7, 12, 30, 4.0], [\"12010\", 1610612744, \"GSW\", \"Golden State Warriors\", \"0011000113\", \"2010-10-22\", \"GSW @ LAL\", \"L\", 266, 102, 36, 76, 0.474, 5, 16, 0.313, 25, 30, 0.833, 11, 36, 47, 19, 10, 4, 24, 25, -3.0], [\"12010\", 1610612744, \"GSW\", \"Golden State Warriors\", \"0011000106\", \"2010-10-21\", \"GSW @ LAL\", \"L\", 239, 99, 41, 94, 0.436, 1, 14, 0.071, 16, 20, 0.8, 21, 27, 48, 22, 12, 2, 19, 21, -21.0], [\"12010\", 1610612744, \"GSW\", \"Golden State Warriors\", \"0011000097\", \"2010-10-19\", \"GSW @ PHX\", \"L\", 242, 87, 33, 100, 0.33, 5, 26, 0.192, 16, 22, 0.727, 21, 39, 60, 14, 11, 4, 17, 24, -5.0], [\"12010\", 1610612744, \"GSW\", \"Golden State Warriors\", \"0011000089\", \"2010-10-18\", \"GSW vs. POR\", \"W\", 242, 100, 36, 81, 0.444, 4, 19, 0.211, 24, 34, 0.706, 16, 32, 48, 22, 14, 5, 18, 20, 22.0], [\"12010\", 1610612744, \"GSW\", \"Golden State Warriors\", \"0011000075\", \"2010-10-16\", \"GSW @ POR\", \"L\", 241, 105, 39, 78, 0.5, 7, 18, 0.389, 20, 25, 0.8, 10, 28, 38, 27, 7, 3, 19, 21, -13.0], [\"12010\", 1610612744, \"GSW\", \"Golden State Warriors\", \"0011000049\", \"2010-10-12\", \"GSW @ SAC\", \"L\", 239, 97, 35, 83, 0.422, 2, 12, 0.167, 25, 30, 0.833, 7, 26, 33, 16, 9, 3, 21, 33, -19.0], [\"12010\", 1610612744, \"GSW\", \"Golden State Warriors\", \"0011000040\", \"2010-10-10\", \"GSW vs. SAC\", \"W\", 239, 95, 35, 85, 0.412, 3, 20, 0.15, 22, 28, 0.786, 11, 43, 54, 17, 9, 1, 11, 18, 9.0], [\"12010\", 1610612744, \"GSW\", \"Golden State Warriors\", \"0011000029\", \"2010-10-08\", \"GSW vs. LAC\", \"W\", 240, 127, 44, 79, 0.557, 14, 21, 0.667, 25, 28, 0.893, 8, 41, 49, 28, 12, 7, 18, 25, 40.0], [\"22010\", 1610612744, \"GSW\", \"Golden State Warriors\", \"1521000035\", \"2010-07-15\", \"GSW @ PHX\", \"W\", 201, 86, 34, 82, 0.415, 6, 16, 0.375, 12, 20, 0.6, 16, 30, 46, 21, 6, 4, 16, 31, 10.0], [\"22010\", 1610612744, \"GSW\", \"Golden State Warriors\", \"1521000026\", \"2010-07-13\", \"GSW @ MIA\", \"W\", 200, 72, 24, 66, 0.364, 10, 21, 0.476, 14, 16, 0.875, 4, 26, 30, 16, 6, 3, 17, 27, 3.0], [\"22010\", 1610612744, \"GSW\", \"Golden State Warriors\", \"1521000011\", \"2010-07-11\", \"GSW vs. WAS\", \"L\", 200, 79, 27, 72, 0.375, 8, 20, 0.4, 17, 22, 0.773, 12, 19, 31, 11, 8, 3, 14, 33, -5.0], [\"22010\", 1610612744, \"GSW\", \"Golden State Warriors\", \"1521000007\", \"2010-07-10\", \"GSW vs. DET\", \"L\", 200, 69, 19, 61, 0.311, 1, 8, 0.125, 30, 39, 0.769, 10, 23, 33, 8, 5, 0, 11, 29, -20.0], [\"22010\", 1610612744, \"GSW\", \"Golden State Warriors\", \"1521000004\", \"2010-07-09\", \"GSW @ NOH\", \"W\", 199, 77, 27, 66, 0.409, 4, 12, 0.333, 19, 28, 0.679, 9, 33, 42, 18, 3, 4, 12, 26, 1.0], [\"22009\", 1610612744, \"GSW\", \"Golden State Warriors\", \"0020901229\", \"2010-04-14\", \"GSW @ POR\", \"W\", 239, 122, 44, 88, 0.5, 12, 30, 0.4, 22, 31, 0.71, 9, 31, 40, 22, 10, 4, 7, 18, 6.0], [\"22009\", 1610612744, \"GSW\", \"Golden State Warriors\", \"0020901214\", \"2010-04-13\", \"GSW vs. UTA\", \"L\", 240, 94, 32, 84, 0.381, 7, 23, 0.304, 23, 28, 0.821, 6, 29, 35, 20, 11, 4, 14, 19, -9.0], [\"22009\", 1610612744, \"GSW\", \"Golden State Warriors\", \"0020901200\", \"2010-04-11\", \"GSW vs. OKC\", \"W\", 240, 120, 41, 81, 0.506, 12, 21, 0.571, 26, 33, 0.788, 8, 35, 43, 25, 6, 8, 15, 20, 3.0], [\"22009\", 1610612744, \"GSW\", \"Golden State Warriors\", \"0020901194\", \"2010-04-10\", \"GSW @ LAC\", \"L\", 239, 104, 37, 92, 0.402, 14, 32, 0.438, 16, 21, 0.762, 8, 31, 39, 19, 9, 1, 11, 22, -3.0], [\"22009\", 1610612744, \"GSW\", \"Golden State Warriors\", \"0020901163\", \"2010-04-07\", \"GSW @ MIN\", \"W\", 240, 116, 46, 82, 0.561, 8, 16, 0.5, 16, 18, 0.889, 7, 32, 39, 33, 11, 1, 15, 23, 9.0], [\"22009\", 1610612744, \"GSW\", \"Golden State Warriors\", \"0020901152\", \"2010-04-06\", \"GSW @ WAS\", \"L\", 240, 94, 33, 84, 0.393, 7, 20, 0.35, 21, 23, 0.913, 8, 23, 31, 16, 6, 7, 6, 19, -18.0], [\"22009\", 1610612744, \"GSW\", \"Golden State Warriors\", \"0020901145\", \"2010-04-04\", \"GSW @ TOR\", \"W\", 240, 113, 41, 86, 0.477, 13, 26, 0.5, 18, 25, 0.72, 7, 33, 40, 31, 7, 3, 13, 28, 1.0], [\"22009\", 1610612744, \"GSW\", \"Golden State Warriors\", \"0020901130\", \"2010-04-02\", \"GSW vs. NYK\", \"W\", 240, 128, 54, 94, 0.574, 7, 21, 0.333, 13, 19, 0.684, 8, 32, 40, 26, 12, 5, 10, 16, 11.0], [\"22009\", 1610612744, \"GSW\", \"Golden State Warriors\", \"0020901119\", \"2010-03-31\", \"GSW @ UTA\", \"L\", 239, 104, 32, 89, 0.36, 4, 26, 0.154, 36, 42, 0.857, 8, 27, 35, 13, 7, 2, 13, 25, -24.0], [\"22009\", 1610612744, \"GSW\", \"Golden State Warriors\", \"0020901096\", \"2010-03-28\", \"GSW @ LAC\", \"W\", 240, 121, 47, 88, 0.534, 8, 18, 0.444, 19, 23, 0.826, 8, 30, 38, 25, 7, 6, 11, 25, 18.0], [\"22009\", 1610612744, \"GSW\", \"Golden State Warriors\", \"0020901086\", \"2010-03-27\", \"GSW vs. DAL\", \"L\", 240, 90, 34, 102, 0.333, 8, 29, 0.276, 14, 15, 0.933, 16, 43, 59, 18, 9, 3, 15, 10, -21.0], [\"22009\", 1610612744, \"GSW\", \"Golden State Warriors\", \"0020901067\", \"2010-03-24\", \"GSW vs. MEM\", \"W\", 239, 128, 48, 88, 0.545, 10, 24, 0.417, 22, 27, 0.815, 13, 32, 45, 30, 10, 4, 19, 22, 18.0], [\"22009\", 1610612744, \"GSW\", \"Golden State Warriors\", \"0020901052\", \"2010-03-22\", \"GSW vs. PHX\", \"L\", 239, 131, 46, 92, 0.5, 9, 27, 0.333, 30, 37, 0.811, 8, 27, 35, 24, 11, 5, 12, 29, -2.0], [\"22009\", 1610612744, \"GSW\", \"Golden State Warriors\", \"0020901032\", \"2010-03-20\", \"GSW @ MEM\", \"L\", 240, 107, 45, 93, 0.484, 6, 21, 0.286, 11, 13, 0.846, 7, 30, 37, 20, 11, 2, 15, 19, -16.0], [\"22009\", 1610612744, \"GSW\", \"Golden State Warriors\", \"0020901024\", \"2010-03-19\", \"GSW @ SAS\", \"L\", 240, 116, 44, 91, 0.484, 12, 32, 0.375, 16, 21, 0.762, 3, 26, 29, 25, 5, 5, 9, 25, -31.0], [\"22009\", 1610612744, \"GSW\", \"Golden State Warriors\", \"0020901014\", \"2010-03-17\", \"GSW vs. NOH\", \"W\", 240, 131, 47, 87, 0.54, 13, 27, 0.481, 24, 26, 0.923, 6, 26, 32, 32, 14, 3, 13, 25, 10.0], [\"22009\", 1610612744, \"GSW\", \"Golden State Warriors\", \"0020900995\", \"2010-03-15\", \"GSW vs. LAL\", \"L\", 239, 121, 48, 100, 0.48, 13, 30, 0.433, 12, 13, 0.923, 7, 18, 25, 29, 14, 1, 5, 26, -2.0], [\"22009\", 1610612744, \"GSW\", \"Golden State Warriors\", \"0020900982\", \"2010-03-13\", \"GSW vs. TOR\", \"W\", 239, 124, 45, 95, 0.474, 16, 27, 0.593, 18, 22, 0.818, 18, 24, 42, 22, 11, 1, 11, 16, 12.0], [\"22009\", 1610612744, \"GSW\", \"Golden State Warriors\", \"0020900963\", \"2010-03-11\", \"GSW vs. POR\", \"L\", 240, 105, 38, 80, 0.475, 10, 26, 0.385, 19, 21, 0.905, 11, 25, 36, 19, 9, 2, 15, 31, -5.0], [\"22009\", 1610612744, \"GSW\", \"Golden State Warriors\", \"0020900944\", \"2010-03-08\", \"GSW @ NOH\", \"L\", 240, 131, 50, 85, 0.588, 13, 25, 0.52, 18, 21, 0.857, 4, 19, 23, 26, 9, 3, 13, 23, -4.0], [\"22009\", 1610612744, \"GSW\", \"Golden State Warriors\", \"0020900925\", \"2010-03-06\", \"GSW @ CHA\", \"L\", 240, 90, 34, 89, 0.382, 10, 23, 0.435, 12, 19, 0.632, 12, 24, 36, 18, 6, 5, 8, 21, -11.0], [\"22009\", 1610612744, \"GSW\", \"Golden State Warriors\", \"0020900919\", \"2010-03-05\", \"GSW @ ATL\", \"L\", 241, 122, 43, 86, 0.5, 11, 26, 0.423, 25, 31, 0.806, 14, 25, 39, 29, 2, 2, 11, 26, -5.0], [\"22009\", 1610612744, \"GSW\", \"Golden State Warriors\", \"0020900900\", \"2010-03-03\", \"GSW @ ORL\", \"L\", 239, 90, 35, 82, 0.427, 10, 23, 0.435, 10, 15, 0.667, 6, 23, 29, 21, 9, 6, 16, 19, -27.0], [\"22009\", 1610612744, \"GSW\", \"Golden State Warriors\", \"0020900896\", \"2010-03-02\", \"GSW @ MIA\", \"L\", 239, 106, 44, 86, 0.512, 9, 31, 0.29, 9, 17, 0.529, 5, 30, 35, 22, 10, 2, 12, 27, -4.0], [\"22009\", 1610612744, \"GSW\", \"Golden State Warriors\", \"0020900877\", \"2010-02-27\", \"GSW vs. DET\", \"W\", 240, 95, 35, 85, 0.412, 10, 31, 0.323, 15, 25, 0.6, 10, 36, 46, 25, 11, 4, 17, 18, 7.0], [\"22009\", 1610612744, \"GSW\", \"Golden State Warriors\", \"0020900858\", \"2010-02-25\", \"GSW vs. DEN\", \"L\", 241, 112, 40, 96, 0.417, 10, 24, 0.417, 22, 25, 0.88, 16, 30, 46, 22, 6, 6, 11, 19, -15.0], [\"22009\", 1610612744, \"GSW\", \"Golden State Warriors\", \"0020900844\", \"2010-02-23\", \"GSW vs. PHI\", \"L\", 241, 102, 36, 95, 0.379, 13, 33, 0.394, 17, 21, 0.81, 14, 34, 48, 21, 9, 2, 14, 20, -8.0], [\"22009\", 1610612744, \"GSW\", \"Golden State Warriors\", \"0020900829\", \"2010-02-21\", \"GSW vs. ATL\", \"W\", 240, 108, 45, 84, 0.536, 3, 12, 0.25, 15, 21, 0.714, 9, 31, 40, 21, 9, 6, 13, 22, 4.0], [\"22009\", 1610612744, \"GSW\", \"Golden State Warriors\", \"0020900814\", \"2010-02-19\", \"GSW vs. UTA\", \"L\", 240, 89, 29, 78, 0.372, 8, 21, 0.381, 23, 25, 0.92, 10, 38, 48, 21, 13, 3, 22, 21, -11.0], [\"22009\", 1610612744, \"GSW\", \"Golden State Warriors\", \"0020900800\", \"2010-02-17\", \"GSW vs. SAC\", \"W\", 240, 130, 50, 97, 0.515, 12, 24, 0.5, 18, 21, 0.857, 9, 39, 48, 30, 10, 2, 9, 18, 32.0], [\"22009\", 1610612744, \"GSW\", \"Golden State Warriors\", \"0020900790\", \"2010-02-16\", \"GSW @ LAL\", \"L\", 240, 94, 35, 84, 0.417, 10, 27, 0.37, 14, 19, 0.737, 3, 33, 36, 24, 8, 3, 17, 25, -10.0], [\"22009\", 1610612744, \"GSW\", \"Golden State Warriors\", \"0020900778\", \"2010-02-10\", \"GSW vs. LAC\", \"W\", 240, 132, 49, 79, 0.62, 13, 22, 0.591, 21, 28, 0.75, 6, 36, 42, 36, 7, 2, 12, 21, 30.0], [\"22009\", 1610612744, \"GSW\", \"Golden State Warriors\", \"0020900756\", \"2010-02-08\", \"GSW vs. DAL\", \"L\", 239, 117, 42, 85, 0.494, 8, 20, 0.4, 25, 29, 0.862, 11, 29, 40, 28, 7, 3, 15, 25, -10.0], [\"22009\", 1610612744, \"GSW\", \"Golden State Warriors\", \"0020900751\", \"2010-02-06\", \"GSW vs. OKC\", \"L\", 240, 95, 37, 88, 0.42, 8, 23, 0.348, 13, 21, 0.619, 12, 36, 48, 23, 7, 3, 22, 22, -9.0], [\"22009\", 1610612744, \"GSW\", \"Golden State Warriors\", \"0020900724\", \"2010-02-03\", \"GSW @ DAL\", \"L\", 239, 101, 38, 77, 0.494, 6, 16, 0.375, 19, 27, 0.704, 15, 25, 40, 13, 8, 5, 20, 22, -9.0], [\"22009\", 1610612744, \"GSW\", \"Golden State Warriors\", \"0020900717\", \"2010-02-02\", \"GSW @ HOU\", \"L\", 241, 97, 41, 98, 0.418, 6, 24, 0.25, 9, 15, 0.6, 10, 25, 35, 23, 6, 7, 6, 23, -22.0], [\"22009\", 1610612744, \"GSW\", \"Golden State Warriors\", \"0020900703\", \"2010-01-31\", \"GSW @ OKC\", \"L\", 241, 104, 37, 79, 0.468, 6, 13, 0.462, 24, 29, 0.828, 9, 22, 31, 25, 9, 4, 18, 25, -8.0], [\"22009\", 1610612744, \"GSW\", \"Golden State Warriors\", \"0020900688\", \"2010-01-29\", \"GSW vs. CHA\", \"L\", 240, 110, 45, 85, 0.529, 3, 19, 0.158, 17, 29, 0.586, 8, 24, 32, 27, 8, 3, 9, 24, -11.0], [\"22009\", 1610612744, \"GSW\", \"Golden State Warriors\", \"0020900673\", \"2010-01-27\", \"GSW vs. NOH\", \"L\", 241, 110, 45, 89, 0.506, 7, 20, 0.35, 13, 18, 0.722, 8, 23, 31, 31, 14, 4, 18, 25, -13.0], [\"22009\", 1610612744, \"GSW\", \"Golden State Warriors\", \"0020900662\", \"2010-01-26\", \"GSW @ SAC\", \"L\", 240, 96, 30, 94, 0.319, 4, 23, 0.174, 32, 42, 0.762, 16, 33, 49, 14, 9, 5, 12, 23, -3.0], [\"22009\", 1610612744, \"GSW\", \"Golden State Warriors\", \"0020900644\", \"2010-01-23\", \"GSW @ PHX\", \"L\", 240, 103, 41, 94, 0.436, 8, 23, 0.348, 13, 15, 0.867, 13, 31, 44, 15, 4, 4, 14, 24, -9.0], [\"22009\", 1610612744, \"GSW\", \"Golden State Warriors\", \"0020900634\", \"2010-01-22\", \"GSW vs. NJN\", \"W\", 241, 111, 40, 77, 0.519, 6, 18, 0.333, 25, 31, 0.806, 6, 38, 44, 24, 10, 0, 13, 24, 32.0], [\"22009\", 1610612744, \"GSW\", \"Golden State Warriors\", \"0020900619\", \"2010-01-20\", \"GSW vs. DEN\", \"L\", 266, 118, 41, 95, 0.432, 9, 29, 0.31, 27, 32, 0.844, 14, 30, 44, 27, 5, 4, 13, 27, -5.0], [\"22009\", 1610612744, \"GSW\", \"Golden State Warriors\", \"0020900602\", \"2010-01-18\", \"GSW vs. CHI\", \"W\", 241, 114, 42, 95, 0.442, 9, 22, 0.409, 21, 32, 0.656, 14, 43, 57, 21, 9, 11, 13, 22, 17.0], [\"22009\", 1610612744, \"GSW\", \"Golden State Warriors\", \"0020900581\", \"2010-01-15\", \"GSW vs. MIL\", \"L\", 240, 104, 40, 85, 0.471, 5, 18, 0.278, 19, 27, 0.704, 7, 35, 42, 20, 9, 5, 14, 28, -9.0], [\"22009\", 1610612744, \"GSW\", \"Golden State Warriors\", \"0020900568\", \"2010-01-13\", \"GSW vs. MIA\", \"L\", 241, 102, 33, 77, 0.429, 11, 24, 0.458, 25, 32, 0.781, 12, 17, 29, 20, 7, 3, 11, 20, -13.0], [\"22009\", 1610612744, \"GSW\", \"Golden State Warriors\", \"0020900552\", \"2010-01-11\", \"GSW vs. CLE\", \"L\", 240, 114, 36, 85, 0.424, 10, 15, 0.667, 32, 38, 0.842, 9, 29, 38, 19, 13, 3, 13, 20, -3.0], [\"22009\", 1610612744, \"GSW\", \"Golden State Warriors\", \"0020900529\", \"2010-01-08\", \"GSW vs. SAC\", \"W\", 240, 108, 38, 79, 0.481, 3, 11, 0.273, 29, 33, 0.879, 4, 35, 39, 21, 11, 4, 12, 20, 7.0], [\"22009\", 1610612744, \"GSW\", \"Golden State Warriors\", \"0020900511\", \"2010-01-06\", \"GSW @ MIN\", \"W\", 241, 107, 40, 87, 0.46, 3, 13, 0.231, 24, 29, 0.828, 11, 32, 43, 21, 12, 10, 10, 29, 6.0], [\"22009\", 1610612744, \"GSW\", \"Golden State Warriors\", \"0020900503\", \"2010-01-05\", \"GSW @ DEN\", \"L\", 239, 122, 47, 85, 0.553, 8, 17, 0.471, 20, 23, 0.87, 10, 24, 34, 22, 10, 6, 16, 28, -1.0], [\"22009\", 1610612744, \"GSW\", \"Golden State Warriors\", \"0020900487\", \"2010-01-02\", \"GSW @ POR\", \"L\", 240, 89, 34, 79, 0.43, 3, 12, 0.25, 18, 24, 0.75, 11, 25, 36, 14, 6, 1, 18, 25, -16.0], [\"22009\", 1610612744, \"GSW\", \"Golden State Warriors\", \"0020900458\", \"2009-12-29\", \"GSW @ LAL\", \"L\", 241, 118, 46, 83, 0.554, 6, 15, 0.4, 20, 28, 0.714, 6, 32, 38, 31, 9, 10, 15, 26, -6.0], [\"22009\", 1610612744, \"GSW\", \"Golden State Warriors\", \"0020900451\", \"2009-12-28\", \"GSW vs. BOS\", \"W\", 240, 103, 40, 87, 0.46, 4, 13, 0.308, 19, 29, 0.655, 14, 29, 43, 21, 12, 2, 18, 20, 4.0], [\"22009\", 1610612744, \"GSW\", \"Golden State Warriors\", \"0020900438\", \"2009-12-26\", \"GSW vs. PHX\", \"W\", 241, 132, 48, 84, 0.571, 4, 11, 0.364, 32, 37, 0.865, 11, 29, 40, 26, 12, 2, 20, 21, 5.0], [\"22009\", 1610612744, \"GSW\", \"Golden State Warriors\", \"0020900419\", \"2009-12-23\", \"GSW @ NOH\", \"L\", 239, 102, 40, 84, 0.476, 5, 18, 0.278, 17, 22, 0.773, 7, 31, 38, 17, 12, 9, 12, 22, -6.0], [\"22009\", 1610612744, \"GSW\", \"Golden State Warriors\", \"0020900409\", \"2009-12-22\", \"GSW @ MEM\", \"L\", 240, 108, 41, 82, 0.5, 5, 17, 0.294, 21, 29, 0.724, 6, 32, 38, 20, 4, 7, 16, 28, -13.0], [\"22009\", 1610612744, \"GSW\", \"Golden State Warriors\", \"0020900383\", \"2009-12-18\", \"GSW vs. WAS\", \"L\", 239, 109, 39, 83, 0.47, 6, 17, 0.353, 25, 31, 0.806, 10, 29, 39, 22, 11, 2, 19, 21, -9.0], [\"22009\", 1610612744, \"GSW\", \"Golden State Warriors\", \"0020900369\", \"2009-12-16\", \"GSW vs. SAS\", \"L\", 240, 91, 37, 87, 0.425, 1, 10, 0.1, 16, 22, 0.727, 6, 28, 34, 20, 10, 3, 10, 22, -12.0], [\"22009\", 1610612744, \"GSW\", \"Golden State Warriors\", \"0020900345\", \"2009-12-14\", \"GSW @ PHI\", \"L\", 240, 101, 30, 68, 0.441, 9, 18, 0.5, 32, 40, 0.8, 6, 20, 26, 18, 10, 6, 20, 23, -16.0], [\"22009\", 1610612744, \"GSW\", \"Golden State Warriors\", \"0020900332\", \"2009-12-12\", \"GSW @ DET\", \"L\", 240, 95, 34, 72, 0.472, 5, 19, 0.263, 22, 25, 0.88, 5, 20, 25, 19, 10, 2, 17, 25, -9.0], [\"22009\", 1610612744, \"GSW\", \"Golden State Warriors\", \"0020900324\", \"2009-12-11\", \"GSW @ CHI\", \"L\", 264, 91, 37, 97, 0.381, 8, 28, 0.286, 9, 12, 0.75, 9, 35, 44, 18, 7, 7, 12, 18, -5.0], [\"22009\", 1610612744, \"GSW\", \"Golden State Warriors\", \"0020900311\", \"2009-12-09\", \"GSW @ NJN\", \"W\", 239, 105, 43, 87, 0.494, 4, 12, 0.333, 15, 21, 0.714, 16, 30, 46, 23, 17, 6, 18, 25, 16.0], [\"22009\", 1610612744, \"GSW\", \"Golden State Warriors\", \"0020900298\", \"2009-12-07\", \"GSW @ OKC\", \"L\", 240, 88, 33, 76, 0.434, 4, 13, 0.308, 18, 22, 0.818, 3, 34, 37, 12, 8, 4, 20, 24, -16.0], [\"22009\", 1610612744, \"GSW\", \"Golden State Warriors\", \"0020900289\", \"2009-12-05\", \"GSW vs. ORL\", \"L\", 239, 118, 42, 89, 0.472, 4, 15, 0.267, 30, 36, 0.833, 10, 22, 32, 24, 9, 2, 15, 28, -8.0], [\"22009\", 1610612744, \"GSW\", \"Golden State Warriors\", \"0020900271\", \"2009-12-03\", \"GSW vs. HOU\", \"L\", 239, 109, 41, 91, 0.451, 11, 23, 0.478, 16, 20, 0.8, 10, 27, 37, 29, 10, 5, 17, 25, -2.0], [\"22009\", 1610612744, \"GSW\", \"Golden State Warriors\", \"0020900256\", \"2009-12-01\", \"GSW @ DEN\", \"L\", 240, 107, 41, 94, 0.436, 6, 26, 0.231, 19, 24, 0.792, 10, 23, 33, 15, 7, 6, 14, 24, -28.0], [\"22009\", 1610612744, \"GSW\", \"Golden State Warriors\", \"0020900252\", \"2009-11-30\", \"GSW vs. IND\", \"W\", 239, 126, 45, 80, 0.563, 8, 19, 0.421, 28, 34, 0.824, 4, 32, 36, 25, 15, 1, 22, 26, 19.0], [\"22009\", 1610612744, \"GSW\", \"Golden State Warriors\", \"0020900238\", \"2009-11-28\", \"GSW vs. LAL\", \"L\", 240, 97, 36, 92, 0.391, 4, 17, 0.235, 21, 24, 0.875, 10, 36, 46, 22, 4, 3, 13, 21, -33.0], [\"22009\", 1610612744, \"GSW\", \"Golden State Warriors\", \"0020900216\", \"2009-11-25\", \"GSW @ SAS\", \"L\", 239, 104, 40, 86, 0.465, 3, 11, 0.273, 21, 26, 0.808, 6, 28, 34, 15, 6, 8, 16, 23, -14.0], [\"22009\", 1610612744, \"GSW\", \"Golden State Warriors\", \"0020900204\", \"2009-11-24\", \"GSW @ DAL\", \"W\", 240, 111, 42, 88, 0.477, 10, 21, 0.476, 17, 21, 0.81, 10, 36, 46, 20, 15, 2, 21, 22, 8.0], [\"22009\", 1610612744, \"GSW\", \"Golden State Warriors\", \"0020900181\", \"2009-11-20\", \"GSW vs. POR\", \"W\", 240, 108, 40, 84, 0.476, 7, 13, 0.538, 21, 27, 0.778, 11, 26, 37, 21, 15, 6, 16, 28, 14.0], [\"22009\", 1610612744, \"GSW\", \"Golden State Warriors\", \"0020900163\", \"2009-11-18\", \"GSW @ BOS\", \"L\", 239, 95, 37, 80, 0.463, 6, 17, 0.353, 15, 19, 0.789, 8, 27, 35, 22, 10, 1, 21, 21, -14.0], [\"22009\", 1610612744, \"GSW\", \"Golden State Warriors\", \"0020900150\", \"2009-11-17\", \"GSW @ CLE\", \"L\", 240, 108, 41, 88, 0.466, 9, 24, 0.375, 17, 22, 0.773, 12, 25, 37, 24, 7, 2, 14, 17, -6.0], [\"22009\", 1610612744, \"GSW\", \"Golden State Warriors\", \"0020900141\", \"2009-11-14\", \"GSW @ MIL\", \"L\", 240, 125, 46, 82, 0.561, 8, 20, 0.4, 25, 28, 0.893, 2, 29, 31, 23, 9, 3, 11, 24, -4.0], [\"22009\", 1610612744, \"GSW\", \"Golden State Warriors\", \"0020900126\", \"2009-11-13\", \"GSW @ NYK\", \"W\", 238, 121, 49, 84, 0.583, 6, 18, 0.333, 17, 23, 0.739, 6, 31, 37, 17, 12, 4, 15, 21, 14.0], [\"22009\", 1610612744, \"GSW\", \"Golden State Warriors\", \"0020900109\", \"2009-11-11\", \"GSW @ IND\", \"L\", 239, 94, 37, 92, 0.402, 4, 15, 0.267, 16, 24, 0.667, 9, 33, 42, 18, 10, 7, 13, 23, -14.0], [\"22009\", 1610612744, \"GSW\", \"Golden State Warriors\", \"0020900101\", \"2009-11-09\", \"GSW vs. MIN\", \"W\", 240, 146, 52, 91, 0.571, 12, 23, 0.522, 30, 38, 0.789, 11, 27, 38, 36, 22, 9, 12, 19, 41.0], [\"22009\", 1610612744, \"GSW\", \"Golden State Warriors\", \"0020900096\", \"2009-11-08\", \"GSW @ SAC\", \"L\", 241, 107, 42, 83, 0.506, 6, 18, 0.333, 17, 28, 0.607, 7, 27, 34, 20, 4, 6, 14, 28, -13.0], [\"22009\", 1610612744, \"GSW\", \"Golden State Warriors\", \"0020900082\", \"2009-11-06\", \"GSW vs. LAC\", \"L\", 241, 90, 29, 84, 0.345, 7, 22, 0.318, 25, 33, 0.758, 15, 26, 41, 18, 7, 2, 19, 27, -28.0], [\"22009\", 1610612744, \"GSW\", \"Golden State Warriors\", \"0020900069\", \"2009-11-04\", \"GSW vs. MEM\", \"W\", 239, 113, 47, 87, 0.54, 7, 12, 0.583, 12, 17, 0.706, 7, 28, 35, 29, 10, 4, 13, 28, 8.0], [\"22009\", 1610612744, \"GSW\", \"Golden State Warriors\", \"0020900030\", \"2009-10-30\", \"GSW @ PHX\", \"L\", 240, 101, 36, 85, 0.424, 6, 13, 0.462, 23, 28, 0.821, 9, 29, 38, 16, 7, 3, 22, 30, -22.0], [\"22009\", 1610612744, \"GSW\", \"Golden State Warriors\", \"0020900015\", \"2009-10-28\", \"GSW vs. HOU\", \"L\", 241, 107, 44, 89, 0.494, 4, 11, 0.364, 15, 23, 0.652, 13, 28, 41, 25, 7, 8, 16, 22, -1.0], [\"12009\", 1610612744, \"GSW\", \"Golden State Warriors\", \"0010900107\", \"2009-10-22\", \"GSW vs. NOH\", \"W\", 240, 126, 50, 80, 0.625, 7, 18, 0.389, 19, 25, 0.76, 7, 36, 43, 28, 12, 3, 16, 21, 34.0], [\"12009\", 1610612744, \"GSW\", \"Golden State Warriors\", \"0010900093\", \"2009-10-20\", \"GSW @ LAL\", \"L\", 240, 107, 41, 80, 0.513, 9, 19, 0.474, 16, 24, 0.667, 7, 26, 33, 29, 11, 8, 21, 25, -6.0], [\"12009\", 1610612744, \"GSW\", \"Golden State Warriors\", \"0010900075\", \"2009-10-17\", \"GSW @ SAC\", \"L\", 241, 94, 34, 85, 0.4, 4, 15, 0.267, 22, 23, 0.957, 9, 29, 38, 18, 10, 6, 14, 20, -7.0], [\"12009\", 1610612744, \"GSW\", \"Golden State Warriors\", \"0010900119\", \"2009-10-12\", \"GSW @ LAC\", \"L\", 240, 117, 41, 80, 0.513, 7, 14, 0.5, 28, 32, 0.875, 12, 20, 32, 21, 13, 4, 15, 30, -7.0], [\"12009\", 1610612744, \"GSW\", \"Golden State Warriors\", \"0010900035\", \"2009-10-10\", \"GSW @ PHX\", \"W\", 239, 104, 35, 83, 0.422, 7, 16, 0.438, 27, 32, 0.844, 9, 45, 54, 20, 3, 6, 19, 25, 3.0], [\"12009\", 1610612744, \"GSW\", \"Golden State Warriors\", \"0010900031\", \"2009-10-09\", \"GSW @ LAL\", \"W\", 240, 110, 41, 77, 0.532, 5, 12, 0.417, 23, 30, 0.767, 3, 32, 35, 30, 9, 3, 16, 25, 19.0], [\"12009\", 1610612744, \"GSW\", \"Golden State Warriors\", \"0010900021\", \"2009-10-07\", \"GSW @ LAL\", \"L\", 240, 101, 32, 78, 0.41, 6, 21, 0.286, 31, 35, 0.886, 9, 29, 38, 20, 8, 6, 19, 26, -17.0], [\"12009\", 1610612744, \"GSW\", \"Golden State Warriors\", \"0010900005\", \"2009-10-04\", \"GSW vs. LAC\", \"W\", 240, 108, 38, 87, 0.437, 6, 15, 0.4, 26, 35, 0.743, 16, 27, 43, 24, 11, 6, 15, 20, 7.0], [\"22009\", 1610612744, \"GSW\", \"Golden State Warriors\", \"1520900033\", \"2009-07-16\", \"GSW vs. NOH\", \"W\", 200, 104, 39, 76, 0.513, 9, 20, 0.45, 17, 19, 0.895, 10, 37, 47, 12, 6, 3, 18, 24, 20.0], [\"22009\", 1610612744, \"GSW\", \"Golden State Warriors\", \"1520900021\", \"2009-07-14\", \"GSW @ CHI\", \"W\", 200, 95, 29, 68, 0.426, 2, 12, 0.167, 35, 42, 0.833, 9, 19, 28, 11, 7, 5, 11, 22, 11.0], [\"22009\", 1610612744, \"GSW\", \"Golden State Warriors\", \"1520900017\", \"2009-07-13\", \"GSW vs. DET\", \"W\", 201, 97, 33, 68, 0.485, 4, 18, 0.222, 27, 34, 0.794, 12, 31, 43, 9, 11, 5, 15, 23, 28.0], [\"22009\", 1610612744, \"GSW\", \"Golden State Warriors\", \"1520900007\", \"2009-07-11\", \"GSW @ SAC\", \"W\", 209, 98, 32, 82, 0.39, 7, 20, 0.35, 27, 32, 0.844, 15, 28, 43, 11, 6, 7, 19, 32, 3.0], [\"22009\", 1610612744, \"GSW\", \"Golden State Warriors\", \"1520900001\", \"2009-07-10\", \"GSW vs. HOU\", \"L\", 200, 69, 26, 69, 0.377, 4, 18, 0.222, 13, 22, 0.591, 12, 17, 29, 12, 9, 4, 18, 30, -4.0], [\"22008\", 1610612744, \"GSW\", \"Golden State Warriors\", \"0020801229\", \"2009-04-15\", \"GSW @ PHX\", \"L\", 241, 113, 43, 93, 0.462, 5, 17, 0.294, 22, 28, 0.786, 20, 31, 51, 20, 5, 8, 12, 25, -4.0], [\"22008\", 1610612744, \"GSW\", \"Golden State Warriors\", \"0020801213\", \"2009-04-13\", \"GSW vs. SAS\", \"L\", 240, 72, 28, 82, 0.341, 2, 10, 0.2, 14, 19, 0.737, 9, 34, 43, 11, 6, 8, 10, 21, -29.0], [\"22008\", 1610612744, \"GSW\", \"Golden State Warriors\", \"0020801194\", \"2009-04-11\", \"GSW @ UTA\", \"W\", 241, 118, 40, 73, 0.548, 9, 20, 0.45, 29, 37, 0.784, 6, 34, 40, 22, 4, 9, 14, 26, 10.0], [\"22008\", 1610612744, \"GSW\", \"Golden State Warriors\", \"0020801187\", \"2009-04-10\", \"GSW vs. HOU\", \"L\", 241, 109, 36, 82, 0.439, 6, 13, 0.462, 31, 36, 0.861, 12, 15, 27, 23, 9, 7, 8, 25, -4.0], [\"22008\", 1610612744, \"GSW\", \"Golden State Warriors\", \"0020801172\", \"2009-04-08\", \"GSW vs. MIN\", \"L\", 240, 97, 38, 86, 0.442, 9, 22, 0.409, 12, 15, 0.8, 9, 32, 41, 22, 3, 5, 11, 21, -8.0], [\"22008\", 1610612744, \"GSW\", \"Golden State Warriors\", \"0020801151\", \"2009-04-05\", \"GSW @ SAC\", \"W\", 240, 105, 34, 91, 0.374, 9, 20, 0.45, 28, 32, 0.875, 15, 34, 49, 15, 9, 7, 12, 23, 5.0], [\"22008\", 1610612744, \"GSW\", \"Golden State Warriors\", \"0020801133\", \"2009-04-03\", \"GSW vs. NOH\", \"W\", 240, 111, 36, 77, 0.468, 10, 26, 0.385, 29, 34, 0.853, 9, 33, 42, 19, 3, 5, 12, 20, 8.0], [\"22008\", 1610612744, \"GSW\", \"Golden State Warriors\", \"0020801120\", \"2009-04-01\", \"GSW vs. SAC\", \"W\", 264, 143, 54, 101, 0.535, 3, 13, 0.231, 32, 42, 0.762, 11, 41, 52, 25, 9, 5, 13, 30, 2.0], [\"22008\", 1610612744, \"GSW\", \"Golden State Warriors\", \"0020801103\", \"2009-03-30\", \"GSW vs. MEM\", \"L\", 240, 109, 40, 92, 0.435, 9, 26, 0.346, 20, 20, 1.0, 10, 29, 39, 17, 7, 8, 14, 29, -5.0], [\"22008\", 1610612744, \"GSW\", \"Golden State Warriors\", \"0020801088\", \"2009-03-28\", \"GSW @ DEN\", \"L\", 240, 116, 42, 100, 0.42, 14, 32, 0.438, 18, 20, 0.9, 19, 31, 50, 21, 8, 6, 17, 21, -13.0], [\"22008\", 1610612744, \"GSW\", \"Golden State Warriors\", \"0020801068\", \"2009-03-25\", \"GSW @ DAL\", \"L\", 240, 106, 38, 80, 0.475, 7, 14, 0.5, 23, 29, 0.793, 7, 19, 26, 21, 11, 2, 14, 24, -22.0], [\"22008\", 1610612744, \"GSW\", \"Golden State Warriors\", \"0020801057\", \"2009-03-24\", \"GSW @ SAS\", \"L\", 240, 106, 42, 92, 0.457, 5, 11, 0.455, 17, 22, 0.773, 14, 26, 40, 18, 4, 5, 9, 22, -1.0], [\"22008\", 1610612744, \"GSW\", \"Golden State Warriors\", \"0020801046\", \"2009-03-22\", \"GSW @ NOH\", \"L\", 241, 89, 32, 81, 0.395, 4, 19, 0.211, 21, 27, 0.778, 10, 37, 47, 18, 8, 6, 17, 20, -10.0], [\"22008\", 1610612744, \"GSW\", \"Golden State Warriors\", \"0020801033\", \"2009-03-20\", \"GSW vs. PHI\", \"W\", 240, 119, 48, 85, 0.565, 9, 19, 0.474, 14, 17, 0.824, 6, 31, 37, 35, 6, 6, 14, 31, 8.0], [\"22008\", 1610612744, \"GSW\", \"Golden State Warriors\", \"0020801022\", \"2009-03-19\", \"GSW @ LAL\", \"L\", 242, 106, 43, 94, 0.457, 5, 15, 0.333, 15, 19, 0.789, 12, 30, 42, 24, 15, 3, 16, 21, -8.0], [\"22008\", 1610612744, \"GSW\", \"Golden State Warriors\", \"0020801007\", \"2009-03-17\", \"GSW vs. LAC\", \"W\", 242, 127, 45, 84, 0.536, 7, 14, 0.5, 30, 37, 0.811, 9, 36, 45, 27, 5, 10, 13, 26, 7.0], [\"22008\", 1610612744, \"GSW\", \"Golden State Warriors\", \"0020800994\", \"2009-03-15\", \"GSW vs. PHX\", \"L\", 241, 130, 44, 91, 0.484, 7, 25, 0.28, 35, 40, 0.875, 13, 22, 35, 26, 7, 6, 14, 21, -24.0], [\"22008\", 1610612744, \"GSW\", \"Golden State Warriors\", \"0020800978\", \"2009-03-13\", \"GSW vs. DAL\", \"W\", 240, 119, 45, 98, 0.459, 5, 16, 0.313, 24, 31, 0.774, 19, 40, 59, 23, 6, 8, 10, 16, 9.0], [\"22008\", 1610612744, \"GSW\", \"Golden State Warriors\", \"0020800965\", \"2009-03-11\", \"GSW vs. NJN\", \"W\", 241, 116, 36, 80, 0.45, 5, 18, 0.278, 39, 48, 0.813, 16, 38, 54, 22, 6, 5, 16, 22, 4.0], [\"22008\", 1610612744, \"GSW\", \"Golden State Warriors\", \"0020800933\", \"2009-03-07\", \"GSW @ MIL\", \"L\", 240, 120, 41, 79, 0.519, 8, 19, 0.421, 30, 38, 0.789, 9, 33, 42, 25, 6, 7, 20, 24, -7.0], [\"22008\", 1610612744, \"GSW\", \"Golden State Warriors\", \"0020800921\", \"2009-03-06\", \"GSW @ DET\", \"L\", 240, 91, 33, 86, 0.384, 3, 9, 0.333, 22, 26, 0.846, 10, 30, 40, 16, 4, 6, 12, 19, -17.0], [\"22008\", 1610612744, \"GSW\", \"Golden State Warriors\", \"0020800910\", \"2009-03-04\", \"GSW @ CHI\", \"L\", 238, 88, 36, 90, 0.4, 5, 21, 0.238, 11, 13, 0.846, 10, 31, 41, 13, 6, 6, 14, 21, -22.0], [\"22008\", 1610612744, \"GSW\", \"Golden State Warriors\", \"0020800901\", \"2009-03-03\", \"GSW @ MIN\", \"W\", 242, 118, 37, 81, 0.457, 10, 20, 0.5, 34, 46, 0.739, 8, 42, 50, 21, 8, 6, 11, 20, 24.0], [\"22008\", 1610612744, \"GSW\", \"Golden State Warriors\", \"0020800891\", \"2009-03-01\", \"GSW vs. UTA\", \"L\", 239, 104, 39, 76, 0.513, 8, 19, 0.421, 18, 24, 0.75, 9, 31, 40, 22, 8, 11, 25, 26, -8.0], [\"22008\", 1610612744, \"GSW\", \"Golden State Warriors\", \"0020800875\", \"2009-02-27\", \"GSW vs. CHA\", \"L\", 239, 109, 40, 81, 0.494, 8, 20, 0.4, 21, 26, 0.808, 9, 20, 29, 20, 11, 2, 17, 24, -3.0], [\"22008\", 1610612744, \"GSW\", \"Golden State Warriors\", \"0020800841\", \"2009-02-23\", \"GSW @ LAC\", \"L\", 242, 105, 39, 88, 0.443, 6, 21, 0.286, 21, 26, 0.808, 10, 29, 39, 23, 11, 8, 18, 19, -13.0], [\"22008\", 1610612744, \"GSW\", \"Golden State Warriors\", \"0020800826\", \"2009-02-21\", \"GSW vs. OKC\", \"W\", 239, 133, 45, 80, 0.563, 9, 19, 0.474, 34, 37, 0.919, 3, 24, 27, 21, 14, 3, 17, 21, 13.0], [\"22008\", 1610612744, \"GSW\", \"Golden State Warriors\", \"0020800807\", \"2009-02-18\", \"GSW vs. LAL\", \"L\", 240, 121, 48, 93, 0.516, 8, 19, 0.421, 17, 19, 0.895, 15, 23, 38, 27, 8, 7, 15, 28, -8.0], [\"22008\", 1610612744, \"GSW\", \"Golden State Warriors\", \"0020800787\", \"2009-02-12\", \"GSW vs. POR\", \"W\", 241, 105, 31, 76, 0.408, 4, 9, 0.444, 39, 43, 0.907, 13, 27, 40, 13, 10, 5, 14, 18, 7.0], [\"22008\", 1610612744, \"GSW\", \"Golden State Warriors\", \"0020800771\", \"2009-02-10\", \"GSW vs. NYK\", \"W\", 240, 144, 52, 94, 0.553, 12, 22, 0.545, 28, 32, 0.875, 13, 29, 42, 29, 11, 8, 8, 22, 17.0], [\"22008\", 1610612744, \"GSW\", \"Golden State Warriors\", \"0020800759\", \"2009-02-08\", \"GSW vs. UTA\", \"W\", 242, 116, 41, 79, 0.519, 6, 13, 0.462, 28, 34, 0.824, 8, 29, 37, 24, 10, 4, 8, 24, 20.0], [\"22008\", 1610612744, \"GSW\", \"Golden State Warriors\", \"0020800742\", \"2009-02-06\", \"GSW @ PHX\", \"L\", 241, 105, 39, 86, 0.453, 4, 14, 0.286, 23, 29, 0.793, 11, 32, 43, 17, 6, 6, 19, 28, -10.0], [\"22008\", 1610612744, \"GSW\", \"Golden State Warriors\", \"0020800730\", \"2009-02-04\", \"GSW vs. PHX\", \"W\", 239, 124, 47, 90, 0.522, 13, 28, 0.464, 17, 22, 0.773, 6, 34, 40, 29, 6, 8, 12, 21, 12.0], [\"22008\", 1610612744, \"GSW\", \"Golden State Warriors\", \"0020800713\", \"2009-02-02\", \"GSW vs. SAS\", \"L\", 265, 105, 44, 94, 0.468, 5, 13, 0.385, 12, 18, 0.667, 10, 33, 43, 23, 9, 8, 16, 28, -5.0], [\"22008\", 1610612744, \"GSW\", \"Golden State Warriors\", \"0020800697\", \"2009-01-31\", \"GSW @ HOU\", \"L\", 241, 93, 34, 81, 0.42, 6, 15, 0.4, 19, 23, 0.826, 8, 27, 35, 17, 6, 6, 9, 27, -17.0], [\"22008\", 1610612744, \"GSW\", \"Golden State Warriors\", \"0020800690\", \"2009-01-30\", \"GSW @ NOH\", \"W\", 241, 91, 34, 83, 0.41, 4, 17, 0.235, 19, 22, 0.864, 10, 37, 47, 15, 8, 5, 15, 27, 4.0], [\"22008\", 1610612744, \"GSW\", \"Golden State Warriors\", \"0020800676\", \"2009-01-28\", \"GSW @ DAL\", \"L\", 240, 93, 34, 88, 0.386, 6, 11, 0.545, 19, 21, 0.905, 8, 30, 38, 18, 8, 5, 14, 21, -24.0], [\"22008\", 1610612744, \"GSW\", \"Golden State Warriors\", \"0020800654\", \"2009-01-25\", \"GSW vs. LAC\", \"W\", 240, 107, 41, 84, 0.488, 8, 17, 0.471, 17, 23, 0.739, 11, 38, 49, 27, 9, 7, 16, 22, 15.0], [\"22008\", 1610612744, \"GSW\", \"Golden State Warriors\", \"0020800638\", \"2009-01-23\", \"GSW vs. CLE\", \"L\", 240, 105, 35, 80, 0.438, 6, 15, 0.4, 29, 36, 0.806, 9, 34, 43, 16, 3, 11, 13, 26, -1.0], [\"22008\", 1610612744, \"GSW\", \"Golden State Warriors\", \"0020800626\", \"2009-01-21\", \"GSW vs. OKC\", \"L\", 240, 121, 39, 75, 0.52, 5, 12, 0.417, 38, 40, 0.95, 7, 25, 32, 25, 6, 6, 14, 26, -1.0], [\"22008\", 1610612744, \"GSW\", \"Golden State Warriors\", \"0020800608\", \"2009-01-19\", \"GSW vs. WAS\", \"W\", 240, 119, 44, 83, 0.53, 13, 21, 0.619, 18, 22, 0.818, 14, 27, 41, 28, 3, 5, 13, 22, 21.0], [\"22008\", 1610612744, \"GSW\", \"Golden State Warriors\", \"0020800588\", \"2009-01-16\", \"GSW vs. ATL\", \"W\", 240, 119, 41, 81, 0.506, 9, 16, 0.563, 28, 34, 0.824, 10, 37, 47, 20, 7, 6, 13, 21, 5.0], [\"22008\", 1610612744, \"GSW\", \"Golden State Warriors\", \"0020800575\", \"2009-01-14\", \"GSW vs. SAC\", \"L\", 315, 133, 51, 115, 0.443, 6, 15, 0.4, 25, 41, 0.61, 21, 39, 60, 24, 7, 13, 9, 29, -2.0], [\"22008\", 1610612744, \"GSW\", \"Golden State Warriors\", \"0020800550\", \"2009-01-11\", \"GSW vs. IND\", \"W\", 241, 120, 39, 81, 0.481, 10, 23, 0.435, 32, 39, 0.821, 10, 36, 46, 21, 7, 7, 13, 21, 3.0], [\"22008\", 1610612744, \"GSW\", \"Golden State Warriors\", \"0020800545\", \"2009-01-10\", \"GSW @ POR\", \"L\", 240, 100, 38, 75, 0.507, 6, 16, 0.375, 18, 22, 0.818, 9, 23, 32, 24, 5, 2, 17, 24, -13.0], [\"22008\", 1610612744, \"GSW\", \"Golden State Warriors\", \"0020800525\", \"2009-01-07\", \"GSW vs. LAL\", \"L\", 240, 106, 45, 93, 0.484, 5, 16, 0.313, 11, 17, 0.647, 10, 33, 43, 25, 9, 6, 16, 23, -8.0], [\"22008\", 1610612744, \"GSW\", \"Golden State Warriors\", \"0020800505\", \"2009-01-05\", \"GSW @ UTA\", \"L\", 239, 114, 40, 80, 0.5, 9, 20, 0.45, 25, 33, 0.758, 9, 29, 38, 20, 7, 2, 15, 28, -5.0], [\"22008\", 1610612744, \"GSW\", \"Golden State Warriors\", \"0020800481\", \"2009-01-02\", \"GSW @ MIN\", \"L\", 238, 108, 38, 80, 0.475, 7, 20, 0.35, 25, 34, 0.735, 10, 29, 39, 21, 8, 7, 15, 26, -7.0], [\"22008\", 1610612744, \"GSW\", \"Golden State Warriors\", \"0020800471\", \"2008-12-31\", \"GSW @ OKC\", \"L\", 241, 100, 35, 76, 0.461, 9, 21, 0.429, 21, 26, 0.808, 9, 26, 35, 20, 9, 4, 20, 24, -7.0], [\"22008\", 1610612744, \"GSW\", \"Golden State Warriors\", \"0020800457\", \"2008-12-29\", \"GSW vs. TOR\", \"W\", 242, 117, 38, 76, 0.5, 12, 24, 0.5, 29, 33, 0.879, 6, 31, 37, 26, 8, 9, 12, 23, 6.0], [\"22008\", 1610612744, \"GSW\", \"Golden State Warriors\", \"0020800449\", \"2008-12-28\", \"GSW @ LAL\", \"L\", 239, 113, 40, 81, 0.494, 9, 18, 0.5, 24, 33, 0.727, 9, 24, 33, 23, 11, 8, 17, 21, -17.0], [\"22008\", 1610612744, \"GSW\", \"Golden State Warriors\", \"0020800435\", \"2008-12-26\", \"GSW vs. BOS\", \"W\", 239, 99, 33, 72, 0.458, 10, 27, 0.37, 23, 27, 0.852, 11, 24, 35, 20, 8, 7, 21, 22, 10.0], [\"22008\", 1610612744, \"GSW\", \"Golden State Warriors\", \"0020800414\", \"2008-12-23\", \"GSW @ MIA\", \"L\", 240, 88, 33, 89, 0.371, 5, 15, 0.333, 17, 19, 0.895, 16, 25, 41, 14, 12, 3, 16, 22, -8.0], [\"22008\", 1610612744, \"GSW\", \"Golden State Warriors\", \"0020800403\", \"2008-12-22\", \"GSW @ ORL\", \"L\", 241, 81, 29, 91, 0.319, 5, 14, 0.357, 18, 28, 0.643, 18, 34, 52, 16, 10, 5, 16, 19, -32.0], [\"22008\", 1610612744, \"GSW\", \"Golden State Warriors\", \"0020800389\", \"2008-12-20\", \"GSW @ CHA\", \"W\", 239, 110, 35, 77, 0.455, 10, 18, 0.556, 30, 36, 0.833, 11, 32, 43, 18, 5, 5, 13, 23, 7.0], [\"22008\", 1610612744, \"GSW\", \"Golden State Warriors\", \"0020800379\", \"2008-12-19\", \"GSW @ ATL\", \"L\", 237, 99, 41, 91, 0.451, 6, 24, 0.25, 11, 16, 0.688, 15, 27, 42, 24, 11, 4, 14, 21, -16.0], [\"22008\", 1610612744, \"GSW\", \"Golden State Warriors\", \"0020800367\", \"2008-12-17\", \"GSW @ IND\", \"L\", 241, 120, 45, 100, 0.45, 12, 28, 0.429, 18, 23, 0.783, 13, 36, 49, 20, 6, 11, 16, 19, -7.0], [\"22008\", 1610612744, \"GSW\", \"Golden State Warriors\", \"0020800359\", \"2008-12-15\", \"GSW vs. ORL\", \"L\", 239, 98, 38, 91, 0.418, 5, 18, 0.278, 17, 23, 0.739, 16, 32, 48, 19, 7, 3, 15, 12, -11.0], [\"22008\", 1610612744, \"GSW\", \"Golden State Warriors\", \"0020800343\", \"2008-12-13\", \"GSW @ DEN\", \"L\", 241, 105, 40, 97, 0.412, 7, 18, 0.389, 18, 24, 0.75, 9, 31, 40, 22, 12, 5, 14, 15, -18.0], [\"22008\", 1610612744, \"GSW\", \"Golden State Warriors\", \"0020800335\", \"2008-12-12\", \"GSW vs. HOU\", \"L\", 240, 108, 43, 107, 0.402, 4, 22, 0.182, 18, 25, 0.72, 23, 27, 50, 23, 9, 10, 10, 27, -11.0], [\"22008\", 1610612744, \"GSW\", \"Golden State Warriors\", \"0020800321\", \"2008-12-10\", \"GSW vs. MIL\", \"W\", 240, 119, 43, 88, 0.489, 6, 20, 0.3, 27, 33, 0.818, 10, 36, 46, 27, 6, 9, 10, 18, 23.0], [\"22008\", 1610612744, \"GSW\", \"Golden State Warriors\", \"0020800303\", \"2008-12-08\", \"GSW @ OKC\", \"W\", 240, 112, 41, 81, 0.506, 4, 13, 0.308, 26, 33, 0.788, 11, 36, 47, 17, 13, 7, 22, 19, 10.0], [\"22008\", 1610612744, \"GSW\", \"Golden State Warriors\", \"0020800294\", \"2008-12-06\", \"GSW @ SAS\", \"L\", 241, 88, 31, 83, 0.373, 3, 10, 0.3, 23, 29, 0.793, 11, 32, 43, 11, 5, 2, 11, 19, -35.0], [\"22008\", 1610612744, \"GSW\", \"Golden State Warriors\", \"0020800284\", \"2008-12-05\", \"GSW @ HOU\", \"L\", 239, 112, 45, 83, 0.542, 7, 19, 0.368, 15, 23, 0.652, 8, 25, 33, 17, 6, 3, 15, 27, -19.0], [\"22008\", 1610612744, \"GSW\", \"Golden State Warriors\", \"0020800254\", \"2008-12-01\", \"GSW vs. MIA\", \"L\", 263, 129, 39, 84, 0.464, 4, 14, 0.286, 47, 52, 0.904, 11, 25, 36, 24, 9, 8, 9, 22, -1.0], [\"22008\", 1610612744, \"GSW\", \"Golden State Warriors\", \"0020800239\", \"2008-11-29\", \"GSW @ NYK\", \"L\", 241, 125, 46, 101, 0.455, 7, 20, 0.35, 26, 32, 0.813, 17, 31, 48, 21, 13, 5, 14, 22, -13.0], [\"22008\", 1610612744, \"GSW\", \"Golden State Warriors\", \"0020800227\", \"2008-11-28\", \"GSW @ CLE\", \"L\", 240, 97, 33, 83, 0.398, 4, 16, 0.25, 27, 33, 0.818, 11, 31, 42, 13, 10, 9, 14, 19, -15.0], [\"22008\", 1610612744, \"GSW\", \"Golden State Warriors\", \"0020800213\", \"2008-11-26\", \"GSW @ BOS\", \"L\", 239, 111, 39, 79, 0.494, 7, 19, 0.368, 26, 33, 0.788, 7, 27, 34, 21, 6, 8, 11, 24, -8.0], [\"22008\", 1610612744, \"GSW\", \"Golden State Warriors\", \"0020800205\", \"2008-11-25\", \"GSW @ WAS\", \"L\", 240, 100, 39, 85, 0.459, 6, 20, 0.3, 16, 23, 0.696, 13, 27, 40, 26, 7, 10, 20, 14, -24.0], [\"22008\", 1610612744, \"GSW\", \"Golden State Warriors\", \"0020800194\", \"2008-11-23\", \"GSW @ PHI\", \"L\", 239, 81, 34, 78, 0.436, 6, 18, 0.333, 7, 13, 0.538, 11, 27, 38, 20, 10, 13, 18, 15, -8.0], [\"22008\", 1610612744, \"GSW\", \"Golden State Warriors\", \"0020800182\", \"2008-11-21\", \"GSW vs. CHI\", \"L\", 239, 110, 43, 87, 0.494, 4, 14, 0.286, 20, 27, 0.741, 12, 27, 39, 22, 10, 8, 15, 14, -5.0], [\"22008\", 1610612744, \"GSW\", \"Golden State Warriors\", \"0020800157\", \"2008-11-18\", \"GSW vs. POR\", \"W\", 241, 111, 36, 80, 0.45, 6, 15, 0.4, 33, 35, 0.943, 12, 28, 40, 20, 9, 7, 16, 24, 5.0], [\"22008\", 1610612744, \"GSW\", \"Golden State Warriors\", \"0020800132\", \"2008-11-15\", \"GSW @ LAC\", \"W\", 239, 121, 48, 94, 0.511, 7, 19, 0.368, 18, 24, 0.75, 14, 34, 48, 29, 5, 1, 12, 20, 18.0], [\"22008\", 1610612744, \"GSW\", \"Golden State Warriors\", \"0020800119\", \"2008-11-13\", \"GSW vs. DET\", \"L\", 240, 102, 37, 90, 0.411, 1, 9, 0.111, 27, 37, 0.73, 18, 33, 51, 20, 6, 4, 15, 23, -5.0], [\"22008\", 1610612744, \"GSW\", \"Golden State Warriors\", \"0020800105\", \"2008-11-11\", \"GSW vs. MIN\", \"W\", 264, 113, 38, 80, 0.475, 8, 19, 0.421, 29, 37, 0.784, 11, 38, 49, 16, 5, 8, 19, 17, 3.0], [\"22008\", 1610612744, \"GSW\", \"Golden State Warriors\", \"0020800091\", \"2008-11-09\", \"GSW @ SAC\", \"L\", 242, 98, 39, 95, 0.411, 3, 14, 0.214, 17, 26, 0.654, 15, 30, 45, 19, 12, 8, 16, 27, -17.0], [\"22008\", 1610612744, \"GSW\", \"Golden State Warriors\", \"0020800077\", \"2008-11-07\", \"GSW vs. MEM\", \"L\", 241, 104, 36, 84, 0.429, 2, 12, 0.167, 30, 43, 0.698, 13, 28, 41, 18, 7, 10, 12, 24, -5.0], [\"22008\", 1610612744, \"GSW\", \"Golden State Warriors\", \"0020800062\", \"2008-11-05\", \"GSW vs. DEN\", \"W\", 240, 111, 42, 90, 0.467, 2, 16, 0.125, 25, 36, 0.694, 17, 29, 46, 21, 8, 11, 10, 22, 10.0], [\"22008\", 1610612744, \"GSW\", \"Golden State Warriors\", \"0020800045\", \"2008-11-03\", \"GSW @ MEM\", \"L\", 240, 79, 33, 96, 0.344, 3, 20, 0.15, 10, 14, 0.714, 17, 31, 48, 15, 7, 4, 12, 22, -11.0], [\"22008\", 1610612744, \"GSW\", \"Golden State Warriors\", \"0020800031\", \"2008-11-01\", \"GSW @ NJN\", \"W\", 241, 105, 32, 76, 0.421, 7, 19, 0.368, 34, 52, 0.654, 14, 27, 41, 18, 8, 5, 16, 21, 8.0], [\"22008\", 1610612744, \"GSW\", \"Golden State Warriors\", \"0020800020\", \"2008-10-31\", \"GSW @ TOR\", \"L\", 266, 108, 42, 94, 0.447, 11, 29, 0.379, 13, 19, 0.684, 17, 29, 46, 20, 6, 6, 18, 25, -4.0], [\"22008\", 1610612744, \"GSW\", \"Golden State Warriors\", \"0020800014\", \"2008-10-29\", \"GSW vs. NOH\", \"L\", 240, 103, 36, 82, 0.439, 9, 23, 0.391, 22, 32, 0.688, 11, 28, 39, 18, 10, 5, 13, 26, -5.0], [\"12008\", 1610612744, \"GSW\", \"Golden State Warriors\", \"0010800094\", \"2008-10-21\", \"GSW vs. LRY\", \"W\", 241, 126, 45, 81, 0.556, 5, 15, 0.333, 31, 40, 0.775, 13, 29, 42, 21, 16, 4, 21, 23, 20.0], [\"12008\", 1610612744, \"GSW\", \"Golden State Warriors\", \"0010800070\", \"2008-10-17\", \"GSW vs. MIL\", \"W\", 240, 109, 39, 74, 0.527, 9, 19, 0.474, 22, 32, 0.688, 11, 30, 41, 22, 12, 5, 28, 19, 1.0], [\"12008\", 1610612744, \"GSW\", \"Golden State Warriors\", \"0010800058\", \"2008-10-15\", \"GSW @ MIL\", \"L\", 240, 94, 32, 76, 0.421, 8, 21, 0.381, 22, 30, 0.733, 7, 37, 44, 16, 10, 8, 20, 32, -4.0], [\"12008\", 1610612744, \"GSW\", \"Golden State Warriors\", \"0010800038\", \"2008-10-11\", \"GSW vs. OKC\", \"W\", 239, 122, 48, 99, 0.485, 7, 18, 0.389, 19, 24, 0.792, 15, 38, 53, 27, 14, 5, 19, 30, 21.0], [\"12008\", 1610612744, \"GSW\", \"Golden State Warriors\", \"0010800017\", \"2008-10-08\", \"GSW @ POR\", \"W\", 239, 110, 39, 81, 0.481, 4, 15, 0.267, 28, 40, 0.7, 12, 28, 40, 20, 17, 8, 15, 27, 15.0], [\"12008\", 1610612744, \"GSW\", \"Golden State Warriors\", \"0010800002\", \"2008-10-05\", \"GSW @ NOH\", \"L\", 242, 103, 40, 83, 0.482, 8, 22, 0.364, 15, 22, 0.682, 10, 32, 42, 22, 8, 4, 19, 20, -3.0], [\"22008\", 1610612744, \"GSW\", \"Golden State Warriors\", \"1520800043\", \"2008-07-19\", \"GSW @ TOR\", \"W\", 201, 95, 32, 76, 0.421, 6, 16, 0.375, 25, 32, 0.781, 19, 19, 38, 15, 10, 5, 17, 26, 5.0], [\"22008\", 1610612744, \"GSW\", \"Golden State Warriors\", \"1520800040\", \"2008-07-18\", \"GSW vs. SAC\", \"L\", 199, 91, 33, 88, 0.375, 5, 18, 0.278, 20, 27, 0.741, 14, 26, 40, 9, 12, 3, 14, 28, -3.0], [\"22008\", 1610612744, \"GSW\", \"Golden State Warriors\", \"1520800023\", \"2008-07-15\", \"GSW vs. CHA\", \"W\", 200, 99, 32, 63, 0.508, 4, 10, 0.4, 31, 42, 0.738, 5, 20, 25, 14, 10, 2, 17, 38, 4.0], [\"22008\", 1610612744, \"GSW\", \"Golden State Warriors\", \"1520800010\", \"2008-07-13\", \"GSW vs. DAL\", \"W\", 200, 95, 35, 69, 0.507, 5, 15, 0.333, 20, 32, 0.625, 11, 24, 35, 11, 8, 4, 16, 33, 9.0], [\"22008\", 1610612744, \"GSW\", \"Golden State Warriors\", \"1520800001\", \"2008-07-11\", \"GSW vs. PHI\", null, 0, 0, 0, 0, null, 0, 0, null, 0, 0, null, 0, 0, null, 0, 0, 0, 0, 0, 0.0], [\"22008\", 1610612744, \"GSW\", \"Golden State Warriors\", \"1520800001\", \"2008-07-11\", \"GSW vs. PHI\", \"W\", 199, 96, 35, 71, 0.493, 3, 14, 0.214, 23, 28, 0.821, 10, 26, 36, 11, 11, 10, 28, 36, 6.6], [\"22007\", 1610612744, \"GSW\", \"Golden State Warriors\", \"0020701230\", \"2008-04-16\", \"GSW vs. SEA\", \"L\", 239, 121, 47, 110, 0.427, 15, 45, 0.333, 12, 16, 0.75, 21, 29, 50, 24, 6, 6, 12, 16, -5.0], [\"22007\", 1610612744, \"GSW\", \"Golden State Warriors\", \"0020701209\", \"2008-04-14\", \"GSW @ PHX\", \"L\", 240, 116, 46, 104, 0.442, 10, 23, 0.435, 14, 20, 0.7, 14, 29, 43, 21, 10, 3, 9, 31, -6.0], [\"22007\", 1610612744, \"GSW\", \"Golden State Warriors\", \"0020701196\", \"2008-04-12\", \"GSW vs. LAC\", \"W\", 239, 122, 43, 91, 0.473, 9, 25, 0.36, 27, 34, 0.794, 10, 34, 44, 24, 9, 4, 9, 25, 6.0], [\"22007\", 1610612744, \"GSW\", \"Golden State Warriors\", \"0020701173\", \"2008-04-10\", \"GSW vs. DEN\", \"L\", 239, 105, 42, 100, 0.42, 6, 27, 0.222, 15, 24, 0.625, 19, 33, 52, 25, 10, 4, 18, 22, -9.0], [\"22007\", 1610612744, \"GSW\", \"Golden State Warriors\", \"0020701163\", \"2008-04-08\", \"GSW vs. SAC\", \"W\", 240, 140, 45, 86, 0.523, 10, 24, 0.417, 40, 52, 0.769, 17, 31, 48, 28, 12, 8, 16, 25, 8.0], [\"22007\", 1610612744, \"GSW\", \"Golden State Warriors\", \"0020701149\", \"2008-04-06\", \"GSW @ NOH\", \"L\", 239, 96, 43, 95, 0.453, 3, 29, 0.103, 7, 9, 0.778, 14, 29, 43, 20, 8, 3, 17, 18, -12.0], [\"22007\", 1610612744, \"GSW\", \"Golden State Warriors\", \"0020701130\", \"2008-04-04\", \"GSW @ MEM\", \"W\", 241, 117, 49, 91, 0.538, 8, 20, 0.4, 11, 13, 0.846, 10, 45, 55, 25, 9, 5, 18, 21, 31.0], [\"22007\", 1610612744, \"GSW\", \"Golden State Warriors\", \"0020701120\", \"2008-04-02\", \"GSW @ DAL\", \"L\", 240, 86, 33, 86, 0.384, 4, 16, 0.25, 16, 19, 0.842, 12, 26, 38, 10, 7, 6, 15, 14, -25.0], [\"22007\", 1610612744, \"GSW\", \"Golden State Warriors\", \"0020701110\", \"2008-04-01\", \"GSW @ SAS\", \"L\", 240, 92, 33, 88, 0.375, 8, 20, 0.4, 18, 22, 0.818, 11, 26, 37, 8, 9, 5, 13, 11, -24.0], [\"22007\", 1610612744, \"GSW\", \"Golden State Warriors\", \"0020701096\", \"2008-03-30\", \"GSW vs. DAL\", \"W\", 238, 114, 40, 85, 0.471, 6, 21, 0.286, 28, 36, 0.778, 15, 31, 46, 18, 4, 4, 8, 23, 10.0], [\"22007\", 1610612744, \"GSW\", \"Golden State Warriors\", \"0020701087\", \"2008-03-29\", \"GSW @ DEN\", \"L\", 238, 112, 42, 104, 0.404, 10, 30, 0.333, 18, 21, 0.857, 15, 36, 51, 24, 7, 5, 13, 19, -7.0], [\"22007\", 1610612744, \"GSW\", \"Golden State Warriors\", \"0020701072\", \"2008-03-27\", \"GSW vs. POR\", \"W\", 238, 111, 39, 84, 0.464, 11, 24, 0.458, 22, 26, 0.846, 15, 31, 46, 20, 9, 7, 9, 17, 16.0], [\"22007\", 1610612744, \"GSW\", \"Golden State Warriors\", \"0020701051\", \"2008-03-24\", \"GSW vs. LAL\", \"L\", 266, 119, 45, 103, 0.437, 11, 29, 0.379, 18, 24, 0.75, 16, 39, 55, 22, 11, 3, 15, 24, -4.0], [\"22007\", 1610612744, \"GSW\", \"Golden State Warriors\", \"0020701043\", \"2008-03-23\", \"GSW @ LAL\", \"W\", 239, 115, 38, 89, 0.427, 10, 25, 0.4, 29, 34, 0.853, 11, 32, 43, 19, 13, 7, 11, 26, 4.0], [\"22007\", 1610612744, \"GSW\", \"Golden State Warriors\", \"0020701028\", \"2008-03-21\", \"GSW vs. HOU\", \"L\", 239, 106, 43, 93, 0.462, 8, 24, 0.333, 12, 18, 0.667, 20, 28, 48, 17, 10, 8, 12, 17, -3.0], [\"22007\", 1610612744, \"GSW\", \"Golden State Warriors\", \"0020701015\", \"2008-03-19\", \"GSW @ LAC\", \"W\", 242, 116, 47, 91, 0.516, 9, 20, 0.45, 13, 18, 0.722, 14, 28, 42, 20, 7, 2, 11, 29, 16.0], [\"22007\", 1610612744, \"GSW\", \"Golden State Warriors\", \"0020701004\", \"2008-03-18\", \"GSW @ SAC\", \"L\", 242, 105, 38, 93, 0.409, 5, 27, 0.185, 24, 38, 0.632, 16, 27, 43, 15, 9, 3, 9, 28, -17.0], [\"22007\", 1610612744, \"GSW\", \"Golden State Warriors\", \"0020700983\", \"2008-03-15\", \"GSW vs. MEM\", \"W\", 239, 110, 41, 83, 0.494, 10, 24, 0.417, 18, 26, 0.692, 14, 33, 47, 25, 9, 4, 20, 19, 3.0], [\"22007\", 1610612744, \"GSW\", \"Golden State Warriors\", \"0020700965\", \"2008-03-13\", \"GSW @ PHX\", \"L\", 240, 115, 43, 105, 0.41, 10, 25, 0.4, 19, 24, 0.792, 20, 26, 46, 17, 10, 2, 7, 23, -8.0], [\"22007\", 1610612744, \"GSW\", \"Golden State Warriors\", \"0020700962\", \"2008-03-12\", \"GSW vs. TOR\", \"W\", 243, 117, 49, 88, 0.557, 5, 23, 0.217, 14, 18, 0.778, 11, 29, 40, 32, 7, 4, 12, 22, 11.0], [\"22007\", 1610612744, \"GSW\", \"Golden State Warriors\", \"0020700927\", \"2008-03-08\", \"GSW @ ORL\", \"W\", 240, 104, 38, 94, 0.404, 6, 24, 0.25, 22, 26, 0.846, 8, 36, 44, 16, 14, 3, 9, 25, 9.0], [\"22007\", 1610612744, \"GSW\", \"Golden State Warriors\", \"0020700916\", \"2008-03-07\", \"GSW @ MIA\", \"W\", 239, 134, 53, 98, 0.541, 13, 30, 0.433, 15, 20, 0.75, 14, 37, 51, 26, 12, 3, 9, 21, 35.0], [\"22007\", 1610612744, \"GSW\", \"Golden State Warriors\", \"0020700898\", \"2008-03-05\", \"GSW @ CHA\", \"L\", 243, 109, 40, 82, 0.488, 8, 27, 0.296, 21, 30, 0.7, 8, 35, 43, 12, 5, 8, 14, 28, -9.0], [\"22007\", 1610612744, \"GSW\", \"Golden State Warriors\", \"0020700889\", \"2008-03-04\", \"GSW @ ATL\", \"W\", 239, 135, 55, 101, 0.545, 17, 32, 0.531, 8, 10, 0.8, 10, 29, 39, 28, 10, 5, 10, 28, 17.0], [\"22007\", 1610612744, \"GSW\", \"Golden State Warriors\", \"0020700884\", \"2008-03-02\", \"GSW vs. POR\", \"W\", 241, 110, 42, 90, 0.467, 9, 25, 0.36, 17, 20, 0.85, 14, 30, 44, 19, 8, 7, 8, 23, 6.0], [\"22007\", 1610612744, \"GSW\", \"Golden State Warriors\", \"0020700867\", \"2008-02-29\", \"GSW vs. PHI\", \"W\", 238, 119, 47, 92, 0.511, 11, 29, 0.379, 14, 19, 0.737, 12, 33, 45, 30, 8, 12, 13, 17, 22.0], [\"22007\", 1610612744, \"GSW\", \"Golden State Warriors\", \"0020700844\", \"2008-02-26\", \"GSW vs. SEA\", \"W\", 240, 105, 45, 102, 0.441, 6, 21, 0.286, 9, 11, 0.818, 17, 25, 42, 24, 14, 5, 12, 16, 6.0], [\"22007\", 1610612744, \"GSW\", \"Golden State Warriors\", \"0020700814\", \"2008-02-22\", \"GSW vs. ATL\", \"L\", 241, 110, 46, 96, 0.479, 6, 26, 0.231, 12, 17, 0.706, 11, 29, 40, 20, 9, 6, 14, 22, -7.0], [\"22007\", 1610612744, \"GSW\", \"Golden State Warriors\", \"0020700799\", \"2008-02-20\", \"GSW vs. BOS\", \"W\", 239, 119, 42, 89, 0.472, 4, 15, 0.267, 31, 43, 0.721, 16, 33, 49, 24, 8, 4, 16, 28, 2.0], [\"22007\", 1610612744, \"GSW\", \"Golden State Warriors\", \"0020700786\", \"2008-02-19\", \"GSW @ UTA\", \"L\", 239, 109, 43, 87, 0.494, 9, 25, 0.36, 14, 21, 0.667, 8, 25, 33, 21, 8, 4, 12, 22, -10.0], [\"22007\", 1610612744, \"GSW\", \"Golden State Warriors\", \"0020700775\", \"2008-02-13\", \"GSW vs. PHX\", \"W\", 240, 120, 52, 96, 0.542, 8, 21, 0.381, 8, 13, 0.615, 11, 23, 34, 26, 10, 2, 11, 21, 2.0], [\"22007\", 1610612744, \"GSW\", \"Golden State Warriors\", \"0020700757\", \"2008-02-11\", \"GSW vs. WAS\", \"W\", 240, 120, 43, 82, 0.524, 10, 27, 0.37, 24, 32, 0.75, 11, 32, 43, 24, 9, 2, 15, 22, 3.0], [\"22007\", 1610612744, \"GSW\", \"Golden State Warriors\", \"0020700743\", \"2008-02-09\", \"GSW vs. SAC\", \"W\", 239, 105, 38, 91, 0.418, 7, 31, 0.226, 22, 33, 0.667, 18, 31, 49, 21, 10, 5, 17, 23, 3.0], [\"22007\", 1610612744, \"GSW\", \"Golden State Warriors\", \"0020700725\", \"2008-02-07\", \"GSW vs. CHI\", \"L\", 241, 108, 41, 95, 0.432, 7, 28, 0.25, 19, 21, 0.905, 12, 29, 41, 19, 14, 3, 13, 31, -6.0], [\"22007\", 1610612744, \"GSW\", \"Golden State Warriors\", \"0020700686\", \"2008-02-01\", \"GSW vs. CHA\", \"W\", 241, 127, 46, 84, 0.548, 10, 18, 0.556, 25, 30, 0.833, 8, 35, 43, 32, 9, 6, 12, 19, 31.0], [\"22007\", 1610612744, \"GSW\", \"Golden State Warriors\", \"0020700669\", \"2008-01-30\", \"GSW @ NOH\", \"W\", 239, 116, 45, 86, 0.523, 13, 27, 0.481, 13, 14, 0.929, 9, 27, 36, 23, 2, 5, 6, 19, 13.0], [\"22007\", 1610612744, \"GSW\", \"Golden State Warriors\", \"0020700661\", \"2008-01-29\", \"GSW @ HOU\", \"L\", 241, 107, 37, 88, 0.42, 12, 30, 0.4, 21, 30, 0.7, 12, 33, 45, 23, 9, 5, 10, 25, -4.0], [\"22007\", 1610612744, \"GSW\", \"Golden State Warriors\", \"0020700650\", \"2008-01-27\", \"GSW vs. NYK\", \"W\", 240, 106, 37, 85, 0.435, 7, 27, 0.259, 25, 35, 0.714, 15, 33, 48, 21, 6, 4, 14, 21, 2.0], [\"22007\", 1610612744, \"GSW\", \"Golden State Warriors\", \"0020700624\", \"2008-01-24\", \"GSW vs. NJN\", \"W\", 239, 121, 42, 83, 0.506, 10, 26, 0.385, 27, 31, 0.871, 6, 34, 40, 25, 10, 8, 12, 27, 2.0], [\"22007\", 1610612744, \"GSW\", \"Golden State Warriors\", \"0020700603\", \"2008-01-21\", \"GSW vs. MIN\", \"L\", 242, 108, 37, 85, 0.435, 10, 32, 0.313, 24, 33, 0.727, 13, 32, 45, 21, 11, 3, 11, 21, -1.0], [\"22007\", 1610612744, \"GSW\", \"Golden State Warriors\", \"0020700589\", \"2008-01-19\", \"GSW @ MIL\", \"W\", 241, 119, 43, 79, 0.544, 10, 24, 0.417, 23, 25, 0.92, 8, 28, 36, 25, 13, 4, 16, 21, 20.0], [\"22007\", 1610612744, \"GSW\", \"Golden State Warriors\", \"0020700582\", \"2008-01-18\", \"GSW @ CHI\", \"W\", 239, 119, 41, 89, 0.461, 11, 29, 0.379, 26, 32, 0.813, 15, 28, 43, 24, 10, 3, 14, 30, 8.0], [\"22007\", 1610612744, \"GSW\", \"Golden State Warriors\", \"0020700565\", \"2008-01-16\", \"GSW @ IND\", \"L\", 241, 117, 39, 91, 0.429, 11, 35, 0.314, 28, 37, 0.757, 10, 25, 35, 28, 18, 4, 11, 31, -8.0], [\"22007\", 1610612744, \"GSW\", \"Golden State Warriors\", \"0020700559\", \"2008-01-15\", \"GSW @ MIN\", \"W\", 241, 105, 36, 81, 0.444, 10, 24, 0.417, 23, 30, 0.767, 6, 28, 34, 21, 9, 7, 11, 23, 7.0], [\"22007\", 1610612744, \"GSW\", \"Golden State Warriors\", \"0020700545\", \"2008-01-13\", \"GSW vs. IND\", \"W\", 240, 106, 41, 98, 0.418, 8, 33, 0.242, 16, 28, 0.571, 16, 34, 50, 21, 13, 2, 14, 21, 5.0], [\"22007\", 1610612744, \"GSW\", \"Golden State Warriors\", \"0020700532\", \"2008-01-11\", \"GSW vs. MEM\", \"W\", 240, 116, 48, 93, 0.516, 14, 32, 0.438, 6, 8, 0.75, 10, 32, 42, 33, 9, 9, 15, 27, 12.0], [\"22007\", 1610612744, \"GSW\", \"Golden State Warriors\", \"0020700518\", \"2008-01-09\", \"GSW @ POR\", \"L\", 240, 91, 35, 89, 0.393, 8, 29, 0.276, 13, 16, 0.813, 14, 29, 43, 15, 7, 2, 15, 19, -18.0], [\"22007\", 1610612744, \"GSW\", \"Golden State Warriors\", \"0020700499\", \"2008-01-07\", \"GSW vs. SAS\", \"W\", 265, 130, 47, 91, 0.516, 14, 31, 0.452, 22, 25, 0.88, 10, 34, 44, 25, 6, 4, 10, 25, 9.0], [\"22007\", 1610612744, \"GSW\", \"Golden State Warriors\", \"0020700483\", \"2008-01-04\", \"GSW vs. NOH\", \"L\", 240, 104, 41, 77, 0.532, 7, 23, 0.304, 15, 27, 0.556, 9, 26, 35, 26, 3, 3, 13, 16, -12.0], [\"22007\", 1610612744, \"GSW\", \"Golden State Warriors\", \"0020700466\", \"2008-01-02\", \"GSW @ DAL\", \"L\", 240, 99, 33, 79, 0.418, 10, 23, 0.435, 23, 32, 0.719, 11, 24, 35, 16, 3, 4, 10, 23, -22.0], [\"22007\", 1610612744, \"GSW\", \"Golden State Warriors\", \"0020700452\", \"2007-12-31\", \"GSW @ HOU\", \"W\", 239, 112, 40, 87, 0.46, 14, 36, 0.389, 18, 21, 0.857, 15, 32, 47, 22, 11, 3, 21, 26, 17.0], [\"22007\", 1610612744, \"GSW\", \"Golden State Warriors\", \"0020700445\", \"2007-12-30\", \"GSW @ DEN\", \"W\", 240, 105, 37, 85, 0.435, 10, 30, 0.333, 21, 28, 0.75, 8, 34, 42, 26, 13, 8, 16, 30, 10.0], [\"22007\", 1610612744, \"GSW\", \"Golden State Warriors\", \"0020700433\", \"2007-12-28\", \"GSW vs. DEN\", \"L\", 240, 120, 44, 104, 0.423, 14, 36, 0.389, 18, 23, 0.783, 19, 24, 43, 29, 5, 5, 8, 22, -4.0], [\"22007\", 1610612744, \"GSW\", \"Golden State Warriors\", \"0020700418\", \"2007-12-26\", \"GSW vs. MIN\", \"W\", 240, 105, 38, 90, 0.422, 8, 31, 0.258, 21, 26, 0.808, 13, 30, 43, 26, 11, 10, 16, 24, 4.0], [\"22007\", 1610612744, \"GSW\", \"Golden State Warriors\", \"0020700402\", \"2007-12-23\", \"GSW @ CLE\", \"W\", 240, 105, 38, 73, 0.521, 7, 16, 0.438, 22, 25, 0.88, 5, 35, 40, 18, 7, 2, 17, 16, 9.0], [\"22007\", 1610612744, \"GSW\", \"Golden State Warriors\", \"0020700392\", \"2007-12-22\", \"GSW @ NJN\", \"L\", 240, 95, 34, 88, 0.386, 6, 25, 0.24, 21, 25, 0.84, 15, 24, 39, 16, 6, 1, 16, 27, -5.0], [\"22007\", 1610612744, \"GSW\", \"Golden State Warriors\", \"0020700373\", \"2007-12-19\", \"GSW @ MIN\", \"W\", 239, 111, 41, 84, 0.488, 11, 23, 0.478, 18, 22, 0.818, 9, 31, 40, 24, 8, 3, 13, 16, 13.0], [\"22007\", 1610612744, \"GSW\", \"Golden State Warriors\", \"0020700358\", \"2007-12-17\", \"GSW @ MEM\", \"W\", 240, 125, 47, 88, 0.534, 7, 24, 0.292, 24, 30, 0.8, 13, 39, 52, 24, 10, 1, 15, 28, 8.0], [\"22007\", 1610612744, \"GSW\", \"Golden State Warriors\", \"0020700350\", \"2007-12-16\", \"GSW @ DET\", \"L\", 240, 87, 33, 79, 0.418, 6, 22, 0.273, 15, 23, 0.652, 13, 19, 32, 23, 6, 2, 17, 19, -22.0], [\"22007\", 1610612744, \"GSW\", \"Golden State Warriors\", \"0020700338\", \"2007-12-14\", \"GSW vs. LAL\", \"W\", 240, 108, 40, 90, 0.444, 12, 25, 0.48, 16, 20, 0.8, 11, 32, 43, 19, 11, 4, 15, 28, 2.0], [\"22007\", 1610612744, \"GSW\", \"Golden State Warriors\", \"0020700323\", \"2007-12-12\", \"GSW @ POR\", \"L\", 240, 95, 35, 87, 0.402, 13, 35, 0.371, 12, 13, 0.923, 14, 29, 43, 23, 7, 4, 15, 25, -10.0], [\"22007\", 1610612744, \"GSW\", \"Golden State Warriors\", \"0020700313\", \"2007-12-11\", \"GSW vs. SAS\", \"W\", 241, 96, 38, 97, 0.392, 7, 27, 0.259, 13, 18, 0.722, 19, 27, 46, 22, 14, 4, 9, 23, 12.0], [\"22007\", 1610612744, \"GSW\", \"Golden State Warriors\", \"0020700300\", \"2007-12-09\", \"GSW @ LAL\", \"L\", 240, 113, 44, 95, 0.463, 8, 33, 0.242, 17, 22, 0.773, 16, 32, 48, 25, 6, 5, 17, 26, -10.0], [\"22007\", 1610612744, \"GSW\", \"Golden State Warriors\", \"0020700285\", \"2007-12-07\", \"GSW vs. MIA\", \"W\", 240, 120, 39, 94, 0.415, 12, 32, 0.375, 30, 35, 0.857, 17, 23, 40, 21, 9, 1, 8, 21, 7.0], [\"22007\", 1610612744, \"GSW\", \"Golden State Warriors\", \"0020700271\", \"2007-12-05\", \"GSW vs. MIL\", \"W\", 241, 120, 45, 86, 0.523, 15, 22, 0.682, 15, 16, 0.938, 10, 31, 41, 29, 16, 6, 17, 21, 30.0], [\"22007\", 1610612744, \"GSW\", \"Golden State Warriors\", \"0020700255\", \"2007-12-03\", \"GSW vs. ORL\", \"L\", 266, 117, 42, 111, 0.378, 9, 40, 0.225, 24, 31, 0.774, 18, 36, 54, 28, 12, 3, 15, 25, -6.0], [\"22007\", 1610612744, \"GSW\", \"Golden State Warriors\", \"0020700248\", \"2007-12-02\", \"GSW @ SEA\", \"W\", 241, 109, 44, 103, 0.427, 11, 26, 0.423, 10, 15, 0.667, 12, 41, 53, 24, 12, 7, 11, 19, 13.0], [\"22007\", 1610612744, \"GSW\", \"Golden State Warriors\", \"0020700223\", \"2007-11-29\", \"GSW vs. HOU\", \"W\", 240, 113, 41, 79, 0.519, 7, 18, 0.389, 24, 35, 0.686, 9, 36, 45, 22, 9, 3, 14, 21, 19.0], [\"22007\", 1610612744, \"GSW\", \"Golden State Warriors\", \"0020700218\", \"2007-11-28\", \"GSW @ SAC\", \"W\", 239, 103, 37, 89, 0.416, 8, 31, 0.258, 21, 26, 0.808, 13, 33, 46, 19, 12, 8, 17, 31, 7.0], [\"22007\", 1610612744, \"GSW\", \"Golden State Warriors\", \"0020700203\", \"2007-11-26\", \"GSW vs. PHX\", \"W\", 238, 129, 52, 101, 0.515, 13, 28, 0.464, 12, 17, 0.706, 12, 27, 39, 31, 12, 3, 10, 21, 15.0], [\"22007\", 1610612744, \"GSW\", \"Golden State Warriors\", \"0020700184\", \"2007-11-24\", \"GSW @ PHI\", \"W\", 266, 100, 36, 91, 0.396, 7, 24, 0.292, 21, 31, 0.677, 17, 37, 54, 18, 8, 7, 18, 25, 2.0], [\"22007\", 1610612744, \"GSW\", \"Golden State Warriors\", \"0020700170\", \"2007-11-23\", \"GSW @ WAS\", \"W\", 239, 123, 46, 90, 0.511, 16, 31, 0.516, 15, 23, 0.652, 13, 29, 42, 27, 7, 1, 7, 26, 8.0], [\"22007\", 1610612744, \"GSW\", \"Golden State Warriors\", \"0020700158\", \"2007-11-21\", \"GSW @ BOS\", \"L\", 239, 82, 29, 87, 0.333, 4, 22, 0.182, 20, 28, 0.714, 16, 24, 40, 11, 11, 1, 15, 22, -23.0], [\"22007\", 1610612744, \"GSW\", \"Golden State Warriors\", \"0020700153\", \"2007-11-20\", \"GSW @ NYK\", \"W\", 240, 108, 41, 86, 0.477, 9, 30, 0.3, 17, 27, 0.63, 8, 26, 34, 21, 17, 7, 11, 24, 26.0], [\"22007\", 1610612744, \"GSW\", \"Golden State Warriors\", \"0020700141\", \"2007-11-18\", \"GSW @ TOR\", \"W\", 239, 106, 40, 85, 0.471, 8, 29, 0.276, 18, 27, 0.667, 12, 35, 47, 20, 5, 3, 17, 22, 6.0], [\"22007\", 1610612744, \"GSW\", \"Golden State Warriors\", \"0020700130\", \"2007-11-16\", \"GSW vs. LAC\", \"W\", 240, 122, 45, 90, 0.5, 7, 19, 0.368, 25, 32, 0.781, 15, 37, 52, 28, 7, 9, 8, 24, 17.0], [\"22007\", 1610612744, \"GSW\", \"Golden State Warriors\", \"0020700116\", \"2007-11-14\", \"GSW vs. DET\", \"L\", 240, 104, 39, 95, 0.411, 13, 34, 0.382, 13, 21, 0.619, 20, 24, 44, 24, 6, 4, 11, 20, -7.0], [\"22007\", 1610612744, \"GSW\", \"Golden State Warriors\", \"0020700065\", \"2007-11-08\", \"GSW vs. DAL\", \"L\", 240, 115, 44, 89, 0.494, 11, 25, 0.44, 16, 30, 0.533, 8, 30, 38, 23, 4, 5, 7, 23, -5.0], [\"22007\", 1610612744, \"GSW\", \"Golden State Warriors\", \"0020700053\", \"2007-11-06\", \"GSW vs. CLE\", \"L\", 240, 104, 39, 91, 0.429, 8, 24, 0.333, 18, 26, 0.692, 9, 34, 43, 22, 4, 4, 11, 19, -4.0], [\"22007\", 1610612744, \"GSW\", \"Golden State Warriors\", \"0020700034\", \"2007-11-03\", \"GSW @ UTA\", \"L\", 241, 110, 40, 79, 0.506, 13, 31, 0.419, 17, 24, 0.708, 11, 19, 30, 23, 10, 3, 20, 25, -23.0], [\"22007\", 1610612744, \"GSW\", \"Golden State Warriors\", \"0020700027\", \"2007-11-02\", \"GSW @ LAC\", \"L\", 240, 114, 44, 94, 0.468, 7, 28, 0.25, 19, 25, 0.76, 11, 25, 36, 23, 7, 6, 10, 23, -6.0], [\"22007\", 1610612744, \"GSW\", \"Golden State Warriors\", \"0020700003\", \"2007-10-30\", \"GSW vs. UTA\", \"L\", 240, 96, 32, 77, 0.416, 6, 23, 0.261, 26, 38, 0.684, 7, 30, 37, 19, 8, 9, 20, 28, -21.0], [\"12007\", 1610612744, \"GSW\", \"Golden State Warriors\", \"0010700093\", \"2007-10-23\", \"GSW @ SEA\", \"W\", 265, 126, 47, 100, 0.47, 6, 20, 0.3, 26, 33, 0.788, 10, 44, 54, 22, 11, 6, 27, 29, 4.0], [\"12007\", 1610612744, \"GSW\", \"Golden State Warriors\", \"0010700065\", \"2007-10-18\", \"GSW @ SAS\", \"L\", 241, 111, 41, 98, 0.418, 12, 30, 0.4, 17, 24, 0.708, 14, 27, 41, 22, 8, 6, 11, 26, -5.0], [\"12007\", 1610612744, \"GSW\", \"Golden State Warriors\", \"0010700049\", \"2007-10-15\", \"GSW vs. ZAK\", \"W\", 241, 107, 39, 95, 0.411, 4, 14, 0.286, 25, 35, 0.714, 19, 29, 48, 19, 12, 6, 16, 25, 19.0], [\"12007\", 1610612744, \"GSW\", \"Golden State Warriors\", \"0010700044\", \"2007-10-14\", \"GSW vs. LAC\", \"L\", 240, 89, 27, 82, 0.329, 4, 20, 0.2, 31, 37, 0.838, 8, 34, 42, 19, 8, 8, 23, 28, -10.0], [\"12007\", 1610612744, \"GSW\", \"Golden State Warriors\", \"0010700026\", \"2007-10-11\", \"GSW @ LAL\", \"W\", 239, 119, 44, 96, 0.458, 10, 24, 0.417, 21, 28, 0.75, 12, 26, 38, 28, 12, 2, 14, 28, 13.0], [\"12007\", 1610612744, \"GSW\", \"Golden State Warriors\", \"0010700012\", \"2007-10-09\", \"GSW @ LAL\", \"W\", 240, 111, 41, 90, 0.456, 7, 22, 0.318, 22, 28, 0.786, 14, 29, 43, 23, 11, 6, 12, 34, 1.0], [\"22007\", 1610612744, \"GSW\", \"Golden State Warriors\", \"1520700046\", \"2007-07-14\", \"GSW vs. NYK\", \"L\", 200, 87, 33, 70, 0.471, 7, 14, 0.5, 14, 19, 0.737, 9, 24, 33, 13, 9, 7, 28, 40, null], [\"22007\", 1610612744, \"GSW\", \"Golden State Warriors\", \"1520700042\", \"2007-07-13\", \"GSW @ SEA\", \"W\", 199, 85, 33, 75, 0.44, 5, 19, 0.263, 14, 22, 0.636, 5, 31, 36, 16, 6, 3, 19, 32, null], [\"22007\", 1610612744, \"GSW\", \"Golden State Warriors\", \"1520700023\", \"2007-07-10\", \"GSW vs. SAS\", \"L\", 201, 80, 27, 65, 0.415, 5, 13, 0.385, 21, 32, 0.656, 7, 19, 26, 14, 6, 3, 13, 20, null], [\"22007\", 1610612744, \"GSW\", \"Golden State Warriors\", \"1520700015\", \"2007-07-09\", \"GSW vs. PHI\", \"W\", 201, 94, 36, 82, 0.439, 10, 17, 0.588, 12, 19, 0.632, 15, 23, 38, 14, 6, 8, 14, 28, null], [\"22007\", 1610612744, \"GSW\", \"Golden State Warriors\", \"1520700005\", \"2007-07-07\", \"GSW @ NOK\", \"W\", 199, 110, 40, 83, 0.482, 11, 20, 0.55, 19, 28, 0.679, 18, 23, 41, 16, 3, 4, 23, 31, null], [\"42006\", 1610612744, \"GSW\", \"Golden State Warriors\", \"0040600225\", \"2007-05-15\", \"GSW @ UTA\", \"L\", 241, 87, 28, 77, 0.364, 6, 30, 0.2, 25, 29, 0.862, 6, 29, 35, 14, 16, 7, 16, 31, -13.0], [\"42006\", 1610612744, \"GSW\", \"Golden State Warriors\", \"0040600224\", \"2007-05-13\", \"GSW vs. UTA\", \"L\", 240, 101, 34, 84, 0.405, 12, 39, 0.308, 21, 34, 0.618, 13, 23, 36, 14, 9, 7, 15, 31, -14.0], [\"42006\", 1610612744, \"GSW\", \"Golden State Warriors\", \"0040600223\", \"2007-05-11\", \"GSW vs. UTA\", \"W\", 240, 125, 41, 78, 0.526, 15, 32, 0.469, 28, 35, 0.8, 9, 23, 32, 22, 12, 8, 14, 28, 20.0], [\"42006\", 1610612744, \"GSW\", \"Golden State Warriors\", \"0040600222\", \"2007-05-09\", \"GSW @ UTA\", \"L\", 265, 117, 38, 90, 0.422, 15, 40, 0.375, 26, 37, 0.703, 13, 19, 32, 15, 13, 6, 12, 29, -10.0], [\"42006\", 1610612744, \"GSW\", \"Golden State Warriors\", \"0040600221\", \"2007-05-07\", \"GSW @ UTA\", \"L\", 240, 112, 41, 90, 0.456, 12, 31, 0.387, 18, 25, 0.72, 14, 22, 36, 20, 14, 6, 16, 25, -4.0], [\"42006\", 1610612744, \"GSW\", \"Golden State Warriors\", \"0040600146\", \"2007-05-03\", \"GSW vs. DAL\", \"W\", 239, 111, 37, 79, 0.468, 14, 30, 0.467, 23, 30, 0.767, 16, 37, 53, 24, 11, 3, 13, 16, 25.0], [\"42006\", 1610612744, \"GSW\", \"Golden State Warriors\", \"0040600145\", \"2007-05-01\", \"GSW @ DAL\", \"L\", 239, 112, 39, 83, 0.47, 16, 35, 0.457, 18, 26, 0.692, 11, 27, 38, 23, 8, 1, 15, 28, -7.0], [\"42006\", 1610612744, \"GSW\", \"Golden State Warriors\", \"0040600144\", \"2007-04-29\", \"GSW vs. DAL\", \"W\", 241, 103, 34, 74, 0.459, 12, 31, 0.387, 23, 37, 0.622, 10, 24, 34, 16, 8, 4, 10, 23, 4.0], [\"42006\", 1610612744, \"GSW\", \"Golden State Warriors\", \"0040600143\", \"2007-04-27\", \"GSW vs. DAL\", \"W\", 240, 109, 39, 81, 0.481, 6, 23, 0.261, 25, 34, 0.735, 12, 34, 46, 16, 8, 7, 14, 31, 18.0], [\"42006\", 1610612744, \"GSW\", \"Golden State Warriors\", \"0040600142\", \"2007-04-25\", \"GSW @ DAL\", \"L\", 240, 99, 36, 76, 0.474, 4, 20, 0.2, 23, 27, 0.852, 8, 26, 34, 9, 7, 5, 24, 29, -13.0], [\"42006\", 1610612744, \"GSW\", \"Golden State Warriors\", \"0040600141\", \"2007-04-22\", \"GSW @ DAL\", \"W\", 240, 97, 35, 81, 0.432, 10, 30, 0.333, 17, 22, 0.773, 14, 31, 45, 16, 7, 6, 14, 22, 12.0], [\"22006\", 1610612744, \"GSW\", \"Golden State Warriors\", \"0020601228\", \"2007-04-18\", \"GSW @ POR\", \"W\", 239, 120, 48, 91, 0.527, 11, 29, 0.379, 13, 19, 0.684, 11, 33, 44, 37, 11, 1, 14, 21, 22.0], [\"22006\", 1610612744, \"GSW\", \"Golden State Warriors\", \"0020601216\", \"2007-04-17\", \"GSW vs. DAL\", \"W\", 241, 111, 35, 84, 0.417, 11, 22, 0.5, 30, 37, 0.811, 15, 38, 53, 24, 10, 8, 8, 28, 29.0], [\"22006\", 1610612744, \"GSW\", \"Golden State Warriors\", \"0020601198\", \"2007-04-15\", \"GSW vs. MIN\", \"W\", 241, 121, 43, 92, 0.467, 12, 35, 0.343, 23, 28, 0.821, 13, 33, 46, 29, 13, 4, 16, 24, 13.0], [\"22006\", 1610612744, \"GSW\", \"Golden State Warriors\", \"0020601184\", \"2007-04-13\", \"GSW @ SAC\", \"W\", 241, 125, 46, 95, 0.484, 11, 28, 0.393, 22, 30, 0.733, 18, 33, 51, 19, 11, 4, 16, 29, 17.0], [\"22006\", 1610612744, \"GSW\", \"Golden State Warriors\", \"0020601156\", \"2007-04-09\", \"GSW vs. UTA\", \"W\", 241, 126, 47, 85, 0.553, 11, 21, 0.524, 21, 30, 0.7, 10, 35, 45, 29, 15, 11, 17, 30, 24.0], [\"22006\", 1610612744, \"GSW\", \"Golden State Warriors\", \"0020601137\", \"2007-04-07\", \"GSW @ SAS\", \"L\", 241, 99, 40, 94, 0.426, 11, 32, 0.344, 8, 14, 0.571, 12, 22, 34, 17, 4, 4, 11, 28, -13.0], [\"22006\", 1610612744, \"GSW\", \"Golden State Warriors\", \"0020601127\", \"2007-04-06\", \"GSW @ MEM\", \"W\", 239, 116, 42, 84, 0.5, 12, 36, 0.333, 20, 25, 0.8, 7, 27, 34, 29, 12, 3, 23, 28, 12.0], [\"22006\", 1610612744, \"GSW\", \"Golden State Warriors\", \"0020601115\", \"2007-04-04\", \"GSW @ HOU\", \"W\", 239, 110, 36, 82, 0.439, 16, 35, 0.457, 22, 27, 0.815, 8, 27, 35, 24, 14, 4, 10, 23, 11.0], [\"22006\", 1610612744, \"GSW\", \"Golden State Warriors\", \"0020601093\", \"2007-04-01\", \"GSW vs. MEM\", \"W\", 240, 122, 46, 89, 0.517, 16, 36, 0.444, 14, 21, 0.667, 9, 32, 41, 39, 8, 12, 11, 26, 5.0], [\"22006\", 1610612744, \"GSW\", \"Golden State Warriors\", \"0020601071\", \"2007-03-29\", \"GSW vs. PHX\", \"W\", 240, 124, 51, 98, 0.52, 13, 31, 0.419, 9, 14, 0.643, 11, 33, 44, 29, 8, 4, 14, 23, 5.0], [\"22006\", 1610612744, \"GSW\", \"Golden State Warriors\", \"0020601053\", \"2007-03-26\", \"GSW vs. SAS\", \"L\", 239, 89, 33, 89, 0.371, 5, 22, 0.227, 18, 25, 0.72, 10, 23, 33, 19, 7, 4, 13, 23, -37.0], [\"22006\", 1610612744, \"GSW\", \"Golden State Warriors\", \"0020601044\", \"2007-03-25\", \"GSW @ LAL\", \"L\", 240, 113, 42, 97, 0.433, 11, 35, 0.314, 18, 24, 0.75, 10, 23, 33, 30, 12, 2, 8, 29, -2.0], [\"22006\", 1610612744, \"GSW\", \"Golden State Warriors\", \"0020601030\", \"2007-03-23\", \"GSW vs. WAS\", \"W\", 242, 135, 49, 84, 0.583, 10, 25, 0.4, 27, 34, 0.794, 9, 27, 36, 34, 13, 1, 20, 25, 7.0], [\"22006\", 1610612744, \"GSW\", \"Golden State Warriors\", \"0020601003\", \"2007-03-20\", \"GSW @ UTA\", \"L\", 241, 100, 36, 80, 0.45, 14, 28, 0.5, 14, 17, 0.824, 10, 20, 30, 21, 7, 1, 14, 28, -4.0], [\"22006\", 1610612744, \"GSW\", \"Golden State Warriors\", \"0020600987\", \"2007-03-17\", \"GSW @ SEA\", \"W\", 241, 99, 38, 86, 0.442, 9, 24, 0.375, 14, 17, 0.824, 11, 33, 44, 21, 15, 3, 20, 24, 1.0], [\"22006\", 1610612744, \"GSW\", \"Golden State Warriors\", \"0020600978\", \"2007-03-16\", \"GSW vs. MIN\", \"W\", 239, 106, 39, 80, 0.488, 11, 27, 0.407, 17, 18, 0.944, 7, 31, 38, 27, 10, 3, 19, 30, 20.0], [\"22006\", 1610612744, \"GSW\", \"Golden State Warriors\", \"0020600947\", \"2007-03-12\", \"GSW vs. DAL\", \"W\", 240, 117, 44, 77, 0.571, 8, 21, 0.381, 21, 30, 0.7, 5, 23, 28, 31, 13, 6, 14, 26, 17.0], [\"22006\", 1610612744, \"GSW\", \"Golden State Warriors\", \"0020600942\", \"2007-03-11\", \"GSW @ POR\", \"L\", 240, 87, 31, 83, 0.373, 7, 25, 0.28, 18, 22, 0.818, 15, 28, 43, 17, 9, 3, 17, 18, -19.0], [\"22006\", 1610612744, \"GSW\", \"Golden State Warriors\", \"0020600926\", \"2007-03-09\", \"GSW vs. LAC\", \"W\", 239, 99, 37, 82, 0.451, 5, 16, 0.313, 20, 26, 0.769, 17, 31, 48, 17, 5, 6, 18, 26, 10.0], [\"22006\", 1610612744, \"GSW\", \"Golden State Warriors\", \"0020600916\", \"2007-03-07\", \"GSW vs. DEN\", \"W\", 240, 110, 41, 93, 0.441, 16, 34, 0.471, 12, 14, 0.857, 13, 37, 50, 31, 10, 9, 17, 25, 14.0], [\"22006\", 1610612744, \"GSW\", \"Golden State Warriors\", \"0020600897\", \"2007-03-05\", \"GSW @ DET\", \"W\", 239, 111, 42, 77, 0.545, 10, 24, 0.417, 17, 20, 0.85, 8, 37, 45, 24, 12, 3, 21, 22, 18.0], [\"22006\", 1610612744, \"GSW\", \"Golden State Warriors\", \"0020600888\", \"2007-03-04\", \"GSW @ WAS\", \"L\", 239, 106, 42, 95, 0.442, 10, 28, 0.357, 12, 15, 0.8, 17, 35, 52, 22, 5, 4, 20, 27, -1.0], [\"22006\", 1610612744, \"GSW\", \"Golden State Warriors\", \"0020600871\", \"2007-03-02\", \"GSW @ NYK\", \"L\", 240, 97, 40, 89, 0.449, 11, 23, 0.478, 6, 15, 0.4, 11, 27, 38, 19, 5, 5, 11, 27, -9.0], [\"22006\", 1610612744, \"GSW\", \"Golden State Warriors\", \"0020600860\", \"2007-02-28\", \"GSW @ CHI\", \"L\", 240, 83, 33, 82, 0.402, 4, 22, 0.182, 13, 19, 0.684, 12, 28, 40, 15, 7, 5, 22, 25, -30.0], [\"22006\", 1610612744, \"GSW\", \"Golden State Warriors\", \"0020600853\", \"2007-02-27\", \"GSW @ MIL\", \"L\", 241, 101, 42, 90, 0.467, 6, 22, 0.273, 11, 20, 0.55, 13, 30, 43, 27, 9, 5, 15, 19, -21.0], [\"22006\", 1610612744, \"GSW\", \"Golden State Warriors\", \"0020600838\", \"2007-02-25\", \"GSW vs. LAL\", \"L\", 240, 85, 37, 86, 0.43, 2, 19, 0.105, 9, 21, 0.429, 13, 31, 44, 16, 7, 8, 15, 20, -17.0], [\"22006\", 1610612744, \"GSW\", \"Golden State Warriors\", \"0020600826\", \"2007-02-24\", \"GSW @ LAC\", \"L\", 241, 90, 36, 82, 0.439, 8, 22, 0.364, 10, 15, 0.667, 7, 28, 35, 25, 10, 7, 19, 26, -13.0], [\"22006\", 1610612744, \"GSW\", \"Golden State Warriors\", \"0020600810\", \"2007-02-21\", \"GSW vs. MEM\", \"W\", 264, 118, 46, 100, 0.46, 5, 23, 0.217, 21, 28, 0.75, 12, 34, 46, 25, 15, 7, 15, 22, 3.0], [\"22006\", 1610612744, \"GSW\", \"Golden State Warriors\", \"0020600787\", \"2007-02-14\", \"GSW vs. NYK\", \"W\", 240, 120, 48, 80, 0.6, 11, 21, 0.524, 13, 21, 0.619, 9, 32, 41, 29, 8, 8, 18, 22, 19.0], [\"22006\", 1610612744, \"GSW\", \"Golden State Warriors\", \"0020600766\", \"2007-02-12\", \"GSW @ DEN\", \"L\", 240, 111, 44, 83, 0.53, 8, 25, 0.32, 15, 20, 0.75, 9, 25, 34, 29, 7, 8, 18, 21, -12.0], [\"22006\", 1610612744, \"GSW\", \"Golden State Warriors\", \"0020600763\", \"2007-02-11\", \"GSW vs. ATL\", \"L\", 241, 105, 39, 84, 0.464, 6, 18, 0.333, 21, 28, 0.75, 14, 30, 44, 22, 4, 4, 17, 23, -1.0], [\"22006\", 1610612744, \"GSW\", \"Golden State Warriors\", \"0020600748\", \"2007-02-09\", \"GSW vs. CHI\", \"W\", 267, 123, 44, 103, 0.427, 11, 25, 0.44, 24, 37, 0.649, 20, 35, 55, 31, 8, 9, 13, 30, 2.0], [\"22006\", 1610612744, \"GSW\", \"Golden State Warriors\", \"0020600732\", \"2007-02-07\", \"GSW @ MIN\", \"L\", 241, 93, 37, 100, 0.37, 6, 26, 0.231, 13, 16, 0.813, 14, 28, 42, 24, 10, 8, 12, 16, -28.0], [\"22006\", 1610612744, \"GSW\", \"Golden State Warriors\", \"0020600715\", \"2007-02-05\", \"GSW @ IND\", \"W\", 240, 113, 37, 85, 0.435, 11, 17, 0.647, 28, 33, 0.848, 11, 46, 57, 16, 10, 7, 24, 25, 15.0], [\"22006\", 1610612744, \"GSW\", \"Golden State Warriors\", \"0020600700\", \"2007-02-03\", \"GSW @ CHA\", \"L\", 239, 90, 36, 86, 0.419, 4, 21, 0.19, 14, 21, 0.667, 16, 33, 49, 13, 6, 5, 17, 18, -8.0], [\"22006\", 1610612744, \"GSW\", \"Golden State Warriors\", \"0020600689\", \"2007-02-02\", \"GSW @ PHI\", \"W\", 240, 102, 40, 86, 0.465, 4, 12, 0.333, 18, 25, 0.72, 12, 29, 41, 19, 10, 5, 14, 24, 1.0], [\"22006\", 1610612744, \"GSW\", \"Golden State Warriors\", \"0020600676\", \"2007-01-31\", \"GSW @ ATL\", \"L\", 235, 94, 32, 73, 0.438, 1, 15, 0.067, 29, 41, 0.707, 9, 22, 31, 22, 12, 4, 12, 22, -21.0], [\"22006\", 1610612744, \"GSW\", \"Golden State Warriors\", \"0020600669\", \"2007-01-30\", \"GSW @ CLE\", \"L\", 232, 97, 31, 76, 0.408, 2, 20, 0.1, 33, 39, 0.846, 10, 25, 35, 14, 5, 8, 20, 28, -27.0], [\"22006\", 1610612744, \"GSW\", \"Golden State Warriors\", \"0020600654\", \"2007-01-27\", \"GSW vs. CHA\", \"W\", 234, 131, 44, 79, 0.557, 10, 17, 0.588, 33, 44, 0.75, 10, 32, 42, 31, 16, 9, 15, 25, 26.0], [\"22006\", 1610612744, \"GSW\", \"Golden State Warriors\", \"0020600631\", \"2007-01-24\", \"GSW vs. NJN\", \"W\", 240, 110, 39, 84, 0.464, 5, 26, 0.192, 27, 35, 0.771, 11, 26, 37, 25, 9, 5, 14, 25, 1.0], [\"22006\", 1610612744, \"GSW\", \"Golden State Warriors\", \"0020600614\", \"2007-01-22\", \"GSW @ LAL\", \"L\", 238, 103, 42, 88, 0.477, 5, 18, 0.278, 14, 20, 0.7, 10, 26, 36, 19, 18, 6, 20, 29, -5.0], [\"22006\", 1610612744, \"GSW\", \"Golden State Warriors\", \"0020600601\", \"2007-01-20\", \"GSW vs. CLE\", \"L\", 260, 104, 39, 98, 0.398, 12, 28, 0.429, 14, 21, 0.667, 11, 34, 45, 29, 16, 6, 19, 24, -2.0], [\"22006\", 1610612744, \"GSW\", \"Golden State Warriors\", \"0020600578\", \"2007-01-17\", \"GSW @ LAC\", \"L\", 240, 109, 38, 91, 0.418, 9, 20, 0.45, 24, 33, 0.727, 12, 32, 44, 19, 12, 5, 14, 27, -6.0], [\"22006\", 1610612744, \"GSW\", \"Golden State Warriors\", \"0020600562\", \"2007-01-15\", \"GSW vs. LAC\", \"W\", 240, 108, 39, 92, 0.424, 5, 21, 0.238, 25, 37, 0.676, 20, 34, 54, 24, 13, 4, 15, 23, 15.0], [\"22006\", 1610612744, \"GSW\", \"Golden State Warriors\", \"0020600540\", \"2007-01-12\", \"GSW vs. MIA\", \"L\", 240, 96, 36, 86, 0.419, 6, 22, 0.273, 18, 33, 0.545, 12, 28, 40, 22, 10, 3, 13, 18, -22.0], [\"22006\", 1610612744, \"GSW\", \"Golden State Warriors\", \"0020600527\", \"2007-01-10\", \"GSW vs. ORL\", \"L\", 240, 76, 28, 76, 0.368, 5, 17, 0.294, 15, 27, 0.556, 10, 35, 45, 20, 10, 7, 18, 24, -15.0], [\"22006\", 1610612744, \"GSW\", \"Golden State Warriors\", \"0020600502\", \"2007-01-07\", \"GSW @ PHX\", \"L\", 240, 105, 37, 85, 0.435, 4, 15, 0.267, 27, 35, 0.771, 14, 36, 50, 10, 8, 4, 25, 22, -23.0], [\"22006\", 1610612744, \"GSW\", \"Golden State Warriors\", \"0020600497\", \"2007-01-06\", \"GSW vs. SEA\", \"W\", 240, 108, 42, 84, 0.5, 6, 22, 0.273, 18, 34, 0.529, 15, 29, 44, 23, 5, 5, 14, 19, 4.0], [\"22006\", 1610612744, \"GSW\", \"Golden State Warriors\", \"0020600471\", \"2007-01-03\", \"GSW @ MEM\", \"L\", 240, 135, 48, 101, 0.475, 18, 46, 0.391, 21, 24, 0.875, 15, 27, 42, 33, 6, 7, 12, 26, -9.0], [\"22006\", 1610612744, \"GSW\", \"Golden State Warriors\", \"0020600462\", \"2007-01-02\", \"GSW @ NOK\", \"W\", 240, 97, 34, 86, 0.395, 9, 29, 0.31, 20, 31, 0.645, 13, 33, 46, 17, 10, 2, 6, 16, 8.0], [\"22006\", 1610612744, \"GSW\", \"Golden State Warriors\", \"0020600450\", \"2006-12-30\", \"GSW @ SAC\", \"L\", 240, 96, 34, 92, 0.37, 8, 31, 0.258, 20, 31, 0.645, 18, 31, 49, 17, 7, 4, 20, 26, -23.0], [\"22006\", 1610612744, \"GSW\", \"Golden State Warriors\", \"0020600441\", \"2006-12-29\", \"GSW vs. BOS\", \"W\", 240, 110, 38, 83, 0.458, 7, 23, 0.304, 27, 35, 0.771, 16, 26, 42, 28, 8, 9, 13, 24, 10.0], [\"22006\", 1610612744, \"GSW\", \"Golden State Warriors\", \"0020600414\", \"2006-12-26\", \"GSW vs. PHI\", \"W\", 240, 116, 40, 73, 0.548, 13, 28, 0.464, 23, 32, 0.719, 7, 32, 39, 25, 6, 7, 19, 17, 19.0], [\"22006\", 1610612744, \"GSW\", \"Golden State Warriors\", \"0020600394\", \"2006-12-23\", \"GSW @ MIA\", \"L\", 240, 92, 37, 99, 0.374, 7, 27, 0.259, 11, 17, 0.647, 19, 34, 53, 20, 7, 6, 15, 18, -13.0], [\"22006\", 1610612744, \"GSW\", \"Golden State Warriors\", \"0020600380\", \"2006-12-22\", \"GSW @ ORL\", \"W\", 240, 117, 40, 83, 0.482, 9, 24, 0.375, 28, 37, 0.757, 13, 24, 37, 18, 11, 8, 13, 26, 9.0], [\"22006\", 1610612744, \"GSW\", \"Golden State Warriors\", \"0020600367\", \"2006-12-20\", \"GSW @ BOS\", \"W\", 240, 96, 36, 83, 0.434, 4, 16, 0.25, 20, 25, 0.8, 14, 25, 39, 18, 11, 2, 19, 22, 1.0], [\"22006\", 1610612744, \"GSW\", \"Golden State Warriors\", \"0020600356\", \"2006-12-18\", \"GSW @ NJN\", \"L\", 240, 97, 38, 84, 0.452, 10, 29, 0.345, 11, 19, 0.579, 6, 35, 41, 23, 8, 6, 17, 20, -8.0], [\"22006\", 1610612744, \"GSW\", \"Golden State Warriors\", \"0020600351\", \"2006-12-17\", \"GSW @ TOR\", \"L\", 240, 115, 42, 83, 0.506, 9, 24, 0.375, 22, 25, 0.88, 8, 30, 38, 23, 3, 2, 17, 27, -5.0], [\"22006\", 1610612744, \"GSW\", \"Golden State Warriors\", \"0020600338\", \"2006-12-15\", \"GSW @ PHX\", \"L\", 240, 101, 38, 94, 0.404, 12, 31, 0.387, 13, 17, 0.765, 6, 38, 44, 19, 10, 6, 15, 23, -4.0], [\"22006\", 1610612744, \"GSW\", \"Golden State Warriors\", \"0020600328\", \"2006-12-14\", \"GSW vs. HOU\", \"W\", 240, 109, 38, 80, 0.475, 6, 21, 0.286, 27, 35, 0.771, 6, 27, 33, 24, 6, 7, 15, 19, 2.0], [\"22006\", 1610612744, \"GSW\", \"Golden State Warriors\", \"0020600312\", \"2006-12-12\", \"GSW vs. SAC\", \"W\", 240, 126, 43, 81, 0.531, 15, 27, 0.556, 25, 36, 0.694, 12, 32, 44, 33, 10, 5, 12, 24, 13.0], [\"22006\", 1610612744, \"GSW\", \"Golden State Warriors\", \"0020600298\", \"2006-12-10\", \"GSW @ SEA\", \"L\", 240, 115, 40, 84, 0.476, 11, 26, 0.423, 24, 28, 0.857, 11, 26, 37, 25, 2, 6, 13, 24, -2.0], [\"22006\", 1610612744, \"GSW\", \"Golden State Warriors\", \"0020600294\", \"2006-12-09\", \"GSW vs. NOK\", \"W\", 240, 101, 41, 83, 0.494, 8, 28, 0.286, 11, 13, 0.846, 9, 33, 42, 29, 9, 3, 15, 22, 21.0], [\"22006\", 1610612744, \"GSW\", \"Golden State Warriors\", \"0020600257\", \"2006-12-05\", \"GSW @ HOU\", \"L\", 240, 90, 32, 82, 0.39, 8, 17, 0.471, 18, 30, 0.6, 9, 26, 35, 11, 13, 5, 16, 24, -28.0], [\"22006\", 1610612744, \"GSW\", \"Golden State Warriors\", \"0020600250\", \"2006-12-04\", \"GSW @ SAS\", \"L\", 240, 89, 37, 91, 0.407, 4, 16, 0.25, 11, 16, 0.688, 7, 27, 34, 20, 5, 5, 10, 17, -40.0], [\"22006\", 1610612744, \"GSW\", \"Golden State Warriors\", \"0020600243\", \"2006-12-02\", \"GSW vs. MIL\", \"L\", 240, 110, 42, 85, 0.494, 10, 31, 0.323, 16, 20, 0.8, 11, 22, 33, 31, 10, 3, 18, 29, -5.0], [\"22006\", 1610612744, \"GSW\", \"Golden State Warriors\", \"0020600221\", \"2006-11-29\", \"GSW vs. IND\", \"L\", 240, 106, 45, 88, 0.511, 8, 18, 0.444, 8, 12, 0.667, 7, 38, 45, 25, 7, 15, 19, 22, -2.0], [\"22006\", 1610612744, \"GSW\", \"Golden State Warriors\", \"0020600203\", \"2006-11-27\", \"GSW vs. SAS\", \"W\", 240, 111, 41, 83, 0.494, 9, 17, 0.529, 20, 24, 0.833, 8, 28, 36, 27, 10, 11, 12, 18, 9.0], [\"22006\", 1610612744, \"GSW\", \"Golden State Warriors\", \"0020600194\", \"2006-11-25\", \"GSW vs. UTA\", \"W\", 240, 91, 36, 89, 0.404, 4, 18, 0.222, 15, 23, 0.652, 20, 32, 52, 26, 14, 12, 16, 15, 13.0], [\"22006\", 1610612744, \"GSW\", \"Golden State Warriors\", \"0020600180\", \"2006-11-24\", \"GSW @ DEN\", \"L\", 240, 129, 53, 93, 0.57, 8, 26, 0.308, 15, 24, 0.625, 15, 24, 39, 30, 8, 5, 26, 28, -11.0], [\"22006\", 1610612744, \"GSW\", \"Golden State Warriors\", \"0020600170\", \"2006-11-22\", \"GSW vs. DEN\", \"L\", 240, 112, 42, 94, 0.447, 10, 29, 0.345, 18, 29, 0.621, 12, 22, 34, 31, 12, 10, 14, 30, -3.0], [\"22006\", 1610612744, \"GSW\", \"Golden State Warriors\", \"0020600150\", \"2006-11-20\", \"GSW vs. PHX\", \"L\", 240, 110, 47, 91, 0.516, 8, 20, 0.4, 8, 14, 0.571, 12, 38, 50, 20, 6, 8, 22, 17, -3.0], [\"22006\", 1610612744, \"GSW\", \"Golden State Warriors\", \"0020600141\", \"2006-11-18\", \"GSW vs. SEA\", \"W\", 240, 107, 43, 86, 0.5, 3, 14, 0.214, 18, 24, 0.75, 11, 37, 48, 26, 7, 6, 13, 17, 12.0], [\"22006\", 1610612744, \"GSW\", \"Golden State Warriors\", \"0020600118\", \"2006-11-16\", \"GSW vs. SAC\", \"W\", 239, 117, 45, 78, 0.577, 8, 20, 0.4, 19, 28, 0.679, 8, 31, 39, 29, 8, 6, 20, 27, 12.0], [\"22006\", 1610612744, \"GSW\", \"Golden State Warriors\", \"0020600107\", \"2006-11-14\", \"GSW vs. TOR\", \"W\", 240, 110, 42, 97, 0.433, 11, 31, 0.355, 15, 23, 0.652, 14, 28, 42, 27, 7, 5, 11, 25, 11.0], [\"22006\", 1610612744, \"GSW\", \"Golden State Warriors\", \"0020600089\", \"2006-11-11\", \"GSW vs. DET\", \"W\", 240, 111, 43, 76, 0.566, 12, 21, 0.571, 13, 25, 0.52, 10, 32, 42, 33, 11, 4, 14, 18, 32.0], [\"22006\", 1610612744, \"GSW\", \"Golden State Warriors\", \"0020600071\", \"2006-11-09\", \"GSW vs. NOK\", \"W\", 240, 121, 39, 76, 0.513, 13, 34, 0.382, 30, 37, 0.811, 7, 23, 30, 30, 9, 5, 10, 31, 5.0], [\"22006\", 1610612744, \"GSW\", \"Golden State Warriors\", \"0020600056\", \"2006-11-07\", \"GSW @ NOK\", \"L\", 240, 93, 37, 80, 0.463, 7, 25, 0.28, 12, 15, 0.8, 9, 25, 34, 20, 7, 9, 14, 22, -4.0], [\"22006\", 1610612744, \"GSW\", \"Golden State Warriors\", \"0020600048\", \"2006-11-06\", \"GSW @ DAL\", \"W\", 240, 107, 36, 73, 0.493, 10, 23, 0.435, 25, 31, 0.806, 9, 30, 39, 19, 5, 6, 17, 21, 3.0], [\"22006\", 1610612744, \"GSW\", \"Golden State Warriors\", \"0020600037\", \"2006-11-04\", \"GSW @ UTA\", \"L\", 240, 82, 28, 73, 0.384, 6, 16, 0.375, 20, 35, 0.571, 11, 23, 34, 16, 9, 7, 18, 19, -24.0], [\"22006\", 1610612744, \"GSW\", \"Golden State Warriors\", \"0020600030\", \"2006-11-03\", \"GSW vs. POR\", \"W\", 238, 102, 38, 77, 0.494, 5, 11, 0.455, 21, 31, 0.677, 12, 27, 39, 21, 8, 3, 15, 21, 13.0], [\"22006\", 1610612744, \"GSW\", \"Golden State Warriors\", \"0020600015\", \"2006-11-01\", \"GSW vs. LAL\", \"L\", 240, 98, 34, 82, 0.415, 3, 19, 0.158, 27, 42, 0.643, 12, 34, 46, 18, 6, 4, 10, 31, -12.0], [\"12006\", 1610612744, \"GSW\", \"Golden State Warriors\", \"0010600115\", \"2006-10-26\", \"GSW @ SEA\", \"L\", 265, 107, 42, 79, 0.532, 2, 11, 0.182, 21, 29, 0.724, 7, 37, 44, 20, 3, 5, 26, 24, null], [\"12006\", 1610612744, \"GSW\", \"Golden State Warriors\", \"0010600102\", \"2006-10-24\", \"GSW vs. POR\", \"W\", 460, 108, 44, 82, 0.537, 7, 18, 0.389, 13, 22, 0.591, 10, 29, 39, 28, 11, 3, 17, 27, null], [\"12006\", 1610612744, \"GSW\", \"Golden State Warriors\", \"0010600071\", \"2006-10-20\", \"GSW @ LAC\", \"W\", 240, 116, 43, 79, 0.544, 6, 15, 0.4, 24, 33, 0.727, 9, 27, 36, 21, 7, 9, 17, 24, null], [\"12006\", 1610612744, \"GSW\", \"Golden State Warriors\", \"0010600062\", \"2006-10-19\", \"GSW vs. NOK\", \"W\", 240, 112, 40, 78, 0.513, 3, 11, 0.273, 29, 48, 0.604, 10, 36, 46, 15, 10, 3, 25, 33, null], [\"12006\", 1610612744, \"GSW\", \"Golden State Warriors\", \"0010600053\", \"2006-10-17\", \"GSW @ POR\", \"W\", 265, 124, 43, 94, 0.457, 10, 27, 0.37, 28, 36, 0.778, 14, 25, 39, 28, 14, 5, 15, 39, null], [\"12006\", 1610612744, \"GSW\", \"Golden State Warriors\", \"0010600040\", \"2006-10-14\", \"GSW @ DEN\", \"W\", 240, 121, 45, 96, 0.469, 5, 14, 0.357, 26, 33, 0.788, 12, 37, 49, 25, 12, 5, 20, 32, null], [\"12006\", 1610612744, \"GSW\", \"Golden State Warriors\", \"0010600026\", \"2006-10-12\", \"GSW vs. EPT\", \"W\", 240, 120, 49, 94, 0.521, 4, 13, 0.308, 18, 22, 0.818, 15, 31, 46, 31, 13, 3, 12, 27, null], [\"22005\", 1610612744, \"GSW\", \"Golden State Warriors\", \"0020501227\", \"2006-04-19\", \"GSW @ UTA\", \"L\", 240, 102, 36, 90, 0.4, 6, 21, 0.286, 24, 33, 0.727, 22, 23, 45, 16, 8, 5, 12, 25, -3.0], [\"22005\", 1610612744, \"GSW\", \"Golden State Warriors\", \"0020501211\", \"2006-04-17\", \"GSW vs. POR\", \"W\", 240, 93, 37, 82, 0.451, 4, 15, 0.267, 15, 21, 0.714, 17, 30, 47, 26, 10, 2, 16, 16, 14.0], [\"22005\", 1610612744, \"GSW\", \"Golden State Warriors\", \"0020501193\", \"2006-04-15\", \"GSW @ POR\", \"W\", 240, 86, 30, 81, 0.37, 3, 18, 0.167, 23, 33, 0.697, 16, 34, 50, 12, 8, 0, 10, 17, 5.0], [\"22005\", 1610612744, \"GSW\", \"Golden State Warriors\", \"0020501186\", \"2006-04-14\", \"GSW vs. PHX\", \"W\", 239, 110, 43, 91, 0.473, 8, 22, 0.364, 16, 19, 0.842, 7, 32, 39, 19, 11, 7, 10, 15, 8.0], [\"22005\", 1610612744, \"GSW\", \"Golden State Warriors\", \"0020501173\", \"2006-04-12\", \"GSW vs. DAL\", \"W\", 240, 114, 37, 76, 0.487, 5, 14, 0.357, 35, 43, 0.814, 14, 31, 45, 22, 7, 7, 16, 22, 12.0], [\"22005\", 1610612744, \"GSW\", \"Golden State Warriors\", \"0020501161\", \"2006-04-11\", \"GSW @ LAL\", \"L\", 240, 100, 34, 82, 0.415, 9, 21, 0.429, 23, 33, 0.697, 14, 33, 47, 17, 10, 5, 15, 23, -11.0], [\"22005\", 1610612744, \"GSW\", \"Golden State Warriors\", \"0020501137\", \"2006-04-08\", \"GSW @ DEN\", \"L\", 240, 92, 33, 83, 0.398, 5, 15, 0.333, 21, 26, 0.808, 13, 37, 50, 21, 5, 2, 15, 26, -3.0], [\"22005\", 1610612744, \"GSW\", \"Golden State Warriors\", \"0020501132\", \"2006-04-07\", \"GSW vs. HOU\", \"L\", 240, 93, 31, 77, 0.403, 10, 22, 0.455, 21, 26, 0.808, 9, 30, 39, 23, 6, 6, 13, 20, -7.0], [\"22005\", 1610612744, \"GSW\", \"Golden State Warriors\", \"0020501114\", \"2006-04-05\", \"GSW @ NOK\", \"L\", 265, 109, 39, 80, 0.488, 7, 22, 0.318, 24, 30, 0.8, 11, 35, 46, 22, 4, 6, 17, 26, -5.0], [\"22005\", 1610612744, \"GSW\", \"Golden State Warriors\", \"0020501102\", \"2006-04-04\", \"GSW @ MEM\", \"L\", 240, 75, 26, 76, 0.342, 5, 19, 0.263, 18, 25, 0.72, 14, 30, 44, 12, 6, 2, 16, 22, -25.0], [\"22005\", 1610612744, \"GSW\", \"Golden State Warriors\", \"0020501088\", \"2006-04-02\", \"GSW @ MIN\", \"L\", 266, 104, 39, 94, 0.415, 11, 39, 0.282, 15, 18, 0.833, 15, 29, 44, 27, 5, 3, 21, 25, -2.0], [\"22005\", 1610612744, \"GSW\", \"Golden State Warriors\", \"0020501077\", \"2006-03-31\", \"GSW vs. SAC\", \"L\", 239, 93, 39, 82, 0.476, 9, 28, 0.321, 6, 13, 0.462, 5, 31, 36, 26, 10, 6, 14, 21, -3.0], [\"22005\", 1610612744, \"GSW\", \"Golden State Warriors\", \"0020501064\", \"2006-03-29\", \"GSW vs. NOK\", \"L\", 240, 85, 30, 79, 0.38, 8, 26, 0.308, 17, 23, 0.739, 16, 33, 49, 19, 7, 5, 15, 17, -1.0], [\"22005\", 1610612744, \"GSW\", \"Golden State Warriors\", \"0020501046\", \"2006-03-27\", \"GSW vs. WAS\", \"L\", 240, 98, 39, 86, 0.453, 12, 28, 0.429, 8, 21, 0.381, 15, 30, 45, 25, 3, 3, 20, 23, -18.0], [\"22005\", 1610612744, \"GSW\", \"Golden State Warriors\", \"0020501040\", \"2006-03-26\", \"GSW @ SAC\", \"W\", 240, 90, 33, 76, 0.434, 9, 22, 0.409, 15, 21, 0.714, 13, 35, 48, 20, 6, 4, 14, 21, 7.0], [\"22005\", 1610612744, \"GSW\", \"Golden State Warriors\", \"0020501014\", \"2006-03-23\", \"GSW @ DAL\", \"W\", 240, 122, 43, 92, 0.467, 11, 24, 0.458, 25, 28, 0.893, 13, 19, 32, 26, 15, 1, 11, 30, 1.0], [\"22005\", 1610612744, \"GSW\", \"Golden State Warriors\", \"0020500999\", \"2006-03-21\", \"GSW @ SAS\", \"L\", 240, 96, 36, 86, 0.419, 2, 15, 0.133, 22, 27, 0.815, 13, 26, 39, 8, 6, 2, 13, 25, -11.0], [\"22005\", 1610612744, \"GSW\", \"Golden State Warriors\", \"0020500986\", \"2006-03-19\", \"GSW vs. PHI\", \"W\", 240, 98, 37, 85, 0.435, 6, 22, 0.273, 18, 28, 0.643, 14, 39, 53, 24, 5, 5, 12, 22, 9.0], [\"22005\", 1610612744, \"GSW\", \"Golden State Warriors\", \"0020500961\", \"2006-03-16\", \"GSW vs. MIN\", \"W\", 240, 105, 37, 79, 0.468, 6, 17, 0.353, 25, 37, 0.676, 13, 33, 46, 24, 3, 3, 15, 21, 8.0], [\"22005\", 1610612744, \"GSW\", \"Golden State Warriors\", \"0020500921\", \"2006-03-11\", \"GSW @ ORL\", \"L\", 240, 92, 37, 79, 0.468, 10, 23, 0.435, 8, 9, 0.889, 7, 19, 26, 23, 6, 4, 17, 24, -11.0], [\"22005\", 1610612744, \"GSW\", \"Golden State Warriors\", \"0020500913\", \"2006-03-10\", \"GSW @ MIA\", \"W\", 240, 111, 40, 77, 0.519, 10, 17, 0.588, 21, 38, 0.553, 9, 25, 34, 17, 9, 1, 12, 26, 5.0], [\"22005\", 1610612744, \"GSW\", \"Golden State Warriors\", \"0020500899\", \"2006-03-08\", \"GSW @ CHA\", \"L\", 240, 101, 39, 86, 0.453, 6, 16, 0.375, 17, 24, 0.708, 21, 32, 53, 21, 7, 4, 18, 26, -3.0], [\"22005\", 1610612744, \"GSW\", \"Golden State Warriors\", \"0020500890\", \"2006-03-07\", \"GSW @ ATL\", \"L\", 240, 106, 38, 86, 0.442, 11, 24, 0.458, 19, 25, 0.76, 12, 29, 41, 16, 6, 6, 16, 31, -7.0], [\"22005\", 1610612744, \"GSW\", \"Golden State Warriors\", \"0020500878\", \"2006-03-05\", \"GSW @ MIN\", \"L\", 240, 90, 35, 79, 0.443, 9, 23, 0.391, 11, 15, 0.733, 7, 28, 35, 16, 5, 7, 17, 26, -13.0], [\"22005\", 1610612744, \"GSW\", \"Golden State Warriors\", \"0020500865\", \"2006-03-03\", \"GSW vs. LAL\", \"L\", 240, 94, 32, 96, 0.333, 10, 32, 0.313, 20, 22, 0.909, 15, 22, 37, 25, 10, 3, 11, 30, -12.0], [\"22005\", 1610612744, \"GSW\", \"Golden State Warriors\", \"0020500854\", \"2006-03-01\", \"GSW vs. ORL\", \"W\", 240, 98, 32, 74, 0.432, 7, 18, 0.389, 27, 40, 0.675, 11, 33, 44, 24, 5, 5, 11, 18, 4.0], [\"22005\", 1610612744, \"GSW\", \"Golden State Warriors\", \"0020500838\", \"2006-02-27\", \"GSW vs. UTA\", \"L\", 265, 108, 39, 88, 0.443, 5, 22, 0.227, 25, 41, 0.61, 15, 26, 41, 20, 6, 9, 16, 31, -9.0], [\"22005\", 1610612744, \"GSW\", \"Golden State Warriors\", \"0020500819\", \"2006-02-25\", \"GSW @ SAS\", \"L\", 240, 75, 30, 89, 0.337, 4, 10, 0.4, 11, 16, 0.688, 17, 30, 47, 11, 10, 7, 14, 18, -17.0], [\"22005\", 1610612744, \"GSW\", \"Golden State Warriors\", \"0020500811\", \"2006-02-24\", \"GSW @ HOU\", \"L\", 240, 88, 33, 84, 0.393, 11, 23, 0.478, 11, 22, 0.5, 9, 36, 45, 21, 9, 6, 11, 22, -3.0], [\"22005\", 1610612744, \"GSW\", \"Golden State Warriors\", \"0020500789\", \"2006-02-21\", \"GSW @ SAC\", \"L\", 240, 77, 29, 91, 0.319, 3, 15, 0.2, 16, 22, 0.727, 14, 25, 39, 13, 9, 2, 11, 19, -25.0], [\"22005\", 1610612744, \"GSW\", \"Golden State Warriors\", \"0020500776\", \"2006-02-15\", \"GSW vs. LAC\", \"W\", 240, 88, 30, 78, 0.385, 3, 15, 0.2, 25, 38, 0.658, 18, 34, 52, 19, 9, 5, 16, 18, 7.0], [\"22005\", 1610612744, \"GSW\", \"Golden State Warriors\", \"0020500757\", \"2006-02-13\", \"GSW vs. MEM\", \"L\", 240, 79, 28, 74, 0.378, 3, 17, 0.176, 20, 23, 0.87, 10, 38, 48, 18, 6, 9, 16, 22, -2.0], [\"22005\", 1610612744, \"GSW\", \"Golden State Warriors\", \"0020500737\", \"2006-02-11\", \"GSW @ CLE\", \"W\", 240, 99, 38, 76, 0.5, 7, 18, 0.389, 16, 29, 0.552, 8, 28, 36, 23, 3, 4, 13, 24, 8.0], [\"22005\", 1610612744, \"GSW\", \"Golden State Warriors\", \"0020500730\", \"2006-02-10\", \"GSW @ IND\", \"L\", 239, 95, 32, 81, 0.395, 7, 27, 0.259, 24, 31, 0.774, 16, 29, 45, 17, 4, 5, 15, 26, -12.0], [\"22005\", 1610612744, \"GSW\", \"Golden State Warriors\", \"0020500712\", \"2006-02-08\", \"GSW @ WAS\", \"L\", 240, 124, 46, 82, 0.561, 8, 26, 0.308, 24, 31, 0.774, 11, 24, 35, 25, 10, 3, 16, 41, -5.0], [\"22005\", 1610612744, \"GSW\", \"Golden State Warriors\", \"0020500705\", \"2006-02-06\", \"GSW vs. DEN\", \"W\", 241, 122, 43, 88, 0.489, 10, 21, 0.476, 26, 35, 0.743, 14, 33, 47, 26, 9, 9, 15, 25, 8.0], [\"22005\", 1610612744, \"GSW\", \"Golden State Warriors\", \"0020500694\", \"2006-02-04\", \"GSW vs. MIN\", \"W\", 240, 109, 38, 80, 0.475, 6, 14, 0.429, 27, 30, 0.9, 9, 38, 47, 26, 10, 11, 12, 17, 32.0], [\"22005\", 1610612744, \"GSW\", \"Golden State Warriors\", \"0020500675\", \"2006-02-02\", \"GSW vs. SAS\", \"L\", 240, 86, 32, 74, 0.432, 4, 11, 0.364, 18, 27, 0.667, 10, 30, 40, 17, 6, 3, 15, 24, -3.0], [\"22005\", 1610612744, \"GSW\", \"Golden State Warriors\", \"0020500673\", \"2006-02-01\", \"GSW @ SEA\", \"L\", 240, 107, 37, 84, 0.44, 11, 29, 0.379, 22, 30, 0.733, 11, 29, 40, 21, 8, 2, 13, 25, -4.0], [\"22005\", 1610612744, \"GSW\", \"Golden State Warriors\", \"0020500640\", \"2006-01-28\", \"GSW vs. POR\", \"W\", 240, 98, 38, 81, 0.469, 4, 15, 0.267, 18, 28, 0.643, 18, 34, 52, 23, 6, 4, 14, 20, 15.0], [\"22005\", 1610612744, \"GSW\", \"Golden State Warriors\", \"0020500631\", \"2006-01-27\", \"GSW @ LAL\", \"L\", 265, 105, 38, 96, 0.396, 8, 26, 0.308, 21, 28, 0.75, 16, 34, 50, 21, 11, 2, 18, 39, -1.0], [\"22005\", 1610612744, \"GSW\", \"Golden State Warriors\", \"0020500615\", \"2006-01-25\", \"GSW vs. DAL\", \"L\", 240, 93, 32, 77, 0.416, 6, 18, 0.333, 23, 35, 0.657, 15, 32, 47, 18, 6, 3, 12, 24, -9.0], [\"22005\", 1610612744, \"GSW\", \"Golden State Warriors\", \"0020500597\", \"2006-01-23\", \"GSW vs. LAC\", \"L\", 240, 93, 38, 84, 0.452, 6, 23, 0.261, 11, 23, 0.478, 18, 33, 51, 23, 3, 7, 12, 27, -3.0], [\"22005\", 1610612744, \"GSW\", \"Golden State Warriors\", \"0020500586\", \"2006-01-22\", \"GSW @ LAC\", \"L\", 240, 92, 29, 71, 0.408, 8, 20, 0.4, 26, 31, 0.839, 3, 24, 27, 16, 8, 3, 12, 18, -13.0], [\"22005\", 1610612744, \"GSW\", \"Golden State Warriors\", \"0020500575\", \"2006-01-20\", \"GSW vs. CLE\", \"W\", 240, 99, 37, 78, 0.474, 8, 15, 0.533, 17, 30, 0.567, 10, 35, 45, 22, 13, 4, 14, 20, 20.0], [\"22005\", 1610612744, \"GSW\", \"Golden State Warriors\", \"0020500544\", \"2006-01-16\", \"GSW vs. SEA\", \"W\", 242, 109, 42, 82, 0.512, 9, 23, 0.391, 16, 23, 0.696, 12, 35, 47, 25, 6, 4, 16, 20, 16.0], [\"22005\", 1610612744, \"GSW\", \"Golden State Warriors\", \"0020500532\", \"2006-01-14\", \"GSW vs. LAL\", \"L\", 240, 104, 41, 94, 0.436, 10, 32, 0.313, 12, 20, 0.6, 15, 28, 43, 21, 10, 4, 10, 26, -6.0], [\"22005\", 1610612744, \"GSW\", \"Golden State Warriors\", \"0020500511\", \"2006-01-12\", \"GSW @ PHX\", \"L\", 240, 99, 39, 102, 0.382, 8, 30, 0.267, 13, 20, 0.65, 16, 39, 55, 22, 7, 4, 8, 15, -13.0], [\"22005\", 1610612744, \"GSW\", \"Golden State Warriors\", \"0020500509\", \"2006-01-11\", \"GSW vs. MIA\", \"L\", 240, 96, 33, 86, 0.384, 9, 26, 0.346, 21, 26, 0.808, 7, 30, 37, 22, 8, 3, 7, 23, -14.0], [\"22005\", 1610612744, \"GSW\", \"Golden State Warriors\", \"0020500458\", \"2006-01-05\", \"GSW vs. IND\", \"L\", 240, 89, 33, 76, 0.434, 3, 20, 0.15, 20, 28, 0.714, 8, 30, 38, 16, 6, 6, 13, 23, -10.0], [\"22005\", 1610612744, \"GSW\", \"Golden State Warriors\", \"0020500444\", \"2006-01-03\", \"GSW @ MEM\", \"L\", 240, 94, 38, 81, 0.469, 8, 21, 0.381, 10, 12, 0.833, 7, 27, 34, 22, 10, 3, 12, 26, -10.0], [\"22005\", 1610612744, \"GSW\", \"Golden State Warriors\", \"0020500429\", \"2005-12-31\", \"GSW @ HOU\", \"W\", 240, 94, 31, 82, 0.378, 6, 24, 0.25, 26, 33, 0.788, 11, 30, 41, 17, 5, 0, 5, 21, 5.0], [\"22005\", 1610612744, \"GSW\", \"Golden State Warriors\", \"0020500423\", \"2005-12-30\", \"GSW @ DAL\", \"W\", 240, 111, 40, 85, 0.471, 9, 19, 0.474, 22, 26, 0.846, 15, 28, 43, 19, 6, 9, 14, 25, 2.0], [\"22005\", 1610612744, \"GSW\", \"Golden State Warriors\", \"0020500413\", \"2005-12-28\", \"GSW vs. BOS\", \"W\", 240, 111, 44, 82, 0.537, 6, 22, 0.273, 17, 25, 0.68, 8, 20, 28, 30, 17, 7, 10, 25, 2.0], [\"22005\", 1610612744, \"GSW\", \"Golden State Warriors\", \"0020500396\", \"2005-12-26\", \"GSW vs. DEN\", \"L\", 240, 112, 41, 85, 0.482, 11, 19, 0.579, 19, 27, 0.704, 11, 23, 34, 24, 9, 2, 14, 21, -6.0], [\"22005\", 1610612744, \"GSW\", \"Golden State Warriors\", \"0020500376\", \"2005-12-23\", \"GSW @ DET\", \"L\", 240, 85, 38, 84, 0.452, 5, 11, 0.455, 4, 9, 0.444, 15, 27, 42, 18, 2, 3, 10, 25, -12.0], [\"22005\", 1610612744, \"GSW\", \"Golden State Warriors\", \"0020500360\", \"2005-12-21\", \"GSW @ PHI\", \"L\", 240, 100, 37, 82, 0.451, 8, 23, 0.348, 18, 23, 0.783, 10, 29, 39, 21, 4, 5, 15, 23, -11.0], [\"22005\", 1610612744, \"GSW\", \"Golden State Warriors\", \"0020500348\", \"2005-12-19\", \"GSW @ BOS\", \"L\", 240, 98, 37, 90, 0.411, 5, 21, 0.238, 19, 26, 0.731, 10, 27, 37, 15, 10, 4, 12, 30, -11.0], [\"22005\", 1610612744, \"GSW\", \"Golden State Warriors\", \"0020500343\", \"2005-12-18\", \"GSW @ NJN\", \"L\", 240, 90, 29, 76, 0.382, 9, 25, 0.36, 23, 30, 0.767, 6, 26, 32, 15, 9, 2, 13, 16, -28.0], [\"22005\", 1610612744, \"GSW\", \"Golden State Warriors\", \"0020500322\", \"2005-12-16\", \"GSW @ TOR\", \"W\", 240, 108, 38, 80, 0.475, 17, 29, 0.586, 15, 23, 0.652, 6, 27, 33, 27, 10, 1, 11, 23, 10.0], [\"22005\", 1610612744, \"GSW\", \"Golden State Warriors\", \"0020500318\", \"2005-12-14\", \"GSW vs. HOU\", \"L\", 265, 105, 37, 89, 0.416, 15, 37, 0.405, 16, 23, 0.696, 7, 25, 32, 29, 7, 2, 8, 27, -6.0], [\"22005\", 1610612744, \"GSW\", \"Golden State Warriors\", \"0020500306\", \"2005-12-13\", \"GSW @ SEA\", \"W\", 265, 110, 38, 80, 0.475, 8, 26, 0.308, 26, 31, 0.839, 8, 32, 40, 22, 7, 3, 14, 28, 3.0], [\"22005\", 1610612744, \"GSW\", \"Golden State Warriors\", \"0020500279\", \"2005-12-09\", \"GSW vs. DET\", \"L\", 240, 103, 37, 82, 0.451, 4, 18, 0.222, 25, 27, 0.926, 10, 27, 37, 19, 8, 6, 10, 20, -3.0], [\"22005\", 1610612744, \"GSW\", \"Golden State Warriors\", \"0020500267\", \"2005-12-07\", \"GSW vs. PHX\", \"L\", 240, 110, 43, 90, 0.478, 7, 21, 0.333, 17, 27, 0.63, 7, 37, 44, 18, 10, 1, 18, 24, -8.0], [\"22005\", 1610612744, \"GSW\", \"Golden State Warriors\", \"0020500229\", \"2005-12-02\", \"GSW vs. CHA\", \"W\", 240, 107, 37, 89, 0.416, 8, 27, 0.296, 25, 33, 0.758, 15, 42, 57, 24, 6, 8, 17, 34, 7.0], [\"22005\", 1610612744, \"GSW\", \"Golden State Warriors\", \"0020500216\", \"2005-11-30\", \"GSW vs. SAC\", \"W\", 240, 113, 41, 92, 0.446, 12, 32, 0.375, 19, 26, 0.731, 17, 35, 52, 29, 7, 2, 15, 29, 7.0], [\"22005\", 1610612744, \"GSW\", \"Golden State Warriors\", \"0020500197\", \"2005-11-28\", \"GSW vs. NOK\", \"W\", 240, 99, 39, 88, 0.443, 7, 22, 0.318, 14, 17, 0.824, 18, 29, 47, 21, 10, 3, 13, 26, 16.0], [\"22005\", 1610612744, \"GSW\", \"Golden State Warriors\", \"0020500189\", \"2005-11-26\", \"GSW vs. TOR\", \"W\", 240, 117, 47, 83, 0.566, 5, 21, 0.238, 18, 24, 0.75, 10, 35, 45, 37, 5, 4, 16, 20, 26.0], [\"22005\", 1610612744, \"GSW\", \"Golden State Warriors\", \"0020500178\", \"2005-11-25\", \"GSW @ UTA\", \"W\", 240, 94, 31, 79, 0.392, 9, 28, 0.321, 23, 38, 0.605, 11, 30, 41, 17, 6, 3, 12, 23, 4.0], [\"22005\", 1610612744, \"GSW\", \"Golden State Warriors\", \"0020500166\", \"2005-11-23\", \"GSW vs. SAS\", \"L\", 240, 89, 29, 77, 0.377, 2, 9, 0.222, 29, 31, 0.935, 6, 21, 27, 16, 7, 1, 10, 17, -24.0], [\"22005\", 1610612744, \"GSW\", \"Golden State Warriors\", \"0020500149\", \"2005-11-21\", \"GSW vs. NJN\", \"W\", 240, 100, 33, 72, 0.458, 12, 28, 0.429, 22, 27, 0.815, 9, 36, 45, 20, 6, 5, 16, 29, 3.0], [\"22005\", 1610612744, \"GSW\", \"Golden State Warriors\", \"0020500141\", \"2005-11-20\", \"GSW @ LAC\", \"L\", 240, 101, 37, 95, 0.389, 7, 35, 0.2, 20, 21, 0.952, 12, 27, 39, 25, 7, 2, 9, 27, -12.0], [\"22005\", 1610612744, \"GSW\", \"Golden State Warriors\", \"0020500129\", \"2005-11-18\", \"GSW @ POR\", \"W\", 240, 91, 36, 85, 0.424, 9, 22, 0.409, 10, 17, 0.588, 15, 23, 38, 19, 8, 2, 9, 22, 11.0], [\"22005\", 1610612744, \"GSW\", \"Golden State Warriors\", \"0020500116\", \"2005-11-16\", \"GSW vs. MIL\", \"L\", 240, 87, 29, 79, 0.367, 9, 29, 0.31, 20, 29, 0.69, 9, 33, 42, 21, 10, 10, 11, 24, -3.0], [\"22005\", 1610612744, \"GSW\", \"Golden State Warriors\", \"0020500097\", \"2005-11-14\", \"GSW vs. CHI\", \"W\", 240, 100, 35, 75, 0.467, 8, 22, 0.364, 22, 27, 0.815, 11, 36, 47, 20, 8, 6, 19, 25, 18.0], [\"22005\", 1610612744, \"GSW\", \"Golden State Warriors\", \"0020500088\", \"2005-11-12\", \"GSW @ PHX\", \"L\", 240, 86, 31, 86, 0.36, 6, 25, 0.24, 18, 25, 0.72, 14, 41, 55, 12, 6, 3, 17, 22, -15.0], [\"22005\", 1610612744, \"GSW\", \"Golden State Warriors\", \"0020500079\", \"2005-11-11\", \"GSW vs. NYK\", \"W\", 240, 86, 29, 75, 0.387, 9, 29, 0.31, 19, 27, 0.704, 11, 34, 45, 24, 5, 7, 12, 20, 2.0], [\"22005\", 1610612744, \"GSW\", \"Golden State Warriors\", \"0020500065\", \"2005-11-09\", \"GSW @ CHI\", \"L\", 240, 84, 30, 89, 0.337, 9, 31, 0.29, 15, 20, 0.75, 14, 28, 42, 20, 9, 4, 15, 25, -1.0], [\"22005\", 1610612744, \"GSW\", \"Golden State Warriors\", \"0020500052\", \"2005-11-08\", \"GSW @ MIL\", \"W\", 240, 110, 39, 78, 0.5, 13, 27, 0.481, 19, 26, 0.731, 7, 33, 40, 23, 2, 3, 17, 19, 7.0], [\"22005\", 1610612744, \"GSW\", \"Golden State Warriors\", \"0020500043\", \"2005-11-06\", \"GSW @ NYK\", \"W\", 240, 83, 29, 73, 0.397, 10, 30, 0.333, 15, 32, 0.469, 7, 33, 40, 16, 6, 6, 14, 27, 2.0], [\"22005\", 1610612744, \"GSW\", \"Golden State Warriors\", \"0020500029\", \"2005-11-04\", \"GSW vs. UTA\", \"L\", 240, 85, 29, 78, 0.372, 5, 21, 0.238, 22, 38, 0.579, 16, 25, 41, 13, 6, 9, 14, 32, -6.0], [\"22005\", 1610612744, \"GSW\", \"Golden State Warriors\", \"0020500017\", \"2005-11-02\", \"GSW vs. ATL\", \"W\", 240, 122, 43, 74, 0.581, 7, 19, 0.368, 29, 45, 0.644, 11, 27, 38, 24, 10, 8, 19, 21, 25.0], [\"12005\", 1610612744, \"GSW\", \"Golden State Warriors\", \"0010500106\", \"2005-10-27\", \"GSW @ PHX\", \"L\", 240, 92, 36, 85, 0.424, 6, 24, 0.25, 14, 19, 0.737, 6, 32, 38, 19, 11, 2, 15, 30, null], [\"12005\", 1610612744, \"GSW\", \"Golden State Warriors\", \"0010500091\", \"2005-10-24\", \"GSW vs. LAC\", \"L\", 240, 82, 31, 83, 0.373, 1, 7, 0.143, 19, 29, 0.655, 19, 29, 48, 12, 9, 4, 17, 27, null], [\"12005\", 1610612744, \"GSW\", \"Golden State Warriors\", \"0010500081\", \"2005-10-22\", \"GSW vs. SEA\", \"L\", 240, 95, 30, 80, 0.375, 7, 27, 0.259, 28, 31, 0.903, 13, 29, 42, 21, 6, 5, 15, 28, null], [\"12005\", 1610612744, \"GSW\", \"Golden State Warriors\", \"0010500060\", \"2005-10-19\", \"GSW vs. PHX\", \"W\", 240, 108, 40, 88, 0.455, 12, 23, 0.522, 16, 28, 0.571, 15, 43, 58, 19, 8, 5, 20, 13, null], [\"12005\", 1610612744, \"GSW\", \"Golden State Warriors\", \"0010500041\", \"2005-10-16\", \"GSW @ SAC\", \"L\", 240, 99, 32, 77, 0.416, 7, 20, 0.35, 28, 42, 0.667, 13, 25, 38, 16, 6, 4, 12, 31, null], [\"12005\", 1610612744, \"GSW\", \"Golden State Warriors\", \"0010500012\", \"2005-10-12\", \"GSW @ LAL\", \"W\", 240, 112, 36, 83, 0.434, 9, 21, 0.429, 31, 37, 0.838, 15, 29, 44, 18, 11, 1, 15, 34, null], [\"12005\", 1610612744, \"GSW\", \"Golden State Warriors\", \"0010500006\", \"2005-10-11\", \"GSW @ LAL\", \"L\", 240, 93, 25, 70, 0.357, 8, 27, 0.296, 35, 48, 0.729, 10, 34, 44, 16, 9, 6, 21, 35, null], [\"22004\", 1610612744, \"GSW\", \"Golden State Warriors\", \"0020401229\", \"2005-04-20\", \"GSW vs. UTA\", \"W\", 240, 106, 34, 75, 0.453, 10, 26, 0.385, 28, 38, 0.737, 13, 34, 47, 21, 8, 6, 16, 26, 17.0], [\"22004\", 1610612744, \"GSW\", \"Golden State Warriors\", \"0020401208\", \"2005-04-18\", \"GSW vs. LAL\", \"W\", 240, 126, 46, 89, 0.517, 15, 36, 0.417, 19, 26, 0.731, 13, 36, 49, 35, 8, 5, 14, 17, 27.0], [\"22004\", 1610612744, \"GSW\", \"Golden State Warriors\", \"0020401183\", \"2005-04-15\", \"GSW vs. POR\", \"W\", 240, 108, 43, 102, 0.422, 12, 32, 0.375, 10, 15, 0.667, 26, 33, 59, 32, 8, 7, 16, 17, 20.0], [\"22004\", 1610612744, \"GSW\", \"Golden State Warriors\", \"0020401165\", \"2005-04-13\", \"GSW @ MIN\", \"L\", 240, 100, 39, 91, 0.429, 9, 26, 0.346, 13, 14, 0.929, 13, 24, 37, 23, 7, 4, 10, 13, -15.0], [\"22004\", 1610612744, \"GSW\", \"Golden State Warriors\", \"0020401152\", \"2005-04-11\", \"GSW @ DEN\", \"L\", 240, 106, 41, 95, 0.432, 11, 34, 0.324, 13, 20, 0.65, 12, 32, 44, 24, 7, 6, 18, 29, -16.0], [\"22004\", 1610612744, \"GSW\", \"Golden State Warriors\", \"0020401145\", \"2005-04-10\", \"GSW vs. SAS\", \"L\", 290, 134, 49, 105, 0.467, 11, 27, 0.407, 25, 34, 0.735, 19, 38, 57, 27, 7, 7, 13, 32, -2.0], [\"22004\", 1610612744, \"GSW\", \"Golden State Warriors\", \"0020401129\", \"2005-04-08\", \"GSW vs. PHX\", \"W\", 240, 127, 48, 105, 0.457, 18, 35, 0.514, 13, 19, 0.684, 24, 33, 57, 32, 6, 6, 15, 17, 8.0], [\"22004\", 1610612744, \"GSW\", \"Golden State Warriors\", \"0020401115\", \"2005-04-06\", \"GSW @ POR\", \"W\", 240, 104, 39, 96, 0.406, 11, 26, 0.423, 15, 22, 0.682, 18, 28, 46, 27, 10, 4, 12, 22, 2.0], [\"22004\", 1610612744, \"GSW\", \"Golden State Warriors\", \"0020401105\", \"2005-04-05\", \"GSW vs. HOU\", \"W\", 240, 122, 39, 80, 0.488, 11, 29, 0.379, 33, 41, 0.805, 9, 27, 36, 29, 11, 3, 10, 23, 5.0], [\"22004\", 1610612744, \"GSW\", \"Golden State Warriors\", \"0020401091\", \"2005-04-03\", \"GSW vs. SEA\", \"W\", 240, 101, 38, 76, 0.5, 11, 28, 0.393, 14, 24, 0.583, 12, 33, 45, 28, 7, 9, 20, 19, 9.0], [\"22004\", 1610612744, \"GSW\", \"Golden State Warriors\", \"0020401075\", \"2005-04-01\", \"GSW @ UTA\", \"W\", 240, 108, 36, 78, 0.462, 10, 29, 0.345, 26, 37, 0.703, 15, 30, 45, 18, 6, 8, 15, 33, 17.0], [\"22004\", 1610612744, \"GSW\", \"Golden State Warriors\", \"0020401058\", \"2005-03-30\", \"GSW @ MIL\", \"W\", 240, 113, 41, 90, 0.456, 5, 25, 0.2, 26, 30, 0.867, 16, 30, 46, 29, 5, 4, 5, 18, 4.0], [\"22004\", 1610612744, \"GSW\", \"Golden State Warriors\", \"0020401047\", \"2005-03-28\", \"GSW vs. NYK\", \"W\", 240, 108, 37, 85, 0.435, 7, 21, 0.333, 27, 33, 0.818, 17, 32, 49, 21, 5, 6, 14, 23, 8.0], [\"22004\", 1610612744, \"GSW\", \"Golden State Warriors\", \"0020401020\", \"2005-03-25\", \"GSW vs. MIL\", \"W\", 265, 118, 45, 92, 0.489, 11, 31, 0.355, 17, 28, 0.607, 14, 22, 36, 28, 10, 5, 13, 34, 1.0], [\"22004\", 1610612744, \"GSW\", \"Golden State Warriors\", \"0020401005\", \"2005-03-23\", \"GSW vs. DAL\", \"L\", 240, 97, 34, 85, 0.4, 2, 23, 0.087, 27, 34, 0.794, 12, 29, 41, 20, 8, 5, 13, 27, -12.0], [\"22004\", 1610612744, \"GSW\", \"Golden State Warriors\", \"0020400983\", \"2005-03-20\", \"GSW @ SAC\", \"W\", 240, 104, 38, 85, 0.447, 10, 34, 0.294, 18, 26, 0.692, 17, 33, 50, 23, 6, 5, 12, 21, 10.0], [\"22004\", 1610612744, \"GSW\", \"Golden State Warriors\", \"0020400968\", \"2005-03-18\", \"GSW @ PHX\", \"W\", 240, 110, 42, 92, 0.457, 12, 27, 0.444, 14, 17, 0.824, 15, 36, 51, 15, 10, 3, 12, 25, 10.0], [\"22004\", 1610612744, \"GSW\", \"Golden State Warriors\", \"0020400956\", \"2005-03-17\", \"GSW vs. SAC\", \"W\", 240, 100, 40, 90, 0.444, 9, 25, 0.36, 11, 12, 0.917, 17, 34, 51, 25, 7, 9, 13, 12, 3.0], [\"22004\", 1610612744, \"GSW\", \"Golden State Warriors\", \"0020400936\", \"2005-03-14\", \"GSW vs. HOU\", \"L\", 241, 94, 31, 86, 0.36, 14, 33, 0.424, 18, 30, 0.6, 18, 31, 49, 25, 6, 2, 9, 20, -3.0], [\"22004\", 1610612744, \"GSW\", \"Golden State Warriors\", \"0020400916\", \"2005-03-12\", \"GSW @ ATL\", \"W\", 240, 105, 40, 94, 0.426, 18, 33, 0.545, 7, 12, 0.583, 17, 32, 49, 26, 10, 7, 11, 16, 13.0], [\"22004\", 1610612744, \"GSW\", \"Golden State Warriors\", \"0020400907\", \"2005-03-11\", \"GSW @ IND\", \"L\", 240, 83, 28, 72, 0.389, 9, 25, 0.36, 18, 23, 0.783, 12, 31, 43, 13, 3, 7, 19, 22, -18.0], [\"22004\", 1610612744, \"GSW\", \"Golden State Warriors\", \"0020400898\", \"2005-03-09\", \"GSW @ DET\", \"L\", 240, 88, 33, 77, 0.429, 6, 22, 0.273, 16, 21, 0.762, 7, 26, 33, 17, 4, 5, 9, 26, -4.0], [\"22004\", 1610612744, \"GSW\", \"Golden State Warriors\", \"0020400886\", \"2005-03-08\", \"GSW @ PHI\", \"W\", 240, 104, 38, 85, 0.447, 11, 32, 0.344, 17, 22, 0.773, 8, 37, 45, 20, 17, 6, 17, 18, 19.0], [\"22004\", 1610612744, \"GSW\", \"Golden State Warriors\", \"0020400877\", \"2005-03-06\", \"GSW @ NYK\", \"L\", 240, 99, 36, 78, 0.462, 12, 26, 0.462, 15, 24, 0.625, 9, 21, 30, 20, 4, 5, 8, 18, -16.0], [\"22004\", 1610612744, \"GSW\", \"Golden State Warriors\", \"0020400855\", \"2005-03-04\", \"GSW @ WAS\", \"W\", 240, 103, 37, 89, 0.416, 12, 39, 0.308, 17, 21, 0.81, 13, 29, 42, 19, 10, 5, 13, 27, 13.0], [\"22004\", 1610612744, \"GSW\", \"Golden State Warriors\", \"0020400846\", \"2005-03-02\", \"GSW @ MIN\", \"W\", 240, 99, 35, 78, 0.449, 9, 22, 0.409, 20, 24, 0.833, 7, 31, 38, 26, 7, 3, 9, 11, 6.0], [\"22004\", 1610612744, \"GSW\", \"Golden State Warriors\", \"0020400834\", \"2005-03-01\", \"GSW @ MEM\", \"L\", 240, 97, 36, 80, 0.45, 10, 24, 0.417, 15, 19, 0.789, 8, 26, 34, 18, 9, 3, 17, 23, -2.0], [\"22004\", 1610612744, \"GSW\", \"Golden State Warriors\", \"0020400828\", \"2005-02-27\", \"GSW vs. DET\", \"L\", 240, 88, 35, 85, 0.412, 11, 32, 0.344, 7, 10, 0.7, 13, 27, 40, 19, 6, 6, 14, 22, -6.0], [\"22004\", 1610612744, \"GSW\", \"Golden State Warriors\", \"0020400800\", \"2005-02-23\", \"GSW vs. ATL\", \"W\", 240, 101, 36, 88, 0.409, 8, 21, 0.381, 21, 28, 0.75, 15, 35, 50, 21, 10, 10, 11, 12, 5.0], [\"22004\", 1610612744, \"GSW\", \"Golden State Warriors\", \"0020400779\", \"2005-02-16\", \"GSW @ SEA\", \"W\", 240, 117, 46, 87, 0.529, 11, 21, 0.524, 14, 22, 0.636, 11, 29, 40, 28, 5, 2, 11, 27, 7.0], [\"22004\", 1610612744, \"GSW\", \"Golden State Warriors\", \"0020400768\", \"2005-02-15\", \"GSW vs. DAL\", \"L\", 240, 107, 43, 89, 0.483, 9, 21, 0.429, 12, 19, 0.632, 9, 27, 36, 25, 12, 7, 16, 20, -7.0], [\"22004\", 1610612744, \"GSW\", \"Golden State Warriors\", \"0020400756\", \"2005-02-13\", \"GSW vs. PHX\", \"L\", 267, 102, 43, 118, 0.364, 4, 29, 0.138, 12, 20, 0.6, 31, 41, 72, 18, 10, 2, 12, 26, -4.0], [\"22004\", 1610612744, \"GSW\", \"Golden State Warriors\", \"0020400738\", \"2005-02-11\", \"GSW @ NOH\", \"L\", 240, 108, 40, 84, 0.476, 12, 29, 0.414, 16, 21, 0.762, 10, 24, 34, 23, 8, 4, 11, 20, -3.0], [\"22004\", 1610612744, \"GSW\", \"Golden State Warriors\", \"0020400709\", \"2005-02-08\", \"GSW @ ORL\", \"W\", 240, 113, 40, 84, 0.476, 6, 16, 0.375, 27, 34, 0.794, 9, 35, 44, 24, 7, 7, 15, 17, 4.0], [\"22004\", 1610612744, \"GSW\", \"Golden State Warriors\", \"0020400706\", \"2005-02-07\", \"GSW @ MIA\", \"L\", 240, 96, 39, 88, 0.443, 5, 16, 0.313, 13, 18, 0.722, 4, 29, 33, 25, 10, 2, 7, 24, -9.0], [\"22004\", 1610612744, \"GSW\", \"Golden State Warriors\", \"0020400694\", \"2005-02-05\", \"GSW @ DEN\", \"L\", 240, 91, 33, 86, 0.384, 5, 19, 0.263, 20, 24, 0.833, 12, 29, 41, 19, 10, 4, 14, 24, -16.0], [\"22004\", 1610612744, \"GSW\", \"Golden State Warriors\", \"0020400688\", \"2005-02-04\", \"GSW vs. NOH\", \"W\", 240, 90, 35, 88, 0.398, 2, 14, 0.143, 18, 23, 0.783, 17, 28, 45, 20, 13, 7, 8, 20, 8.0], [\"22004\", 1610612744, \"GSW\", \"Golden State Warriors\", \"0020400676\", \"2005-02-02\", \"GSW vs. SAC\", \"L\", 265, 107, 43, 99, 0.434, 6, 22, 0.273, 15, 23, 0.652, 17, 29, 46, 29, 14, 7, 11, 25, -4.0], [\"22004\", 1610612744, \"GSW\", \"Golden State Warriors\", \"0020400647\", \"2005-01-29\", \"GSW @ LAC\", \"L\", 240, 85, 34, 77, 0.442, 8, 20, 0.4, 9, 13, 0.692, 11, 23, 34, 23, 7, 5, 14, 25, -11.0], [\"22004\", 1610612744, \"GSW\", \"Golden State Warriors\", \"0020400638\", \"2005-01-28\", \"GSW vs. SEA\", \"L\", 240, 85, 37, 89, 0.416, 4, 17, 0.235, 7, 14, 0.5, 16, 25, 41, 24, 7, 6, 8, 19, -3.0], [\"22004\", 1610612744, \"GSW\", \"Golden State Warriors\", \"0020400623\", \"2005-01-26\", \"GSW vs. NJN\", \"L\", 240, 99, 36, 82, 0.439, 9, 20, 0.45, 18, 26, 0.692, 18, 21, 39, 18, 7, 5, 14, 19, -14.0], [\"22004\", 1610612744, \"GSW\", \"Golden State Warriors\", \"0020400591\", \"2005-01-22\", \"GSW vs. CLE\", \"L\", 239, 87, 34, 76, 0.447, 6, 23, 0.261, 13, 16, 0.813, 5, 28, 33, 20, 4, 5, 12, 13, -18.0], [\"22004\", 1610612744, \"GSW\", \"Golden State Warriors\", \"0020400582\", \"2005-01-21\", \"GSW @ LAL\", \"L\", 240, 101, 42, 88, 0.477, 11, 27, 0.407, 6, 12, 0.5, 11, 29, 40, 25, 10, 4, 10, 20, -4.0], [\"22004\", 1610612744, \"GSW\", \"Golden State Warriors\", \"0020400554\", \"2005-01-17\", \"GSW vs. DEN\", \"W\", 241, 107, 43, 90, 0.478, 6, 20, 0.3, 15, 17, 0.882, 14, 26, 40, 23, 13, 5, 13, 21, 10.0], [\"22004\", 1610612744, \"GSW\", \"Golden State Warriors\", \"0020400541\", \"2005-01-15\", \"GSW vs. LAL\", \"L\", 240, 102, 39, 92, 0.424, 12, 31, 0.387, 12, 16, 0.75, 13, 35, 48, 27, 3, 8, 10, 19, -2.0], [\"22004\", 1610612744, \"GSW\", \"Golden State Warriors\", \"0020400529\", \"2005-01-14\", \"GSW @ SEA\", \"L\", 240, 84, 33, 76, 0.434, 4, 10, 0.4, 14, 19, 0.737, 12, 22, 34, 15, 3, 7, 13, 15, -19.0], [\"22004\", 1610612744, \"GSW\", \"Golden State Warriors\", \"0020400515\", \"2005-01-12\", \"GSW vs. MIA\", \"L\", 240, 91, 32, 85, 0.376, 2, 17, 0.118, 25, 30, 0.833, 13, 28, 41, 22, 13, 1, 7, 23, -7.0], [\"22004\", 1610612744, \"GSW\", \"Golden State Warriors\", \"0020400495\", \"2005-01-10\", \"GSW @ CHI\", \"L\", 240, 85, 25, 76, 0.329, 9, 21, 0.429, 26, 38, 0.684, 13, 27, 40, 17, 12, 4, 21, 22, -9.0], [\"22004\", 1610612744, \"GSW\", \"Golden State Warriors\", \"0020400487\", \"2005-01-09\", \"GSW @ TOR\", \"L\", 240, 87, 34, 84, 0.405, 8, 14, 0.571, 11, 12, 0.917, 10, 29, 39, 17, 5, 4, 16, 12, -22.0], [\"22004\", 1610612744, \"GSW\", \"Golden State Warriors\", \"0020400471\", \"2005-01-07\", \"GSW @ NJN\", \"L\", 240, 72, 26, 73, 0.356, 6, 14, 0.429, 14, 21, 0.667, 9, 27, 36, 17, 7, 3, 18, 21, -10.0], [\"22004\", 1610612744, \"GSW\", \"Golden State Warriors\", \"0020400453\", \"2005-01-05\", \"GSW @ BOS\", \"L\", 240, 83, 34, 78, 0.436, 4, 14, 0.286, 11, 20, 0.55, 12, 35, 47, 22, 7, 5, 12, 18, -1.0], [\"22004\", 1610612744, \"GSW\", \"Golden State Warriors\", \"0020400447\", \"2005-01-03\", \"GSW vs. PHI\", \"L\", 240, 104, 38, 74, 0.514, 11, 25, 0.44, 17, 26, 0.654, 7, 29, 36, 24, 6, 5, 18, 30, -8.0], [\"22004\", 1610612744, \"GSW\", \"Golden State Warriors\", \"0020400431\", \"2005-01-01\", \"GSW @ POR\", \"L\", 240, 88, 34, 93, 0.366, 7, 25, 0.28, 13, 23, 0.565, 17, 31, 48, 25, 6, 8, 7, 28, -9.0], [\"22004\", 1610612744, \"GSW\", \"Golden State Warriors\", \"0020400416\", \"2004-12-29\", \"GSW vs. TOR\", \"W\", 240, 111, 38, 83, 0.458, 11, 22, 0.5, 24, 28, 0.857, 9, 31, 40, 24, 7, 4, 17, 22, 6.0], [\"22004\", 1610612744, \"GSW\", \"Golden State Warriors\", \"0020400400\", \"2004-12-27\", \"GSW vs. DEN\", \"W\", 240, 104, 36, 82, 0.439, 8, 21, 0.381, 24, 35, 0.686, 14, 32, 46, 22, 6, 3, 14, 23, 3.0], [\"22004\", 1610612744, \"GSW\", \"Golden State Warriors\", \"0020400391\", \"2004-12-26\", \"GSW @ SAC\", \"W\", 240, 98, 40, 86, 0.465, 4, 15, 0.267, 14, 21, 0.667, 13, 32, 45, 20, 10, 0, 16, 21, 4.0], [\"22004\", 1610612744, \"GSW\", \"Golden State Warriors\", \"0020400375\", \"2004-12-22\", \"GSW vs. MEM\", \"W\", 240, 109, 36, 79, 0.456, 11, 21, 0.524, 26, 35, 0.743, 12, 23, 35, 25, 11, 4, 12, 25, 10.0], [\"22004\", 1610612744, \"GSW\", \"Golden State Warriors\", \"0020400359\", \"2004-12-20\", \"GSW vs. WAS\", \"L\", 240, 101, 36, 78, 0.462, 2, 13, 0.154, 27, 33, 0.818, 14, 26, 40, 14, 9, 9, 18, 31, -2.0], [\"22004\", 1610612744, \"GSW\", \"Golden State Warriors\", \"0020400347\", \"2004-12-18\", \"GSW @ SAS\", \"L\", 240, 85, 33, 79, 0.418, 3, 13, 0.231, 16, 23, 0.696, 13, 26, 39, 9, 8, 6, 16, 20, -19.0], [\"22004\", 1610612744, \"GSW\", \"Golden State Warriors\", \"0020400337\", \"2004-12-17\", \"GSW @ HOU\", \"L\", 240, 83, 31, 94, 0.33, 5, 20, 0.25, 16, 20, 0.8, 12, 29, 41, 23, 6, 4, 7, 21, -17.0], [\"22004\", 1610612744, \"GSW\", \"Golden State Warriors\", \"0020400322\", \"2004-12-15\", \"GSW @ NOH\", \"L\", 240, 89, 34, 79, 0.43, 6, 20, 0.3, 15, 22, 0.682, 7, 27, 34, 18, 5, 4, 13, 24, -9.0], [\"22004\", 1610612744, \"GSW\", \"Golden State Warriors\", \"0020400313\", \"2004-12-14\", \"GSW @ DAL\", \"W\", 240, 111, 43, 86, 0.5, 9, 20, 0.45, 16, 21, 0.762, 13, 32, 45, 24, 8, 7, 17, 24, 4.0], [\"22004\", 1610612744, \"GSW\", \"Golden State Warriors\", \"0020400300\", \"2004-12-12\", \"GSW vs. CHA\", \"W\", 240, 99, 40, 90, 0.444, 6, 18, 0.333, 13, 20, 0.65, 13, 28, 41, 21, 15, 7, 13, 18, 12.0], [\"22004\", 1610612744, \"GSW\", \"Golden State Warriors\", \"0020400286\", \"2004-12-10\", \"GSW vs. ORL\", \"L\", 240, 109, 41, 80, 0.513, 8, 17, 0.471, 19, 26, 0.731, 9, 29, 38, 22, 5, 6, 14, 23, -4.0], [\"22004\", 1610612744, \"GSW\", \"Golden State Warriors\", \"0020400261\", \"2004-12-07\", \"GSW @ PHX\", \"L\", 240, 104, 44, 99, 0.444, 8, 20, 0.4, 8, 14, 0.571, 13, 36, 49, 20, 8, 6, 12, 22, -14.0], [\"22004\", 1610612744, \"GSW\", \"Golden State Warriors\", \"0020400255\", \"2004-12-06\", \"GSW vs. BOS\", \"W\", 240, 110, 42, 90, 0.467, 3, 8, 0.375, 23, 31, 0.742, 12, 31, 43, 26, 9, 5, 12, 26, 4.0], [\"22004\", 1610612744, \"GSW\", \"Golden State Warriors\", \"0020400244\", \"2004-12-04\", \"GSW vs. IND\", \"W\", 240, 104, 37, 80, 0.463, 4, 16, 0.25, 26, 36, 0.722, 10, 31, 41, 23, 10, 3, 10, 22, 8.0], [\"22004\", 1610612744, \"GSW\", \"Golden State Warriors\", \"0020400231\", \"2004-12-03\", \"GSW @ LAL\", \"L\", 240, 88, 29, 79, 0.367, 3, 14, 0.214, 27, 32, 0.844, 9, 31, 40, 20, 6, 7, 13, 24, -9.0], [\"22004\", 1610612744, \"GSW\", \"Golden State Warriors\", \"0020400221\", \"2004-12-01\", \"GSW vs. MIN\", \"L\", 240, 99, 40, 87, 0.46, 8, 18, 0.444, 11, 16, 0.688, 9, 30, 39, 24, 5, 4, 12, 23, -8.0], [\"22004\", 1610612744, \"GSW\", \"Golden State Warriors\", \"0020400193\", \"2004-11-28\", \"GSW @ LAC\", \"L\", 241, 91, 34, 81, 0.42, 5, 14, 0.357, 18, 24, 0.75, 10, 27, 37, 20, 7, 3, 11, 20, -12.0], [\"22004\", 1610612744, \"GSW\", \"Golden State Warriors\", \"0020400182\", \"2004-11-26\", \"GSW vs. LAC\", \"L\", 240, 87, 32, 82, 0.39, 4, 18, 0.222, 19, 24, 0.792, 17, 26, 43, 17, 5, 7, 16, 25, -11.0], [\"22004\", 1610612744, \"GSW\", \"Golden State Warriors\", \"0020400159\", \"2004-11-23\", \"GSW vs. NOH\", \"W\", 315, 115, 42, 106, 0.396, 6, 19, 0.316, 25, 37, 0.676, 16, 37, 53, 27, 9, 9, 12, 32, 6.0], [\"22004\", 1610612744, \"GSW\", \"Golden State Warriors\", \"0020400135\", \"2004-11-20\", \"GSW vs. MEM\", \"L\", 240, 87, 32, 80, 0.4, 3, 20, 0.15, 20, 31, 0.645, 9, 27, 36, 21, 13, 3, 16, 32, -13.0], [\"22004\", 1610612744, \"GSW\", \"Golden State Warriors\", \"0020400116\", \"2004-11-17\", \"GSW vs. CHI\", \"W\", 240, 98, 37, 84, 0.44, 10, 21, 0.476, 14, 19, 0.737, 13, 33, 46, 25, 10, 6, 23, 25, 13.0], [\"22004\", 1610612744, \"GSW\", \"Golden State Warriors\", \"0020400096\", \"2004-11-15\", \"GSW @ CLE\", \"L\", 240, 88, 35, 83, 0.422, 4, 14, 0.286, 14, 20, 0.7, 10, 26, 36, 25, 3, 1, 9, 23, -11.0], [\"22004\", 1610612744, \"GSW\", \"Golden State Warriors\", \"0020400082\", \"2004-11-13\", \"GSW @ CHA\", \"W\", 240, 103, 41, 78, 0.526, 2, 9, 0.222, 19, 22, 0.864, 9, 35, 44, 26, 7, 2, 14, 22, 16.0], [\"22004\", 1610612744, \"GSW\", \"Golden State Warriors\", \"0020400076\", \"2004-11-12\", \"GSW @ MEM\", \"L\", 240, 67, 25, 91, 0.275, 2, 10, 0.2, 15, 24, 0.625, 15, 31, 46, 16, 8, 7, 15, 25, -29.0], [\"22004\", 1610612744, \"GSW\", \"Golden State Warriors\", \"0020400066\", \"2004-11-10\", \"GSW @ SAS\", \"L\", 240, 71, 26, 80, 0.325, 5, 10, 0.5, 14, 21, 0.667, 13, 32, 45, 13, 4, 5, 15, 24, -20.0], [\"22004\", 1610612744, \"GSW\", \"Golden State Warriors\", \"0020400045\", \"2004-11-08\", \"GSW @ DAL\", \"L\", 264, 98, 36, 94, 0.383, 4, 15, 0.267, 22, 31, 0.71, 19, 35, 54, 16, 6, 7, 17, 29, -3.0], [\"22004\", 1610612744, \"GSW\", \"Golden State Warriors\", \"0020400041\", \"2004-11-06\", \"GSW vs. LAC\", \"L\", 240, 86, 31, 88, 0.352, 1, 15, 0.067, 23, 38, 0.605, 21, 26, 47, 18, 8, 7, 12, 34, -8.0], [\"22004\", 1610612744, \"GSW\", \"Golden State Warriors\", \"0020400028\", \"2004-11-05\", \"GSW vs. UTA\", \"L\", 240, 80, 30, 81, 0.37, 5, 15, 0.333, 15, 20, 0.75, 12, 19, 31, 17, 8, 2, 13, 24, -22.0], [\"22004\", 1610612744, \"GSW\", \"Golden State Warriors\", \"0020400016\", \"2004-11-03\", \"GSW vs. POR\", \"L\", 240, 75, 31, 81, 0.383, 2, 10, 0.2, 11, 20, 0.55, 13, 32, 45, 24, 5, 4, 12, 18, -3.0], [\"12004\", 1610612744, \"GSW\", \"Golden State Warriors\", \"0010400105\", \"2004-10-27\", \"GSW vs. LAC\", \"W\", 65, 82, 30, 86, 0.349, 5, 12, 0.417, 17, 22, 0.773, 13, 33, 46, 18, 9, 2, 15, 25, null], [\"12004\", 1610612744, \"GSW\", \"Golden State Warriors\", \"0010400087\", \"2004-10-25\", \"GSW @ POR\", \"W\", 50, 87, 33, 81, 0.407, 1, 10, 0.1, 20, 27, 0.741, 11, 31, 42, 23, 11, 6, 13, 20, null], [\"12004\", 1610612744, \"GSW\", \"Golden State Warriors\", \"0010400064\", \"2004-10-22\", \"GSW vs. DEN\", \"L\", 75, 86, 32, 79, 0.405, 3, 10, 0.3, 19, 24, 0.792, 10, 29, 39, 15, 7, 3, 25, 27, null], [\"22003\", 1610612744, \"GSW\", \"Golden State Warriors\", \"0020301189\", \"2004-04-14\", \"GSW vs. SAC\", \"W\", 240, 97, 39, 90, 0.433, 8, 20, 0.4, 11, 17, 0.647, 20, 37, 57, 23, 7, 8, 15, 13, 6.0], [\"22003\", 1610612744, \"GSW\", \"Golden State Warriors\", \"0020301175\", \"2004-04-13\", \"GSW @ LAL\", \"L\", 240, 104, 39, 79, 0.494, 8, 25, 0.32, 18, 23, 0.783, 11, 26, 37, 18, 9, 2, 15, 23, -5.0], [\"22003\", 1610612744, \"GSW\", \"Golden State Warriors\", \"0020301159\", \"2004-04-11\", \"GSW vs. DAL\", \"W\", 240, 108, 42, 93, 0.452, 5, 13, 0.385, 19, 22, 0.864, 18, 26, 44, 22, 9, 4, 13, 24, 1.0], [\"22003\", 1610612744, \"GSW\", \"Golden State Warriors\", \"0020301146\", \"2004-04-09\", \"GSW vs. MIN\", \"L\", 240, 74, 27, 76, 0.355, 0, 14, 0.0, 20, 28, 0.714, 12, 31, 43, 18, 5, 2, 18, 24, -18.0], [\"22003\", 1610612744, \"GSW\", \"Golden State Warriors\", \"0020301131\", \"2004-04-07\", \"GSW @ POR\", \"L\", 240, 81, 35, 90, 0.389, 6, 18, 0.333, 5, 6, 0.833, 16, 33, 49, 19, 3, 1, 14, 18, -6.0], [\"22003\", 1610612744, \"GSW\", \"Golden State Warriors\", \"0020301123\", \"2004-04-06\", \"GSW vs. HOU\", \"W\", 240, 97, 36, 68, 0.529, 5, 15, 0.333, 20, 28, 0.714, 4, 29, 33, 24, 10, 5, 11, 21, 7.0], [\"22003\", 1610612744, \"GSW\", \"Golden State Warriors\", \"0020301102\", \"2004-04-03\", \"GSW @ CLE\", \"W\", 240, 103, 37, 69, 0.536, 4, 12, 0.333, 25, 35, 0.714, 7, 32, 39, 23, 6, 7, 13, 24, 3.0], [\"22003\", 1610612744, \"GSW\", \"Golden State Warriors\", \"0020301090\", \"2004-04-02\", \"GSW @ BOS\", \"L\", 240, 106, 36, 79, 0.456, 14, 26, 0.538, 20, 31, 0.645, 9, 29, 38, 23, 9, 8, 21, 24, -5.0], [\"22003\", 1610612744, \"GSW\", \"Golden State Warriors\", \"0020301081\", \"2004-03-31\", \"GSW @ TOR\", \"W\", 240, 85, 34, 76, 0.447, 2, 8, 0.25, 15, 21, 0.714, 10, 35, 45, 17, 8, 6, 9, 13, 7.0], [\"22003\", 1610612744, \"GSW\", \"Golden State Warriors\", \"0020301071\", \"2004-03-30\", \"GSW @ PHI\", \"L\", 240, 71, 27, 72, 0.375, 5, 17, 0.294, 12, 20, 0.6, 10, 35, 45, 17, 5, 6, 17, 14, -24.0], [\"22003\", 1610612744, \"GSW\", \"Golden State Warriors\", \"0020301061\", \"2004-03-28\", \"GSW vs. LAC\", \"W\", 240, 105, 42, 89, 0.472, 8, 23, 0.348, 13, 24, 0.542, 19, 34, 53, 27, 13, 5, 11, 22, 28.0], [\"22003\", 1610612744, \"GSW\", \"Golden State Warriors\", \"0020301047\", \"2004-03-26\", \"GSW vs. WAS\", \"W\", 240, 99, 39, 89, 0.438, 2, 15, 0.133, 19, 25, 0.76, 18, 38, 56, 23, 5, 7, 9, 21, 21.0], [\"22003\", 1610612744, \"GSW\", \"Golden State Warriors\", \"0020301034\", \"2004-03-24\", \"GSW vs. MIL\", \"W\", 240, 98, 39, 80, 0.488, 6, 12, 0.5, 14, 22, 0.636, 13, 33, 46, 23, 6, 6, 13, 22, 9.0], [\"22003\", 1610612744, \"GSW\", \"Golden State Warriors\", \"0020301006\", \"2004-03-21\", \"GSW @ LAC\", \"W\", 240, 96, 35, 76, 0.461, 4, 22, 0.182, 22, 29, 0.759, 14, 32, 46, 23, 7, 4, 18, 23, 11.0], [\"22003\", 1610612744, \"GSW\", \"Golden State Warriors\", \"0020300996\", \"2004-03-19\", \"GSW vs. HOU\", \"W\", 240, 90, 30, 70, 0.429, 5, 13, 0.385, 25, 31, 0.806, 14, 28, 42, 18, 8, 3, 18, 22, 6.0], [\"22003\", 1610612744, \"GSW\", \"Golden State Warriors\", \"0020300982\", \"2004-03-17\", \"GSW vs. ORL\", \"W\", 240, 110, 42, 80, 0.525, 11, 18, 0.611, 15, 19, 0.789, 15, 33, 48, 31, 8, 5, 16, 20, 25.0], [\"22003\", 1610612744, \"GSW\", \"Golden State Warriors\", \"0020300965\", \"2004-03-15\", \"GSW vs. SAS\", \"W\", 240, 97, 34, 71, 0.479, 8, 14, 0.571, 21, 30, 0.7, 11, 31, 42, 21, 3, 6, 10, 22, 17.0], [\"22003\", 1610612744, \"GSW\", \"Golden State Warriors\", \"0020300951\", \"2004-03-13\", \"GSW @ NOH\", \"L\", 240, 84, 36, 79, 0.456, 3, 12, 0.25, 9, 14, 0.643, 13, 20, 33, 19, 5, 3, 21, 22, -18.0], [\"22003\", 1610612744, \"GSW\", \"Golden State Warriors\", \"0020300946\", \"2004-03-12\", \"GSW @ SAS\", \"L\", 240, 74, 29, 76, 0.382, 4, 17, 0.235, 12, 20, 0.6, 13, 29, 42, 13, 5, 5, 18, 19, -25.0], [\"22003\", 1610612744, \"GSW\", \"Golden State Warriors\", \"0020300934\", \"2004-03-10\", \"GSW @ UTA\", \"L\", 240, 77, 26, 64, 0.406, 2, 11, 0.182, 23, 31, 0.742, 9, 24, 33, 14, 8, 7, 21, 20, -14.0], [\"22003\", 1610612744, \"GSW\", \"Golden State Warriors\", \"0020300924\", \"2004-03-09\", \"GSW @ SAC\", \"L\", 240, 92, 37, 76, 0.487, 5, 17, 0.294, 13, 24, 0.542, 14, 26, 40, 22, 5, 12, 16, 20, -4.0], [\"22003\", 1610612744, \"GSW\", \"Golden State Warriors\", \"0020300909\", \"2004-03-07\", \"GSW vs. MEM\", \"L\", 240, 85, 31, 78, 0.397, 3, 12, 0.25, 20, 29, 0.69, 17, 27, 44, 21, 8, 2, 17, 19, -10.0], [\"22003\", 1610612744, \"GSW\", \"Golden State Warriors\", \"0020300895\", \"2004-03-05\", \"GSW vs. NJN\", \"L\", 240, 74, 32, 71, 0.451, 2, 16, 0.125, 8, 13, 0.615, 8, 25, 33, 21, 4, 7, 15, 19, -4.0], [\"22003\", 1610612744, \"GSW\", \"Golden State Warriors\", \"0020300873\", \"2004-03-02\", \"GSW vs. IND\", \"L\", 240, 88, 29, 77, 0.377, 2, 18, 0.111, 28, 36, 0.778, 13, 38, 51, 16, 4, 5, 12, 26, -8.0], [\"22003\", 1610612744, \"GSW\", \"Golden State Warriors\", \"0020300852\", \"2004-02-28\", \"GSW @ CHI\", \"L\", 265, 81, 27, 99, 0.273, 8, 26, 0.308, 19, 30, 0.633, 19, 37, 56, 18, 7, 7, 10, 26, -6.0], [\"22003\", 1610612744, \"GSW\", \"Golden State Warriors\", \"0020300841\", \"2004-02-27\", \"GSW @ MIN\", \"L\", 240, 81, 32, 78, 0.41, 5, 16, 0.313, 12, 14, 0.857, 11, 28, 39, 19, 5, 4, 11, 16, -10.0], [\"22003\", 1610612744, \"GSW\", \"Golden State Warriors\", \"0020300828\", \"2004-02-25\", \"GSW @ MEM\", \"W\", 240, 99, 30, 71, 0.423, 4, 12, 0.333, 35, 40, 0.875, 12, 33, 45, 14, 9, 7, 14, 31, 7.0], [\"22003\", 1610612744, \"GSW\", \"Golden State Warriors\", \"0020300816\", \"2004-02-24\", \"GSW @ IND\", \"L\", 240, 96, 32, 77, 0.416, 7, 13, 0.538, 25, 28, 0.893, 10, 28, 38, 19, 6, 5, 12, 19, -11.0], [\"22003\", 1610612744, \"GSW\", \"Golden State Warriors\", \"0020300801\", \"2004-02-21\", \"GSW vs. SEA\", \"W\", 240, 94, 30, 75, 0.4, 2, 15, 0.133, 32, 45, 0.711, 18, 29, 47, 14, 7, 2, 11, 23, 2.0], [\"22003\", 1610612744, \"GSW\", \"Golden State Warriors\", \"0020300794\", \"2004-02-20\", \"GSW vs. POR\", \"L\", 240, 93, 34, 82, 0.415, 8, 19, 0.421, 17, 21, 0.81, 15, 31, 46, 18, 3, 5, 8, 21, -1.0], [\"22003\", 1610612744, \"GSW\", \"Golden State Warriors\", \"0020300780\", \"2004-02-18\", \"GSW vs. LAL\", \"L\", 240, 99, 39, 80, 0.488, 5, 14, 0.357, 16, 24, 0.667, 12, 26, 38, 17, 4, 3, 10, 24, -1.0], [\"22003\", 1610612744, \"GSW\", \"Golden State Warriors\", \"0020300758\", \"2004-02-11\", \"GSW vs. PHX\", \"W\", 240, 110, 43, 82, 0.524, 4, 10, 0.4, 20, 24, 0.833, 10, 27, 37, 27, 15, 6, 11, 21, 11.0], [\"22003\", 1610612744, \"GSW\", \"Golden State Warriors\", \"0020300749\", \"2004-02-10\", \"GSW @ SEA\", \"W\", 240, 106, 39, 80, 0.488, 6, 10, 0.6, 22, 27, 0.815, 9, 26, 35, 23, 10, 6, 7, 15, 9.0], [\"22003\", 1610612744, \"GSW\", \"Golden State Warriors\", \"0020300735\", \"2004-02-08\", \"GSW vs. TOR\", \"L\", 265, 81, 31, 73, 0.425, 1, 6, 0.167, 18, 29, 0.621, 8, 41, 49, 15, 5, 5, 18, 17, -3.0], [\"22003\", 1610612744, \"GSW\", \"Golden State Warriors\", \"0020300720\", \"2004-02-06\", \"GSW vs. DEN\", \"W\", 240, 96, 32, 76, 0.421, 3, 9, 0.333, 29, 36, 0.806, 15, 34, 49, 19, 7, 9, 16, 21, 9.0], [\"22003\", 1610612744, \"GSW\", \"Golden State Warriors\", \"0020300696\", \"2004-02-03\", \"GSW @ DAL\", \"L\", 240, 93, 37, 74, 0.5, 2, 11, 0.182, 17, 28, 0.607, 6, 25, 31, 16, 5, 2, 11, 18, -14.0], [\"22003\", 1610612744, \"GSW\", \"Golden State Warriors\", \"0020300687\", \"2004-02-02\", \"GSW @ MEM\", \"L\", 240, 101, 37, 81, 0.457, 3, 9, 0.333, 24, 35, 0.686, 12, 22, 34, 22, 8, 9, 10, 25, -6.0], [\"22003\", 1610612744, \"GSW\", \"Golden State Warriors\", \"0020300668\", \"2004-01-30\", \"GSW vs. CHI\", \"W\", 240, 101, 36, 71, 0.507, 7, 17, 0.412, 22, 29, 0.759, 10, 39, 49, 22, 5, 7, 20, 23, 19.0], [\"22003\", 1610612744, \"GSW\", \"Golden State Warriors\", \"0020300656\", \"2004-01-28\", \"GSW vs. MIN\", \"W\", 240, 97, 32, 83, 0.386, 4, 11, 0.364, 29, 38, 0.763, 15, 35, 50, 15, 12, 8, 13, 23, 7.0], [\"22003\", 1610612744, \"GSW\", \"Golden State Warriors\", \"0020300620\", \"2004-01-24\", \"GSW @ POR\", \"W\", 240, 105, 39, 78, 0.5, 11, 17, 0.647, 16, 19, 0.842, 14, 28, 42, 26, 11, 5, 16, 13, 18.0], [\"22003\", 1610612744, \"GSW\", \"Golden State Warriors\", \"0020300607\", \"2004-01-22\", \"GSW @ SEA\", \"L\", 240, 87, 28, 78, 0.359, 4, 17, 0.235, 27, 31, 0.871, 7, 32, 39, 15, 11, 2, 14, 23, -16.0], [\"22003\", 1610612744, \"GSW\", \"Golden State Warriors\", \"0020300604\", \"2004-01-21\", \"GSW @ LAC\", \"L\", 239, 102, 36, 84, 0.429, 10, 25, 0.4, 20, 25, 0.8, 17, 31, 48, 17, 6, 5, 14, 19, -4.0], [\"22003\", 1610612744, \"GSW\", \"Golden State Warriors\", \"0020300588\", \"2004-01-19\", \"GSW vs. UTA\", \"W\", 240, 101, 40, 78, 0.513, 5, 11, 0.455, 16, 20, 0.8, 15, 30, 45, 27, 5, 6, 17, 21, 16.0], [\"22003\", 1610612744, \"GSW\", \"Golden State Warriors\", \"0020300562\", \"2004-01-16\", \"GSW @ PHX\", \"L\", 240, 93, 32, 79, 0.405, 3, 11, 0.273, 26, 30, 0.867, 10, 19, 29, 14, 10, 3, 9, 20, -11.0], [\"22003\", 1610612744, \"GSW\", \"Golden State Warriors\", \"0020300556\", \"2004-01-15\", \"GSW vs. CLE\", \"W\", 240, 119, 43, 82, 0.524, 10, 13, 0.769, 23, 32, 0.719, 15, 33, 48, 29, 9, 6, 11, 18, 17.0], [\"22003\", 1610612744, \"GSW\", \"Golden State Warriors\", \"0020300538\", \"2004-01-13\", \"GSW @ UTA\", \"L\", 240, 80, 31, 81, 0.383, 4, 11, 0.364, 14, 17, 0.824, 13, 22, 35, 14, 9, 5, 12, 21, -17.0], [\"22003\", 1610612744, \"GSW\", \"Golden State Warriors\", \"0020300532\", \"2004-01-12\", \"GSW vs. MEM\", \"L\", 290, 113, 44, 103, 0.427, 4, 15, 0.267, 21, 33, 0.636, 27, 39, 66, 17, 7, 8, 16, 27, -2.0], [\"22003\", 1610612744, \"GSW\", \"Golden State Warriors\", \"0020300523\", \"2004-01-10\", \"GSW vs. SEA\", \"W\", 265, 113, 41, 90, 0.456, 12, 27, 0.444, 19, 27, 0.704, 16, 41, 57, 25, 4, 5, 14, 20, 3.0], [\"22003\", 1610612744, \"GSW\", \"Golden State Warriors\", \"0020300499\", \"2004-01-07\", \"GSW @ DAL\", \"L\", 240, 99, 40, 89, 0.449, 11, 23, 0.478, 8, 12, 0.667, 14, 31, 45, 27, 8, 5, 15, 20, -6.0], [\"22003\", 1610612744, \"GSW\", \"Golden State Warriors\", \"0020300481\", \"2004-01-05\", \"GSW @ HOU\", \"L\", 240, 65, 25, 75, 0.333, 6, 19, 0.316, 9, 11, 0.818, 5, 25, 30, 19, 7, 4, 11, 18, -18.0], [\"22003\", 1610612744, \"GSW\", \"Golden State Warriors\", \"0020300465\", \"2004-01-03\", \"GSW @ DET\", \"L\", 240, 93, 34, 75, 0.453, 7, 21, 0.333, 18, 26, 0.692, 8, 28, 36, 24, 9, 4, 12, 15, -6.0], [\"22003\", 1610612744, \"GSW\", \"Golden State Warriors\", \"0020300451\", \"2004-01-02\", \"GSW @ WAS\", \"L\", 240, 79, 31, 77, 0.403, 8, 21, 0.381, 9, 11, 0.818, 9, 27, 36, 20, 9, 7, 20, 17, -18.0], [\"22003\", 1610612744, \"GSW\", \"Golden State Warriors\", \"0020300448\", \"2003-12-31\", \"GSW @ NJN\", \"L\", 240, 70, 28, 70, 0.4, 3, 16, 0.188, 11, 17, 0.647, 9, 31, 40, 15, 8, 4, 15, 16, -18.0], [\"22003\", 1610612744, \"GSW\", \"Golden State Warriors\", \"0020300438\", \"2003-12-29\", \"GSW vs. BOS\", \"L\", 240, 91, 36, 82, 0.439, 3, 16, 0.188, 16, 30, 0.533, 14, 39, 53, 21, 8, 4, 18, 24, -9.0], [\"22003\", 1610612744, \"GSW\", \"Golden State Warriors\", \"0020300427\", \"2003-12-28\", \"GSW @ DEN\", \"L\", 240, 79, 31, 82, 0.378, 4, 11, 0.364, 13, 18, 0.722, 8, 40, 48, 23, 2, 5, 16, 20, -24.0], [\"22003\", 1610612744, \"GSW\", \"Golden State Warriors\", \"0020300415\", \"2003-12-26\", \"GSW vs. SAC\", \"W\", 240, 98, 32, 78, 0.41, 6, 17, 0.353, 28, 35, 0.8, 20, 29, 49, 20, 10, 2, 17, 24, 7.0], [\"22003\", 1610612744, \"GSW\", \"Golden State Warriors\", \"0020300400\", \"2003-12-23\", \"GSW vs. LAL\", \"W\", 240, 107, 37, 77, 0.481, 4, 14, 0.286, 29, 35, 0.829, 10, 32, 42, 20, 7, 1, 10, 22, 9.0], [\"22003\", 1610612744, \"GSW\", \"Golden State Warriors\", \"0020300382\", \"2003-12-21\", \"GSW @ MIA\", \"L\", 240, 93, 35, 73, 0.479, 3, 11, 0.273, 20, 24, 0.833, 8, 27, 35, 14, 8, 8, 17, 18, -11.0], [\"22003\", 1610612744, \"GSW\", \"Golden State Warriors\", \"0020300361\", \"2003-12-19\", \"GSW @ ORL\", \"L\", 240, 93, 37, 78, 0.474, 2, 13, 0.154, 17, 24, 0.708, 5, 26, 31, 23, 5, 1, 14, 16, -26.0], [\"22003\", 1610612744, \"GSW\", \"Golden State Warriors\", \"0020300351\", \"2003-12-17\", \"GSW @ ATL\", \"W\", 240, 98, 38, 82, 0.463, 10, 21, 0.476, 12, 21, 0.571, 13, 32, 45, 30, 9, 9, 15, 15, 13.0], [\"22003\", 1610612744, \"GSW\", \"Golden State Warriors\", \"0020300339\", \"2003-12-16\", \"GSW @ NYK\", \"W\", 240, 104, 42, 83, 0.506, 5, 14, 0.357, 15, 20, 0.75, 3, 34, 37, 24, 9, 3, 6, 23, 18.0], [\"22003\", 1610612744, \"GSW\", \"Golden State Warriors\", \"0020300319\", \"2003-12-12\", \"GSW vs. NOH\", \"L\", 240, 85, 32, 82, 0.39, 7, 19, 0.368, 14, 19, 0.737, 11, 28, 39, 20, 4, 3, 10, 18, -11.0], [\"22003\", 1610612744, \"GSW\", \"Golden State Warriors\", \"0020300301\", \"2003-12-10\", \"GSW @ MIL\", \"L\", 265, 89, 34, 89, 0.382, 7, 23, 0.304, 14, 18, 0.778, 13, 32, 45, 19, 10, 1, 16, 27, -5.0], [\"22003\", 1610612744, \"GSW\", \"Golden State Warriors\", \"0020300295\", \"2003-12-09\", \"GSW @ MIN\", \"W\", 240, 98, 34, 77, 0.442, 5, 12, 0.417, 25, 29, 0.862, 9, 31, 40, 26, 5, 0, 7, 22, 3.0], [\"22003\", 1610612744, \"GSW\", \"Golden State Warriors\", \"0020300278\", \"2003-12-06\", \"GSW vs. NYK\", \"W\", 240, 104, 44, 83, 0.53, 3, 14, 0.214, 13, 14, 0.929, 10, 24, 34, 29, 10, 2, 11, 13, 12.0], [\"22003\", 1610612744, \"GSW\", \"Golden State Warriors\", \"0020300266\", \"2003-12-05\", \"GSW @ DEN\", \"L\", 241, 91, 36, 83, 0.434, 9, 21, 0.429, 10, 21, 0.476, 11, 33, 44, 25, 2, 5, 12, 26, -7.0], [\"22003\", 1610612744, \"GSW\", \"Golden State Warriors\", \"0020300256\", \"2003-12-03\", \"GSW vs. DEN\", \"L\", 241, 109, 44, 88, 0.5, 4, 15, 0.267, 17, 25, 0.68, 19, 21, 40, 21, 9, 3, 14, 25, -8.0], [\"22003\", 1610612744, \"GSW\", \"Golden State Warriors\", \"0020300232\", \"2003-11-29\", \"GSW vs. SAS\", \"W\", 240, 91, 32, 82, 0.39, 9, 18, 0.5, 18, 26, 0.692, 17, 33, 50, 10, 6, 2, 15, 24, 2.0], [\"22003\", 1610612744, \"GSW\", \"Golden State Warriors\", \"0020300219\", \"2003-11-28\", \"GSW @ PHX\", \"W\", 239, 92, 37, 76, 0.487, 4, 16, 0.25, 14, 23, 0.609, 10, 40, 50, 18, 7, 5, 19, 21, 9.0], [\"22003\", 1610612744, \"GSW\", \"Golden State Warriors\", \"0020300184\", \"2003-11-23\", \"GSW vs. POR\", \"W\", 241, 78, 30, 79, 0.38, 1, 10, 0.1, 17, 25, 0.68, 16, 37, 53, 19, 5, 4, 13, 16, 6.0], [\"22003\", 1610612744, \"GSW\", \"Golden State Warriors\", \"0020300173\", \"2003-11-21\", \"GSW vs. MIA\", \"W\", 239, 101, 37, 79, 0.468, 7, 12, 0.583, 20, 27, 0.741, 14, 33, 47, 22, 3, 8, 18, 23, 10.0], [\"22003\", 1610612744, \"GSW\", \"Golden State Warriors\", \"0020300157\", \"2003-11-19\", \"GSW @ HOU\", \"L\", 241, 83, 34, 75, 0.453, 3, 17, 0.176, 12, 20, 0.6, 8, 31, 39, 26, 6, 2, 10, 20, -2.0], [\"22003\", 1610612744, \"GSW\", \"Golden State Warriors\", \"0020300149\", \"2003-11-18\", \"GSW @ SAS\", \"L\", 239, 81, 34, 76, 0.447, 3, 10, 0.3, 10, 16, 0.625, 10, 28, 38, 15, 7, 3, 15, 17, -13.0], [\"22003\", 1610612744, \"GSW\", \"Golden State Warriors\", \"0020300137\", \"2003-11-16\", \"GSW @ SAC\", \"L\", 240, 104, 43, 82, 0.524, 7, 14, 0.5, 11, 19, 0.579, 10, 25, 35, 21, 10, 4, 12, 24, -2.0], [\"22003\", 1610612744, \"GSW\", \"Golden State Warriors\", \"0020300125\", \"2003-11-14\", \"GSW vs. LAC\", \"L\", 239, 98, 38, 91, 0.418, 3, 16, 0.188, 19, 25, 0.76, 20, 31, 51, 23, 3, 2, 14, 24, -6.0], [\"22003\", 1610612744, \"GSW\", \"Golden State Warriors\", \"0020300110\", \"2003-11-12\", \"GSW vs. DET\", \"W\", 265, 87, 34, 76, 0.447, 0, 12, 0.0, 19, 24, 0.792, 6, 38, 44, 24, 8, 7, 20, 27, 3.0], [\"22003\", 1610612744, \"GSW\", \"Golden State Warriors\", \"0020300094\", \"2003-11-10\", \"GSW vs. PHX\", \"L\", 240, 96, 36, 80, 0.45, 7, 24, 0.292, 17, 25, 0.68, 7, 34, 41, 21, 5, 10, 12, 14, -3.0], [\"22003\", 1610612744, \"GSW\", \"Golden State Warriors\", \"0020300075\", \"2003-11-07\", \"GSW vs. UTA\", \"W\", 239, 95, 29, 67, 0.433, 6, 13, 0.462, 31, 42, 0.738, 9, 32, 41, 22, 7, 5, 20, 19, 6.0], [\"22003\", 1610612744, \"GSW\", \"Golden State Warriors\", \"0020300060\", \"2003-11-05\", \"GSW vs. ATL\", \"W\", 240, 99, 37, 83, 0.446, 5, 18, 0.278, 20, 31, 0.645, 16, 36, 52, 23, 10, 2, 14, 20, 27.0], [\"22003\", 1610612744, \"GSW\", \"Golden State Warriors\", \"0020300040\", \"2003-11-02\", \"GSW @ LAL\", \"L\", 240, 72, 29, 78, 0.372, 3, 15, 0.2, 11, 19, 0.579, 14, 32, 46, 22, 10, 3, 18, 19, -15.0], [\"22003\", 1610612744, \"GSW\", \"Golden State Warriors\", \"0020300039\", \"2003-11-01\", \"GSW vs. PHI\", \"W\", 240, 104, 41, 69, 0.594, 5, 13, 0.385, 17, 19, 0.895, 7, 30, 37, 18, 4, 2, 18, 17, 14.0], [\"22003\", 1610612744, \"GSW\", \"Golden State Warriors\", \"0020300013\", \"2003-10-29\", \"GSW vs. DAL\", \"L\", 240, 87, 36, 92, 0.391, 5, 21, 0.238, 10, 17, 0.588, 15, 36, 51, 19, 6, 3, 14, 27, -8.0], [\"22002\", 1610612744, \"GSW\", \"Golden State Warriors\", \"0020201189\", \"2003-04-16\", \"GSW vs. LAL\", \"L\", 239, 111, 41, 90, 0.456, 9, 25, 0.36, 20, 28, 0.714, 15, 34, 49, 19, 7, 10, 13, 25, -6.0], [\"22002\", 1610612744, \"GSW\", \"Golden State Warriors\", \"0020201170\", \"2003-04-14\", \"GSW vs. LAC\", \"L\", 241, 113, 42, 104, 0.404, 8, 24, 0.333, 21, 29, 0.724, 27, 29, 56, 24, 4, 10, 9, 18, -9.0], [\"22002\", 1610612744, \"GSW\", \"Golden State Warriors\", \"0020201154\", \"2003-04-12\", \"GSW @ DAL\", \"L\", 240, 108, 44, 100, 0.44, 4, 17, 0.235, 16, 23, 0.696, 16, 37, 53, 25, 7, 10, 13, 24, -9.0], [\"22002\", 1610612744, \"GSW\", \"Golden State Warriors\", \"0020201148\", \"2003-04-11\", \"GSW @ PHX\", \"L\", 241, 101, 38, 82, 0.463, 8, 19, 0.421, 17, 25, 0.68, 13, 35, 48, 26, 3, 6, 18, 21, -16.0], [\"22002\", 1610612744, \"GSW\", \"Golden State Warriors\", \"0020201124\", \"2003-04-08\", \"GSW vs. UTA\", \"W\", 239, 128, 42, 80, 0.525, 9, 15, 0.6, 35, 39, 0.897, 16, 30, 46, 27, 4, 10, 13, 16, 26.0], [\"22002\", 1610612744, \"GSW\", \"Golden State Warriors\", \"0020201109\", \"2003-04-06\", \"GSW vs. DEN\", \"W\", 240, 106, 37, 76, 0.487, 3, 9, 0.333, 29, 40, 0.725, 14, 37, 51, 25, 9, 8, 21, 19, 7.0], [\"22002\", 1610612744, \"GSW\", \"Golden State Warriors\", \"0020201096\", \"2003-04-04\", \"GSW vs. POR\", \"L\", 240, 100, 42, 98, 0.429, 5, 19, 0.263, 11, 16, 0.688, 19, 26, 45, 27, 9, 6, 16, 19, -22.0], [\"22002\", 1610612744, \"GSW\", \"Golden State Warriors\", \"0020201073\", \"2003-04-01\", \"GSW @ POR\", \"L\", 241, 86, 37, 90, 0.411, 2, 15, 0.133, 10, 10, 1.0, 15, 30, 45, 21, 8, 3, 14, 20, -14.0], [\"22002\", 1610612744, \"GSW\", \"Golden State Warriors\", \"0020201049\", \"2003-03-29\", \"GSW @ NJN\", \"L\", 241, 97, 33, 79, 0.418, 4, 13, 0.308, 27, 31, 0.871, 13, 30, 43, 17, 7, 4, 20, 22, -12.0], [\"22002\", 1610612744, \"GSW\", \"Golden State Warriors\", \"0020201037\", \"2003-03-28\", \"GSW @ PHI\", \"W\", 241, 102, 39, 84, 0.464, 3, 17, 0.176, 21, 24, 0.875, 9, 34, 43, 25, 7, 4, 14, 17, 4.0], [\"22002\", 1610612744, \"GSW\", \"Golden State Warriors\", \"0020201021\", \"2003-03-26\", \"GSW @ BOS\", \"W\", 242, 107, 41, 79, 0.519, 9, 19, 0.474, 16, 21, 0.762, 10, 38, 48, 25, 5, 5, 16, 19, 12.0], [\"22002\", 1610612744, \"GSW\", \"Golden State Warriors\", \"0020201016\", \"2003-03-25\", \"GSW @ CLE\", \"L\", 241, 103, 36, 94, 0.383, 6, 20, 0.3, 25, 36, 0.694, 18, 22, 40, 17, 7, 9, 16, 20, -21.0], [\"22002\", 1610612744, \"GSW\", \"Golden State Warriors\", \"0020201008\", \"2003-03-23\", \"GSW vs. WAS\", \"W\", 241, 113, 42, 86, 0.488, 10, 22, 0.455, 19, 26, 0.731, 17, 26, 43, 25, 6, 2, 17, 16, 6.0], [\"22002\", 1610612744, \"GSW\", \"Golden State Warriors\", \"0020200994\", \"2003-03-21\", \"GSW vs. HOU\", \"L\", 239, 107, 40, 90, 0.444, 4, 14, 0.286, 23, 30, 0.767, 14, 28, 42, 15, 12, 7, 15, 23, -10.0], [\"22002\", 1610612744, \"GSW\", \"Golden State Warriors\", \"0020200980\", \"2003-03-19\", \"GSW vs. SEA\", \"W\", 241, 105, 43, 84, 0.512, 5, 22, 0.227, 14, 21, 0.667, 14, 32, 46, 20, 5, 4, 11, 19, 6.0], [\"22002\", 1610612744, \"GSW\", \"Golden State Warriors\", \"0020200969\", \"2003-03-18\", \"GSW @ SAC\", \"L\", 240, 91, 34, 94, 0.362, 5, 18, 0.278, 18, 26, 0.692, 19, 29, 48, 16, 12, 7, 15, 17, -26.0], [\"22002\", 1610612744, \"GSW\", \"Golden State Warriors\", \"0020200947\", \"2003-03-15\", \"GSW @ SEA\", \"W\", 240, 94, 37, 77, 0.481, 6, 15, 0.4, 14, 17, 0.824, 8, 32, 40, 23, 5, 6, 17, 15, 6.0], [\"22002\", 1610612744, \"GSW\", \"Golden State Warriors\", \"0020200942\", \"2003-03-14\", \"GSW vs. DAL\", \"L\", 242, 114, 39, 84, 0.464, 8, 27, 0.296, 28, 32, 0.875, 12, 28, 40, 27, 4, 3, 12, 18, -2.0], [\"22002\", 1610612744, \"GSW\", \"Golden State Warriors\", \"0020200920\", \"2003-03-11\", \"GSW vs. PHX\", \"W\", 242, 113, 43, 87, 0.494, 9, 20, 0.45, 18, 26, 0.692, 19, 39, 58, 29, 7, 7, 19, 24, 15.0], [\"22002\", 1610612744, \"GSW\", \"Golden State Warriors\", \"0020200905\", \"2003-03-09\", \"GSW @ DET\", \"L\", 242, 105, 39, 78, 0.5, 8, 17, 0.471, 19, 26, 0.731, 13, 29, 42, 18, 5, 2, 12, 27, -2.0], [\"22002\", 1610612744, \"GSW\", \"Golden State Warriors\", \"0020200896\", \"2003-03-08\", \"GSW @ MIL\", \"L\", 264, 133, 47, 89, 0.528, 8, 17, 0.471, 31, 38, 0.816, 12, 40, 52, 26, 4, 3, 21, 25, -5.0], [\"22002\", 1610612744, \"GSW\", \"Golden State Warriors\", \"0020200882\", \"2003-03-06\", \"GSW @ CHI\", \"L\", 241, 105, 40, 88, 0.455, 6, 18, 0.333, 19, 26, 0.731, 14, 22, 36, 25, 10, 4, 12, 23, -14.0], [\"22002\", 1610612744, \"GSW\", \"Golden State Warriors\", \"0020200870\", \"2003-03-04\", \"GSW vs. IND\", \"W\", 240, 107, 43, 79, 0.544, 3, 14, 0.214, 18, 24, 0.75, 8, 32, 40, 22, 5, 9, 16, 20, 7.0], [\"22002\", 1610612744, \"GSW\", \"Golden State Warriors\", \"0020200849\", \"2003-03-01\", \"GSW vs. DET\", \"W\", 240, 92, 33, 83, 0.398, 3, 12, 0.25, 23, 32, 0.719, 19, 30, 49, 15, 6, 8, 8, 24, 2.0], [\"22002\", 1610612744, \"GSW\", \"Golden State Warriors\", \"0020200830\", \"2003-02-26\", \"GSW @ LAC\", \"W\", 241, 108, 39, 89, 0.438, 7, 15, 0.467, 23, 28, 0.821, 16, 31, 47, 24, 11, 6, 10, 23, 14.0], [\"22002\", 1610612744, \"GSW\", \"Golden State Warriors\", \"0020200811\", \"2003-02-24\", \"GSW @ DEN\", \"W\", 241, 94, 29, 81, 0.358, 3, 10, 0.3, 33, 39, 0.846, 13, 30, 43, 18, 15, 4, 16, 21, 5.0], [\"22002\", 1610612744, \"GSW\", \"Golden State Warriors\", \"0020200804\", \"2003-02-23\", \"GSW vs. ATL\", \"W\", 239, 115, 40, 87, 0.46, 6, 15, 0.4, 29, 35, 0.829, 17, 43, 60, 21, 7, 8, 13, 18, 22.0], [\"22002\", 1610612744, \"GSW\", \"Golden State Warriors\", \"0020200791\", \"2003-02-21\", \"GSW vs. NYK\", \"W\", 241, 111, 41, 98, 0.418, 6, 13, 0.462, 23, 28, 0.821, 32, 30, 62, 20, 6, 14, 17, 15, 4.0], [\"22002\", 1610612744, \"GSW\", \"Golden State Warriors\", \"0020200777\", \"2003-02-19\", \"GSW @ POR\", \"L\", 241, 98, 38, 84, 0.452, 2, 12, 0.167, 20, 22, 0.909, 12, 29, 41, 24, 8, 8, 21, 22, -27.0], [\"22002\", 1610612744, \"GSW\", \"Golden State Warriors\", \"0020200770\", \"2003-02-18\", \"GSW vs. BOS\", \"L\", 241, 117, 40, 89, 0.449, 7, 22, 0.318, 30, 42, 0.714, 24, 32, 56, 25, 1, 8, 14, 24, -8.0], [\"22002\", 1610612744, \"GSW\", \"Golden State Warriors\", \"0020200751\", \"2003-02-16\", \"GSW @ MIN\", \"L\", 241, 102, 39, 98, 0.398, 6, 21, 0.286, 18, 28, 0.643, 19, 31, 50, 18, 8, 6, 14, 20, -7.0], [\"22002\", 1610612744, \"GSW\", \"Golden State Warriors\", \"0020200732\", \"2003-02-14\", \"GSW @ TOR\", \"W\", 264, 118, 39, 93, 0.419, 4, 15, 0.267, 36, 44, 0.818, 16, 37, 53, 16, 12, 7, 13, 22, 4.0], [\"22002\", 1610612744, \"GSW\", \"Golden State Warriors\", \"0020200723\", \"2003-02-12\", \"GSW @ NYK\", \"W\", 240, 113, 43, 73, 0.589, 4, 12, 0.333, 23, 33, 0.697, 3, 43, 46, 19, 8, 1, 20, 18, 6.0], [\"22002\", 1610612744, \"GSW\", \"Golden State Warriors\", \"0020200711\", \"2003-02-11\", \"GSW @ ATL\", \"W\", 240, 116, 40, 84, 0.476, 10, 19, 0.526, 26, 31, 0.839, 11, 30, 41, 19, 11, 2, 17, 15, 3.0], [\"22002\", 1610612744, \"GSW\", \"Golden State Warriors\", \"0020200704\", \"2003-02-05\", \"GSW vs. SAS\", \"L\", 241, 99, 35, 79, 0.443, 5, 13, 0.385, 24, 33, 0.727, 12, 33, 45, 19, 5, 4, 12, 24, -4.0], [\"22002\", 1610612744, \"GSW\", \"Golden State Warriors\", \"0020200688\", \"2003-02-03\", \"GSW vs. MEM\", \"W\", 241, 101, 39, 84, 0.464, 5, 13, 0.385, 18, 23, 0.783, 16, 26, 42, 24, 12, 6, 7, 24, 10.0], [\"22002\", 1610612744, \"GSW\", \"Golden State Warriors\", \"0020200674\", \"2003-02-01\", \"GSW @ PHX\", \"L\", 240, 107, 39, 90, 0.433, 6, 17, 0.353, 23, 27, 0.852, 13, 28, 41, 25, 4, 3, 17, 31, -9.0], [\"22002\", 1610612744, \"GSW\", \"Golden State Warriors\", \"0020200664\", \"2003-01-31\", \"GSW @ UTA\", \"L\", 241, 94, 35, 82, 0.427, 1, 8, 0.125, 23, 27, 0.852, 11, 24, 35, 18, 10, 3, 13, 19, -8.0], [\"22002\", 1610612744, \"GSW\", \"Golden State Warriors\", \"0020200642\", \"2003-01-28\", \"GSW @ SEA\", \"L\", 239, 88, 32, 85, 0.376, 6, 18, 0.333, 18, 30, 0.6, 16, 33, 49, 15, 8, 5, 18, 23, -3.0], [\"22002\", 1610612744, \"GSW\", \"Golden State Warriors\", \"0020200623\", \"2003-01-25\", \"GSW vs. UTA\", \"W\", 238, 108, 46, 83, 0.554, 2, 11, 0.182, 14, 18, 0.778, 10, 29, 39, 26, 6, 7, 14, 19, 13.0], [\"22002\", 1610612744, \"GSW\", \"Golden State Warriors\", \"0020200605\", \"2003-01-23\", \"GSW vs. NJN\", \"W\", 240, 105, 37, 72, 0.514, 6, 11, 0.545, 25, 31, 0.806, 12, 35, 47, 21, 4, 6, 14, 21, 8.0], [\"22002\", 1610612744, \"GSW\", \"Golden State Warriors\", \"0020200602\", \"2003-01-22\", \"GSW @ LAL\", \"W\", 240, 114, 44, 80, 0.55, 4, 12, 0.333, 22, 25, 0.88, 11, 24, 35, 23, 7, 4, 12, 22, 4.0], [\"22002\", 1610612744, \"GSW\", \"Golden State Warriors\", \"0020200582\", \"2003-01-20\", \"GSW vs. SAC\", \"L\", 240, 80, 30, 94, 0.319, 3, 16, 0.188, 17, 24, 0.708, 25, 29, 54, 21, 8, 5, 16, 14, -22.0], [\"22002\", 1610612744, \"GSW\", \"Golden State Warriors\", \"0020200565\", \"2003-01-17\", \"GSW vs. MIN\", \"W\", 240, 107, 42, 93, 0.452, 5, 17, 0.294, 18, 21, 0.857, 22, 27, 49, 26, 7, 4, 15, 22, 9.0], [\"22002\", 1610612744, \"GSW\", \"Golden State Warriors\", \"0020200552\", \"2003-01-15\", \"GSW vs. CLE\", \"W\", 240, 108, 39, 86, 0.453, 3, 11, 0.273, 27, 32, 0.844, 13, 38, 51, 19, 4, 12, 11, 21, 28.0], [\"22002\", 1610612744, \"GSW\", \"Golden State Warriors\", \"0020200536\", \"2003-01-13\", \"GSW vs. MEM\", \"L\", 240, 108, 37, 92, 0.402, 7, 20, 0.35, 27, 36, 0.75, 24, 30, 54, 21, 7, 6, 13, 26, -2.0], [\"22002\", 1610612744, \"GSW\", \"Golden State Warriors\", \"0020200519\", \"2003-01-11\", \"GSW @ IND\", \"L\", 240, 104, 38, 80, 0.475, 4, 13, 0.308, 24, 28, 0.857, 14, 23, 37, 23, 8, 4, 16, 24, -12.0], [\"22002\", 1610612744, \"GSW\", \"Golden State Warriors\", \"0020200505\", \"2003-01-10\", \"GSW @ WAS\", \"W\", 240, 104, 41, 93, 0.441, 5, 15, 0.333, 17, 20, 0.85, 23, 25, 48, 18, 9, 6, 11, 17, 5.0], [\"22002\", 1610612744, \"GSW\", \"Golden State Warriors\", \"0020200496\", \"2003-01-08\", \"GSW @ MIN\", \"L\", 240, 95, 33, 84, 0.393, 7, 17, 0.412, 22, 27, 0.815, 8, 34, 42, 19, 5, 5, 7, 20, -7.0], [\"22002\", 1610612744, \"GSW\", \"Golden State Warriors\", \"0020200486\", \"2003-01-06\", \"GSW vs. MIA\", \"W\", 239, 99, 34, 76, 0.447, 3, 11, 0.273, 28, 31, 0.903, 12, 34, 46, 20, 8, 9, 14, 16, 14.0], [\"22002\", 1610612744, \"GSW\", \"Golden State Warriors\", \"0020200469\", \"2003-01-04\", \"GSW @ HOU\", \"W\", 240, 86, 32, 75, 0.427, 3, 5, 0.6, 19, 21, 0.905, 11, 32, 43, 15, 7, 5, 14, 20, 2.0], [\"22002\", 1610612744, \"GSW\", \"Golden State Warriors\", \"0020200461\", \"2003-01-03\", \"GSW @ SAS\", \"L\", 239, 95, 37, 88, 0.42, 4, 15, 0.267, 17, 23, 0.739, 24, 26, 50, 18, 5, 6, 18, 25, -3.0], [\"22002\", 1610612744, \"GSW\", \"Golden State Warriors\", \"0020200441\", \"2002-12-30\", \"GSW vs. PHI\", \"W\", 240, 104, 34, 81, 0.42, 8, 17, 0.471, 28, 37, 0.757, 18, 31, 49, 21, 7, 7, 20, 26, 6.0], [\"22002\", 1610612744, \"GSW\", \"Golden State Warriors\", \"0020200428\", \"2002-12-28\", \"GSW @ LAC\", \"W\", 241, 99, 36, 86, 0.419, 4, 9, 0.444, 23, 29, 0.793, 16, 33, 49, 16, 3, 6, 13, 34, 7.0], [\"22002\", 1610612744, \"GSW\", \"Golden State Warriors\", \"0020200416\", \"2002-12-27\", \"GSW vs. TOR\", \"W\", 239, 101, 33, 78, 0.423, 4, 9, 0.444, 31, 33, 0.939, 19, 36, 55, 16, 5, 4, 19, 23, 5.0], [\"22002\", 1610612744, \"GSW\", \"Golden State Warriors\", \"0020200394\", \"2002-12-22\", \"GSW @ SAC\", \"L\", 241, 88, 32, 89, 0.36, 5, 13, 0.385, 19, 32, 0.594, 24, 31, 55, 13, 7, 3, 17, 21, -15.0], [\"22002\", 1610612744, \"GSW\", \"Golden State Warriors\", \"0020200380\", \"2002-12-20\", \"GSW vs. POR\", \"L\", 239, 111, 43, 84, 0.512, 8, 16, 0.5, 17, 19, 0.895, 12, 28, 40, 21, 7, 3, 17, 18, -2.0], [\"22002\", 1610612744, \"GSW\", \"Golden State Warriors\", \"0020200366\", \"2002-12-18\", \"GSW vs. NOH\", \"W\", 239, 111, 41, 82, 0.5, 1, 3, 0.333, 28, 35, 0.8, 15, 32, 47, 19, 8, 9, 11, 23, 5.0], [\"22002\", 1610612744, \"GSW\", \"Golden State Warriors\", \"0020200345\", \"2002-12-16\", \"GSW @ MEM\", \"L\", 241, 91, 35, 90, 0.389, 2, 17, 0.118, 19, 24, 0.792, 14, 33, 47, 18, 8, 3, 10, 21, -13.0], [\"22002\", 1610612744, \"GSW\", \"Golden State Warriors\", \"0020200331\", \"2002-12-14\", \"GSW @ MIA\", \"L\", 239, 92, 36, 70, 0.514, 7, 15, 0.467, 13, 24, 0.542, 7, 25, 32, 17, 9, 8, 17, 23, -9.0], [\"22002\", 1610612744, \"GSW\", \"Golden State Warriors\", \"0020200317\", \"2002-12-13\", \"GSW @ ORL\", \"L\", 239, 85, 31, 79, 0.392, 3, 15, 0.2, 20, 33, 0.606, 14, 32, 46, 18, 5, 4, 20, 26, -26.0], [\"22002\", 1610612744, \"GSW\", \"Golden State Warriors\", \"0020200305\", \"2002-12-10\", \"GSW vs. LAL\", \"W\", 239, 106, 41, 83, 0.494, 8, 13, 0.615, 16, 21, 0.762, 13, 27, 40, 25, 6, 4, 13, 23, 4.0], [\"22002\", 1610612744, \"GSW\", \"Golden State Warriors\", \"0020200288\", \"2002-12-07\", \"GSW vs. DAL\", \"L\", 240, 116, 40, 93, 0.43, 11, 25, 0.44, 25, 32, 0.781, 22, 33, 55, 30, 5, 3, 15, 29, -5.0], [\"22002\", 1610612744, \"GSW\", \"Golden State Warriors\", \"0020200268\", \"2002-12-05\", \"GSW vs. MIN\", \"L\", 240, 98, 33, 83, 0.398, 8, 23, 0.348, 24, 30, 0.8, 18, 24, 42, 22, 11, 9, 20, 21, -16.0], [\"22002\", 1610612744, \"GSW\", \"Golden State Warriors\", \"0020200255\", \"2002-12-03\", \"GSW vs. DEN\", \"W\", 240, 110, 32, 63, 0.508, 6, 9, 0.667, 40, 46, 0.87, 9, 33, 42, 20, 4, 9, 18, 20, 21.0], [\"22002\", 1610612744, \"GSW\", \"Golden State Warriors\", \"0020200237\", \"2002-11-30\", \"GSW vs. PHX\", \"W\", 240, 100, 36, 84, 0.429, 3, 11, 0.273, 25, 33, 0.758, 17, 36, 53, 26, 10, 10, 25, 21, 10.0], [\"22002\", 1610612744, \"GSW\", \"Golden State Warriors\", \"0020200224\", \"2002-11-29\", \"GSW @ DEN\", \"W\", 241, 92, 29, 72, 0.403, 3, 8, 0.375, 31, 37, 0.838, 13, 26, 39, 16, 18, 6, 18, 23, 10.0], [\"22002\", 1610612744, \"GSW\", \"Golden State Warriors\", \"0020200215\", \"2002-11-27\", \"GSW vs. HOU\", \"L\", 242, 84, 30, 91, 0.33, 4, 16, 0.25, 20, 30, 0.667, 25, 26, 51, 17, 6, 7, 13, 25, -7.0], [\"22002\", 1610612744, \"GSW\", \"Golden State Warriors\", \"0020200179\", \"2002-11-22\", \"GSW vs. MIL\", \"L\", 240, 91, 24, 73, 0.329, 6, 25, 0.24, 37, 46, 0.804, 17, 31, 48, 16, 8, 6, 15, 23, -4.0], [\"22002\", 1610612744, \"GSW\", \"Golden State Warriors\", \"0020200165\", \"2002-11-20\", \"GSW vs. CHI\", \"W\", 240, 100, 39, 82, 0.476, 1, 5, 0.2, 21, 32, 0.656, 18, 33, 51, 20, 8, 10, 18, 27, 6.0], [\"22002\", 1610612744, \"GSW\", \"Golden State Warriors\", \"0020200147\", \"2002-11-18\", \"GSW vs. LAC\", \"L\", 240, 89, 30, 87, 0.345, 4, 9, 0.444, 25, 35, 0.714, 21, 33, 54, 18, 9, 8, 17, 19, -10.0], [\"22002\", 1610612744, \"GSW\", \"Golden State Warriors\", \"0020200137\", \"2002-11-16\", \"GSW vs. ORL\", \"W\", 241, 135, 48, 82, 0.585, 7, 12, 0.583, 32, 39, 0.821, 17, 35, 52, 31, 7, 5, 15, 29, 43.0], [\"22002\", 1610612744, \"GSW\", \"Golden State Warriors\", \"0020200127\", \"2002-11-15\", \"GSW @ LAL\", \"L\", 264, 89, 34, 93, 0.366, 3, 16, 0.188, 18, 33, 0.545, 20, 39, 59, 18, 5, 4, 17, 24, -7.0], [\"22002\", 1610612744, \"GSW\", \"Golden State Warriors\", \"0020200113\", \"2002-11-13\", \"GSW vs. SAC\", \"L\", 240, 93, 36, 89, 0.404, 3, 15, 0.2, 18, 23, 0.783, 16, 31, 47, 21, 8, 4, 13, 17, -11.0], [\"22002\", 1610612744, \"GSW\", \"Golden State Warriors\", \"0020200096\", \"2002-11-11\", \"GSW @ MEM\", \"W\", 239, 108, 41, 88, 0.466, 4, 10, 0.4, 22, 26, 0.846, 17, 36, 53, 30, 5, 7, 15, 25, 7.0], [\"22002\", 1610612744, \"GSW\", \"Golden State Warriors\", \"0020200089\", \"2002-11-09\", \"GSW @ HOU\", \"L\", 239, 104, 36, 82, 0.439, 7, 19, 0.368, 25, 28, 0.893, 17, 27, 44, 22, 8, 7, 15, 26, -7.0], [\"22002\", 1610612744, \"GSW\", \"Golden State Warriors\", \"0020200077\", \"2002-11-08\", \"GSW @ NOH\", \"L\", 240, 104, 39, 84, 0.464, 0, 6, 0.0, 26, 29, 0.897, 12, 26, 38, 14, 10, 7, 15, 22, -6.0], [\"22002\", 1610612744, \"GSW\", \"Golden State Warriors\", \"0020200057\", \"2002-11-05\", \"GSW @ SAS\", \"L\", 240, 73, 27, 78, 0.346, 0, 8, 0.0, 19, 21, 0.905, 11, 28, 39, 13, 8, 6, 17, 21, -20.0], [\"22002\", 1610612744, \"GSW\", \"Golden State Warriors\", \"0020200050\", \"2002-11-04\", \"GSW @ DAL\", \"L\", 241, 100, 32, 89, 0.36, 13, 30, 0.433, 23, 29, 0.793, 17, 33, 50, 16, 11, 6, 14, 25, -7.0], [\"22002\", 1610612744, \"GSW\", \"Golden State Warriors\", \"0020200040\", \"2002-11-02\", \"GSW @ UTA\", \"L\", 239, 92, 27, 72, 0.375, 7, 17, 0.412, 31, 38, 0.816, 12, 31, 43, 14, 6, 9, 18, 27, -9.0], [\"22002\", 1610612744, \"GSW\", \"Golden State Warriors\", \"0020200030\", \"2002-11-01\", \"GSW vs. SEA\", \"L\", 241, 93, 36, 84, 0.429, 1, 10, 0.1, 20, 29, 0.69, 21, 34, 55, 25, 6, 11, 20, 23, -13.0], [\"22002\", 1610612744, \"GSW\", \"Golden State Warriors\", \"0020200017\", \"2002-10-30\", \"GSW vs. SAS\", \"W\", 239, 106, 40, 83, 0.482, 5, 9, 0.556, 21, 26, 0.808, 18, 28, 46, 25, 7, 10, 16, 24, 8.0], [\"22001\", 1610612744, \"GSW\", \"Golden State Warriors\", \"0020101189\", \"2002-04-17\", \"GSW vs. LAC\", \"W\", 240, 107, 39, 83, 0.47, 5, 10, 0.5, 24, 28, 0.857, 9, 38, 47, 25, 11, 10, 14, 25, 4.0], [\"22001\", 1610612744, \"GSW\", \"Golden State Warriors\", \"0020101174\", \"2002-04-16\", \"GSW @ SAC\", \"L\", 240, 106, 44, 92, 0.478, 5, 15, 0.333, 13, 16, 0.813, 8, 27, 35, 20, 9, 6, 11, 22, -14.0], [\"22001\", 1610612744, \"GSW\", \"Golden State Warriors\", \"0020101153\", \"2002-04-13\", \"GSW vs. UTA\", \"L\", 240, 101, 39, 82, 0.476, 10, 18, 0.556, 13, 21, 0.619, 13, 34, 47, 29, 7, 7, 21, 32, -8.0], [\"22001\", 1610612744, \"GSW\", \"Golden State Warriors\", \"0020101145\", \"2002-04-12\", \"GSW @ DEN\", \"L\", 240, 89, 35, 78, 0.449, 3, 15, 0.2, 16, 25, 0.64, 14, 28, 42, 22, 8, 7, 25, 24, -8.0], [\"22001\", 1610612744, \"GSW\", \"Golden State Warriors\", \"0020101130\", \"2002-04-10\", \"GSW vs. SAC\", \"L\", 241, 116, 46, 103, 0.447, 6, 18, 0.333, 18, 29, 0.621, 24, 28, 52, 26, 13, 4, 17, 21, -2.0], [\"22001\", 1610612744, \"GSW\", \"Golden State Warriors\", \"0020101112\", \"2002-04-08\", \"GSW vs. MIN\", \"L\", 240, 93, 37, 88, 0.42, 8, 21, 0.381, 11, 15, 0.733, 14, 29, 43, 22, 5, 7, 10, 23, -7.0], [\"22001\", 1610612744, \"GSW\", \"Golden State Warriors\", \"0020101098\", \"2002-04-06\", \"GSW @ POR\", \"L\", 241, 86, 39, 88, 0.443, 2, 13, 0.154, 6, 9, 0.667, 10, 29, 39, 26, 6, 7, 18, 12, -27.0], [\"22001\", 1610612744, \"GSW\", \"Golden State Warriors\", \"0020101092\", \"2002-04-05\", \"GSW vs. DEN\", \"W\", 240, 108, 41, 88, 0.466, 4, 14, 0.286, 22, 33, 0.667, 16, 38, 54, 20, 10, 11, 20, 29, 4.0], [\"22001\", 1610612744, \"GSW\", \"Golden State Warriors\", \"0020101066\", \"2002-04-02\", \"GSW vs. POR\", \"W\", 240, 107, 46, 85, 0.541, 10, 20, 0.5, 5, 9, 0.556, 12, 30, 42, 23, 8, 6, 13, 22, 16.0], [\"22001\", 1610612744, \"GSW\", \"Golden State Warriors\", \"0020101043\", \"2002-03-30\", \"GSW @ MEM\", \"L\", 241, 99, 39, 94, 0.415, 0, 12, 0.0, 21, 28, 0.75, 21, 29, 50, 23, 11, 5, 14, 17, -6.0], [\"22001\", 1610612744, \"GSW\", \"Golden State Warriors\", \"0020101037\", \"2002-03-29\", \"GSW @ DET\", \"L\", 240, 103, 39, 87, 0.448, 9, 19, 0.474, 16, 24, 0.667, 14, 33, 47, 23, 5, 6, 18, 29, -7.0], [\"22001\", 1610612744, \"GSW\", \"Golden State Warriors\", \"0020101017\", \"2002-03-27\", \"GSW @ BOS\", \"L\", 240, 99, 36, 90, 0.4, 10, 22, 0.455, 17, 26, 0.654, 18, 38, 56, 25, 9, 3, 18, 22, -3.0], [\"22001\", 1610612744, \"GSW\", \"Golden State Warriors\", \"0020101013\", \"2002-03-26\", \"GSW @ MIN\", \"W\", 240, 115, 44, 85, 0.518, 6, 17, 0.353, 21, 26, 0.808, 12, 36, 48, 29, 6, 8, 14, 27, 9.0], [\"22001\", 1610612744, \"GSW\", \"Golden State Warriors\", \"0020101001\", \"2002-03-24\", \"GSW vs. HOU\", \"L\", 240, 104, 39, 92, 0.424, 5, 18, 0.278, 21, 24, 0.875, 14, 20, 34, 18, 8, 7, 11, 22, -12.0], [\"22001\", 1610612744, \"GSW\", \"Golden State Warriors\", \"0020100991\", \"2002-03-23\", \"GSW @ UTA\", \"L\", 241, 103, 36, 81, 0.444, 5, 19, 0.263, 26, 37, 0.703, 10, 27, 37, 24, 9, 12, 14, 23, -9.0], [\"22001\", 1610612744, \"GSW\", \"Golden State Warriors\", \"0020100978\", \"2002-03-21\", \"GSW vs. LAC\", \"L\", 241, 96, 36, 87, 0.414, 5, 14, 0.357, 19, 25, 0.76, 15, 31, 46, 17, 4, 3, 10, 26, -20.0], [\"22001\", 1610612744, \"GSW\", \"Golden State Warriors\", \"0020100964\", \"2002-03-19\", \"GSW @ SEA\", \"L\", 241, 93, 35, 72, 0.486, 4, 13, 0.308, 19, 29, 0.655, 11, 18, 29, 23, 9, 2, 18, 21, -17.0], [\"22001\", 1610612744, \"GSW\", \"Golden State Warriors\", \"0020100955\", \"2002-03-18\", \"GSW vs. WAS\", \"L\", 240, 96, 33, 76, 0.434, 10, 28, 0.357, 20, 31, 0.645, 17, 27, 44, 26, 3, 6, 16, 22, -3.0], [\"22001\", 1610612744, \"GSW\", \"Golden State Warriors\", \"0020100943\", \"2002-03-16\", \"GSW vs. DAL\", \"L\", 241, 100, 38, 79, 0.481, 4, 14, 0.286, 20, 28, 0.714, 13, 29, 42, 16, 8, 5, 19, 19, -17.0], [\"22001\", 1610612744, \"GSW\", \"Golden State Warriors\", \"0020100926\", \"2002-03-14\", \"GSW vs. LAL\", \"L\", 239, 102, 36, 88, 0.409, 5, 14, 0.357, 25, 33, 0.758, 13, 35, 48, 17, 8, 6, 14, 31, -8.0], [\"22001\", 1610612744, \"GSW\", \"Golden State Warriors\", \"0020100907\", \"2002-03-12\", \"GSW @ IND\", \"L\", 241, 101, 38, 87, 0.437, 3, 14, 0.214, 22, 31, 0.71, 15, 32, 47, 13, 8, 5, 18, 26, -13.0], [\"22001\", 1610612744, \"GSW\", \"Golden State Warriors\", \"0020100901\", \"2002-03-11\", \"GSW @ ATL\", \"L\", 239, 96, 33, 81, 0.407, 3, 9, 0.333, 27, 39, 0.692, 16, 29, 45, 14, 5, 5, 13, 17, -25.0], [\"22001\", 1610612744, \"GSW\", \"Golden State Warriors\", \"0020100889\", \"2002-03-09\", \"GSW @ DAL\", \"L\", 238, 105, 41, 83, 0.494, 5, 14, 0.357, 18, 29, 0.621, 14, 32, 46, 23, 8, 5, 16, 23, -2.0], [\"22001\", 1610612744, \"GSW\", \"Golden State Warriors\", \"0020100881\", \"2002-03-08\", \"GSW @ HOU\", \"W\", 240, 108, 38, 89, 0.427, 3, 12, 0.25, 29, 33, 0.879, 16, 42, 58, 20, 8, 4, 13, 20, 13.0], [\"22001\", 1610612744, \"GSW\", \"Golden State Warriors\", \"0020100859\", \"2002-03-05\", \"GSW @ SAS\", \"L\", 239, 88, 36, 89, 0.404, 5, 7, 0.714, 11, 18, 0.611, 15, 33, 48, 20, 7, 3, 17, 19, -21.0], [\"22001\", 1610612744, \"GSW\", \"Golden State Warriors\", \"0020100837\", \"2002-03-02\", \"GSW @ LAC\", \"L\", 240, 95, 38, 79, 0.481, 3, 11, 0.273, 16, 24, 0.667, 20, 23, 43, 19, 6, 6, 17, 23, -14.0], [\"22001\", 1610612744, \"GSW\", \"Golden State Warriors\", \"0020100831\", \"2002-03-01\", \"GSW vs. SAC\", \"L\", 240, 108, 40, 91, 0.44, 3, 12, 0.25, 25, 31, 0.806, 20, 29, 49, 26, 11, 3, 18, 18, -8.0], [\"22001\", 1610612744, \"GSW\", \"Golden State Warriors\", \"0020100817\", \"2002-02-27\", \"GSW vs. DEN\", \"W\", 239, 110, 32, 71, 0.451, 3, 11, 0.273, 43, 52, 0.827, 17, 44, 61, 22, 10, 9, 29, 27, 17.0], [\"22001\", 1610612744, \"GSW\", \"Golden State Warriors\", \"0020100801\", \"2002-02-25\", \"GSW vs. IND\", \"L\", 266, 97, 36, 102, 0.353, 4, 13, 0.308, 21, 30, 0.7, 17, 36, 53, 20, 9, 12, 10, 40, -5.0], [\"22001\", 1610612744, \"GSW\", \"Golden State Warriors\", \"0020100786\", \"2002-02-23\", \"GSW @ CHI\", \"L\", 241, 91, 35, 91, 0.385, 2, 12, 0.167, 19, 22, 0.864, 12, 30, 42, 20, 10, 12, 15, 14, -14.0], [\"22001\", 1610612744, \"GSW\", \"Golden State Warriors\", \"0020100780\", \"2002-02-22\", \"GSW @ MIL\", \"L\", 238, 112, 46, 83, 0.554, 6, 14, 0.429, 14, 20, 0.7, 9, 23, 32, 25, 5, 9, 10, 23, -4.0], [\"22001\", 1610612744, \"GSW\", \"Golden State Warriors\", \"0020100759\", \"2002-02-20\", \"GSW @ PHI\", \"L\", 240, 107, 34, 83, 0.41, 4, 10, 0.4, 35, 48, 0.729, 20, 30, 50, 18, 9, 7, 22, 26, -8.0], [\"22001\", 1610612744, \"GSW\", \"Golden State Warriors\", \"0020100753\", \"2002-02-19\", \"GSW @ NJN\", \"L\", 239, 115, 45, 102, 0.441, 2, 15, 0.133, 23, 29, 0.793, 24, 28, 52, 27, 8, 8, 14, 27, -8.0], [\"22001\", 1610612744, \"GSW\", \"Golden State Warriors\", \"0020100744\", \"2002-02-17\", \"GSW vs. ATL\", \"L\", 238, 94, 29, 79, 0.367, 5, 16, 0.313, 31, 45, 0.689, 15, 36, 51, 18, 7, 17, 18, 23, -6.0], [\"22001\", 1610612744, \"GSW\", \"Golden State Warriors\", \"0020100731\", \"2002-02-15\", \"GSW vs. SAS\", \"L\", 239, 99, 34, 83, 0.41, 5, 20, 0.25, 26, 31, 0.839, 19, 27, 46, 14, 7, 6, 16, 32, -9.0], [\"22001\", 1610612744, \"GSW\", \"Golden State Warriors\", \"0020100715\", \"2002-02-13\", \"GSW vs. BOS\", \"W\", 239, 92, 36, 94, 0.383, 4, 18, 0.222, 16, 23, 0.696, 18, 43, 61, 21, 7, 11, 17, 23, 17.0], [\"22001\", 1610612744, \"GSW\", \"Golden State Warriors\", \"0020100685\", \"2002-02-05\", \"GSW vs. SEA\", \"L\", 240, 87, 33, 78, 0.423, 2, 10, 0.2, 19, 22, 0.864, 18, 22, 40, 18, 7, 3, 17, 16, -26.0], [\"22001\", 1610612744, \"GSW\", \"Golden State Warriors\", \"0020100671\", \"2002-02-03\", \"GSW vs. PHX\", \"L\", 239, 97, 40, 89, 0.449, 5, 12, 0.417, 12, 19, 0.632, 12, 25, 37, 28, 7, 6, 8, 18, -1.0], [\"22001\", 1610612744, \"GSW\", \"Golden State Warriors\", \"0020100655\", \"2002-02-01\", \"GSW @ PHX\", \"L\", 240, 98, 38, 96, 0.396, 3, 10, 0.3, 19, 22, 0.864, 19, 24, 43, 21, 12, 7, 15, 26, -6.0], [\"22001\", 1610612744, \"GSW\", \"Golden State Warriors\", \"0020100631\", \"2002-01-29\", \"GSW @ HOU\", \"L\", 265, 96, 40, 95, 0.421, 6, 17, 0.353, 10, 18, 0.556, 16, 28, 44, 21, 7, 6, 17, 24, -4.0], [\"22001\", 1610612744, \"GSW\", \"Golden State Warriors\", \"0020100620\", \"2002-01-26\", \"GSW vs. SAS\", \"L\", 238, 82, 32, 94, 0.34, 3, 15, 0.2, 15, 22, 0.682, 21, 36, 57, 18, 10, 9, 17, 18, -8.0], [\"22001\", 1610612744, \"GSW\", \"Golden State Warriors\", \"0020100596\", \"2002-01-23\", \"GSW vs. MEM\", \"W\", 241, 107, 43, 91, 0.473, 3, 14, 0.214, 18, 22, 0.818, 22, 29, 51, 25, 7, 6, 15, 26, 12.0], [\"22001\", 1610612744, \"GSW\", \"Golden State Warriors\", \"0020100576\", \"2002-01-21\", \"GSW vs. UTA\", \"L\", 240, 99, 36, 77, 0.468, 4, 7, 0.571, 23, 27, 0.852, 14, 26, 40, 20, 6, 5, 19, 28, -2.0], [\"22001\", 1610612744, \"GSW\", \"Golden State Warriors\", \"0020100569\", \"2002-01-19\", \"GSW vs. MIN\", \"L\", 239, 102, 42, 80, 0.525, 4, 9, 0.444, 14, 20, 0.7, 11, 36, 47, 24, 8, 9, 22, 33, -3.0], [\"22001\", 1610612744, \"GSW\", \"Golden State Warriors\", \"0020100555\", \"2002-01-18\", \"GSW @ SAC\", \"L\", 239, 97, 39, 91, 0.429, 2, 7, 0.286, 17, 28, 0.607, 14, 28, 42, 20, 10, 3, 16, 26, -24.0], [\"22001\", 1610612744, \"GSW\", \"Golden State Warriors\", \"0020100543\", \"2002-01-16\", \"GSW vs. CLE\", \"W\", 240, 117, 40, 87, 0.46, 4, 8, 0.5, 33, 45, 0.733, 22, 26, 48, 27, 17, 7, 8, 26, 29.0], [\"22001\", 1610612744, \"GSW\", \"Golden State Warriors\", \"0020100526\", \"2002-01-14\", \"GSW vs. MIA\", \"L\", 239, 79, 31, 76, 0.408, 1, 11, 0.091, 16, 21, 0.762, 20, 30, 50, 14, 9, 6, 23, 24, -6.0], [\"22001\", 1610612744, \"GSW\", \"Golden State Warriors\", \"0020100487\", \"2002-01-08\", \"GSW vs. MIL\", \"L\", 240, 97, 31, 87, 0.356, 1, 11, 0.091, 34, 42, 0.81, 18, 31, 49, 16, 8, 6, 13, 20, -16.0], [\"22001\", 1610612744, \"GSW\", \"Golden State Warriors\", \"0020100470\", \"2002-01-06\", \"GSW @ MIA\", \"L\", 239, 84, 30, 81, 0.37, 1, 11, 0.091, 23, 27, 0.852, 9, 30, 39, 8, 9, 4, 13, 27, -8.0], [\"22001\", 1610612744, \"GSW\", \"Golden State Warriors\", \"0020100459\", \"2002-01-05\", \"GSW @ ORL\", \"L\", 241, 109, 42, 86, 0.488, 4, 6, 0.667, 21, 33, 0.636, 11, 24, 35, 27, 10, 3, 11, 22, -9.0], [\"22001\", 1610612744, \"GSW\", \"Golden State Warriors\", \"0020100444\", \"2002-01-03\", \"GSW @ CHH\", \"L\", 241, 102, 37, 97, 0.381, 0, 4, 0.0, 28, 37, 0.757, 21, 21, 42, 15, 7, 5, 9, 25, -12.0], [\"22001\", 1610612744, \"GSW\", \"Golden State Warriors\", \"0020100435\", \"2002-01-02\", \"GSW @ CLE\", \"L\", 239, 98, 32, 80, 0.4, 1, 7, 0.143, 33, 40, 0.825, 14, 27, 41, 21, 4, 5, 13, 18, -15.0], [\"22001\", 1610612744, \"GSW\", \"Golden State Warriors\", \"0020100414\", \"2001-12-28\", \"GSW vs. HOU\", \"L\", 241, 93, 39, 104, 0.375, 1, 8, 0.125, 14, 22, 0.636, 30, 24, 54, 18, 7, 10, 8, 20, -7.0], [\"22001\", 1610612744, \"GSW\", \"Golden State Warriors\", \"0020100399\", \"2001-12-26\", \"GSW vs. LAL\", \"W\", 240, 101, 36, 82, 0.439, 2, 6, 0.333, 27, 36, 0.75, 16, 41, 57, 19, 8, 8, 21, 23, 11.0], [\"22001\", 1610612744, \"GSW\", \"Golden State Warriors\", \"0020100378\", \"2001-12-22\", \"GSW @ DEN\", \"W\", 241, 105, 35, 81, 0.432, 1, 6, 0.167, 34, 45, 0.756, 16, 33, 49, 23, 9, 2, 12, 18, 4.0], [\"22001\", 1610612744, \"GSW\", \"Golden State Warriors\", \"0020100370\", \"2001-12-21\", \"GSW vs. SEA\", \"L\", 265, 108, 42, 93, 0.452, 7, 14, 0.5, 17, 27, 0.63, 22, 32, 54, 27, 9, 6, 18, 26, -3.0], [\"22001\", 1610612744, \"GSW\", \"Golden State Warriors\", \"0020100356\", \"2001-12-19\", \"GSW vs. DET\", \"W\", 240, 101, 38, 79, 0.481, 2, 3, 0.667, 23, 30, 0.767, 12, 34, 46, 19, 11, 9, 17, 18, 13.0], [\"22001\", 1610612744, \"GSW\", \"Golden State Warriors\", \"0020100336\", \"2001-12-16\", \"GSW @ LAL\", \"L\", 239, 85, 33, 77, 0.429, 1, 9, 0.111, 18, 31, 0.581, 12, 29, 41, 15, 6, 0, 19, 25, -16.0], [\"22001\", 1610612744, \"GSW\", \"Golden State Warriors\", \"0020100330\", \"2001-12-15\", \"GSW vs. MEM\", \"W\", 240, 93, 37, 77, 0.481, 3, 11, 0.273, 16, 26, 0.615, 15, 35, 50, 22, 10, 3, 20, 18, 9.0], [\"22001\", 1610612744, \"GSW\", \"Golden State Warriors\", \"0020100312\", \"2001-12-13\", \"GSW vs. ORL\", \"L\", 240, 100, 37, 80, 0.463, 3, 6, 0.5, 23, 34, 0.676, 17, 34, 51, 22, 3, 4, 13, 29, -5.0], [\"22001\", 1610612744, \"GSW\", \"Golden State Warriors\", \"0020100294\", \"2001-12-11\", \"GSW @ MIN\", \"L\", 240, 86, 30, 79, 0.38, 3, 10, 0.3, 23, 31, 0.742, 16, 31, 47, 20, 4, 7, 19, 15, -21.0], [\"22001\", 1610612744, \"GSW\", \"Golden State Warriors\", \"0020100283\", \"2001-12-08\", \"GSW @ UTA\", \"L\", 239, 101, 34, 74, 0.459, 7, 15, 0.467, 26, 34, 0.765, 14, 24, 38, 15, 11, 9, 23, 26, -10.0], [\"22001\", 1610612744, \"GSW\", \"Golden State Warriors\", \"0020100274\", \"2001-12-07\", \"GSW vs. CHH\", \"L\", 240, 89, 34, 80, 0.425, 1, 7, 0.143, 20, 27, 0.741, 16, 25, 41, 25, 6, 2, 13, 18, -17.0], [\"22001\", 1610612744, \"GSW\", \"Golden State Warriors\", \"0020100260\", \"2001-12-05\", \"GSW vs. PHI\", \"W\", 241, 93, 31, 79, 0.392, 4, 8, 0.5, 27, 36, 0.75, 23, 26, 49, 16, 12, 10, 16, 18, 6.0], [\"22001\", 1610612744, \"GSW\", \"Golden State Warriors\", \"0020100244\", \"2001-12-03\", \"GSW @ PHX\", \"L\", 240, 93, 34, 93, 0.366, 3, 8, 0.375, 22, 28, 0.786, 21, 24, 45, 19, 10, 3, 18, 25, -17.0], [\"22001\", 1610612744, \"GSW\", \"Golden State Warriors\", \"0020100236\", \"2001-12-01\", \"GSW vs. DAL\", \"L\", 240, 82, 33, 83, 0.398, 0, 6, 0.0, 16, 38, 0.421, 17, 32, 49, 16, 3, 5, 20, 22, -29.0], [\"22001\", 1610612744, \"GSW\", \"Golden State Warriors\", \"0020100208\", \"2001-11-28\", \"GSW @ SAS\", \"L\", 240, 83, 32, 80, 0.4, 4, 12, 0.333, 15, 19, 0.789, 12, 29, 41, 16, 9, 4, 18, 24, -11.0], [\"22001\", 1610612744, \"GSW\", \"Golden State Warriors\", \"0020100201\", \"2001-11-27\", \"GSW @ DAL\", \"L\", 241, 106, 39, 88, 0.443, 7, 18, 0.389, 21, 25, 0.84, 20, 30, 50, 26, 6, 6, 17, 27, -10.0], [\"22001\", 1610612744, \"GSW\", \"Golden State Warriors\", \"0020100191\", \"2001-11-25\", \"GSW vs. NJN\", \"W\", 240, 101, 41, 83, 0.494, 5, 14, 0.357, 14, 21, 0.667, 11, 40, 51, 28, 8, 10, 13, 16, 16.0], [\"22001\", 1610612744, \"GSW\", \"Golden State Warriors\", \"0020100178\", \"2001-11-23\", \"GSW @ LAL\", \"L\", 241, 90, 34, 94, 0.362, 3, 13, 0.231, 19, 30, 0.633, 26, 22, 48, 19, 9, 8, 17, 25, -16.0], [\"22001\", 1610612744, \"GSW\", \"Golden State Warriors\", \"0020100153\", \"2001-11-20\", \"GSW vs. NYK\", \"L\", 241, 70, 26, 83, 0.313, 3, 11, 0.273, 15, 22, 0.682, 17, 24, 41, 19, 8, 6, 18, 18, -24.0], [\"22001\", 1610612744, \"GSW\", \"Golden State Warriors\", \"0020100139\", \"2001-11-17\", \"GSW vs. CHI\", \"W\", 241, 93, 34, 86, 0.395, 6, 15, 0.4, 19, 27, 0.704, 17, 29, 46, 28, 6, 6, 10, 24, 5.0], [\"22001\", 1610612744, \"GSW\", \"Golden State Warriors\", \"0020100129\", \"2001-11-16\", \"GSW @ SEA\", \"L\", 239, 91, 34, 82, 0.415, 4, 16, 0.25, 19, 23, 0.826, 20, 27, 47, 16, 7, 4, 21, 17, -9.0], [\"22001\", 1610612744, \"GSW\", \"Golden State Warriors\", \"0020100115\", \"2001-11-14\", \"GSW vs. TOR\", \"L\", 240, 82, 30, 81, 0.37, 0, 9, 0.0, 22, 33, 0.667, 20, 39, 59, 17, 6, 10, 17, 20, -7.0], [\"22001\", 1610612744, \"GSW\", \"Golden State Warriors\", \"0020100098\", \"2001-11-12\", \"GSW @ MEM\", \"W\", 241, 86, 34, 78, 0.436, 4, 8, 0.5, 14, 22, 0.636, 16, 33, 49, 16, 10, 9, 24, 30, 7.0], [\"22001\", 1610612744, \"GSW\", \"Golden State Warriors\", \"0020100086\", \"2001-11-10\", \"GSW @ NYK\", \"W\", 239, 90, 32, 75, 0.427, 6, 11, 0.545, 20, 26, 0.769, 12, 41, 53, 21, 5, 5, 16, 20, 19.0], [\"22001\", 1610612744, \"GSW\", \"Golden State Warriors\", \"0020100078\", \"2001-11-09\", \"GSW @ WAS\", \"W\", 239, 109, 39, 75, 0.52, 4, 7, 0.571, 27, 34, 0.794, 12, 33, 45, 22, 9, 3, 23, 30, 9.0], [\"22001\", 1610612744, \"GSW\", \"Golden State Warriors\", \"0020100064\", \"2001-11-07\", \"GSW @ TOR\", \"L\", 240, 92, 29, 90, 0.322, 4, 10, 0.4, 30, 41, 0.732, 20, 32, 52, 19, 8, 5, 11, 18, -17.0], [\"22001\", 1610612744, \"GSW\", \"Golden State Warriors\", \"0020100049\", \"2001-11-04\", \"GSW vs. POR\", \"W\", 241, 96, 35, 91, 0.385, 4, 10, 0.4, 22, 35, 0.629, 28, 37, 65, 22, 7, 3, 19, 17, 10.0], [\"22001\", 1610612744, \"GSW\", \"Golden State Warriors\", \"0020100044\", \"2001-11-03\", \"GSW @ LAC\", \"W\", 264, 110, 42, 98, 0.429, 3, 9, 0.333, 23, 31, 0.742, 21, 28, 49, 23, 6, 7, 15, 31, 2.0], [\"22001\", 1610612744, \"GSW\", \"Golden State Warriors\", \"0020100025\", \"2001-11-01\", \"GSW vs. PHX\", \"L\", 241, 101, 36, 73, 0.493, 3, 6, 0.5, 26, 42, 0.619, 16, 32, 48, 24, 8, 11, 21, 19, -6.0], [\"22001\", 1610612744, \"GSW\", \"Golden State Warriors\", \"0020100017\", \"2001-10-31\", \"GSW @ POR\", \"L\", 240, 87, 34, 81, 0.42, 2, 7, 0.286, 17, 22, 0.773, 12, 29, 41, 17, 9, 8, 14, 20, -5.0], [\"22000\", 1610612744, \"GSW\", \"Golden State Warriors\", \"0020001188\", \"2001-04-18\", \"GSW vs. VAN\", \"L\", 241, 81, 31, 102, 0.304, 3, 11, 0.273, 16, 26, 0.615, 33, 28, 61, 21, 7, 10, 14, 22, -14.0], [\"22000\", 1610612744, \"GSW\", \"Golden State Warriors\", \"0020001168\", \"2001-04-16\", \"GSW vs. DAL\", \"L\", 239, 101, 35, 84, 0.417, 1, 6, 0.167, 30, 42, 0.714, 15, 24, 39, 20, 11, 5, 14, 29, -9.0], [\"22000\", 1610612744, \"GSW\", \"Golden State Warriors\", \"0020001152\", \"2001-04-14\", \"GSW vs. LAC\", \"L\", 240, 94, 41, 108, 0.38, 0, 6, 0.0, 12, 17, 0.706, 30, 29, 59, 21, 5, 3, 14, 21, -12.0], [\"22000\", 1610612744, \"GSW\", \"Golden State Warriors\", \"0020001145\", \"2001-04-13\", \"GSW @ DEN\", \"L\", 239, 92, 38, 92, 0.413, 1, 6, 0.167, 15, 25, 0.6, 23, 31, 54, 22, 6, 18, 8, 16, -16.0], [\"22000\", 1610612744, \"GSW\", \"Golden State Warriors\", \"0020001131\", \"2001-04-11\", \"GSW @ SEA\", \"L\", 241, 101, 42, 79, 0.532, 2, 6, 0.333, 15, 18, 0.833, 10, 19, 29, 23, 11, 4, 16, 23, -6.0], [\"22000\", 1610612744, \"GSW\", \"Golden State Warriors\", \"0020001123\", \"2001-04-10\", \"GSW @ POR\", \"L\", 239, 88, 34, 83, 0.41, 2, 5, 0.4, 18, 26, 0.692, 17, 25, 42, 15, 8, 1, 15, 24, -28.0], [\"22000\", 1610612744, \"GSW\", \"Golden State Warriors\", \"0020001108\", \"2001-04-08\", \"GSW vs. SAS\", \"L\", 239, 76, 31, 86, 0.36, 2, 8, 0.25, 12, 18, 0.667, 22, 30, 52, 19, 7, 2, 16, 22, -8.0], [\"22000\", 1610612744, \"GSW\", \"Golden State Warriors\", \"0020001095\", \"2001-04-06\", \"GSW vs. POR\", \"L\", 240, 91, 33, 95, 0.347, 2, 10, 0.2, 23, 35, 0.657, 25, 20, 45, 17, 17, 9, 20, 22, -31.0], [\"22000\", 1610612744, \"GSW\", \"Golden State Warriors\", \"0020001080\", \"2001-04-04\", \"GSW vs. MIL\", \"L\", 240, 78, 30, 89, 0.337, 0, 6, 0.0, 18, 26, 0.692, 24, 28, 52, 11, 8, 5, 20, 15, -30.0], [\"22000\", 1610612744, \"GSW\", \"Golden State Warriors\", \"0020001057\", \"2001-04-01\", \"GSW @ DET\", \"L\", 240, 87, 34, 100, 0.34, 4, 13, 0.308, 15, 20, 0.75, 23, 27, 50, 20, 6, 3, 15, 21, -17.0], [\"22000\", 1610612744, \"GSW\", \"Golden State Warriors\", \"0020001039\", \"2001-03-30\", \"GSW @ PHI\", \"L\", 240, 89, 33, 94, 0.351, 3, 11, 0.273, 20, 24, 0.833, 21, 24, 45, 23, 8, 4, 10, 16, -13.0], [\"22000\", 1610612744, \"GSW\", \"Golden State Warriors\", \"0020001031\", \"2001-03-29\", \"GSW @ WAS\", \"L\", 241, 100, 43, 98, 0.439, 4, 13, 0.308, 10, 17, 0.588, 15, 17, 32, 28, 16, 3, 11, 25, -16.0], [\"22000\", 1610612744, \"GSW\", \"Golden State Warriors\", \"0020001015\", \"2001-03-26\", \"GSW vs. NYK\", \"L\", 266, 87, 34, 93, 0.366, 3, 9, 0.333, 16, 22, 0.727, 17, 29, 46, 26, 15, 7, 11, 16, -2.0], [\"22000\", 1610612744, \"GSW\", \"Golden State Warriors\", \"0020001002\", \"2001-03-24\", \"GSW vs. DET\", \"W\", 242, 103, 38, 97, 0.392, 3, 10, 0.3, 24, 32, 0.75, 20, 41, 61, 24, 8, 7, 12, 25, 8.0], [\"22000\", 1610612744, \"GSW\", \"Golden State Warriors\", \"0020000983\", \"2001-03-21\", \"GSW vs. WAS\", \"L\", 240, 94, 38, 81, 0.469, 1, 7, 0.143, 17, 26, 0.654, 12, 30, 42, 26, 10, 10, 16, 19, -5.0], [\"22000\", 1610612744, \"GSW\", \"Golden State Warriors\", \"0020000964\", \"2001-03-18\", \"GSW vs. SEA\", \"L\", 241, 99, 39, 93, 0.419, 5, 14, 0.357, 16, 19, 0.842, 21, 33, 54, 26, 1, 6, 13, 22, -5.0], [\"22000\", 1610612744, \"GSW\", \"Golden State Warriors\", \"0020000949\", \"2001-03-16\", \"GSW @ LAC\", \"L\", 240, 76, 32, 98, 0.327, 2, 9, 0.222, 10, 18, 0.556, 24, 29, 53, 21, 6, 5, 11, 16, -18.0], [\"22000\", 1610612744, \"GSW\", \"Golden State Warriors\", \"0020000933\", \"2001-03-14\", \"GSW vs. UTA\", \"L\", 238, 83, 29, 81, 0.358, 4, 13, 0.308, 21, 32, 0.656, 21, 20, 41, 17, 10, 7, 13, 20, -19.0], [\"22000\", 1610612744, \"GSW\", \"Golden State Warriors\", \"0020000917\", \"2001-03-12\", \"GSW vs. DEN\", \"L\", 240, 79, 30, 83, 0.361, 5, 9, 0.556, 14, 28, 0.5, 17, 30, 47, 19, 6, 6, 14, 22, -5.0], [\"22000\", 1610612744, \"GSW\", \"Golden State Warriors\", \"0020000904\", \"2001-03-10\", \"GSW @ HOU\", \"L\", 239, 81, 32, 81, 0.395, 1, 9, 0.111, 16, 17, 0.941, 11, 28, 39, 16, 12, 6, 19, 19, -5.0], [\"22000\", 1610612744, \"GSW\", \"Golden State Warriors\", \"0020000894\", \"2001-03-09\", \"GSW @ DAL\", \"L\", 240, 73, 25, 79, 0.316, 1, 10, 0.1, 22, 34, 0.647, 19, 34, 53, 14, 8, 8, 23, 27, -29.0], [\"22000\", 1610612744, \"GSW\", \"Golden State Warriors\", \"0020000871\", \"2001-03-06\", \"GSW vs. LAL\", \"L\", 241, 85, 35, 93, 0.376, 3, 13, 0.231, 12, 21, 0.571, 20, 30, 50, 22, 8, 3, 14, 24, -12.0], [\"22000\", 1610612744, \"GSW\", \"Golden State Warriors\", \"0020000860\", \"2001-03-04\", \"GSW @ LAL\", \"L\", 241, 95, 35, 93, 0.376, 1, 6, 0.167, 24, 28, 0.857, 22, 21, 43, 17, 9, 4, 16, 23, -15.0], [\"22000\", 1610612744, \"GSW\", \"Golden State Warriors\", \"0020000851\", \"2001-03-03\", \"GSW @ POR\", \"L\", 240, 91, 38, 92, 0.413, 3, 11, 0.273, 12, 18, 0.667, 16, 26, 42, 23, 8, 6, 13, 16, -31.0], [\"22000\", 1610612744, \"GSW\", \"Golden State Warriors\", \"0020000831\", \"2001-02-28\", \"GSW vs. SAC\", \"L\", 240, 101, 45, 99, 0.455, 4, 17, 0.235, 7, 8, 0.875, 16, 31, 47, 25, 12, 8, 16, 20, -21.0], [\"22000\", 1610612744, \"GSW\", \"Golden State Warriors\", \"0020000811\", \"2001-02-26\", \"GSW @ CHI\", \"W\", 240, 84, 35, 76, 0.461, 1, 6, 0.167, 13, 24, 0.542, 9, 37, 46, 23, 10, 8, 18, 18, 6.0], [\"22000\", 1610612744, \"GSW\", \"Golden State Warriors\", \"0020000805\", \"2001-02-25\", \"GSW @ MIL\", \"L\", 239, 95, 40, 89, 0.449, 1, 7, 0.143, 14, 25, 0.56, 15, 23, 38, 26, 8, 6, 11, 14, -27.0], [\"22000\", 1610612744, \"GSW\", \"Golden State Warriors\", \"0020000789\", \"2001-02-23\", \"GSW @ MIN\", \"L\", 240, 83, 33, 91, 0.363, 3, 14, 0.214, 14, 18, 0.778, 20, 27, 47, 22, 5, 2, 15, 13, -39.0], [\"22000\", 1610612744, \"GSW\", \"Golden State Warriors\", \"0020000780\", \"2001-02-22\", \"GSW @ CHH\", \"L\", 241, 91, 36, 87, 0.414, 5, 9, 0.556, 14, 16, 0.875, 10, 25, 35, 22, 10, 2, 11, 15, -2.0], [\"22000\", 1610612744, \"GSW\", \"Golden State Warriors\", \"0020000765\", \"2001-02-20\", \"GSW @ TOR\", \"L\", 240, 102, 42, 96, 0.438, 3, 11, 0.273, 15, 25, 0.6, 17, 26, 43, 30, 11, 10, 12, 17, -11.0], [\"22000\", 1610612744, \"GSW\", \"Golden State Warriors\", \"0020000756\", \"2001-02-18\", \"GSW vs. ATL\", \"L\", 240, 91, 34, 95, 0.358, 5, 15, 0.333, 18, 26, 0.692, 23, 34, 57, 19, 8, 2, 16, 25, -7.0], [\"22000\", 1610612744, \"GSW\", \"Golden State Warriors\", \"0020000741\", \"2001-02-16\", \"GSW vs. VAN\", \"L\", 239, 79, 33, 80, 0.413, 1, 12, 0.083, 12, 14, 0.857, 16, 27, 43, 22, 8, 1, 20, 19, -13.0], [\"22000\", 1610612744, \"GSW\", \"Golden State Warriors\", \"0020000735\", \"2001-02-15\", \"GSW @ VAN\", \"L\", 241, 89, 35, 92, 0.38, 1, 13, 0.077, 18, 25, 0.72, 15, 27, 42, 22, 11, 6, 11, 21, -10.0], [\"22000\", 1610612744, \"GSW\", \"Golden State Warriors\", \"0020000720\", \"2001-02-13\", \"GSW vs. PHX\", \"L\", 240, 83, 35, 87, 0.402, 5, 10, 0.5, 8, 13, 0.615, 11, 39, 50, 22, 6, 2, 17, 17, -10.0], [\"22000\", 1610612744, \"GSW\", \"Golden State Warriors\", \"0020000703\", \"2001-02-07\", \"GSW vs. LAC\", \"W\", 242, 89, 35, 87, 0.402, 5, 16, 0.313, 14, 24, 0.583, 20, 31, 51, 21, 11, 8, 13, 20, 1.0], [\"22000\", 1610612744, \"GSW\", \"Golden State Warriors\", \"0020000687\", \"2001-02-05\", \"GSW @ SAS\", \"L\", 238, 85, 32, 81, 0.395, 5, 15, 0.333, 16, 24, 0.667, 9, 28, 37, 17, 11, 4, 13, 24, -24.0], [\"22000\", 1610612744, \"GSW\", \"Golden State Warriors\", \"0020000673\", \"2001-02-03\", \"GSW @ DAL\", \"L\", 240, 95, 37, 82, 0.451, 7, 18, 0.389, 14, 21, 0.667, 13, 34, 47, 23, 4, 5, 19, 19, -6.0], [\"22000\", 1610612744, \"GSW\", \"Golden State Warriors\", \"0020000643\", \"2001-01-30\", \"GSW @ SAC\", \"L\", 239, 79, 32, 101, 0.317, 2, 11, 0.182, 13, 24, 0.542, 27, 31, 58, 22, 10, 6, 14, 17, -26.0], [\"22000\", 1610612744, \"GSW\", \"Golden State Warriors\", \"0020000637\", \"2001-01-29\", \"GSW vs. CHH\", \"L\", 241, 85, 35, 93, 0.376, 4, 16, 0.25, 11, 18, 0.611, 15, 32, 47, 22, 6, 6, 12, 18, -8.0], [\"22000\", 1610612744, \"GSW\", \"Golden State Warriors\", \"0020000617\", \"2001-01-26\", \"GSW vs. SEA\", \"L\", 240, 105, 44, 99, 0.444, 11, 25, 0.44, 6, 9, 0.667, 14, 30, 44, 35, 13, 2, 12, 20, -2.0], [\"22000\", 1610612744, \"GSW\", \"Golden State Warriors\", \"0020000606\", \"2001-01-24\", \"GSW vs. NJN\", \"W\", 240, 109, 39, 85, 0.459, 5, 17, 0.294, 26, 33, 0.788, 14, 36, 50, 17, 17, 4, 18, 21, 22.0], [\"22000\", 1610612744, \"GSW\", \"Golden State Warriors\", \"0020000597\", \"2001-01-23\", \"GSW @ UTA\", \"L\", 240, 78, 28, 89, 0.315, 5, 20, 0.25, 17, 24, 0.708, 17, 21, 38, 15, 15, 6, 14, 23, -22.0], [\"22000\", 1610612744, \"GSW\", \"Golden State Warriors\", \"0020000584\", \"2001-01-21\", \"GSW vs. BOS\", \"W\", 241, 94, 31, 77, 0.403, 11, 23, 0.478, 21, 28, 0.75, 10, 33, 43, 26, 11, 4, 23, 24, 3.0], [\"22000\", 1610612744, \"GSW\", \"Golden State Warriors\", \"0020000570\", \"2001-01-19\", \"GSW @ PHX\", \"W\", 239, 103, 35, 79, 0.443, 2, 12, 0.167, 31, 34, 0.912, 14, 32, 46, 25, 13, 3, 16, 23, 8.0], [\"22000\", 1610612744, \"GSW\", \"Golden State Warriors\", \"0020000563\", \"2001-01-18\", \"GSW vs. HOU\", \"L\", 240, 104, 41, 89, 0.461, 6, 16, 0.375, 16, 23, 0.696, 13, 27, 40, 25, 8, 2, 13, 21, -8.0], [\"22000\", 1610612744, \"GSW\", \"Golden State Warriors\", \"0020000546\", \"2001-01-15\", \"GSW vs. CLE\", \"L\", 239, 101, 33, 75, 0.44, 7, 18, 0.389, 28, 36, 0.778, 14, 25, 39, 26, 8, 4, 16, 24, -6.0], [\"22000\", 1610612744, \"GSW\", \"Golden State Warriors\", \"0020000523\", \"2001-01-13\", \"GSW @ ORL\", \"L\", 239, 94, 35, 79, 0.443, 5, 15, 0.333, 19, 28, 0.679, 8, 40, 48, 18, 3, 4, 17, 24, -17.0], [\"22000\", 1610612744, \"GSW\", \"Golden State Warriors\", \"0020000510\", \"2001-01-11\", \"GSW @ ATL\", \"L\", 240, 96, 37, 86, 0.43, 5, 18, 0.278, 17, 18, 0.944, 18, 23, 41, 18, 11, 3, 18, 19, -11.0], [\"22000\", 1610612744, \"GSW\", \"Golden State Warriors\", \"0020000487\", \"2001-01-08\", \"GSW @ MIA\", \"L\", 240, 78, 34, 79, 0.43, 2, 12, 0.167, 8, 10, 0.8, 12, 34, 46, 16, 4, 4, 18, 19, -10.0], [\"22000\", 1610612744, \"GSW\", \"Golden State Warriors\", \"0020000473\", \"2001-01-06\", \"GSW @ NJN\", \"L\", 240, 92, 29, 77, 0.377, 3, 11, 0.273, 31, 40, 0.775, 15, 31, 46, 21, 12, 4, 17, 29, -5.0], [\"22000\", 1610612744, \"GSW\", \"Golden State Warriors\", \"0020000465\", \"2001-01-05\", \"GSW @ BOS\", \"W\", 240, 100, 37, 80, 0.463, 5, 10, 0.5, 21, 27, 0.778, 11, 39, 50, 24, 6, 6, 16, 16, 12.0], [\"22000\", 1610612744, \"GSW\", \"Golden State Warriors\", \"0020000457\", \"2001-01-03\", \"GSW vs. DEN\", \"L\", 238, 100, 40, 96, 0.417, 3, 14, 0.214, 17, 19, 0.895, 15, 35, 50, 30, 11, 5, 14, 20, -11.0], [\"22000\", 1610612744, \"GSW\", \"Golden State Warriors\", \"0020000437\", \"2000-12-30\", \"GSW @ VAN\", \"W\", 241, 102, 36, 80, 0.45, 0, 8, 0.0, 30, 42, 0.714, 18, 27, 45, 20, 9, 1, 20, 19, 1.0], [\"22000\", 1610612744, \"GSW\", \"Golden State Warriors\", \"0020000425\", \"2000-12-29\", \"GSW vs. UTA\", \"W\", 240, 100, 41, 77, 0.532, 4, 11, 0.364, 14, 24, 0.583, 12, 32, 44, 25, 9, 2, 12, 20, 11.0], [\"22000\", 1610612744, \"GSW\", \"Golden State Warriors\", \"0020000411\", \"2000-12-27\", \"GSW vs. PHI\", \"L\", 239, 110, 43, 87, 0.494, 9, 17, 0.529, 15, 19, 0.789, 12, 23, 35, 25, 9, 1, 11, 21, -8.0], [\"22000\", 1610612744, \"GSW\", \"Golden State Warriors\", \"0020000391\", \"2000-12-23\", \"GSW @ HOU\", \"W\", 241, 95, 35, 79, 0.443, 5, 11, 0.455, 20, 26, 0.769, 11, 32, 43, 19, 12, 2, 17, 16, 8.0], [\"22000\", 1610612744, \"GSW\", \"Golden State Warriors\", \"0020000380\", \"2000-12-22\", \"GSW @ SAS\", \"L\", 239, 87, 33, 93, 0.355, 2, 9, 0.222, 19, 23, 0.826, 20, 30, 50, 15, 10, 3, 14, 18, -18.0], [\"22000\", 1610612744, \"GSW\", \"Golden State Warriors\", \"0020000358\", \"2000-12-19\", \"GSW vs. MIN\", \"W\", 239, 120, 44, 85, 0.518, 3, 11, 0.273, 29, 38, 0.763, 16, 26, 42, 29, 15, 7, 11, 17, 21.0], [\"22000\", 1610612744, \"GSW\", \"Golden State Warriors\", \"0020000344\", \"2000-12-16\", \"GSW vs. MIA\", \"L\", 241, 85, 35, 76, 0.461, 0, 13, 0.0, 15, 19, 0.789, 9, 28, 37, 19, 11, 3, 19, 26, -8.0], [\"22000\", 1610612744, \"GSW\", \"Golden State Warriors\", \"0020000324\", \"2000-12-14\", \"GSW vs. HOU\", \"L\", 239, 95, 40, 100, 0.4, 1, 9, 0.111, 14, 17, 0.824, 21, 25, 46, 26, 9, 3, 9, 19, -3.0], [\"22000\", 1610612744, \"GSW\", \"Golden State Warriors\", \"0020000310\", \"2000-12-12\", \"GSW vs. POR\", \"L\", 240, 93, 36, 89, 0.404, 6, 15, 0.4, 15, 22, 0.682, 22, 27, 49, 23, 6, 4, 18, 25, -8.0], [\"22000\", 1610612744, \"GSW\", \"Golden State Warriors\", \"0020000290\", \"2000-12-09\", \"GSW @ UTA\", \"L\", 240, 114, 45, 90, 0.5, 5, 18, 0.278, 19, 26, 0.731, 16, 20, 36, 24, 10, 3, 16, 30, -11.0], [\"22000\", 1610612744, \"GSW\", \"Golden State Warriors\", \"0020000281\", \"2000-12-08\", \"GSW vs. TOR\", \"L\", 239, 92, 36, 87, 0.414, 3, 11, 0.273, 17, 27, 0.63, 18, 18, 36, 23, 6, 4, 20, 25, -16.0], [\"22000\", 1610612744, \"GSW\", \"Golden State Warriors\", \"0020000267\", \"2000-12-06\", \"GSW vs. LAL\", \"W\", 265, 125, 49, 94, 0.521, 6, 12, 0.5, 21, 30, 0.7, 14, 23, 37, 34, 12, 7, 18, 25, 3.0], [\"22000\", 1610612744, \"GSW\", \"Golden State Warriors\", \"0020000247\", \"2000-12-03\", \"GSW @ SEA\", \"L\", 240, 102, 42, 91, 0.462, 3, 15, 0.2, 15, 21, 0.714, 15, 22, 37, 30, 6, 5, 12, 23, -16.0], [\"22000\", 1610612744, \"GSW\", \"Golden State Warriors\", \"0020000241\", \"2000-12-02\", \"GSW vs. DAL\", \"L\", 240, 78, 30, 91, 0.33, 2, 13, 0.154, 16, 25, 0.64, 20, 32, 52, 21, 10, 3, 13, 19, -19.0], [\"22000\", 1610612744, \"GSW\", \"Golden State Warriors\", \"0020000220\", \"2000-11-30\", \"GSW vs. IND\", \"W\", 241, 99, 36, 76, 0.474, 5, 16, 0.313, 22, 32, 0.688, 12, 32, 44, 16, 9, 9, 16, 22, 4.0], [\"22000\", 1610612744, \"GSW\", \"Golden State Warriors\", \"0020000215\", \"2000-11-29\", \"GSW @ LAC\", \"L\", 239, 83, 30, 80, 0.375, 3, 9, 0.333, 20, 28, 0.714, 15, 22, 37, 18, 5, 3, 15, 24, -23.0], [\"22000\", 1610612744, \"GSW\", \"Golden State Warriors\", \"0020000190\", \"2000-11-25\", \"GSW vs. MIN\", \"W\", 241, 114, 43, 75, 0.573, 2, 8, 0.25, 26, 45, 0.578, 12, 34, 46, 34, 11, 7, 12, 24, 21.0], [\"22000\", 1610612744, \"GSW\", \"Golden State Warriors\", \"0020000179\", \"2000-11-24\", \"GSW @ PHX\", \"L\", 240, 74, 32, 86, 0.372, 4, 10, 0.4, 6, 12, 0.5, 12, 38, 50, 16, 6, 10, 15, 23, -6.0], [\"22000\", 1610612744, \"GSW\", \"Golden State Warriors\", \"0020000168\", \"2000-11-22\", \"GSW @ LAL\", \"L\", 240, 91, 35, 93, 0.376, 4, 10, 0.4, 17, 19, 0.895, 18, 23, 41, 19, 10, 0, 19, 25, -20.0], [\"22000\", 1610612744, \"GSW\", \"Golden State Warriors\", \"0020000158\", \"2000-11-21\", \"GSW vs. CHI\", \"W\", 240, 89, 35, 83, 0.422, 1, 5, 0.2, 18, 26, 0.692, 18, 35, 53, 20, 5, 8, 15, 15, 12.0], [\"22000\", 1610612744, \"GSW\", \"Golden State Warriors\", \"0020000144\", \"2000-11-19\", \"GSW @ NYK\", \"L\", 240, 71, 29, 84, 0.345, 3, 14, 0.214, 10, 19, 0.526, 13, 28, 41, 17, 5, 3, 10, 14, -17.0], [\"22000\", 1610612744, \"GSW\", \"Golden State Warriors\", \"0020000129\", \"2000-11-17\", \"GSW @ IND\", \"W\", 239, 92, 34, 79, 0.43, 1, 7, 0.143, 23, 25, 0.92, 15, 31, 46, 20, 6, 9, 15, 20, 2.0], [\"22000\", 1610612744, \"GSW\", \"Golden State Warriors\", \"0020000116\", \"2000-11-15\", \"GSW @ MIN\", \"L\", 240, 90, 34, 90, 0.378, 5, 13, 0.385, 17, 22, 0.773, 13, 27, 40, 22, 18, 3, 11, 18, -2.0], [\"22000\", 1610612744, \"GSW\", \"Golden State Warriors\", \"0020000105\", \"2000-11-14\", \"GSW @ CLE\", \"L\", 240, 86, 27, 81, 0.333, 5, 12, 0.417, 27, 39, 0.692, 13, 28, 41, 19, 12, 6, 13, 22, -10.0], [\"22000\", 1610612744, \"GSW\", \"Golden State Warriors\", \"0020000099\", \"2000-11-12\", \"GSW vs. ORL\", \"L\", 266, 99, 40, 80, 0.5, 2, 13, 0.154, 17, 26, 0.654, 13, 36, 49, 27, 8, 5, 30, 29, -6.0], [\"22000\", 1610612744, \"GSW\", \"Golden State Warriors\", \"0020000085\", \"2000-11-10\", \"GSW vs. SAC\", \"L\", 266, 107, 39, 91, 0.429, 4, 12, 0.333, 25, 36, 0.694, 18, 37, 55, 21, 7, 1, 20, 32, -7.0], [\"22000\", 1610612744, \"GSW\", \"Golden State Warriors\", \"0020000071\", \"2000-11-08\", \"GSW @ SAC\", \"L\", 241, 84, 33, 79, 0.418, 1, 4, 0.25, 17, 25, 0.68, 9, 37, 46, 20, 5, 3, 31, 18, -31.0], [\"22000\", 1610612744, \"GSW\", \"Golden State Warriors\", \"0020000045\", \"2000-11-04\", \"GSW vs. SAS\", \"L\", 241, 105, 43, 105, 0.41, 7, 16, 0.438, 12, 22, 0.545, 21, 25, 46, 22, 9, 7, 7, 22, -12.0], [\"22000\", 1610612744, \"GSW\", \"Golden State Warriors\", \"0020000025\", \"2000-11-02\", \"GSW @ DEN\", \"L\", 242, 97, 38, 95, 0.4, 4, 12, 0.333, 17, 28, 0.607, 16, 35, 51, 21, 7, 14, 15, 29, -4.0], [\"22000\", 1610612744, \"GSW\", \"Golden State Warriors\", \"0020000011\", \"2000-10-31\", \"GSW vs. PHX\", \"W\", 239, 96, 32, 79, 0.405, 4, 8, 0.5, 28, 38, 0.737, 14, 41, 55, 18, 11, 5, 21, 22, 2.0], [\"21999\", 1610612744, \"GSW\", \"Golden State Warriors\", \"0029901187\", \"2000-04-19\", \"GSW vs. PHX\", \"L\", 239, 88, 32, 84, 0.381, 2, 10, 0.2, 22, 33, 0.667, 11, 27, 38, 25, 13, 5, 16, 18, -11.0], [\"21999\", 1610612744, \"GSW\", \"Golden State Warriors\", \"0029901164\", \"2000-04-17\", \"GSW vs. MIN\", \"L\", 240, 96, 37, 78, 0.474, 5, 13, 0.385, 17, 29, 0.586, 9, 26, 35, 27, 12, 1, 11, 22, -5.0], [\"21999\", 1610612744, \"GSW\", \"Golden State Warriors\", \"0029901142\", \"2000-04-14\", \"GSW @ DEN\", \"L\", 239, 97, 32, 88, 0.364, 5, 12, 0.417, 28, 34, 0.824, 19, 28, 47, 17, 11, 7, 15, 28, -8.0], [\"21999\", 1610612744, \"GSW\", \"Golden State Warriors\", \"0029901134\", \"2000-04-13\", \"GSW @ SAC\", \"L\", 241, 107, 39, 93, 0.419, 1, 5, 0.2, 28, 35, 0.8, 16, 29, 45, 19, 12, 2, 16, 32, -23.0], [\"21999\", 1610612744, \"GSW\", \"Golden State Warriors\", \"0029901119\", \"2000-04-11\", \"GSW vs. VAN\", \"W\", 239, 109, 43, 82, 0.524, 1, 7, 0.143, 22, 29, 0.759, 13, 28, 41, 25, 8, 5, 12, 20, 12.0], [\"21999\", 1610612744, \"GSW\", \"Golden State Warriors\", \"0029901103\", \"2000-04-09\", \"GSW vs. DEN\", \"W\", 240, 117, 43, 85, 0.506, 1, 8, 0.125, 30, 48, 0.625, 18, 28, 46, 30, 12, 2, 14, 26, 14.0], [\"21999\", 1610612744, \"GSW\", \"Golden State Warriors\", \"0029901088\", \"2000-04-07\", \"GSW vs. UTA\", \"L\", 242, 84, 32, 80, 0.4, 2, 10, 0.2, 18, 22, 0.818, 17, 23, 40, 24, 11, 1, 22, 28, -21.0], [\"21999\", 1610612744, \"GSW\", \"Golden State Warriors\", \"0029901073\", \"2000-04-05\", \"GSW vs. LAL\", \"L\", 240, 104, 40, 96, 0.417, 6, 15, 0.4, 18, 26, 0.692, 23, 35, 58, 28, 10, 2, 12, 23, -7.0], [\"21999\", 1610612744, \"GSW\", \"Golden State Warriors\", \"0029901053\", \"2000-04-02\", \"GSW vs. MIL\", \"L\", 242, 113, 37, 85, 0.435, 7, 15, 0.467, 32, 38, 0.842, 17, 25, 42, 29, 8, 4, 17, 27, -4.0], [\"21999\", 1610612744, \"GSW\", \"Golden State Warriors\", \"0029901038\", \"2000-03-31\", \"GSW @ UTA\", \"L\", 239, 97, 33, 91, 0.363, 4, 9, 0.444, 27, 35, 0.771, 22, 22, 44, 12, 8, 3, 12, 24, -17.0], [\"21999\", 1610612744, \"GSW\", \"Golden State Warriors\", \"0029901030\", \"2000-03-30\", \"GSW @ SAS\", \"L\", 241, 90, 36, 85, 0.424, 2, 9, 0.222, 16, 19, 0.842, 10, 28, 38, 19, 6, 10, 11, 26, -12.0], [\"21999\", 1610612744, \"GSW\", \"Golden State Warriors\", \"0029901016\", \"2000-03-28\", \"GSW @ HOU\", \"L\", 239, 86, 38, 96, 0.396, 2, 7, 0.286, 8, 15, 0.533, 12, 26, 38, 19, 12, 3, 16, 25, -35.0], [\"21999\", 1610612744, \"GSW\", \"Golden State Warriors\", \"0029901005\", \"2000-03-26\", \"GSW @ PHX\", \"L\", 240, 82, 32, 83, 0.386, 2, 11, 0.182, 16, 25, 0.64, 15, 26, 41, 14, 15, 5, 15, 30, -8.0], [\"21999\", 1610612744, \"GSW\", \"Golden State Warriors\", \"0029900991\", \"2000-03-24\", \"GSW vs. POR\", \"L\", 240, 83, 31, 74, 0.419, 2, 10, 0.2, 19, 24, 0.792, 15, 22, 37, 20, 14, 4, 17, 25, -13.0], [\"21999\", 1610612744, \"GSW\", \"Golden State Warriors\", \"0029900977\", \"2000-03-22\", \"GSW @ LAL\", \"L\", 240, 96, 36, 90, 0.4, 2, 10, 0.2, 22, 34, 0.647, 18, 22, 40, 17, 14, 3, 17, 32, -23.0], [\"21999\", 1610612744, \"GSW\", \"Golden State Warriors\", \"0029900969\", \"2000-03-21\", \"GSW @ VAN\", \"L\", 239, 82, 26, 76, 0.342, 4, 12, 0.333, 26, 32, 0.813, 14, 29, 43, 16, 9, 7, 17, 27, -16.0], [\"21999\", 1610612744, \"GSW\", \"Golden State Warriors\", \"0029900953\", \"2000-03-19\", \"GSW vs. PHX\", \"L\", 241, 82, 31, 88, 0.352, 1, 9, 0.111, 19, 30, 0.633, 17, 30, 47, 21, 10, 5, 13, 19, -17.0], [\"21999\", 1610612744, \"GSW\", \"Golden State Warriors\", \"0029900936\", \"2000-03-17\", \"GSW @ CHI\", \"W\", 292, 95, 33, 78, 0.423, 5, 12, 0.417, 24, 38, 0.632, 8, 35, 43, 21, 12, 7, 21, 31, 3.0], [\"21999\", 1610612744, \"GSW\", \"Golden State Warriors\", \"0029900918\", \"2000-03-15\", \"GSW @ BOS\", \"L\", 240, 104, 30, 68, 0.441, 3, 9, 0.333, 41, 58, 0.707, 13, 26, 39, 15, 6, 4, 21, 31, -17.0], [\"21999\", 1610612744, \"GSW\", \"Golden State Warriors\", \"0029900911\", \"2000-03-14\", \"GSW @ TOR\", \"L\", 240, 78, 34, 90, 0.378, 4, 15, 0.267, 6, 13, 0.462, 16, 31, 47, 20, 4, 9, 12, 25, -7.0], [\"21999\", 1610612744, \"GSW\", \"Golden State Warriors\", \"0029900902\", \"2000-03-12\", \"GSW vs. LAC\", \"L\", 239, 103, 38, 86, 0.442, 3, 11, 0.273, 24, 28, 0.857, 17, 26, 43, 25, 4, 6, 6, 19, -9.0], [\"21999\", 1610612744, \"GSW\", \"Golden State Warriors\", \"0029900889\", \"2000-03-10\", \"GSW @ SEA\", \"L\", 241, 85, 35, 84, 0.417, 5, 15, 0.333, 10, 17, 0.588, 12, 32, 44, 26, 9, 9, 19, 19, -14.0], [\"21999\", 1610612744, \"GSW\", \"Golden State Warriors\", \"0029900878\", \"2000-03-09\", \"GSW vs. LAL\", \"L\", 239, 92, 35, 82, 0.427, 0, 6, 0.0, 22, 37, 0.595, 15, 31, 46, 22, 8, 7, 15, 22, -17.0], [\"21999\", 1610612744, \"GSW\", \"Golden State Warriors\", \"0029900865\", \"2000-03-07\", \"GSW vs. CHH\", \"L\", 240, 99, 34, 82, 0.415, 1, 12, 0.083, 30, 40, 0.75, 15, 34, 49, 20, 3, 4, 9, 33, -3.0], [\"21999\", 1610612744, \"GSW\", \"Golden State Warriors\", \"0029900850\", \"2000-03-05\", \"GSW vs. IND\", \"L\", 241, 95, 34, 80, 0.425, 4, 13, 0.308, 23, 30, 0.767, 11, 35, 46, 25, 11, 9, 23, 23, -19.0], [\"21999\", 1610612744, \"GSW\", \"Golden State Warriors\", \"0029900834\", \"2000-03-03\", \"GSW @ DEN\", \"L\", 239, 88, 35, 97, 0.361, 3, 17, 0.176, 15, 25, 0.6, 16, 26, 42, 24, 13, 11, 14, 27, -34.0], [\"21999\", 1610612744, \"GSW\", \"Golden State Warriors\", \"0029900807\", \"2000-02-28\", \"GSW vs. ATL\", \"W\", 240, 80, 33, 89, 0.371, 2, 8, 0.25, 12, 20, 0.6, 21, 37, 58, 24, 8, 4, 9, 13, 5.0], [\"21999\", 1610612744, \"GSW\", \"Golden State Warriors\", \"0029900791\", \"2000-02-26\", \"GSW @ IND\", \"L\", 240, 88, 33, 88, 0.375, 2, 12, 0.167, 20, 27, 0.741, 19, 39, 58, 17, 5, 4, 18, 29, -16.0], [\"21999\", 1610612744, \"GSW\", \"Golden State Warriors\", \"0029900783\", \"2000-02-25\", \"GSW @ DET\", \"L\", 239, 99, 40, 102, 0.392, 9, 17, 0.529, 10, 20, 0.5, 25, 25, 50, 15, 10, 2, 13, 19, -32.0], [\"21999\", 1610612744, \"GSW\", \"Golden State Warriors\", \"0029900770\", \"2000-02-23\", \"GSW @ MIL\", \"W\", 239, 91, 34, 88, 0.386, 4, 13, 0.308, 19, 30, 0.633, 21, 41, 62, 27, 9, 2, 15, 22, 5.0], [\"21999\", 1610612744, \"GSW\", \"Golden State Warriors\", \"0029900762\", \"2000-02-22\", \"GSW @ MIN\", \"L\", 242, 89, 28, 80, 0.35, 3, 14, 0.214, 30, 36, 0.833, 15, 20, 35, 15, 10, 4, 14, 23, -23.0], [\"21999\", 1610612744, \"GSW\", \"Golden State Warriors\", \"0029900748\", \"2000-02-20\", \"GSW vs. WAS\", \"W\", 241, 112, 47, 96, 0.49, 4, 13, 0.308, 14, 21, 0.667, 18, 40, 58, 31, 9, 7, 16, 27, 9.0], [\"21999\", 1610612744, \"GSW\", \"Golden State Warriors\", \"0029900735\", \"2000-02-18\", \"GSW vs. BOS\", \"W\", 240, 122, 43, 84, 0.512, 4, 15, 0.267, 32, 45, 0.711, 14, 37, 51, 30, 12, 8, 14, 33, 22.0], [\"21999\", 1610612744, \"GSW\", \"Golden State Warriors\", \"0029900720\", \"2000-02-16\", \"GSW @ POR\", \"L\", 240, 95, 36, 79, 0.456, 8, 19, 0.421, 15, 16, 0.938, 13, 25, 38, 23, 18, 2, 28, 28, -4.0], [\"21999\", 1610612744, \"GSW\", \"Golden State Warriors\", \"0029900713\", \"2000-02-15\", \"GSW vs. POR\", \"L\", 241, 83, 31, 77, 0.403, 5, 20, 0.25, 16, 28, 0.571, 13, 41, 54, 21, 10, 6, 20, 23, -9.0], [\"21999\", 1610612744, \"GSW\", \"Golden State Warriors\", \"0029900690\", \"2000-02-09\", \"GSW @ MIA\", \"L\", 241, 100, 35, 78, 0.449, 5, 15, 0.333, 25, 29, 0.862, 8, 27, 35, 21, 4, 4, 12, 20, -15.0], [\"21999\", 1610612744, \"GSW\", \"Golden State Warriors\", \"0029900677\", \"2000-02-07\", \"GSW @ ORL\", \"L\", 240, 100, 39, 92, 0.424, 3, 15, 0.2, 19, 29, 0.655, 13, 28, 41, 24, 10, 3, 16, 26, -20.0], [\"21999\", 1610612744, \"GSW\", \"Golden State Warriors\", \"0029900670\", \"2000-02-06\", \"GSW @ NJN\", \"L\", 240, 90, 35, 93, 0.376, 6, 15, 0.4, 14, 20, 0.7, 20, 26, 46, 21, 12, 3, 18, 28, -20.0], [\"21999\", 1610612744, \"GSW\", \"Golden State Warriors\", \"0029900659\", \"2000-02-04\", \"GSW vs. DEN\", \"W\", 241, 103, 41, 80, 0.513, 6, 13, 0.462, 15, 25, 0.6, 13, 36, 49, 29, 7, 5, 18, 24, 2.0], [\"21999\", 1610612744, \"GSW\", \"Golden State Warriors\", \"0029900645\", \"2000-02-02\", \"GSW vs. VAN\", \"W\", 239, 101, 38, 73, 0.521, 7, 13, 0.538, 18, 23, 0.783, 10, 27, 37, 26, 7, 3, 16, 23, 6.0], [\"21999\", 1610612744, \"GSW\", \"Golden State Warriors\", \"0029900637\", \"2000-02-01\", \"GSW @ LAC\", \"W\", 240, 107, 48, 90, 0.533, 6, 15, 0.4, 5, 7, 0.714, 13, 33, 46, 26, 7, 5, 8, 19, 31.0], [\"21999\", 1610612744, \"GSW\", \"Golden State Warriors\", \"0029900602\", \"2000-01-27\", \"GSW @ HOU\", \"W\", 241, 115, 41, 86, 0.477, 8, 13, 0.615, 25, 36, 0.694, 13, 29, 42, 24, 7, 5, 12, 27, 5.0], [\"21999\", 1610612744, \"GSW\", \"Golden State Warriors\", \"0029900590\", \"2000-01-25\", \"GSW @ DAL\", \"L\", 240, 103, 38, 93, 0.409, 1, 7, 0.143, 26, 33, 0.788, 25, 31, 56, 18, 10, 4, 19, 27, -14.0], [\"21999\", 1610612744, \"GSW\", \"Golden State Warriors\", \"0029900578\", \"2000-01-23\", \"GSW vs. MIN\", \"L\", 239, 81, 31, 87, 0.356, 4, 9, 0.444, 15, 22, 0.682, 15, 29, 44, 16, 8, 3, 16, 23, -18.0], [\"21999\", 1610612744, \"GSW\", \"Golden State Warriors\", \"0029900563\", \"2000-01-21\", \"GSW vs. CLE\", \"W\", 240, 115, 41, 87, 0.471, 9, 16, 0.563, 24, 29, 0.828, 17, 32, 49, 31, 13, 3, 15, 28, 12.0], [\"21999\", 1610612744, \"GSW\", \"Golden State Warriors\", \"0029900538\", \"2000-01-17\", \"GSW vs. ORL\", \"W\", 239, 113, 47, 92, 0.511, 4, 13, 0.308, 15, 25, 0.6, 13, 32, 45, 30, 12, 4, 12, 20, 13.0], [\"21999\", 1610612744, \"GSW\", \"Golden State Warriors\", \"0029900525\", \"2000-01-15\", \"GSW vs. SAC\", \"L\", 240, 99, 41, 98, 0.418, 6, 19, 0.316, 11, 15, 0.733, 18, 28, 46, 27, 9, 2, 15, 30, -15.0], [\"21999\", 1610612744, \"GSW\", \"Golden State Warriors\", \"0029900503\", \"2000-01-13\", \"GSW vs. HOU\", \"L\", 238, 100, 37, 81, 0.457, 6, 15, 0.4, 20, 29, 0.69, 11, 36, 47, 21, 10, 7, 18, 24, -8.0], [\"21999\", 1610612744, \"GSW\", \"Golden State Warriors\", \"0029900488\", \"2000-01-11\", \"GSW vs. DAL\", \"L\", 240, 102, 38, 86, 0.442, 5, 15, 0.333, 21, 29, 0.724, 19, 27, 46, 24, 8, 2, 15, 25, -7.0], [\"21999\", 1610612744, \"GSW\", \"Golden State Warriors\", \"0029900476\", \"2000-01-09\", \"GSW vs. SEA\", \"L\", 265, 95, 35, 88, 0.398, 7, 21, 0.333, 18, 31, 0.581, 16, 32, 48, 25, 7, 1, 18, 28, -5.0], [\"21999\", 1610612744, \"GSW\", \"Golden State Warriors\", \"0029900450\", \"2000-01-06\", \"GSW @ CLE\", \"L\", 241, 75, 30, 98, 0.306, 4, 19, 0.211, 11, 14, 0.786, 23, 30, 53, 16, 12, 8, 22, 23, -15.0], [\"21999\", 1610612744, \"GSW\", \"Golden State Warriors\", \"0029900441\", \"2000-01-05\", \"GSW @ PHI\", \"L\", 240, 92, 35, 87, 0.402, 6, 20, 0.3, 16, 21, 0.762, 17, 20, 37, 22, 5, 3, 16, 25, -21.0], [\"21999\", 1610612744, \"GSW\", \"Golden State Warriors\", \"0029900426\", \"2000-01-03\", \"GSW @ WAS\", \"L\", 241, 87, 35, 77, 0.455, 4, 16, 0.25, 13, 20, 0.65, 10, 25, 35, 25, 9, 4, 19, 24, -12.0], [\"21999\", 1610612744, \"GSW\", \"Golden State Warriors\", \"0029900410\", \"1999-12-29\", \"GSW vs. PHI\", \"L\", 240, 94, 37, 84, 0.44, 8, 26, 0.308, 12, 22, 0.545, 17, 31, 48, 25, 7, 4, 19, 29, -3.0], [\"21999\", 1610612744, \"GSW\", \"Golden State Warriors\", \"0029900395\", \"1999-12-27\", \"GSW vs. SAS\", \"L\", 239, 83, 36, 85, 0.424, 4, 6, 0.667, 7, 15, 0.467, 13, 28, 41, 23, 7, 3, 17, 23, -22.0], [\"21999\", 1610612744, \"GSW\", \"Golden State Warriors\", \"0029900386\", \"1999-12-26\", \"GSW @ PHX\", \"L\", 239, 88, 35, 80, 0.438, 4, 13, 0.308, 14, 27, 0.519, 10, 24, 34, 21, 12, 4, 18, 21, -20.0], [\"21999\", 1610612744, \"GSW\", \"Golden State Warriors\", \"0029900376\", \"1999-12-23\", \"GSW @ POR\", \"L\", 241, 91, 37, 89, 0.416, 3, 11, 0.273, 14, 16, 0.875, 14, 21, 35, 22, 5, 0, 11, 28, -20.0], [\"21999\", 1610612744, \"GSW\", \"Golden State Warriors\", \"0029900367\", \"1999-12-22\", \"GSW vs. LAC\", \"L\", 240, 99, 42, 96, 0.438, 7, 18, 0.389, 8, 14, 0.571, 15, 29, 44, 30, 3, 3, 9, 21, -4.0], [\"21999\", 1610612744, \"GSW\", \"Golden State Warriors\", \"0029900355\", \"1999-12-20\", \"GSW vs. SAC\", \"W\", 241, 111, 45, 86, 0.523, 1, 11, 0.091, 20, 32, 0.625, 13, 34, 47, 31, 14, 5, 17, 24, 12.0], [\"21999\", 1610612744, \"GSW\", \"Golden State Warriors\", \"0029900329\", \"1999-12-17\", \"GSW @ LAC\", \"L\", 240, 91, 37, 94, 0.394, 5, 12, 0.417, 12, 17, 0.706, 14, 32, 46, 17, 10, 0, 13, 27, -1.0], [\"21999\", 1610612744, \"GSW\", \"Golden State Warriors\", \"0029900321\", \"1999-12-16\", \"GSW vs. DET\", \"L\", 242, 108, 38, 92, 0.413, 7, 21, 0.333, 25, 35, 0.714, 22, 29, 51, 23, 9, 1, 18, 34, -8.0], [\"21999\", 1610612744, \"GSW\", \"Golden State Warriors\", \"0029900306\", \"1999-12-14\", \"GSW vs. MIA\", \"W\", 241, 102, 41, 89, 0.461, 4, 15, 0.267, 16, 25, 0.64, 15, 28, 43, 29, 8, 0, 7, 27, 5.0], [\"21999\", 1610612744, \"GSW\", \"Golden State Warriors\", \"0029900288\", \"1999-12-11\", \"GSW @ MIN\", \"W\", 240, 104, 41, 85, 0.482, 5, 12, 0.417, 17, 23, 0.739, 6, 35, 41, 23, 8, 3, 10, 20, 28.0], [\"21999\", 1610612744, \"GSW\", \"Golden State Warriors\", \"0029900275\", \"1999-12-10\", \"GSW @ ATL\", \"W\", 240, 107, 47, 99, 0.475, 2, 7, 0.286, 11, 17, 0.647, 15, 31, 46, 34, 12, 5, 11, 28, 8.0], [\"21999\", 1610612744, \"GSW\", \"Golden State Warriors\", \"0029900263\", \"1999-12-08\", \"GSW @ CHH\", \"L\", 240, 106, 44, 103, 0.427, 7, 18, 0.389, 11, 19, 0.579, 23, 32, 55, 26, 9, 3, 12, 31, -7.0], [\"21999\", 1610612744, \"GSW\", \"Golden State Warriors\", \"0029900252\", \"1999-12-07\", \"GSW @ NYK\", \"L\", 239, 83, 30, 90, 0.333, 1, 14, 0.071, 22, 31, 0.71, 21, 33, 54, 18, 5, 3, 14, 22, -6.0], [\"21999\", 1610612744, \"GSW\", \"Golden State Warriors\", \"0029900240\", \"1999-12-04\", \"GSW vs. UTA\", \"L\", 240, 82, 32, 80, 0.4, 2, 14, 0.143, 16, 29, 0.552, 22, 26, 48, 21, 7, 4, 19, 33, -12.0], [\"21999\", 1610612744, \"GSW\", \"Golden State Warriors\", \"0029900223\", \"1999-12-02\", \"GSW vs. SEA\", \"L\", 240, 108, 40, 96, 0.417, 8, 14, 0.571, 20, 30, 0.667, 18, 29, 47, 20, 10, 5, 11, 24, -9.0], [\"21999\", 1610612744, \"GSW\", \"Golden State Warriors\", \"0029900214\", \"1999-12-01\", \"GSW @ LAL\", \"L\", 242, 75, 28, 84, 0.333, 3, 10, 0.3, 16, 22, 0.727, 18, 34, 52, 14, 11, 8, 20, 26, -18.0], [\"21999\", 1610612744, \"GSW\", \"Golden State Warriors\", \"0029900198\", \"1999-11-29\", \"GSW @ UTA\", \"L\", 239, 99, 37, 71, 0.521, 12, 15, 0.8, 13, 23, 0.565, 8, 17, 25, 26, 7, 2, 16, 21, -16.0], [\"21999\", 1610612744, \"GSW\", \"Golden State Warriors\", \"0029900193\", \"1999-11-27\", \"GSW vs. TOR\", \"L\", 240, 88, 36, 89, 0.404, 4, 12, 0.333, 12, 17, 0.706, 20, 34, 54, 22, 4, 5, 19, 16, -18.0], [\"21999\", 1610612744, \"GSW\", \"Golden State Warriors\", \"0029900180\", \"1999-11-26\", \"GSW @ SAC\", \"L\", 239, 95, 40, 97, 0.412, 3, 8, 0.375, 12, 18, 0.667, 19, 31, 50, 21, 7, 4, 18, 22, -29.0], [\"21999\", 1610612744, \"GSW\", \"Golden State Warriors\", \"0029900169\", \"1999-11-24\", \"GSW vs. NJN\", \"L\", 240, 84, 32, 88, 0.364, 3, 15, 0.2, 17, 23, 0.739, 7, 36, 43, 21, 12, 3, 11, 25, -8.0], [\"21999\", 1610612744, \"GSW\", \"Golden State Warriors\", \"0029900143\", \"1999-11-20\", \"GSW vs. NYK\", \"L\", 240, 79, 28, 86, 0.326, 6, 16, 0.375, 17, 27, 0.63, 17, 28, 45, 20, 8, 3, 12, 26, -7.0], [\"21999\", 1610612744, \"GSW\", \"Golden State Warriors\", \"0029900118\", \"1999-11-17\", \"GSW @ SEA\", \"L\", 240, 108, 46, 88, 0.523, 5, 12, 0.417, 11, 19, 0.579, 11, 29, 40, 29, 6, 6, 17, 24, -3.0], [\"21999\", 1610612744, \"GSW\", \"Golden State Warriors\", \"0029900108\", \"1999-11-16\", \"GSW vs. CHI\", \"W\", 240, 99, 38, 87, 0.437, 2, 9, 0.222, 21, 30, 0.7, 17, 42, 59, 22, 10, 8, 12, 22, 20.0], [\"21999\", 1610612744, \"GSW\", \"Golden State Warriors\", \"0029900089\", \"1999-11-13\", \"GSW vs. HOU\", \"L\", 240, 95, 38, 95, 0.4, 3, 13, 0.231, 16, 19, 0.842, 21, 36, 57, 26, 4, 6, 15, 28, -8.0], [\"21999\", 1610612744, \"GSW\", \"Golden State Warriors\", \"0029900081\", \"1999-11-12\", \"GSW @ VAN\", \"W\", 240, 103, 40, 86, 0.465, 6, 15, 0.4, 17, 21, 0.81, 12, 27, 39, 25, 13, 4, 17, 23, 10.0], [\"21999\", 1610612744, \"GSW\", \"Golden State Warriors\", \"0029900059\", \"1999-11-09\", \"GSW vs. SAS\", \"L\", 239, 89, 33, 95, 0.347, 1, 10, 0.1, 22, 27, 0.815, 17, 31, 48, 15, 6, 2, 14, 19, -29.0], [\"21999\", 1610612744, \"GSW\", \"Golden State Warriors\", \"0029900042\", \"1999-11-06\", \"GSW vs. DAL\", \"L\", 240, 97, 38, 106, 0.358, 4, 14, 0.286, 17, 23, 0.739, 33, 26, 59, 27, 5, 11, 13, 19, -23.0], [\"21999\", 1610612744, \"GSW\", \"Golden State Warriors\", \"0029900023\", \"1999-11-04\", \"GSW @ SAS\", \"L\", 240, 81, 30, 88, 0.341, 3, 8, 0.375, 18, 25, 0.72, 22, 29, 51, 17, 5, 6, 17, 28, -23.0], [\"21999\", 1610612744, \"GSW\", \"Golden State Warriors\", \"0029900007\", \"1999-11-02\", \"GSW @ DAL\", \"L\", 240, 96, 34, 82, 0.415, 7, 18, 0.389, 21, 27, 0.778, 18, 33, 51, 14, 4, 2, 23, 29, -12.0], [\"21998\", 1610612744, \"GSW\", \"Golden State Warriors\", \"0029800724\", \"1999-05-05\", \"GSW vs. SAS\", \"L\", 239, 81, 31, 93, 0.333, 4, 9, 0.444, 15, 20, 0.75, 22, 31, 53, 17, 7, 2, 8, 20, -7.0], [\"21998\", 1610612744, \"GSW\", \"Golden State Warriors\", \"0029800704\", \"1999-05-03\", \"GSW @ VAN\", \"W\", 241, 91, 30, 66, 0.455, 3, 11, 0.273, 28, 32, 0.875, 9, 33, 42, 19, 7, 6, 20, 24, 8.0], [\"21998\", 1610612744, \"GSW\", \"Golden State Warriors\", \"0029800688\", \"1999-05-01\", \"GSW @ DAL\", \"L\", 241, 94, 43, 87, 0.494, 3, 10, 0.3, 5, 12, 0.417, 15, 23, 38, 28, 7, 1, 11, 20, -11.0], [\"21998\", 1610612744, \"GSW\", \"Golden State Warriors\", \"0029800680\", \"1999-04-30\", \"GSW @ MIN\", \"L\", 241, 85, 30, 77, 0.39, 2, 8, 0.25, 23, 27, 0.852, 8, 38, 46, 22, 4, 6, 15, 17, -5.0], [\"21998\", 1610612744, \"GSW\", \"Golden State Warriors\", \"0029800671\", \"1999-04-29\", \"GSW @ UTA\", \"L\", 241, 85, 36, 79, 0.456, 5, 14, 0.357, 8, 12, 0.667, 13, 18, 31, 14, 7, 5, 14, 27, -11.0], [\"21998\", 1610612744, \"GSW\", \"Golden State Warriors\", \"0029800649\", \"1999-04-26\", \"GSW vs. SAC\", \"W\", 242, 114, 45, 89, 0.506, 3, 10, 0.3, 21, 29, 0.724, 17, 35, 52, 30, 5, 5, 11, 20, 25.0], [\"21998\", 1610612744, \"GSW\", \"Golden State Warriors\", \"0029800631\", \"1999-04-24\", \"GSW vs. DEN\", \"W\", 239, 93, 43, 94, 0.457, 2, 11, 0.182, 5, 13, 0.385, 18, 47, 65, 30, 9, 6, 14, 24, 19.0], [\"21998\", 1610612744, \"GSW\", \"Golden State Warriors\", \"0029800622\", \"1999-04-23\", \"GSW @ DEN\", \"L\", 239, 84, 28, 71, 0.394, 3, 15, 0.2, 25, 32, 0.781, 14, 32, 46, 19, 8, 5, 19, 26, -12.0], [\"21998\", 1610612744, \"GSW\", \"Golden State Warriors\", \"0029800609\", \"1999-04-21\", \"GSW @ SAC\", \"L\", 241, 94, 41, 98, 0.418, 4, 12, 0.333, 8, 11, 0.727, 13, 36, 49, 20, 5, 1, 9, 31, -9.0], [\"21998\", 1610612744, \"GSW\", \"Golden State Warriors\", \"0029800600\", \"1999-04-20\", \"GSW vs. LAL\", \"L\", 265, 102, 42, 92, 0.457, 3, 11, 0.273, 15, 23, 0.652, 14, 22, 36, 30, 14, 0, 21, 35, -4.0], [\"21998\", 1610612744, \"GSW\", \"Golden State Warriors\", \"0029800585\", \"1999-04-18\", \"GSW @ VAN\", \"W\", 241, 90, 34, 83, 0.41, 4, 8, 0.5, 18, 21, 0.857, 20, 25, 45, 18, 10, 5, 21, 25, 5.0], [\"21998\", 1610612744, \"GSW\", \"Golden State Warriors\", \"0029800569\", \"1999-04-16\", \"GSW vs. LAC\", \"L\", 238, 83, 35, 80, 0.438, 2, 10, 0.2, 11, 16, 0.688, 22, 26, 48, 25, 5, 2, 19, 20, -3.0], [\"21998\", 1610612744, \"GSW\", \"Golden State Warriors\", \"0029800557\", \"1999-04-15\", \"GSW vs. DEN\", \"W\", 240, 85, 28, 79, 0.354, 3, 6, 0.5, 26, 31, 0.839, 14, 36, 50, 14, 11, 3, 14, 21, 6.0], [\"21998\", 1610612744, \"GSW\", \"Golden State Warriors\", \"0029800533\", \"1999-04-12\", \"GSW @ DEN\", \"W\", 239, 104, 40, 81, 0.494, 3, 10, 0.3, 21, 26, 0.808, 12, 29, 41, 23, 8, 2, 10, 28, 8.0], [\"21998\", 1610612744, \"GSW\", \"Golden State Warriors\", \"0029800515\", \"1999-04-10\", \"GSW @ DAL\", \"W\", 239, 91, 38, 81, 0.469, 3, 8, 0.375, 12, 16, 0.75, 14, 30, 44, 20, 7, 6, 14, 22, 1.0], [\"21998\", 1610612744, \"GSW\", \"Golden State Warriors\", \"0029800500\", \"1999-04-08\", \"GSW @ UTA\", \"L\", 240, 85, 33, 72, 0.458, 3, 9, 0.333, 16, 20, 0.8, 6, 21, 27, 21, 8, 6, 11, 38, -7.0], [\"21998\", 1610612744, \"GSW\", \"Golden State Warriors\", \"0029800482\", \"1999-04-06\", \"GSW @ HOU\", \"L\", 240, 74, 27, 88, 0.307, 1, 8, 0.125, 19, 28, 0.679, 21, 28, 49, 9, 6, 4, 7, 17, -37.0], [\"21998\", 1610612744, \"GSW\", \"Golden State Warriors\", \"0029800475\", \"1999-04-05\", \"GSW @ SAS\", \"L\", 240, 86, 31, 89, 0.348, 2, 8, 0.25, 22, 32, 0.688, 22, 32, 54, 15, 6, 5, 11, 29, -7.0], [\"21998\", 1610612744, \"GSW\", \"Golden State Warriors\", \"0029800460\", \"1999-04-03\", \"GSW @ LAL\", \"W\", 240, 81, 32, 77, 0.416, 0, 6, 0.0, 17, 28, 0.607, 11, 34, 45, 19, 6, 2, 14, 27, 5.0], [\"21998\", 1610612744, \"GSW\", \"Golden State Warriors\", \"0029800453\", \"1999-04-02\", \"GSW vs. UTA\", \"L\", 240, 85, 35, 88, 0.398, 2, 7, 0.286, 13, 17, 0.765, 22, 25, 47, 18, 9, 3, 12, 26, -7.0], [\"21998\", 1610612744, \"GSW\", \"Golden State Warriors\", \"0029800435\", \"1999-03-31\", \"GSW @ PHX\", \"L\", 241, 78, 31, 90, 0.344, 0, 7, 0.0, 16, 24, 0.667, 19, 41, 60, 12, 11, 9, 20, 25, -17.0], [\"21998\", 1610612744, \"GSW\", \"Golden State Warriors\", \"0029800429\", \"1999-03-30\", \"GSW vs. POR\", \"W\", 240, 93, 39, 83, 0.47, 4, 9, 0.444, 11, 15, 0.733, 14, 37, 51, 24, 7, 7, 14, 24, 3.0], [\"21998\", 1610612744, \"GSW\", \"Golden State Warriors\", \"0029800405\", \"1999-03-27\", \"GSW vs. HOU\", \"L\", 239, 86, 34, 88, 0.386, 4, 15, 0.267, 14, 21, 0.667, 24, 30, 54, 26, 5, 4, 11, 24, -1.0], [\"21998\", 1610612744, \"GSW\", \"Golden State Warriors\", \"0029800397\", \"1999-03-26\", \"GSW vs. WAS\", \"W\", 239, 100, 34, 79, 0.43, 3, 10, 0.3, 29, 38, 0.763, 20, 30, 50, 22, 10, 3, 15, 25, 4.0], [\"21998\", 1610612744, \"GSW\", \"Golden State Warriors\", \"0029800378\", \"1999-03-24\", \"GSW @ LAC\", \"W\", 240, 92, 37, 78, 0.474, 2, 6, 0.333, 16, 23, 0.696, 13, 28, 41, 15, 9, 2, 14, 21, 12.0], [\"21998\", 1610612744, \"GSW\", \"Golden State Warriors\", \"0029800371\", \"1999-03-23\", \"GSW @ POR\", \"L\", 241, 72, 26, 84, 0.31, 2, 13, 0.154, 18, 23, 0.783, 18, 27, 45, 10, 12, 2, 14, 25, -7.0], [\"21998\", 1610612744, \"GSW\", \"Golden State Warriors\", \"0029800340\", \"1999-03-19\", \"GSW vs. SEA\", \"W\", 241, 90, 39, 94, 0.415, 4, 12, 0.333, 8, 13, 0.615, 23, 27, 50, 24, 12, 2, 8, 23, 12.0], [\"21998\", 1610612744, \"GSW\", \"Golden State Warriors\", \"0029800325\", \"1999-03-17\", \"GSW vs. SAS\", \"L\", 241, 78, 33, 90, 0.367, 3, 15, 0.2, 9, 14, 0.643, 25, 33, 58, 23, 6, 8, 15, 22, -4.0], [\"21998\", 1610612744, \"GSW\", \"Golden State Warriors\", \"0029800306\", \"1999-03-15\", \"GSW vs. SAC\", \"L\", 240, 105, 47, 93, 0.505, 6, 15, 0.4, 5, 7, 0.714, 13, 33, 46, 28, 8, 2, 18, 27, -6.0], [\"21998\", 1610612744, \"GSW\", \"Golden State Warriors\", \"0029800290\", \"1999-03-13\", \"GSW vs. ORL\", \"L\", 240, 74, 32, 85, 0.376, 0, 11, 0.0, 10, 17, 0.588, 18, 38, 56, 17, 8, 6, 15, 24, -13.0], [\"21998\", 1610612744, \"GSW\", \"Golden State Warriors\", \"0029800281\", \"1999-03-12\", \"GSW @ LAL\", \"L\", 240, 78, 27, 75, 0.36, 3, 11, 0.273, 21, 37, 0.568, 15, 34, 49, 15, 9, 10, 19, 24, -11.0], [\"21998\", 1610612744, \"GSW\", \"Golden State Warriors\", \"0029800274\", \"1999-03-11\", \"GSW vs. MIN\", \"W\", 238, 89, 31, 79, 0.392, 1, 7, 0.143, 26, 41, 0.634, 17, 34, 51, 17, 6, 3, 13, 23, 7.0], [\"21998\", 1610612744, \"GSW\", \"Golden State Warriors\", \"0029800256\", \"1999-03-09\", \"GSW vs. VAN\", \"W\", 241, 92, 41, 85, 0.482, 2, 7, 0.286, 8, 19, 0.421, 17, 40, 57, 32, 9, 4, 20, 18, 10.0], [\"21998\", 1610612744, \"GSW\", \"Golden State Warriors\", \"0029800230\", \"1999-03-06\", \"GSW @ CLE\", \"L\", 241, 80, 26, 74, 0.351, 3, 12, 0.25, 25, 38, 0.658, 15, 25, 40, 11, 9, 6, 17, 36, -17.0], [\"21998\", 1610612744, \"GSW\", \"Golden State Warriors\", \"0029800224\", \"1999-03-05\", \"GSW @ IND\", \"W\", 241, 102, 45, 85, 0.529, 5, 11, 0.455, 7, 9, 0.778, 13, 27, 40, 32, 9, 7, 12, 22, 19.0], [\"21998\", 1610612744, \"GSW\", \"Golden State Warriors\", \"0029800208\", \"1999-03-03\", \"GSW @ MIL\", \"L\", 241, 78, 27, 81, 0.333, 3, 8, 0.375, 21, 34, 0.618, 22, 26, 48, 12, 8, 3, 18, 27, -28.0], [\"21998\", 1610612744, \"GSW\", \"Golden State Warriors\", \"0029800200\", \"1999-03-02\", \"GSW @ MIN\", \"L\", 239, 78, 30, 76, 0.395, 6, 15, 0.4, 12, 17, 0.706, 8, 30, 38, 21, 10, 5, 17, 27, -11.0], [\"21998\", 1610612744, \"GSW\", \"Golden State Warriors\", \"0029800185\", \"1999-02-28\", \"GSW @ PHX\", \"L\", 240, 89, 35, 90, 0.389, 6, 24, 0.25, 13, 20, 0.65, 19, 35, 54, 16, 5, 5, 12, 29, -13.0], [\"21998\", 1610612744, \"GSW\", \"Golden State Warriors\", \"0029800170\", \"1999-02-26\", \"GSW vs. PHX\", \"W\", 241, 94, 33, 73, 0.452, 7, 15, 0.467, 21, 38, 0.553, 15, 42, 57, 24, 5, 3, 16, 26, 4.0], [\"21998\", 1610612744, \"GSW\", \"Golden State Warriors\", \"0029800144\", \"1999-02-23\", \"GSW @ LAC\", \"W\", 239, 94, 37, 82, 0.451, 2, 11, 0.182, 18, 24, 0.75, 13, 32, 45, 23, 9, 9, 15, 25, 5.0], [\"21998\", 1610612744, \"GSW\", \"Golden State Warriors\", \"0029800122\", \"1999-02-20\", \"GSW @ POR\", \"L\", 240, 84, 33, 78, 0.423, 4, 10, 0.4, 14, 23, 0.609, 11, 24, 35, 16, 11, 5, 14, 32, -6.0], [\"21998\", 1610612744, \"GSW\", \"Golden State Warriors\", \"0029800113\", \"1999-02-19\", \"GSW vs. DAL\", \"W\", 240, 84, 35, 89, 0.393, 2, 11, 0.182, 12, 19, 0.632, 13, 37, 50, 23, 9, 3, 9, 26, 5.0], [\"21998\", 1610612744, \"GSW\", \"Golden State Warriors\", \"0029800097\", \"1999-02-17\", \"GSW vs. CHH\", \"W\", 240, 96, 39, 95, 0.411, 4, 15, 0.267, 14, 23, 0.609, 25, 30, 55, 29, 11, 4, 12, 20, 9.0], [\"21998\", 1610612744, \"GSW\", \"Golden State Warriors\", \"0029800078\", \"1999-02-15\", \"GSW vs. MIN\", \"W\", 240, 101, 36, 75, 0.48, 6, 19, 0.316, 23, 36, 0.639, 15, 31, 46, 24, 8, 6, 17, 21, 2.0], [\"21998\", 1610612744, \"GSW\", \"Golden State Warriors\", \"0029800072\", \"1999-02-14\", \"GSW vs. POR\", \"W\", 290, 105, 40, 106, 0.377, 6, 22, 0.273, 19, 29, 0.655, 27, 34, 61, 28, 10, 4, 10, 25, 5.0], [\"21998\", 1610612744, \"GSW\", \"Golden State Warriors\", \"0029800064\", \"1999-02-12\", \"GSW vs. UTA\", \"L\", 240, 81, 33, 77, 0.429, 1, 8, 0.125, 14, 25, 0.56, 13, 30, 43, 23, 9, 6, 18, 33, -16.0], [\"21998\", 1610612744, \"GSW\", \"Golden State Warriors\", \"0029800049\", \"1999-02-10\", \"GSW vs. SEA\", \"L\", 238, 82, 32, 72, 0.444, 6, 19, 0.316, 12, 19, 0.632, 10, 28, 38, 18, 13, 4, 21, 26, -7.0], [\"21998\", 1610612744, \"GSW\", \"Golden State Warriors\", \"0029800043\", \"1999-02-09\", \"GSW @ SEA\", \"L\", 240, 71, 25, 71, 0.352, 5, 13, 0.385, 16, 30, 0.533, 13, 29, 42, 14, 8, 4, 20, 31, -19.0], [\"21998\", 1610612744, \"GSW\", \"Golden State Warriors\", \"0029800026\", \"1999-02-07\", \"GSW vs. DAL\", \"L\", 288, 99, 38, 104, 0.365, 2, 10, 0.2, 21, 31, 0.677, 27, 37, 64, 24, 4, 8, 17, 35, -3.0], [\"21998\", 1610612744, \"GSW\", \"Golden State Warriors\", \"0029800019\", \"1999-02-06\", \"GSW vs. HOU\", \"L\", 241, 84, 33, 78, 0.423, 5, 13, 0.385, 13, 22, 0.591, 14, 29, 43, 23, 15, 2, 13, 27, -2.0], [\"21997\", 1610612744, \"GSW\", \"Golden State Warriors\", \"0029701180\", \"1998-04-18\", \"GSW vs. VAN\", \"W\", 239, 112, 44, 90, 0.489, 2, 8, 0.25, 22, 28, 0.786, 20, 24, 44, 31, 10, 5, 11, 18, 12.0], [\"21997\", 1610612744, \"GSW\", \"Golden State Warriors\", \"0029701160\", \"1998-04-16\", \"GSW vs. DAL\", \"W\", 240, 88, 37, 87, 0.425, 3, 8, 0.375, 11, 17, 0.647, 17, 30, 47, 26, 10, 6, 11, 12, 6.0], [\"21997\", 1610612744, \"GSW\", \"Golden State Warriors\", \"0029701157\", \"1998-04-15\", \"GSW @ LAC\", \"W\", 241, 92, 32, 75, 0.427, 2, 7, 0.286, 26, 30, 0.867, 9, 38, 47, 17, 6, 5, 13, 19, 12.0], [\"21997\", 1610612744, \"GSW\", \"Golden State Warriors\", \"0029701139\", \"1998-04-13\", \"GSW vs. PHX\", \"L\", 240, 97, 37, 85, 0.435, 4, 10, 0.4, 19, 24, 0.792, 11, 35, 46, 22, 7, 3, 15, 24, -8.0], [\"21997\", 1610612744, \"GSW\", \"Golden State Warriors\", \"0029701127\", \"1998-04-11\", \"GSW vs. LAL\", \"L\", 241, 84, 30, 72, 0.417, 3, 12, 0.25, 21, 33, 0.636, 11, 26, 37, 23, 10, 1, 17, 27, -12.0], [\"21997\", 1610612744, \"GSW\", \"Golden State Warriors\", \"0029701113\", \"1998-04-09\", \"GSW vs. HOU\", \"L\", 240, 89, 39, 81, 0.481, 1, 4, 0.25, 10, 13, 0.769, 11, 34, 45, 27, 6, 2, 19, 17, -4.0], [\"21997\", 1610612744, \"GSW\", \"Golden State Warriors\", \"0029701098\", \"1998-04-07\", \"GSW vs. UTA\", \"L\", 241, 99, 38, 74, 0.514, 5, 8, 0.625, 18, 26, 0.692, 11, 22, 33, 28, 5, 3, 14, 30, -2.0], [\"21997\", 1610612744, \"GSW\", \"Golden State Warriors\", \"0029701073\", \"1998-04-04\", \"GSW @ SAS\", \"L\", 264, 80, 31, 84, 0.369, 2, 12, 0.167, 16, 21, 0.762, 9, 25, 34, 12, 5, 8, 15, 28, -8.0], [\"21997\", 1610612744, \"GSW\", \"Golden State Warriors\", \"0029701057\", \"1998-04-02\", \"GSW @ HOU\", \"W\", 240, 104, 38, 73, 0.521, 3, 6, 0.5, 25, 34, 0.735, 10, 27, 37, 30, 8, 5, 12, 21, 10.0], [\"21997\", 1610612744, \"GSW\", \"Golden State Warriors\", \"0029701045\", \"1998-03-31\", \"GSW vs. MIL\", \"L\", 264, 89, 35, 85, 0.412, 2, 10, 0.2, 17, 25, 0.68, 16, 36, 52, 24, 9, 8, 20, 29, -5.0], [\"21997\", 1610612744, \"GSW\", \"Golden State Warriors\", \"0029701034\", \"1998-03-29\", \"GSW vs. POR\", \"L\", 240, 83, 32, 74, 0.432, 0, 4, 0.0, 19, 30, 0.633, 15, 24, 39, 19, 4, 1, 16, 19, -16.0], [\"21997\", 1610612744, \"GSW\", \"Golden State Warriors\", \"0029701017\", \"1998-03-27\", \"GSW @ DEN\", \"L\", 240, 89, 31, 74, 0.419, 3, 5, 0.6, 24, 30, 0.8, 15, 20, 35, 18, 4, 4, 15, 20, -8.0], [\"21997\", 1610612744, \"GSW\", \"Golden State Warriors\", \"0029701007\", \"1998-03-26\", \"GSW vs. SEA\", \"W\", 241, 98, 39, 86, 0.453, 2, 7, 0.286, 18, 27, 0.667, 23, 35, 58, 28, 10, 8, 16, 23, 7.0], [\"21997\", 1610612744, \"GSW\", \"Golden State Warriors\", \"0029700993\", \"1998-03-24\", \"GSW vs. NYK\", \"L\", 240, 75, 31, 72, 0.431, 1, 3, 0.333, 12, 16, 0.75, 14, 26, 40, 20, 7, 0, 21, 13, -13.0], [\"21997\", 1610612744, \"GSW\", \"Golden State Warriors\", \"0029700975\", \"1998-03-22\", \"GSW @ ORL\", \"L\", 240, 83, 31, 82, 0.378, 3, 8, 0.375, 18, 22, 0.818, 15, 31, 46, 17, 4, 8, 15, 30, -9.0], [\"21997\", 1610612744, \"GSW\", \"Golden State Warriors\", \"0029700961\", \"1998-03-20\", \"GSW @ MIA\", \"L\", 241, 87, 34, 91, 0.374, 3, 10, 0.3, 16, 17, 0.941, 22, 31, 53, 17, 3, 4, 10, 25, -6.0], [\"21997\", 1610612744, \"GSW\", \"Golden State Warriors\", \"0029700955\", \"1998-03-19\", \"GSW @ DAL\", \"L\", 265, 82, 32, 95, 0.337, 3, 15, 0.2, 15, 18, 0.833, 24, 32, 56, 21, 9, 6, 19, 22, -6.0], [\"21997\", 1610612744, \"GSW\", \"Golden State Warriors\", \"0029700942\", \"1998-03-17\", \"GSW vs. LAC\", \"L\", 240, 102, 37, 87, 0.425, 1, 5, 0.2, 27, 34, 0.794, 24, 25, 49, 24, 6, 7, 17, 18, -5.0], [\"21997\", 1610612744, \"GSW\", \"Golden State Warriors\", \"0029700925\", \"1998-03-15\", \"GSW vs. TOR\", \"L\", 264, 98, 37, 100, 0.37, 3, 9, 0.333, 21, 36, 0.583, 26, 42, 68, 20, 7, 7, 16, 22, -2.0], [\"21997\", 1610612744, \"GSW\", \"Golden State Warriors\", \"0029700910\", \"1998-03-13\", \"GSW @ PHX\", \"L\", 240, 77, 29, 80, 0.363, 3, 8, 0.375, 16, 20, 0.8, 16, 33, 49, 16, 6, 4, 18, 18, -24.0], [\"21997\", 1610612744, \"GSW\", \"Golden State Warriors\", \"0029700897\", \"1998-03-11\", \"GSW vs. MIN\", \"L\", 241, 84, 32, 89, 0.36, 0, 5, 0.0, 20, 27, 0.741, 19, 33, 52, 19, 5, 5, 18, 17, -29.0], [\"21997\", 1610612744, \"GSW\", \"Golden State Warriors\", \"0029700882\", \"1998-03-09\", \"GSW @ SAC\", \"W\", 239, 93, 35, 90, 0.389, 1, 7, 0.143, 22, 31, 0.71, 24, 38, 62, 16, 6, 5, 9, 20, 5.0], [\"21997\", 1610612744, \"GSW\", \"Golden State Warriors\", \"0029700864\", \"1998-03-06\", \"GSW vs. IND\", \"L\", 240, 87, 31, 81, 0.383, 2, 8, 0.25, 23, 29, 0.793, 23, 29, 52, 20, 7, 2, 19, 17, -14.0], [\"21997\", 1610612744, \"GSW\", \"Golden State Warriors\", \"0029700849\", \"1998-03-04\", \"GSW vs. SAS\", \"W\", 240, 90, 35, 84, 0.417, 3, 6, 0.5, 17, 21, 0.81, 13, 27, 40, 21, 17, 7, 17, 24, 7.0], [\"21997\", 1610612744, \"GSW\", \"Golden State Warriors\", \"0029700832\", \"1998-03-02\", \"GSW @ CHH\", \"L\", 240, 83, 31, 74, 0.419, 3, 12, 0.25, 18, 27, 0.667, 8, 27, 35, 22, 8, 4, 19, 19, -29.0], [\"21997\", 1610612744, \"GSW\", \"Golden State Warriors\", \"0029700825\", \"1998-03-01\", \"GSW @ CLE\", \"L\", 240, 82, 34, 87, 0.391, 0, 3, 0.0, 14, 17, 0.824, 13, 29, 42, 23, 8, 2, 20, 21, -20.0], [\"21997\", 1610612744, \"GSW\", \"Golden State Warriors\", \"0029700809\", \"1998-02-27\", \"GSW @ BOS\", \"L\", 240, 88, 33, 89, 0.371, 3, 16, 0.188, 19, 30, 0.633, 21, 24, 45, 19, 7, 3, 15, 14, -32.0], [\"21997\", 1610612744, \"GSW\", \"Golden State Warriors\", \"0029700804\", \"1998-02-26\", \"GSW @ WAS\", \"L\", 242, 87, 34, 81, 0.42, 4, 11, 0.364, 15, 24, 0.625, 9, 29, 38, 20, 10, 3, 18, 23, -23.0], [\"21997\", 1610612744, \"GSW\", \"Golden State Warriors\", \"0029700787\", \"1998-02-24\", \"GSW @ NYK\", \"W\", 240, 87, 35, 86, 0.407, 1, 9, 0.111, 16, 18, 0.889, 13, 33, 46, 18, 9, 6, 12, 14, 5.0], [\"21997\", 1610612744, \"GSW\", \"Golden State Warriors\", \"0029700780\", \"1998-02-22\", \"GSW vs. MIA\", \"L\", 240, 82, 31, 65, 0.477, 3, 11, 0.273, 17, 25, 0.68, 13, 30, 43, 18, 3, 1, 20, 25, -8.0], [\"21997\", 1610612744, \"GSW\", \"Golden State Warriors\", \"0029700764\", \"1998-02-20\", \"GSW vs. DEN\", \"W\", 240, 95, 32, 68, 0.471, 3, 11, 0.273, 28, 35, 0.8, 8, 29, 37, 25, 12, 5, 16, 20, 7.0], [\"21997\", 1610612744, \"GSW\", \"Golden State Warriors\", \"0029700749\", \"1998-02-18\", \"GSW vs. CHH\", \"W\", 241, 88, 30, 69, 0.435, 1, 9, 0.111, 27, 35, 0.771, 12, 34, 46, 20, 10, 3, 19, 20, 11.0], [\"21997\", 1610612744, \"GSW\", \"Golden State Warriors\", \"0029700743\", \"1998-02-17\", \"GSW @ POR\", \"L\", 240, 83, 34, 93, 0.366, 1, 7, 0.143, 14, 21, 0.667, 13, 33, 46, 18, 9, 1, 11, 31, -18.0], [\"21997\", 1610612744, \"GSW\", \"Golden State Warriors\", \"0029700729\", \"1998-02-15\", \"GSW vs. BOS\", \"W\", 240, 101, 40, 81, 0.494, 3, 6, 0.5, 18, 25, 0.72, 22, 30, 52, 31, 12, 7, 21, 23, 14.0], [\"21997\", 1610612744, \"GSW\", \"Golden State Warriors\", \"0029700716\", \"1998-02-13\", \"GSW vs. SAC\", \"L\", 241, 92, 42, 95, 0.442, 2, 9, 0.222, 6, 11, 0.545, 20, 31, 51, 24, 6, 8, 12, 20, -17.0], [\"21997\", 1610612744, \"GSW\", \"Golden State Warriors\", \"0029700701\", \"1998-02-11\", \"GSW @ LAL\", \"L\", 240, 99, 41, 101, 0.406, 5, 14, 0.357, 12, 12, 1.0, 20, 27, 47, 22, 7, 8, 12, 27, -6.0], [\"21997\", 1610612744, \"GSW\", \"Golden State Warriors\", \"0029700692\", \"1998-02-10\", \"GSW vs. WAS\", \"L\", 239, 87, 36, 82, 0.439, 1, 6, 0.167, 14, 27, 0.519, 14, 37, 51, 21, 8, 4, 22, 23, -12.0], [\"21997\", 1610612744, \"GSW\", \"Golden State Warriors\", \"0029700664\", \"1998-02-03\", \"GSW vs. SAS\", \"L\", 239, 96, 40, 83, 0.482, 1, 4, 0.25, 15, 20, 0.75, 10, 24, 34, 17, 8, 6, 8, 23, -9.0], [\"21997\", 1610612744, \"GSW\", \"Golden State Warriors\", \"0029700648\", \"1998-02-01\", \"GSW vs. UTA\", \"L\", 242, 88, 30, 87, 0.345, 2, 7, 0.286, 26, 36, 0.722, 28, 22, 50, 19, 7, 7, 21, 28, -27.0], [\"21997\", 1610612744, \"GSW\", \"Golden State Warriors\", \"0029700635\", \"1998-01-30\", \"GSW vs. CHI\", \"L\", 240, 80, 33, 83, 0.398, 3, 8, 0.375, 11, 13, 0.846, 19, 30, 49, 19, 5, 5, 20, 25, -7.0], [\"21997\", 1610612744, \"GSW\", \"Golden State Warriors\", \"0029700626\", \"1998-01-29\", \"GSW @ SEA\", \"L\", 240, 97, 38, 82, 0.463, 3, 11, 0.273, 18, 24, 0.75, 11, 27, 38, 14, 11, 5, 18, 25, -12.0], [\"21997\", 1610612744, \"GSW\", \"Golden State Warriors\", \"0029700612\", \"1998-01-27\", \"GSW @ POR\", \"W\", 240, 82, 36, 80, 0.45, 3, 7, 0.429, 7, 13, 0.538, 9, 27, 36, 24, 4, 7, 10, 19, 4.0], [\"21997\", 1610612744, \"GSW\", \"Golden State Warriors\", \"0029700597\", \"1998-01-24\", \"GSW @ VAN\", \"L\", 240, 96, 35, 87, 0.402, 2, 8, 0.25, 24, 28, 0.857, 12, 24, 36, 15, 9, 6, 8, 23, -11.0], [\"21997\", 1610612744, \"GSW\", \"Golden State Warriors\", \"0029700585\", \"1998-01-23\", \"GSW vs. VAN\", \"L\", 242, 80, 28, 78, 0.359, 4, 12, 0.333, 20, 32, 0.625, 13, 36, 49, 20, 9, 5, 12, 22, -8.0], [\"21997\", 1610612744, \"GSW\", \"Golden State Warriors\", \"0029700573\", \"1998-01-21\", \"GSW @ UTA\", \"L\", 240, 85, 35, 84, 0.417, 0, 9, 0.0, 15, 24, 0.625, 12, 26, 38, 16, 10, 12, 9, 22, -13.0], [\"21997\", 1610612744, \"GSW\", \"Golden State Warriors\", \"0029700561\", \"1998-01-20\", \"GSW vs. PHX\", \"L\", 241, 69, 29, 87, 0.333, 1, 10, 0.1, 10, 16, 0.625, 22, 28, 50, 15, 4, 7, 14, 21, -20.0], [\"21997\", 1610612744, \"GSW\", \"Golden State Warriors\", \"0029700538\", \"1998-01-17\", \"GSW @ PHI\", \"L\", 241, 84, 30, 86, 0.349, 2, 12, 0.167, 22, 27, 0.815, 20, 25, 45, 22, 9, 7, 15, 21, -28.0], [\"21997\", 1610612744, \"GSW\", \"Golden State Warriors\", \"0029700530\", \"1998-01-16\", \"GSW @ ATL\", \"L\", 240, 89, 39, 96, 0.406, 0, 11, 0.0, 11, 18, 0.611, 25, 21, 46, 17, 7, 7, 10, 24, -13.0], [\"21997\", 1610612744, \"GSW\", \"Golden State Warriors\", \"0029700520\", \"1998-01-14\", \"GSW @ MIL\", \"L\", 240, 95, 36, 79, 0.456, 4, 9, 0.444, 19, 24, 0.792, 15, 25, 40, 20, 6, 4, 15, 26, -6.0], [\"21997\", 1610612744, \"GSW\", \"Golden State Warriors\", \"0029700504\", \"1998-01-12\", \"GSW @ MIN\", \"L\", 239, 87, 31, 81, 0.383, 5, 11, 0.455, 20, 27, 0.741, 13, 25, 38, 20, 7, 5, 14, 25, -16.0], [\"21997\", 1610612744, \"GSW\", \"Golden State Warriors\", \"0029700492\", \"1998-01-10\", \"GSW @ CHI\", \"L\", 242, 82, 35, 82, 0.427, 6, 9, 0.667, 6, 11, 0.545, 17, 32, 49, 23, 7, 3, 15, 20, -5.0], [\"21997\", 1610612744, \"GSW\", \"Golden State Warriors\", \"0029700483\", \"1998-01-09\", \"GSW @ DET\", \"L\", 241, 72, 29, 75, 0.387, 3, 11, 0.273, 11, 21, 0.524, 7, 29, 36, 18, 4, 4, 19, 18, -29.0], [\"21997\", 1610612744, \"GSW\", \"Golden State Warriors\", \"0029700473\", \"1998-01-07\", \"GSW vs. ATL\", \"L\", 242, 86, 34, 83, 0.41, 2, 9, 0.222, 16, 20, 0.8, 17, 26, 43, 22, 6, 4, 14, 23, -20.0], [\"21997\", 1610612744, \"GSW\", \"Golden State Warriors\", \"0029700436\", \"1998-01-02\", \"GSW vs. LAC\", \"L\", 239, 79, 29, 81, 0.358, 1, 7, 0.143, 20, 28, 0.714, 17, 33, 50, 19, 11, 5, 20, 19, -15.0], [\"21997\", 1610612744, \"GSW\", \"Golden State Warriors\", \"0029700420\", \"1997-12-30\", \"GSW vs. SEA\", \"L\", 240, 87, 39, 83, 0.47, 3, 7, 0.429, 6, 12, 0.5, 13, 32, 45, 26, 11, 9, 22, 16, -14.0], [\"21997\", 1610612744, \"GSW\", \"Golden State Warriors\", \"0029700400\", \"1997-12-27\", \"GSW vs. PHI\", \"L\", 240, 78, 35, 84, 0.417, 2, 10, 0.2, 6, 12, 0.5, 17, 34, 51, 19, 5, 12, 18, 25, -7.0], [\"21997\", 1610612744, \"GSW\", \"Golden State Warriors\", \"0029700389\", \"1997-12-26\", \"GSW @ DEN\", \"W\", 239, 81, 29, 64, 0.453, 4, 6, 0.667, 19, 28, 0.679, 10, 34, 44, 14, 7, 7, 23, 23, 12.0], [\"21997\", 1610612744, \"GSW\", \"Golden State Warriors\", \"0029700377\", \"1997-12-23\", \"GSW vs. DEN\", \"W\", 240, 87, 35, 69, 0.507, 2, 7, 0.286, 15, 24, 0.625, 7, 37, 44, 27, 3, 7, 16, 25, 12.0], [\"21997\", 1610612744, \"GSW\", \"Golden State Warriors\", \"0029700371\", \"1997-12-22\", \"GSW @ PHX\", \"L\", 240, 76, 34, 73, 0.466, 3, 7, 0.429, 5, 12, 0.417, 12, 26, 38, 24, 9, 3, 25, 24, -15.0], [\"21997\", 1610612744, \"GSW\", \"Golden State Warriors\", \"0029700360\", \"1997-12-20\", \"GSW @ SEA\", \"L\", 241, 89, 38, 89, 0.427, 1, 6, 0.167, 12, 21, 0.571, 16, 27, 43, 24, 9, 4, 17, 25, -19.0], [\"21997\", 1610612744, \"GSW\", \"Golden State Warriors\", \"0029700339\", \"1997-12-18\", \"GSW @ LAC\", \"L\", 239, 78, 32, 82, 0.39, 0, 4, 0.0, 14, 25, 0.56, 19, 34, 53, 12, 11, 6, 16, 23, -4.0], [\"21997\", 1610612744, \"GSW\", \"Golden State Warriors\", \"0029700326\", \"1997-12-16\", \"GSW vs. DAL\", \"W\", 240, 103, 43, 83, 0.518, 2, 4, 0.5, 15, 25, 0.6, 12, 38, 50, 30, 9, 7, 11, 18, 11.0], [\"21997\", 1610612744, \"GSW\", \"Golden State Warriors\", \"0029700309\", \"1997-12-13\", \"GSW vs. SAC\", \"W\", 265, 95, 37, 91, 0.407, 0, 2, 0.0, 21, 29, 0.724, 14, 39, 53, 22, 12, 6, 16, 21, 4.0], [\"21997\", 1610612744, \"GSW\", \"Golden State Warriors\", \"0029700299\", \"1997-12-12\", \"GSW @ VAN\", \"L\", 240, 88, 36, 89, 0.404, 0, 3, 0.0, 16, 21, 0.762, 16, 27, 43, 22, 10, 5, 14, 24, -7.0], [\"21997\", 1610612744, \"GSW\", \"Golden State Warriors\", \"0029700284\", \"1997-12-10\", \"GSW vs. LAL\", \"W\", 241, 93, 35, 83, 0.422, 1, 5, 0.2, 22, 26, 0.846, 14, 30, 44, 26, 11, 7, 15, 28, 1.0], [\"21997\", 1610612744, \"GSW\", \"Golden State Warriors\", \"0029700263\", \"1997-12-07\", \"GSW @ SAC\", \"L\", 239, 84, 34, 88, 0.386, 1, 10, 0.1, 15, 22, 0.682, 14, 39, 53, 20, 3, 9, 17, 34, -15.0], [\"21997\", 1610612744, \"GSW\", \"Golden State Warriors\", \"0029700250\", \"1997-12-05\", \"GSW vs. ORL\", \"W\", 239, 104, 41, 81, 0.506, 5, 10, 0.5, 17, 24, 0.708, 12, 40, 52, 32, 7, 7, 18, 26, 15.0], [\"21997\", 1610612744, \"GSW\", \"Golden State Warriors\", \"0029700235\", \"1997-12-03\", \"GSW vs. CLE\", \"L\", 240, 67, 29, 74, 0.392, 3, 6, 0.5, 6, 7, 0.857, 8, 34, 42, 21, 7, 8, 27, 22, -28.0], [\"21997\", 1610612744, \"GSW\", \"Golden State Warriors\", \"0029700213\", \"1997-11-29\", \"GSW vs. HOU\", \"L\", 239, 100, 38, 90, 0.422, 5, 10, 0.5, 19, 24, 0.792, 24, 28, 52, 22, 8, 5, 23, 36, -7.0], [\"21997\", 1610612744, \"GSW\", \"Golden State Warriors\", \"0029700201\", \"1997-11-28\", \"GSW @ UTA\", \"L\", 241, 82, 31, 92, 0.337, 4, 11, 0.364, 16, 18, 0.889, 15, 23, 38, 17, 9, 4, 15, 18, -29.0], [\"21997\", 1610612744, \"GSW\", \"Golden State Warriors\", \"0029700180\", \"1997-11-25\", \"GSW vs. NJN\", \"L\", 240, 87, 36, 88, 0.409, 3, 9, 0.333, 12, 13, 0.923, 22, 28, 50, 23, 11, 4, 20, 20, -14.0], [\"21997\", 1610612744, \"GSW\", \"Golden State Warriors\", \"0029700167\", \"1997-11-22\", \"GSW @ HOU\", \"L\", 239, 84, 34, 89, 0.382, 2, 14, 0.143, 14, 21, 0.667, 17, 37, 54, 17, 7, 9, 13, 22, -6.0], [\"21997\", 1610612744, \"GSW\", \"Golden State Warriors\", \"0029700149\", \"1997-11-20\", \"GSW @ DAL\", \"W\", 266, 101, 38, 91, 0.418, 3, 12, 0.25, 22, 28, 0.786, 22, 44, 66, 17, 6, 5, 21, 26, 4.0], [\"21997\", 1610612744, \"GSW\", \"Golden State Warriors\", \"0029700143\", \"1997-11-19\", \"GSW @ SAS\", \"L\", 241, 87, 36, 89, 0.404, 1, 9, 0.111, 14, 20, 0.7, 14, 25, 39, 24, 9, 7, 12, 26, -21.0], [\"21997\", 1610612744, \"GSW\", \"Golden State Warriors\", \"0029700121\", \"1997-11-15\", \"GSW vs. POR\", \"L\", 240, 87, 31, 81, 0.383, 2, 6, 0.333, 23, 29, 0.793, 6, 30, 36, 18, 8, 11, 9, 19, -12.0], [\"21997\", 1610612744, \"GSW\", \"Golden State Warriors\", \"0029700096\", \"1997-11-12\", \"GSW vs. DET\", \"L\", 239, 71, 29, 79, 0.367, 1, 9, 0.111, 12, 19, 0.632, 12, 24, 36, 18, 8, 5, 15, 24, -31.0], [\"21997\", 1610612744, \"GSW\", \"Golden State Warriors\", \"0029700076\", \"1997-11-09\", \"GSW @ LAL\", \"L\", 239, 97, 41, 104, 0.394, 1, 7, 0.143, 14, 26, 0.538, 20, 24, 44, 26, 8, 5, 13, 31, -35.0], [\"21997\", 1610612744, \"GSW\", \"Golden State Warriors\", \"0029700074\", \"1997-11-08\", \"GSW vs. MIN\", \"L\", 240, 90, 35, 100, 0.35, 2, 14, 0.143, 18, 26, 0.692, 27, 36, 63, 13, 3, 3, 13, 23, -7.0], [\"21997\", 1610612744, \"GSW\", \"Golden State Warriors\", \"0029700044\", \"1997-11-05\", \"GSW @ NJN\", \"L\", 241, 96, 35, 86, 0.407, 5, 16, 0.313, 21, 32, 0.656, 12, 33, 45, 16, 6, 5, 17, 30, -16.0], [\"21997\", 1610612744, \"GSW\", \"Golden State Warriors\", \"0029700034\", \"1997-11-04\", \"GSW @ TOR\", \"L\", 241, 86, 35, 88, 0.398, 1, 10, 0.1, 15, 29, 0.517, 23, 35, 58, 26, 4, 3, 25, 24, -18.0], [\"21997\", 1610612744, \"GSW\", \"Golden State Warriors\", \"0029700017\", \"1997-11-01\", \"GSW @ IND\", \"L\", 242, 83, 33, 90, 0.367, 1, 4, 0.25, 16, 25, 0.64, 18, 32, 50, 11, 9, 6, 17, 27, -13.0], [\"21997\", 1610612744, \"GSW\", \"Golden State Warriors\", \"0029700008\", \"1997-10-31\", \"GSW @ MIN\", \"L\", 240, 113, 49, 107, 0.458, 4, 14, 0.286, 11, 16, 0.688, 21, 27, 48, 24, 7, 11, 11, 22, -16.0], [\"21996\", 1610612744, \"GSW\", \"Golden State Warriors\", \"0029601180\", \"1997-04-19\", \"GSW vs. SAC\", \"L\", 264, 120, 50, 107, 0.467, 6, 17, 0.353, 14, 20, 0.7, 24, 29, 53, 26, 7, 3, 14, 22, -1.6], [\"21996\", 1610612744, \"GSW\", \"Golden State Warriors\", \"0029601161\", \"1997-04-17\", \"GSW @ UTA\", \"L\", 241, 93, 34, 84, 0.405, 4, 15, 0.267, 21, 26, 0.808, 21, 23, 44, 18, 13, 5, 19, 19, -10.2], [\"21996\", 1610612744, \"GSW\", \"Golden State Warriors\", \"0029601144\", \"1997-04-14\", \"GSW @ DEN\", \"W\", 240, 103, 38, 93, 0.409, 2, 12, 0.167, 25, 27, 0.926, 16, 38, 54, 15, 5, 3, 7, 16, 8.0], [\"21996\", 1610612744, \"GSW\", \"Golden State Warriors\", \"0029601136\", \"1997-04-13\", \"GSW vs. PHX\", \"L\", 240, 97, 38, 90, 0.422, 5, 17, 0.294, 16, 25, 0.64, 19, 32, 51, 15, 7, 3, 13, 19, -6.2], [\"21996\", 1610612744, \"GSW\", \"Golden State Warriors\", \"0029601122\", \"1997-04-11\", \"GSW @ SAC\", \"L\", 239, 87, 31, 74, 0.419, 6, 15, 0.4, 19, 30, 0.633, 11, 30, 41, 11, 7, 5, 19, 13, -9.0], [\"21996\", 1610612744, \"GSW\", \"Golden State Warriors\", \"0029601113\", \"1997-04-10\", \"GSW vs. DEN\", \"W\", 265, 109, 42, 102, 0.412, 7, 18, 0.389, 18, 24, 0.75, 18, 41, 59, 27, 7, 7, 12, 16, 0.0], [\"21996\", 1610612744, \"GSW\", \"Golden State Warriors\", \"0029601099\", \"1997-04-08\", \"GSW vs. LAL\", \"L\", 240, 85, 34, 84, 0.405, 2, 11, 0.182, 15, 20, 0.75, 20, 19, 39, 25, 11, 3, 18, 16, -22.8], [\"21996\", 1610612744, \"GSW\", \"Golden State Warriors\", \"0029601084\", \"1997-04-06\", \"GSW vs. UTA\", \"L\", 240, 100, 35, 75, 0.467, 7, 15, 0.467, 23, 31, 0.742, 15, 18, 33, 28, 6, 2, 19, 29, -14.6], [\"21996\", 1610612744, \"GSW\", \"Golden State Warriors\", \"0029601076\", \"1997-04-05\", \"GSW vs. SAS\", \"W\", 241, 120, 47, 83, 0.566, 8, 18, 0.444, 18, 25, 0.72, 13, 23, 36, 32, 9, 2, 11, 15, 15.6], [\"21996\", 1610612744, \"GSW\", \"Golden State Warriors\", \"0029601060\", \"1997-04-03\", \"GSW vs. DAL\", \"W\", 241, 106, 39, 85, 0.459, 5, 17, 0.294, 23, 31, 0.742, 24, 26, 50, 24, 9, 7, 17, 19, 16.4], [\"21996\", 1610612744, \"GSW\", \"Golden State Warriors\", \"0029601045\", \"1997-04-01\", \"GSW @ POR\", \"W\", 242, 91, 31, 66, 0.47, 6, 15, 0.4, 23, 28, 0.821, 7, 36, 43, 17, 3, 3, 24, 23, 8.2], [\"21996\", 1610612744, \"GSW\", \"Golden State Warriors\", \"0029601037\", \"1997-03-30\", \"GSW vs. MIN\", \"L\", 240, 102, 38, 82, 0.463, 7, 16, 0.438, 19, 22, 0.864, 13, 27, 40, 26, 4, 2, 19, 25, -13.0], [\"21996\", 1610612744, \"GSW\", \"Golden State Warriors\", \"0029601022\", \"1997-03-28\", \"GSW @ PHX\", \"L\", 265, 115, 43, 90, 0.478, 8, 18, 0.444, 21, 29, 0.724, 12, 38, 50, 30, 6, 5, 19, 31, -4.8], [\"21996\", 1610612744, \"GSW\", \"Golden State Warriors\", \"0029601000\", \"1997-03-25\", \"GSW vs. SEA\", \"L\", 241, 89, 31, 70, 0.443, 4, 16, 0.25, 23, 34, 0.676, 11, 23, 34, 19, 4, 7, 23, 27, -35.4], [\"21996\", 1610612744, \"GSW\", \"Golden State Warriors\", \"0029600976\", \"1997-03-22\", \"GSW @ CHH\", \"L\", 265, 93, 35, 87, 0.402, 4, 17, 0.235, 19, 20, 0.95, 16, 30, 46, 18, 1, 5, 17, 21, -7.2], [\"21996\", 1610612744, \"GSW\", \"Golden State Warriors\", \"0029600960\", \"1997-03-20\", \"GSW @ ORL\", \"L\", 241, 95, 37, 70, 0.529, 4, 15, 0.267, 17, 24, 0.708, 13, 30, 43, 21, 6, 4, 20, 21, -5.0], [\"21996\", 1610612744, \"GSW\", \"Golden State Warriors\", \"0029600954\", \"1997-03-19\", \"GSW @ MIA\", \"L\", 265, 91, 31, 71, 0.437, 6, 17, 0.353, 23, 33, 0.697, 11, 36, 47, 11, 5, 4, 19, 24, 0.4], [\"21996\", 1610612744, \"GSW\", \"Golden State Warriors\", \"0029600943\", \"1997-03-17\", \"GSW vs. PHX\", \"L\", 239, 95, 40, 81, 0.494, 1, 12, 0.083, 14, 27, 0.519, 14, 28, 42, 29, 4, 4, 15, 19, -21.0], [\"21996\", 1610612744, \"GSW\", \"Golden State Warriors\", \"0029600927\", \"1997-03-15\", \"GSW vs. TOR\", \"W\", 241, 106, 42, 80, 0.525, 5, 16, 0.313, 17, 24, 0.708, 16, 30, 46, 30, 5, 2, 13, 17, 4.0], [\"21996\", 1610612744, \"GSW\", \"Golden State Warriors\", \"0029600910\", \"1997-03-13\", \"GSW vs. CLE\", \"W\", 265, 101, 37, 70, 0.529, 7, 17, 0.412, 20, 24, 0.833, 5, 23, 28, 23, 6, 3, 16, 21, 6.0], [\"21996\", 1610612744, \"GSW\", \"Golden State Warriors\", \"0029600905\", \"1997-03-12\", \"GSW @ LAL\", \"L\", 239, 101, 38, 86, 0.442, 7, 18, 0.389, 18, 22, 0.818, 15, 21, 36, 24, 6, 5, 14, 21, -8.0], [\"21996\", 1610612744, \"GSW\", \"Golden State Warriors\", \"0029600887\", \"1997-03-10\", \"GSW @ LAC\", \"L\", 241, 106, 30, 73, 0.411, 6, 19, 0.316, 40, 47, 0.851, 13, 25, 38, 15, 8, 6, 19, 26, -6.0], [\"21996\", 1610612744, \"GSW\", \"Golden State Warriors\", \"0029600885\", \"1997-03-09\", \"GSW vs. SAC\", \"W\", 240, 102, 33, 72, 0.458, 2, 6, 0.333, 34, 37, 0.919, 15, 24, 39, 18, 14, 3, 23, 20, 4.0], [\"21996\", 1610612744, \"GSW\", \"Golden State Warriors\", \"0029600870\", \"1997-03-07\", \"GSW vs. ORL\", \"W\", 241, 108, 43, 78, 0.551, 3, 10, 0.3, 19, 25, 0.76, 14, 29, 43, 26, 11, 2, 18, 18, 7.0], [\"21996\", 1610612744, \"GSW\", \"Golden State Warriors\", \"0029600854\", \"1997-03-05\", \"GSW vs. HOU\", \"L\", 242, 85, 31, 78, 0.397, 4, 15, 0.267, 19, 23, 0.826, 15, 31, 46, 16, 4, 1, 20, 23, -5.0], [\"21996\", 1610612744, \"GSW\", \"Golden State Warriors\", \"0029600836\", \"1997-03-03\", \"GSW vs. UTA\", \"L\", 240, 104, 37, 64, 0.578, 8, 17, 0.471, 22, 26, 0.846, 7, 21, 28, 23, 8, 0, 19, 28, -7.0], [\"21996\", 1610612744, \"GSW\", \"Golden State Warriors\", \"0029600820\", \"1997-03-01\", \"GSW @ WAS\", \"L\", 241, 108, 34, 80, 0.425, 8, 19, 0.421, 32, 41, 0.78, 12, 19, 31, 16, 7, 0, 20, 29, -10.0], [\"21996\", 1610612744, \"GSW\", \"Golden State Warriors\", \"0029600810\", \"1997-02-28\", \"GSW @ NJN\", \"W\", 240, 117, 36, 74, 0.486, 7, 16, 0.438, 38, 44, 0.864, 14, 34, 48, 24, 5, 6, 20, 26, 9.0], [\"21996\", 1610612744, \"GSW\", \"Golden State Warriors\", \"0029600797\", \"1997-02-26\", \"GSW @ DET\", \"L\", 240, 84, 31, 79, 0.392, 5, 16, 0.313, 17, 23, 0.739, 17, 23, 40, 16, 2, 5, 14, 17, -33.0], [\"21996\", 1610612744, \"GSW\", \"Golden State Warriors\", \"0029600784\", \"1997-02-24\", \"GSW @ ATL\", \"L\", 241, 100, 38, 68, 0.559, 5, 15, 0.333, 19, 28, 0.679, 7, 22, 29, 20, 5, 1, 16, 25, -6.0], [\"21996\", 1610612744, \"GSW\", \"Golden State Warriors\", \"0029600771\", \"1997-02-22\", \"GSW @ CHI\", \"L\", 240, 87, 36, 96, 0.375, 6, 20, 0.3, 9, 13, 0.692, 20, 25, 45, 18, 7, 1, 20, 22, -33.0], [\"21996\", 1610612744, \"GSW\", \"Golden State Warriors\", \"0029600764\", \"1997-02-21\", \"GSW @ MIN\", \"L\", 240, 82, 31, 92, 0.337, 5, 21, 0.238, 15, 19, 0.789, 22, 31, 53, 16, 9, 5, 22, 20, -19.0], [\"21996\", 1610612744, \"GSW\", \"Golden State Warriors\", \"0029600749\", \"1997-02-19\", \"GSW vs. BOS\", \"W\", 241, 112, 44, 80, 0.55, 7, 16, 0.438, 17, 29, 0.586, 11, 28, 39, 35, 20, 8, 17, 25, 11.0], [\"21996\", 1610612744, \"GSW\", \"Golden State Warriors\", \"0029600728\", \"1997-02-16\", \"GSW @ SAC\", \"L\", 238, 85, 33, 79, 0.418, 5, 16, 0.313, 14, 22, 0.636, 10, 31, 41, 14, 1, 7, 16, 17, -20.0], [\"21996\", 1610612744, \"GSW\", \"Golden State Warriors\", \"0029600712\", \"1997-02-14\", \"GSW @ SAS\", \"W\", 240, 108, 38, 83, 0.458, 10, 23, 0.435, 22, 24, 0.917, 10, 35, 45, 25, 7, 9, 8, 19, 14.0], [\"21996\", 1610612744, \"GSW\", \"Golden State Warriors\", \"0029600703\", \"1997-02-13\", \"GSW @ DAL\", \"W\", 242, 107, 42, 82, 0.512, 7, 19, 0.368, 16, 21, 0.762, 14, 34, 48, 23, 8, 8, 13, 20, 8.0], [\"21996\", 1610612744, \"GSW\", \"Golden State Warriors\", \"0029600666\", \"1997-02-04\", \"GSW vs. ATL\", \"L\", 239, 85, 36, 83, 0.434, 3, 18, 0.167, 10, 18, 0.556, 14, 25, 39, 27, 5, 2, 10, 16, -22.0], [\"21996\", 1610612744, \"GSW\", \"Golden State Warriors\", \"0029600645\", \"1997-02-01\", \"GSW @ LAC\", \"L\", 240, 98, 30, 70, 0.429, 7, 15, 0.467, 31, 36, 0.861, 10, 22, 32, 15, 9, 2, 11, 21, -12.0], [\"21996\", 1610612744, \"GSW\", \"Golden State Warriors\", \"0029600636\", \"1997-01-31\", \"GSW vs. CHI\", \"L\", 240, 92, 38, 82, 0.463, 7, 20, 0.35, 9, 14, 0.643, 15, 25, 40, 24, 6, 1, 20, 14, -23.0], [\"21996\", 1610612744, \"GSW\", \"Golden State Warriors\", \"0029600624\", \"1997-01-29\", \"GSW vs. SEA\", \"L\", 240, 86, 31, 79, 0.392, 4, 19, 0.211, 20, 28, 0.714, 12, 27, 39, 20, 8, 5, 19, 15, -25.0], [\"21996\", 1610612744, \"GSW\", \"Golden State Warriors\", \"0029600605\", \"1997-01-27\", \"GSW vs. VAN\", \"W\", 239, 122, 41, 75, 0.547, 5, 13, 0.385, 35, 37, 0.946, 11, 31, 42, 31, 8, 1, 14, 21, 25.0], [\"21996\", 1610612744, \"GSW\", \"Golden State Warriors\", \"0029600590\", \"1997-01-24\", \"GSW @ LAL\", \"L\", 240, 97, 38, 89, 0.427, 2, 12, 0.167, 19, 27, 0.704, 16, 23, 39, 23, 11, 6, 15, 27, -17.0], [\"21996\", 1610612744, \"GSW\", \"Golden State Warriors\", \"0029600581\", \"1997-01-23\", \"GSW vs. DET\", \"L\", 239, 79, 31, 69, 0.449, 8, 21, 0.381, 9, 14, 0.643, 7, 26, 33, 24, 4, 3, 17, 13, -15.0], [\"21996\", 1610612744, \"GSW\", \"Golden State Warriors\", \"0029600567\", \"1997-01-21\", \"GSW vs. DAL\", \"W\", 240, 105, 37, 78, 0.474, 7, 19, 0.368, 24, 35, 0.686, 9, 27, 36, 23, 11, 3, 8, 18, 12.0], [\"21996\", 1610612744, \"GSW\", \"Golden State Warriors\", \"0029600542\", \"1997-01-18\", \"GSW @ MIN\", \"L\", 239, 93, 34, 72, 0.472, 8, 19, 0.421, 17, 24, 0.708, 5, 24, 29, 22, 6, 6, 14, 21, -15.0], [\"21996\", 1610612744, \"GSW\", \"Golden State Warriors\", \"0029600532\", \"1997-01-17\", \"GSW @ IND\", \"W\", 238, 98, 33, 80, 0.413, 4, 16, 0.25, 28, 30, 0.933, 16, 34, 50, 21, 7, 10, 15, 27, 7.0], [\"21996\", 1610612744, \"GSW\", \"Golden State Warriors\", \"0029600516\", \"1997-01-15\", \"GSW @ PHI\", \"W\", 240, 128, 50, 90, 0.556, 9, 21, 0.429, 19, 27, 0.704, 11, 29, 40, 24, 10, 5, 14, 29, 17.0], [\"21996\", 1610612744, \"GSW\", \"Golden State Warriors\", \"0029600508\", \"1997-01-14\", \"GSW @ BOS\", \"L\", 241, 108, 42, 84, 0.5, 4, 17, 0.235, 20, 25, 0.8, 11, 23, 34, 23, 8, 5, 21, 24, -8.0], [\"21996\", 1610612744, \"GSW\", \"Golden State Warriors\", \"0029600500\", \"1997-01-12\", \"GSW @ MIL\", \"L\", 241, 93, 37, 80, 0.463, 7, 14, 0.5, 12, 14, 0.857, 9, 22, 31, 20, 10, 3, 15, 22, -18.0], [\"21996\", 1610612744, \"GSW\", \"Golden State Warriors\", \"0029600480\", \"1997-01-09\", \"GSW @ VAN\", \"W\", 240, 102, 43, 78, 0.551, 5, 12, 0.417, 11, 15, 0.733, 10, 31, 41, 24, 6, 5, 13, 12, 16.0], [\"21996\", 1610612744, \"GSW\", \"Golden State Warriors\", \"0029600475\", \"1997-01-08\", \"GSW vs. VAN\", \"L\", 241, 95, 32, 88, 0.364, 6, 26, 0.231, 25, 30, 0.833, 23, 25, 48, 22, 5, 5, 17, 25, -14.0], [\"21996\", 1610612744, \"GSW\", \"Golden State Warriors\", \"0029600456\", \"1997-01-06\", \"GSW vs. CHH\", \"L\", 240, 101, 37, 82, 0.451, 7, 23, 0.304, 20, 23, 0.87, 11, 30, 41, 24, 6, 11, 12, 29, -8.0], [\"21996\", 1610612744, \"GSW\", \"Golden State Warriors\", \"0029600440\", \"1997-01-03\", \"GSW vs. PHI\", \"W\", 267, 122, 46, 87, 0.529, 5, 18, 0.278, 25, 30, 0.833, 13, 40, 53, 32, 8, 4, 19, 27, 8.0], [\"21996\", 1610612744, \"GSW\", \"Golden State Warriors\", \"0029600406\", \"1996-12-28\", \"GSW @ HOU\", \"L\", 241, 95, 38, 93, 0.409, 5, 20, 0.25, 14, 20, 0.7, 16, 25, 41, 22, 9, 3, 14, 20, -9.0], [\"21996\", 1610612744, \"GSW\", \"Golden State Warriors\", \"0029600389\", \"1996-12-26\", \"GSW @ DAL\", \"W\", 239, 113, 43, 81, 0.531, 9, 19, 0.474, 18, 22, 0.818, 11, 32, 43, 26, 14, 2, 17, 12, 5.0], [\"21996\", 1610612744, \"GSW\", \"Golden State Warriors\", \"0029600369\", \"1996-12-22\", \"GSW vs. LAC\", \"W\", 241, 97, 30, 75, 0.4, 7, 16, 0.438, 30, 38, 0.789, 16, 23, 39, 16, 9, 4, 9, 25, 6.0], [\"21996\", 1610612744, \"GSW\", \"Golden State Warriors\", \"0029600340\", \"1996-12-18\", \"GSW vs. MIN\", \"W\", 240, 123, 48, 85, 0.565, 12, 26, 0.462, 15, 21, 0.714, 13, 31, 44, 33, 9, 1, 15, 27, 27.0], [\"21996\", 1610612744, \"GSW\", \"Golden State Warriors\", \"0029600332\", \"1996-12-17\", \"GSW @ SEA\", \"L\", 240, 83, 28, 73, 0.384, 6, 16, 0.375, 21, 26, 0.808, 9, 29, 38, 18, 4, 7, 25, 27, -42.0], [\"21996\", 1610612744, \"GSW\", \"Golden State Warriors\", \"0029600320\", \"1996-12-15\", \"GSW vs. WAS\", \"L\", 240, 102, 36, 74, 0.486, 9, 18, 0.5, 21, 31, 0.677, 10, 22, 32, 17, 9, 3, 24, 26, -8.0], [\"21996\", 1610612744, \"GSW\", \"Golden State Warriors\", \"0029600303\", \"1996-12-13\", \"GSW @ CLE\", \"L\", 240, 87, 31, 69, 0.449, 6, 14, 0.429, 19, 22, 0.864, 12, 25, 37, 23, 5, 8, 22, 27, -14.0], [\"21996\", 1610612744, \"GSW\", \"Golden State Warriors\", \"0029600293\", \"1996-12-12\", \"GSW @ NYK\", \"L\", 239, 79, 28, 81, 0.346, 6, 19, 0.316, 17, 22, 0.773, 12, 27, 39, 19, 10, 3, 15, 14, -11.0], [\"21996\", 1610612744, \"GSW\", \"Golden State Warriors\", \"0029600277\", \"1996-12-10\", \"GSW @ TOR\", \"W\", 239, 101, 33, 80, 0.413, 3, 11, 0.273, 32, 38, 0.842, 22, 29, 51, 15, 8, 4, 18, 18, 10.0], [\"21996\", 1610612744, \"GSW\", \"Golden State Warriors\", \"0029600271\", \"1996-12-08\", \"GSW vs. SAS\", \"W\", 240, 114, 46, 82, 0.561, 9, 14, 0.643, 13, 16, 0.813, 13, 26, 39, 31, 9, 5, 15, 27, 26.0], [\"21996\", 1610612744, \"GSW\", \"Golden State Warriors\", \"0029600254\", \"1996-12-06\", \"GSW vs. IND\", \"L\", 240, 71, 24, 71, 0.338, 0, 15, 0.0, 23, 33, 0.697, 13, 30, 43, 14, 9, 4, 15, 20, -15.0], [\"21996\", 1610612744, \"GSW\", \"Golden State Warriors\", \"0029600241\", \"1996-12-04\", \"GSW @ PHX\", \"L\", 241, 87, 31, 87, 0.356, 1, 12, 0.083, 24, 28, 0.857, 13, 26, 39, 17, 9, 5, 13, 27, -31.0], [\"21996\", 1610612744, \"GSW\", \"Golden State Warriors\", \"0029600232\", \"1996-12-03\", \"GSW vs. DEN\", \"W\", 241, 114, 43, 81, 0.531, 7, 16, 0.438, 21, 26, 0.808, 12, 26, 38, 28, 10, 6, 14, 18, 15.0], [\"21996\", 1610612744, \"GSW\", \"Golden State Warriors\", \"0029600220\", \"1996-12-01\", \"GSW vs. POR\", \"W\", 240, 98, 28, 75, 0.373, 7, 15, 0.467, 35, 40, 0.875, 19, 38, 57, 17, 10, 11, 18, 28, 28.0], [\"21996\", 1610612744, \"GSW\", \"Golden State Warriors\", \"0029600207\", \"1996-11-29\", \"GSW @ POR\", \"L\", 239, 93, 29, 70, 0.414, 5, 14, 0.357, 30, 37, 0.811, 10, 17, 27, 17, 9, 4, 13, 21, -26.0], [\"21996\", 1610612744, \"GSW\", \"Golden State Warriors\", \"0029600198\", \"1996-11-28\", \"GSW vs. NJN\", \"W\", 240, 124, 41, 86, 0.477, 6, 12, 0.5, 36, 47, 0.766, 17, 32, 49, 28, 2, 3, 9, 31, 6.0], [\"21996\", 1610612744, \"GSW\", \"Golden State Warriors\", \"0029600186\", \"1996-11-26\", \"GSW vs. MIA\", \"L\", 241, 88, 35, 91, 0.385, 3, 15, 0.2, 15, 16, 0.938, 21, 23, 44, 24, 12, 6, 14, 22, -19.0], [\"21996\", 1610612744, \"GSW\", \"Golden State Warriors\", \"0029600167\", \"1996-11-23\", \"GSW vs. HOU\", \"L\", 264, 115, 44, 75, 0.587, 11, 17, 0.647, 16, 20, 0.8, 2, 32, 34, 32, 6, 5, 20, 31, -5.0], [\"21996\", 1610612744, \"GSW\", \"Golden State Warriors\", \"0029600154\", \"1996-11-21\", \"GSW @ UTA\", \"L\", 264, 104, 32, 82, 0.39, 6, 21, 0.286, 34, 43, 0.791, 15, 29, 44, 14, 7, 6, 17, 32, -5.0], [\"21996\", 1610612744, \"GSW\", \"Golden State Warriors\", \"0029600136\", \"1996-11-19\", \"GSW vs. LAL\", \"L\", 239, 109, 41, 80, 0.513, 14, 26, 0.538, 13, 18, 0.722, 10, 27, 37, 32, 3, 3, 15, 22, -3.0], [\"21996\", 1610612744, \"GSW\", \"Golden State Warriors\", \"0029600125\", \"1996-11-17\", \"GSW @ SAS\", \"W\", 240, 102, 36, 71, 0.507, 8, 17, 0.471, 22, 27, 0.815, 9, 31, 40, 21, 9, 7, 14, 23, 10.0], [\"21996\", 1610612744, \"GSW\", \"Golden State Warriors\", \"0029600122\", \"1996-11-16\", \"GSW @ HOU\", \"L\", 240, 103, 43, 95, 0.453, 3, 15, 0.2, 14, 18, 0.778, 19, 20, 39, 24, 17, 3, 17, 18, -12.0], [\"21996\", 1610612744, \"GSW\", \"Golden State Warriors\", \"0029600102\", \"1996-11-14\", \"GSW vs. MIL\", \"W\", 239, 95, 39, 77, 0.506, 1, 10, 0.1, 16, 23, 0.696, 9, 25, 34, 24, 7, 8, 11, 14, 9.0], [\"21996\", 1610612744, \"GSW\", \"Golden State Warriors\", \"0029600087\", \"1996-11-12\", \"GSW @ SEA\", \"L\", 241, 102, 39, 81, 0.481, 11, 19, 0.579, 13, 19, 0.684, 12, 24, 36, 23, 4, 1, 19, 20, -19.0], [\"21996\", 1610612744, \"GSW\", \"Golden State Warriors\", \"0029600061\", \"1996-11-08\", \"GSW @ DEN\", \"L\", 241, 91, 33, 74, 0.446, 5, 14, 0.357, 20, 22, 0.909, 6, 31, 37, 18, 7, 10, 21, 20, -3.0], [\"21996\", 1610612744, \"GSW\", \"Golden State Warriors\", \"0029600050\", \"1996-11-07\", \"GSW vs. NYK\", \"L\", 241, 100, 34, 72, 0.472, 7, 19, 0.368, 25, 27, 0.926, 10, 11, 21, 29, 10, 3, 20, 31, -5.0], [\"21996\", 1610612744, \"GSW\", \"Golden State Warriors\", \"0029600038\", \"1996-11-05\", \"GSW vs. POR\", \"L\", 242, 93, 35, 78, 0.449, 2, 13, 0.154, 21, 29, 0.724, 13, 28, 41, 26, 4, 3, 20, 25, -18.0], [\"21996\", 1610612744, \"GSW\", \"Golden State Warriors\", \"0029600028\", \"1996-11-03\", \"GSW @ VAN\", \"W\", 239, 105, 38, 79, 0.481, 8, 19, 0.421, 21, 27, 0.778, 12, 36, 48, 21, 7, 5, 22, 14, 10.0], [\"21996\", 1610612744, \"GSW\", \"Golden State Warriors\", \"0029600013\", \"1996-11-01\", \"GSW vs. LAC\", \"L\", 242, 85, 27, 75, 0.36, 7, 18, 0.389, 24, 29, 0.828, 12, 27, 39, 20, 8, 3, 20, 17, -12.0], [\"21995\", 1610612744, \"GOS\", \"Golden State Warriors\", \"0029501185\", \"1996-04-21\", \"GOS @ SAC\", \"L\", 240, 100, 41, 84, 0.488, 3, 11, 0.273, 15, 26, 0.577, 12, 28, 40, 20, 9, 3, 12, 19, null], [\"21995\", 1610612744, \"GOS\", \"Golden State Warriors\", \"0029501163\", \"1996-04-19\", \"GOS vs. POR\", \"L\", 240, 87, 30, 89, 0.337, 7, 20, 0.35, 20, 29, 0.69, 19, 16, 35, 18, 13, 4, 9, 26, null], [\"21995\", 1610612744, \"GOS\", \"Golden State Warriors\", \"0029501150\", \"1996-04-17\", \"GOS @ MIN\", \"W\", 240, 109, 37, 88, 0.42, 8, 17, 0.471, 27, 35, 0.771, 18, 25, 43, 20, 8, 8, 11, 21, null], [\"21995\", 1610612744, \"GOS\", \"Golden State Warriors\", \"0029501130\", \"1996-04-14\", \"GOS vs. UTH\", \"W\", 240, 93, 38, 79, 0.481, 6, 11, 0.545, 11, 21, 0.524, 14, 29, 43, 24, 7, 3, 12, 16, null], [\"21995\", 1610612744, \"GOS\", \"Golden State Warriors\", \"0029501114\", \"1996-04-12\", \"GOS @ LAL\", \"L\", 240, 81, 31, 79, 0.392, 4, 13, 0.308, 15, 16, 0.938, 16, 26, 42, 17, 6, 5, 15, 19, null], [\"21995\", 1610612744, \"GOS\", \"Golden State Warriors\", \"0029501108\", \"1996-04-11\", \"GOS @ LAC\", \"W\", 240, 111, 45, 80, 0.563, 9, 13, 0.692, 12, 16, 0.75, 9, 26, 35, 23, 6, 7, 14, 14, null], [\"21995\", 1610612744, \"GOS\", \"Golden State Warriors\", \"0029501084\", \"1996-04-08\", \"GOS vs. DAL\", \"L\", 240, 102, 40, 78, 0.513, 3, 8, 0.375, 19, 20, 0.95, 11, 29, 40, 26, 11, 6, 19, 24, null], [\"21995\", 1610612744, \"GOS\", \"Golden State Warriors\", \"0029501071\", \"1996-04-06\", \"GOS vs. MIN\", \"W\", 240, 111, 36, 74, 0.486, 4, 9, 0.444, 35, 40, 0.875, 16, 25, 41, 21, 12, 5, 18, 17, null], [\"21995\", 1610612744, \"GOS\", \"Golden State Warriors\", \"0029501052\", \"1996-04-04\", \"GOS vs. DEN\", \"W\", 240, 98, 34, 76, 0.447, 3, 8, 0.375, 27, 32, 0.844, 10, 29, 39, 21, 10, 2, 12, 19, null], [\"21995\", 1610612744, \"GOS\", \"Golden State Warriors\", \"0029501037\", \"1996-04-02\", \"GOS vs. HOU\", \"L\", 240, 106, 42, 82, 0.512, 5, 13, 0.385, 17, 23, 0.739, 8, 34, 42, 22, 8, 2, 15, 29, null], [\"21995\", 1610612744, \"GOS\", \"Golden State Warriors\", \"0029501018\", \"1996-03-30\", \"GOS vs. CLE\", \"L\", 240, 64, 23, 70, 0.329, 3, 14, 0.214, 15, 22, 0.682, 11, 26, 37, 16, 9, 3, 18, 17, null], [\"21995\", 1610612744, \"GOS\", \"Golden State Warriors\", \"0029501004\", \"1996-03-28\", \"GOS @ POR\", \"L\", 240, 89, 32, 80, 0.4, 7, 18, 0.389, 18, 27, 0.667, 15, 23, 38, 16, 9, 5, 16, 25, null], [\"21995\", 1610612744, \"GOS\", \"Golden State Warriors\", \"0029500989\", \"1996-03-26\", \"GOS vs. SEA\", \"L\", 240, 102, 36, 75, 0.48, 5, 18, 0.278, 25, 28, 0.893, 11, 20, 31, 25, 6, 5, 15, 25, null], [\"21995\", 1610612744, \"GOS\", \"Golden State Warriors\", \"0029500969\", \"1996-03-23\", \"GOS vs. PHX\", \"W\", 240, 98, 35, 79, 0.443, 7, 12, 0.583, 21, 25, 0.84, 13, 29, 42, 24, 5, 8, 12, 18, null], [\"21995\", 1610612744, \"GOS\", \"Golden State Warriors\", \"0029500951\", \"1996-03-21\", \"GOS @ PHX\", \"L\", 240, 96, 34, 93, 0.366, 6, 17, 0.353, 22, 26, 0.846, 21, 24, 45, 14, 9, 13, 14, 29, null], [\"21995\", 1610612744, \"GOS\", \"Golden State Warriors\", \"0029500941\", \"1996-03-19\", \"GOS @ HOU\", \"W\", 265, 105, 38, 93, 0.409, 3, 10, 0.3, 26, 35, 0.743, 18, 36, 54, 18, 12, 6, 12, 19, null], [\"21995\", 1610612744, \"GOS\", \"Golden State Warriors\", \"0029500933\", \"1996-03-18\", \"GOS @ SAN\", \"L\", 240, 98, 40, 84, 0.476, 2, 10, 0.2, 16, 20, 0.8, 12, 28, 40, 24, 8, 8, 11, 19, null], [\"21995\", 1610612744, \"GOS\", \"Golden State Warriors\", \"0029500915\", \"1996-03-16\", \"GOS vs. MIL\", \"W\", 240, 99, 35, 83, 0.422, 11, 28, 0.393, 18, 22, 0.818, 15, 31, 46, 22, 12, 6, 13, 22, null], [\"21995\", 1610612744, \"GOS\", \"Golden State Warriors\", \"0029500902\", \"1996-03-14\", \"GOS vs. LAL\", \"L\", 240, 103, 39, 84, 0.464, 9, 21, 0.429, 16, 23, 0.696, 18, 23, 41, 29, 8, 5, 15, 21, null], [\"21995\", 1610612744, \"GOS\", \"Golden State Warriors\", \"0029500887\", \"1996-03-12\", \"GOS vs. SAN\", \"L\", 240, 98, 39, 90, 0.433, 5, 13, 0.385, 15, 25, 0.6, 17, 35, 52, 25, 6, 5, 14, 24, null], [\"21995\", 1610612744, \"GOS\", \"Golden State Warriors\", \"0029500882\", \"1996-03-10\", \"GOS vs. SAC\", \"L\", 240, 95, 37, 75, 0.493, 3, 12, 0.25, 18, 23, 0.783, 8, 39, 47, 27, 6, 12, 18, 24, null], [\"21995\", 1610612744, \"GOS\", \"Golden State Warriors\", \"0029500869\", \"1996-03-09\", \"GOS @ DEN\", \"L\", 240, 88, 35, 88, 0.398, 3, 12, 0.25, 15, 24, 0.625, 13, 18, 31, 16, 13, 6, 7, 23, null], [\"21995\", 1610612744, \"GOS\", \"Golden State Warriors\", \"0029500851\", \"1996-03-07\", \"GOS vs. HOU\", \"W\", 240, 95, 38, 87, 0.437, 5, 15, 0.333, 14, 20, 0.7, 14, 31, 45, 27, 9, 6, 11, 18, null], [\"21995\", 1610612744, \"GOS\", \"Golden State Warriors\", \"0029500840\", \"1996-03-05\", \"GOS vs. VAN\", \"W\", 240, 110, 43, 84, 0.512, 7, 12, 0.583, 17, 25, 0.68, 19, 41, 60, 28, 5, 10, 21, 18, null], [\"21995\", 1610612744, \"GOS\", \"Golden State Warriors\", \"0029500826\", \"1996-03-03\", \"GOS @ NYK\", \"L\", 240, 94, 28, 76, 0.368, 2, 14, 0.143, 36, 45, 0.8, 13, 31, 44, 14, 11, 1, 15, 23, null], [\"21995\", 1610612744, \"GOS\", \"Golden State Warriors\", \"0029500806\", \"1996-03-01\", \"GOS @ CHI\", \"L\", 240, 87, 29, 87, 0.333, 7, 16, 0.438, 22, 27, 0.815, 21, 27, 48, 15, 14, 9, 21, 11, null], [\"21995\", 1610612744, \"GOS\", \"Golden State Warriors\", \"0029500800\", \"1996-02-29\", \"GOS @ IND\", \"L\", 240, 85, 35, 80, 0.438, 2, 8, 0.25, 13, 19, 0.684, 14, 21, 35, 16, 10, 1, 13, 27, null], [\"21995\", 1610612744, \"GOS\", \"Golden State Warriors\", \"0029500786\", \"1996-02-27\", \"GOS @ CLE\", \"L\", 240, 80, 30, 59, 0.508, 2, 9, 0.222, 18, 27, 0.667, 5, 27, 32, 22, 5, 3, 19, 18, null], [\"21995\", 1610612744, \"GOS\", \"Golden State Warriors\", \"0029500764\", \"1996-02-24\", \"GOS vs. LAC\", \"W\", 240, 86, 29, 80, 0.363, 4, 16, 0.25, 24, 32, 0.75, 20, 27, 47, 20, 8, 6, 14, 19, null], [\"21995\", 1610612744, \"GOS\", \"Golden State Warriors\", \"0029500751\", \"1996-02-22\", \"GOS @ SEA\", \"L\", 240, 90, 34, 84, 0.405, 3, 16, 0.188, 19, 33, 0.576, 15, 27, 42, 18, 13, 4, 20, 21, null], [\"21995\", 1610612744, \"GOS\", \"Golden State Warriors\", \"0029500743\", \"1996-02-21\", \"GOS vs. SAN\", \"W\", 240, 95, 34, 86, 0.395, 5, 14, 0.357, 22, 38, 0.579, 21, 30, 51, 25, 10, 1, 17, 18, null], [\"21995\", 1610612744, \"GOS\", \"Golden State Warriors\", \"0029500728\", \"1996-02-19\", \"GOS @ DAL\", \"W\", 240, 112, 44, 80, 0.55, 9, 15, 0.6, 15, 20, 0.75, 15, 32, 47, 19, 9, 10, 21, 22, null], [\"21995\", 1610612744, \"GOS\", \"Golden State Warriors\", \"0029500706\", \"1996-02-16\", \"GOS @ SAN\", \"L\", 240, 95, 38, 83, 0.458, 8, 23, 0.348, 11, 16, 0.688, 9, 32, 41, 26, 8, 4, 25, 22, null], [\"21995\", 1610612744, \"GOS\", \"Golden State Warriors\", \"0029500694\", \"1996-02-14\", \"GOS vs. BOS\", \"W\", 240, 106, 43, 90, 0.478, 9, 19, 0.474, 11, 17, 0.647, 17, 38, 55, 27, 3, 5, 15, 20, null], [\"21995\", 1610612744, \"GOS\", \"Golden State Warriors\", \"0029500677\", \"1996-02-13\", \"GOS @ POR\", \"W\", 240, 99, 39, 81, 0.481, 5, 11, 0.455, 16, 21, 0.762, 13, 25, 38, 26, 15, 5, 20, 23, null], [\"21995\", 1610612744, \"GOS\", \"Golden State Warriors\", \"0029500668\", \"1996-02-07\", \"GOS vs. CHI\", \"L\", 240, 95, 35, 76, 0.461, 5, 14, 0.357, 20, 27, 0.741, 23, 25, 48, 28, 8, 3, 16, 22, null], [\"21995\", 1610612744, \"GOS\", \"Golden State Warriors\", \"0029500648\", \"1996-02-05\", \"GOS @ LAC\", \"W\", 240, 128, 47, 88, 0.534, 7, 13, 0.538, 27, 37, 0.73, 18, 22, 40, 18, 7, 1, 9, 28, null], [\"21995\", 1610612744, \"GOS\", \"Golden State Warriors\", \"0029500643\", \"1996-02-04\", \"GOS vs. NJN\", \"W\", 240, 96, 43, 84, 0.512, 2, 13, 0.154, 8, 16, 0.5, 7, 28, 35, 32, 6, 8, 7, 18, null], [\"21995\", 1610612744, \"GOS\", \"Golden State Warriors\", \"0029500632\", \"1996-02-02\", \"GOS vs. TOR\", \"W\", 240, 114, 42, 80, 0.525, 4, 12, 0.333, 26, 34, 0.765, 17, 14, 31, 30, 11, 11, 15, 19, null], [\"21995\", 1610612744, \"GOS\", \"Golden State Warriors\", \"0029500609\", \"1996-01-30\", \"GOS @ LAL\", \"L\", 240, 118, 44, 85, 0.518, 3, 11, 0.273, 27, 36, 0.75, 12, 28, 40, 28, 12, 3, 21, 26, null], [\"21995\", 1610612744, \"GOS\", \"Golden State Warriors\", \"0029500589\", \"1996-01-27\", \"GOS @ UTH\", \"L\", 240, 91, 33, 74, 0.446, 8, 18, 0.444, 17, 23, 0.739, 10, 23, 33, 23, 4, 6, 16, 22, null], [\"21995\", 1610612744, \"GOS\", \"Golden State Warriors\", \"0029500585\", \"1996-01-26\", \"GOS vs. SAC\", \"W\", 240, 124, 36, 78, 0.462, 7, 12, 0.583, 45, 58, 0.776, 18, 30, 48, 24, 7, 9, 15, 31, null], [\"21995\", 1610612744, \"GOS\", \"Golden State Warriors\", \"0029500562\", \"1996-01-24\", \"GOS vs. UTH\", \"L\", 240, 89, 30, 70, 0.429, 5, 13, 0.385, 24, 32, 0.75, 10, 21, 31, 24, 9, 4, 16, 17, null], [\"21995\", 1610612744, \"GOS\", \"Golden State Warriors\", \"0029500541\", \"1996-01-20\", \"GOS @ CHH\", \"W\", 240, 110, 42, 93, 0.452, 9, 15, 0.6, 17, 20, 0.85, 18, 37, 55, 23, 3, 5, 15, 12, null], [\"21995\", 1610612744, \"GOS\", \"Golden State Warriors\", \"0029500521\", \"1996-01-18\", \"GOS @ MIL\", \"L\", 240, 96, 39, 84, 0.464, 5, 14, 0.357, 13, 15, 0.867, 14, 29, 43, 28, 5, 5, 15, 23, null], [\"21995\", 1610612744, \"GOS\", \"Golden State Warriors\", \"0029500517\", \"1996-01-17\", \"GOS @ MIN\", \"L\", 240, 88, 31, 90, 0.344, 3, 18, 0.167, 23, 33, 0.697, 24, 32, 56, 19, 11, 7, 21, 20, null], [\"21995\", 1610612744, \"GOS\", \"Golden State Warriors\", \"0029500501\", \"1996-01-15\", \"GOS vs. SEA\", \"L\", 240, 95, 36, 86, 0.419, 7, 21, 0.333, 16, 22, 0.727, 16, 27, 43, 23, 7, 9, 19, 21, null], [\"21995\", 1610612744, \"GOS\", \"Golden State Warriors\", \"0029500482\", \"1996-01-12\", \"GOS @ VAN\", \"W\", 240, 104, 39, 90, 0.433, 6, 20, 0.3, 20, 30, 0.667, 24, 27, 51, 24, 10, 6, 17, 26, null], [\"21995\", 1610612744, \"GOS\", \"Golden State Warriors\", \"0029500475\", \"1996-01-11\", \"GOS vs. PHX\", \"L\", 240, 106, 38, 94, 0.404, 5, 16, 0.313, 25, 28, 0.893, 20, 31, 51, 26, 1, 4, 14, 22, null], [\"21995\", 1610612744, \"GOS\", \"Golden State Warriors\", \"0029500457\", \"1996-01-09\", \"GOS vs. VAN\", \"W\", 240, 109, 42, 81, 0.519, 7, 13, 0.538, 18, 22, 0.818, 13, 26, 39, 31, 8, 9, 17, 18, null], [\"21995\", 1610612744, \"GOS\", \"Golden State Warriors\", \"0029500444\", \"1996-01-06\", \"GOS @ SAC\", \"L\", 240, 106, 40, 86, 0.465, 7, 13, 0.538, 19, 23, 0.826, 11, 33, 44, 27, 7, 4, 18, 25, null], [\"21995\", 1610612744, \"GOS\", \"Golden State Warriors\", \"0029500437\", \"1996-01-05\", \"GOS vs. MIN\", \"W\", 265, 122, 39, 82, 0.476, 4, 12, 0.333, 40, 47, 0.851, 15, 28, 43, 26, 6, 7, 21, 22, null], [\"21995\", 1610612744, \"GOS\", \"Golden State Warriors\", \"0029500425\", \"1996-01-03\", \"GOS vs. PHL\", \"W\", 240, 122, 42, 83, 0.506, 4, 9, 0.444, 34, 45, 0.756, 15, 25, 40, 31, 11, 5, 18, 21, null], [\"21995\", 1610612744, \"GOS\", \"Golden State Warriors\", \"0029500405\", \"1995-12-30\", \"GOS @ NJN\", \"W\", 240, 120, 41, 78, 0.526, 9, 15, 0.6, 29, 36, 0.806, 11, 33, 44, 20, 6, 4, 19, 32, null], [\"21995\", 1610612744, \"GOS\", \"Golden State Warriors\", \"0029500392\", \"1995-12-29\", \"GOS @ ATL\", \"W\", 240, 117, 41, 72, 0.569, 7, 13, 0.538, 28, 33, 0.848, 12, 37, 49, 25, 7, 6, 21, 28, null], [\"21995\", 1610612744, \"GOS\", \"Golden State Warriors\", \"0029500378\", \"1995-12-27\", \"GOS @ WAS\", \"L\", 240, 94, 36, 80, 0.45, 5, 12, 0.417, 17, 28, 0.607, 17, 28, 45, 11, 7, 6, 25, 24, null], [\"21995\", 1610612744, \"GOS\", \"Golden State Warriors\", \"0029500369\", \"1995-12-26\", \"GOS @ DET\", \"L\", 240, 90, 32, 84, 0.381, 7, 19, 0.368, 19, 23, 0.826, 17, 27, 44, 19, 8, 3, 16, 21, null], [\"21995\", 1610612744, \"GOS\", \"Golden State Warriors\", \"0029500348\", \"1995-12-22\", \"GOS vs. WAS\", \"W\", 240, 132, 47, 79, 0.595, 4, 13, 0.308, 34, 39, 0.872, 16, 24, 40, 33, 9, 4, 23, 26, null], [\"21995\", 1610612744, \"GOS\", \"Golden State Warriors\", \"0029500335\", \"1995-12-20\", \"GOS @ DEN\", \"L\", 240, 104, 40, 85, 0.471, 8, 21, 0.381, 16, 21, 0.762, 15, 28, 43, 25, 5, 10, 18, 28, null], [\"21995\", 1610612744, \"GOS\", \"Golden State Warriors\", \"0029500328\", \"1995-12-19\", \"GOS vs. CHH\", \"W\", 240, 102, 40, 87, 0.46, 5, 14, 0.357, 17, 21, 0.81, 13, 29, 42, 31, 4, 11, 13, 20, null], [\"21995\", 1610612744, \"GOS\", \"Golden State Warriors\", \"0029500309\", \"1995-12-16\", \"GOS @ VAN\", \"W\", 240, 116, 45, 83, 0.542, 5, 15, 0.333, 21, 28, 0.75, 19, 30, 49, 30, 14, 6, 20, 26, null], [\"21995\", 1610612744, \"GOS\", \"Golden State Warriors\", \"0029500297\", \"1995-12-15\", \"GOS @ SEA\", \"L\", 240, 101, 38, 87, 0.437, 5, 21, 0.238, 20, 27, 0.741, 17, 37, 54, 22, 6, 5, 18, 23, null], [\"21995\", 1610612744, \"GOS\", \"Golden State Warriors\", \"0029500277\", \"1995-12-12\", \"GOS vs. MIA\", \"W\", 240, 105, 36, 76, 0.474, 9, 21, 0.429, 24, 33, 0.727, 9, 33, 42, 34, 15, 5, 14, 24, null], [\"21995\", 1610612744, \"GOS\", \"Golden State Warriors\", \"0029500259\", \"1995-12-09\", \"GOS @ UTH\", \"L\", 240, 109, 32, 60, 0.533, 10, 16, 0.625, 35, 44, 0.795, 7, 23, 30, 21, 6, 7, 20, 30, null], [\"21995\", 1610612744, \"GOS\", \"Golden State Warriors\", \"0029500250\", \"1995-12-08\", \"GOS vs. DET\", \"L\", 265, 114, 39, 76, 0.513, 5, 17, 0.294, 31, 38, 0.816, 16, 27, 43, 27, 6, 7, 18, 35, null], [\"21995\", 1610612744, \"GOS\", \"Golden State Warriors\", \"0029500237\", \"1995-12-06\", \"GOS vs. ORL\", \"L\", 240, 107, 38, 86, 0.442, 7, 18, 0.389, 24, 33, 0.727, 21, 30, 51, 22, 9, 1, 19, 29, null], [\"21995\", 1610612744, \"GOS\", \"Golden State Warriors\", \"0029500213\", \"1995-12-02\", \"GOS vs. IND\", \"W\", 240, 100, 33, 70, 0.471, 6, 18, 0.333, 28, 37, 0.757, 10, 27, 37, 23, 9, 9, 14, 22, null], [\"21995\", 1610612744, \"GOS\", \"Golden State Warriors\", \"0029500188\", \"1995-11-29\", \"GOS vs. POR\", \"L\", 240, 98, 31, 76, 0.408, 4, 18, 0.222, 32, 41, 0.78, 11, 26, 37, 19, 10, 7, 14, 22, null], [\"21995\", 1610612744, \"GOS\", \"Golden State Warriors\", \"0029500175\", \"1995-11-27\", \"GOS @ TOR\", \"L\", 240, 98, 34, 95, 0.358, 3, 21, 0.143, 27, 32, 0.844, 20, 24, 44, 20, 9, 4, 10, 29, null], [\"21995\", 1610612744, \"GOS\", \"Golden State Warriors\", \"0029500168\", \"1995-11-25\", \"GOS @ PHL\", \"W\", 240, 107, 44, 85, 0.518, 6, 14, 0.429, 13, 19, 0.684, 15, 34, 49, 30, 15, 8, 15, 19, null], [\"21995\", 1610612744, \"GOS\", \"Golden State Warriors\", \"0029500150\", \"1995-11-24\", \"GOS @ BOS\", \"W\", 240, 101, 39, 84, 0.464, 3, 9, 0.333, 20, 29, 0.69, 17, 23, 40, 20, 13, 7, 21, 24, null], [\"21995\", 1610612744, \"GOS\", \"Golden State Warriors\", \"0029500138\", \"1995-11-22\", \"GOS @ MIA\", \"L\", 240, 93, 28, 90, 0.311, 4, 11, 0.364, 33, 38, 0.868, 15, 24, 39, 13, 8, 5, 10, 27, null], [\"21995\", 1610612744, \"GOS\", \"Golden State Warriors\", \"0029500129\", \"1995-11-20\", \"GOS @ ORL\", \"L\", 240, 95, 39, 84, 0.464, 7, 19, 0.368, 10, 15, 0.667, 13, 30, 43, 22, 12, 8, 22, 13, null], [\"21995\", 1610612744, \"GOS\", \"Golden State Warriors\", \"0029500122\", \"1995-11-18\", \"GOS vs. DAL\", \"W\", 240, 121, 44, 74, 0.595, 6, 14, 0.429, 27, 33, 0.818, 6, 25, 31, 30, 11, 6, 16, 27, null], [\"21995\", 1610612744, \"GOS\", \"Golden State Warriors\", \"0029500100\", \"1995-11-16\", \"GOS vs. NYK\", \"L\", 240, 97, 32, 73, 0.438, 7, 14, 0.5, 26, 33, 0.788, 10, 25, 35, 19, 7, 2, 18, 26, null], [\"21995\", 1610612744, \"GOS\", \"Golden State Warriors\", \"0029500083\", \"1995-11-14\", \"GOS vs. LAC\", \"L\", 240, 106, 35, 83, 0.422, 4, 12, 0.333, 32, 39, 0.821, 18, 21, 39, 15, 11, 4, 16, 18, null], [\"21995\", 1610612744, \"GOS\", \"Golden State Warriors\", \"0029500076\", \"1995-11-12\", \"GOS @ PHX\", \"L\", 240, 109, 33, 76, 0.434, 6, 13, 0.462, 37, 44, 0.841, 10, 31, 41, 19, 9, 4, 17, 38, null], [\"21995\", 1610612744, \"GOS\", \"Golden State Warriors\", \"0029500075\", \"1995-11-11\", \"GOS vs. LAL\", \"W\", 240, 123, 49, 84, 0.583, 6, 14, 0.429, 19, 26, 0.731, 9, 33, 42, 34, 8, 13, 13, 20, null], [\"21995\", 1610612744, \"GOS\", \"Golden State Warriors\", \"0029500054\", \"1995-11-09\", \"GOS vs. ATL\", \"L\", 240, 121, 45, 80, 0.563, 5, 14, 0.357, 26, 33, 0.788, 12, 18, 30, 32, 6, 2, 11, 20, null], [\"21995\", 1610612744, \"GOS\", \"Golden State Warriors\", \"0029500039\", \"1995-11-07\", \"GOS vs. DEN\", \"W\", 240, 98, 40, 83, 0.482, 4, 13, 0.308, 14, 20, 0.7, 10, 30, 40, 27, 10, 6, 10, 18, null], [\"21995\", 1610612744, \"GOS\", \"Golden State Warriors\", \"0029500015\", \"1995-11-04\", \"GOS @ DAL\", \"L\", 240, 84, 31, 78, 0.397, 3, 12, 0.25, 19, 25, 0.76, 10, 26, 36, 12, 11, 7, 13, 22, null], [\"21995\", 1610612744, \"GOS\", \"Golden State Warriors\", \"0029500006\", \"1995-11-03\", \"GOS @ HOU\", \"L\", 240, 92, 35, 88, 0.398, 5, 15, 0.333, 17, 26, 0.654, 11, 28, 39, 18, 9, 5, 11, 21, null], [\"21994\", 1610612744, \"GOS\", \"Golden State Warriors\", \"0029401099\", \"1995-04-23\", \"GOS @ POR\", \"L\", 240, 83, 28, 76, 0.368, 5, 14, 0.357, 22, 32, 0.688, 12, 26, 38, 15, 7, 1, 25, 18, null], [\"21994\", 1610612744, \"GOS\", \"Golden State Warriors\", \"0029401092\", \"1995-04-22\", \"GOS vs. DEN\", \"L\", 290, 129, 45, 96, 0.469, 6, 20, 0.3, 33, 43, 0.767, 18, 46, 64, 31, 5, 6, 24, 27, null], [\"21994\", 1610612744, \"GOS\", \"Golden State Warriors\", \"0029401080\", \"1995-04-20\", \"GOS vs. SAC\", \"L\", 240, 98, 31, 80, 0.388, 3, 12, 0.25, 33, 42, 0.786, 20, 27, 47, 24, 10, 3, 21, 30, null], [\"21994\", 1610612744, \"GOS\", \"Golden State Warriors\", \"0029401064\", \"1995-04-18\", \"GOS vs. POR\", \"W\", 240, 103, 37, 72, 0.514, 10, 15, 0.667, 19, 33, 0.576, 9, 28, 37, 29, 12, 1, 22, 17, null], [\"21994\", 1610612744, \"GOS\", \"Golden State Warriors\", \"0029401043\", \"1995-04-15\", \"GOS vs. SEA\", \"L\", 240, 99, 37, 80, 0.463, 8, 20, 0.4, 17, 24, 0.708, 16, 30, 46, 26, 6, 5, 23, 21, null], [\"21994\", 1610612744, \"GOS\", \"Golden State Warriors\", \"0029401027\", \"1995-04-13\", \"GOS @ UTH\", \"L\", 240, 102, 42, 82, 0.512, 11, 24, 0.458, 7, 12, 0.583, 8, 25, 33, 28, 11, 14, 20, 28, null], [\"21994\", 1610612744, \"GOS\", \"Golden State Warriors\", \"0029401026\", \"1995-04-12\", \"GOS @ MIN\", \"W\", 240, 123, 47, 88, 0.534, 17, 30, 0.567, 12, 17, 0.706, 17, 29, 46, 30, 4, 2, 18, 19, null], [\"21994\", 1610612744, \"GOS\", \"Golden State Warriors\", \"0029401009\", \"1995-04-10\", \"GOS @ DAL\", \"W\", 240, 123, 44, 83, 0.53, 11, 23, 0.478, 24, 35, 0.686, 11, 28, 39, 19, 9, 8, 16, 18, null], [\"21994\", 1610612744, \"GOS\", \"Golden State Warriors\", \"0029400995\", \"1995-04-08\", \"GOS vs. SAN\", \"L\", 240, 99, 44, 107, 0.411, 4, 17, 0.235, 7, 10, 0.7, 26, 20, 46, 25, 9, 4, 17, 15, null], [\"21994\", 1610612744, \"GOS\", \"Golden State Warriors\", \"0029400984\", \"1995-04-06\", \"GOS vs. HOU\", \"L\", 240, 102, 43, 87, 0.494, 7, 24, 0.292, 9, 11, 0.818, 14, 34, 48, 29, 10, 5, 22, 21, null], [\"21994\", 1610612744, \"GOS\", \"Golden State Warriors\", \"0029400968\", \"1995-04-04\", \"GOS vs. PHX\", \"W\", 240, 122, 42, 82, 0.512, 5, 15, 0.333, 33, 44, 0.75, 13, 38, 51, 35, 10, 5, 21, 21, null], [\"21994\", 1610612744, \"GOS\", \"Golden State Warriors\", \"0029400956\", \"1995-04-01\", \"GOS vs. MIN\", \"L\", 240, 104, 37, 89, 0.416, 4, 13, 0.308, 26, 38, 0.684, 21, 24, 45, 26, 9, 3, 22, 21, null], [\"21994\", 1610612744, \"GOS\", \"Golden State Warriors\", \"0029400941\", \"1995-03-30\", \"GOS vs. ATL\", \"L\", 240, 80, 32, 80, 0.4, 1, 13, 0.077, 15, 23, 0.652, 14, 30, 44, 20, 9, 3, 23, 27, null], [\"21994\", 1610612744, \"GOS\", \"Golden State Warriors\", \"0029400924\", \"1995-03-28\", \"GOS @ NJN\", \"W\", 240, 127, 47, 83, 0.566, 8, 16, 0.5, 25, 32, 0.781, 15, 30, 45, 27, 4, 8, 14, 22, null], [\"21994\", 1610612744, \"GOS\", \"Golden State Warriors\", \"0029400918\", \"1995-03-26\", \"GOS @ ORL\", \"L\", 240, 98, 36, 82, 0.439, 2, 13, 0.154, 24, 41, 0.585, 18, 27, 45, 19, 11, 2, 22, 13, null], [\"21994\", 1610612744, \"GOS\", \"Golden State Warriors\", \"0029400897\", \"1995-03-24\", \"GOS @ MIA\", \"L\", 240, 111, 42, 87, 0.483, 7, 27, 0.259, 20, 24, 0.833, 8, 36, 44, 18, 6, 4, 18, 26, null], [\"21994\", 1610612744, \"GOS\", \"Golden State Warriors\", \"0029400882\", \"1995-03-22\", \"GOS @ PHL\", \"L\", 240, 102, 41, 87, 0.471, 10, 23, 0.435, 10, 20, 0.5, 18, 23, 41, 19, 13, 2, 22, 15, null], [\"21994\", 1610612744, \"GOS\", \"Golden State Warriors\", \"0029400876\", \"1995-03-21\", \"GOS @ MIL\", \"L\", 240, 109, 43, 83, 0.518, 6, 17, 0.353, 17, 23, 0.739, 15, 27, 42, 24, 8, 4, 20, 26, null], [\"21994\", 1610612744, \"GOS\", \"Golden State Warriors\", \"0029400863\", \"1995-03-19\", \"GOS vs. DET\", \"W\", 240, 117, 40, 88, 0.455, 4, 12, 0.333, 33, 46, 0.717, 21, 33, 54, 24, 3, 7, 14, 17, null], [\"21994\", 1610612744, \"GOS\", \"Golden State Warriors\", \"0029400855\", \"1995-03-17\", \"GOS @ SAC\", \"L\", 240, 110, 40, 87, 0.46, 5, 16, 0.313, 25, 35, 0.714, 14, 21, 35, 23, 6, 5, 17, 18, null], [\"21994\", 1610612744, \"GOS\", \"Golden State Warriors\", \"0029400840\", \"1995-03-15\", \"GOS vs. LAL\", \"W\", 240, 119, 45, 93, 0.484, 10, 23, 0.435, 19, 28, 0.679, 19, 28, 47, 28, 7, 5, 14, 21, null], [\"21994\", 1610612744, \"GOS\", \"Golden State Warriors\", \"0029400823\", \"1995-03-13\", \"GOS vs. DAL\", \"L\", 240, 125, 50, 98, 0.51, 8, 21, 0.381, 17, 26, 0.654, 12, 31, 43, 28, 7, 8, 14, 29, null], [\"21994\", 1610612744, \"GOS\", \"Golden State Warriors\", \"0029400813\", \"1995-03-12\", \"GOS @ PHX\", \"W\", 265, 124, 47, 89, 0.528, 10, 32, 0.313, 20, 31, 0.645, 4, 40, 44, 32, 6, 4, 12, 30, null], [\"21994\", 1610612744, \"GOS\", \"Golden State Warriors\", \"0029400804\", \"1995-03-10\", \"GOS @ LAC\", \"L\", 240, 102, 34, 91, 0.374, 8, 25, 0.32, 26, 33, 0.788, 18, 23, 41, 19, 8, 5, 17, 28, null], [\"21994\", 1610612744, \"GOS\", \"Golden State Warriors\", \"0029400789\", \"1995-03-08\", \"GOS vs. LAC\", \"W\", 240, 120, 46, 89, 0.517, 7, 20, 0.35, 21, 26, 0.808, 17, 32, 49, 30, 10, 4, 17, 24, null], [\"21994\", 1610612744, \"GOS\", \"Golden State Warriors\", \"0029400775\", \"1995-03-06\", \"GOS @ SEA\", \"W\", 240, 106, 35, 93, 0.376, 7, 23, 0.304, 29, 33, 0.879, 20, 28, 48, 18, 8, 3, 14, 21, null], [\"21994\", 1610612744, \"GOS\", \"Golden State Warriors\", \"0029400772\", \"1995-03-05\", \"GOS vs. PHX\", \"L\", 240, 112, 44, 94, 0.468, 10, 25, 0.4, 14, 19, 0.737, 10, 29, 39, 25, 9, 5, 11, 24, null], [\"21994\", 1610612744, \"GOS\", \"Golden State Warriors\", \"0029400752\", \"1995-03-03\", \"GOS vs. CHH\", \"L\", 240, 86, 35, 92, 0.38, 5, 22, 0.227, 11, 16, 0.688, 20, 29, 49, 23, 8, 1, 22, 19, null], [\"21994\", 1610612744, \"GOS\", \"Golden State Warriors\", \"0029400743\", \"1995-03-01\", \"GOS vs. UTH\", \"L\", 240, 85, 36, 84, 0.429, 4, 13, 0.308, 9, 19, 0.474, 12, 29, 41, 25, 11, 5, 15, 22, null], [\"21994\", 1610612744, \"GOS\", \"Golden State Warriors\", \"0029400722\", \"1995-02-26\", \"GOS @ SAN\", \"L\", 240, 99, 41, 89, 0.461, 5, 21, 0.238, 12, 21, 0.571, 8, 20, 28, 21, 8, 4, 9, 20, null], [\"21994\", 1610612744, \"GOS\", \"Golden State Warriors\", \"0029400714\", \"1995-02-25\", \"GOS @ HOU\", \"L\", 240, 105, 41, 92, 0.446, 8, 18, 0.444, 15, 19, 0.789, 8, 29, 37, 24, 8, 6, 12, 16, null], [\"21994\", 1610612744, \"GOS\", \"Golden State Warriors\", \"0029400695\", \"1995-02-22\", \"GOS vs. POR\", \"L\", 240, 89, 30, 80, 0.375, 8, 20, 0.4, 21, 27, 0.778, 11, 32, 43, 22, 7, 10, 19, 18, null], [\"21994\", 1610612744, \"GOS\", \"Golden State Warriors\", \"0029400679\", \"1995-02-20\", \"GOS vs. PHL\", \"W\", 240, 98, 38, 84, 0.452, 6, 23, 0.261, 16, 22, 0.727, 10, 35, 45, 25, 8, 8, 20, 21, null], [\"21994\", 1610612744, \"GOS\", \"Golden State Warriors\", \"0029400665\", \"1995-02-18\", \"GOS vs. SEA\", \"L\", 240, 117, 43, 81, 0.531, 6, 20, 0.3, 25, 35, 0.714, 16, 25, 41, 32, 7, 6, 20, 28, null], [\"21994\", 1610612744, \"GOS\", \"Golden State Warriors\", \"0029400658\", \"1995-02-17\", \"GOS @ PHX\", \"W\", 265, 139, 54, 92, 0.587, 7, 20, 0.35, 24, 31, 0.774, 10, 30, 40, 39, 11, 1, 11, 23, null], [\"21994\", 1610612744, \"GOS\", \"Golden State Warriors\", \"0029400643\", \"1995-02-15\", \"GOS vs. BOS\", \"L\", 240, 115, 49, 87, 0.563, 4, 12, 0.333, 13, 23, 0.565, 13, 28, 41, 36, 11, 2, 18, 25, null], [\"21994\", 1610612744, \"GOS\", \"Golden State Warriors\", \"0029400637\", \"1995-02-14\", \"GOS @ SEA\", \"L\", 240, 108, 44, 84, 0.524, 7, 17, 0.412, 13, 18, 0.722, 11, 29, 40, 27, 2, 10, 17, 33, null], [\"21994\", 1610612744, \"GOS\", \"Golden State Warriors\", \"0029400627\", \"1995-02-09\", \"GOS @ DEN\", \"W\", 240, 109, 34, 67, 0.507, 9, 19, 0.474, 32, 41, 0.78, 7, 24, 31, 16, 11, 3, 13, 16, null], [\"21994\", 1610612744, \"GOS\", \"Golden State Warriors\", \"0029400612\", \"1995-02-07\", \"GOS @ MIN\", \"L\", 240, 100, 34, 83, 0.41, 5, 19, 0.263, 27, 33, 0.818, 16, 21, 37, 23, 8, 7, 11, 21, null], [\"21994\", 1610612744, \"GOS\", \"Golden State Warriors\", \"0029400598\", \"1995-02-05\", \"GOS vs. CHI\", \"L\", 240, 93, 36, 90, 0.4, 5, 25, 0.2, 16, 22, 0.727, 17, 35, 52, 21, 11, 3, 12, 17, null], [\"21994\", 1610612744, \"GOS\", \"Golden State Warriors\", \"0029400582\", \"1995-02-03\", \"GOS vs. LAC\", \"W\", 240, 106, 40, 75, 0.533, 5, 15, 0.333, 21, 32, 0.656, 15, 43, 58, 32, 8, 8, 29, 19, null], [\"21994\", 1610612744, \"GOS\", \"Golden State Warriors\", \"0029400569\", \"1995-02-01\", \"GOS @ ATL\", \"L\", 240, 99, 39, 80, 0.488, 9, 21, 0.429, 12, 15, 0.8, 11, 21, 32, 24, 7, 4, 10, 24, null], [\"21994\", 1610612744, \"GOS\", \"Golden State Warriors\", \"0029400561\", \"1995-01-31\", \"GOS @ NYK\", \"L\", 240, 87, 29, 67, 0.433, 7, 19, 0.368, 22, 34, 0.647, 11, 25, 36, 17, 11, 5, 16, 20, null], [\"21994\", 1610612744, \"GOS\", \"Golden State Warriors\", \"0029400553\", \"1995-01-29\", \"GOS @ CHI\", \"L\", 240, 94, 36, 86, 0.419, 4, 15, 0.267, 18, 27, 0.667, 17, 23, 40, 17, 7, 7, 18, 19, null], [\"21994\", 1610612744, \"GOS\", \"Golden State Warriors\", \"0029400540\", \"1995-01-27\", \"GOS @ BOS\", \"L\", 240, 91, 36, 68, 0.529, 4, 9, 0.444, 15, 27, 0.556, 7, 25, 32, 24, 6, 4, 22, 26, null], [\"21994\", 1610612744, \"GOS\", \"Golden State Warriors\", \"0029400533\", \"1995-01-26\", \"GOS @ WAS\", \"W\", 265, 121, 37, 82, 0.451, 7, 15, 0.467, 40, 48, 0.833, 13, 32, 45, 20, 10, 1, 21, 18, null], [\"21994\", 1610612744, \"GOS\", \"Golden State Warriors\", \"0029400514\", \"1995-01-24\", \"GOS vs. NJN\", \"L\", 240, 93, 37, 82, 0.451, 4, 18, 0.222, 15, 32, 0.469, 17, 29, 46, 19, 9, 4, 15, 18, null], [\"21994\", 1610612744, \"GOS\", \"Golden State Warriors\", \"0029400484\", \"1995-01-19\", \"GOS @ SAC\", \"L\", 240, 103, 37, 74, 0.5, 11, 26, 0.423, 18, 22, 0.818, 10, 22, 32, 21, 7, 2, 12, 22, null], [\"21994\", 1610612744, \"GOS\", \"Golden State Warriors\", \"0029400463\", \"1995-01-16\", \"GOS vs. DEN\", \"W\", 240, 77, 25, 74, 0.338, 4, 21, 0.19, 23, 32, 0.719, 15, 27, 42, 17, 4, 5, 9, 14, null], [\"21994\", 1610612744, \"GOS\", \"Golden State Warriors\", \"0029400452\", \"1995-01-14\", \"GOS vs. CLE\", \"L\", 265, 97, 38, 87, 0.437, 7, 22, 0.318, 14, 14, 1.0, 14, 33, 47, 23, 4, 3, 15, 23, null], [\"21994\", 1610612744, \"GOS\", \"Golden State Warriors\", \"0029400447\", \"1995-01-13\", \"GOS @ LAL\", \"L\", 240, 104, 37, 81, 0.457, 8, 23, 0.348, 22, 34, 0.647, 12, 24, 36, 24, 6, 5, 17, 18, null], [\"21994\", 1610612744, \"GOS\", \"Golden State Warriors\", \"0029400429\", \"1995-01-11\", \"GOS @ POR\", \"L\", 240, 92, 34, 86, 0.395, 6, 16, 0.375, 18, 21, 0.857, 12, 27, 39, 19, 6, 4, 21, 24, null], [\"21994\", 1610612744, \"GOS\", \"Golden State Warriors\", \"0029400420\", \"1995-01-10\", \"GOS vs. SEA\", \"L\", 265, 118, 42, 86, 0.488, 6, 23, 0.261, 28, 33, 0.848, 8, 37, 45, 34, 8, 4, 22, 26, null], [\"21994\", 1610612744, \"GOS\", \"Golden State Warriors\", \"0029400389\", \"1995-01-05\", \"GOS vs. MIL\", \"L\", 240, 103, 39, 74, 0.527, 11, 25, 0.44, 14, 25, 0.56, 7, 29, 36, 30, 9, 4, 24, 28, null], [\"21994\", 1610612744, \"GOS\", \"Golden State Warriors\", \"0029400376\", \"1995-01-03\", \"GOS vs. SAN\", \"L\", 240, 86, 33, 87, 0.379, 1, 11, 0.091, 19, 28, 0.679, 16, 32, 48, 23, 5, 3, 16, 18, null], [\"21994\", 1610612744, \"GOS\", \"Golden State Warriors\", \"0029400360\", \"1994-12-30\", \"GOS @ DAL\", \"L\", 240, 94, 32, 80, 0.4, 3, 18, 0.167, 27, 44, 0.614, 14, 29, 43, 16, 11, 6, 21, 22, null], [\"21994\", 1610612744, \"GOS\", \"Golden State Warriors\", \"0029400354\", \"1994-12-29\", \"GOS @ HOU\", \"L\", 240, 124, 45, 88, 0.511, 12, 26, 0.462, 22, 32, 0.688, 17, 28, 45, 23, 6, 1, 20, 28, null], [\"21994\", 1610612744, \"GOS\", \"Golden State Warriors\", \"0029400337\", \"1994-12-27\", \"GOS vs. LAL\", \"W\", 240, 129, 50, 97, 0.515, 12, 28, 0.429, 17, 23, 0.739, 15, 40, 55, 38, 7, 6, 24, 18, null], [\"21994\", 1610612744, \"GOS\", \"Golden State Warriors\", \"0029400307\", \"1994-12-22\", \"GOS vs. WAS\", \"W\", 240, 107, 43, 80, 0.538, 4, 16, 0.25, 17, 29, 0.586, 13, 34, 47, 34, 9, 4, 22, 18, null], [\"21994\", 1610612744, \"GOS\", \"Golden State Warriors\", \"0029400297\", \"1994-12-20\", \"GOS vs. DAL\", \"L\", 240, 107, 48, 87, 0.552, 4, 18, 0.222, 7, 14, 0.5, 13, 29, 42, 37, 4, 5, 18, 24, null], [\"21994\", 1610612744, \"GOS\", \"Golden State Warriors\", \"0029400272\", \"1994-12-16\", \"GOS vs. ORL\", \"L\", 265, 128, 51, 104, 0.49, 6, 20, 0.3, 20, 32, 0.625, 17, 25, 42, 38, 8, 2, 16, 32, null], [\"21994\", 1610612744, \"GOS\", \"Golden State Warriors\", \"0029400270\", \"1994-12-15\", \"GOS @ LAC\", \"L\", 240, 82, 32, 80, 0.4, 0, 12, 0.0, 18, 28, 0.643, 19, 29, 48, 14, 9, 1, 25, 19, null], [\"21994\", 1610612744, \"GOS\", \"Golden State Warriors\", \"0029400249\", \"1994-12-13\", \"GOS vs. SAC\", \"L\", 240, 107, 39, 73, 0.534, 4, 14, 0.286, 25, 38, 0.658, 13, 26, 39, 27, 4, 3, 12, 27, null], [\"21994\", 1610612744, \"GOS\", \"Golden State Warriors\", \"0029400241\", \"1994-12-12\", \"GOS @ PHX\", \"L\", 240, 84, 34, 77, 0.442, 2, 14, 0.143, 14, 21, 0.667, 14, 19, 33, 19, 10, 2, 15, 17, null], [\"21994\", 1610612744, \"GOS\", \"Golden State Warriors\", \"0029400236\", \"1994-12-10\", \"GOS @ SAC\", \"L\", 240, 94, 32, 77, 0.416, 9, 21, 0.429, 21, 33, 0.636, 10, 24, 34, 17, 9, 5, 14, 27, null], [\"21994\", 1610612744, \"GOS\", \"Golden State Warriors\", \"0029400221\", \"1994-12-09\", \"GOS @ POR\", \"L\", 240, 107, 41, 81, 0.506, 7, 21, 0.333, 18, 27, 0.667, 11, 28, 39, 24, 7, 6, 21, 25, null], [\"21994\", 1610612744, \"GOS\", \"Golden State Warriors\", \"0029400203\", \"1994-12-06\", \"GOS @ LAL\", \"L\", 240, 101, 36, 85, 0.424, 7, 18, 0.389, 22, 31, 0.71, 10, 32, 42, 28, 6, 5, 15, 18, null], [\"21994\", 1610612744, \"GOS\", \"Golden State Warriors\", \"0029400188\", \"1994-12-03\", \"GOS vs. IND\", \"L\", 240, 107, 44, 80, 0.55, 3, 16, 0.188, 16, 19, 0.842, 12, 24, 36, 29, 8, 2, 27, 30, null], [\"21994\", 1610612744, \"GOS\", \"Golden State Warriors\", \"0029400174\", \"1994-12-01\", \"GOS vs. HOU\", \"L\", 240, 109, 41, 84, 0.488, 8, 19, 0.421, 19, 29, 0.655, 19, 26, 45, 19, 10, 7, 16, 15, null], [\"21994\", 1610612744, \"GOS\", \"Golden State Warriors\", \"0029400166\", \"1994-11-29\", \"GOS vs. LAC\", \"W\", 265, 127, 41, 86, 0.477, 5, 20, 0.25, 40, 58, 0.69, 10, 39, 49, 27, 11, 5, 20, 27, null], [\"21994\", 1610612744, \"GOS\", \"Golden State Warriors\", \"0029400154\", \"1994-11-27\", \"GOS @ DET\", \"L\", 240, 91, 36, 84, 0.429, 8, 27, 0.296, 11, 23, 0.478, 10, 35, 45, 24, 12, 8, 22, 18, null], [\"21994\", 1610612744, \"GOS\", \"Golden State Warriors\", \"0029400147\", \"1994-11-26\", \"GOS @ CLE\", \"L\", 240, 87, 34, 82, 0.415, 3, 17, 0.176, 16, 23, 0.696, 13, 26, 39, 25, 13, 7, 16, 9, null], [\"21994\", 1610612744, \"GOS\", \"Golden State Warriors\", \"0029400132\", \"1994-11-24\", \"GOS @ IND\", \"L\", 240, 96, 33, 79, 0.418, 7, 18, 0.389, 23, 29, 0.793, 12, 19, 31, 17, 11, 4, 22, 23, null], [\"21994\", 1610612744, \"GOS\", \"Golden State Warriors\", \"0029400119\", \"1994-11-22\", \"GOS @ CHH\", \"L\", 240, 98, 35, 83, 0.422, 3, 19, 0.158, 25, 32, 0.781, 13, 32, 45, 13, 3, 9, 20, 25, null], [\"21994\", 1610612744, \"GOS\", \"Golden State Warriors\", \"0029400102\", \"1994-11-19\", \"GOS vs. UTH\", \"W\", 240, 119, 33, 74, 0.446, 8, 25, 0.32, 45, 55, 0.818, 15, 29, 44, 21, 8, 6, 18, 22, null], [\"21994\", 1610612744, \"GOS\", \"Golden State Warriors\", \"0029400091\", \"1994-11-17\", \"GOS vs. NYK\", \"W\", 240, 109, 38, 74, 0.514, 7, 19, 0.368, 26, 40, 0.65, 10, 28, 38, 26, 9, 3, 18, 21, null], [\"21994\", 1610612744, \"GOS\", \"Golden State Warriors\", \"0029400075\", \"1994-11-15\", \"GOS vs. MIN\", \"L\", 240, 112, 39, 86, 0.453, 8, 20, 0.4, 26, 45, 0.578, 18, 25, 43, 31, 9, 10, 12, 28, null], [\"21994\", 1610612744, \"GOS\", \"Golden State Warriors\", \"0029400059\", \"1994-11-12\", \"GOS vs. LAL\", \"W\", 240, 121, 43, 87, 0.494, 10, 30, 0.333, 25, 35, 0.714, 13, 41, 54, 32, 5, 7, 15, 24, null], [\"21994\", 1610612744, \"GOS\", \"Golden State Warriors\", \"0029400053\", \"1994-11-11\", \"GOS @ UTH\", \"W\", 240, 112, 37, 77, 0.481, 12, 26, 0.462, 26, 30, 0.867, 7, 30, 37, 22, 6, 6, 19, 29, null], [\"21994\", 1610612744, \"GOS\", \"Golden State Warriors\", \"0029400031\", \"1994-11-08\", \"GOS vs. MIA\", \"W\", 240, 121, 46, 86, 0.535, 4, 18, 0.222, 25, 32, 0.781, 13, 30, 43, 27, 8, 3, 16, 20, null], [\"21994\", 1610612744, \"GOS\", \"Golden State Warriors\", \"0029400017\", \"1994-11-05\", \"GOS @ DEN\", \"W\", 240, 108, 39, 76, 0.513, 11, 19, 0.579, 19, 25, 0.76, 10, 27, 37, 22, 1, 10, 19, 22, null], [\"21994\", 1610612744, \"GOS\", \"Golden State Warriors\", \"0029400004\", \"1994-11-04\", \"GOS @ SAN\", \"W\", 240, 123, 42, 86, 0.488, 12, 22, 0.545, 27, 36, 0.75, 8, 29, 37, 18, 10, 3, 11, 23, null], [\"41993\", 1610612744, \"GOS\", \"Golden State Warriors\", \"0049300024\", \"1994-05-04\", \"GOS vs. PHX\", \"L\", 240, 133, 55, 95, 0.579, 8, 15, 0.533, 15, 20, 0.75, 9, 23, 32, 40, 7, 11, 14, 28, null], [\"41993\", 1610612744, \"GOS\", \"Golden State Warriors\", \"0049300015\", \"1994-05-01\", \"GOS @ PHX\", \"L\", 240, 111, 43, 85, 0.506, 3, 16, 0.188, 22, 28, 0.786, 13, 29, 42, 28, 7, 5, 12, 27, null], [\"41993\", 1610612744, \"GOS\", \"Golden State Warriors\", \"0049300007\", \"1994-04-29\", \"GOS @ PHX\", \"L\", 240, 104, 43, 92, 0.467, 4, 13, 0.308, 14, 25, 0.56, 19, 22, 41, 26, 4, 8, 17, 25, null], [\"21993\", 1610612744, \"GOS\", \"Golden State Warriors\", \"0029301106\", \"1994-04-24\", \"GOS @ SAC\", \"L\", 240, 97, 42, 95, 0.442, 3, 18, 0.167, 10, 19, 0.526, 17, 32, 49, 27, 12, 4, 20, 23, null], [\"21993\", 1610612744, \"GOS\", \"Golden State Warriors\", \"0029301092\", \"1994-04-23\", \"GOS vs. LAL\", \"W\", 240, 126, 50, 97, 0.515, 5, 15, 0.333, 21, 27, 0.778, 18, 42, 60, 39, 7, 8, 14, 14, null], [\"21993\", 1610612744, \"GOS\", \"Golden State Warriors\", \"0029301080\", \"1994-04-21\", \"GOS vs. SAC\", \"W\", 240, 121, 50, 90, 0.556, 6, 11, 0.545, 15, 23, 0.652, 14, 40, 54, 38, 10, 3, 19, 20, null], [\"21993\", 1610612744, \"GOS\", \"Golden State Warriors\", \"0029301057\", \"1994-04-18\", \"GOS @ LAC\", \"W\", 265, 134, 56, 109, 0.514, 4, 14, 0.286, 18, 26, 0.692, 17, 28, 45, 35, 18, 6, 15, 15, null], [\"21993\", 1610612744, \"GOS\", \"Golden State Warriors\", \"0029301046\", \"1994-04-16\", \"GOS vs. UTH\", \"W\", 240, 109, 41, 81, 0.506, 4, 13, 0.308, 23, 37, 0.622, 14, 34, 48, 30, 7, 5, 23, 22, null], [\"21993\", 1610612744, \"GOS\", \"Golden State Warriors\", \"0029301032\", \"1994-04-14\", \"GOS vs. POR\", \"W\", 240, 113, 43, 91, 0.473, 6, 16, 0.375, 21, 35, 0.6, 13, 26, 39, 30, 10, 4, 17, 17, null], [\"21993\", 1610612744, \"GOS\", \"Golden State Warriors\", \"0029301016\", \"1994-04-12\", \"GOS @ LAL\", \"W\", 240, 128, 52, 87, 0.598, 1, 5, 0.2, 23, 38, 0.605, 11, 30, 41, 36, 10, 11, 13, 15, null], [\"21993\", 1610612744, \"GOS\", \"Golden State Warriors\", \"0029301006\", \"1994-04-11\", \"GOS vs. DAL\", \"W\", 240, 122, 46, 96, 0.479, 7, 14, 0.5, 23, 30, 0.767, 16, 34, 50, 33, 15, 6, 16, 10, null], [\"21993\", 1610612744, \"GOS\", \"Golden State Warriors\", \"0029300995\", \"1994-04-09\", \"GOS @ MIN\", \"W\", 240, 117, 43, 81, 0.531, 3, 12, 0.25, 28, 42, 0.667, 14, 27, 41, 29, 11, 8, 19, 25, null], [\"21993\", 1610612744, \"GOS\", \"Golden State Warriors\", \"0029300980\", \"1994-04-07\", \"GOS @ HOU\", \"L\", 240, 102, 45, 93, 0.484, 2, 9, 0.222, 10, 19, 0.526, 13, 23, 36, 28, 9, 4, 16, 19, null], [\"21993\", 1610612744, \"GOS\", \"Golden State Warriors\", \"0029300965\", \"1994-04-05\", \"GOS @ SAN\", \"W\", 240, 106, 47, 84, 0.56, 2, 4, 0.5, 10, 19, 0.526, 16, 20, 36, 21, 9, 4, 13, 16, null], [\"21993\", 1610612744, \"GOS\", \"Golden State Warriors\", \"0029300953\", \"1994-04-02\", \"GOS @ SEA\", \"L\", 240, 109, 41, 84, 0.488, 7, 13, 0.538, 20, 30, 0.667, 21, 27, 48, 22, 8, 5, 31, 33, null], [\"21993\", 1610612744, \"GOS\", \"Golden State Warriors\", \"0029300942\", \"1994-04-01\", \"GOS vs. MIN\", \"W\", 240, 146, 60, 96, 0.625, 7, 17, 0.412, 19, 28, 0.679, 13, 28, 41, 45, 12, 8, 12, 24, null], [\"21993\", 1610612744, \"GOS\", \"Golden State Warriors\", \"0029300932\", \"1994-03-30\", \"GOS vs. HOU\", \"L\", 240, 104, 41, 87, 0.471, 4, 10, 0.4, 18, 29, 0.621, 10, 33, 43, 30, 5, 3, 14, 21, null], [\"21993\", 1610612744, \"GOS\", \"Golden State Warriors\", \"0029300923\", \"1994-03-29\", \"GOS @ UTH\", \"W\", 240, 116, 40, 83, 0.482, 4, 10, 0.4, 32, 47, 0.681, 16, 31, 47, 21, 11, 10, 10, 19, null], [\"21993\", 1610612744, \"GOS\", \"Golden State Warriors\", \"0029300907\", \"1994-03-26\", \"GOS vs. SAN\", \"L\", 240, 101, 41, 79, 0.519, 4, 12, 0.333, 15, 21, 0.714, 6, 27, 33, 30, 6, 8, 15, 27, null], [\"21993\", 1610612744, \"GOS\", \"Golden State Warriors\", \"0029300894\", \"1994-03-24\", \"GOS vs. MIL\", \"W\", 240, 114, 45, 84, 0.536, 2, 10, 0.2, 22, 34, 0.647, 14, 22, 36, 29, 12, 4, 17, 24, null], [\"21993\", 1610612744, \"GOS\", \"Golden State Warriors\", \"0029300872\", \"1994-03-22\", \"GOS vs. ORL\", \"W\", 240, 117, 48, 87, 0.552, 3, 11, 0.273, 18, 29, 0.621, 13, 28, 41, 34, 9, 8, 20, 20, null], [\"21993\", 1610612744, \"GOS\", \"Golden State Warriors\", \"0029300856\", \"1994-03-19\", \"GOS @ DAL\", \"W\", 240, 116, 45, 88, 0.511, 2, 6, 0.333, 24, 29, 0.828, 23, 30, 53, 23, 9, 8, 19, 21, null], [\"21993\", 1610612744, \"GOS\", \"Golden State Warriors\", \"0029300844\", \"1994-03-17\", \"GOS @ HOU\", \"L\", 240, 99, 43, 101, 0.426, 5, 16, 0.313, 8, 12, 0.667, 16, 28, 44, 21, 12, 5, 13, 20, null], [\"21993\", 1610612744, \"GOS\", \"Golden State Warriors\", \"0029300826\", \"1994-03-15\", \"GOS vs. WAS\", \"W\", 240, 123, 53, 89, 0.596, 3, 10, 0.3, 14, 21, 0.667, 13, 33, 46, 33, 12, 9, 20, 27, null], [\"21993\", 1610612744, \"GOS\", \"Golden State Warriors\", \"0029300820\", \"1994-03-13\", \"GOS @ LAC\", \"L\", 265, 117, 49, 97, 0.505, 4, 15, 0.267, 15, 23, 0.652, 16, 30, 46, 26, 17, 8, 23, 20, null], [\"21993\", 1610612744, \"GOS\", \"Golden State Warriors\", \"0029300794\", \"1994-03-10\", \"GOS vs. POR\", \"W\", 240, 100, 34, 85, 0.4, 2, 7, 0.286, 30, 37, 0.811, 15, 39, 54, 25, 8, 3, 24, 21, null], [\"21993\", 1610612744, \"GOS\", \"Golden State Warriors\", \"0029300780\", \"1994-03-08\", \"GOS @ SEA\", \"L\", 240, 98, 37, 81, 0.457, 7, 14, 0.5, 17, 29, 0.586, 12, 23, 35, 24, 14, 3, 20, 20, null], [\"21993\", 1610612744, \"GOS\", \"Golden State Warriors\", \"0029300777\", \"1994-03-07\", \"GOS @ POR\", \"L\", 240, 108, 40, 88, 0.455, 3, 13, 0.231, 25, 30, 0.833, 6, 31, 37, 24, 7, 7, 21, 16, null], [\"21993\", 1610612744, \"GOS\", \"Golden State Warriors\", \"0029300761\", \"1994-03-05\", \"GOS vs. CHH\", \"W\", 240, 129, 50, 94, 0.532, 7, 11, 0.636, 22, 33, 0.667, 13, 32, 45, 36, 12, 8, 14, 17, null], [\"21993\", 1610612744, \"GOS\", \"Golden State Warriors\", \"0029300751\", \"1994-03-03\", \"GOS vs. PHX\", \"W\", 240, 120, 51, 90, 0.567, 6, 10, 0.6, 12, 19, 0.632, 12, 33, 45, 36, 11, 9, 16, 22, null], [\"21993\", 1610612744, \"GOS\", \"Golden State Warriors\", \"0029300739\", \"1994-03-01\", \"GOS vs. LAC\", \"W\", 240, 114, 47, 103, 0.456, 0, 6, 0.0, 20, 24, 0.833, 21, 27, 48, 30, 16, 9, 15, 21, null], [\"21993\", 1610612744, \"GOS\", \"Golden State Warriors\", \"0029300726\", \"1994-02-27\", \"GOS @ MIN\", \"L\", 240, 100, 41, 102, 0.402, 1, 11, 0.091, 17, 27, 0.63, 21, 28, 49, 27, 12, 9, 8, 24, null], [\"21993\", 1610612744, \"GOS\", \"Golden State Warriors\", \"0029300714\", \"1994-02-25\", \"GOS @ CLE\", \"L\", 240, 97, 44, 87, 0.506, 2, 6, 0.333, 7, 14, 0.5, 10, 29, 39, 21, 9, 8, 22, 21, null], [\"21993\", 1610612744, \"GOS\", \"Golden State Warriors\", \"0029300695\", \"1994-02-23\", \"GOS @ CHI\", \"L\", 240, 100, 37, 98, 0.378, 5, 20, 0.25, 21, 31, 0.677, 13, 26, 39, 15, 13, 0, 9, 21, null], [\"21993\", 1610612744, \"GOS\", \"Golden State Warriors\", \"0029300693\", \"1994-02-22\", \"GOS @ MIL\", \"W\", 240, 117, 47, 84, 0.56, 2, 8, 0.25, 21, 28, 0.75, 10, 24, 34, 33, 14, 9, 18, 26, null], [\"21993\", 1610612744, \"GOS\", \"Golden State Warriors\", \"0029300672\", \"1994-02-19\", \"GOS vs. BOS\", \"W\", 240, 101, 41, 84, 0.488, 3, 7, 0.429, 16, 22, 0.727, 12, 30, 42, 23, 11, 7, 19, 19, null], [\"21993\", 1610612744, \"GOS\", \"Golden State Warriors\", \"0029300656\", \"1994-02-17\", \"GOS vs. ATL\", \"W\", 240, 119, 50, 100, 0.5, 6, 13, 0.462, 13, 25, 0.52, 12, 34, 46, 35, 10, 6, 12, 24, null], [\"21993\", 1610612744, \"GOS\", \"Golden State Warriors\", \"0029300640\", \"1994-02-15\", \"GOS vs. SAC\", \"W\", 240, 123, 43, 80, 0.538, 2, 6, 0.333, 35, 48, 0.729, 14, 36, 50, 33, 14, 7, 20, 22, null], [\"21993\", 1610612744, \"GOS\", \"Golden State Warriors\", \"0029300629\", \"1994-02-10\", \"GOS @ NYK\", \"W\", 240, 113, 44, 83, 0.53, 4, 8, 0.5, 21, 33, 0.636, 10, 30, 40, 27, 9, 5, 16, 28, null], [\"21993\", 1610612744, \"GOS\", \"Golden State Warriors\", \"0029300627\", \"1994-02-09\", \"GOS @ CHH\", \"W\", 240, 126, 55, 97, 0.567, 5, 10, 0.5, 11, 18, 0.611, 14, 33, 47, 27, 10, 7, 14, 18, null], [\"21993\", 1610612744, \"GOS\", \"Golden State Warriors\", \"0029300609\", \"1994-02-07\", \"GOS @ IND\", \"L\", 240, 99, 41, 77, 0.532, 4, 10, 0.4, 13, 22, 0.591, 14, 23, 37, 22, 7, 7, 17, 30, null], [\"21993\", 1610612744, \"GOS\", \"Golden State Warriors\", \"0029300605\", \"1994-02-06\", \"GOS @ WAS\", \"W\", 240, 106, 47, 84, 0.56, 2, 8, 0.25, 10, 19, 0.526, 13, 33, 46, 27, 9, 6, 16, 17, null], [\"21993\", 1610612744, \"GOS\", \"Golden State Warriors\", \"0029300589\", \"1994-02-04\", \"GOS vs. CHI\", \"L\", 240, 99, 40, 78, 0.513, 4, 8, 0.5, 15, 22, 0.682, 13, 26, 39, 32, 6, 3, 20, 26, null], [\"21993\", 1610612744, \"GOS\", \"Golden State Warriors\", \"0029300570\", \"1994-02-02\", \"GOS vs. DEN\", \"W\", 240, 97, 40, 82, 0.488, 4, 10, 0.4, 13, 21, 0.619, 13, 32, 45, 20, 4, 9, 17, 22, null], [\"21993\", 1610612744, \"GOS\", \"Golden State Warriors\", \"0029300559\", \"1994-01-31\", \"GOS @ LAC\", \"W\", 240, 110, 38, 83, 0.458, 5, 12, 0.417, 29, 43, 0.674, 14, 28, 42, 26, 16, 6, 19, 21, null], [\"21993\", 1610612744, \"GOS\", \"Golden State Warriors\", \"0029300550\", \"1994-01-29\", \"GOS vs. NJN\", \"L\", 240, 106, 41, 83, 0.494, 6, 15, 0.4, 18, 32, 0.563, 14, 22, 36, 29, 11, 10, 18, 28, null], [\"21993\", 1610612744, \"GOS\", \"Golden State Warriors\", \"0029300539\", \"1994-01-28\", \"GOS @ UTH\", \"L\", 240, 91, 33, 86, 0.384, 3, 13, 0.231, 22, 31, 0.71, 20, 30, 50, 17, 7, 8, 22, 24, null], [\"21993\", 1610612744, \"GOS\", \"Golden State Warriors\", \"0029300528\", \"1994-01-26\", \"GOS vs. DET\", \"W\", 240, 108, 42, 84, 0.5, 2, 3, 0.667, 22, 33, 0.667, 13, 33, 46, 32, 11, 2, 16, 21, null], [\"21993\", 1610612744, \"GOS\", \"Golden State Warriors\", \"0029300505\", \"1994-01-22\", \"GOS @ NJN\", \"L\", 240, 98, 42, 94, 0.447, 2, 10, 0.2, 12, 16, 0.75, 19, 27, 46, 25, 6, 10, 19, 21, null], [\"21993\", 1610612744, \"GOS\", \"Golden State Warriors\", \"0029300498\", \"1994-01-21\", \"GOS @ BOS\", \"L\", 240, 116, 45, 92, 0.489, 7, 12, 0.583, 19, 30, 0.633, 13, 28, 41, 27, 8, 8, 19, 29, null], [\"21993\", 1610612744, \"GOS\", \"Golden State Warriors\", \"0029300486\", \"1994-01-19\", \"GOS @ ATL\", \"W\", 240, 120, 46, 76, 0.605, 3, 6, 0.5, 25, 35, 0.714, 11, 30, 41, 26, 9, 2, 27, 18, null], [\"21993\", 1610612744, \"GOS\", \"Golden State Warriors\", \"0029300468\", \"1994-01-17\", \"GOS vs. PHX\", \"W\", 240, 104, 39, 82, 0.476, 3, 7, 0.429, 23, 32, 0.719, 15, 28, 43, 31, 8, 11, 15, 19, null], [\"21993\", 1610612744, \"GOS\", \"Golden State Warriors\", \"0029300447\", \"1994-01-14\", \"GOS vs. SEA\", \"W\", 240, 121, 48, 88, 0.545, 7, 11, 0.636, 18, 27, 0.667, 19, 28, 47, 34, 9, 5, 18, 19, null], [\"21993\", 1610612744, \"GOS\", \"Golden State Warriors\", \"0029300431\", \"1994-01-12\", \"GOS vs. MIA\", \"W\", 240, 100, 41, 79, 0.519, 0, 4, 0.0, 18, 27, 0.667, 16, 25, 41, 28, 7, 2, 11, 20, null], [\"21993\", 1610612744, \"GOS\", \"Golden State Warriors\", \"0029300426\", \"1994-01-11\", \"GOS @ LAL\", \"W\", 240, 122, 39, 77, 0.506, 2, 5, 0.4, 42, 55, 0.764, 11, 29, 40, 23, 13, 5, 19, 24, null], [\"21993\", 1610612744, \"GOS\", \"Golden State Warriors\", \"0029300418\", \"1994-01-09\", \"GOS @ PHX\", \"L\", 240, 107, 40, 78, 0.513, 5, 11, 0.455, 22, 39, 0.564, 7, 23, 30, 21, 6, 7, 12, 20, null], [\"21993\", 1610612744, \"GOS\", \"Golden State Warriors\", \"0029300394\", \"1994-01-06\", \"GOS vs. SAN\", \"W\", 240, 102, 39, 79, 0.494, 3, 8, 0.375, 21, 43, 0.488, 11, 25, 36, 29, 11, 10, 8, 23, null], [\"21993\", 1610612744, \"GOS\", \"Golden State Warriors\", \"0029300377\", \"1994-01-04\", \"GOS vs. SAC\", \"W\", 240, 115, 44, 84, 0.524, 3, 5, 0.6, 24, 39, 0.615, 10, 27, 37, 30, 13, 7, 13, 21, null], [\"21993\", 1610612744, \"GOS\", \"Golden State Warriors\", \"0029300365\", \"1993-12-30\", \"GOS @ DEN\", \"L\", 240, 96, 34, 85, 0.4, 0, 5, 0.0, 28, 34, 0.824, 13, 39, 52, 22, 10, 13, 19, 29, null], [\"21993\", 1610612744, \"GOS\", \"Golden State Warriors\", \"0029300346\", \"1993-12-28\", \"GOS vs. PHL\", \"L\", 240, 90, 39, 93, 0.419, 0, 11, 0.0, 12, 16, 0.75, 12, 27, 39, 23, 11, 9, 17, 20, null], [\"21993\", 1610612744, \"GOS\", \"Golden State Warriors\", \"0029300336\", \"1993-12-26\", \"GOS @ POR\", \"W\", 265, 108, 46, 90, 0.511, 5, 9, 0.556, 11, 18, 0.611, 12, 34, 46, 25, 13, 7, 21, 20, null], [\"21993\", 1610612744, \"GOS\", \"Golden State Warriors\", \"0029300324\", \"1993-12-23\", \"GOS vs. LAC\", \"W\", 240, 141, 62, 103, 0.602, 3, 15, 0.2, 14, 25, 0.56, 16, 38, 54, 43, 15, 4, 17, 19, null], [\"21993\", 1610612744, \"GOS\", \"Golden State Warriors\", \"0029300308\", \"1993-12-21\", \"GOS vs. POR\", \"L\", 240, 98, 43, 82, 0.524, 1, 9, 0.111, 11, 18, 0.611, 13, 29, 42, 28, 8, 8, 17, 24, null], [\"21993\", 1610612744, \"GOS\", \"Golden State Warriors\", \"0029300292\", \"1993-12-18\", \"GOS @ SEA\", \"L\", 240, 111, 40, 85, 0.471, 3, 15, 0.2, 28, 37, 0.757, 19, 32, 51, 20, 6, 8, 25, 27, null], [\"21993\", 1610612744, \"GOS\", \"Golden State Warriors\", \"0029300283\", \"1993-12-17\", \"GOS @ SAC\", \"W\", 240, 109, 44, 92, 0.478, 6, 13, 0.462, 15, 29, 0.517, 14, 40, 54, 28, 14, 6, 15, 21, null], [\"21993\", 1610612744, \"GOS\", \"Golden State Warriors\", \"0029300263\", \"1993-12-15\", \"GOS @ PHX\", \"L\", 240, 104, 43, 89, 0.483, 4, 10, 0.4, 14, 23, 0.609, 17, 24, 41, 24, 12, 5, 16, 26, null], [\"21993\", 1610612744, \"GOS\", \"Golden State Warriors\", \"0029300249\", \"1993-12-12\", \"GOS @ LAL\", \"W\", 240, 100, 37, 84, 0.44, 4, 10, 0.4, 22, 29, 0.759, 13, 22, 35, 23, 11, 4, 11, 16, null], [\"21993\", 1610612744, \"GOS\", \"Golden State Warriors\", \"0029300240\", \"1993-12-11\", \"GOS vs. UTH\", \"W\", 265, 115, 45, 87, 0.517, 1, 8, 0.125, 24, 43, 0.558, 14, 34, 48, 30, 9, 3, 17, 17, null], [\"21993\", 1610612744, \"GOS\", \"Golden State Warriors\", \"0029300223\", \"1993-12-09\", \"GOS vs. NYK\", \"L\", 240, 81, 33, 90, 0.367, 3, 16, 0.188, 12, 22, 0.545, 25, 23, 48, 17, 10, 4, 18, 20, null], [\"21993\", 1610612744, \"GOS\", \"Golden State Warriors\", \"0029300210\", \"1993-12-07\", \"GOS vs. DEN\", \"W\", 240, 95, 36, 74, 0.486, 1, 5, 0.2, 22, 32, 0.688, 15, 32, 47, 30, 6, 3, 23, 27, null], [\"21993\", 1610612744, \"GOS\", \"Golden State Warriors\", \"0029300199\", \"1993-12-04\", \"GOS vs. IND\", \"W\", 240, 99, 40, 90, 0.444, 4, 10, 0.4, 15, 22, 0.682, 18, 21, 39, 22, 14, 2, 15, 20, null], [\"21993\", 1610612744, \"GOS\", \"Golden State Warriors\", \"0029300184\", \"1993-12-02\", \"GOS vs. MIN\", \"L\", 240, 91, 38, 78, 0.487, 0, 5, 0.0, 15, 28, 0.536, 13, 29, 42, 19, 8, 10, 24, 28, null], [\"21993\", 1610612744, \"GOS\", \"Golden State Warriors\", \"0029300169\", \"1993-11-30\", \"GOS vs. DAL\", \"W\", 240, 103, 45, 86, 0.523, 3, 9, 0.333, 10, 19, 0.526, 12, 29, 41, 30, 12, 8, 19, 15, null], [\"21993\", 1610612744, \"GOS\", \"Golden State Warriors\", \"0029300162\", \"1993-11-28\", \"GOS @ DET\", \"W\", 240, 91, 32, 77, 0.416, 4, 9, 0.444, 23, 33, 0.697, 15, 41, 56, 19, 4, 3, 15, 22, null], [\"21993\", 1610612744, \"GOS\", \"Golden State Warriors\", \"0029300143\", \"1993-11-26\", \"GOS @ PHL\", \"W\", 240, 100, 40, 88, 0.455, 3, 11, 0.273, 17, 18, 0.944, 17, 31, 48, 26, 7, 3, 14, 21, null], [\"21993\", 1610612744, \"GOS\", \"Golden State Warriors\", \"0029300134\", \"1993-11-24\", \"GOS @ MIA\", \"W\", 240, 108, 40, 80, 0.5, 2, 5, 0.4, 26, 33, 0.788, 14, 27, 41, 22, 7, 7, 12, 21, null], [\"21993\", 1610612744, \"GOS\", \"Golden State Warriors\", \"0029300127\", \"1993-11-23\", \"GOS @ ORL\", \"L\", 240, 107, 44, 97, 0.454, 4, 19, 0.211, 15, 21, 0.714, 19, 22, 41, 23, 8, 3, 16, 28, null], [\"21993\", 1610612744, \"GOS\", \"Golden State Warriors\", \"0029300114\", \"1993-11-20\", \"GOS vs. SEA\", \"L\", 240, 97, 36, 96, 0.375, 4, 15, 0.267, 21, 28, 0.75, 20, 26, 46, 21, 6, 7, 18, 24, null], [\"21993\", 1610612744, \"GOS\", \"Golden State Warriors\", \"0029300096\", \"1993-11-18\", \"GOS vs. LAL\", \"W\", 240, 103, 42, 96, 0.438, 5, 13, 0.385, 14, 27, 0.519, 26, 33, 59, 25, 10, 10, 17, 24, null], [\"21993\", 1610612744, \"GOS\", \"Golden State Warriors\", \"0029300074\", \"1993-11-16\", \"GOS vs. PHX\", \"L\", 240, 104, 44, 87, 0.506, 4, 12, 0.333, 12, 16, 0.75, 14, 21, 35, 28, 6, 7, 14, 27, null], [\"21993\", 1610612744, \"GOS\", \"Golden State Warriors\", \"0029300062\", \"1993-11-13\", \"GOS @ DEN\", \"W\", 240, 106, 43, 86, 0.5, 1, 9, 0.111, 19, 26, 0.731, 20, 29, 49, 16, 7, 9, 23, 23, null], [\"21993\", 1610612744, \"GOS\", \"Golden State Warriors\", \"0029300057\", \"1993-11-12\", \"GOS vs. CLE\", \"L\", 240, 93, 38, 79, 0.481, 4, 12, 0.333, 13, 25, 0.52, 13, 21, 34, 24, 4, 3, 17, 19, null], [\"21993\", 1610612744, \"GOS\", \"Golden State Warriors\", \"0029300038\", \"1993-11-09\", \"GOS vs. HOU\", \"L\", 240, 93, 38, 80, 0.475, 4, 12, 0.333, 13, 20, 0.65, 9, 29, 38, 23, 11, 2, 15, 22, null], [\"21993\", 1610612744, \"GOS\", \"Golden State Warriors\", \"0029300017\", \"1993-11-06\", \"GOS @ DAL\", \"W\", 240, 93, 33, 66, 0.5, 1, 6, 0.167, 26, 36, 0.722, 12, 27, 39, 18, 5, 8, 17, 26, null], [\"21993\", 1610612744, \"GOS\", \"Golden State Warriors\", \"0029300012\", \"1993-11-05\", \"GOS @ SAN\", \"L\", 240, 85, 30, 84, 0.357, 9, 17, 0.529, 16, 24, 0.667, 13, 31, 44, 14, 8, 1, 12, 28, null], [\"21992\", 1610612744, \"GOS\", \"Golden State Warriors\", \"0029201107\", \"1993-04-25\", \"GOS vs. SEA\", \"W\", 240, 119, 44, 91, 0.484, 8, 17, 0.471, 23, 26, 0.885, 17, 32, 49, 29, 7, 4, 20, 26, null], [\"21992\", 1610612744, \"GOS\", \"Golden State Warriors\", \"0029201083\", \"1993-04-23\", \"GOS @ UTH\", \"L\", 240, 91, 37, 84, 0.44, 3, 14, 0.214, 14, 26, 0.538, 18, 19, 37, 20, 9, 3, 16, 20, null], [\"21992\", 1610612744, \"GOS\", \"Golden State Warriors\", \"0029201075\", \"1993-04-21\", \"GOS vs. SAC\", \"W\", 240, 132, 53, 94, 0.564, 0, 5, 0.0, 26, 33, 0.788, 13, 43, 56, 38, 10, 14, 20, 24, null], [\"21992\", 1610612744, \"GOS\", \"Golden State Warriors\", \"0029201061\", \"1993-04-20\", \"GOS @ POR\", \"L\", 240, 99, 42, 97, 0.433, 6, 16, 0.375, 9, 11, 0.818, 13, 31, 44, 18, 6, 6, 16, 19, null], [\"21992\", 1610612744, \"GOS\", \"Golden State Warriors\", \"0029201051\", \"1993-04-18\", \"GOS @ LAL\", \"L\", 240, 112, 50, 94, 0.532, 4, 8, 0.5, 8, 14, 0.571, 17, 29, 46, 23, 9, 7, 19, 28, null], [\"21992\", 1610612744, \"GOS\", \"Golden State Warriors\", \"0029201035\", \"1993-04-16\", \"GOS @ LAC\", \"L\", 240, 115, 47, 96, 0.49, 4, 20, 0.2, 17, 19, 0.895, 14, 25, 39, 19, 12, 0, 14, 22, null], [\"21992\", 1610612744, \"GOS\", \"Golden State Warriors\", \"0029201024\", \"1993-04-14\", \"GOS vs. SAN\", \"L\", 240, 93, 33, 86, 0.384, 6, 12, 0.5, 21, 31, 0.677, 21, 30, 51, 23, 7, 9, 17, 25, null], [\"21992\", 1610612744, \"GOS\", \"Golden State Warriors\", \"0029201006\", \"1993-04-12\", \"GOS vs. DEN\", \"L\", 240, 96, 37, 97, 0.381, 2, 10, 0.2, 20, 26, 0.769, 19, 33, 52, 24, 10, 4, 17, 23, null], [\"21992\", 1610612744, \"GOS\", \"Golden State Warriors\", \"0029200994\", \"1993-04-10\", \"GOS vs. DAL\", \"W\", 240, 100, 35, 86, 0.407, 2, 9, 0.222, 28, 38, 0.737, 20, 40, 60, 21, 3, 10, 20, 26, null], [\"21992\", 1610612744, \"GOS\", \"Golden State Warriors\", \"0029200979\", \"1993-04-08\", \"GOS vs. LAL\", \"W\", 265, 122, 45, 93, 0.484, 3, 7, 0.429, 29, 42, 0.69, 25, 32, 57, 26, 7, 2, 20, 24, null], [\"21992\", 1610612744, \"GOS\", \"Golden State Warriors\", \"0029200964\", \"1993-04-06\", \"GOS @ SAN\", \"W\", 240, 125, 48, 81, 0.593, 7, 12, 0.583, 22, 28, 0.786, 6, 36, 42, 25, 8, 4, 18, 31, null], [\"21992\", 1610612744, \"GOS\", \"Golden State Warriors\", \"0029200952\", \"1993-04-03\", \"GOS @ HOU\", \"L\", 240, 111, 47, 94, 0.5, 4, 14, 0.286, 13, 18, 0.722, 16, 23, 39, 22, 3, 0, 16, 29, null], [\"21992\", 1610612744, \"GOS\", \"Golden State Warriors\", \"0029200941\", \"1993-04-02\", \"GOS @ DAL\", \"W\", 240, 134, 50, 92, 0.543, 5, 17, 0.294, 29, 37, 0.784, 21, 39, 60, 31, 11, 7, 18, 19, null], [\"21992\", 1610612744, \"GOS\", \"Golden State Warriors\", \"0029200923\", \"1993-03-30\", \"GOS vs. MIN\", \"L\", 240, 100, 40, 87, 0.46, 2, 7, 0.286, 18, 28, 0.643, 18, 27, 45, 26, 6, 3, 20, 25, null], [\"21992\", 1610612744, \"GOS\", \"Golden State Warriors\", \"0029200910\", \"1993-03-28\", \"GOS vs. NYK\", \"L\", 240, 84, 29, 79, 0.367, 5, 10, 0.5, 21, 33, 0.636, 15, 27, 42, 15, 9, 7, 12, 29, null], [\"21992\", 1610612744, \"GOS\", \"Golden State Warriors\", \"0029200900\", \"1993-03-26\", \"GOS @ MIN\", \"W\", 240, 94, 35, 80, 0.438, 6, 9, 0.667, 18, 25, 0.72, 20, 24, 44, 24, 8, 3, 16, 21, null], [\"21992\", 1610612744, \"GOS\", \"Golden State Warriors\", \"0029200887\", \"1993-03-25\", \"GOS @ DEN\", \"L\", 240, 88, 33, 84, 0.393, 2, 6, 0.333, 20, 27, 0.741, 16, 29, 45, 13, 9, 6, 16, 22, null], [\"21992\", 1610612744, \"GOS\", \"Golden State Warriors\", \"0029200866\", \"1993-03-22\", \"GOS vs. DET\", \"W\", 240, 96, 38, 85, 0.447, 3, 9, 0.333, 17, 24, 0.708, 18, 31, 49, 31, 3, 4, 15, 18, null], [\"21992\", 1610612744, \"GOS\", \"Golden State Warriors\", \"0029200849\", \"1993-03-19\", \"GOS @ SAC\", \"W\", 240, 113, 40, 78, 0.513, 4, 10, 0.4, 29, 38, 0.763, 17, 31, 48, 27, 8, 7, 25, 21, null], [\"21992\", 1610612744, \"GOS\", \"Golden State Warriors\", \"0029200841\", \"1993-03-18\", \"GOS vs. HOU\", \"L\", 240, 85, 36, 78, 0.462, 3, 10, 0.3, 10, 20, 0.5, 16, 32, 48, 22, 7, 3, 20, 19, null], [\"21992\", 1610612744, \"GOS\", \"Golden State Warriors\", \"0029200824\", \"1993-03-16\", \"GOS vs. BOS\", \"L\", 240, 88, 38, 90, 0.422, 1, 6, 0.167, 11, 19, 0.579, 16, 26, 42, 24, 11, 5, 18, 15, null], [\"21992\", 1610612744, \"GOS\", \"Golden State Warriors\", \"0029200796\", \"1993-03-11\", \"GOS vs. NJN\", \"L\", 240, 91, 34, 80, 0.425, 3, 7, 0.429, 20, 29, 0.69, 17, 29, 46, 25, 5, 4, 19, 21, null], [\"21992\", 1610612744, \"GOS\", \"Golden State Warriors\", \"0029200788\", \"1993-03-10\", \"GOS @ PHX\", \"L\", 240, 100, 41, 81, 0.506, 2, 8, 0.25, 16, 24, 0.667, 10, 29, 39, 24, 7, 6, 20, 30, null], [\"21992\", 1610612744, \"GOS\", \"Golden State Warriors\", \"0029200770\", \"1993-03-07\", \"GOS vs. POR\", \"L\", 240, 96, 36, 92, 0.391, 3, 11, 0.273, 21, 30, 0.7, 20, 28, 48, 27, 7, 4, 21, 20, null], [\"21992\", 1610612744, \"GOS\", \"Golden State Warriors\", \"0029200737\", \"1993-03-03\", \"GOS vs. LAL\", \"L\", 240, 111, 44, 80, 0.55, 4, 8, 0.5, 19, 23, 0.826, 15, 26, 41, 25, 4, 1, 23, 18, null], [\"21992\", 1610612744, \"GOS\", \"Golden State Warriors\", \"0029200726\", \"1993-03-01\", \"GOS vs. PHL\", \"W\", 240, 131, 55, 114, 0.482, 8, 16, 0.5, 13, 18, 0.722, 18, 31, 49, 43, 7, 4, 8, 16, null], [\"21992\", 1610612744, \"GOS\", \"Golden State Warriors\", \"0029200715\", \"1993-02-27\", \"GOS @ SEA\", \"L\", 240, 92, 31, 67, 0.463, 1, 8, 0.125, 29, 37, 0.784, 8, 25, 33, 16, 7, 2, 13, 23, null], [\"21992\", 1610612744, \"GOS\", \"Golden State Warriors\", \"0029200702\", \"1993-02-26\", \"GOS vs. LAC\", \"L\", 240, 98, 34, 75, 0.453, 5, 17, 0.294, 25, 40, 0.625, 12, 33, 45, 21, 11, 2, 23, 23, null], [\"21992\", 1610612744, \"GOS\", \"Golden State Warriors\", \"0029200694\", \"1993-02-24\", \"GOS vs. UTH\", \"W\", 240, 120, 43, 87, 0.494, 3, 11, 0.273, 31, 41, 0.756, 16, 23, 39, 25, 16, 2, 15, 22, null], [\"21992\", 1610612744, \"GOS\", \"Golden State Warriors\", \"0029200671\", \"1993-02-18\", \"GOS vs. SEA\", \"L\", 240, 116, 46, 89, 0.517, 7, 15, 0.467, 17, 27, 0.63, 19, 16, 35, 23, 9, 5, 20, 24, null], [\"21992\", 1610612744, \"GOS\", \"Golden State Warriors\", \"0029200654\", \"1993-02-16\", \"GOS vs. SAN\", \"W\", 240, 133, 52, 90, 0.578, 8, 13, 0.615, 21, 29, 0.724, 8, 25, 33, 38, 8, 0, 9, 23, null], [\"21992\", 1610612744, \"GOS\", \"Golden State Warriors\", \"0029200642\", \"1993-02-14\", \"GOS vs. WAS\", \"W\", 240, 114, 45, 101, 0.446, 0, 10, 0.0, 24, 28, 0.857, 19, 35, 54, 25, 13, 1, 14, 25, null], [\"21992\", 1610612744, \"GOS\", \"Golden State Warriors\", \"0029200636\", \"1993-02-13\", \"GOS @ SAC\", \"W\", 240, 111, 39, 84, 0.464, 4, 12, 0.333, 29, 32, 0.906, 11, 32, 43, 21, 8, 4, 21, 31, null], [\"21992\", 1610612744, \"GOS\", \"Golden State Warriors\", \"0029200620\", \"1993-02-11\", \"GOS vs. PHX\", \"L\", 240, 100, 43, 105, 0.41, 1, 10, 0.1, 13, 20, 0.65, 19, 29, 48, 22, 13, 6, 14, 21, null], [\"21992\", 1610612744, \"GOS\", \"Golden State Warriors\", \"0029200605\", \"1993-02-09\", \"GOS vs. ATL\", \"L\", 240, 114, 45, 92, 0.489, 3, 12, 0.25, 21, 29, 0.724, 14, 25, 39, 29, 8, 3, 13, 24, null], [\"21992\", 1610612744, \"GOS\", \"Golden State Warriors\", \"0029200595\", \"1993-02-07\", \"GOS @ BOS\", \"L\", 240, 82, 31, 69, 0.449, 3, 8, 0.375, 17, 23, 0.739, 9, 29, 38, 15, 7, 3, 12, 22, null], [\"21992\", 1610612744, \"GOS\", \"Golden State Warriors\", \"0029200580\", \"1993-02-05\", \"GOS @ WAS\", \"L\", 240, 111, 42, 86, 0.488, 1, 10, 0.1, 26, 39, 0.667, 14, 19, 33, 15, 13, 3, 16, 22, null], [\"21992\", 1610612744, \"GOS\", \"Golden State Warriors\", \"0029200578\", \"1993-02-04\", \"GOS @ NYK\", \"L\", 240, 101, 39, 86, 0.453, 3, 11, 0.273, 20, 30, 0.667, 14, 28, 42, 20, 12, 1, 15, 29, null], [\"21992\", 1610612744, \"GOS\", \"Golden State Warriors\", \"0029200564\", \"1993-02-02\", \"GOS @ CLE\", \"L\", 240, 90, 41, 86, 0.477, 2, 13, 0.154, 6, 8, 0.75, 14, 26, 40, 23, 6, 3, 22, 15, null], [\"21992\", 1610612744, \"GOS\", \"Golden State Warriors\", \"0029200557\", \"1993-02-01\", \"GOS @ MIL\", \"L\", 240, 102, 39, 83, 0.47, 3, 8, 0.375, 21, 34, 0.618, 12, 28, 40, 22, 9, 4, 23, 28, null], [\"21992\", 1610612744, \"GOS\", \"Golden State Warriors\", \"0029200538\", \"1993-01-29\", \"GOS vs. LAC\", \"L\", 240, 105, 40, 86, 0.465, 4, 16, 0.25, 21, 33, 0.636, 14, 28, 42, 30, 9, 5, 14, 19, null], [\"21992\", 1610612744, \"GOS\", \"Golden State Warriors\", \"0029200522\", \"1993-01-27\", \"GOS vs. DEN\", \"W\", 240, 123, 43, 82, 0.524, 4, 13, 0.308, 33, 41, 0.805, 12, 34, 46, 34, 11, 5, 23, 25, null], [\"21992\", 1610612744, \"GOS\", \"Golden State Warriors\", \"0029200521\", \"1993-01-26\", \"GOS @ POR\", \"L\", 240, 133, 49, 88, 0.557, 10, 18, 0.556, 25, 32, 0.781, 12, 22, 34, 27, 9, 3, 18, 30, null], [\"21992\", 1610612744, \"GOS\", \"Golden State Warriors\", \"0029200496\", \"1993-01-22\", \"GOS vs. SEA\", \"L\", 290, 114, 42, 100, 0.42, 5, 15, 0.333, 25, 34, 0.735, 13, 30, 43, 25, 16, 1, 20, 22, null], [\"21992\", 1610612744, \"GOS\", \"Golden State Warriors\", \"0029200478\", \"1993-01-20\", \"GOS vs. UTH\", \"W\", 240, 120, 43, 77, 0.558, 3, 7, 0.429, 31, 41, 0.756, 12, 26, 38, 27, 8, 5, 15, 18, null], [\"21992\", 1610612744, \"GOS\", \"Golden State Warriors\", \"0029200466\", \"1993-01-18\", \"GOS vs. SAC\", \"L\", 240, 107, 40, 88, 0.455, 4, 8, 0.5, 23, 33, 0.697, 17, 21, 38, 30, 11, 4, 13, 30, null], [\"21992\", 1610612744, \"GOS\", \"Golden State Warriors\", \"0029200454\", \"1993-01-16\", \"GOS @ IND\", \"L\", 240, 116, 42, 93, 0.452, 3, 12, 0.25, 29, 36, 0.806, 13, 32, 45, 20, 15, 7, 16, 25, null], [\"21992\", 1610612744, \"GOS\", \"Golden State Warriors\", \"0029200446\", \"1993-01-15\", \"GOS @ CHI\", \"L\", 240, 101, 41, 84, 0.488, 3, 7, 0.429, 16, 23, 0.696, 14, 23, 37, 28, 11, 1, 23, 23, null], [\"21992\", 1610612744, \"GOS\", \"Golden State Warriors\", \"0029200433\", \"1993-01-13\", \"GOS @ PHL\", \"L\", 240, 122, 50, 103, 0.485, 5, 13, 0.385, 17, 24, 0.708, 18, 32, 50, 26, 12, 2, 18, 23, null], [\"21992\", 1610612744, \"GOS\", \"Golden State Warriors\", \"0029200429\", \"1993-01-12\", \"GOS @ ATL\", \"L\", 240, 118, 47, 89, 0.528, 5, 10, 0.5, 19, 25, 0.76, 15, 29, 44, 29, 4, 4, 21, 26, null], [\"21992\", 1610612744, \"GOS\", \"Golden State Warriors\", \"0029200410\", \"1993-01-09\", \"GOS @ DET\", \"W\", 240, 108, 39, 78, 0.5, 6, 14, 0.429, 24, 42, 0.571, 7, 33, 40, 22, 6, 1, 16, 35, null], [\"21992\", 1610612744, \"GOS\", \"Golden State Warriors\", \"0029200393\", \"1993-01-07\", \"GOS vs. MIA\", \"W\", 240, 119, 38, 74, 0.514, 3, 10, 0.3, 40, 57, 0.702, 17, 22, 39, 25, 12, 2, 19, 27, null], [\"21992\", 1610612744, \"GOS\", \"Golden State Warriors\", \"0029200375\", \"1993-01-05\", \"GOS @ SEA\", \"L\", 240, 106, 40, 81, 0.494, 8, 17, 0.471, 18, 25, 0.72, 10, 19, 29, 22, 12, 10, 16, 28, null], [\"21992\", 1610612744, \"GOS\", \"Golden State Warriors\", \"0029200364\", \"1993-01-02\", \"GOS vs. HOU\", \"W\", 240, 113, 44, 84, 0.524, 2, 7, 0.286, 23, 32, 0.719, 12, 32, 44, 32, 4, 4, 13, 26, null], [\"21992\", 1610612744, \"GOS\", \"Golden State Warriors\", \"0029200346\", \"1992-12-29\", \"GOS @ HOU\", \"W\", 240, 132, 54, 86, 0.628, 5, 8, 0.625, 19, 23, 0.826, 8, 35, 43, 29, 12, 2, 21, 24, null], [\"21992\", 1610612744, \"GOS\", \"Golden State Warriors\", \"0029200336\", \"1992-12-28\", \"GOS @ SAN\", \"W\", 240, 106, 46, 99, 0.465, 3, 11, 0.273, 11, 15, 0.733, 16, 29, 45, 29, 6, 1, 13, 27, null], [\"21992\", 1610612744, \"GOS\", \"Golden State Warriors\", \"0029200325\", \"1992-12-26\", \"GOS @ DAL\", \"W\", 240, 110, 44, 89, 0.494, 2, 5, 0.4, 20, 30, 0.667, 14, 40, 54, 27, 9, 6, 15, 25, null], [\"21992\", 1610612744, \"GOS\", \"Golden State Warriors\", \"0029200315\", \"1992-12-23\", \"GOS vs. DAL\", \"W\", 240, 111, 41, 81, 0.506, 5, 13, 0.385, 24, 38, 0.632, 12, 33, 45, 20, 9, 6, 15, 19, null], [\"21992\", 1610612744, \"GOS\", \"Golden State Warriors\", \"0029200302\", \"1992-12-22\", \"GOS @ PHX\", \"L\", 240, 104, 38, 76, 0.5, 8, 14, 0.571, 20, 35, 0.571, 16, 25, 41, 19, 4, 7, 18, 23, null], [\"21992\", 1610612744, \"GOS\", \"Golden State Warriors\", \"0029200295\", \"1992-12-20\", \"GOS @ POR\", \"L\", 240, 114, 45, 90, 0.5, 3, 8, 0.375, 21, 25, 0.84, 15, 32, 47, 25, 7, 4, 25, 32, null], [\"21992\", 1610612744, \"GOS\", \"Golden State Warriors\", \"0029200292\", \"1992-12-19\", \"GOS vs. MIN\", \"W\", 265, 122, 42, 102, 0.412, 4, 11, 0.364, 34, 43, 0.791, 22, 42, 64, 28, 5, 9, 11, 20, null], [\"21992\", 1610612744, \"GOS\", \"Golden State Warriors\", \"0029200268\", \"1992-12-16\", \"GOS @ LAC\", \"W\", 265, 116, 46, 87, 0.529, 1, 6, 0.167, 23, 28, 0.821, 13, 28, 41, 27, 8, 5, 24, 24, null], [\"21992\", 1610612744, \"GOS\", \"Golden State Warriors\", \"0029200262\", \"1992-12-15\", \"GOS vs. LAC\", \"W\", 240, 109, 43, 88, 0.489, 3, 8, 0.375, 20, 33, 0.606, 15, 36, 51, 26, 8, 9, 14, 23, null], [\"21992\", 1610612744, \"GOS\", \"Golden State Warriors\", \"0029200247\", \"1992-12-12\", \"GOS @ SAC\", \"W\", 240, 124, 47, 87, 0.54, 5, 14, 0.357, 25, 30, 0.833, 12, 26, 38, 23, 8, 10, 11, 30, null], [\"21992\", 1610612744, \"GOS\", \"Golden State Warriors\", \"0029200226\", \"1992-12-10\", \"GOS vs. MIL\", \"W\", 240, 114, 39, 73, 0.534, 3, 6, 0.5, 33, 44, 0.75, 10, 29, 39, 23, 8, 5, 17, 25, null], [\"21992\", 1610612744, \"GOS\", \"Golden State Warriors\", \"0029200207\", \"1992-12-08\", \"GOS vs. IND\", \"L\", 240, 115, 43, 89, 0.483, 2, 11, 0.182, 27, 40, 0.675, 19, 26, 45, 23, 3, 8, 15, 33, null], [\"21992\", 1610612744, \"GOS\", \"Golden State Warriors\", \"0029200193\", \"1992-12-05\", \"GOS vs. ORL\", \"W\", 240, 119, 42, 95, 0.442, 1, 6, 0.167, 34, 39, 0.872, 19, 43, 62, 25, 7, 10, 15, 26, null], [\"21992\", 1610612744, \"GOS\", \"Golden State Warriors\", \"0029200184\", \"1992-12-04\", \"GOS @ DEN\", \"L\", 240, 113, 41, 91, 0.451, 4, 12, 0.333, 27, 34, 0.794, 13, 31, 44, 20, 10, 9, 19, 30, null], [\"21992\", 1610612744, \"GOS\", \"Golden State Warriors\", \"0029200173\", \"1992-12-02\", \"GOS vs. CHH\", \"L\", 240, 110, 40, 88, 0.455, 2, 4, 0.5, 28, 35, 0.8, 15, 26, 41, 23, 6, 4, 22, 28, null], [\"21992\", 1610612744, \"GOS\", \"Golden State Warriors\", \"0029200154\", \"1992-11-28\", \"GOS vs. PHX\", \"W\", 240, 134, 49, 80, 0.613, 2, 5, 0.4, 34, 48, 0.708, 8, 31, 39, 29, 8, 5, 14, 28, null], [\"21992\", 1610612744, \"GOS\", \"Golden State Warriors\", \"0029200144\", \"1992-11-27\", \"GOS @ PHX\", \"L\", 240, 107, 43, 94, 0.457, 3, 10, 0.3, 18, 24, 0.75, 18, 27, 45, 18, 7, 4, 16, 29, null], [\"21992\", 1610612744, \"GOS\", \"Golden State Warriors\", \"0029200119\", \"1992-11-24\", \"GOS vs. CHI\", \"L\", 240, 92, 39, 86, 0.453, 2, 7, 0.286, 12, 22, 0.545, 14, 22, 36, 21, 5, 3, 14, 27, null], [\"21992\", 1610612744, \"GOS\", \"Golden State Warriors\", \"0029200112\", \"1992-11-22\", \"GOS @ NJN\", \"W\", 240, 114, 46, 89, 0.517, 1, 6, 0.167, 21, 26, 0.808, 17, 31, 48, 24, 8, 6, 15, 22, null], [\"21992\", 1610612744, \"GOS\", \"Golden State Warriors\", \"0029200099\", \"1992-11-20\", \"GOS @ CHH\", \"L\", 265, 110, 44, 98, 0.449, 6, 10, 0.6, 16, 24, 0.667, 13, 32, 45, 25, 8, 8, 14, 34, null], [\"21992\", 1610612744, \"GOS\", \"Golden State Warriors\", \"0029200088\", \"1992-11-19\", \"GOS @ ORL\", \"L\", 240, 102, 39, 92, 0.424, 2, 11, 0.182, 22, 35, 0.629, 15, 26, 41, 24, 9, 5, 15, 36, null], [\"21992\", 1610612744, \"GOS\", \"Golden State Warriors\", \"0029200073\", \"1992-11-17\", \"GOS @ MIA\", \"W\", 240, 125, 48, 102, 0.471, 4, 10, 0.4, 25, 39, 0.641, 24, 26, 50, 20, 13, 8, 15, 32, null], [\"21992\", 1610612744, \"GOS\", \"Golden State Warriors\", \"0029200069\", \"1992-11-15\", \"GOS @ LAL\", \"L\", 240, 102, 46, 102, 0.451, 3, 11, 0.273, 7, 9, 0.778, 21, 29, 50, 21, 9, 4, 23, 26, null], [\"21992\", 1610612744, \"GOS\", \"Golden State Warriors\", \"0029200062\", \"1992-11-14\", \"GOS vs. POR\", \"L\", 240, 116, 42, 80, 0.525, 5, 13, 0.385, 27, 42, 0.643, 8, 29, 37, 29, 4, 4, 19, 34, null], [\"21992\", 1610612744, \"GOS\", \"Golden State Warriors\", \"0029200046\", \"1992-11-12\", \"GOS vs. CLE\", \"L\", 290, 122, 51, 101, 0.505, 4, 9, 0.444, 16, 22, 0.727, 12, 25, 37, 29, 7, 7, 19, 28, null], [\"21992\", 1610612744, \"GOS\", \"Golden State Warriors\", \"0029200034\", \"1992-11-10\", \"GOS vs. LAL\", \"L\", 240, 106, 40, 87, 0.46, 1, 8, 0.125, 25, 34, 0.735, 12, 35, 47, 21, 7, 2, 18, 32, null], [\"21992\", 1610612744, \"GOS\", \"Golden State Warriors\", \"0029200012\", \"1992-11-07\", \"GOS @ MIN\", \"W\", 265, 121, 50, 95, 0.526, 4, 6, 0.667, 17, 33, 0.515, 15, 25, 40, 23, 16, 3, 16, 28, null], [\"21992\", 1610612744, \"GOS\", \"Golden State Warriors\", \"0029200008\", \"1992-11-06\", \"GOS @ UTH\", \"W\", 240, 129, 51, 85, 0.6, 1, 6, 0.167, 26, 33, 0.788, 12, 27, 39, 22, 9, 9, 13, 31, null], [\"41991\", 1610612744, \"GOS\", \"Golden State Warriors\", \"0049100027\", \"1992-04-30\", \"GOS @ SEA\", \"L\", 240, 116, 43, 98, 0.439, 5, 15, 0.333, 25, 39, 0.641, 17, 24, 41, 24, 14, 6, 8, 26, null], [\"41991\", 1610612744, \"GOS\", \"Golden State Warriors\", \"0049100018\", \"1992-04-28\", \"GOS @ SEA\", \"L\", 240, 128, 45, 81, 0.556, 7, 13, 0.538, 31, 40, 0.775, 10, 12, 22, 28, 12, 4, 18, 27, null], [\"41991\", 1610612744, \"GOS\", \"Golden State Warriors\", \"0049100011\", \"1992-04-25\", \"GOS vs. SEA\", \"W\", 240, 115, 42, 88, 0.477, 3, 9, 0.333, 28, 42, 0.667, 16, 32, 48, 21, 7, 5, 11, 28, null], [\"41991\", 1610612744, \"GOS\", \"Golden State Warriors\", \"0049100003\", \"1992-04-23\", \"GOS vs. SEA\", \"L\", 240, 109, 40, 85, 0.471, 2, 10, 0.2, 27, 33, 0.818, 12, 22, 34, 20, 8, 4, 12, 28, null], [\"21991\", 1610612744, \"GOS\", \"Golden State Warriors\", \"0029101103\", \"1992-04-19\", \"GOS vs. SEA\", \"W\", 240, 108, 39, 79, 0.494, 5, 10, 0.5, 25, 40, 0.625, 15, 29, 44, 19, 12, 3, 24, 24, null], [\"21991\", 1610612744, \"GOS\", \"Golden State Warriors\", \"0029101091\", \"1992-04-17\", \"GOS vs. LAC\", \"W\", 240, 116, 43, 79, 0.544, 3, 8, 0.375, 27, 41, 0.659, 13, 30, 43, 28, 6, 4, 18, 28, null], [\"21991\", 1610612744, \"GOS\", \"Golden State Warriors\", \"0029101072\", \"1992-04-14\", \"GOS @ MIN\", \"W\", 240, 122, 48, 99, 0.485, 4, 7, 0.571, 22, 25, 0.88, 21, 34, 55, 30, 10, 11, 13, 22, null], [\"21991\", 1610612744, \"GOS\", \"Golden State Warriors\", \"0029101059\", \"1992-04-13\", \"GOS @ UTH\", \"L\", 240, 99, 33, 91, 0.363, 3, 14, 0.214, 30, 39, 0.769, 19, 22, 41, 19, 3, 5, 11, 32, null], [\"21991\", 1610612744, \"GOS\", \"Golden State Warriors\", \"0029101052\", \"1992-04-11\", \"GOS vs. PHX\", \"W\", 240, 134, 50, 98, 0.51, 4, 17, 0.235, 30, 37, 0.811, 23, 24, 47, 27, 7, 2, 16, 27, null], [\"21991\", 1610612744, \"GOS\", \"Golden State Warriors\", \"0029101025\", \"1992-04-08\", \"GOS vs. DAL\", \"W\", 240, 110, 37, 87, 0.425, 3, 14, 0.214, 33, 43, 0.767, 17, 39, 56, 18, 12, 7, 14, 22, null], [\"21991\", 1610612744, \"GOS\", \"Golden State Warriors\", \"0029101017\", \"1992-04-07\", \"GOS @ POR\", \"L\", 240, 101, 39, 74, 0.527, 5, 11, 0.455, 18, 26, 0.692, 11, 27, 38, 15, 6, 3, 19, 25, null], [\"21991\", 1610612744, \"GOS\", \"Golden State Warriors\", \"0029101010\", \"1992-04-05\", \"GOS vs. POR\", \"L\", 240, 122, 46, 90, 0.511, 4, 16, 0.25, 26, 34, 0.765, 12, 26, 38, 29, 11, 2, 17, 31, null], [\"21991\", 1610612744, \"GOS\", \"Golden State Warriors\", \"0029100996\", \"1992-04-03\", \"GOS vs. SAC\", \"W\", 265, 124, 50, 104, 0.481, 3, 12, 0.25, 21, 30, 0.7, 13, 42, 55, 32, 6, 8, 19, 30, null], [\"21991\", 1610612744, \"GOS\", \"Golden State Warriors\", \"0029100984\", \"1992-04-02\", \"GOS @ PHX\", \"L\", 240, 105, 41, 80, 0.513, 1, 9, 0.111, 22, 28, 0.786, 9, 24, 33, 23, 4, 4, 17, 30, null], [\"21991\", 1610612744, \"GOS\", \"Golden State Warriors\", \"0029100973\", \"1992-03-31\", \"GOS @ SAC\", \"W\", 290, 148, 57, 106, 0.538, 7, 11, 0.636, 27, 33, 0.818, 14, 38, 52, 31, 16, 4, 21, 38, null], [\"21991\", 1610612744, \"GOS\", \"Golden State Warriors\", \"0029100964\", \"1992-03-30\", \"GOS vs. PHL\", \"W\", 240, 124, 53, 95, 0.558, 4, 9, 0.444, 14, 18, 0.778, 14, 30, 44, 35, 10, 4, 13, 16, null], [\"21991\", 1610612744, \"GOS\", \"Golden State Warriors\", \"0029100955\", \"1992-03-28\", \"GOS @ NJN\", \"W\", 265, 153, 51, 103, 0.495, 4, 12, 0.333, 47, 59, 0.797, 19, 27, 46, 18, 13, 8, 17, 31, null], [\"21991\", 1610612744, \"GOS\", \"Golden State Warriors\", \"0029100944\", \"1992-03-27\", \"GOS @ IND\", \"W\", 240, 125, 49, 94, 0.521, 3, 5, 0.6, 24, 32, 0.75, 17, 22, 39, 28, 15, 1, 16, 21, null], [\"21991\", 1610612744, \"GOS\", \"Golden State Warriors\", \"0029100931\", \"1992-03-25\", \"GOS @ DET\", \"W\", 240, 103, 38, 81, 0.469, 4, 9, 0.444, 23, 29, 0.793, 13, 29, 42, 20, 7, 6, 17, 32, null], [\"21991\", 1610612744, \"GOS\", \"Golden State Warriors\", \"0029100921\", \"1992-03-23\", \"GOS @ ATL\", \"L\", 265, 125, 52, 104, 0.5, 4, 12, 0.333, 17, 20, 0.85, 14, 28, 42, 32, 9, 1, 19, 28, null], [\"21991\", 1610612744, \"GOS\", \"Golden State Warriors\", \"0029100914\", \"1992-03-22\", \"GOS @ BOS\", \"L\", 240, 97, 40, 92, 0.435, 2, 7, 0.286, 15, 22, 0.682, 12, 27, 39, 19, 7, 6, 16, 20, null], [\"21991\", 1610612744, \"GOS\", \"Golden State Warriors\", \"0029100903\", \"1992-03-20\", \"GOS @ CLE\", \"L\", 240, 107, 42, 88, 0.477, 1, 9, 0.111, 22, 31, 0.71, 13, 27, 40, 24, 9, 6, 12, 33, null], [\"21991\", 1610612744, \"GOS\", \"Golden State Warriors\", \"0029100887\", \"1992-03-18\", \"GOS vs. MIN\", \"W\", 240, 123, 45, 90, 0.5, 4, 8, 0.5, 29, 37, 0.784, 15, 29, 44, 27, 9, 4, 12, 16, null], [\"21991\", 1610612744, \"GOS\", \"Golden State Warriors\", \"0029100876\", \"1992-03-17\", \"GOS @ SEA\", \"W\", 240, 119, 45, 83, 0.542, 3, 7, 0.429, 26, 38, 0.684, 13, 27, 40, 25, 14, 8, 20, 25, null], [\"21991\", 1610612744, \"GOS\", \"Golden State Warriors\", \"0029100847\", \"1992-03-12\", \"GOS vs. DET\", \"L\", 240, 112, 42, 88, 0.477, 8, 16, 0.5, 20, 30, 0.667, 9, 31, 40, 18, 8, 5, 16, 25, null], [\"21991\", 1610612744, \"GOS\", \"Golden State Warriors\", \"0029100838\", \"1992-03-10\", \"GOS vs. NJN\", \"W\", 240, 129, 44, 80, 0.55, 2, 7, 0.286, 39, 48, 0.813, 12, 29, 41, 24, 16, 3, 22, 24, null], [\"21991\", 1610612744, \"GOS\", \"Golden State Warriors\", \"0029100821\", \"1992-03-08\", \"GOS @ LAC\", \"L\", 240, 96, 40, 81, 0.494, 3, 9, 0.333, 13, 19, 0.684, 10, 23, 33, 16, 13, 5, 17, 18, null], [\"21991\", 1610612744, \"GOS\", \"Golden State Warriors\", \"0029100816\", \"1992-03-07\", \"GOS vs. HOU\", \"W\", 240, 110, 45, 90, 0.5, 5, 10, 0.5, 15, 20, 0.75, 13, 26, 39, 33, 10, 3, 15, 21, null], [\"21991\", 1610612744, \"GOS\", \"Golden State Warriors\", \"0029100798\", \"1992-03-05\", \"GOS vs. CLE\", \"W\", 240, 116, 49, 100, 0.49, 3, 9, 0.333, 15, 19, 0.789, 16, 30, 46, 25, 14, 5, 10, 17, null], [\"21991\", 1610612744, \"GOS\", \"Golden State Warriors\", \"0029100787\", \"1992-03-03\", \"GOS vs. UTH\", \"L\", 240, 101, 41, 90, 0.456, 2, 11, 0.182, 17, 24, 0.708, 11, 20, 31, 22, 12, 1, 13, 21, null], [\"21991\", 1610612744, \"GOS\", \"Golden State Warriors\", \"0029100778\", \"1992-03-02\", \"GOS @ SAC\", \"W\", 240, 118, 50, 91, 0.549, 7, 12, 0.583, 11, 21, 0.524, 16, 31, 47, 30, 6, 5, 20, 18, null], [\"21991\", 1610612744, \"GOS\", \"Golden State Warriors\", \"0029100768\", \"1992-02-29\", \"GOS vs. MIA\", \"W\", 240, 136, 53, 92, 0.576, 6, 13, 0.462, 24, 30, 0.8, 10, 40, 50, 34, 7, 8, 18, 22, null], [\"21991\", 1610612744, \"GOS\", \"Golden State Warriors\", \"0029100750\", \"1992-02-27\", \"GOS @ SAN\", \"L\", 240, 103, 40, 87, 0.46, 3, 11, 0.273, 20, 26, 0.769, 12, 24, 36, 16, 6, 4, 14, 26, null], [\"21991\", 1610612744, \"GOS\", \"Golden State Warriors\", \"0029100741\", \"1992-02-26\", \"GOS @ HOU\", \"L\", 240, 116, 51, 81, 0.63, 1, 6, 0.167, 13, 18, 0.722, 7, 21, 28, 28, 14, 3, 14, 18, null], [\"21991\", 1610612744, \"GOS\", \"Golden State Warriors\", \"0029100729\", \"1992-02-24\", \"GOS @ DAL\", \"W\", 240, 138, 49, 81, 0.605, 6, 9, 0.667, 34, 47, 0.723, 10, 26, 36, 26, 14, 8, 16, 31, null], [\"21991\", 1610612744, \"GOS\", \"Golden State Warriors\", \"0029100717\", \"1992-02-22\", \"GOS @ LAL\", \"W\", 240, 126, 51, 84, 0.607, 5, 10, 0.5, 19, 24, 0.792, 8, 32, 40, 29, 5, 2, 20, 22, null], [\"21991\", 1610612744, \"GOS\", \"Golden State Warriors\", \"0029100707\", \"1992-02-21\", \"GOS vs. PHX\", \"W\", 240, 123, 49, 96, 0.51, 5, 11, 0.455, 20, 30, 0.667, 19, 29, 48, 27, 10, 2, 19, 23, null], [\"21991\", 1610612744, \"GOS\", \"Golden State Warriors\", \"0029100697\", \"1992-02-19\", \"GOS vs. BOS\", \"W\", 240, 117, 42, 85, 0.494, 4, 9, 0.444, 29, 36, 0.806, 10, 26, 36, 17, 8, 2, 12, 25, null], [\"21991\", 1610612744, \"GOS\", \"Golden State Warriors\", \"0029100679\", \"1992-02-17\", \"GOS vs. LAL\", \"W\", 240, 116, 49, 108, 0.454, 2, 6, 0.333, 16, 20, 0.8, 29, 29, 58, 24, 8, 3, 10, 20, null], [\"21991\", 1610612744, \"GOS\", \"Golden State Warriors\", \"0029100666\", \"1992-02-15\", \"GOS vs. SEA\", \"W\", 240, 140, 54, 95, 0.568, 2, 11, 0.182, 30, 39, 0.769, 16, 30, 46, 29, 10, 3, 11, 25, null], [\"21991\", 1610612744, \"GOS\", \"Golden State Warriors\", \"0029100655\", \"1992-02-13\", \"GOS vs. SAN\", \"W\", 240, 109, 47, 87, 0.54, 1, 6, 0.167, 14, 26, 0.538, 12, 27, 39, 31, 20, 3, 20, 16, null], [\"21991\", 1610612744, \"GOS\", \"Golden State Warriors\", \"0029100639\", \"1992-02-11\", \"GOS vs. WAS\", \"W\", 240, 139, 55, 94, 0.585, 7, 11, 0.636, 22, 32, 0.688, 12, 30, 42, 33, 15, 4, 15, 22, null], [\"21991\", 1610612744, \"GOS\", \"Golden State Warriors\", \"0029100629\", \"1992-02-06\", \"GOS @ CHH\", \"L\", 240, 113, 50, 102, 0.49, 0, 4, 0.0, 13, 23, 0.565, 19, 28, 47, 26, 9, 4, 23, 21, null], [\"21991\", 1610612744, \"GOS\", \"Golden State Warriors\", \"0029100620\", \"1992-02-05\", \"GOS @ MIA\", \"L\", 240, 124, 53, 91, 0.582, 0, 4, 0.0, 18, 24, 0.75, 8, 23, 31, 29, 8, 5, 19, 27, null], [\"21991\", 1610612744, \"GOS\", \"Golden State Warriors\", \"0029100606\", \"1992-02-03\", \"GOS @ ORL\", \"W\", 240, 122, 50, 97, 0.515, 0, 7, 0.0, 22, 28, 0.786, 18, 34, 52, 33, 8, 8, 13, 18, null], [\"21991\", 1610612744, \"GOS\", \"Golden State Warriors\", \"0029100598\", \"1992-02-02\", \"GOS @ NYK\", \"W\", 240, 120, 45, 83, 0.542, 2, 7, 0.286, 28, 32, 0.875, 13, 26, 39, 26, 8, 5, 14, 22, null], [\"21991\", 1610612744, \"GOS\", \"Golden State Warriors\", \"0029100589\", \"1992-01-31\", \"GOS vs. DEN\", \"W\", 240, 124, 46, 102, 0.451, 2, 6, 0.333, 30, 40, 0.75, 22, 34, 56, 24, 13, 9, 17, 26, null], [\"21991\", 1610612744, \"GOS\", \"Golden State Warriors\", \"0029100573\", \"1992-01-29\", \"GOS @ LAL\", \"L\", 240, 99, 42, 82, 0.512, 0, 4, 0.0, 15, 25, 0.6, 14, 28, 42, 24, 7, 4, 19, 29, null], [\"21991\", 1610612744, \"GOS\", \"Golden State Warriors\", \"0029100565\", \"1992-01-28\", \"GOS vs. POR\", \"L\", 265, 116, 49, 101, 0.485, 5, 15, 0.333, 13, 24, 0.542, 16, 30, 46, 28, 11, 5, 16, 25, null], [\"21991\", 1610612744, \"GOS\", \"Golden State Warriors\", \"0029100547\", \"1992-01-24\", \"GOS vs. NYK\", \"L\", 240, 109, 39, 79, 0.494, 0, 7, 0.0, 31, 43, 0.721, 9, 21, 30, 19, 13, 4, 9, 29, null], [\"21991\", 1610612744, \"GOS\", \"Golden State Warriors\", \"0029100526\", \"1992-01-22\", \"GOS vs. ATL\", \"W\", 240, 136, 55, 97, 0.567, 3, 8, 0.375, 23, 25, 0.92, 17, 31, 48, 36, 12, 5, 19, 17, null], [\"21991\", 1610612744, \"GOS\", \"Golden State Warriors\", \"0029100515\", \"1992-01-20\", \"GOS vs. CHH\", \"W\", 240, 135, 55, 103, 0.534, 1, 2, 0.5, 24, 36, 0.667, 18, 38, 56, 40, 14, 6, 21, 25, null], [\"21991\", 1610612744, \"GOS\", \"Golden State Warriors\", \"0029100501\", \"1992-01-18\", \"GOS @ DAL\", \"W\", 240, 143, 50, 85, 0.588, 1, 3, 0.333, 42, 53, 0.792, 9, 39, 48, 24, 10, 7, 17, 33, null], [\"21991\", 1610612744, \"GOS\", \"Golden State Warriors\", \"0029100486\", \"1992-01-16\", \"GOS @ HOU\", \"W\", 240, 98, 40, 94, 0.426, 1, 7, 0.143, 17, 23, 0.739, 13, 32, 45, 21, 7, 7, 15, 19, null], [\"21991\", 1610612744, \"GOS\", \"Golden State Warriors\", \"0029100473\", \"1992-01-14\", \"GOS @ SAN\", \"W\", 240, 124, 50, 92, 0.543, 4, 8, 0.5, 20, 23, 0.87, 6, 29, 35, 20, 5, 3, 8, 23, null], [\"21991\", 1610612744, \"GOS\", \"Golden State Warriors\", \"0029100463\", \"1992-01-11\", \"GOS @ PHX\", \"L\", 240, 118, 45, 88, 0.511, 0, 8, 0.0, 28, 40, 0.7, 9, 30, 39, 23, 8, 4, 16, 30, null], [\"21991\", 1610612744, \"GOS\", \"Golden State Warriors\", \"0029100444\", \"1992-01-10\", \"GOS vs. SAN\", \"L\", 240, 120, 47, 98, 0.48, 4, 15, 0.267, 22, 26, 0.846, 12, 31, 43, 25, 15, 5, 16, 29, null], [\"21991\", 1610612744, \"GOS\", \"Golden State Warriors\", \"0029100407\", \"1992-01-04\", \"GOS vs. IND\", \"W\", 240, 140, 50, 89, 0.562, 1, 6, 0.167, 39, 46, 0.848, 12, 35, 47, 32, 12, 4, 16, 28, null], [\"21991\", 1610612744, \"GOS\", \"Golden State Warriors\", \"0029100392\", \"1992-01-02\", \"GOS vs. DEN\", \"W\", 240, 125, 43, 87, 0.494, 4, 10, 0.4, 35, 41, 0.854, 14, 21, 35, 24, 11, 5, 18, 19, null], [\"21991\", 1610612744, \"GOS\", \"Golden State Warriors\", \"0029100384\", \"1991-12-30\", \"GOS @ LAL\", \"W\", 240, 114, 49, 88, 0.557, 4, 8, 0.5, 12, 20, 0.6, 16, 31, 47, 29, 7, 2, 15, 20, null], [\"21991\", 1610612744, \"GOS\", \"Golden State Warriors\", \"0029100366\", \"1991-12-27\", \"GOS @ MIN\", \"W\", 265, 106, 44, 100, 0.44, 2, 5, 0.4, 16, 23, 0.696, 18, 36, 54, 24, 13, 14, 18, 24, null], [\"21991\", 1610612744, \"GOS\", \"Golden State Warriors\", \"0029100361\", \"1991-12-26\", \"GOS @ DEN\", \"W\", 240, 110, 39, 80, 0.488, 3, 9, 0.333, 29, 40, 0.725, 13, 22, 35, 16, 11, 8, 13, 23, null], [\"21991\", 1610612744, \"GOS\", \"Golden State Warriors\", \"0029100334\", \"1991-12-21\", \"GOS @ SEA\", \"L\", 240, 112, 49, 89, 0.551, 1, 4, 0.25, 13, 20, 0.65, 10, 27, 37, 20, 5, 7, 14, 29, null], [\"21991\", 1610612744, \"GOS\", \"Golden State Warriors\", \"0029100325\", \"1991-12-20\", \"GOS vs. POR\", \"W\", 240, 123, 42, 84, 0.5, 2, 11, 0.182, 37, 49, 0.755, 13, 30, 43, 24, 15, 3, 19, 27, null], [\"21991\", 1610612744, \"GOS\", \"Golden State Warriors\", \"0029100309\", \"1991-12-18\", \"GOS @ LAC\", \"W\", 240, 104, 39, 89, 0.438, 1, 4, 0.25, 25, 31, 0.806, 11, 32, 43, 24, 13, 5, 15, 24, null], [\"21991\", 1610612744, \"GOS\", \"Golden State Warriors\", \"0029100303\", \"1991-12-17\", \"GOS vs. MIN\", \"W\", 240, 119, 44, 88, 0.5, 1, 3, 0.333, 30, 33, 0.909, 17, 29, 46, 21, 8, 3, 20, 23, null], [\"21991\", 1610612744, \"GOS\", \"Golden State Warriors\", \"0029100294\", \"1991-12-14\", \"GOS vs. ORL\", \"W\", 240, 128, 49, 85, 0.576, 2, 8, 0.25, 28, 33, 0.848, 12, 22, 34, 27, 13, 5, 14, 25, null], [\"21991\", 1610612744, \"GOS\", \"Golden State Warriors\", \"0029100270\", \"1991-12-12\", \"GOS vs. HOU\", \"L\", 240, 96, 35, 87, 0.402, 1, 5, 0.2, 25, 33, 0.758, 20, 32, 52, 14, 4, 4, 14, 24, null], [\"21991\", 1610612744, \"GOS\", \"Golden State Warriors\", \"0029100260\", \"1991-12-10\", \"GOS vs. LAC\", \"L\", 240, 117, 41, 96, 0.427, 2, 13, 0.154, 33, 46, 0.717, 19, 27, 46, 19, 13, 3, 10, 36, null], [\"21991\", 1610612744, \"GOS\", \"Golden State Warriors\", \"0029100244\", \"1991-12-07\", \"GOS vs. SAC\", \"W\", 240, 124, 50, 100, 0.5, 3, 7, 0.429, 21, 25, 0.84, 17, 29, 46, 28, 15, 0, 15, 16, null], [\"21991\", 1610612744, \"GOS\", \"Golden State Warriors\", \"0029100229\", \"1991-12-05\", \"GOS vs. DAL\", \"W\", 240, 117, 42, 78, 0.538, 6, 12, 0.5, 27, 39, 0.692, 6, 34, 40, 22, 14, 5, 13, 19, null], [\"21991\", 1610612744, \"GOS\", \"Golden State Warriors\", \"0029100218\", \"1991-12-03\", \"GOS vs. UTH\", \"W\", 240, 108, 44, 95, 0.463, 3, 9, 0.333, 17, 28, 0.607, 19, 31, 50, 28, 7, 7, 10, 20, null], [\"21991\", 1610612744, \"GOS\", \"Golden State Warriors\", \"0029100188\", \"1991-11-29\", \"GOS @ UTH\", \"L\", 240, 108, 43, 92, 0.467, 3, 6, 0.5, 19, 30, 0.633, 11, 19, 30, 28, 7, 2, 16, 19, null], [\"21991\", 1610612744, \"GOS\", \"Golden State Warriors\", \"0029100168\", \"1991-11-26\", \"GOS @ SEA\", \"L\", 265, 130, 49, 88, 0.557, 6, 13, 0.462, 26, 37, 0.703, 9, 28, 37, 23, 16, 4, 22, 36, null], [\"21991\", 1610612744, \"GOS\", \"Golden State Warriors\", \"0029100160\", \"1991-11-23\", \"GOS vs. MIL\", \"W\", 240, 120, 40, 74, 0.541, 5, 11, 0.455, 35, 39, 0.897, 9, 19, 28, 23, 11, 5, 15, 28, null], [\"21991\", 1610612744, \"GOS\", \"Golden State Warriors\", \"0029100145\", \"1991-11-22\", \"GOS @ POR\", \"W\", 240, 116, 45, 101, 0.446, 3, 13, 0.231, 23, 33, 0.697, 17, 30, 47, 23, 13, 3, 18, 35, null], [\"21991\", 1610612744, \"GOS\", \"Golden State Warriors\", \"0029100132\", \"1991-11-20\", \"GOS vs. CHI\", \"L\", 240, 108, 42, 93, 0.452, 4, 16, 0.25, 20, 32, 0.625, 14, 26, 40, 16, 8, 5, 12, 27, null], [\"21991\", 1610612744, \"GOS\", \"Golden State Warriors\", \"0029100112\", \"1991-11-16\", \"GOS @ LAC\", \"W\", 240, 123, 47, 93, 0.505, 4, 15, 0.267, 25, 34, 0.735, 8, 35, 43, 29, 15, 6, 19, 26, null], [\"21991\", 1610612744, \"GOS\", \"Golden State Warriors\", \"0029100096\", \"1991-11-14\", \"GOS vs. LAL\", \"L\", 240, 112, 48, 93, 0.516, 1, 9, 0.111, 15, 22, 0.682, 20, 25, 45, 29, 12, 5, 15, 28, null], [\"21991\", 1610612744, \"GOS\", \"Golden State Warriors\", \"0029100084\", \"1991-11-12\", \"GOS vs. PHX\", \"W\", 240, 119, 46, 94, 0.489, 6, 12, 0.5, 21, 28, 0.75, 15, 35, 50, 28, 12, 5, 22, 32, null], [\"21991\", 1610612744, \"GOS\", \"Golden State Warriors\", \"0029100062\", \"1991-11-09\", \"GOS @ WAS\", \"W\", 240, 127, 43, 87, 0.494, 2, 8, 0.25, 39, 49, 0.796, 15, 31, 46, 23, 6, 1, 17, 29, null], [\"21991\", 1610612744, \"GOS\", \"Golden State Warriors\", \"0029100053\", \"1991-11-08\", \"GOS @ PHL\", \"L\", 240, 116, 47, 88, 0.534, 5, 15, 0.333, 17, 24, 0.708, 8, 23, 31, 30, 19, 2, 17, 33, null], [\"21991\", 1610612744, \"GOS\", \"Golden State Warriors\", \"0029100040\", \"1991-11-06\", \"GOS @ MIL\", \"W\", 240, 120, 46, 90, 0.511, 5, 12, 0.417, 23, 31, 0.742, 18, 25, 43, 22, 12, 4, 19, 25, null], [\"21991\", 1610612744, \"GOS\", \"Golden State Warriors\", \"0029100027\", \"1991-11-05\", \"GOS @ CHI\", \"W\", 240, 118, 47, 93, 0.505, 4, 12, 0.333, 20, 29, 0.69, 14, 30, 44, 28, 9, 5, 18, 33, null], [\"21991\", 1610612744, \"GOS\", \"Golden State Warriors\", \"0029100021\", \"1991-11-02\", \"GOS vs. SAC\", \"W\", 240, 153, 58, 101, 0.574, 1, 5, 0.2, 36, 40, 0.9, 19, 41, 60, 38, 15, 4, 22, 15, null], [\"21991\", 1610612744, \"GOS\", \"Golden State Warriors\", \"0029100011\", \"1991-11-01\", \"GOS @ DEN\", \"W\", 240, 108, 41, 84, 0.488, 3, 13, 0.231, 23, 35, 0.657, 11, 32, 43, 13, 8, 2, 14, 28, null], [\"41990\", 1610612744, \"GOS\", \"Golden State Warriors\", \"0049000051\", \"1991-05-14\", \"GOS @ LAL\", \"L\", 265, 119, 45, 96, 0.469, 3, 17, 0.176, 26, 35, 0.743, 10, 32, 42, 25, 10, 9, 8, 33, null], [\"41990\", 1610612744, \"GOS\", \"Golden State Warriors\", \"0049000047\", \"1991-05-12\", \"GOS vs. LAL\", \"L\", 240, 107, 42, 85, 0.494, 3, 7, 0.429, 20, 24, 0.833, 8, 29, 37, 21, 6, 8, 14, 34, null], [\"41990\", 1610612744, \"GOS\", \"Golden State Warriors\", \"0049000041\", \"1991-05-10\", \"GOS vs. LAL\", \"L\", 240, 112, 42, 91, 0.462, 6, 15, 0.4, 22, 27, 0.815, 12, 23, 35, 23, 8, 2, 14, 26, null], [\"41990\", 1610612744, \"GOS\", \"Golden State Warriors\", \"0049000038\", \"1991-05-08\", \"GOS @ LAL\", \"W\", 240, 125, 46, 86, 0.535, 7, 12, 0.583, 26, 36, 0.722, 6, 22, 28, 28, 12, 7, 8, 36, null], [\"41990\", 1610612744, \"GOS\", \"Golden State Warriors\", \"0049000034\", \"1991-05-05\", \"GOS @ LAL\", \"L\", 240, 116, 49, 91, 0.538, 5, 14, 0.357, 13, 18, 0.722, 11, 28, 39, 32, 4, 5, 12, 26, null], [\"41990\", 1610612744, \"GOS\", \"Golden State Warriors\", \"0049000028\", \"1991-05-03\", \"GOS vs. SAN\", \"W\", 240, 110, 43, 85, 0.506, 5, 17, 0.294, 19, 23, 0.826, 9, 28, 37, 23, 11, 5, 16, 26, null], [\"41990\", 1610612744, \"GOS\", \"Golden State Warriors\", \"0049000023\", \"1991-05-01\", \"GOS vs. SAN\", \"W\", 240, 109, 44, 77, 0.571, 5, 9, 0.556, 16, 21, 0.762, 6, 30, 36, 27, 8, 3, 20, 25, null], [\"41990\", 1610612744, \"GOS\", \"Golden State Warriors\", \"0049000009\", \"1991-04-27\", \"GOS @ SAN\", \"W\", 240, 111, 39, 82, 0.476, 3, 7, 0.429, 30, 33, 0.909, 10, 29, 39, 19, 9, 7, 10, 27, null], [\"41990\", 1610612744, \"GOS\", \"Golden State Warriors\", \"0049000002\", \"1991-04-25\", \"GOS @ SAN\", \"L\", 240, 121, 44, 98, 0.449, 7, 19, 0.368, 26, 30, 0.867, 9, 29, 38, 24, 9, 8, 13, 35, null], [\"21990\", 1610612744, \"GOS\", \"Golden State Warriors\", \"0029001102\", \"1991-04-21\", \"GOS vs. UTH\", \"W\", 240, 125, 50, 87, 0.575, 4, 13, 0.308, 21, 28, 0.75, 10, 30, 40, 28, 9, 7, 13, 25, null], [\"21990\", 1610612744, \"GOS\", \"Golden State Warriors\", \"0029001089\", \"1991-04-19\", \"GOS @ LAC\", \"W\", 240, 114, 46, 95, 0.484, 2, 7, 0.286, 20, 28, 0.714, 14, 26, 40, 22, 15, 7, 15, 30, null], [\"21990\", 1610612744, \"GOS\", \"Golden State Warriors\", \"0029001075\", \"1991-04-17\", \"GOS vs. LAL\", \"W\", 240, 118, 44, 85, 0.518, 5, 10, 0.5, 25, 27, 0.926, 12, 30, 42, 17, 8, 2, 12, 26, null], [\"21990\", 1610612744, \"GOS\", \"Golden State Warriors\", \"0029001049\", \"1991-04-13\", \"GOS vs. DAL\", \"W\", 240, 132, 55, 96, 0.573, 1, 4, 0.25, 21, 28, 0.75, 14, 30, 44, 38, 12, 1, 18, 28, null], [\"21990\", 1610612744, \"GOS\", \"Golden State Warriors\", \"0029001029\", \"1991-04-11\", \"GOS vs. HOU\", \"W\", 240, 111, 38, 87, 0.437, 2, 9, 0.222, 33, 33, 1.0, 17, 32, 49, 19, 7, 4, 20, 28, null], [\"21990\", 1610612744, \"GOS\", \"Golden State Warriors\", \"0029001013\", \"1991-04-09\", \"GOS @ PHX\", \"L\", 240, 106, 37, 79, 0.468, 3, 6, 0.5, 29, 36, 0.806, 7, 29, 36, 24, 7, 4, 17, 34, null], [\"21990\", 1610612744, \"GOS\", \"Golden State Warriors\", \"0029001011\", \"1991-04-08\", \"GOS @ SAN\", \"L\", 240, 105, 45, 89, 0.506, 2, 10, 0.2, 13, 18, 0.722, 15, 15, 30, 29, 13, 8, 19, 29, null], [\"21990\", 1610612744, \"GOS\", \"Golden State Warriors\", \"0029000997\", \"1991-04-06\", \"GOS @ SAC\", \"L\", 240, 108, 44, 94, 0.468, 1, 9, 0.111, 19, 25, 0.76, 15, 28, 43, 27, 6, 6, 12, 28, null], [\"21990\", 1610612744, \"GOS\", \"Golden State Warriors\", \"0029000986\", \"1991-04-05\", \"GOS vs. PHX\", \"W\", 240, 118, 46, 96, 0.479, 2, 8, 0.25, 24, 29, 0.828, 16, 25, 41, 18, 14, 7, 14, 24, null], [\"21990\", 1610612744, \"GOS\", \"Golden State Warriors\", \"0029000975\", \"1991-04-03\", \"GOS vs. MIA\", \"W\", 240, 127, 43, 75, 0.573, 6, 8, 0.75, 35, 36, 0.972, 15, 25, 40, 34, 13, 5, 22, 22, null], [\"21990\", 1610612744, \"GOS\", \"Golden State Warriors\", \"0029000960\", \"1991-03-31\", \"GOS @ IND\", \"L\", 265, 120, 45, 96, 0.469, 3, 10, 0.3, 27, 35, 0.771, 23, 26, 49, 23, 5, 2, 14, 29, null], [\"21990\", 1610612744, \"GOS\", \"Golden State Warriors\", \"0029000945\", \"1991-03-29\", \"GOS @ DET\", \"L\", 240, 105, 39, 88, 0.443, 3, 11, 0.273, 24, 34, 0.706, 11, 23, 34, 24, 8, 1, 10, 26, null], [\"21990\", 1610612744, \"GOS\", \"Golden State Warriors\", \"0029000938\", \"1991-03-28\", \"GOS @ NYK\", \"W\", 240, 106, 40, 95, 0.421, 4, 7, 0.571, 22, 28, 0.786, 17, 34, 51, 22, 8, 1, 9, 21, null], [\"21990\", 1610612744, \"GOS\", \"Golden State Warriors\", \"0029000925\", \"1991-03-26\", \"GOS @ CHH\", \"L\", 240, 94, 37, 76, 0.487, 3, 13, 0.231, 17, 26, 0.654, 5, 29, 34, 22, 7, 10, 21, 27, null], [\"21990\", 1610612744, \"GOS\", \"Golden State Warriors\", \"0029000920\", \"1991-03-25\", \"GOS @ ORL\", \"L\", 240, 106, 40, 95, 0.421, 3, 13, 0.231, 23, 29, 0.793, 17, 23, 40, 19, 14, 5, 15, 29, null], [\"21990\", 1610612744, \"GOS\", \"Golden State Warriors\", \"0029000906\", \"1991-03-23\", \"GOS vs. LAC\", \"L\", 240, 104, 40, 83, 0.482, 4, 13, 0.308, 20, 32, 0.625, 15, 30, 45, 24, 7, 3, 15, 30, null], [\"21990\", 1610612744, \"GOS\", \"Golden State Warriors\", \"0029000890\", \"1991-03-21\", \"GOS vs. DEN\", \"W\", 240, 136, 42, 86, 0.488, 3, 7, 0.429, 49, 60, 0.817, 17, 32, 49, 29, 4, 7, 16, 24, null], [\"21990\", 1610612744, \"GOS\", \"Golden State Warriors\", \"0029000874\", \"1991-03-19\", \"GOS vs. POR\", \"W\", 240, 136, 47, 84, 0.56, 6, 11, 0.545, 36, 45, 0.8, 16, 23, 39, 26, 7, 2, 21, 25, null], [\"21990\", 1610612744, \"GOS\", \"Golden State Warriors\", \"0029000862\", \"1991-03-17\", \"GOS @ HOU\", \"L\", 240, 119, 41, 83, 0.494, 6, 12, 0.5, 31, 34, 0.912, 12, 22, 34, 22, 7, 0, 15, 26, null], [\"21990\", 1610612744, \"GOS\", \"Golden State Warriors\", \"0029000853\", \"1991-03-16\", \"GOS @ DAL\", \"W\", 240, 117, 47, 85, 0.553, 3, 7, 0.429, 20, 28, 0.714, 6, 33, 39, 20, 9, 8, 10, 22, null], [\"21990\", 1610612744, \"GOS\", \"Golden State Warriors\", \"0029000841\", \"1991-03-14\", \"GOS vs. SAN\", \"L\", 240, 99, 36, 86, 0.419, 4, 13, 0.308, 23, 29, 0.793, 13, 18, 31, 22, 16, 1, 12, 23, null], [\"21990\", 1610612744, \"GOS\", \"Golden State Warriors\", \"0029000826\", \"1991-03-12\", \"GOS vs. IND\", \"W\", 240, 129, 49, 83, 0.59, 6, 14, 0.429, 25, 31, 0.806, 10, 25, 35, 26, 8, 2, 14, 23, null], [\"21990\", 1610612744, \"GOS\", \"Golden State Warriors\", \"0029000815\", \"1991-03-10\", \"GOS vs. SAC\", \"W\", 240, 97, 36, 84, 0.429, 3, 8, 0.375, 22, 24, 0.917, 13, 22, 35, 21, 12, 10, 13, 19, null], [\"21990\", 1610612744, \"GOS\", \"Golden State Warriors\", \"0029000797\", \"1991-03-07\", \"GOS vs. CLE\", \"W\", 240, 122, 51, 91, 0.56, 3, 9, 0.333, 17, 19, 0.895, 12, 37, 49, 32, 10, 8, 19, 30, null], [\"21990\", 1610612744, \"GOS\", \"Golden State Warriors\", \"0029000781\", \"1991-03-05\", \"GOS @ SAC\", \"L\", 240, 92, 27, 82, 0.329, 3, 11, 0.273, 35, 47, 0.745, 17, 37, 54, 14, 6, 11, 20, 29, null], [\"21990\", 1610612744, \"GOS\", \"Golden State Warriors\", \"0029000772\", \"1991-03-04\", \"GOS vs. SEA\", \"L\", 240, 99, 34, 85, 0.4, 4, 15, 0.267, 27, 36, 0.75, 19, 27, 46, 19, 8, 5, 24, 30, null], [\"21990\", 1610612744, \"GOS\", \"Golden State Warriors\", \"0029000763\", \"1991-03-02\", \"GOS vs. CHH\", \"W\", 240, 121, 40, 88, 0.455, 7, 12, 0.583, 34, 38, 0.895, 19, 35, 54, 25, 10, 3, 26, 30, null], [\"21990\", 1610612744, \"GOS\", \"Golden State Warriors\", \"0029000737\", \"1991-02-27\", \"GOS @ UTH\", \"L\", 240, 103, 35, 90, 0.389, 2, 5, 0.4, 31, 42, 0.738, 18, 30, 48, 18, 9, 4, 16, 32, null], [\"21990\", 1610612744, \"GOS\", \"Golden State Warriors\", \"0029000729\", \"1991-02-26\", \"GOS vs. ORL\", \"L\", 240, 119, 44, 92, 0.478, 3, 15, 0.2, 28, 33, 0.848, 13, 23, 36, 21, 5, 12, 15, 37, null], [\"21990\", 1610612744, \"GOS\", \"Golden State Warriors\", \"0029000711\", \"1991-02-23\", \"GOS @ DEN\", \"L\", 240, 145, 52, 99, 0.525, 5, 14, 0.357, 36, 46, 0.783, 12, 29, 41, 12, 11, 4, 21, 32, null], [\"21990\", 1610612744, \"GOS\", \"Golden State Warriors\", \"0029000699\", \"1991-02-22\", \"GOS vs. UTH\", \"L\", 240, 104, 36, 86, 0.419, 3, 11, 0.273, 29, 34, 0.853, 13, 27, 40, 24, 7, 7, 18, 31, null], [\"21990\", 1610612744, \"GOS\", \"Golden State Warriors\", \"0029000691\", \"1991-02-20\", \"GOS @ MIN\", \"W\", 240, 108, 37, 82, 0.451, 3, 13, 0.231, 31, 38, 0.816, 14, 29, 43, 24, 6, 7, 12, 27, null], [\"21990\", 1610612744, \"GOS\", \"Golden State Warriors\", \"0029000675\", \"1991-02-18\", \"GOS vs. DAL\", \"L\", 240, 101, 41, 84, 0.488, 1, 9, 0.111, 18, 21, 0.857, 12, 22, 34, 19, 11, 2, 17, 20, null], [\"21990\", 1610612744, \"GOS\", \"Golden State Warriors\", \"0029000664\", \"1991-02-16\", \"GOS vs. PHL\", \"W\", 240, 133, 50, 97, 0.515, 7, 20, 0.35, 26, 27, 0.963, 15, 20, 35, 29, 13, 6, 11, 29, null], [\"21990\", 1610612744, \"GOS\", \"Golden State Warriors\", \"0029000652\", \"1991-02-14\", \"GOS vs. BOS\", \"L\", 240, 112, 40, 92, 0.435, 4, 14, 0.286, 28, 34, 0.824, 14, 26, 40, 24, 10, 3, 17, 24, null], [\"21990\", 1610612744, \"GOS\", \"Golden State Warriors\", \"0029000641\", \"1991-02-12\", \"GOS vs. MIN\", \"W\", 240, 126, 47, 82, 0.573, 2, 10, 0.2, 30, 41, 0.732, 14, 25, 39, 27, 15, 6, 21, 30, null], [\"21990\", 1610612744, \"GOS\", \"Golden State Warriors\", \"0029000623\", \"1991-02-07\", \"GOS @ DAL\", \"L\", 240, 101, 41, 93, 0.441, 3, 12, 0.25, 16, 21, 0.762, 11, 28, 39, 16, 8, 5, 6, 25, null], [\"21990\", 1610612744, \"GOS\", \"Golden State Warriors\", \"0029000607\", \"1991-02-05\", \"GOS @ SAN\", \"W\", 240, 112, 46, 100, 0.46, 8, 18, 0.444, 12, 17, 0.706, 11, 34, 45, 25, 7, 2, 8, 24, null], [\"21990\", 1610612744, \"GOS\", \"Golden State Warriors\", \"0029000599\", \"1991-02-03\", \"GOS @ HOU\", \"L\", 290, 135, 50, 101, 0.495, 5, 14, 0.357, 30, 38, 0.789, 16, 30, 46, 22, 9, 4, 19, 37, null], [\"21990\", 1610612744, \"GOS\", \"Golden State Warriors\", \"0029000588\", \"1991-02-01\", \"GOS @ POR\", \"L\", 240, 99, 37, 88, 0.42, 5, 13, 0.385, 20, 30, 0.667, 10, 28, 38, 17, 9, 6, 18, 31, null], [\"21990\", 1610612744, \"GOS\", \"Golden State Warriors\", \"0029000580\", \"1991-01-31\", \"GOS vs. LAC\", \"W\", 240, 135, 49, 96, 0.51, 3, 9, 0.333, 34, 41, 0.829, 13, 25, 38, 27, 18, 3, 16, 23, null], [\"21990\", 1610612744, \"GOS\", \"Golden State Warriors\", \"0029000559\", \"1991-01-28\", \"GOS vs. NYK\", \"W\", 240, 115, 43, 96, 0.448, 5, 12, 0.417, 24, 27, 0.889, 17, 28, 45, 23, 13, 3, 12, 23, null], [\"21990\", 1610612744, \"GOS\", \"Golden State Warriors\", \"0029000540\", \"1991-01-25\", \"GOS vs. MIL\", \"W\", 240, 127, 51, 93, 0.548, 8, 14, 0.571, 17, 18, 0.944, 16, 28, 44, 28, 11, 6, 17, 37, null], [\"21990\", 1610612744, \"GOS\", \"Golden State Warriors\", \"0029000517\", \"1991-01-22\", \"GOS vs. HOU\", \"W\", 240, 123, 44, 85, 0.518, 3, 9, 0.333, 32, 37, 0.865, 11, 21, 32, 26, 17, 5, 17, 23, null], [\"21990\", 1610612744, \"GOS\", \"Golden State Warriors\", \"0029000506\", \"1991-01-19\", \"GOS @ MIN\", \"L\", 240, 113, 44, 98, 0.449, 4, 13, 0.308, 21, 28, 0.75, 22, 26, 48, 26, 9, 7, 19, 21, null], [\"21990\", 1610612744, \"GOS\", \"Golden State Warriors\", \"0029000495\", \"1991-01-18\", \"GOS @ PHL\", \"W\", 265, 141, 55, 102, 0.539, 3, 9, 0.333, 28, 32, 0.875, 8, 31, 39, 36, 11, 1, 14, 26, null], [\"21990\", 1610612744, \"GOS\", \"Golden State Warriors\", \"0029000486\", \"1991-01-16\", \"GOS @ BOS\", \"W\", 240, 110, 40, 90, 0.444, 3, 9, 0.333, 27, 32, 0.844, 11, 32, 43, 22, 5, 5, 10, 20, null], [\"21990\", 1610612744, \"GOS\", \"Golden State Warriors\", \"0029000473\", \"1991-01-15\", \"GOS @ NJN\", \"W\", 265, 112, 43, 104, 0.413, 3, 9, 0.333, 23, 29, 0.793, 24, 33, 57, 17, 13, 13, 14, 29, null], [\"21990\", 1610612744, \"GOS\", \"Golden State Warriors\", \"0029000454\", \"1991-01-12\", \"GOS vs. PHX\", \"L\", 240, 118, 45, 88, 0.511, 3, 7, 0.429, 25, 32, 0.781, 8, 29, 37, 27, 7, 5, 15, 25, null], [\"21990\", 1610612744, \"GOS\", \"Golden State Warriors\", \"0029000444\", \"1991-01-10\", \"GOS @ SEA\", \"W\", 240, 113, 46, 79, 0.582, 2, 8, 0.25, 19, 29, 0.655, 7, 31, 38, 23, 6, 5, 16, 25, null], [\"21990\", 1610612744, \"GOS\", \"Golden State Warriors\", \"0029000427\", \"1991-01-08\", \"GOS vs. DEN\", \"W\", 240, 147, 51, 91, 0.56, 5, 11, 0.455, 40, 48, 0.833, 9, 34, 43, 31, 11, 6, 18, 16, null], [\"21990\", 1610612744, \"GOS\", \"Golden State Warriors\", \"0029000417\", \"1991-01-06\", \"GOS @ LAL\", \"L\", 240, 108, 40, 99, 0.404, 3, 12, 0.25, 25, 31, 0.806, 15, 18, 33, 16, 15, 1, 10, 20, null], [\"21990\", 1610612744, \"GOS\", \"Golden State Warriors\", \"0029000397\", \"1991-01-04\", \"GOS vs. LAL\", \"W\", 240, 115, 46, 93, 0.495, 3, 7, 0.429, 20, 28, 0.714, 15, 30, 45, 20, 7, 0, 10, 20, null], [\"21990\", 1610612744, \"GOS\", \"Golden State Warriors\", \"0029000391\", \"1991-01-03\", \"GOS @ SAC\", \"L\", 240, 113, 39, 87, 0.448, 4, 10, 0.4, 31, 45, 0.689, 17, 18, 35, 21, 11, 3, 18, 31, null], [\"21990\", 1610612744, \"GOS\", \"Golden State Warriors\", \"0029000373\", \"1990-12-29\", \"GOS @ ATL\", \"L\", 240, 130, 44, 76, 0.579, 7, 12, 0.583, 35, 43, 0.814, 9, 26, 35, 25, 9, 3, 21, 33, null], [\"21990\", 1610612744, \"GOS\", \"Golden State Warriors\", \"0029000356\", \"1990-12-27\", \"GOS @ CHI\", \"L\", 240, 113, 44, 103, 0.427, 5, 11, 0.455, 20, 27, 0.741, 21, 24, 45, 22, 8, 0, 12, 22, null], [\"21990\", 1610612744, \"GOS\", \"Golden State Warriors\", \"0029000353\", \"1990-12-26\", \"GOS @ MIL\", \"L\", 240, 119, 44, 89, 0.494, 2, 11, 0.182, 29, 35, 0.829, 14, 23, 37, 20, 15, 2, 18, 37, null], [\"21990\", 1610612744, \"GOS\", \"Golden State Warriors\", \"0029000328\", \"1990-12-22\", \"GOS vs. MIN\", \"W\", 240, 115, 42, 79, 0.532, 1, 6, 0.167, 30, 41, 0.732, 11, 19, 30, 26, 5, 4, 10, 22, null], [\"21990\", 1610612744, \"GOS\", \"Golden State Warriors\", \"0029000318\", \"1990-12-20\", \"GOS vs. POR\", \"W\", 240, 125, 44, 87, 0.506, 4, 11, 0.364, 33, 39, 0.846, 12, 31, 43, 20, 6, 3, 19, 27, null], [\"21990\", 1610612744, \"GOS\", \"Golden State Warriors\", \"0029000301\", \"1990-12-18\", \"GOS @ POR\", \"L\", 240, 94, 35, 85, 0.412, 0, 3, 0.0, 24, 35, 0.686, 17, 33, 50, 20, 9, 4, 20, 27, null], [\"21990\", 1610612744, \"GOS\", \"Golden State Warriors\", \"0029000285\", \"1990-12-15\", \"GOS vs. LAL\", \"L\", 240, 109, 47, 95, 0.495, 1, 12, 0.083, 14, 17, 0.824, 9, 27, 36, 29, 7, 3, 10, 26, null], [\"21990\", 1610612744, \"GOS\", \"Golden State Warriors\", \"0029000269\", \"1990-12-13\", \"GOS vs. SEA\", \"W\", 240, 129, 52, 93, 0.559, 1, 6, 0.167, 24, 29, 0.828, 11, 32, 43, 30, 12, 4, 22, 21, null], [\"21990\", 1610612744, \"GOS\", \"Golden State Warriors\", \"0029000256\", \"1990-12-11\", \"GOS @ UTH\", \"L\", 240, 117, 43, 96, 0.448, 1, 10, 0.1, 30, 35, 0.857, 8, 19, 27, 23, 15, 1, 14, 32, null], [\"21990\", 1610612744, \"GOS\", \"Golden State Warriors\", \"0029000232\", \"1990-12-07\", \"GOS vs. DET\", \"W\", 240, 113, 46, 78, 0.59, 4, 6, 0.667, 17, 23, 0.739, 9, 30, 39, 27, 7, 4, 20, 22, null], [\"21990\", 1610612744, \"GOS\", \"Golden State Warriors\", \"0029000224\", \"1990-12-05\", \"GOS vs. WAS\", \"L\", 240, 98, 36, 93, 0.387, 2, 11, 0.182, 24, 35, 0.686, 19, 29, 48, 14, 11, 5, 16, 18, null], [\"21990\", 1610612744, \"GOS\", \"Golden State Warriors\", \"0029000202\", \"1990-12-01\", \"GOS @ MIA\", \"W\", 240, 137, 50, 90, 0.556, 6, 10, 0.6, 31, 38, 0.816, 11, 32, 43, 25, 17, 7, 19, 26, null], [\"21990\", 1610612744, \"GOS\", \"Golden State Warriors\", \"0029000186\", \"1990-11-30\", \"GOS @ ORL\", \"W\", 240, 119, 45, 99, 0.455, 1, 8, 0.125, 28, 31, 0.903, 18, 29, 47, 32, 11, 12, 17, 26, null], [\"21990\", 1610612744, \"GOS\", \"Golden State Warriors\", \"0029000177\", \"1990-11-28\", \"GOS @ CLE\", \"W\", 240, 110, 45, 93, 0.484, 2, 6, 0.333, 18, 24, 0.75, 9, 28, 37, 30, 8, 3, 8, 26, null], [\"21990\", 1610612744, \"GOS\", \"Golden State Warriors\", \"0029000170\", \"1990-11-27\", \"GOS @ WAS\", \"L\", 240, 113, 41, 88, 0.466, 7, 11, 0.636, 24, 35, 0.686, 10, 22, 32, 18, 9, 6, 18, 32, null], [\"21990\", 1610612744, \"GOS\", \"Golden State Warriors\", \"0029000149\", \"1990-11-24\", \"GOS vs. NJN\", \"L\", 240, 113, 40, 99, 0.404, 0, 10, 0.0, 33, 47, 0.702, 26, 27, 53, 19, 10, 4, 11, 22, null], [\"21990\", 1610612744, \"GOS\", \"Golden State Warriors\", \"0029000147\", \"1990-11-23\", \"GOS @ POR\", \"L\", 240, 119, 46, 97, 0.474, 0, 7, 0.0, 27, 37, 0.73, 18, 26, 44, 26, 7, 0, 22, 37, null], [\"21990\", 1610612744, \"GOS\", \"Golden State Warriors\", \"0029000122\", \"1990-11-20\", \"GOS vs. ORL\", \"W\", 240, 123, 41, 81, 0.506, 5, 7, 0.714, 36, 50, 0.72, 9, 32, 41, 25, 11, 6, 26, 35, null], [\"21990\", 1610612744, \"GOS\", \"Golden State Warriors\", \"0029000115\", \"1990-11-18\", \"GOS @ LAL\", \"L\", 240, 93, 37, 89, 0.416, 1, 3, 0.333, 18, 28, 0.643, 11, 28, 39, 25, 8, 4, 12, 24, null], [\"21990\", 1610612744, \"GOS\", \"Golden State Warriors\", \"0029000109\", \"1990-11-17\", \"GOS vs. SAC\", \"W\", 240, 112, 38, 81, 0.469, 1, 5, 0.2, 35, 49, 0.714, 15, 29, 44, 14, 8, 5, 20, 29, null], [\"21990\", 1610612744, \"GOS\", \"Golden State Warriors\", \"0029000089\", \"1990-11-15\", \"GOS vs. CHI\", \"W\", 240, 103, 39, 86, 0.453, 3, 11, 0.273, 22, 34, 0.647, 17, 33, 50, 24, 7, 2, 17, 18, null], [\"21990\", 1610612744, \"GOS\", \"Golden State Warriors\", \"0029000078\", \"1990-11-13\", \"GOS vs. SAN\", \"W\", 240, 128, 41, 89, 0.461, 4, 9, 0.444, 42, 48, 0.875, 11, 35, 46, 26, 8, 4, 13, 30, null], [\"21990\", 1610612744, \"GOS\", \"Golden State Warriors\", \"0029000062\", \"1990-11-10\", \"GOS @ SEA\", \"W\", 240, 117, 44, 86, 0.512, 2, 8, 0.25, 27, 34, 0.794, 19, 28, 47, 19, 12, 4, 23, 20, null], [\"21990\", 1610612744, \"GOS\", \"Golden State Warriors\", \"0029000048\", \"1990-11-09\", \"GOS vs. ATL\", \"W\", 240, 143, 56, 103, 0.544, 2, 10, 0.2, 29, 37, 0.784, 16, 36, 52, 28, 9, 6, 18, 28, null], [\"21990\", 1610612744, \"GOS\", \"Golden State Warriors\", \"0029000037\", \"1990-11-07\", \"GOS @ PHX\", \"L\", 240, 119, 49, 89, 0.551, 2, 6, 0.333, 19, 32, 0.594, 9, 28, 37, 29, 17, 6, 17, 28, null], [\"21990\", 1610612744, \"GOS\", \"Golden State Warriors\", \"0029000034\", \"1990-11-06\", \"GOS vs. LAC\", \"W\", 240, 130, 45, 77, 0.584, 3, 5, 0.6, 37, 49, 0.755, 8, 35, 43, 32, 12, 5, 24, 26, null], [\"21990\", 1610612744, \"GOS\", \"Golden State Warriors\", \"0029000025\", \"1990-11-04\", \"GOS @ LAC\", \"L\", 240, 107, 38, 76, 0.5, 2, 5, 0.4, 29, 38, 0.763, 12, 37, 49, 22, 11, 6, 28, 40, null], [\"21990\", 1610612744, \"GOS\", \"Golden State Warriors\", \"0029000002\", \"1990-11-02\", \"GOS @ DEN\", \"W\", 240, 162, 63, 109, 0.578, 2, 4, 0.5, 34, 49, 0.694, 11, 47, 58, 37, 10, 4, 22, 38, null], [\"21989\", 1610612744, \"GOS\", \"Golden State Warriors\", \"0028901102\", \"1990-04-22\", \"GOS vs. SEA\", \"W\", 240, 124, 44, 81, 0.543, 3, 8, 0.375, 33, 39, 0.846, 9, 24, 33, 26, 12, 7, 18, 25, null], [\"21989\", 1610612744, \"GOS\", \"Golden State Warriors\", \"0028901084\", \"1990-04-20\", \"GOS @ PHX\", \"L\", 240, 106, 39, 95, 0.411, 3, 11, 0.273, 25, 31, 0.806, 13, 35, 48, 22, 12, 4, 23, 33, null], [\"21989\", 1610612744, \"GOS\", \"Golden State Warriors\", \"0028901075\", \"1990-04-18\", \"GOS vs. LAC\", \"W\", 240, 133, 48, 86, 0.558, 2, 4, 0.5, 35, 41, 0.854, 10, 28, 38, 34, 13, 6, 19, 19, null], [\"21989\", 1610612744, \"GOS\", \"Golden State Warriors\", \"0028901057\", \"1990-04-16\", \"GOS vs. PHX\", \"L\", 240, 129, 49, 92, 0.533, 6, 13, 0.462, 25, 35, 0.714, 11, 24, 35, 25, 10, 5, 17, 29, null], [\"21989\", 1610612744, \"GOS\", \"Golden State Warriors\", \"0028901038\", \"1990-04-13\", \"GOS @ LAL\", \"L\", 240, 119, 45, 104, 0.433, 1, 3, 0.333, 28, 35, 0.8, 21, 31, 52, 14, 8, 7, 8, 29, null], [\"21989\", 1610612744, \"GOS\", \"Golden State Warriors\", \"0028901034\", \"1990-04-12\", \"GOS vs. DAL\", \"L\", 240, 133, 54, 100, 0.54, 1, 6, 0.167, 24, 26, 0.923, 14, 27, 41, 27, 9, 3, 19, 25, null], [\"21989\", 1610612744, \"GOS\", \"Golden State Warriors\", \"0028901019\", \"1990-04-10\", \"GOS vs. SAN\", \"L\", 240, 122, 48, 92, 0.522, 3, 8, 0.375, 23, 29, 0.793, 10, 27, 37, 28, 8, 2, 22, 21, null], [\"21989\", 1610612744, \"GOS\", \"Golden State Warriors\", \"0028901010\", \"1990-04-08\", \"GOS @ CHH\", \"L\", 240, 109, 40, 91, 0.44, 2, 10, 0.2, 27, 37, 0.73, 13, 36, 49, 18, 11, 6, 13, 24, null], [\"21989\", 1610612744, \"GOS\", \"Golden State Warriors\", \"0028900994\", \"1990-04-06\", \"GOS @ NJN\", \"W\", 240, 123, 47, 98, 0.48, 2, 7, 0.286, 27, 34, 0.794, 14, 39, 53, 21, 11, 9, 23, 32, null], [\"21989\", 1610612744, \"GOS\", \"Golden State Warriors\", \"0028900980\", \"1990-04-04\", \"GOS @ MIA\", \"W\", 240, 128, 45, 85, 0.529, 5, 7, 0.714, 33, 38, 0.868, 7, 34, 41, 27, 14, 12, 18, 27, null], [\"21989\", 1610612744, \"GOS\", \"Golden State Warriors\", \"0028900973\", \"1990-04-03\", \"GOS @ ORL\", \"W\", 240, 127, 45, 84, 0.536, 4, 14, 0.286, 33, 41, 0.805, 6, 37, 43, 21, 5, 14, 20, 30, null], [\"21989\", 1610612744, \"GOS\", \"Golden State Warriors\", \"0028900965\", \"1990-04-01\", \"GOS vs. ATL\", \"L\", 240, 116, 43, 96, 0.448, 4, 8, 0.5, 26, 35, 0.743, 12, 28, 40, 25, 7, 8, 15, 20, null], [\"21989\", 1610612744, \"GOS\", \"Golden State Warriors\", \"0028900945\", \"1990-03-30\", \"GOS @ SEA\", \"L\", 240, 108, 38, 82, 0.463, 1, 9, 0.111, 31, 43, 0.721, 10, 20, 30, 16, 10, 6, 18, 26, null], [\"21989\", 1610612744, \"GOS\", \"Golden State Warriors\", \"0028900940\", \"1990-03-29\", \"GOS vs. UTH\", \"W\", 240, 128, 35, 75, 0.467, 3, 11, 0.273, 55, 65, 0.846, 10, 27, 37, 21, 6, 2, 10, 31, null], [\"21989\", 1610612744, \"GOS\", \"Golden State Warriors\", \"0028900929\", \"1990-03-27\", \"GOS @ DAL\", \"L\", 240, 108, 43, 91, 0.473, 4, 12, 0.333, 18, 24, 0.75, 12, 29, 41, 25, 8, 4, 15, 27, null], [\"21989\", 1610612744, \"GOS\", \"Golden State Warriors\", \"0028900912\", \"1990-03-24\", \"GOS @ HOU\", \"W\", 240, 102, 34, 72, 0.472, 3, 9, 0.333, 31, 33, 0.939, 6, 22, 28, 20, 10, 3, 17, 21, null], [\"21989\", 1610612744, \"GOS\", \"Golden State Warriors\", \"0028900901\", \"1990-03-23\", \"GOS @ UTH\", \"L\", 240, 91, 27, 81, 0.333, 0, 7, 0.0, 37, 53, 0.698, 10, 29, 39, 14, 11, 8, 12, 25, null], [\"21989\", 1610612744, \"GOS\", \"Golden State Warriors\", \"0028900881\", \"1990-03-20\", \"GOS vs. MIN\", \"W\", 240, 105, 37, 78, 0.474, 3, 6, 0.5, 28, 35, 0.8, 12, 27, 39, 19, 6, 5, 18, 26, null], [\"21989\", 1610612744, \"GOS\", \"Golden State Warriors\", \"0028900865\", \"1990-03-18\", \"GOS vs. SEA\", \"L\", 240, 116, 43, 83, 0.518, 3, 11, 0.273, 27, 36, 0.75, 8, 27, 35, 28, 15, 6, 20, 24, null], [\"21989\", 1610612744, \"GOS\", \"Golden State Warriors\", \"0028900845\", \"1990-03-15\", \"GOS vs. POR\", \"L\", 240, 121, 43, 88, 0.489, 9, 16, 0.563, 26, 35, 0.743, 14, 21, 35, 26, 8, 3, 17, 36, null], [\"21989\", 1610612744, \"GOS\", \"Golden State Warriors\", \"0028900826\", \"1990-03-12\", \"GOS @ LAC\", \"W\", 240, 112, 42, 85, 0.494, 1, 9, 0.111, 27, 34, 0.794, 10, 28, 38, 21, 14, 11, 20, 26, null], [\"21989\", 1610612744, \"GOS\", \"Golden State Warriors\", \"0028900817\", \"1990-03-11\", \"GOS vs. SAC\", \"W\", 240, 123, 40, 82, 0.488, 3, 12, 0.25, 40, 49, 0.816, 9, 36, 45, 26, 9, 5, 16, 29, null], [\"21989\", 1610612744, \"GOS\", \"Golden State Warriors\", \"0028900807\", \"1990-03-09\", \"GOS @ LAL\", \"L\", 240, 115, 40, 91, 0.44, 3, 6, 0.5, 32, 41, 0.78, 16, 24, 40, 23, 9, 4, 16, 27, null], [\"21989\", 1610612744, \"GOS\", \"Golden State Warriors\", \"0028900799\", \"1990-03-08\", \"GOS vs. CLE\", \"W\", 240, 145, 57, 100, 0.57, 2, 7, 0.286, 29, 33, 0.879, 12, 33, 45, 37, 14, 6, 13, 30, null], [\"21989\", 1610612744, \"GOS\", \"Golden State Warriors\", \"0028900775\", \"1990-03-05\", \"GOS vs. CHH\", \"W\", 240, 138, 52, 82, 0.634, 0, 5, 0.0, 34, 43, 0.791, 5, 31, 36, 32, 11, 4, 17, 23, null], [\"21989\", 1610612744, \"GOS\", \"Golden State Warriors\", \"0028900767\", \"1990-03-03\", \"GOS @ HOU\", \"L\", 240, 109, 44, 98, 0.449, 2, 6, 0.333, 19, 28, 0.679, 13, 35, 48, 25, 12, 5, 21, 20, null], [\"21989\", 1610612744, \"GOS\", \"Golden State Warriors\", \"0028900761\", \"1990-03-02\", \"GOS @ SAN\", \"L\", 240, 115, 44, 90, 0.489, 1, 5, 0.2, 26, 35, 0.743, 7, 23, 30, 21, 9, 7, 16, 24, null], [\"21989\", 1610612744, \"GOS\", \"Golden State Warriors\", \"0028900742\", \"1990-02-28\", \"GOS vs. SAN\", \"W\", 265, 144, 53, 101, 0.525, 9, 15, 0.6, 29, 37, 0.784, 18, 28, 46, 40, 5, 2, 14, 25, null], [\"21989\", 1610612744, \"GOS\", \"Golden State Warriors\", \"0028900727\", \"1990-02-25\", \"GOS @ SEA\", \"L\", 240, 102, 38, 78, 0.487, 3, 10, 0.3, 23, 27, 0.852, 8, 24, 32, 15, 6, 4, 11, 25, null], [\"21989\", 1610612744, \"GOS\", \"Golden State Warriors\", \"0028900705\", \"1990-02-23\", \"GOS vs. BOS\", \"L\", 240, 111, 40, 83, 0.482, 2, 12, 0.167, 29, 34, 0.853, 5, 29, 34, 26, 9, 7, 15, 29, null], [\"21989\", 1610612744, \"GOS\", \"Golden State Warriors\", \"0028900698\", \"1990-02-21\", \"GOS vs. PHL\", \"L\", 240, 95, 35, 86, 0.407, 4, 10, 0.4, 21, 26, 0.808, 14, 33, 47, 19, 6, 5, 7, 17, null], [\"21989\", 1610612744, \"GOS\", \"Golden State Warriors\", \"0028900683\", \"1990-02-19\", \"GOS @ DEN\", \"L\", 240, 109, 39, 88, 0.443, 1, 4, 0.25, 30, 41, 0.732, 14, 38, 52, 17, 11, 6, 23, 25, null], [\"21989\", 1610612744, \"GOS\", \"Golden State Warriors\", \"0028900676\", \"1990-02-18\", \"GOS vs. PHX\", \"L\", 240, 113, 49, 104, 0.471, 1, 10, 0.1, 14, 20, 0.7, 14, 35, 49, 24, 8, 8, 16, 27, null], [\"21989\", 1610612744, \"GOS\", \"Golden State Warriors\", \"0028900663\", \"1990-02-16\", \"GOS @ PHX\", \"L\", 240, 114, 45, 96, 0.469, 3, 10, 0.3, 21, 27, 0.778, 14, 28, 42, 23, 13, 4, 19, 31, null], [\"21989\", 1610612744, \"GOS\", \"Golden State Warriors\", \"0028900656\", \"1990-02-15\", \"GOS vs. WAS\", \"W\", 240, 113, 37, 85, 0.435, 1, 8, 0.125, 38, 43, 0.884, 9, 29, 38, 21, 10, 3, 14, 21, null], [\"21989\", 1610612744, \"GOS\", \"Golden State Warriors\", \"0028900624\", \"1990-02-08\", \"GOS @ NYK\", \"L\", 240, 118, 43, 101, 0.426, 1, 10, 0.1, 31, 35, 0.886, 15, 30, 45, 27, 13, 9, 13, 23, null], [\"21989\", 1610612744, \"GOS\", \"Golden State Warriors\", \"0028900621\", \"1990-02-07\", \"GOS @ PHL\", \"W\", 240, 113, 42, 86, 0.488, 5, 15, 0.333, 24, 31, 0.774, 9, 28, 37, 25, 13, 4, 17, 27, null], [\"21989\", 1610612744, \"GOS\", \"Golden State Warriors\", \"0028900608\", \"1990-02-05\", \"GOS @ WAS\", \"L\", 240, 129, 45, 97, 0.464, 4, 11, 0.364, 35, 46, 0.761, 13, 28, 41, 20, 9, 13, 14, 33, null], [\"21989\", 1610612744, \"GOS\", \"Golden State Warriors\", \"0028900602\", \"1990-02-04\", \"GOS @ MIN\", \"W\", 240, 105, 40, 76, 0.526, 1, 6, 0.167, 24, 30, 0.8, 8, 34, 42, 21, 7, 9, 21, 21, null], [\"21989\", 1610612744, \"GOS\", \"Golden State Warriors\", \"0028900584\", \"1990-02-02\", \"GOS vs. NJN\", \"W\", 240, 128, 49, 92, 0.533, 1, 8, 0.125, 29, 37, 0.784, 11, 42, 53, 30, 9, 18, 15, 20, null], [\"21989\", 1610612744, \"GOS\", \"Golden State Warriors\", \"0028900570\", \"1990-01-31\", \"GOS vs. POR\", \"W\", 240, 135, 42, 86, 0.488, 2, 11, 0.182, 49, 52, 0.942, 12, 30, 42, 23, 9, 8, 17, 25, null], [\"21989\", 1610612744, \"GOS\", \"Golden State Warriors\", \"0028900539\", \"1990-01-26\", \"GOS vs. SEA\", \"W\", 240, 114, 39, 72, 0.542, 4, 14, 0.286, 32, 39, 0.821, 6, 20, 26, 24, 9, 7, 15, 17, null], [\"21989\", 1610612744, \"GOS\", \"Golden State Warriors\", \"0028900526\", \"1990-01-24\", \"GOS @ SAC\", \"L\", 240, 99, 37, 85, 0.435, 3, 10, 0.3, 22, 28, 0.786, 12, 26, 38, 18, 5, 2, 21, 27, null], [\"21989\", 1610612744, \"GOS\", \"Golden State Warriors\", \"0028900522\", \"1990-01-23\", \"GOS vs. MIN\", \"W\", 240, 109, 35, 82, 0.427, 5, 13, 0.385, 34, 40, 0.85, 15, 27, 42, 22, 8, 5, 9, 25, null], [\"21989\", 1610612744, \"GOS\", \"Golden State Warriors\", \"0028900509\", \"1990-01-21\", \"GOS @ BOS\", \"W\", 240, 120, 46, 85, 0.541, 4, 12, 0.333, 24, 26, 0.923, 4, 36, 40, 29, 12, 8, 18, 15, null], [\"21989\", 1610612744, \"GOS\", \"Golden State Warriors\", \"0028900498\", \"1990-01-19\", \"GOS @ DET\", \"L\", 240, 118, 42, 85, 0.494, 7, 14, 0.5, 27, 28, 0.964, 8, 25, 33, 28, 9, 6, 14, 26, null], [\"21989\", 1610612744, \"GOS\", \"Golden State Warriors\", \"0028900491\", \"1990-01-18\", \"GOS @ CHI\", \"L\", 240, 107, 41, 97, 0.423, 6, 18, 0.333, 19, 28, 0.679, 18, 19, 37, 24, 10, 9, 12, 15, null], [\"21989\", 1610612744, \"GOS\", \"Golden State Warriors\", \"0028900477\", \"1990-01-16\", \"GOS @ MIL\", \"L\", 240, 126, 49, 84, 0.583, 4, 8, 0.5, 24, 28, 0.857, 12, 25, 37, 31, 9, 3, 25, 24, null], [\"21989\", 1610612744, \"GOS\", \"Golden State Warriors\", \"0028900468\", \"1990-01-15\", \"GOS @ IND\", \"L\", 240, 105, 38, 92, 0.413, 1, 4, 0.25, 28, 32, 0.875, 11, 31, 42, 19, 5, 8, 14, 24, null], [\"21989\", 1610612744, \"GOS\", \"Golden State Warriors\", \"0028900460\", \"1990-01-13\", \"GOS vs. ORL\", \"W\", 240, 138, 45, 89, 0.506, 5, 11, 0.455, 43, 51, 0.843, 10, 28, 38, 31, 11, 6, 20, 24, null], [\"21989\", 1610612744, \"GOS\", \"Golden State Warriors\", \"0028900439\", \"1990-01-10\", \"GOS vs. DAL\", \"W\", 240, 123, 47, 90, 0.522, 4, 7, 0.571, 25, 26, 0.962, 16, 25, 41, 22, 4, 4, 13, 22, null], [\"21989\", 1610612744, \"GOS\", \"Golden State Warriors\", \"0028900421\", \"1990-01-08\", \"GOS vs. DEN\", \"W\", 240, 139, 54, 99, 0.545, 4, 11, 0.364, 27, 31, 0.871, 12, 47, 59, 36, 4, 4, 23, 19, null], [\"21989\", 1610612744, \"GOS\", \"Golden State Warriors\", \"0028900407\", \"1990-01-06\", \"GOS vs. LAL\", \"W\", 240, 133, 47, 95, 0.495, 6, 16, 0.375, 33, 35, 0.943, 14, 25, 39, 25, 7, 6, 11, 26, null], [\"21989\", 1610612744, \"GOS\", \"Golden State Warriors\", \"0028900394\", \"1990-01-04\", \"GOS vs. MIA\", \"W\", 240, 119, 40, 83, 0.482, 4, 7, 0.571, 35, 47, 0.745, 13, 31, 44, 24, 17, 8, 19, 26, null], [\"21989\", 1610612744, \"GOS\", \"Golden State Warriors\", \"0028900381\", \"1990-01-02\", \"GOS vs. UTH\", \"W\", 240, 133, 50, 96, 0.521, 1, 9, 0.111, 32, 36, 0.889, 10, 35, 45, 28, 13, 4, 19, 25, null], [\"21989\", 1610612744, \"GOS\", \"Golden State Warriors\", \"0028900357\", \"1989-12-29\", \"GOS @ LAL\", \"L\", 240, 111, 45, 95, 0.474, 0, 5, 0.0, 21, 24, 0.875, 9, 26, 35, 29, 11, 6, 16, 23, null], [\"21989\", 1610612744, \"GOS\", \"Golden State Warriors\", \"0028900356\", \"1989-12-28\", \"GOS @ LAC\", \"L\", 240, 119, 43, 93, 0.462, 3, 5, 0.6, 30, 36, 0.833, 13, 27, 40, 18, 8, 2, 18, 18, null], [\"21989\", 1610612744, \"GOS\", \"Golden State Warriors\", \"0028900342\", \"1989-12-26\", \"GOS @ UTH\", \"L\", 240, 118, 45, 94, 0.479, 1, 7, 0.143, 27, 33, 0.818, 10, 26, 36, 24, 8, 5, 11, 24, null], [\"21989\", 1610612744, \"GOS\", \"Golden State Warriors\", \"0028900313\", \"1989-12-22\", \"GOS vs. IND\", \"W\", 240, 150, 58, 104, 0.558, 4, 8, 0.5, 30, 35, 0.857, 11, 32, 43, 38, 12, 5, 12, 28, null], [\"21989\", 1610612744, \"GOS\", \"Golden State Warriors\", \"0028900309\", \"1989-12-20\", \"GOS vs. HOU\", \"W\", 240, 118, 43, 80, 0.538, 1, 9, 0.111, 31, 39, 0.795, 9, 26, 35, 28, 12, 10, 17, 25, null], [\"21989\", 1610612744, \"GOS\", \"Golden State Warriors\", \"0028900281\", \"1989-12-16\", \"GOS vs. DET\", \"W\", 240, 104, 38, 82, 0.463, 4, 8, 0.5, 24, 27, 0.889, 10, 27, 37, 18, 7, 3, 15, 28, null], [\"21989\", 1610612744, \"GOS\", \"Golden State Warriors\", \"0028900270\", \"1989-12-15\", \"GOS @ POR\", \"W\", 240, 116, 42, 90, 0.467, 4, 11, 0.364, 28, 32, 0.875, 14, 32, 46, 26, 10, 6, 17, 28, null], [\"21989\", 1610612744, \"GOS\", \"Golden State Warriors\", \"0028900262\", \"1989-12-13\", \"GOS vs. DEN\", \"W\", 240, 134, 50, 89, 0.562, 0, 8, 0.0, 34, 43, 0.791, 12, 44, 56, 33, 12, 5, 22, 28, null], [\"21989\", 1610612744, \"GOS\", \"Golden State Warriors\", \"0028900248\", \"1989-12-12\", \"GOS @ SAC\", \"W\", 240, 118, 46, 93, 0.495, 5, 15, 0.333, 21, 23, 0.913, 15, 33, 48, 26, 10, 7, 20, 21, null], [\"21989\", 1610612744, \"GOS\", \"Golden State Warriors\", \"0028900227\", \"1989-12-08\", \"GOS vs. SAC\", \"L\", 240, 121, 48, 93, 0.516, 0, 9, 0.0, 25, 35, 0.714, 12, 35, 47, 32, 3, 7, 11, 26, null], [\"21989\", 1610612744, \"GOS\", \"Golden State Warriors\", \"0028900220\", \"1989-12-06\", \"GOS @ SAN\", \"L\", 240, 119, 48, 89, 0.539, 5, 9, 0.556, 18, 25, 0.72, 12, 21, 33, 22, 12, 2, 22, 30, null], [\"21989\", 1610612744, \"GOS\", \"Golden State Warriors\", \"0028900210\", \"1989-12-05\", \"GOS @ DAL\", \"L\", 240, 88, 30, 86, 0.349, 1, 8, 0.125, 27, 35, 0.771, 12, 24, 36, 17, 10, 3, 12, 18, null], [\"21989\", 1610612744, \"GOS\", \"Golden State Warriors\", \"0028900193\", \"1989-12-02\", \"GOS vs. MIL\", \"W\", 240, 101, 36, 75, 0.48, 5, 13, 0.385, 24, 32, 0.75, 9, 23, 32, 27, 11, 8, 21, 15, null], [\"21989\", 1610612744, \"GOS\", \"Golden State Warriors\", \"0028900190\", \"1989-12-01\", \"GOS @ POR\", \"L\", 240, 110, 36, 80, 0.45, 5, 13, 0.385, 33, 41, 0.805, 7, 27, 34, 22, 6, 6, 15, 21, null], [\"21989\", 1610612744, \"GOS\", \"Golden State Warriors\", \"0028900170\", \"1989-11-29\", \"GOS vs. NYK\", \"L\", 240, 111, 45, 89, 0.506, 2, 10, 0.2, 19, 23, 0.826, 5, 25, 30, 26, 8, 8, 15, 24, null], [\"21989\", 1610612744, \"GOS\", \"Golden State Warriors\", \"0028900169\", \"1989-11-28\", \"GOS @ DEN\", \"L\", 240, 120, 42, 86, 0.488, 3, 5, 0.6, 33, 36, 0.917, 5, 36, 41, 22, 5, 5, 25, 27, null], [\"21989\", 1610612744, \"GOS\", \"Golden State Warriors\", \"0028900150\", \"1989-11-25\", \"GOS vs. CHI\", \"L\", 240, 91, 37, 82, 0.451, 0, 7, 0.0, 17, 28, 0.607, 10, 29, 39, 21, 6, 7, 17, 15, null], [\"21989\", 1610612744, \"GOS\", \"Golden State Warriors\", \"0028900131\", \"1989-11-22\", \"GOS vs. SAC\", \"W\", 240, 133, 51, 97, 0.526, 7, 11, 0.636, 24, 29, 0.828, 11, 38, 49, 33, 9, 3, 11, 23, null], [\"21989\", 1610612744, \"GOS\", \"Golden State Warriors\", \"0028900106\", \"1989-11-18\", \"GOS @ ATL\", \"L\", 240, 96, 37, 88, 0.42, 4, 8, 0.5, 18, 23, 0.783, 14, 21, 35, 24, 11, 4, 21, 18, null], [\"21989\", 1610612744, \"GOS\", \"Golden State Warriors\", \"0028900099\", \"1989-11-17\", \"GOS @ CHH\", \"L\", 240, 98, 32, 71, 0.451, 4, 5, 0.8, 30, 38, 0.789, 15, 31, 46, 18, 11, 8, 22, 22, null], [\"21989\", 1610612744, \"GOS\", \"Golden State Warriors\", \"0028900085\", \"1989-11-15\", \"GOS @ CLE\", \"L\", 240, 104, 43, 84, 0.512, 2, 6, 0.333, 16, 25, 0.64, 9, 18, 27, 24, 4, 3, 13, 16, null], [\"21989\", 1610612744, \"GOS\", \"Golden State Warriors\", \"0028900073\", \"1989-11-14\", \"GOS @ MIN\", \"L\", 240, 98, 30, 75, 0.4, 1, 5, 0.2, 37, 44, 0.841, 12, 26, 38, 13, 7, 10, 17, 21, null], [\"21989\", 1610612744, \"GOS\", \"Golden State Warriors\", \"0028900062\", \"1989-11-11\", \"GOS vs. CHH\", \"W\", 240, 115, 44, 85, 0.518, 2, 7, 0.286, 25, 33, 0.758, 12, 30, 42, 22, 7, 3, 22, 26, null], [\"21989\", 1610612744, \"GOS\", \"Golden State Warriors\", \"0028900043\", \"1989-11-09\", \"GOS vs. LAL\", \"L\", 240, 95, 32, 78, 0.41, 2, 8, 0.25, 29, 40, 0.725, 7, 27, 34, 16, 5, 7, 14, 27, null], [\"21989\", 1610612744, \"GOS\", \"Golden State Warriors\", \"0028900030\", \"1989-11-07\", \"GOS vs. LAC\", \"W\", 240, 118, 44, 75, 0.587, 3, 6, 0.5, 27, 30, 0.9, 10, 26, 36, 24, 15, 5, 32, 26, null], [\"21989\", 1610612744, \"GOS\", \"Golden State Warriors\", \"0028900014\", \"1989-11-04\", \"GOS vs. HOU\", \"L\", 240, 105, 35, 91, 0.385, 1, 10, 0.1, 34, 44, 0.773, 16, 28, 44, 21, 7, 2, 24, 27, null], [\"21989\", 1610612744, \"GOS\", \"Golden State Warriors\", \"0028900003\", \"1989-11-03\", \"GOS @ PHX\", \"L\", 240, 106, 36, 89, 0.404, 4, 10, 0.4, 30, 36, 0.833, 15, 29, 44, 20, 6, 6, 29, 32, null], [\"41988\", 1610612744, \"GOS\", \"Golden State Warriors\", \"0048800047\", \"1989-05-16\", \"GOS @ PHX\", \"L\", 240, 104, 41, 97, 0.423, 1, 11, 0.091, 21, 26, 0.808, 20, 25, 45, 20, 13, 10, 17, 23, null], [\"41988\", 1610612744, \"GOS\", \"Golden State Warriors\", \"0048800040\", \"1989-05-13\", \"GOS vs. PHX\", \"L\", 240, 99, 33, 99, 0.333, 0, 9, 0.0, 33, 38, 0.868, 18, 24, 42, 14, 15, 8, 17, 23, null], [\"41988\", 1610612744, \"GOS\", \"Golden State Warriors\", \"0048800036\", \"1989-05-11\", \"GOS vs. PHX\", \"L\", 240, 104, 44, 100, 0.44, 3, 15, 0.2, 13, 19, 0.684, 9, 37, 46, 17, 4, 5, 13, 25, null], [\"41988\", 1610612744, \"GOS\", \"Golden State Warriors\", \"0048800033\", \"1989-05-09\", \"GOS @ PHX\", \"W\", 240, 127, 49, 91, 0.538, 4, 15, 0.267, 25, 28, 0.893, 13, 28, 41, 21, 6, 7, 11, 24, null], [\"41988\", 1610612744, \"GOS\", \"Golden State Warriors\", \"0048800028\", \"1989-05-06\", \"GOS @ PHX\", \"L\", 240, 103, 43, 96, 0.448, 3, 17, 0.176, 14, 18, 0.778, 14, 27, 41, 17, 9, 4, 19, 28, null], [\"41988\", 1610612744, \"GOS\", \"Golden State Warriors\", \"0048800020\", \"1989-05-02\", \"GOS vs. UTH\", \"W\", 240, 120, 44, 85, 0.518, 3, 11, 0.273, 29, 38, 0.763, 9, 35, 44, 22, 10, 10, 12, 18, null], [\"41988\", 1610612744, \"GOS\", \"Golden State Warriors\", \"0048800009\", \"1989-04-29\", \"GOS @ UTH\", \"W\", 240, 99, 38, 81, 0.469, 3, 14, 0.214, 20, 25, 0.8, 12, 28, 40, 18, 10, 10, 12, 25, null], [\"41988\", 1610612744, \"GOS\", \"Golden State Warriors\", \"0048800004\", \"1989-04-27\", \"GOS @ UTH\", \"W\", 240, 123, 50, 102, 0.49, 4, 10, 0.4, 19, 20, 0.95, 18, 28, 46, 31, 11, 14, 15, 28, null], [\"21988\", 1610612744, \"GOS\", \"Golden State Warriors\", \"0028801016\", \"1989-04-22\", \"GOS @ UTH\", \"L\", 240, 95, 42, 93, 0.452, 1, 11, 0.091, 10, 12, 0.833, 14, 18, 32, 26, 17, 7, 19, 27, null], [\"21988\", 1610612744, \"GOS\", \"Golden State Warriors\", \"0028801006\", \"1989-04-21\", \"GOS vs. DEN\", \"L\", 240, 121, 49, 102, 0.48, 3, 11, 0.273, 20, 24, 0.833, 14, 31, 45, 25, 10, 4, 21, 17, null], [\"21988\", 1610612744, \"GOS\", \"Golden State Warriors\", \"0028800987\", \"1989-04-18\", \"GOS @ SEA\", \"L\", 240, 118, 43, 98, 0.439, 0, 3, 0.0, 32, 33, 0.97, 20, 24, 44, 24, 10, 8, 13, 24, null], [\"21988\", 1610612744, \"GOS\", \"Golden State Warriors\", \"0028800979\", \"1989-04-17\", \"GOS vs. SEA\", \"L\", 265, 109, 48, 101, 0.475, 3, 11, 0.273, 10, 20, 0.5, 11, 33, 44, 23, 10, 9, 19, 20, null], [\"21988\", 1610612744, \"GOS\", \"Golden State Warriors\", \"0028800971\", \"1989-04-15\", \"GOS vs. SAC\", \"L\", 240, 110, 39, 95, 0.411, 4, 15, 0.267, 28, 34, 0.824, 10, 39, 49, 20, 12, 5, 15, 26, null], [\"21988\", 1610612744, \"GOS\", \"Golden State Warriors\", \"0028800952\", \"1989-04-13\", \"GOS @ LAC\", \"L\", 265, 126, 44, 99, 0.444, 0, 5, 0.0, 38, 41, 0.927, 10, 37, 47, 25, 16, 12, 21, 23, null], [\"21988\", 1610612744, \"GOS\", \"Golden State Warriors\", \"0028800943\", \"1989-04-11\", \"GOS vs. MIA\", \"W\", 240, 114, 40, 90, 0.444, 0, 5, 0.0, 34, 42, 0.81, 14, 36, 50, 24, 11, 7, 20, 18, null], [\"21988\", 1610612744, \"GOS\", \"Golden State Warriors\", \"0028800928\", \"1989-04-08\", \"GOS vs. LAL\", \"W\", 240, 122, 47, 92, 0.511, 2, 6, 0.333, 26, 34, 0.765, 10, 32, 42, 20, 9, 5, 17, 16, null], [\"21988\", 1610612744, \"GOS\", \"Golden State Warriors\", \"0028800906\", \"1989-04-06\", \"GOS vs. BOS\", \"W\", 240, 132, 50, 106, 0.472, 0, 6, 0.0, 32, 40, 0.8, 23, 29, 52, 21, 14, 8, 13, 28, null], [\"21988\", 1610612744, \"GOS\", \"Golden State Warriors\", \"0028800903\", \"1989-04-04\", \"GOS vs. MIL\", \"L\", 240, 118, 43, 93, 0.462, 6, 14, 0.429, 26, 29, 0.897, 15, 30, 45, 18, 5, 6, 12, 17, null], [\"21988\", 1610612744, \"GOS\", \"Golden State Warriors\", \"0028800886\", \"1989-04-02\", \"GOS @ WAS\", \"L\", 240, 103, 41, 99, 0.414, 3, 9, 0.333, 18, 25, 0.72, 14, 36, 50, 23, 8, 0, 21, 27, null], [\"21988\", 1610612744, \"GOS\", \"Golden State Warriors\", \"0028800874\", \"1989-03-31\", \"GOS @ NYK\", \"W\", 240, 134, 53, 94, 0.564, 3, 6, 0.5, 25, 29, 0.862, 16, 25, 41, 26, 17, 8, 18, 17, null], [\"21988\", 1610612744, \"GOS\", \"Golden State Warriors\", \"0028800866\", \"1989-03-30\", \"GOS @ CHH\", \"W\", 240, 113, 41, 92, 0.446, 2, 8, 0.25, 29, 35, 0.829, 14, 38, 52, 18, 7, 9, 15, 19, null], [\"21988\", 1610612744, \"GOS\", \"Golden State Warriors\", \"0028800856\", \"1989-03-28\", \"GOS @ CHI\", \"L\", 240, 106, 44, 96, 0.458, 3, 11, 0.273, 15, 24, 0.625, 14, 33, 47, 26, 10, 5, 17, 18, null], [\"21988\", 1610612744, \"GOS\", \"Golden State Warriors\", \"0028800849\", \"1989-03-27\", \"GOS @ MIL\", \"L\", 240, 109, 46, 99, 0.465, 1, 9, 0.111, 16, 22, 0.727, 11, 22, 33, 30, 13, 8, 12, 23, null], [\"21988\", 1610612744, \"GOS\", \"Golden State Warriors\", \"0028800840\", \"1989-03-25\", \"GOS @ HOU\", \"L\", 240, 104, 41, 115, 0.357, 1, 13, 0.077, 21, 26, 0.808, 23, 26, 49, 18, 10, 7, 21, 27, null], [\"21988\", 1610612744, \"GOS\", \"Golden State Warriors\", \"0028800822\", \"1989-03-23\", \"GOS vs. PHX\", \"L\", 240, 124, 42, 101, 0.416, 5, 15, 0.333, 35, 40, 0.875, 20, 27, 47, 17, 8, 14, 20, 26, null], [\"21988\", 1610612744, \"GOS\", \"Golden State Warriors\", \"0028800812\", \"1989-03-21\", \"GOS vs. POR\", \"W\", 240, 151, 61, 107, 0.57, 5, 10, 0.5, 24, 26, 0.923, 13, 41, 54, 39, 10, 15, 22, 26, null], [\"21988\", 1610612744, \"GOS\", \"Golden State Warriors\", \"0028800800\", \"1989-03-19\", \"GOS vs. CHH\", \"W\", 240, 124, 44, 92, 0.478, 4, 8, 0.5, 32, 40, 0.8, 17, 33, 50, 20, 12, 6, 20, 23, null], [\"21988\", 1610612744, \"GOS\", \"Golden State Warriors\", \"0028800788\", \"1989-03-17\", \"GOS vs. ATL\", \"W\", 265, 127, 52, 117, 0.444, 2, 14, 0.143, 21, 24, 0.875, 19, 37, 56, 29, 12, 5, 12, 24, null], [\"21988\", 1610612744, \"GOS\", \"Golden State Warriors\", \"0028800771\", \"1989-03-15\", \"GOS vs. DAL\", \"W\", 240, 113, 47, 92, 0.511, 1, 7, 0.143, 18, 22, 0.818, 17, 28, 45, 25, 6, 4, 11, 23, null], [\"21988\", 1610612744, \"GOS\", \"Golden State Warriors\", \"0028800766\", \"1989-03-14\", \"GOS @ POR\", \"L\", 240, 110, 40, 102, 0.392, 2, 6, 0.333, 28, 36, 0.778, 18, 30, 48, 23, 9, 5, 20, 21, null], [\"21988\", 1610612744, \"GOS\", \"Golden State Warriors\", \"0028800752\", \"1989-03-12\", \"GOS vs. LAL\", \"L\", 240, 115, 45, 110, 0.409, 6, 16, 0.375, 19, 24, 0.792, 26, 30, 56, 16, 7, 10, 17, 27, null], [\"21988\", 1610612744, \"GOS\", \"Golden State Warriors\", \"0028800737\", \"1989-03-10\", \"GOS @ UTH\", \"L\", 240, 112, 45, 98, 0.459, 4, 12, 0.333, 18, 22, 0.818, 13, 30, 43, 27, 9, 15, 14, 25, null], [\"21988\", 1610612744, \"GOS\", \"Golden State Warriors\", \"0028800735\", \"1989-03-09\", \"GOS vs. CLE\", \"W\", 240, 120, 46, 107, 0.43, 3, 10, 0.3, 25, 29, 0.862, 22, 28, 50, 24, 11, 11, 18, 23, null], [\"21988\", 1610612744, \"GOS\", \"Golden State Warriors\", \"0028800721\", \"1989-03-07\", \"GOS vs. LAC\", \"W\", 240, 138, 50, 106, 0.472, 3, 9, 0.333, 35, 40, 0.875, 26, 31, 57, 29, 15, 10, 16, 15, null], [\"21988\", 1610612744, \"GOS\", \"Golden State Warriors\", \"0028800712\", \"1989-03-05\", \"GOS @ SAC\", \"L\", 240, 96, 38, 101, 0.376, 3, 8, 0.375, 17, 26, 0.654, 23, 34, 57, 15, 8, 7, 16, 19, null], [\"21988\", 1610612744, \"GOS\", \"Golden State Warriors\", \"0028800703\", \"1989-03-04\", \"GOS vs. SAC\", \"W\", 240, 155, 62, 107, 0.579, 6, 16, 0.375, 25, 37, 0.676, 14, 36, 50, 30, 13, 7, 15, 24, null], [\"21988\", 1610612744, \"GOS\", \"Golden State Warriors\", \"0028800686\", \"1989-03-02\", \"GOS vs. IND\", \"L\", 265, 127, 50, 113, 0.442, 6, 20, 0.3, 21, 27, 0.778, 25, 35, 60, 21, 6, 5, 18, 24, null], [\"21988\", 1610612744, \"GOS\", \"Golden State Warriors\", \"0028800684\", \"1989-03-01\", \"GOS @ LAL\", \"L\", 240, 121, 50, 110, 0.455, 4, 13, 0.308, 17, 26, 0.654, 18, 22, 40, 14, 8, 14, 13, 27, null], [\"21988\", 1610612744, \"GOS\", \"Golden State Warriors\", \"0028800670\", \"1989-02-27\", \"GOS vs. DEN\", \"W\", 240, 141, 57, 95, 0.6, 7, 13, 0.538, 20, 24, 0.833, 10, 34, 44, 40, 10, 7, 23, 23, null], [\"21988\", 1610612744, \"GOS\", \"Golden State Warriors\", \"0028800648\", \"1989-02-24\", \"GOS @ DAL\", \"W\", 240, 127, 55, 104, 0.529, 5, 9, 0.556, 12, 18, 0.667, 20, 35, 55, 36, 10, 8, 14, 27, null], [\"21988\", 1610612744, \"GOS\", \"Golden State Warriors\", \"0028800641\", \"1989-02-22\", \"GOS @ SAN\", \"W\", 240, 118, 47, 100, 0.47, 2, 6, 0.333, 22, 26, 0.846, 14, 34, 48, 18, 13, 12, 16, 22, null], [\"21988\", 1610612744, \"GOS\", \"Golden State Warriors\", \"0028800631\", \"1989-02-21\", \"GOS @ PHX\", \"L\", 240, 121, 51, 100, 0.51, 1, 7, 0.143, 18, 25, 0.72, 16, 23, 39, 32, 7, 5, 17, 25, null], [\"21988\", 1610612744, \"GOS\", \"Golden State Warriors\", \"0028800610\", \"1989-02-18\", \"GOS vs. DET\", \"W\", 265, 121, 43, 104, 0.413, 1, 10, 0.1, 34, 39, 0.872, 18, 34, 52, 19, 11, 10, 15, 33, null], [\"21988\", 1610612744, \"GOS\", \"Golden State Warriors\", \"0028800598\", \"1989-02-16\", \"GOS @ LAC\", \"W\", 265, 143, 51, 99, 0.515, 4, 8, 0.5, 37, 47, 0.787, 13, 38, 51, 29, 9, 13, 22, 26, null], [\"21988\", 1610612744, \"GOS\", \"Golden State Warriors\", \"0028800596\", \"1989-02-15\", \"GOS vs. SAN\", \"W\", 240, 133, 55, 102, 0.539, 2, 6, 0.333, 21, 26, 0.808, 13, 34, 47, 36, 25, 10, 20, 22, null], [\"21988\", 1610612744, \"GOS\", \"Golden State Warriors\", \"0028800572\", \"1989-02-09\", \"GOS @ SAC\", \"L\", 240, 117, 46, 101, 0.455, 4, 14, 0.286, 21, 25, 0.84, 22, 21, 43, 25, 6, 8, 14, 22, null], [\"21988\", 1610612744, \"GOS\", \"Golden State Warriors\", \"0028800570\", \"1989-02-08\", \"GOS @ LAL\", \"W\", 240, 121, 51, 90, 0.567, 1, 6, 0.167, 18, 22, 0.818, 8, 24, 32, 28, 8, 5, 20, 30, null], [\"21988\", 1610612744, \"GOS\", \"Golden State Warriors\", \"0028800545\", \"1989-02-04\", \"GOS vs. LAC\", \"W\", 240, 116, 47, 107, 0.439, 3, 8, 0.375, 19, 24, 0.792, 23, 30, 53, 30, 12, 9, 16, 25, null], [\"21988\", 1610612744, \"GOS\", \"Golden State Warriors\", \"0028800529\", \"1989-02-02\", \"GOS vs. NJN\", \"W\", 240, 127, 49, 105, 0.467, 0, 2, 0.0, 29, 34, 0.853, 27, 31, 58, 27, 9, 6, 16, 16, null], [\"21988\", 1610612744, \"GOS\", \"Golden State Warriors\", \"0028800511\", \"1989-01-30\", \"GOS @ MIA\", \"W\", 240, 105, 43, 95, 0.453, 1, 6, 0.167, 18, 21, 0.857, 19, 23, 42, 21, 10, 9, 19, 22, null], [\"21988\", 1610612744, \"GOS\", \"Golden State Warriors\", \"0028800503\", \"1989-01-28\", \"GOS @ IND\", \"W\", 240, 114, 46, 97, 0.474, 1, 5, 0.2, 21, 26, 0.808, 15, 31, 46, 29, 11, 5, 16, 21, null], [\"21988\", 1610612744, \"GOS\", \"Golden State Warriors\", \"0028800498\", \"1989-01-27\", \"GOS @ PHL\", \"L\", 240, 112, 49, 110, 0.445, 3, 7, 0.429, 11, 16, 0.688, 18, 33, 51, 28, 14, 13, 12, 18, null], [\"21988\", 1610612744, \"GOS\", \"Golden State Warriors\", \"0028800480\", \"1989-01-25\", \"GOS @ DET\", \"L\", 240, 104, 40, 98, 0.408, 3, 10, 0.3, 21, 28, 0.75, 15, 33, 48, 22, 9, 3, 11, 21, null], [\"21988\", 1610612744, \"GOS\", \"Golden State Warriors\", \"0028800471\", \"1989-01-23\", \"GOS @ CLE\", \"L\", 240, 109, 43, 101, 0.426, 6, 14, 0.429, 17, 20, 0.85, 12, 27, 39, 25, 10, 6, 17, 25, null], [\"21988\", 1610612744, \"GOS\", \"Golden State Warriors\", \"0028800466\", \"1989-01-21\", \"GOS @ SAC\", \"W\", 240, 136, 58, 103, 0.563, 9, 13, 0.692, 11, 16, 0.688, 13, 35, 48, 37, 14, 8, 18, 26, null], [\"21988\", 1610612744, \"GOS\", \"Golden State Warriors\", \"0028800455\", \"1989-01-20\", \"GOS vs. HOU\", \"W\", 240, 121, 46, 92, 0.5, 4, 7, 0.571, 25, 30, 0.833, 14, 37, 51, 29, 7, 10, 22, 22, null], [\"21988\", 1610612744, \"GOS\", \"Golden State Warriors\", \"0028800443\", \"1989-01-18\", \"GOS vs. NYK\", \"W\", 240, 133, 49, 88, 0.557, 3, 7, 0.429, 32, 38, 0.842, 7, 39, 46, 26, 11, 7, 26, 28, null], [\"21988\", 1610612744, \"GOS\", \"Golden State Warriors\", \"0028800434\", \"1989-01-16\", \"GOS vs. SEA\", \"W\", 240, 146, 60, 111, 0.541, 1, 8, 0.125, 25, 29, 0.862, 18, 39, 57, 32, 17, 5, 23, 19, null], [\"21988\", 1610612744, \"GOS\", \"Golden State Warriors\", \"0028800415\", \"1989-01-14\", \"GOS vs. UTH\", \"W\", 240, 131, 50, 98, 0.51, 4, 10, 0.4, 27, 28, 0.964, 19, 32, 51, 27, 11, 2, 17, 23, null], [\"21988\", 1610612744, \"GOS\", \"Golden State Warriors\", \"0028800408\", \"1989-01-13\", \"GOS @ LAC\", \"W\", 240, 127, 52, 106, 0.491, 0, 4, 0.0, 23, 37, 0.622, 20, 30, 50, 30, 9, 10, 10, 26, null], [\"21988\", 1610612744, \"GOS\", \"Golden State Warriors\", \"0028800396\", \"1989-01-11\", \"GOS vs. DAL\", \"W\", 240, 107, 42, 78, 0.538, 1, 5, 0.2, 22, 26, 0.846, 5, 32, 37, 29, 10, 9, 15, 20, null], [\"21988\", 1610612744, \"GOS\", \"Golden State Warriors\", \"0028800386\", \"1989-01-09\", \"GOS vs. PHX\", \"W\", 240, 130, 47, 99, 0.475, 5, 11, 0.455, 31, 38, 0.816, 18, 37, 55, 35, 9, 5, 15, 27, null], [\"21988\", 1610612744, \"GOS\", \"Golden State Warriors\", \"0028800379\", \"1989-01-07\", \"GOS vs. SAN\", \"L\", 240, 102, 38, 105, 0.362, 3, 7, 0.429, 23, 28, 0.821, 26, 24, 50, 21, 11, 8, 13, 23, null], [\"21988\", 1610612744, \"GOS\", \"Golden State Warriors\", \"0028800362\", \"1989-01-05\", \"GOS @ DEN\", \"L\", 240, 129, 44, 96, 0.458, 3, 6, 0.5, 38, 49, 0.776, 16, 37, 53, 23, 8, 7, 20, 30, null], [\"21988\", 1610612744, \"GOS\", \"Golden State Warriors\", \"0028800358\", \"1989-01-04\", \"GOS vs. MIA\", \"W\", 240, 109, 42, 88, 0.477, 0, 2, 0.0, 25, 31, 0.806, 12, 29, 41, 26, 18, 9, 20, 28, null], [\"21988\", 1610612744, \"GOS\", \"Golden State Warriors\", \"0028800316\", \"1988-12-27\", \"GOS vs. PHL\", \"W\", 240, 119, 50, 101, 0.495, 2, 4, 0.5, 17, 18, 0.944, 16, 37, 53, 29, 6, 4, 14, 27, null], [\"21988\", 1610612744, \"GOS\", \"Golden State Warriors\", \"0028800303\", \"1988-12-23\", \"GOS @ POR\", \"L\", 240, 107, 45, 91, 0.495, 0, 5, 0.0, 17, 26, 0.654, 13, 30, 43, 18, 5, 7, 17, 23, null], [\"21988\", 1610612744, \"GOS\", \"Golden State Warriors\", \"0028800294\", \"1988-12-22\", \"GOS vs. POR\", \"L\", 240, 109, 45, 100, 0.45, 4, 15, 0.267, 15, 21, 0.714, 21, 27, 48, 26, 8, 8, 19, 28, null], [\"21988\", 1610612744, \"GOS\", \"Golden State Warriors\", \"0028800278\", \"1988-12-20\", \"GOS vs. LAC\", \"W\", 240, 113, 44, 94, 0.468, 3, 7, 0.429, 22, 28, 0.786, 13, 28, 41, 26, 12, 16, 17, 12, null], [\"21988\", 1610612744, \"GOS\", \"Golden State Warriors\", \"0028800263\", \"1988-12-17\", \"GOS @ SAN\", \"W\", 240, 123, 42, 80, 0.525, 3, 4, 0.75, 36, 44, 0.818, 16, 29, 45, 22, 11, 12, 28, 31, null], [\"21988\", 1610612744, \"GOS\", \"Golden State Warriors\", \"0028800252\", \"1988-12-15\", \"GOS @ HOU\", \"L\", 290, 115, 48, 103, 0.466, 2, 7, 0.286, 17, 21, 0.81, 14, 29, 43, 18, 14, 8, 25, 33, null], [\"21988\", 1610612744, \"GOS\", \"Golden State Warriors\", \"0028800235\", \"1988-12-13\", \"GOS @ DAL\", \"L\", 240, 111, 44, 95, 0.463, 1, 4, 0.25, 22, 27, 0.815, 19, 25, 44, 20, 5, 6, 13, 24, null], [\"21988\", 1610612744, \"GOS\", \"Golden State Warriors\", \"0028800229\", \"1988-12-10\", \"GOS vs. WAS\", \"W\", 240, 109, 42, 81, 0.519, 0, 2, 0.0, 25, 35, 0.714, 11, 32, 43, 21, 10, 12, 14, 21, null], [\"21988\", 1610612744, \"GOS\", \"Golden State Warriors\", \"0028800217\", \"1988-12-09\", \"GOS @ PHX\", \"L\", 240, 105, 45, 88, 0.511, 0, 6, 0.0, 15, 22, 0.682, 13, 40, 53, 28, 4, 8, 17, 23, null], [\"21988\", 1610612744, \"GOS\", \"Golden State Warriors\", \"0028800197\", \"1988-12-06\", \"GOS vs. UTH\", \"W\", 240, 114, 46, 85, 0.541, 2, 5, 0.4, 20, 25, 0.8, 17, 32, 49, 29, 7, 12, 17, 24, null], [\"21988\", 1610612744, \"GOS\", \"Golden State Warriors\", \"0028800180\", \"1988-12-03\", \"GOS @ SEA\", \"L\", 240, 106, 35, 76, 0.461, 2, 6, 0.333, 34, 44, 0.773, 8, 23, 31, 16, 10, 6, 30, 30, null], [\"21988\", 1610612744, \"GOS\", \"Golden State Warriors\", \"0028800175\", \"1988-12-02\", \"GOS @ DEN\", \"L\", 240, 102, 38, 102, 0.373, 1, 2, 0.5, 25, 31, 0.806, 24, 34, 58, 20, 7, 8, 24, 23, null], [\"21988\", 1610612744, \"GOS\", \"Golden State Warriors\", \"0028800150\", \"1988-11-29\", \"GOS vs. CHI\", \"W\", 240, 109, 40, 88, 0.455, 0, 4, 0.0, 29, 35, 0.829, 13, 37, 50, 24, 8, 6, 16, 20, null], [\"21988\", 1610612744, \"GOS\", \"Golden State Warriors\", \"0028800147\", \"1988-11-27\", \"GOS @ POR\", \"L\", 240, 94, 40, 80, 0.5, 1, 3, 0.333, 13, 17, 0.765, 12, 24, 36, 23, 7, 6, 22, 23, null], [\"21988\", 1610612744, \"GOS\", \"Golden State Warriors\", \"0028800144\", \"1988-11-26\", \"GOS vs. HOU\", \"L\", 240, 109, 43, 111, 0.387, 3, 5, 0.6, 20, 26, 0.769, 26, 30, 56, 23, 10, 8, 19, 31, null], [\"21988\", 1610612744, \"GOS\", \"Golden State Warriors\", \"0028800119\", \"1988-11-23\", \"GOS vs. SEA\", \"L\", 240, 85, 34, 83, 0.41, 1, 3, 0.333, 16, 23, 0.696, 15, 30, 45, 20, 6, 7, 19, 19, null], [\"21988\", 1610612744, \"GOS\", \"Golden State Warriors\", \"0028800096\", \"1988-11-19\", \"GOS @ ATL\", \"L\", 240, 92, 40, 97, 0.412, 0, 3, 0.0, 12, 18, 0.667, 14, 24, 38, 18, 13, 0, 10, 27, null], [\"21988\", 1610612744, \"GOS\", \"Golden State Warriors\", \"0028800088\", \"1988-11-18\", \"GOS @ MIA\", \"W\", 265, 123, 42, 94, 0.447, 0, 2, 0.0, 39, 44, 0.886, 20, 33, 53, 15, 13, 9, 24, 30, null], [\"21988\", 1610612744, \"GOS\", \"Golden State Warriors\", \"0028800078\", \"1988-11-16\", \"GOS @ BOS\", \"L\", 240, 104, 43, 88, 0.489, 1, 4, 0.25, 17, 22, 0.773, 15, 28, 43, 26, 9, 7, 19, 20, null], [\"21988\", 1610612744, \"GOS\", \"Golden State Warriors\", \"0028800065\", \"1988-11-14\", \"GOS @ NJN\", \"W\", 240, 100, 36, 84, 0.429, 1, 4, 0.25, 27, 34, 0.794, 9, 30, 39, 22, 15, 11, 24, 21, null], [\"21988\", 1610612744, \"GOS\", \"Golden State Warriors\", \"0028800058\", \"1988-11-12\", \"GOS vs. POR\", \"W\", 240, 107, 37, 83, 0.446, 0, 0, null, 33, 37, 0.892, 12, 38, 50, 21, 10, 12, 23, 26, null], [\"21988\", 1610612744, \"GOS\", \"Golden State Warriors\", \"0028800049\", \"1988-11-11\", \"GOS @ PHX\", \"L\", 240, 103, 38, 91, 0.418, 0, 2, 0.0, 27, 32, 0.844, 19, 26, 45, 23, 4, 5, 28, 29, null], [\"21988\", 1610612744, \"GOS\", \"Golden State Warriors\", \"0028800039\", \"1988-11-09\", \"GOS @ SEA\", \"W\", 240, 113, 41, 86, 0.477, 0, 0, null, 31, 39, 0.795, 16, 33, 49, 18, 10, 5, 26, 28, null], [\"21988\", 1610612744, \"GOS\", \"Golden State Warriors\", \"0028800029\", \"1988-11-08\", \"GOS vs. LAL\", \"L\", 240, 102, 40, 98, 0.408, 1, 8, 0.125, 21, 24, 0.875, 12, 37, 49, 16, 10, 6, 17, 23, null], [\"21988\", 1610612744, \"GOS\", \"Golden State Warriors\", \"0028800021\", \"1988-11-05\", \"GOS vs. PHX\", \"W\", 240, 117, 48, 99, 0.485, 3, 6, 0.5, 18, 31, 0.581, 20, 38, 58, 31, 5, 9, 19, 23, null], [\"21987\", 1610612744, \"GOS\", \"Golden State Warriors\", \"0028700939\", \"1988-04-24\", \"GOS @ LAL\", \"L\", 240, 100, 42, 94, 0.447, 1, 6, 0.167, 15, 19, 0.789, 16, 25, 41, 22, 6, 1, 23, 32, null], [\"21987\", 1610612744, \"GOS\", \"Golden State Warriors\", \"0028700924\", \"1988-04-22\", \"GOS vs. SAC\", \"L\", 240, 109, 42, 94, 0.447, 0, 5, 0.0, 25, 32, 0.781, 15, 29, 44, 27, 13, 4, 14, 26, null], [\"21987\", 1610612744, \"GOS\", \"Golden State Warriors\", \"0028700914\", \"1988-04-20\", \"GOS vs. POR\", \"L\", 240, 117, 45, 96, 0.469, 2, 5, 0.4, 25, 33, 0.758, 18, 23, 41, 24, 17, 2, 19, 28, null], [\"21987\", 1610612744, \"GOS\", \"Golden State Warriors\", \"0028700906\", \"1988-04-19\", \"GOS @ PHX\", \"L\", 240, 107, 46, 92, 0.5, 0, 4, 0.0, 15, 18, 0.833, 11, 31, 42, 27, 7, 2, 24, 26, null], [\"21987\", 1610612744, \"GOS\", \"Golden State Warriors\", \"0028700894\", \"1988-04-16\", \"GOS vs. LAC\", \"W\", 240, 113, 42, 93, 0.452, 1, 4, 0.25, 28, 34, 0.824, 16, 39, 55, 20, 8, 2, 15, 28, null], [\"21987\", 1610612744, \"GOS\", \"Golden State Warriors\", \"0028700883\", \"1988-04-15\", \"GOS @ POR\", \"L\", 240, 113, 44, 91, 0.484, 1, 4, 0.25, 24, 29, 0.828, 12, 19, 31, 27, 10, 2, 15, 27, null], [\"21987\", 1610612744, \"GOS\", \"Golden State Warriors\", \"0028700876\", \"1988-04-13\", \"GOS vs. DAL\", \"W\", 240, 112, 43, 85, 0.506, 1, 2, 0.5, 25, 32, 0.781, 19, 22, 41, 26, 9, 5, 13, 29, null], [\"21987\", 1610612744, \"GOS\", \"Golden State Warriors\", \"0028700860\", \"1988-04-11\", \"GOS vs. UTH\", \"L\", 240, 102, 44, 87, 0.506, 0, 4, 0.0, 14, 24, 0.583, 15, 28, 43, 22, 7, 0, 20, 25, null], [\"21987\", 1610612744, \"GOS\", \"Golden State Warriors\", \"0028700856\", \"1988-04-10\", \"GOS @ SAC\", \"L\", 240, 115, 46, 95, 0.484, 2, 9, 0.222, 21, 24, 0.875, 9, 33, 42, 28, 11, 9, 19, 37, null], [\"21987\", 1610612744, \"GOS\", \"Golden State Warriors\", \"0028700846\", \"1988-04-08\", \"GOS vs. PHX\", \"W\", 240, 112, 43, 87, 0.494, 1, 4, 0.25, 25, 33, 0.758, 16, 28, 44, 25, 7, 1, 12, 18, null], [\"21987\", 1610612744, \"GOS\", \"Golden State Warriors\", \"0028700829\", \"1988-04-06\", \"GOS @ SEA\", \"L\", 240, 102, 39, 76, 0.513, 3, 6, 0.5, 21, 29, 0.724, 12, 26, 38, 25, 7, 5, 23, 19, null], [\"21987\", 1610612744, \"GOS\", \"Golden State Warriors\", \"0028700824\", \"1988-04-05\", \"GOS vs. SAN\", \"L\", 240, 104, 47, 104, 0.452, 1, 6, 0.167, 9, 11, 0.818, 25, 16, 41, 24, 8, 7, 14, 20, null], [\"21987\", 1610612744, \"GOS\", \"Golden State Warriors\", \"0028700809\", \"1988-04-02\", \"GOS @ DEN\", \"L\", 240, 107, 45, 107, 0.421, 4, 8, 0.5, 13, 19, 0.684, 21, 29, 50, 27, 6, 3, 15, 25, null], [\"21987\", 1610612744, \"GOS\", \"Golden State Warriors\", \"0028700800\", \"1988-03-31\", \"GOS @ UTH\", \"L\", 240, 92, 35, 76, 0.461, 6, 10, 0.6, 16, 22, 0.727, 9, 27, 36, 22, 13, 5, 32, 29, null], [\"21987\", 1610612744, \"GOS\", \"Golden State Warriors\", \"0028700795\", \"1988-03-30\", \"GOS @ PHX\", \"L\", 240, 105, 37, 86, 0.43, 3, 6, 0.5, 28, 43, 0.651, 8, 27, 35, 24, 10, 4, 13, 26, null], [\"21987\", 1610612744, \"GOS\", \"Golden State Warriors\", \"0028700777\", \"1988-03-26\", \"GOS vs. DEN\", \"L\", 240, 108, 45, 93, 0.484, 1, 5, 0.2, 17, 22, 0.773, 12, 21, 33, 27, 5, 1, 18, 17, null], [\"21987\", 1610612744, \"GOS\", \"Golden State Warriors\", \"0028700763\", \"1988-03-25\", \"GOS @ LAC\", \"L\", 240, 98, 34, 91, 0.374, 3, 8, 0.375, 27, 31, 0.871, 19, 32, 51, 18, 7, 5, 18, 32, null], [\"21987\", 1610612744, \"GOS\", \"Golden State Warriors\", \"0028700753\", \"1988-03-23\", \"GOS vs. SAC\", \"W\", 240, 126, 46, 78, 0.59, 1, 4, 0.25, 33, 39, 0.846, 8, 24, 32, 32, 12, 1, 14, 22, null], [\"21987\", 1610612744, \"GOS\", \"Golden State Warriors\", \"0028700737\", \"1988-03-20\", \"GOS vs. LAL\", \"L\", 240, 127, 48, 91, 0.527, 0, 3, 0.0, 31, 34, 0.912, 19, 19, 38, 27, 17, 4, 15, 27, null], [\"21987\", 1610612744, \"GOS\", \"Golden State Warriors\", \"0028700727\", \"1988-03-18\", \"GOS vs. POR\", \"L\", 240, 116, 44, 101, 0.436, 3, 4, 0.75, 25, 32, 0.781, 21, 25, 46, 27, 4, 3, 6, 24, null], [\"21987\", 1610612744, \"GOS\", \"Golden State Warriors\", \"0028700713\", \"1988-03-16\", \"GOS vs. PHX\", \"L\", 240, 112, 46, 97, 0.474, 1, 6, 0.167, 19, 23, 0.826, 12, 22, 34, 28, 10, 2, 13, 23, null], [\"21987\", 1610612744, \"GOS\", \"Golden State Warriors\", \"0028700701\", \"1988-03-14\", \"GOS @ DAL\", \"L\", 240, 101, 42, 94, 0.447, 0, 5, 0.0, 17, 26, 0.654, 15, 25, 40, 26, 14, 4, 15, 26, null], [\"21987\", 1610612744, \"GOS\", \"Golden State Warriors\", \"0028700695\", \"1988-03-13\", \"GOS @ HOU\", \"L\", 240, 112, 46, 95, 0.484, 0, 2, 0.0, 20, 24, 0.833, 13, 34, 47, 14, 9, 0, 18, 29, null], [\"21987\", 1610612744, \"GOS\", \"Golden State Warriors\", \"0028700686\", \"1988-03-11\", \"GOS @ LAC\", \"W\", 240, 101, 41, 84, 0.488, 0, 5, 0.0, 19, 23, 0.826, 11, 29, 40, 31, 9, 9, 13, 23, null], [\"21987\", 1610612744, \"GOS\", \"Golden State Warriors\", \"0028700678\", \"1988-03-10\", \"GOS vs. NJN\", \"W\", 240, 128, 38, 69, 0.551, 5, 6, 0.833, 47, 54, 0.87, 7, 34, 41, 26, 16, 4, 22, 25, null], [\"21987\", 1610612744, \"GOS\", \"Golden State Warriors\", \"0028700668\", \"1988-03-08\", \"GOS vs. SEA\", \"L\", 265, 116, 42, 89, 0.472, 1, 4, 0.25, 31, 38, 0.816, 15, 27, 42, 28, 7, 6, 13, 26, null], [\"21987\", 1610612744, \"GOS\", \"Golden State Warriors\", \"0028700650\", \"1988-03-05\", \"GOS @ POR\", \"L\", 240, 117, 44, 91, 0.484, 3, 6, 0.5, 26, 27, 0.963, 10, 27, 37, 30, 8, 3, 16, 34, null], [\"21987\", 1610612744, \"GOS\", \"Golden State Warriors\", \"0028700641\", \"1988-03-04\", \"GOS @ LAL\", \"L\", 240, 107, 40, 92, 0.435, 2, 3, 0.667, 25, 31, 0.806, 14, 22, 36, 33, 13, 2, 17, 33, null], [\"21987\", 1610612744, \"GOS\", \"Golden State Warriors\", \"0028700632\", \"1988-03-02\", \"GOS vs. HOU\", \"L\", 240, 101, 38, 97, 0.392, 0, 2, 0.0, 25, 29, 0.862, 14, 32, 46, 21, 9, 1, 15, 24, null], [\"21987\", 1610612744, \"GOS\", \"Golden State Warriors\", \"0028700621\", \"1988-02-29\", \"GOS vs. WAS\", \"L\", 240, 105, 41, 96, 0.427, 1, 4, 0.25, 22, 27, 0.815, 16, 24, 40, 23, 8, 3, 10, 22, null], [\"21987\", 1610612744, \"GOS\", \"Golden State Warriors\", \"0028700612\", \"1988-02-27\", \"GOS @ SEA\", \"L\", 240, 111, 46, 91, 0.505, 2, 5, 0.4, 17, 25, 0.68, 11, 30, 41, 29, 5, 2, 14, 26, null], [\"21987\", 1610612744, \"GOS\", \"Golden State Warriors\", \"0028700604\", \"1988-02-26\", \"GOS vs. NYK\", \"L\", 240, 119, 49, 91, 0.538, 0, 2, 0.0, 21, 29, 0.724, 24, 20, 44, 27, 3, 4, 19, 27, null], [\"21987\", 1610612744, \"GOS\", \"Golden State Warriors\", \"0028700592\", \"1988-02-24\", \"GOS vs. DET\", \"L\", 240, 93, 40, 95, 0.421, 2, 5, 0.4, 11, 13, 0.846, 17, 29, 46, 23, 9, 4, 17, 26, null], [\"21987\", 1610612744, \"GOS\", \"Golden State Warriors\", \"0028700580\", \"1988-02-22\", \"GOS vs. SAN\", \"W\", 240, 123, 44, 92, 0.478, 1, 3, 0.333, 34, 44, 0.773, 18, 37, 55, 30, 13, 5, 17, 31, null], [\"21987\", 1610612744, \"GOS\", \"Golden State Warriors\", \"0028700564\", \"1988-02-19\", \"GOS @ DAL\", \"L\", 240, 100, 45, 92, 0.489, 1, 6, 0.167, 9, 12, 0.75, 11, 29, 40, 25, 10, 6, 21, 28, null], [\"21987\", 1610612744, \"GOS\", \"Golden State Warriors\", \"0028700546\", \"1988-02-16\", \"GOS @ HOU\", \"L\", 240, 116, 50, 93, 0.538, 1, 4, 0.25, 15, 18, 0.833, 17, 26, 43, 20, 15, 3, 24, 34, null], [\"21987\", 1610612744, \"GOS\", \"Golden State Warriors\", \"0028700540\", \"1988-02-15\", \"GOS @ SAN\", \"W\", 240, 126, 49, 89, 0.551, 3, 6, 0.5, 25, 27, 0.926, 12, 28, 40, 35, 11, 9, 17, 27, null], [\"21987\", 1610612744, \"GOS\", \"Golden State Warriors\", \"0028700527\", \"1988-02-13\", \"GOS vs. SEA\", \"W\", 240, 109, 41, 74, 0.554, 1, 3, 0.333, 26, 31, 0.839, 9, 24, 33, 26, 11, 7, 23, 20, null], [\"21987\", 1610612744, \"GOS\", \"Golden State Warriors\", \"0028700515\", \"1988-02-11\", \"GOS vs. IND\", \"L\", 240, 107, 44, 77, 0.571, 2, 5, 0.4, 17, 20, 0.85, 10, 35, 45, 30, 12, 4, 23, 26, null], [\"21987\", 1610612744, \"GOS\", \"Golden State Warriors\", \"0028700506\", \"1988-02-09\", \"GOS vs. SAC\", \"W\", 240, 117, 48, 91, 0.527, 2, 8, 0.25, 19, 20, 0.95, 15, 33, 48, 30, 6, 5, 16, 22, null], [\"21987\", 1610612744, \"GOS\", \"Golden State Warriors\", \"0028700491\", \"1988-02-04\", \"GOS @ CLE\", \"W\", 265, 96, 41, 88, 0.466, 1, 3, 0.333, 13, 16, 0.813, 10, 40, 50, 25, 14, 7, 24, 25, null], [\"21987\", 1610612744, \"GOS\", \"Golden State Warriors\", \"0028700483\", \"1988-02-03\", \"GOS @ PHL\", \"L\", 240, 84, 39, 81, 0.481, 1, 2, 0.5, 5, 8, 0.625, 7, 26, 33, 25, 12, 1, 19, 25, null], [\"21987\", 1610612744, \"GOS\", \"Golden State Warriors\", \"0028700471\", \"1988-02-01\", \"GOS @ IND\", \"L\", 240, 88, 38, 83, 0.458, 2, 3, 0.667, 10, 17, 0.588, 8, 24, 32, 18, 8, 3, 12, 22, null], [\"21987\", 1610612744, \"GOS\", \"Golden State Warriors\", \"0028700457\", \"1988-01-29\", \"GOS vs. UTH\", \"W\", 240, 102, 38, 82, 0.463, 1, 3, 0.333, 25, 33, 0.758, 12, 33, 45, 25, 9, 2, 16, 23, null], [\"21987\", 1610612744, \"GOS\", \"Golden State Warriors\", \"0028700447\", \"1988-01-27\", \"GOS vs. POR\", \"W\", 240, 115, 47, 93, 0.505, 1, 1, 1.0, 20, 25, 0.8, 12, 26, 38, 26, 13, 3, 12, 20, null], [\"21987\", 1610612744, \"GOS\", \"Golden State Warriors\", \"0028700434\", \"1988-01-25\", \"GOS vs. MIL\", \"L\", 240, 105, 42, 91, 0.462, 0, 1, 0.0, 21, 27, 0.778, 12, 29, 41, 24, 11, 3, 17, 37, null], [\"21987\", 1610612744, \"GOS\", \"Golden State Warriors\", \"0028700425\", \"1988-01-23\", \"GOS @ CHI\", \"L\", 240, 94, 36, 80, 0.45, 0, 1, 0.0, 22, 30, 0.733, 10, 18, 28, 21, 5, 1, 12, 27, null], [\"21987\", 1610612744, \"GOS\", \"Golden State Warriors\", \"0028700421\", \"1988-01-22\", \"GOS @ WAS\", \"L\", 240, 91, 40, 95, 0.421, 0, 1, 0.0, 11, 17, 0.647, 17, 25, 42, 21, 7, 5, 16, 22, null], [\"21987\", 1610612744, \"GOS\", \"Golden State Warriors\", \"0028700409\", \"1988-01-20\", \"GOS @ NJN\", \"W\", 240, 103, 43, 79, 0.544, 0, 0, null, 17, 20, 0.85, 9, 27, 36, 13, 2, 9, 18, 25, null], [\"21987\", 1610612744, \"GOS\", \"Golden State Warriors\", \"0028700395\", \"1988-01-18\", \"GOS @ BOS\", \"L\", 240, 101, 44, 104, 0.423, 1, 4, 0.25, 12, 17, 0.706, 16, 15, 31, 27, 13, 1, 12, 25, null], [\"21987\", 1610612744, \"GOS\", \"Golden State Warriors\", \"0028700385\", \"1988-01-16\", \"GOS @ DEN\", \"L\", 240, 94, 35, 103, 0.34, 1, 3, 0.333, 23, 30, 0.767, 23, 29, 52, 17, 14, 1, 19, 26, null], [\"21987\", 1610612744, \"GOS\", \"Golden State Warriors\", \"0028700377\", \"1988-01-15\", \"GOS vs. LAC\", \"W\", 240, 123, 47, 95, 0.495, 2, 5, 0.4, 27, 29, 0.931, 14, 24, 38, 23, 10, 1, 16, 23, null], [\"21987\", 1610612744, \"GOS\", \"Golden State Warriors\", \"0028700368\", \"1988-01-13\", \"GOS @ SEA\", \"L\", 240, 115, 38, 97, 0.392, 0, 1, 0.0, 39, 46, 0.848, 22, 23, 45, 21, 4, 2, 19, 30, null], [\"21987\", 1610612744, \"GOS\", \"Golden State Warriors\", \"0028700359\", \"1988-01-12\", \"GOS @ LAL\", \"L\", 240, 113, 47, 91, 0.516, 2, 4, 0.5, 17, 23, 0.739, 19, 34, 53, 26, 3, 4, 19, 27, null], [\"21987\", 1610612744, \"GOS\", \"Golden State Warriors\", \"0028700346\", \"1988-01-09\", \"GOS vs. DAL\", \"L\", 240, 99, 42, 97, 0.433, 1, 5, 0.2, 14, 21, 0.667, 16, 22, 38, 12, 10, 2, 12, 30, null], [\"21987\", 1610612744, \"GOS\", \"Golden State Warriors\", \"0028700338\", \"1988-01-07\", \"GOS vs. HOU\", \"L\", 240, 113, 47, 108, 0.435, 2, 4, 0.5, 17, 21, 0.81, 19, 33, 52, 22, 7, 7, 16, 29, null], [\"21987\", 1610612744, \"GOS\", \"Golden State Warriors\", \"0028700321\", \"1988-01-05\", \"GOS vs. SAN\", \"W\", 240, 129, 51, 94, 0.543, 0, 1, 0.0, 27, 30, 0.9, 15, 32, 47, 27, 10, 5, 15, 22, null], [\"21987\", 1610612744, \"GOS\", \"Golden State Warriors\", \"0028700309\", \"1988-01-02\", \"GOS vs. BOS\", \"L\", 240, 110, 43, 93, 0.462, 0, 2, 0.0, 24, 29, 0.828, 6, 32, 38, 25, 10, 1, 13, 28, null], [\"21987\", 1610612744, \"GOS\", \"Golden State Warriors\", \"0028700299\", \"1987-12-30\", \"GOS @ UTH\", \"L\", 240, 103, 39, 83, 0.47, 1, 2, 0.5, 24, 31, 0.774, 13, 29, 42, 19, 11, 3, 25, 30, null], [\"21987\", 1610612744, \"GOS\", \"Golden State Warriors\", \"0028700276\", \"1987-12-26\", \"GOS @ SAN\", \"L\", 240, 96, 42, 87, 0.483, 1, 3, 0.333, 11, 14, 0.786, 10, 26, 36, 26, 11, 2, 20, 21, null], [\"21987\", 1610612744, \"GOS\", \"Golden State Warriors\", \"0028700264\", \"1987-12-23\", \"GOS vs. DEN\", \"W\", 240, 129, 53, 93, 0.57, 0, 2, 0.0, 23, 29, 0.793, 13, 28, 41, 29, 9, 2, 17, 23, null], [\"21987\", 1610612744, \"GOS\", \"Golden State Warriors\", \"0028700255\", \"1987-12-22\", \"GOS @ POR\", \"L\", 240, 91, 39, 105, 0.371, 1, 2, 0.5, 12, 13, 0.923, 14, 28, 42, 19, 13, 3, 17, 32, null], [\"21987\", 1610612744, \"GOS\", \"Golden State Warriors\", \"0028700244\", \"1987-12-19\", \"GOS vs. SEA\", \"L\", 240, 102, 41, 90, 0.456, 1, 3, 0.333, 19, 27, 0.704, 18, 26, 44, 22, 6, 3, 24, 18, null], [\"21987\", 1610612744, \"GOS\", \"Golden State Warriors\", \"0028700232\", \"1987-12-17\", \"GOS vs. LAL\", \"L\", 240, 106, 47, 87, 0.54, 0, 3, 0.0, 12, 19, 0.632, 9, 32, 41, 26, 8, 3, 15, 29, null], [\"21987\", 1610612744, \"GOS\", \"Golden State Warriors\", \"0028700206\", \"1987-12-12\", \"GOS @ UTH\", \"L\", 240, 93, 41, 92, 0.446, 0, 2, 0.0, 11, 16, 0.688, 15, 22, 37, 20, 3, 5, 9, 26, null], [\"21987\", 1610612744, \"GOS\", \"Golden State Warriors\", \"0028700199\", \"1987-12-11\", \"GOS vs. ATL\", \"L\", 240, 93, 30, 75, 0.4, 0, 0, null, 33, 42, 0.786, 15, 25, 40, 18, 4, 1, 15, 26, null], [\"21987\", 1610612744, \"GOS\", \"Golden State Warriors\", \"0028700190\", \"1987-12-09\", \"GOS vs. CLE\", \"W\", 240, 113, 38, 79, 0.481, 0, 3, 0.0, 37, 44, 0.841, 17, 27, 44, 25, 10, 5, 25, 25, null], [\"21987\", 1610612744, \"GOS\", \"Golden State Warriors\", \"0028700174\", \"1987-12-05\", \"GOS @ HOU\", \"L\", 240, 96, 41, 86, 0.477, 0, 0, null, 14, 20, 0.7, 10, 19, 29, 20, 8, 1, 12, 23, null], [\"21987\", 1610612744, \"GOS\", \"Golden State Warriors\", \"0028700159\", \"1987-12-04\", \"GOS @ DAL\", \"L\", 240, 95, 34, 79, 0.43, 1, 5, 0.2, 26, 30, 0.867, 9, 24, 33, 22, 7, 3, 12, 27, null], [\"21987\", 1610612744, \"GOS\", \"Golden State Warriors\", \"0028700143\", \"1987-12-01\", \"GOS vs. CHI\", \"L\", 240, 97, 40, 92, 0.435, 0, 4, 0.0, 17, 22, 0.773, 13, 34, 47, 26, 2, 4, 13, 18, null], [\"21987\", 1610612744, \"GOS\", \"Golden State Warriors\", \"0028700121\", \"1987-11-27\", \"GOS vs. PHL\", \"W\", 240, 109, 33, 74, 0.446, 1, 4, 0.25, 42, 51, 0.824, 11, 34, 45, 23, 6, 5, 14, 33, null], [\"21987\", 1610612744, \"GOS\", \"Golden State Warriors\", \"0028700111\", \"1987-11-24\", \"GOS vs. LAC\", \"L\", 290, 120, 48, 105, 0.457, 1, 6, 0.167, 23, 34, 0.676, 14, 26, 40, 33, 11, 3, 19, 20, null], [\"21987\", 1610612744, \"GOS\", \"Golden State Warriors\", \"0028700094\", \"1987-11-21\", \"GOS @ NYK\", \"L\", 240, 91, 39, 86, 0.453, 0, 3, 0.0, 13, 19, 0.684, 15, 25, 40, 25, 12, 6, 20, 22, null], [\"21987\", 1610612744, \"GOS\", \"Golden State Warriors\", \"0028700089\", \"1987-11-20\", \"GOS @ DET\", \"L\", 240, 108, 44, 90, 0.489, 0, 2, 0.0, 20, 26, 0.769, 10, 28, 38, 30, 7, 2, 18, 24, null], [\"21987\", 1610612744, \"GOS\", \"Golden State Warriors\", \"0028700074\", \"1987-11-18\", \"GOS @ ATL\", \"L\", 240, 92, 34, 86, 0.395, 2, 4, 0.5, 22, 27, 0.815, 18, 34, 52, 21, 7, 2, 20, 29, null], [\"21987\", 1610612744, \"GOS\", \"Golden State Warriors\", \"0028700067\", \"1987-11-17\", \"GOS @ MIL\", \"L\", 240, 108, 44, 103, 0.427, 0, 3, 0.0, 20, 21, 0.952, 17, 30, 47, 32, 5, 5, 13, 28, null], [\"21987\", 1610612744, \"GOS\", \"Golden State Warriors\", \"0028700057\", \"1987-11-14\", \"GOS vs. LAL\", \"L\", 240, 110, 48, 97, 0.495, 1, 6, 0.167, 13, 17, 0.765, 12, 23, 35, 26, 8, 2, 11, 28, null], [\"21987\", 1610612744, \"GOS\", \"Golden State Warriors\", \"0028700048\", \"1987-11-13\", \"GOS @ LAC\", \"L\", 240, 94, 34, 83, 0.41, 1, 4, 0.25, 25, 31, 0.806, 14, 32, 46, 25, 10, 5, 18, 29, null], [\"21987\", 1610612744, \"GOS\", \"Golden State Warriors\", \"0028700037\", \"1987-11-11\", \"GOS vs. PHX\", \"W\", 240, 130, 47, 93, 0.505, 1, 2, 0.5, 35, 40, 0.875, 17, 29, 46, 28, 5, 2, 14, 31, null], [\"21987\", 1610612744, \"GOS\", \"Golden State Warriors\", \"0028700031\", \"1987-11-10\", \"GOS @ PHX\", \"L\", 240, 109, 42, 94, 0.447, 2, 4, 0.5, 23, 30, 0.767, 14, 25, 39, 26, 13, 5, 16, 32, null], [\"21987\", 1610612744, \"GOS\", \"Golden State Warriors\", \"0028700019\", \"1987-11-07\", \"GOS vs. DEN\", \"L\", 240, 99, 32, 81, 0.395, 0, 4, 0.0, 35, 42, 0.833, 12, 39, 51, 16, 8, 2, 20, 33, null], [\"21987\", 1610612744, \"GOS\", \"Golden State Warriors\", \"0028700001\", \"1987-11-06\", \"GOS @ SAC\", \"L\", 240, 106, 44, 104, 0.423, 0, 0, null, 18, 19, 0.947, 11, 25, 36, 14, 13, 2, 12, 33, null], [\"41986\", 1610612744, \"GOS\", \"Golden State Warriors\", \"0048600049\", \"1987-05-12\", \"GOS @ LAL\", \"L\", 240, 106, 46, 112, 0.411, 1, 6, 0.167, 13, 14, 0.929, 26, 24, 50, 28, 13, 7, 15, 29, null], [\"41986\", 1610612744, \"GOS\", \"Golden State Warriors\", \"0048600046\", \"1987-05-10\", \"GOS vs. LAL\", \"W\", 240, 129, 48, 94, 0.511, 4, 6, 0.667, 29, 35, 0.829, 12, 24, 36, 24, 14, 2, 9, 32, null], [\"41986\", 1610612744, \"GOS\", \"Golden State Warriors\", \"0048600044\", \"1987-05-09\", \"GOS vs. LAL\", \"L\", 240, 108, 41, 89, 0.461, 2, 6, 0.333, 24, 33, 0.727, 18, 17, 35, 24, 7, 5, 11, 29, null], [\"41986\", 1610612744, \"GOS\", \"Golden State Warriors\", \"0048600040\", \"1987-05-07\", \"GOS @ LAL\", \"L\", 240, 101, 42, 92, 0.457, 2, 4, 0.5, 15, 16, 0.938, 16, 19, 35, 29, 16, 1, 18, 31, null], [\"41986\", 1610612744, \"GOS\", \"Golden State Warriors\", \"0048600035\", \"1987-05-05\", \"GOS @ LAL\", \"L\", 240, 116, 50, 92, 0.543, 3, 7, 0.429, 13, 20, 0.65, 9, 24, 33, 39, 9, 4, 13, 20, null], [\"41986\", 1610612744, \"GOS\", \"Golden State Warriors\", \"0048600033\", \"1987-05-03\", \"GOS @ UTH\", \"W\", 240, 118, 42, 84, 0.5, 5, 9, 0.556, 29, 34, 0.853, 17, 27, 44, 26, 2, 10, 13, 29, null], [\"41986\", 1610612744, \"GOS\", \"Golden State Warriors\", \"0048600028\", \"1987-05-01\", \"GOS vs. UTH\", \"W\", 240, 98, 39, 76, 0.513, 1, 3, 0.333, 19, 25, 0.76, 12, 17, 29, 18, 10, 3, 18, 23, null], [\"41986\", 1610612744, \"GOS\", \"Golden State Warriors\", \"0048600023\", \"1987-04-29\", \"GOS vs. UTH\", \"W\", 240, 110, 47, 93, 0.505, 1, 3, 0.333, 15, 19, 0.789, 14, 35, 49, 24, 10, 7, 18, 21, null], [\"41986\", 1610612744, \"GOS\", \"Golden State Warriors\", \"0048600009\", \"1987-04-25\", \"GOS @ UTH\", \"L\", 240, 100, 35, 76, 0.461, 1, 2, 0.5, 29, 36, 0.806, 9, 26, 35, 21, 11, 5, 18, 27, null], [\"41986\", 1610612744, \"GOS\", \"Golden State Warriors\", \"0048600002\", \"1987-04-23\", \"GOS @ UTH\", \"L\", 240, 85, 32, 86, 0.372, 2, 5, 0.4, 19, 22, 0.864, 12, 29, 41, 18, 10, 2, 17, 29, null], [\"21986\", 1610612744, \"GOS\", \"Golden State Warriors\", \"0028600942\", \"1987-04-19\", \"GOS vs. LAC\", \"W\", 240, 105, 46, 91, 0.505, 2, 5, 0.4, 11, 19, 0.579, 11, 34, 45, 31, 10, 3, 15, 20, null], [\"21986\", 1610612744, \"GOS\", \"Golden State Warriors\", \"0028600933\", \"1987-04-18\", \"GOS @ SEA\", \"W\", 240, 132, 50, 87, 0.575, 0, 0, null, 32, 38, 0.842, 14, 26, 40, 35, 6, 5, 15, 30, null], [\"21986\", 1610612744, \"GOS\", \"Golden State Warriors\", \"0028600919\", \"1987-04-15\", \"GOS vs. PHX\", \"L\", 240, 116, 45, 89, 0.506, 0, 2, 0.0, 26, 28, 0.929, 16, 33, 49, 31, 5, 3, 22, 34, null], [\"21986\", 1610612744, \"GOS\", \"Golden State Warriors\", \"0028600908\", \"1987-04-14\", \"GOS @ LAC\", \"W\", 240, 117, 45, 88, 0.511, 0, 1, 0.0, 27, 37, 0.73, 20, 26, 46, 31, 12, 9, 18, 16, null], [\"21986\", 1610612744, \"GOS\", \"Golden State Warriors\", \"0028600898\", \"1987-04-12\", \"GOS vs. UTH\", \"L\", 240, 107, 39, 73, 0.534, 0, 2, 0.0, 29, 33, 0.879, 12, 23, 35, 26, 5, 2, 18, 24, null], [\"21986\", 1610612744, \"GOS\", \"Golden State Warriors\", \"0028600893\", \"1987-04-11\", \"GOS @ SAC\", \"W\", 265, 124, 49, 102, 0.48, 2, 5, 0.4, 24, 31, 0.774, 13, 30, 43, 23, 10, 10, 14, 31, null], [\"21986\", 1610612744, \"GOS\", \"Golden State Warriors\", \"0028600881\", \"1987-04-09\", \"GOS vs. DAL\", \"L\", 240, 100, 40, 86, 0.465, 2, 4, 0.5, 18, 31, 0.581, 11, 22, 33, 20, 6, 0, 15, 23, null], [\"21986\", 1610612744, \"GOS\", \"Golden State Warriors\", \"0028600870\", \"1987-04-07\", \"GOS vs. DEN\", \"L\", 265, 126, 45, 95, 0.474, 5, 11, 0.455, 31, 39, 0.795, 14, 35, 49, 25, 5, 4, 17, 33, null], [\"21986\", 1610612744, \"GOS\", \"Golden State Warriors\", \"0028600860\", \"1987-04-05\", \"GOS @ SAN\", \"W\", 265, 120, 48, 95, 0.505, 0, 5, 0.0, 24, 34, 0.706, 14, 32, 46, 35, 11, 5, 18, 25, null], [\"21986\", 1610612744, \"GOS\", \"Golden State Warriors\", \"0028600846\", \"1987-04-03\", \"GOS @ DAL\", \"L\", 240, 116, 43, 81, 0.531, 2, 3, 0.667, 28, 34, 0.824, 15, 19, 34, 31, 8, 1, 18, 26, null], [\"21986\", 1610612744, \"GOS\", \"Golden State Warriors\", \"0028600837\", \"1987-04-02\", \"GOS @ DEN\", \"L\", 240, 96, 37, 89, 0.416, 0, 2, 0.0, 22, 34, 0.647, 15, 31, 46, 24, 4, 9, 25, 26, null], [\"21986\", 1610612744, \"GOS\", \"Golden State Warriors\", \"0028600811\", \"1987-03-28\", \"GOS vs. UTH\", \"W\", 240, 116, 48, 99, 0.485, 2, 4, 0.5, 18, 23, 0.783, 20, 34, 54, 26, 6, 3, 18, 24, null], [\"21986\", 1610612744, \"GOS\", \"Golden State Warriors\", \"0028600804\", \"1987-03-27\", \"GOS @ SEA\", \"W\", 240, 106, 44, 84, 0.524, 1, 3, 0.333, 17, 24, 0.708, 16, 25, 41, 27, 9, 8, 19, 21, null], [\"21986\", 1610612744, \"GOS\", \"Golden State Warriors\", \"0028600793\", \"1987-03-25\", \"GOS vs. DET\", \"W\", 240, 127, 51, 98, 0.52, 0, 3, 0.0, 25, 31, 0.806, 19, 32, 51, 30, 5, 8, 15, 25, null], [\"21986\", 1610612744, \"GOS\", \"Golden State Warriors\", \"0028600771\", \"1987-03-21\", \"GOS @ PHX\", \"W\", 240, 105, 40, 78, 0.513, 2, 8, 0.25, 23, 32, 0.719, 9, 29, 38, 25, 10, 3, 11, 23, null], [\"21986\", 1610612744, \"GOS\", \"Golden State Warriors\", \"0028600756\", \"1987-03-19\", \"GOS vs. POR\", \"W\", 240, 125, 43, 93, 0.462, 1, 3, 0.333, 38, 48, 0.792, 23, 30, 53, 24, 6, 3, 13, 30, null], [\"21986\", 1610612744, \"GOS\", \"Golden State Warriors\", \"0028600742\", \"1987-03-17\", \"GOS @ UTH\", \"L\", 240, 103, 43, 110, 0.391, 0, 3, 0.0, 17, 26, 0.654, 23, 29, 52, 24, 5, 0, 10, 22, null], [\"21986\", 1610612744, \"GOS\", \"Golden State Warriors\", \"0028600733\", \"1987-03-15\", \"GOS @ POR\", \"L\", 240, 108, 41, 95, 0.432, 2, 7, 0.286, 24, 30, 0.8, 23, 26, 49, 23, 8, 3, 24, 25, null], [\"21986\", 1610612744, \"GOS\", \"Golden State Warriors\", \"0028600708\", \"1987-03-11\", \"GOS @ LAC\", \"W\", 240, 121, 43, 79, 0.544, 1, 3, 0.333, 34, 42, 0.81, 9, 26, 35, 24, 15, 1, 21, 29, null], [\"21986\", 1610612744, \"GOS\", \"Golden State Warriors\", \"0028600706\", \"1987-03-10\", \"GOS vs. SAC\", \"W\", 240, 125, 49, 83, 0.59, 0, 1, 0.0, 27, 38, 0.711, 10, 26, 36, 26, 10, 3, 13, 26, null], [\"21986\", 1610612744, \"GOS\", \"Golden State Warriors\", \"0028600696\", \"1987-03-08\", \"GOS vs. SAN\", \"W\", 240, 137, 63, 99, 0.636, 0, 1, 0.0, 11, 12, 0.917, 14, 30, 44, 43, 6, 2, 13, 20, null], [\"21986\", 1610612744, \"GOS\", \"Golden State Warriors\", \"0028600676\", \"1987-03-05\", \"GOS vs. HOU\", \"W\", 240, 105, 42, 83, 0.506, 0, 2, 0.0, 21, 26, 0.808, 11, 26, 37, 25, 8, 3, 13, 27, null], [\"21986\", 1610612744, \"GOS\", \"Golden State Warriors\", \"0028600666\", \"1987-03-03\", \"GOS vs. LAL\", \"L\", 240, 109, 46, 99, 0.465, 2, 7, 0.286, 15, 20, 0.75, 16, 22, 38, 28, 11, 1, 15, 27, null], [\"21986\", 1610612744, \"GOS\", \"Golden State Warriors\", \"0028600644\", \"1987-02-27\", \"GOS @ LAL\", \"L\", 240, 109, 48, 89, 0.539, 2, 8, 0.25, 11, 13, 0.846, 7, 21, 28, 35, 9, 2, 12, 23, null], [\"21986\", 1610612744, \"GOS\", \"Golden State Warriors\", \"0028600636\", \"1987-02-26\", \"GOS vs. LAC\", \"W\", 240, 129, 47, 88, 0.534, 2, 4, 0.5, 33, 42, 0.786, 18, 38, 56, 28, 11, 3, 21, 24, null], [\"21986\", 1610612744, \"GOS\", \"Golden State Warriors\", \"0028600616\", \"1987-02-23\", \"GOS vs. DAL\", \"L\", 240, 95, 35, 85, 0.412, 0, 3, 0.0, 25, 28, 0.893, 13, 22, 35, 20, 8, 1, 15, 30, null], [\"21986\", 1610612744, \"GOS\", \"Golden State Warriors\", \"0028600604\", \"1987-02-21\", \"GOS @ DAL\", \"L\", 265, 111, 43, 92, 0.467, 0, 5, 0.0, 25, 30, 0.833, 15, 30, 45, 26, 5, 5, 22, 40, null], [\"21986\", 1610612744, \"GOS\", \"Golden State Warriors\", \"0028600595\", \"1987-02-19\", \"GOS @ NJN\", \"W\", 240, 110, 41, 82, 0.5, 2, 4, 0.5, 26, 37, 0.703, 11, 32, 43, 23, 11, 9, 11, 29, null], [\"21986\", 1610612744, \"GOS\", \"Golden State Warriors\", \"0028600587\", \"1987-02-18\", \"GOS @ PHL\", \"L\", 240, 103, 40, 90, 0.444, 0, 5, 0.0, 23, 27, 0.852, 21, 25, 46, 26, 7, 6, 12, 28, null], [\"21986\", 1610612744, \"GOS\", \"Golden State Warriors\", \"0028600583\", \"1987-02-16\", \"GOS @ IND\", \"L\", 240, 93, 43, 94, 0.457, 1, 4, 0.25, 6, 9, 0.667, 14, 25, 39, 26, 5, 4, 14, 22, null], [\"21986\", 1610612744, \"GOS\", \"Golden State Warriors\", \"0028600570\", \"1987-02-14\", \"GOS vs. ATL\", \"W\", 240, 103, 38, 101, 0.376, 5, 9, 0.556, 22, 27, 0.815, 26, 44, 70, 23, 4, 6, 10, 19, null], [\"21986\", 1610612744, \"GOS\", \"Golden State Warriors\", \"0028600555\", \"1987-02-12\", \"GOS vs. BOS\", \"L\", 240, 112, 44, 95, 0.463, 1, 4, 0.25, 23, 29, 0.793, 10, 32, 42, 29, 7, 3, 15, 28, null], [\"21986\", 1610612744, \"GOS\", \"Golden State Warriors\", \"0028600540\", \"1987-02-10\", \"GOS vs. IND\", \"L\", 265, 125, 46, 92, 0.5, 2, 5, 0.4, 31, 35, 0.886, 10, 29, 39, 29, 11, 3, 11, 27, null], [\"21986\", 1610612744, \"GOS\", \"Golden State Warriors\", \"0028600532\", \"1987-02-05\", \"GOS @ HOU\", \"L\", 240, 110, 45, 96, 0.469, 2, 5, 0.4, 18, 20, 0.9, 18, 22, 40, 30, 6, 5, 13, 28, null], [\"21986\", 1610612744, \"GOS\", \"Golden State Warriors\", \"0028600524\", \"1987-02-03\", \"GOS @ SAN\", \"L\", 240, 103, 44, 99, 0.444, 2, 6, 0.333, 13, 22, 0.591, 15, 25, 40, 22, 11, 5, 13, 26, null], [\"21986\", 1610612744, \"GOS\", \"Golden State Warriors\", \"0028600508\", \"1987-02-01\", \"GOS vs. NJN\", \"W\", 340, 150, 58, 124, 0.468, 0, 3, 0.0, 34, 44, 0.773, 18, 43, 61, 33, 16, 7, 19, 32, null], [\"21986\", 1610612744, \"GOS\", \"Golden State Warriors\", \"0028600497\", \"1987-01-30\", \"GOS vs. SEA\", \"W\", 240, 127, 50, 87, 0.575, 1, 1, 1.0, 26, 30, 0.867, 9, 19, 28, 22, 12, 3, 9, 23, null], [\"21986\", 1610612744, \"GOS\", \"Golden State Warriors\", \"0028600483\", \"1987-01-28\", \"GOS @ PHX\", \"L\", 240, 104, 40, 88, 0.455, 4, 10, 0.4, 20, 24, 0.833, 16, 20, 36, 20, 8, 5, 11, 33, null], [\"21986\", 1610612744, \"GOS\", \"Golden State Warriors\", \"0028600476\", \"1987-01-27\", \"GOS vs. MIL\", \"L\", 240, 115, 43, 90, 0.478, 3, 6, 0.5, 26, 31, 0.839, 17, 34, 51, 26, 6, 7, 21, 27, null], [\"21986\", 1610612744, \"GOS\", \"Golden State Warriors\", \"0028600457\", \"1987-01-23\", \"GOS @ UTH\", \"L\", 240, 100, 36, 93, 0.387, 1, 7, 0.143, 27, 37, 0.73, 15, 33, 48, 20, 11, 6, 19, 27, null], [\"21986\", 1610612744, \"GOS\", \"Golden State Warriors\", \"0028600449\", \"1987-01-21\", \"GOS @ DEN\", \"L\", 240, 112, 41, 76, 0.539, 2, 3, 0.667, 28, 38, 0.737, 5, 35, 40, 24, 4, 3, 26, 30, null], [\"21986\", 1610612744, \"GOS\", \"Golden State Warriors\", \"0028600442\", \"1987-01-20\", \"GOS @ SAC\", \"L\", 239, 114, 42, 89, 0.472, 4, 7, 0.571, 26, 28, 0.929, 12, 25, 37, 19, 9, 1, 19, 27, null], [\"21986\", 1610612744, \"GOS\", \"Golden State Warriors\", \"0028600432\", \"1987-01-18\", \"GOS @ POR\", \"W\", 240, 116, 42, 82, 0.512, 1, 4, 0.25, 31, 37, 0.838, 6, 38, 44, 21, 7, 4, 23, 27, null], [\"21986\", 1610612744, \"GOS\", \"Golden State Warriors\", \"0028600421\", \"1987-01-16\", \"GOS vs. LAC\", \"W\", 240, 118, 45, 91, 0.495, 0, 6, 0.0, 28, 40, 0.7, 18, 34, 52, 29, 9, 3, 16, 26, null], [\"21986\", 1610612744, \"GOS\", \"Golden State Warriors\", \"0028600413\", \"1987-01-15\", \"GOS @ LAL\", \"L\", 240, 109, 39, 89, 0.438, 2, 5, 0.4, 29, 34, 0.853, 13, 25, 38, 27, 8, 3, 19, 30, null], [\"21986\", 1610612744, \"GOS\", \"Golden State Warriors\", \"0028600404\", \"1987-01-13\", \"GOS vs. SAN\", \"W\", 240, 111, 44, 89, 0.494, 3, 5, 0.6, 20, 28, 0.714, 10, 35, 45, 30, 8, 6, 17, 23, null], [\"21986\", 1610612744, \"GOS\", \"Golden State Warriors\", \"0028600388\", \"1987-01-10\", \"GOS vs. LAL\", \"W\", 240, 124, 48, 101, 0.475, 3, 7, 0.429, 25, 30, 0.833, 22, 31, 53, 29, 11, 4, 15, 31, null], [\"21986\", 1610612744, \"GOS\", \"Golden State Warriors\", \"0028600371\", \"1987-01-08\", \"GOS vs. SEA\", \"L\", 240, 108, 40, 91, 0.44, 2, 7, 0.286, 26, 48, 0.542, 15, 34, 49, 25, 5, 4, 13, 27, null], [\"21986\", 1610612744, \"GOS\", \"Golden State Warriors\", \"0028600358\", \"1987-01-06\", \"GOS vs. HOU\", \"W\", 240, 118, 47, 96, 0.49, 2, 6, 0.333, 22, 25, 0.88, 14, 27, 41, 28, 15, 3, 22, 23, null], [\"21986\", 1610612744, \"GOS\", \"Golden State Warriors\", \"0028600353\", \"1987-01-04\", \"GOS vs. PHX\", \"L\", 240, 101, 35, 82, 0.427, 3, 7, 0.429, 28, 39, 0.718, 21, 27, 48, 19, 4, 1, 16, 26, null], [\"21986\", 1610612744, \"GOS\", \"Golden State Warriors\", \"0028600342\", \"1987-01-02\", \"GOS vs. SAC\", \"W\", 240, 115, 46, 92, 0.5, 3, 7, 0.429, 20, 26, 0.769, 13, 29, 42, 28, 6, 2, 12, 24, null], [\"21986\", 1610612744, \"GOS\", \"Golden State Warriors\", \"0028600328\", \"1986-12-30\", \"GOS @ CHI\", \"W\", 240, 102, 38, 90, 0.422, 0, 3, 0.0, 26, 29, 0.897, 15, 26, 41, 20, 10, 4, 12, 19, null], [\"21986\", 1610612744, \"GOS\", \"Golden State Warriors\", \"0028600321\", \"1986-12-29\", \"GOS @ WAS\", \"L\", 240, 105, 45, 100, 0.45, 1, 2, 0.5, 14, 21, 0.667, 19, 28, 47, 20, 14, 1, 21, 30, null], [\"21986\", 1610612744, \"GOS\", \"Golden State Warriors\", \"0028600314\", \"1986-12-27\", \"GOS @ ATL\", \"L\", 240, 108, 44, 97, 0.454, 2, 4, 0.5, 18, 28, 0.643, 16, 24, 40, 28, 9, 3, 11, 24, null], [\"21986\", 1610612744, \"GOS\", \"Golden State Warriors\", \"0028600306\", \"1986-12-26\", \"GOS @ DET\", \"L\", 240, 106, 44, 92, 0.478, 0, 6, 0.0, 18, 31, 0.581, 14, 23, 37, 23, 10, 3, 18, 25, null], [\"21986\", 1610612744, \"GOS\", \"Golden State Warriors\", \"0028600294\", \"1986-12-23\", \"GOS vs. POR\", \"W\", 240, 112, 40, 87, 0.46, 3, 7, 0.429, 29, 38, 0.763, 18, 31, 49, 23, 10, 1, 24, 26, null], [\"21986\", 1610612744, \"GOS\", \"Golden State Warriors\", \"0028600285\", \"1986-12-21\", \"GOS @ SEA\", \"W\", 240, 121, 40, 83, 0.482, 2, 2, 1.0, 39, 54, 0.722, 15, 28, 43, 20, 17, 6, 28, 28, null], [\"21986\", 1610612744, \"GOS\", \"Golden State Warriors\", \"0028600279\", \"1986-12-20\", \"GOS @ DEN\", \"L\", 240, 112, 39, 87, 0.448, 2, 8, 0.25, 32, 41, 0.78, 14, 31, 45, 18, 7, 3, 23, 36, null], [\"21986\", 1610612744, \"GOS\", \"Golden State Warriors\", \"0028600263\", \"1986-12-18\", \"GOS vs. WAS\", \"L\", 240, 110, 43, 94, 0.457, 2, 5, 0.4, 22, 30, 0.733, 13, 19, 32, 23, 6, 1, 6, 25, null], [\"21986\", 1610612744, \"GOS\", \"Golden State Warriors\", \"0028600251\", \"1986-12-16\", \"GOS @ LAC\", \"W\", 240, 119, 46, 91, 0.505, 2, 3, 0.667, 25, 30, 0.833, 13, 30, 43, 23, 9, 4, 10, 29, null], [\"21986\", 1610612744, \"GOS\", \"Golden State Warriors\", \"0028600238\", \"1986-12-13\", \"GOS @ SAN\", \"W\", 240, 117, 39, 91, 0.429, 2, 6, 0.333, 37, 43, 0.86, 14, 30, 44, 24, 7, 7, 6, 20, null], [\"21986\", 1610612744, \"GOS\", \"Golden State Warriors\", \"0028600224\", \"1986-12-11\", \"GOS @ HOU\", \"W\", 240, 111, 44, 98, 0.449, 2, 6, 0.333, 21, 23, 0.913, 16, 24, 40, 26, 13, 4, 15, 20, null], [\"21986\", 1610612744, \"GOS\", \"Golden State Warriors\", \"0028600213\", \"1986-12-09\", \"GOS vs. PHX\", \"L\", 240, 94, 39, 94, 0.415, 0, 2, 0.0, 16, 24, 0.667, 15, 27, 42, 21, 8, 5, 16, 21, null], [\"21986\", 1610612744, \"GOS\", \"Golden State Warriors\", \"0028600206\", \"1986-12-07\", \"GOS @ LAL\", \"L\", 240, 100, 39, 92, 0.424, 0, 4, 0.0, 22, 26, 0.846, 20, 26, 46, 18, 7, 3, 22, 24, null], [\"21986\", 1610612744, \"GOS\", \"Golden State Warriors\", \"0028600199\", \"1986-12-06\", \"GOS vs. DAL\", \"L\", 240, 104, 37, 94, 0.394, 3, 7, 0.429, 27, 36, 0.75, 19, 29, 48, 22, 9, 5, 12, 21, null], [\"21986\", 1610612744, \"GOS\", \"Golden State Warriors\", \"0028600190\", \"1986-12-04\", \"GOS vs. LAL\", \"W\", 240, 116, 49, 91, 0.538, 1, 5, 0.2, 17, 23, 0.739, 11, 29, 40, 33, 13, 4, 13, 27, null], [\"21986\", 1610612744, \"GOS\", \"Golden State Warriors\", \"0028600173\", \"1986-12-02\", \"GOS vs. HOU\", \"W\", 240, 104, 34, 76, 0.447, 0, 1, 0.0, 36, 38, 0.947, 11, 32, 43, 20, 8, 1, 19, 24, null], [\"21986\", 1610612744, \"GOS\", \"Golden State Warriors\", \"0028600166\", \"1986-11-29\", \"GOS vs. CHI\", \"W\", 240, 113, 42, 77, 0.545, 2, 4, 0.5, 27, 31, 0.871, 10, 25, 35, 25, 3, 4, 19, 32, null], [\"21986\", 1610612744, \"GOS\", \"Golden State Warriors\", \"0028600161\", \"1986-11-28\", \"GOS @ SAC\", \"W\", 240, 103, 42, 79, 0.532, 2, 5, 0.4, 17, 22, 0.773, 15, 26, 41, 23, 11, 6, 18, 24, null], [\"21986\", 1610612744, \"GOS\", \"Golden State Warriors\", \"0028600136\", \"1986-11-25\", \"GOS vs. UTH\", \"W\", 240, 111, 41, 77, 0.532, 0, 3, 0.0, 29, 36, 0.806, 11, 31, 42, 22, 11, 5, 19, 21, null], [\"21986\", 1610612744, \"GOS\", \"Golden State Warriors\", \"0028600126\", \"1986-11-22\", \"GOS @ NYK\", \"W\", 240, 97, 37, 86, 0.43, 1, 3, 0.333, 22, 27, 0.815, 12, 34, 46, 23, 10, 3, 20, 28, null], [\"21986\", 1610612744, \"GOS\", \"Golden State Warriors\", \"0028600119\", \"1986-11-21\", \"GOS @ BOS\", \"L\", 240, 120, 46, 102, 0.451, 5, 9, 0.556, 23, 27, 0.852, 16, 17, 33, 27, 11, 2, 12, 27, null], [\"21986\", 1610612744, \"GOS\", \"Golden State Warriors\", \"0028600110\", \"1986-11-19\", \"GOS @ CLE\", \"W\", 240, 112, 49, 98, 0.5, 1, 1, 1.0, 13, 14, 0.929, 15, 30, 45, 26, 11, 14, 15, 23, null], [\"21986\", 1610612744, \"GOS\", \"Golden State Warriors\", \"0028600102\", \"1986-11-18\", \"GOS @ MIL\", \"L\", 240, 85, 27, 71, 0.38, 0, 1, 0.0, 31, 38, 0.816, 8, 29, 37, 16, 9, 3, 21, 22, null], [\"21986\", 1610612744, \"GOS\", \"Golden State Warriors\", \"0028600089\", \"1986-11-15\", \"GOS vs. SEA\", \"L\", 239, 121, 45, 88, 0.511, 2, 3, 0.667, 29, 43, 0.674, 12, 30, 42, 24, 7, 0, 14, 21, null], [\"21986\", 1610612744, \"GOS\", \"Golden State Warriors\", \"0028600077\", \"1986-11-13\", \"GOS vs. PHL\", \"W\", 240, 112, 41, 88, 0.466, 1, 3, 0.333, 29, 33, 0.879, 10, 39, 49, 24, 11, 5, 17, 25, null], [\"21986\", 1610612744, \"GOS\", \"Golden State Warriors\", \"0028600064\", \"1986-11-11\", \"GOS @ POR\", \"L\", 240, 108, 45, 92, 0.489, 1, 5, 0.2, 17, 21, 0.81, 14, 23, 37, 20, 8, 2, 18, 29, null], [\"21986\", 1610612744, \"GOS\", \"Golden State Warriors\", \"0028600047\", \"1986-11-07\", \"GOS vs. CLE\", \"L\", 240, 114, 46, 95, 0.484, 0, 2, 0.0, 22, 25, 0.88, 17, 33, 50, 31, 10, 2, 17, 30, null], [\"21986\", 1610612744, \"GOS\", \"Golden State Warriors\", \"0028600034\", \"1986-11-05\", \"GOS vs. POR\", \"W\", 240, 102, 42, 92, 0.457, 0, 4, 0.0, 18, 26, 0.692, 20, 25, 45, 24, 7, 7, 16, 26, null], [\"21986\", 1610612744, \"GOS\", \"Golden State Warriors\", \"0028600024\", \"1986-11-03\", \"GOS vs. NYK\", \"W\", 240, 104, 40, 79, 0.506, 0, 4, 0.0, 24, 29, 0.828, 10, 30, 40, 28, 12, 5, 11, 21, null], [\"21986\", 1610612744, \"GOS\", \"Golden State Warriors\", \"0028600015\", \"1986-11-01\", \"GOS vs. DEN\", \"W\", 240, 131, 49, 92, 0.533, 1, 1, 1.0, 32, 39, 0.821, 14, 34, 48, 28, 7, 2, 28, 30, null], [\"21986\", 1610612744, \"GOS\", \"Golden State Warriors\", \"0028600009\", \"1986-10-31\", \"GOS @ PHX\", \"L\", 240, 123, 49, 99, 0.495, 1, 6, 0.167, 24, 31, 0.774, 18, 27, 45, 26, 15, 3, 18, 31, null], [\"21985\", 1610612744, \"GOS\", \"Golden State Warriors\", \"0028500929\", \"1986-04-12\", \"GOS @ SEA\", \"L\", 240, 101, 39, 98, 0.398, 0, 3, 0.0, 23, 30, 0.767, 19, 30, 49, 22, 8, 6, 21, 21, null], [\"21985\", 1610612744, \"GOS\", \"Golden State Warriors\", \"0028500922\", \"1986-04-11\", \"GOS vs. POR\", \"L\", 240, 130, 53, 88, 0.602, 0, 2, 0.0, 24, 32, 0.75, 10, 23, 33, 26, 11, 8, 17, 32, null], [\"21985\", 1610612744, \"GOS\", \"Golden State Warriors\", \"0028500907\", \"1986-04-08\", \"GOS vs. DAL\", \"W\", 240, 129, 55, 112, 0.491, 0, 3, 0.0, 19, 24, 0.792, 22, 41, 63, 29, 7, 9, 9, 20, null], [\"21985\", 1610612744, \"GOS\", \"Golden State Warriors\", \"0028500895\", \"1986-04-05\", \"GOS @ LAC\", \"W\", 240, 107, 44, 90, 0.489, 4, 5, 0.8, 15, 19, 0.789, 13, 31, 44, 27, 13, 3, 17, 24, null], [\"21985\", 1610612744, \"GOS\", \"Golden State Warriors\", \"0028500874\", \"1986-04-02\", \"GOS @ PHX\", \"L\", 240, 101, 44, 89, 0.494, 2, 6, 0.333, 11, 15, 0.733, 11, 27, 38, 28, 10, 3, 17, 31, null], [\"21985\", 1610612744, \"GOS\", \"Golden State Warriors\", \"0028500867\", \"1986-04-01\", \"GOS @ HOU\", \"L\", 240, 121, 47, 99, 0.475, 4, 6, 0.667, 23, 32, 0.719, 19, 37, 56, 31, 7, 8, 16, 20, null], [\"21985\", 1610612744, \"GOS\", \"Golden State Warriors\", \"0028500860\", \"1986-03-30\", \"GOS @ LAL\", \"L\", 240, 117, 48, 92, 0.522, 0, 2, 0.0, 21, 23, 0.913, 12, 27, 39, 28, 7, 3, 16, 25, null], [\"21985\", 1610612744, \"GOS\", \"Golden State Warriors\", \"0028500852\", \"1986-03-29\", \"GOS vs. POR\", \"W\", 240, 130, 56, 96, 0.583, 1, 2, 0.5, 17, 22, 0.773, 15, 28, 43, 30, 4, 2, 17, 32, null], [\"21985\", 1610612744, \"GOS\", \"Golden State Warriors\", \"0028500843\", \"1986-03-27\", \"GOS vs. SAN\", \"W\", 240, 121, 48, 92, 0.522, 1, 1, 1.0, 24, 29, 0.828, 14, 23, 37, 28, 14, 4, 15, 27, null], [\"21985\", 1610612744, \"GOS\", \"Golden State Warriors\", \"0028500829\", \"1986-03-25\", \"GOS vs. DET\", \"W\", 240, 125, 47, 95, 0.495, 3, 6, 0.5, 28, 36, 0.778, 12, 37, 49, 27, 6, 5, 12, 5, null], [\"21985\", 1610612744, \"GOS\", \"Golden State Warriors\", \"0028500821\", \"1986-03-23\", \"GOS vs. DEN\", \"W\", 240, 113, 48, 104, 0.462, 1, 3, 0.333, 16, 28, 0.571, 30, 36, 66, 27, 9, 5, 17, 23, null], [\"21985\", 1610612744, \"GOS\", \"Golden State Warriors\", \"0028500803\", \"1986-03-20\", \"GOS @ SEA\", \"L\", 240, 104, 43, 100, 0.43, 1, 4, 0.25, 17, 23, 0.739, 16, 30, 46, 27, 8, 7, 15, 23, null], [\"21985\", 1610612744, \"GOS\", \"Golden State Warriors\", \"0028500786\", \"1986-03-18\", \"GOS vs. LAC\", \"W\", 240, 126, 51, 93, 0.548, 2, 4, 0.5, 22, 33, 0.667, 12, 31, 43, 28, 5, 7, 14, 25, null], [\"21985\", 1610612744, \"GOS\", \"Golden State Warriors\", \"0028500774\", \"1986-03-16\", \"GOS vs. PHX\", \"W\", 240, 130, 52, 98, 0.531, 1, 5, 0.2, 25, 33, 0.758, 14, 28, 42, 21, 13, 9, 18, 20, null], [\"21985\", 1610612744, \"GOS\", \"Golden State Warriors\", \"0028500749\", \"1986-03-12\", \"GOS @ UTH\", \"W\", 240, 118, 43, 88, 0.489, 2, 4, 0.5, 30, 35, 0.857, 18, 27, 45, 22, 5, 5, 17, 19, null], [\"21985\", 1610612744, \"GOS\", \"Golden State Warriors\", \"0028500738\", \"1986-03-10\", \"GOS vs. SEA\", \"L\", 240, 108, 40, 77, 0.519, 2, 5, 0.4, 26, 33, 0.788, 12, 25, 37, 21, 7, 7, 16, 23, null], [\"21985\", 1610612744, \"GOS\", \"Golden State Warriors\", \"0028500729\", \"1986-03-08\", \"GOS vs. CLE\", \"W\", 240, 138, 47, 83, 0.566, 1, 3, 0.333, 43, 55, 0.782, 14, 32, 46, 29, 7, 5, 13, 33, null], [\"21985\", 1610612744, \"GOS\", \"Golden State Warriors\", \"0028500713\", \"1986-03-06\", \"GOS vs. LAL\", \"L\", 240, 111, 42, 87, 0.483, 0, 6, 0.0, 27, 39, 0.692, 13, 29, 42, 24, 12, 0, 14, 23, null], [\"21985\", 1610612744, \"GOS\", \"Golden State Warriors\", \"0028500702\", \"1986-03-04\", \"GOS vs. SAN\", \"W\", 265, 129, 53, 107, 0.495, 0, 3, 0.0, 23, 31, 0.742, 15, 33, 48, 29, 11, 9, 14, 24, null], [\"21985\", 1610612744, \"GOS\", \"Golden State Warriors\", \"0028500694\", \"1986-03-03\", \"GOS @ LAL\", \"L\", 240, 117, 44, 80, 0.55, 3, 5, 0.6, 26, 37, 0.703, 17, 19, 36, 33, 7, 2, 15, 20, null], [\"21985\", 1610612744, \"GOS\", \"Golden State Warriors\", \"0028500689\", \"1986-03-01\", \"GOS @ DAL\", \"L\", 240, 110, 48, 100, 0.48, 3, 6, 0.5, 11, 17, 0.647, 20, 21, 41, 31, 8, 3, 16, 24, null], [\"21985\", 1610612744, \"GOS\", \"Golden State Warriors\", \"0028500671\", \"1986-02-27\", \"GOS @ WAS\", \"L\", 240, 102, 42, 95, 0.442, 1, 6, 0.167, 17, 25, 0.68, 23, 30, 53, 25, 9, 3, 18, 30, null], [\"21985\", 1610612744, \"GOS\", \"Golden State Warriors\", \"0028500659\", \"1986-02-25\", \"GOS @ NJN\", \"W\", 240, 116, 43, 92, 0.467, 2, 3, 0.667, 28, 38, 0.737, 15, 31, 46, 25, 13, 4, 19, 27, null], [\"21985\", 1610612744, \"GOS\", \"Golden State Warriors\", \"0028500650\", \"1986-02-23\", \"GOS @ SAC\", \"L\", 240, 124, 46, 86, 0.535, 3, 6, 0.5, 29, 37, 0.784, 10, 25, 35, 23, 9, 2, 13, 30, null], [\"21985\", 1610612744, \"GOS\", \"Golden State Warriors\", \"0028500633\", \"1986-02-21\", \"GOS @ LAC\", \"W\", 240, 125, 46, 98, 0.469, 1, 2, 0.5, 32, 37, 0.865, 19, 22, 41, 21, 9, 2, 16, 34, null], [\"21985\", 1610612744, \"GOS\", \"Golden State Warriors\", \"0028500625\", \"1986-02-19\", \"GOS vs. BOS\", \"L\", 240, 100, 44, 98, 0.449, 1, 4, 0.25, 11, 16, 0.688, 14, 30, 44, 25, 7, 2, 9, 28, null], [\"21985\", 1610612744, \"GOS\", \"Golden State Warriors\", \"0028500609\", \"1986-02-17\", \"GOS vs. HOU\", \"L\", 240, 110, 46, 94, 0.489, 2, 5, 0.4, 16, 20, 0.8, 15, 35, 50, 26, 8, 6, 18, 25, null], [\"21985\", 1610612744, \"GOS\", \"Golden State Warriors\", \"0028500600\", \"1986-02-15\", \"GOS @ DEN\", \"L\", 240, 100, 38, 74, 0.514, 1, 3, 0.333, 23, 32, 0.719, 6, 36, 42, 20, 9, 4, 30, 25, null], [\"21985\", 1610612744, \"GOS\", \"Golden State Warriors\", \"0028500585\", \"1986-02-13\", \"GOS vs. WAS\", \"W\", 240, 109, 42, 89, 0.472, 1, 2, 0.5, 24, 33, 0.727, 23, 34, 57, 20, 5, 4, 13, 17, null], [\"21985\", 1610612744, \"GOS\", \"Golden State Warriors\", \"0028500577\", \"1986-02-11\", \"GOS vs. LAL\", \"W\", 240, 137, 50, 88, 0.568, 0, 2, 0.0, 37, 52, 0.712, 16, 32, 48, 27, 15, 4, 15, 28, null], [\"21985\", 1610612744, \"GOS\", \"Golden State Warriors\", \"0028500550\", \"1986-02-04\", \"GOS @ PHX\", \"L\", 240, 118, 46, 82, 0.561, 0, 2, 0.0, 26, 29, 0.897, 12, 29, 41, 29, 12, 2, 26, 22, null], [\"21985\", 1610612744, \"GOS\", \"Golden State Warriors\", \"0028500542\", \"1986-02-01\", \"GOS vs. PHL\", \"W\", 240, 125, 42, 90, 0.467, 0, 0, null, 41, 47, 0.872, 24, 29, 53, 28, 11, 7, 20, 25, null], [\"21985\", 1610612744, \"GOS\", \"Golden State Warriors\", \"0028500522\", \"1986-01-30\", \"GOS vs. MIL\", \"L\", 240, 108, 40, 93, 0.43, 0, 2, 0.0, 28, 37, 0.757, 13, 34, 47, 22, 8, 6, 16, 30, null], [\"21985\", 1610612744, \"GOS\", \"Golden State Warriors\", \"0028500515\", \"1986-01-28\", \"GOS vs. NJN\", \"L\", 240, 113, 39, 88, 0.443, 1, 5, 0.2, 34, 43, 0.791, 15, 32, 47, 22, 5, 0, 13, 27, null], [\"21985\", 1610612744, \"GOS\", \"Golden State Warriors\", \"0028500499\", \"1986-01-25\", \"GOS @ IND\", \"L\", 240, 101, 42, 97, 0.433, 0, 3, 0.0, 17, 29, 0.586, 17, 21, 38, 21, 14, 4, 20, 33, null], [\"21985\", 1610612744, \"GOS\", \"Golden State Warriors\", \"0028500486\", \"1986-01-24\", \"GOS @ BOS\", \"L\", 240, 114, 42, 95, 0.442, 1, 1, 1.0, 29, 35, 0.829, 14, 30, 44, 19, 6, 1, 14, 22, null], [\"21985\", 1610612744, \"GOS\", \"Golden State Warriors\", \"0028500476\", \"1986-01-22\", \"GOS @ ATL\", \"L\", 240, 100, 41, 83, 0.494, 0, 0, null, 18, 25, 0.72, 14, 23, 37, 20, 6, 0, 21, 23, null], [\"21985\", 1610612744, \"GOS\", \"Golden State Warriors\", \"0028500474\", \"1986-01-21\", \"GOS @ NYK\", \"L\", 265, 114, 40, 93, 0.43, 1, 6, 0.167, 33, 41, 0.805, 20, 25, 45, 17, 10, 1, 17, 26, null], [\"21985\", 1610612744, \"GOS\", \"Golden State Warriors\", \"0028500464\", \"1986-01-19\", \"GOS @ MIL\", \"L\", 240, 109, 45, 98, 0.459, 0, 1, 0.0, 19, 23, 0.826, 15, 30, 45, 24, 5, 4, 15, 29, null], [\"21985\", 1610612744, \"GOS\", \"Golden State Warriors\", \"0028500445\", \"1986-01-17\", \"GOS vs. SAC\", \"L\", 240, 111, 42, 95, 0.442, 1, 3, 0.333, 26, 41, 0.634, 21, 31, 52, 25, 8, 6, 15, 25, null], [\"21985\", 1610612744, \"GOS\", \"Golden State Warriors\", \"0028500001\", \"1986-01-15\", \"GOS vs. UTH\", \"W\", 240, 150, 62, 105, 0.59, 0, 1, 0.0, 26, 29, 0.897, 16, 37, 53, 37, 14, 5, 15, 25, null], [\"21985\", 1610612744, \"GOS\", \"Golden State Warriors\", \"0028500425\", \"1986-01-13\", \"GOS vs. IND\", \"W\", 240, 119, 43, 85, 0.506, 0, 1, 0.0, 33, 40, 0.825, 16, 33, 49, 21, 7, 3, 16, 27, null], [\"21985\", 1610612744, \"GOS\", \"Golden State Warriors\", \"0028500419\", \"1986-01-11\", \"GOS @ DAL\", \"L\", 265, 123, 47, 114, 0.412, 1, 3, 0.333, 28, 34, 0.824, 23, 24, 47, 23, 8, 5, 17, 28, null], [\"21985\", 1610612744, \"GOS\", \"Golden State Warriors\", \"0028500408\", \"1986-01-10\", \"GOS @ SAN\", \"L\", 240, 97, 34, 96, 0.354, 0, 1, 0.0, 29, 41, 0.707, 21, 24, 45, 17, 13, 3, 23, 26, null], [\"21985\", 1610612744, \"GOS\", \"Golden State Warriors\", \"0028500395\", \"1986-01-07\", \"GOS @ HOU\", \"L\", 240, 115, 48, 110, 0.436, 4, 6, 0.667, 15, 20, 0.75, 11, 27, 38, 27, 15, 4, 15, 21, null], [\"21985\", 1610612744, \"GOS\", \"Golden State Warriors\", \"0028500383\", \"1986-01-05\", \"GOS @ POR\", \"L\", 240, 120, 48, 91, 0.527, 0, 4, 0.0, 24, 29, 0.828, 14, 27, 41, 31, 9, 4, 17, 26, null], [\"21985\", 1610612744, \"GOS\", \"Golden State Warriors\", \"0028500376\", \"1986-01-04\", \"GOS vs. SAN\", \"L\", 240, 116, 46, 96, 0.479, 3, 11, 0.273, 21, 30, 0.7, 18, 28, 46, 25, 13, 4, 22, 29, null], [\"21985\", 1610612744, \"GOS\", \"Golden State Warriors\", \"0028500366\", \"1986-01-02\", \"GOS vs. HOU\", \"L\", 240, 115, 48, 97, 0.495, 1, 2, 0.5, 18, 23, 0.783, 13, 33, 46, 27, 8, 3, 13, 26, null], [\"21985\", 1610612744, \"GOS\", \"Golden State Warriors\", \"0028500353\", \"1985-12-29\", \"GOS @ LAL\", \"W\", 240, 130, 56, 97, 0.577, 0, 1, 0.0, 18, 26, 0.692, 11, 24, 35, 38, 15, 0, 9, 21, null], [\"21985\", 1610612744, \"GOS\", \"Golden State Warriors\", \"0028500343\", \"1985-12-27\", \"GOS @ SEA\", \"L\", 240, 102, 44, 83, 0.53, 0, 1, 0.0, 14, 17, 0.824, 4, 25, 29, 25, 16, 2, 22, 18, null], [\"21985\", 1610612744, \"GOS\", \"Golden State Warriors\", \"0028500333\", \"1985-12-26\", \"GOS vs. SAC\", \"W\", 240, 131, 53, 99, 0.535, 1, 4, 0.25, 24, 30, 0.8, 28, 19, 47, 30, 10, 1, 13, 19, null], [\"21985\", 1610612744, \"GOS\", \"Golden State Warriors\", \"0028500316\", \"1985-12-21\", \"GOS @ PHX\", \"L\", 240, 98, 37, 91, 0.407, 0, 3, 0.0, 24, 35, 0.686, 12, 23, 35, 24, 10, 6, 10, 29, null], [\"21985\", 1610612744, \"GOS\", \"Golden State Warriors\", \"0028500299\", \"1985-12-18\", \"GOS @ LAC\", \"L\", 240, 99, 39, 89, 0.438, 1, 4, 0.25, 20, 22, 0.909, 13, 27, 40, 24, 14, 7, 18, 28, null], [\"21985\", 1610612744, \"GOS\", \"Golden State Warriors\", \"0028500293\", \"1985-12-17\", \"GOS @ DEN\", \"L\", 240, 114, 43, 92, 0.467, 0, 1, 0.0, 28, 41, 0.683, 14, 28, 42, 18, 6, 2, 21, 27, null], [\"21985\", 1610612744, \"GOS\", \"Golden State Warriors\", \"0028500285\", \"1985-12-15\", \"GOS vs. SEA\", \"W\", 240, 112, 42, 87, 0.483, 1, 2, 0.5, 27, 29, 0.931, 18, 23, 41, 23, 10, 4, 15, 20, null], [\"21985\", 1610612744, \"GOS\", \"Golden State Warriors\", \"0028500276\", \"1985-12-13\", \"GOS vs. POR\", \"L\", 265, 124, 49, 96, 0.51, 0, 0, null, 26, 33, 0.788, 15, 32, 47, 22, 6, 6, 15, 28, null], [\"21985\", 1610612744, \"GOS\", \"Golden State Warriors\", \"0028500265\", \"1985-12-11\", \"GOS vs. PHX\", \"L\", 232, 113, 44, 86, 0.512, 1, 5, 0.2, 24, 33, 0.727, 16, 24, 40, 19, 5, 3, 17, 25, null], [\"21985\", 1610612744, \"GOS\", \"Golden State Warriors\", \"0028500256\", \"1985-12-10\", \"GOS @ POR\", \"L\", 240, 92, 34, 86, 0.395, 0, 0, null, 24, 25, 0.96, 17, 24, 41, 20, 12, 3, 26, 23, null], [\"21985\", 1610612744, \"GOS\", \"Golden State Warriors\", \"0028500247\", \"1985-12-08\", \"GOS @ SAN\", \"L\", 240, 114, 44, 90, 0.489, 0, 3, 0.0, 26, 33, 0.788, 17, 24, 41, 27, 10, 6, 22, 23, null], [\"21985\", 1610612744, \"GOS\", \"Golden State Warriors\", \"0028500246\", \"1985-12-07\", \"GOS @ DAL\", \"L\", 240, 110, 41, 86, 0.477, 0, 2, 0.0, 28, 33, 0.848, 12, 25, 37, 27, 13, 3, 18, 28, null], [\"21985\", 1610612744, \"GOS\", \"Golden State Warriors\", \"0028500228\", \"1985-12-05\", \"GOS vs. LAC\", \"W\", 240, 121, 52, 102, 0.51, 0, 0, null, 17, 21, 0.81, 22, 26, 48, 27, 11, 6, 8, 25, null], [\"21985\", 1610612744, \"GOS\", \"Golden State Warriors\", \"0028500216\", \"1985-12-03\", \"GOS vs. DAL\", \"L\", 237, 100, 41, 92, 0.446, 0, 4, 0.0, 18, 23, 0.783, 13, 23, 36, 21, 6, 3, 15, 17, null], [\"21985\", 1610612744, \"GOS\", \"Golden State Warriors\", \"0028500211\", \"1985-12-02\", \"GOS @ UTH\", \"L\", 240, 100, 41, 80, 0.513, 1, 7, 0.143, 17, 21, 0.81, 11, 38, 49, 22, 9, 8, 26, 25, null], [\"21985\", 1610612744, \"GOS\", \"Golden State Warriors\", \"0028500203\", \"1985-11-30\", \"GOS vs. UTH\", \"L\", 234, 88, 35, 101, 0.347, 1, 3, 0.333, 17, 24, 0.708, 22, 31, 53, 12, 14, 4, 24, 24, null], [\"21985\", 1610612744, \"GOS\", \"Golden State Warriors\", \"0028500179\", \"1985-11-27\", \"GOS vs. DEN\", \"W\", 240, 104, 42, 96, 0.438, 0, 3, 0.0, 20, 25, 0.8, 17, 34, 51, 22, 10, 2, 17, 16, null], [\"21985\", 1610612744, \"GOS\", \"Golden State Warriors\", \"0028500173\", \"1985-11-26\", \"GOS @ HOU\", \"L\", 240, 108, 42, 102, 0.412, 2, 5, 0.4, 22, 32, 0.688, 21, 19, 40, 27, 11, 5, 17, 22, null], [\"21985\", 1610612744, \"GOS\", \"Golden State Warriors\", \"0028500159\", \"1985-11-23\", \"GOS @ CHI\", \"L\", 240, 108, 45, 95, 0.474, 1, 5, 0.2, 17, 21, 0.81, 14, 19, 33, 14, 12, 5, 13, 19, null], [\"21985\", 1610612744, \"GOS\", \"Golden State Warriors\", \"0028500149\", \"1985-11-22\", \"GOS @ DET\", \"L\", 237, 96, 38, 96, 0.396, 2, 5, 0.4, 18, 27, 0.667, 13, 37, 50, 16, 6, 8, 18, 14, null], [\"21985\", 1610612744, \"GOS\", \"Golden State Warriors\", \"0028500138\", \"1985-11-20\", \"GOS @ PHL\", \"L\", 240, 113, 44, 86, 0.512, 2, 2, 1.0, 23, 31, 0.742, 14, 23, 37, 27, 7, 2, 16, 24, null], [\"21985\", 1610612744, \"GOS\", \"Golden State Warriors\", \"0028500131\", \"1985-11-19\", \"GOS @ CLE\", \"W\", 240, 110, 48, 92, 0.522, 0, 1, 0.0, 14, 18, 0.778, 14, 23, 37, 31, 15, 8, 18, 25, null], [\"21985\", 1610612744, \"GOS\", \"Golden State Warriors\", \"0028500122\", \"1985-11-16\", \"GOS vs. PHX\", \"W\", 227, 118, 42, 90, 0.467, 2, 5, 0.4, 32, 37, 0.865, 13, 38, 51, 20, 10, 7, 13, 21, null], [\"21985\", 1610612744, \"GOS\", \"Golden State Warriors\", \"0028500110\", \"1985-11-14\", \"GOS @ SAC\", \"L\", 240, 103, 40, 91, 0.44, 1, 5, 0.2, 22, 33, 0.667, 13, 31, 44, 16, 4, 3, 10, 27, null], [\"21985\", 1610612744, \"GOS\", \"Golden State Warriors\", \"0028500097\", \"1985-11-12\", \"GOS vs. LAC\", \"W\", 240, 127, 57, 102, 0.559, 0, 2, 0.0, 13, 18, 0.722, 16, 29, 45, 33, 9, 7, 16, 24, null], [\"21985\", 1610612744, \"GOS\", \"Golden State Warriors\", \"0028500091\", \"1985-11-10\", \"GOS vs. SAC\", \"W\", 247, 117, 46, 82, 0.561, 2, 4, 0.5, 23, 32, 0.719, 8, 29, 37, 29, 7, 3, 16, 26, null], [\"21985\", 1610612744, \"GOS\", \"Golden State Warriors\", \"0028500076\", \"1985-11-08\", \"GOS vs. ATL\", \"W\", 240, 130, 49, 91, 0.538, 1, 4, 0.25, 31, 40, 0.775, 17, 30, 47, 27, 11, 5, 12, 26, null], [\"21985\", 1610612744, \"GOS\", \"Golden State Warriors\", \"0028500067\", \"1985-11-06\", \"GOS vs. SEA\", \"W\", 240, 105, 40, 76, 0.526, 0, 0, null, 25, 34, 0.735, 9, 32, 41, 26, 8, 3, 15, 27, null], [\"21985\", 1610612744, \"GOS\", \"Golden State Warriors\", \"0028500940\", \"1985-11-05\", \"GOS @ UTH\", \"L\", 240, 99, 37, 94, 0.394, 3, 6, 0.5, 22, 29, 0.759, 17, 28, 45, 22, 5, 2, 16, 18, null], [\"21985\", 1610612744, \"GOS\", \"Golden State Warriors\", \"0028500046\", \"1985-11-02\", \"GOS vs. LAL\", \"L\", 239, 116, 48, 86, 0.558, 2, 3, 0.667, 18, 27, 0.667, 9, 25, 34, 25, 6, 9, 15, 28, null], [\"21985\", 1610612744, \"GOS\", \"Golden State Warriors\", \"0028500036\", \"1985-10-31\", \"GOS vs. NYK\", \"W\", 240, 111, 41, 77, 0.532, 2, 6, 0.333, 27, 42, 0.643, 16, 30, 46, 22, 8, 3, 15, 21, null], [\"21985\", 1610612744, \"GOS\", \"Golden State Warriors\", \"0028500023\", \"1985-10-29\", \"GOS vs. CHI\", \"L\", 240, 105, 40, 89, 0.449, 4, 6, 0.667, 21, 28, 0.75, 13, 38, 51, 23, 3, 3, 21, 25, null], [\"21985\", 1610612744, \"GOS\", \"Golden State Warriors\", \"0028500021\", \"1985-10-27\", \"GOS @ POR\", \"L\", 240, 99, 36, 83, 0.434, 1, 3, 0.333, 26, 33, 0.788, 18, 23, 41, 24, 11, 6, 29, 31, null], [\"21985\", 1610612744, \"GOS\", \"Golden State Warriors\", \"0028500008\", \"1985-10-25\", \"GOS vs. DEN\", \"L\", 240, 105, 36, 91, 0.396, 0, 4, 0.0, 33, 52, 0.635, 18, 29, 47, 17, 3, 7, 28, 37, null], [\"21984\", 1610612744, \"GOS\", \"Golden State Warriors\", \"0028400944\", \"1985-04-14\", \"GOS @ PHX\", \"L\", 240, 111, 41, 95, 0.432, 0, 5, 0.0, 29, 33, 0.879, 17, 35, 52, 17, 6, 0, 17, 31, null], [\"21984\", 1610612744, \"GOS\", \"Golden State Warriors\", \"0028400932\", \"1985-04-13\", \"GOS vs. DEN\", \"L\", 250, 120, 45, 96, 0.469, 0, 4, 0.0, 30, 41, 0.732, 20, 29, 49, 21, 13, 5, 13, 34, null], [\"21984\", 1610612744, \"GOS\", \"Golden State Warriors\", \"0028400918\", \"1985-04-11\", \"GOS vs. LAL\", \"L\", 240, 130, 50, 108, 0.463, 3, 8, 0.375, 27, 38, 0.711, 25, 29, 54, 25, 7, 6, 17, 29, null], [\"21984\", 1610612744, \"GOS\", \"Golden State Warriors\", \"0028400898\", \"1985-04-07\", \"GOS @ DEN\", \"L\", 240, 125, 49, 96, 0.51, 2, 5, 0.4, 25, 36, 0.694, 15, 30, 45, 24, 11, 1, 19, 28, null], [\"21984\", 1610612744, \"GOS\", \"Golden State Warriors\", \"0028400895\", \"1985-04-06\", \"GOS vs. KCK\", \"W\", 240, 141, 46, 87, 0.529, 2, null, null, 47, 52, 0.904, null, null, 47, 27, 4, 7, 5, 23, null], [\"21984\", 1610612744, \"GOS\", \"Golden State Warriors\", \"0028400883\", \"1985-04-04\", \"GOS vs. HOU\", \"W\", 240, 113, 45, 99, 0.455, 0, 1, 0.0, 23, 32, 0.719, 25, 30, 55, 24, 12, 7, 15, 20, null], [\"21984\", 1610612744, \"GOS\", \"Golden State Warriors\", \"0028400871\", \"1985-04-02\", \"GOS vs. DAL\", \"L\", 240, 121, 51, 101, 0.505, 5, 11, 0.455, 14, 23, 0.609, 15, 34, 49, 26, 11, 3, 19, 24, null], [\"21984\", 1610612744, \"GOS\", \"Golden State Warriors\", \"0028400854\", \"1985-03-30\", \"GOS @ KCK\", \"L\", 240, 121, 48, 91, 0.527, 0, 2, 0.0, 25, 30, 0.833, 10, 23, 33, 25, 8, 5, 22, 32, null], [\"21984\", 1610612744, \"GOS\", \"Golden State Warriors\", \"0028400850\", \"1985-03-29\", \"GOS @ HOU\", \"L\", 240, 116, 47, 98, 0.48, 2, 5, 0.4, 20, 27, 0.741, 15, 20, 35, 24, 8, 1, 16, 30, null], [\"21984\", 1610612744, \"GOS\", \"Golden State Warriors\", \"0028400836\", \"1985-03-27\", \"GOS @ SAN\", \"L\", 240, 120, 41, 84, 0.488, 2, 3, 0.667, 36, 44, 0.818, 9, 20, 29, 20, 12, 3, 16, 32, null], [\"21984\", 1610612744, \"GOS\", \"Golden State Warriors\", \"0028400824\", \"1985-03-26\", \"GOS @ DAL\", \"L\", 240, 107, 47, 92, 0.511, 1, 5, 0.2, 12, 16, 0.75, 15, 20, 35, 18, 7, 6, 23, 26, null], [\"21984\", 1610612744, \"GOS\", \"Golden State Warriors\", \"0028400814\", \"1985-03-23\", \"GOS vs. PHX\", \"W\", 240, 123, 50, 93, 0.538, 1, 3, 0.333, 22, 32, 0.688, 18, 26, 44, 21, 11, 8, 15, 23, null], [\"21984\", 1610612744, \"GOS\", \"Golden State Warriors\", \"0028400800\", \"1985-03-21\", \"GOS vs. DET\", \"L\", 240, 113, 42, 92, 0.457, 2, 6, 0.333, 27, 39, 0.692, 13, 26, 39, 25, 12, 3, 14, 29, null], [\"21984\", 1610612744, \"GOS\", \"Golden State Warriors\", \"0028400793\", \"1985-03-20\", \"GOS @ SEA\", \"L\", 240, 109, 44, 94, 0.468, 0, 5, 0.0, 21, 23, 0.913, 14, 31, 45, 20, 9, 5, 18, 27, null], [\"21984\", 1610612744, \"GOS\", \"Golden State Warriors\", \"0028400783\", \"1985-03-18\", \"GOS @ UTH\", \"L\", 240, 125, 48, 97, 0.495, 1, 7, 0.143, 28, 34, 0.824, 15, 24, 39, 19, 9, 11, 16, 28, null], [\"21984\", 1610612744, \"GOS\", \"Golden State Warriors\", \"0028400778\", \"1985-03-17\", \"GOS @ LAC\", \"W\", 240, 109, 41, 89, 0.461, 2, 6, 0.333, 25, 30, 0.833, 19, 27, 46, 25, 7, 4, 18, 23, null], [\"21984\", 1610612744, \"GOS\", \"Golden State Warriors\", \"0028400767\", \"1985-03-15\", \"GOS @ POR\", \"L\", 240, 101, 34, 85, 0.4, 2, 6, 0.333, 31, 42, 0.738, 12, 22, 34, 16, 13, 4, 17, 34, null], [\"21984\", 1610612744, \"GOS\", \"Golden State Warriors\", \"0028400754\", \"1985-03-14\", \"GOS vs. ATL\", \"L\", 240, 112, 48, 106, 0.453, 2, 10, 0.2, 14, 24, 0.583, 25, 27, 52, 21, 4, 4, 9, 23, null], [\"21984\", 1610612744, \"GOS\", \"Golden State Warriors\", \"0028400743\", \"1985-03-12\", \"GOS vs. SAN\", \"W\", 240, 145, 56, 100, 0.56, 1, 2, 0.5, 32, 41, 0.78, 18, 25, 43, 35, 11, 3, 15, 28, null], [\"21984\", 1610612744, \"GOS\", \"Golden State Warriors\", \"0028400727\", \"1985-03-09\", \"GOS @ PHX\", \"W\", 240, 118, 47, 82, 0.573, 0, 3, 0.0, 24, 28, 0.857, 9, 30, 39, 23, 6, 2, 19, 26, null], [\"21984\", 1610612744, \"GOS\", \"Golden State Warriors\", \"0028400714\", \"1985-03-06\", \"GOS @ LAL\", \"L\", 240, 119, 42, 84, 0.5, 2, 6, 0.333, 33, 41, 0.805, 9, 13, 22, 28, 14, 4, 20, 28, null], [\"21984\", 1610612744, \"GOS\", \"Golden State Warriors\", \"0028400696\", \"1985-03-04\", \"GOS vs. CLE\", \"L\", 240, 104, 35, 98, 0.357, 1, 6, 0.167, 33, 41, 0.805, 30, 30, 60, 22, 6, 4, 21, 21, null], [\"21984\", 1610612744, \"GOS\", \"Golden State Warriors\", \"0028400687\", \"1985-03-02\", \"GOS vs. LAC\", \"W\", 240, 108, 38, 98, 0.388, 3, 8, 0.375, 29, 36, 0.806, 21, 29, 50, 20, 10, 5, 10, 19, null], [\"21984\", 1610612744, \"GOS\", \"Golden State Warriors\", \"0028400673\", \"1985-02-28\", \"GOS vs. POR\", \"W\", 240, 124, 46, 89, 0.517, 0, 2, 0.0, 32, 35, 0.914, 13, 21, 34, 23, 7, 2, 12, 24, null], [\"21984\", 1610612744, \"GOS\", \"Golden State Warriors\", \"0028400660\", \"1985-02-26\", \"GOS vs. SEA\", \"W\", 205, 128, 50, 89, 0.562, 3, 3, 1.0, 25, 32, 0.781, 12, 28, 40, 16, 7, 1, 17, 27, null], [\"21984\", 1610612744, \"GOS\", \"Golden State Warriors\", \"0028400647\", \"1985-02-23\", \"GOS @ CHI\", \"L\", 240, 125, 44, 90, 0.489, 2, 5, 0.4, 35, 45, 0.778, 19, 18, 37, 17, 5, 1, 14, 21, null], [\"21984\", 1610612744, \"GOS\", \"Golden State Warriors\", \"0028400640\", \"1985-02-22\", \"GOS @ NJN\", \"W\", 240, 131, 48, 90, 0.533, 2, 4, 0.5, 33, 43, 0.767, 12, 25, 37, 22, 15, 3, 10, 20, null], [\"21984\", 1610612744, \"GOS\", \"Golden State Warriors\", \"0028400631\", \"1985-02-20\", \"GOS @ PHL\", \"L\", 240, 116, 36, 89, 0.404, 2, 4, 0.5, 42, 51, 0.824, 24, 18, 42, 13, 11, 2, 16, 32, null], [\"21984\", 1610612744, \"GOS\", \"Golden State Warriors\", \"0028400623\", \"1985-02-19\", \"GOS @ ATL\", \"L\", 240, 104, 43, 93, 0.462, 1, 4, 0.25, 17, 20, 0.85, 19, 25, 44, 19, 17, 3, 20, 19, null], [\"21984\", 1610612744, \"GOS\", \"Golden State Warriors\", \"0028400610\", \"1985-02-17\", \"GOS vs. WAS\", \"W\", 290, 125, 47, 95, 0.495, 1, 4, 0.25, 30, 37, 0.811, 18, 39, 57, 24, 7, 1, 23, 27, null], [\"21984\", 1610612744, \"GOS\", \"Golden State Warriors\", \"0028400599\", \"1985-02-15\", \"GOS vs. BOS\", \"L\", 240, 100, 43, 97, 0.443, 1, 5, 0.2, 13, 16, 0.813, 14, 27, 41, 26, 6, 3, 16, 26, null], [\"21984\", 1610612744, \"GOS\", \"Golden State Warriors\", \"0028400587\", \"1985-02-13\", \"GOS @ LAC\", \"L\", 240, 105, 43, 100, 0.43, 2, 7, 0.286, 17, 21, 0.81, 18, 24, 42, 22, 8, 4, 19, 28, null], [\"21984\", 1610612744, \"GOS\", \"Golden State Warriors\", \"0028400578\", \"1985-02-12\", \"GOS vs. UTH\", \"L\", 240, 110, 38, 101, 0.376, 2, 6, 0.333, 32, 39, 0.821, 23, 18, 41, 20, 15, 2, 14, 20, null], [\"21984\", 1610612744, \"GOS\", \"Golden State Warriors\", \"0028400571\", \"1985-02-07\", \"GOS @ HOU\", \"L\", 240, 105, 37, 92, 0.402, 0, 2, 0.0, 31, 37, 0.838, 15, 26, 41, 16, 16, 0, 13, 26, null], [\"21984\", 1610612744, \"GOS\", \"Golden State Warriors\", \"0028400565\", \"1985-02-06\", \"GOS @ DAL\", \"L\", 240, 103, 40, 78, 0.513, 1, 6, 0.167, 22, 26, 0.846, 13, 22, 35, 19, 13, 1, 22, 29, null], [\"21984\", 1610612744, \"GOS\", \"Golden State Warriors\", \"0028400550\", \"1985-02-04\", \"GOS @ SAN\", \"L\", 265, 109, 35, 98, 0.357, 0, 7, 0.0, 39, 44, 0.886, 17, 26, 43, 18, 12, 5, 18, 36, null], [\"21984\", 1610612744, \"GOS\", \"Golden State Warriors\", \"0028400543\", \"1985-02-02\", \"GOS vs. NYK\", \"W\", 239, 114, 44, 80, 0.55, 1, 2, 0.5, 25, 32, 0.781, 9, 29, 38, 25, 12, 4, 17, 22, null], [\"21984\", 1610612744, \"GOS\", \"Golden State Warriors\", \"0028400526\", \"1985-01-31\", \"GOS vs. POR\", \"L\", 240, 109, 37, 85, 0.435, 0, 5, 0.0, 35, 37, 0.946, 16, 26, 42, 15, 6, 4, 21, 23, null], [\"21984\", 1610612744, \"GOS\", \"Golden State Warriors\", \"0028400514\", \"1985-01-29\", \"GOS vs. MIL\", \"L\", 240, 101, 43, 91, 0.473, 1, 6, 0.167, 14, 21, 0.667, 18, 28, 46, 20, 6, 1, 13, 22, null], [\"21984\", 1610612744, \"GOS\", \"Golden State Warriors\", \"0028400499\", \"1985-01-26\", \"GOS @ KCK\", \"L\", 240, 111, 43, 91, 0.473, 3, 10, 0.3, 22, 32, 0.688, 6, 24, 30, 28, 9, 5, 14, 29, null], [\"21984\", 1610612744, \"GOS\", \"Golden State Warriors\", \"0028400490\", \"1985-01-24\", \"GOS @ DET\", \"L\", 240, 118, 45, 95, 0.474, 2, 5, 0.4, 26, 44, 0.591, 16, 32, 48, 19, 4, 4, 13, 30, null], [\"21984\", 1610612744, \"GOS\", \"Golden State Warriors\", \"0028400476\", \"1985-01-22\", \"GOS @ WAS\", \"L\", 240, 104, 44, 84, 0.524, 1, 6, 0.167, 15, 17, 0.882, 13, 28, 41, 19, 2, 1, 19, 21, null], [\"21984\", 1610612744, \"GOS\", \"Golden State Warriors\", \"0028400472\", \"1985-01-21\", \"GOS @ IND\", \"L\", 289, 127, 53, 104, 0.51, 6, 8, 0.75, 15, 24, 0.625, 16, 42, 58, 30, 7, 2, 23, 27, null], [\"21984\", 1610612744, \"GOS\", \"Golden State Warriors\", \"0028400462\", \"1985-01-19\", \"GOS vs. LAL\", \"L\", 240, 109, 45, 89, 0.506, 1, 3, 0.333, 18, 31, 0.581, 14, 22, 36, 22, 9, 5, 25, 25, null], [\"21984\", 1610612744, \"GOS\", \"Golden State Warriors\", \"0028400446\", \"1985-01-16\", \"GOS @ DEN\", \"L\", 240, 107, 45, 93, 0.484, 1, 6, 0.167, 16, 19, 0.842, 13, 35, 48, 24, 3, 3, 20, 34, null], [\"21984\", 1610612744, \"GOS\", \"Golden State Warriors\", \"0028400440\", \"1985-01-15\", \"GOS vs. DAL\", \"L\", 240, 104, 42, 96, 0.438, 3, 7, 0.429, 17, 23, 0.739, 16, 20, 36, 19, 4, 4, 15, 23, null], [\"21984\", 1610612744, \"GOS\", \"Golden State Warriors\", \"0028400424\", \"1985-01-12\", \"GOS vs. LAC\", \"L\", 240, 102, 43, 105, 0.41, 0, 2, 0.0, 16, 22, 0.727, 27, 20, 47, 19, 13, 1, 8, 19, null], [\"21984\", 1610612744, \"GOS\", \"Golden State Warriors\", \"0028400410\", \"1985-01-10\", \"GOS vs. SEA\", \"L\", 240, 86, 37, 78, 0.474, 1, 4, 0.25, 11, 17, 0.647, 5, 28, 33, 20, 9, 6, 19, 28, null], [\"21984\", 1610612744, \"GOS\", \"Golden State Warriors\", \"0028400400\", \"1985-01-08\", \"GOS @ SAN\", \"L\", 240, 94, 34, 91, 0.374, 1, 4, 0.25, 25, 37, 0.676, 15, 21, 36, 18, 11, 1, 26, 27, null], [\"21984\", 1610612744, \"GOS\", \"Golden State Warriors\", \"0028400395\", \"1985-01-07\", \"GOS @ KCK\", \"L\", 240, 101, 40, 90, 0.444, 1, 5, 0.2, 20, 28, 0.714, 11, 27, 38, 22, 12, 3, 20, 34, null], [\"21984\", 1610612744, \"GOS\", \"Golden State Warriors\", \"0028400384\", \"1985-01-05\", \"GOS vs. HOU\", \"L\", 240, 94, 31, 85, 0.365, 5, 9, 0.556, 27, 34, 0.794, 17, 21, 38, 13, 13, 3, 15, 19, null], [\"21984\", 1610612744, \"GOS\", \"Golden State Warriors\", \"0028400373\", \"1985-01-03\", \"GOS vs. IND\", \"L\", 239, 96, 35, 88, 0.398, 3, 7, 0.429, 23, 35, 0.657, 19, 25, 44, 16, 14, 2, 20, 30, null], [\"21984\", 1610612744, \"GOS\", \"Golden State Warriors\", \"0028400358\", \"1984-12-29\", \"GOS vs. PHL\", \"L\", 240, 95, 39, 101, 0.386, 0, 3, 0.0, 17, 23, 0.739, 21, 20, 41, 18, 19, 3, 16, 22, null], [\"21984\", 1610612744, \"GOS\", \"Golden State Warriors\", \"0028400338\", \"1984-12-27\", \"GOS @ SEA\", \"W\", 240, 101, 40, 81, 0.494, 0, 3, 0.0, 21, 29, 0.724, 8, 24, 32, 27, 15, 5, 9, 21, null], [\"21984\", 1610612744, \"GOS\", \"Golden State Warriors\", \"0028400325\", \"1984-12-25\", \"GOS @ POR\", \"L\", 240, 97, 38, 74, 0.514, 0, 6, 0.0, 21, 28, 0.75, 10, 29, 39, 14, 13, 3, 25, 26, null], [\"21984\", 1610612744, \"GOS\", \"Golden State Warriors\", \"0028400313\", \"1984-12-21\", \"GOS vs. SEA\", \"W\", 240, 94, 32, 96, 0.333, 0, 0, null, 30, 39, 0.769, 26, 27, 53, 22, 8, 1, 9, 27, null], [\"21984\", 1610612744, \"GOS\", \"Golden State Warriors\", \"0028400294\", \"1984-12-18\", \"GOS vs. DEN\", \"L\", 265, 122, 47, 93, 0.505, 1, 5, 0.2, 27, 34, 0.794, 18, 29, 47, 24, 14, 5, 21, 29, null], [\"21984\", 1610612744, \"GOS\", \"Golden State Warriors\", \"0028400284\", \"1984-12-16\", \"GOS @ LAC\", \"L\", 240, 85, 34, 89, 0.382, 0, 2, 0.0, 17, 22, 0.773, 15, 26, 41, 18, 7, 3, 9, 22, null], [\"21984\", 1610612744, \"GOS\", \"Golden State Warriors\", \"0028400272\", \"1984-12-14\", \"GOS vs. POR\", \"W\", 240, 105, 43, 85, 0.506, 0, 1, 0.0, 19, 24, 0.792, 12, 27, 39, 21, 13, 6, 17, 18, null], [\"21984\", 1610612744, \"GOS\", \"Golden State Warriors\", \"0028400259\", \"1984-12-12\", \"GOS @ LAL\", \"L\", 240, 107, 39, 97, 0.402, 0, 3, 0.0, 29, 40, 0.725, 14, 22, 36, 24, 9, 7, 13, 33, null], [\"21984\", 1610612744, \"GOS\", \"Golden State Warriors\", \"0028400254\", \"1984-12-11\", \"GOS vs. LAC\", \"L\", 240, 104, 43, 96, 0.448, 2, 10, 0.2, 16, 20, 0.8, 16, 19, 35, 20, 15, 1, 16, 24, null], [\"21984\", 1610612744, \"GOS\", \"Golden State Warriors\", \"0028400239\", \"1984-12-08\", \"GOS vs. PHX\", \"L\", 240, 98, 40, 99, 0.404, 1, 6, 0.167, 17, 23, 0.739, 20, 27, 47, 23, 9, 0, 14, 26, null], [\"21984\", 1610612744, \"GOS\", \"Golden State Warriors\", \"0028400222\", \"1984-12-06\", \"GOS vs. HOU\", \"W\", 240, 114, 37, 80, 0.463, 1, 2, 0.5, 39, 49, 0.796, 13, 20, 33, 17, 6, 4, 15, 24, null], [\"21984\", 1610612744, \"GOS\", \"Golden State Warriors\", \"0028400212\", \"1984-12-04\", \"GOS vs. UTH\", \"L\", 240, 105, 44, 109, 0.404, 0, 3, 0.0, 17, 26, 0.654, 25, 35, 60, 16, 7, 5, 14, 24, null], [\"21984\", 1610612744, \"GOS\", \"Golden State Warriors\", \"0028400203\", \"1984-12-01\", \"GOS @ PHX\", \"L\", 240, 103, 40, 92, 0.435, 0, 5, 0.0, 23, 33, 0.697, 17, 21, 38, 14, 13, 2, 13, 25, null], [\"21984\", 1610612744, \"GOS\", \"Golden State Warriors\", \"0028400186\", \"1984-11-29\", \"GOS vs. KCK\", \"W\", 240, 110, 48, 102, 0.471, 2, 7, 0.286, 12, 18, 0.667, 22, 27, 49, 22, 11, 4, 19, 24, null], [\"21984\", 1610612744, \"GOS\", \"Golden State Warriors\", \"0028400171\", \"1984-11-27\", \"GOS vs. CHI\", \"W\", 240, 109, 44, 94, 0.468, 1, 2, 0.5, 20, 28, 0.714, 22, 31, 53, 22, 5, 2, 14, 15, null], [\"21984\", 1610612744, \"GOS\", \"Golden State Warriors\", \"0028400155\", \"1984-11-24\", \"GOS @ MIL\", \"L\", 240, 97, 40, 92, 0.435, 2, 8, 0.25, 15, 19, 0.789, 23, 19, 42, 23, 8, 3, 20, 24, null], [\"21984\", 1610612744, \"GOS\", \"Golden State Warriors\", \"0028400152\", \"1984-11-23\", \"GOS @ CLE\", \"W\", 240, 107, 46, 86, 0.535, 3, 6, 0.5, 12, 14, 0.857, 14, 19, 33, 28, 11, 3, 18, 21, null], [\"21984\", 1610612744, \"GOS\", \"Golden State Warriors\", \"0028400143\", \"1984-11-21\", \"GOS @ BOS\", \"L\", 240, 91, 41, 94, 0.436, 1, 3, 0.333, 8, 13, 0.615, 14, 15, 29, 20, 5, 2, 19, 22, null], [\"21984\", 1610612744, \"GOS\", \"Golden State Warriors\", \"0028400131\", \"1984-11-20\", \"GOS @ NYK\", \"L\", 240, 101, 35, 69, 0.507, 2, 5, 0.4, 29, 40, 0.725, 16, 23, 39, 19, 11, 8, 24, 33, null], [\"21984\", 1610612744, \"GOS\", \"Golden State Warriors\", \"0028400119\", \"1984-11-17\", \"GOS vs. NJN\", \"L\", 239, 114, 39, 78, 0.5, 5, 7, 0.714, 31, 34, 0.912, 12, 24, 36, 24, 7, 0, 19, 21, null], [\"21984\", 1610612744, \"GOS\", \"Golden State Warriors\", \"0028400110\", \"1984-11-15\", \"GOS vs. DAL\", \"W\", 240, 117, 48, 87, 0.552, 1, 4, 0.25, 20, 26, 0.769, 12, 33, 45, 21, 4, 4, 13, 19, null], [\"21984\", 1610612744, \"GOS\", \"Golden State Warriors\", \"0028400101\", \"1984-11-13\", \"GOS @ SEA\", \"L\", 240, 102, 35, 81, 0.432, 1, 3, 0.333, 31, 37, 0.838, 13, 25, 38, 26, 10, 3, 16, 28, null], [\"21984\", 1610612744, \"GOS\", \"Golden State Warriors\", \"0028400091\", \"1984-11-11\", \"GOS @ POR\", \"L\", 240, 97, 36, 80, 0.45, 0, 5, 0.0, 25, 29, 0.862, 8, 27, 35, 18, 10, 3, 24, 41, null], [\"21984\", 1610612744, \"GOS\", \"Golden State Warriors\", \"0028400080\", \"1984-11-09\", \"GOS @ UTH\", \"L\", 265, 117, 43, 101, 0.426, 2, 9, 0.222, 29, 33, 0.879, 17, 40, 57, 21, 15, 6, 24, 31, null], [\"21984\", 1610612744, \"GOS\", \"Golden State Warriors\", \"0028400075\", \"1984-11-08\", \"GOS vs. LAL\", \"W\", 238, 122, 50, 101, 0.495, 1, 3, 0.333, 21, 27, 0.778, 20, 32, 52, 24, 13, 2, 17, 30, null], [\"21984\", 1610612744, \"GOS\", \"Golden State Warriors\", \"0028400051\", \"1984-11-03\", \"GOS vs. UTH\", \"W\", 240, 112, 46, 100, 0.46, 1, 2, 0.5, 19, 29, 0.655, 16, 32, 48, 24, 5, 3, 6, 25, null], [\"21984\", 1610612744, \"GOS\", \"Golden State Warriors\", \"0028400039\", \"1984-11-01\", \"GOS vs. SAN\", \"L\", 240, 108, 46, 96, 0.479, 0, 1, 0.0, 16, 25, 0.64, 23, 28, 51, 26, 10, 2, 24, 26, null], [\"21984\", 1610612744, \"GOS\", \"Golden State Warriors\", \"0028400020\", \"1984-10-30\", \"GOS @ LAL\", \"L\", 240, 110, 49, 111, 0.441, 0, 3, 0.0, 12, 20, 0.6, 23, 19, 42, 22, 12, 1, 18, 24, null], [\"21984\", 1610612744, \"GOS\", \"Golden State Warriors\", \"0028400008\", \"1984-10-27\", \"GOS @ DEN\", \"L\", 240, 121, 48, 94, 0.511, 2, 3, 0.667, 23, 27, 0.852, 15, 30, 45, 20, 9, 6, 29, 30, null], [\"21984\", 1610612744, \"GOS\", \"Golden State Warriors\", \"0028400006\", \"1984-10-26\", \"GOS vs. PHX\", \"L\", 235, 114, 42, 85, 0.494, 2, 6, 0.333, 28, 39, 0.718, null, null, 33, 20, 9, 8, 17, 30, null], [\"21983\", 1610612744, \"GOS\", \"Golden State Warriors\", \"0028300938\", \"1984-04-15\", \"GOS vs. DAL\", \"W\", 240, 98, 43, 90, 0.478, 0, 5, 0.0, 12, 21, 0.571, 21, 29, 50, 20, 14, 4, 24, 19, null], [\"21983\", 1610612744, \"GOS\", \"Golden State Warriors\", \"0028300926\", \"1984-04-13\", \"GOS @ POR\", \"L\", 240, 101, 39, 80, 0.488, 1, 2, 0.5, 22, 31, 0.71, 11, 28, 39, 22, 7, 1, 18, 24, null], [\"21983\", 1610612744, \"GOS\", \"Golden State Warriors\", \"0028300923\", \"1984-04-12\", \"GOS @ SEA\", \"L\", 240, 100, 42, 83, 0.506, 1, 4, 0.25, 15, 18, 0.833, 10, 22, 32, 30, 11, 3, 17, 26, null], [\"21983\", 1610612744, \"GOS\", \"Golden State Warriors\", \"0028300910\", \"1984-04-10\", \"GOS vs. LAL\", \"W\", 240, 117, 47, 95, 0.495, 3, 6, 0.5, 20, 32, 0.625, 19, 24, 43, 19, 6, 3, 9, 29, null], [\"21983\", 1610612744, \"GOS\", \"Golden State Warriors\", \"0028300892\", \"1984-04-07\", \"GOS vs. KCK\", \"W\", 240, 98, 37, 86, 0.43, 0, 2, 0.0, 24, 30, 0.8, 18, 30, 48, 16, 12, 1, 20, 24, null], [\"21983\", 1610612744, \"GOS\", \"Golden State Warriors\", \"0028300881\", \"1984-04-05\", \"GOS @ DEN\", \"W\", 240, 128, 49, 85, 0.576, 5, 7, 0.714, 25, 35, 0.714, 10, 31, 41, 32, 7, 5, 14, 28, null], [\"21983\", 1610612744, \"GOS\", \"Golden State Warriors\", \"0028300865\", \"1984-04-03\", \"GOS vs. HOU\", \"W\", 240, 99, 40, 86, 0.465, 1, 1, 1.0, 18, 24, 0.75, 15, 24, 39, 20, 12, 6, 18, 24, null], [\"21983\", 1610612744, \"GOS\", \"Golden State Warriors\", \"0028300860\", \"1984-04-01\", \"GOS @ LAL\", \"L\", 240, 110, 40, 86, 0.465, 0, 1, 0.0, 30, 38, 0.789, 16, 21, 37, 20, 14, 2, 17, 24, null], [\"21983\", 1610612744, \"GOS\", \"Golden State Warriors\", \"0028300844\", \"1984-03-30\", \"GOS @ SDC\", \"L\", 240, 112, 47, 95, 0.495, 3, 6, 0.5, 15, 19, 0.789, 14, 22, 36, 24, 8, 5, 12, 19, null], [\"21983\", 1610612744, \"GOS\", \"Golden State Warriors\", \"0028300841\", \"1984-03-29\", \"GOS @ PHX\", \"L\", 265, 119, 44, 88, 0.5, 3, 5, 0.6, 28, 36, 0.778, 15, 26, 41, 18, 5, 4, 22, 31, null], [\"21983\", 1610612744, \"GOS\", \"Golden State Warriors\", \"0028300829\", \"1984-03-27\", \"GOS @ SAN\", \"L\", 265, 116, 49, 96, 0.51, 0, 2, 0.0, 18, 25, 0.72, 14, 35, 49, 27, 8, 4, 24, 26, null], [\"21983\", 1610612744, \"GOS\", \"Golden State Warriors\", \"0028300814\", \"1984-03-24\", \"GOS vs. POR\", \"L\", 240, 94, 38, 92, 0.413, 0, 2, 0.0, 18, 22, 0.818, 17, 30, 47, 17, 13, 3, 23, 27, null], [\"21983\", 1610612744, \"GOS\", \"Golden State Warriors\", \"0028300807\", \"1984-03-23\", \"GOS @ UTH\", \"W\", 240, 115, 44, 92, 0.478, 0, 3, 0.0, 27, 30, 0.9, 17, 26, 43, 25, 12, 6, 21, 27, null], [\"21983\", 1610612744, \"GOS\", \"Golden State Warriors\", \"0028300785\", \"1984-03-20\", \"GOS vs. SEA\", \"W\", 240, 103, 41, 76, 0.539, 0, 2, 0.0, 21, 28, 0.75, 12, 26, 38, 22, 6, 8, 20, 25, null], [\"21983\", 1610612744, \"GOS\", \"Golden State Warriors\", \"0028300776\", \"1984-03-18\", \"GOS @ SEA\", \"L\", 240, 99, 40, 93, 0.43, 0, 3, 0.0, 19, 25, 0.76, 18, 22, 40, 27, 10, 3, 18, 29, null], [\"21983\", 1610612744, \"GOS\", \"Golden State Warriors\", \"0028300767\", \"1984-03-17\", \"GOS @ POR\", \"L\", 240, 96, 36, 84, 0.429, 1, 5, 0.2, 23, 31, 0.742, 16, 15, 31, 17, 11, 4, 35, 29, null], [\"21983\", 1610612744, \"GOS\", \"Golden State Warriors\", \"0028300756\", \"1984-03-15\", \"GOS vs. UTH\", \"L\", 240, 111, 44, 104, 0.423, 4, 8, 0.5, 19, 30, 0.633, 25, 23, 48, 19, 13, 5, 16, 22, null], [\"21983\", 1610612744, \"GOS\", \"Golden State Warriors\", \"0028300747\", \"1984-03-13\", \"GOS vs. CHI\", \"L\", 240, 101, 42, 84, 0.5, 2, 7, 0.286, 15, 26, 0.577, 17, 18, 35, 21, 13, 3, 24, 21, null], [\"21983\", 1610612744, \"GOS\", \"Golden State Warriors\", \"0028300734\", \"1984-03-11\", \"GOS @ KCK\", \"W\", 240, 115, 41, 82, 0.5, 0, 2, 0.0, 33, 39, 0.846, 17, 26, 43, 19, 10, 8, 22, 23, null], [\"21983\", 1610612744, \"GOS\", \"Golden State Warriors\", \"0028300727\", \"1984-03-10\", \"GOS @ DAL\", \"L\", 240, 103, 45, 90, 0.5, 2, 9, 0.222, 11, 19, 0.579, 14, 23, 37, 16, 6, 2, 13, 25, null], [\"21983\", 1610612744, \"GOS\", \"Golden State Warriors\", \"0028300706\", \"1984-03-06\", \"GOS vs. IND\", \"W\", 240, 125, 46, 82, 0.561, 0, 2, 0.0, 33, 46, 0.717, 12, 30, 42, 29, 11, 5, 22, 19, null], [\"21983\", 1610612744, \"GOS\", \"Golden State Warriors\", \"0028300692\", \"1984-03-03\", \"GOS vs. HOU\", \"L\", 240, 106, 41, 93, 0.441, 0, 0, null, 24, 32, 0.75, 15, 32, 47, 24, 9, 3, 17, 22, null], [\"21983\", 1610612744, \"GOS\", \"Golden State Warriors\", \"0028300686\", \"1984-03-02\", \"GOS @ SDC\", \"W\", 240, 110, 40, 87, 0.46, 0, 0, null, 30, 35, 0.857, 17, 22, 39, 18, 18, 7, 19, 33, null], [\"21983\", 1610612744, \"GOS\", \"Golden State Warriors\", \"0028300666\", \"1984-02-28\", \"GOS vs. DEN\", \"W\", 265, 140, 48, 101, 0.475, 0, 0, null, 44, 60, 0.733, 26, 31, 57, 23, 14, 6, 21, 32, null], [\"21983\", 1610612744, \"GOS\", \"Golden State Warriors\", \"0028300648\", \"1984-02-25\", \"GOS @ HOU\", \"W\", 240, 118, 44, 89, 0.494, 1, 2, 0.5, 29, 38, 0.763, 17, 32, 49, 20, 13, 2, 19, 23, null], [\"21983\", 1610612744, \"GOS\", \"Golden State Warriors\", \"0028300637\", \"1984-02-23\", \"GOS vs. SDC\", \"L\", 240, 103, 46, 101, 0.455, 0, 2, 0.0, 11, 16, 0.688, 25, 15, 40, 24, 5, 3, 17, 24, null], [\"21983\", 1610612744, \"GOS\", \"Golden State Warriors\", \"0028300619\", \"1984-02-21\", \"GOS vs. DEN\", \"W\", 240, 135, 55, 93, 0.591, 0, 2, 0.0, 25, 31, 0.806, 11, 34, 45, 32, 7, 10, 23, 17, null], [\"21983\", 1610612744, \"GOS\", \"Golden State Warriors\", \"0028300610\", \"1984-02-18\", \"GOS vs. WAS\", \"W\", 240, 113, 43, 79, 0.544, 1, 3, 0.333, 26, 36, 0.722, 8, 25, 33, 22, 9, 5, 15, 27, null], [\"21983\", 1610612744, \"GOS\", \"Golden State Warriors\", \"0028300597\", \"1984-02-16\", \"GOS vs. BOS\", \"L\", 240, 115, 51, 105, 0.486, 3, 6, 0.5, 10, 16, 0.625, 19, 23, 42, 24, 12, 2, 9, 28, null], [\"21983\", 1610612744, \"GOS\", \"Golden State Warriors\", \"0028300581\", \"1984-02-14\", \"GOS vs. SEA\", \"W\", 240, 105, 44, 86, 0.512, 0, 1, 0.0, 17, 21, 0.81, 13, 24, 37, 26, 11, 5, 17, 16, null], [\"21983\", 1610612744, \"GOS\", \"Golden State Warriors\", \"0028300572\", \"1984-02-11\", \"GOS @ CHI\", \"L\", 240, 96, 41, 94, 0.436, 0, 7, 0.0, 14, 15, 0.933, 11, 29, 40, 24, 9, 4, 17, 31, null], [\"21983\", 1610612744, \"GOS\", \"Golden State Warriors\", \"0028300561\", \"1984-02-10\", \"GOS @ DET\", \"L\", 240, 116, 45, 106, 0.425, 0, 3, 0.0, 26, 34, 0.765, 20, 27, 47, 34, 9, 5, 21, 22, null], [\"21983\", 1610612744, \"GOS\", \"Golden State Warriors\", \"0028300549\", \"1984-02-08\", \"GOS @ CLE\", \"L\", 240, 108, 46, 105, 0.438, 0, 3, 0.0, 16, 21, 0.762, 23, 27, 50, 26, 7, 5, 16, 17, null], [\"21983\", 1610612744, \"GOS\", \"Golden State Warriors\", \"0028300538\", \"1984-02-06\", \"GOS @ NYK\", \"L\", 240, 94, 37, 87, 0.425, 1, 2, 0.5, 19, 22, 0.864, 12, 26, 38, 24, 9, 3, 19, 25, null], [\"21983\", 1610612744, \"GOS\", \"Golden State Warriors\", \"0028300526\", \"1984-02-04\", \"GOS vs. PHX\", \"W\", 240, 107, 42, 87, 0.483, 3, 4, 0.75, 20, 25, 0.8, 17, 34, 51, 20, 8, 3, 26, 32, null], [\"21983\", 1610612744, \"GOS\", \"Golden State Warriors\", \"0028300515\", \"1984-02-02\", \"GOS vs. SAN\", \"W\", 240, 117, 45, 102, 0.441, 1, 3, 0.333, 26, 32, 0.813, 30, 36, 66, 21, 10, 2, 25, 26, null], [\"21983\", 1610612744, \"GOS\", \"Golden State Warriors\", \"0028300500\", \"1984-01-31\", \"GOS vs. MIL\", \"L\", 265, 119, 48, 107, 0.449, 0, 3, 0.0, 23, 34, 0.676, 22, 26, 48, 26, 11, 2, 13, 26, null], [\"21983\", 1610612744, \"GOS\", \"Golden State Warriors\", \"0028300492\", \"1984-01-26\", \"GOS @ SAN\", \"L\", 240, 116, 49, 98, 0.5, 0, 6, 0.0, 18, 23, 0.783, 18, 30, 48, 34, 8, 6, 18, 29, null], [\"21983\", 1610612744, \"GOS\", \"Golden State Warriors\", \"0028300487\", \"1984-01-25\", \"GOS @ DAL\", \"L\", 265, 110, 46, 91, 0.505, 0, 1, 0.0, 18, 20, 0.9, 7, 33, 40, 29, 11, 1, 24, 24, null], [\"21983\", 1610612744, \"GOS\", \"Golden State Warriors\", \"0028300480\", \"1984-01-24\", \"GOS @ HOU\", \"L\", 240, 98, 37, 111, 0.333, 2, 4, 0.5, 22, 27, 0.815, 23, 34, 57, 17, 9, 1, 18, 23, null], [\"21983\", 1610612744, \"GOS\", \"Golden State Warriors\", \"0028300471\", \"1984-01-21\", \"GOS @ DEN\", \"L\", 240, 115, 44, 89, 0.494, 1, 4, 0.25, 26, 39, 0.667, 13, 25, 38, 24, 10, 9, 18, 31, null], [\"21983\", 1610612744, \"GOS\", \"Golden State Warriors\", \"0028300452\", \"1984-01-19\", \"GOS vs. POR\", \"W\", 240, 107, 43, 87, 0.494, 0, 2, 0.0, 21, 30, 0.7, 14, 33, 47, 23, 6, 12, 17, 19, null], [\"21983\", 1610612744, \"GOS\", \"Golden State Warriors\", \"0028300438\", \"1984-01-17\", \"GOS vs. SDC\", \"W\", 240, 123, 52, 99, 0.525, 0, 2, 0.0, 19, 22, 0.864, 22, 30, 52, 24, 9, 4, 14, 28, null], [\"21983\", 1610612744, \"GOS\", \"Golden State Warriors\", \"0028300425\", \"1984-01-14\", \"GOS @ PHL\", \"L\", 240, 103, 37, 91, 0.407, 0, 3, 0.0, 29, 41, 0.707, 22, 23, 45, 17, 14, 8, 27, 30, null], [\"21983\", 1610612744, \"GOS\", \"Golden State Warriors\", \"0028300421\", \"1984-01-13\", \"GOS @ NJN\", \"W\", 240, 114, 42, 89, 0.472, 0, 1, 0.0, 30, 41, 0.732, 16, 26, 42, 17, 16, 5, 26, 30, null], [\"21983\", 1610612744, \"GOS\", \"Golden State Warriors\", \"0028300406\", \"1984-01-11\", \"GOS @ BOS\", \"L\", 240, 112, 46, 86, 0.535, 0, 1, 0.0, 20, 23, 0.87, 12, 15, 27, 21, 6, 7, 20, 16, null], [\"21983\", 1610612744, \"GOS\", \"Golden State Warriors\", \"0028300396\", \"1984-01-10\", \"GOS @ ATL\", \"L\", 240, 101, 40, 90, 0.444, 1, 4, 0.25, 20, 29, 0.69, 17, 24, 41, 17, 8, 3, 9, 22, null], [\"21983\", 1610612744, \"GOS\", \"Golden State Warriors\", \"0028300383\", \"1984-01-07\", \"GOS vs. SAN\", \"W\", 240, 154, 62, 125, 0.496, 2, 4, 0.5, 28, 34, 0.824, 27, 38, 65, 32, 10, 5, 15, 37, null], [\"21983\", 1610612744, \"GOS\", \"Golden State Warriors\", \"0028300355\", \"1984-01-03\", \"GOS vs. PHL\", \"W\", 240, 115, 41, 82, 0.5, 0, 2, 0.0, 33, 39, 0.846, 14, 22, 36, 21, 13, 7, 17, 29, null], [\"21983\", 1610612744, \"GOS\", \"Golden State Warriors\", \"0028300348\", \"1983-12-30\", \"GOS @ LAL\", \"W\", 240, 116, 42, 92, 0.457, 1, 3, 0.333, 31, 47, 0.66, 21, 26, 47, 23, 11, 5, 10, 22, null], [\"21983\", 1610612744, \"GOS\", \"Golden State Warriors\", \"0028300334\", \"1983-12-28\", \"GOS @ PHX\", \"L\", 240, 105, 39, 86, 0.453, 3, 6, 0.5, 24, 37, 0.649, 12, 27, 39, 16, 7, 0, 26, 24, null], [\"21983\", 1610612744, \"GOS\", \"Golden State Warriors\", \"0028300326\", \"1983-12-27\", \"GOS vs. UTH\", \"L\", 240, 102, 42, 102, 0.412, 0, 5, 0.0, 18, 26, 0.692, 20, 30, 50, 23, 11, 6, 18, 27, null], [\"21983\", 1610612744, \"GOS\", \"Golden State Warriors\", \"0028300312\", \"1983-12-23\", \"GOS @ LAL\", \"L\", 240, 116, 49, 96, 0.51, 1, 2, 0.5, 17, 23, 0.739, 16, 21, 37, 30, 13, 4, 14, 23, null], [\"21983\", 1610612744, \"GOS\", \"Golden State Warriors\", \"0028300303\", \"1983-12-22\", \"GOS vs. LAL\", \"W\", 240, 109, 44, 89, 0.494, 0, 1, 0.0, 21, 26, 0.808, 16, 32, 48, 25, 10, 4, 23, 27, null], [\"21983\", 1610612744, \"GOS\", \"Golden State Warriors\", \"0028300293\", \"1983-12-20\", \"GOS vs. PHX\", \"L\", 240, 105, 40, 88, 0.455, 0, 3, 0.0, 25, 38, 0.658, 17, 38, 55, 20, 7, 2, 16, 20, null], [\"21983\", 1610612744, \"GOS\", \"Golden State Warriors\", \"0028300288\", \"1983-12-18\", \"GOS vs. SDC\", \"W\", 240, 99, 40, 97, 0.412, 0, 0, null, 19, 29, 0.655, 27, 25, 52, 18, 7, 5, 16, 27, null], [\"21983\", 1610612744, \"GOS\", \"Golden State Warriors\", \"0028300283\", \"1983-12-17\", \"GOS @ UTH\", \"L\", 240, 111, 47, 91, 0.516, 1, 4, 0.25, 16, 25, 0.64, 17, 24, 41, 28, 8, 5, 26, 27, null], [\"21983\", 1610612744, \"GOS\", \"Golden State Warriors\", \"0028300270\", \"1983-12-15\", \"GOS vs. KCK\", \"W\", 240, 119, 42, 82, 0.512, 0, 0, null, 35, 52, 0.673, 13, 32, 45, 20, 19, 1, 17, 24, null], [\"21983\", 1610612744, \"GOS\", \"Golden State Warriors\", \"0028300254\", \"1983-12-13\", \"GOS vs. NJN\", \"L\", 240, 122, 45, 100, 0.45, 3, 4, 0.75, 29, 40, 0.725, 20, 25, 45, 20, 7, 3, 16, 32, null], [\"21983\", 1610612744, \"GOS\", \"Golden State Warriors\", \"0028300249\", \"1983-12-11\", \"GOS @ POR\", \"L\", 240, 101, 38, 85, 0.447, 0, 1, 0.0, 25, 31, 0.806, 18, 20, 38, 19, 7, 9, 18, 31, null], [\"21983\", 1610612744, \"GOS\", \"Golden State Warriors\", \"0028300241\", \"1983-12-10\", \"GOS vs. DAL\", \"L\", 265, 123, 44, 99, 0.444, 0, 2, 0.0, 35, 41, 0.854, 22, 24, 46, 22, 7, 4, 11, 24, null], [\"21983\", 1610612744, \"GOS\", \"Golden State Warriors\", \"0028300229\", \"1983-12-08\", \"GOS vs. DET\", \"W\", 240, 130, 51, 103, 0.495, 0, 1, 0.0, 28, 39, 0.718, 24, 22, 46, 21, 9, 4, 12, 27, null], [\"21983\", 1610612744, \"GOS\", \"Golden State Warriors\", \"0028300216\", \"1983-12-06\", \"GOS vs. SEA\", \"W\", 240, 108, 41, 88, 0.466, 0, 1, 0.0, 26, 34, 0.765, 13, 37, 50, 21, 9, 5, 17, 22, null], [\"21983\", 1610612744, \"GOS\", \"Golden State Warriors\", \"0028300199\", \"1983-12-02\", \"GOS @ SDC\", \"L\", 240, 108, 43, 88, 0.489, 0, 1, 0.0, 22, 24, 0.917, 12, 21, 33, 20, 12, 6, 16, 18, null], [\"21983\", 1610612744, \"GOS\", \"Golden State Warriors\", \"0028300192\", \"1983-12-01\", \"GOS vs. KCK\", \"W\", 240, 106, 44, 101, 0.436, 0, 2, 0.0, 18, 27, 0.667, 18, 35, 53, 20, 5, 8, 14, 25, null], [\"21983\", 1610612744, \"GOS\", \"Golden State Warriors\", \"0028300182\", \"1983-11-29\", \"GOS vs. LAL\", \"L\", 240, 105, 40, 84, 0.476, 1, 4, 0.25, 24, 28, 0.857, 12, 25, 37, 22, 11, 4, 20, 25, null], [\"21983\", 1610612744, \"GOS\", \"Golden State Warriors\", \"0028300165\", \"1983-11-26\", \"GOS @ DAL\", \"L\", 240, 109, 45, 84, 0.536, 0, 1, 0.0, 19, 29, 0.655, 9, 22, 31, 23, 13, 3, 19, 24, null], [\"21983\", 1610612744, \"GOS\", \"Golden State Warriors\", \"0028300154\", \"1983-11-25\", \"GOS @ IND\", \"W\", 240, 110, 45, 104, 0.433, 0, 1, 0.0, 20, 24, 0.833, 28, 19, 47, 25, 16, 2, 17, 20, null], [\"21983\", 1610612744, \"GOS\", \"Golden State Warriors\", \"0028300143\", \"1983-11-23\", \"GOS @ MIL\", \"L\", 240, 94, 37, 98, 0.378, 0, 0, null, 20, 25, 0.8, 24, 21, 45, 19, 7, 6, 18, 23, null], [\"21983\", 1610612744, \"GOS\", \"Golden State Warriors\", \"0028300138\", \"1983-11-22\", \"GOS @ WAS\", \"W\", 240, 102, 40, 79, 0.506, 0, 0, null, 22, 32, 0.688, 7, 33, 40, 20, 9, 5, 14, 29, null], [\"21983\", 1610612744, \"GOS\", \"Golden State Warriors\", \"0028300130\", \"1983-11-19\", \"GOS @ HOU\", \"L\", 240, 105, 45, 90, 0.5, 0, 1, 0.0, 15, 28, 0.536, 10, 23, 33, 19, 10, 6, 14, 22, null], [\"21983\", 1610612744, \"GOS\", \"Golden State Warriors\", \"0028300111\", \"1983-11-17\", \"GOS vs. DEN\", \"L\", 240, 120, 42, 95, 0.442, 0, 2, 0.0, 36, 45, 0.8, 20, 31, 51, 20, 16, 4, 20, 27, null], [\"21983\", 1610612744, \"GOS\", \"Golden State Warriors\", \"0028300102\", \"1983-11-15\", \"GOS vs. SAN\", \"W\", 240, 115, 47, 102, 0.461, 0, 3, 0.0, 21, 32, 0.656, 16, 24, 40, 26, 12, 2, 12, 26, null], [\"21983\", 1610612744, \"GOS\", \"Golden State Warriors\", \"0028300097\", \"1983-11-13\", \"GOS @ PHX\", \"L\", 240, 98, 35, 88, 0.398, 0, 4, 0.0, 28, 39, 0.718, 13, 25, 38, 15, 12, 3, 18, 27, null], [\"21983\", 1610612744, \"GOS\", \"Golden State Warriors\", \"0028300087\", \"1983-11-12\", \"GOS vs. CLE\", \"W\", 240, 109, 38, 86, 0.442, 0, 1, 0.0, 33, 50, 0.66, 19, 32, 51, 23, 6, 2, 20, 32, null], [\"21983\", 1610612744, \"GOS\", \"Golden State Warriors\", \"0028300076\", \"1983-11-10\", \"GOS vs. PHX\", \"L\", 240, 99, 37, 87, 0.425, 0, 1, 0.0, 25, 32, 0.781, 13, 22, 35, 16, 8, 3, 18, 30, null], [\"21983\", 1610612744, \"GOS\", \"Golden State Warriors\", \"0028300060\", \"1983-11-08\", \"GOS vs. ATL\", \"W\", 240, 97, 31, 78, 0.397, 1, 3, 0.333, 34, 47, 0.723, 17, 29, 46, 21, 9, 3, 18, 26, null], [\"21983\", 1610612744, \"GOS\", \"Golden State Warriors\", \"0028300048\", \"1983-11-05\", \"GOS vs. NYK\", \"W\", 240, 102, 35, 92, 0.38, 0, 1, 0.0, 32, 45, 0.711, 25, 18, 43, 20, 16, 4, 17, 27, null], [\"21983\", 1610612744, \"GOS\", \"Golden State Warriors\", \"0028300040\", \"1983-11-03\", \"GOS @ UTH\", \"L\", 240, 112, 44, 115, 0.383, 2, 5, 0.4, 22, 25, 0.88, 27, 26, 53, 22, 11, 4, 19, 31, null], [\"21983\", 1610612744, \"GOS\", \"Golden State Warriors\", \"0028300029\", \"1983-11-01\", \"GOS @ KCK\", \"L\", 240, 114, 42, 91, 0.462, 0, 2, 0.0, 30, 40, 0.75, 12, 18, 30, 29, 15, 3, 16, 28, null], [\"21983\", 1610612744, \"GOS\", \"Golden State Warriors\", \"0028300013\", \"1983-10-29\", \"GOS vs. POR\", \"W\", 240, 97, 34, 76, 0.447, 0, 2, 0.0, 29, 40, 0.725, 12, 31, 43, 21, 9, 1, 16, 37, null], [\"21983\", 1610612744, \"GOS\", \"Golden State Warriors\", \"0028300004\", \"1983-10-28\", \"GOS @ SEA\", \"W\", 240, 110, 42, 89, 0.472, 0, 0, null, 26, 37, 0.703, 21, 26, 47, 26, 11, 2, 19, 34, null]]}]}'"
            ],
            "application/vnd.google.colaboratory.intrinsic+json": {
              "type": "string"
            }
          },
          "metadata": {},
          "execution_count": 469
        }
      ]
    },
    {
      "cell_type": "code",
      "source": [
        "#Since https://stats.nba.com does not allow api calls from Cloud IPs and Skills Network Labs uses a Cloud IP.\n",
        "\n",
        "games = gamefinder.get_data_frames()[0]\n",
        "games.head()"
      ],
      "metadata": {
        "colab": {
          "base_uri": "https://localhost:8080/",
          "height": 235
        },
        "id": "__WQSL2t8Yw4",
        "outputId": "8391e9ad-0bc9-44e5-d201-d8dd0c9c32b0"
      },
      "execution_count": 470,
      "outputs": [
        {
          "output_type": "execute_result",
          "data": {
            "text/plain": [
              "  SEASON_ID     TEAM_ID TEAM_ABBREVIATION              TEAM_NAME     GAME_ID  \\\n",
              "0     22022  1610612744               GSW  Golden State Warriors  1522200074   \n",
              "1     22022  1610612744               GSW  Golden State Warriors  1522200056   \n",
              "2     22022  1610612744               GSW  Golden State Warriors  1522200035   \n",
              "3     22022  1610612744               GSW  Golden State Warriors  1522200023   \n",
              "4     22022  1610612744               GSW  Golden State Warriors  1522200007   \n",
              "\n",
              "    GAME_DATE      MATCHUP WL  MIN  PTS  ...  FT_PCT  OREB  DREB   REB  AST  \\\n",
              "0  2022-07-17  GSW vs. WAS  L  201   77  ...   0.667  12.0  33.0  45.0   15   \n",
              "1  2022-07-15  GSW vs. OKC  L  202   82  ...   0.667   4.0  31.0  35.0   14   \n",
              "2  2022-07-12  GSW vs. BOS  L  199   92  ...   0.667  16.0  22.0  38.0   14   \n",
              "3  2022-07-10    GSW @ SAS  W  200   86  ...   0.581  13.0  25.0  38.0   14   \n",
              "4  2022-07-08    GSW @ NYK  L  200   88  ...   0.700  11.0  28.0  39.0   13   \n",
              "\n",
              "   STL  BLK  TOV  PF  PLUS_MINUS  \n",
              "0    6    6   21  20       -10.0  \n",
              "1    7    3   16  23        -8.0  \n",
              "2    7    8   13  23       -18.4  \n",
              "3    7    6   16  30         1.0  \n",
              "4    8    4   23  20       -10.4  \n",
              "\n",
              "[5 rows x 28 columns]"
            ],
            "text/html": [
              "\n",
              "  <div id=\"df-bf7713f5-5dd1-4c7d-80e8-4c518ecb1e46\">\n",
              "    <div class=\"colab-df-container\">\n",
              "      <div>\n",
              "<style scoped>\n",
              "    .dataframe tbody tr th:only-of-type {\n",
              "        vertical-align: middle;\n",
              "    }\n",
              "\n",
              "    .dataframe tbody tr th {\n",
              "        vertical-align: top;\n",
              "    }\n",
              "\n",
              "    .dataframe thead th {\n",
              "        text-align: right;\n",
              "    }\n",
              "</style>\n",
              "<table border=\"1\" class=\"dataframe\">\n",
              "  <thead>\n",
              "    <tr style=\"text-align: right;\">\n",
              "      <th></th>\n",
              "      <th>SEASON_ID</th>\n",
              "      <th>TEAM_ID</th>\n",
              "      <th>TEAM_ABBREVIATION</th>\n",
              "      <th>TEAM_NAME</th>\n",
              "      <th>GAME_ID</th>\n",
              "      <th>GAME_DATE</th>\n",
              "      <th>MATCHUP</th>\n",
              "      <th>WL</th>\n",
              "      <th>MIN</th>\n",
              "      <th>PTS</th>\n",
              "      <th>...</th>\n",
              "      <th>FT_PCT</th>\n",
              "      <th>OREB</th>\n",
              "      <th>DREB</th>\n",
              "      <th>REB</th>\n",
              "      <th>AST</th>\n",
              "      <th>STL</th>\n",
              "      <th>BLK</th>\n",
              "      <th>TOV</th>\n",
              "      <th>PF</th>\n",
              "      <th>PLUS_MINUS</th>\n",
              "    </tr>\n",
              "  </thead>\n",
              "  <tbody>\n",
              "    <tr>\n",
              "      <th>0</th>\n",
              "      <td>22022</td>\n",
              "      <td>1610612744</td>\n",
              "      <td>GSW</td>\n",
              "      <td>Golden State Warriors</td>\n",
              "      <td>1522200074</td>\n",
              "      <td>2022-07-17</td>\n",
              "      <td>GSW vs. WAS</td>\n",
              "      <td>L</td>\n",
              "      <td>201</td>\n",
              "      <td>77</td>\n",
              "      <td>...</td>\n",
              "      <td>0.667</td>\n",
              "      <td>12.0</td>\n",
              "      <td>33.0</td>\n",
              "      <td>45.0</td>\n",
              "      <td>15</td>\n",
              "      <td>6</td>\n",
              "      <td>6</td>\n",
              "      <td>21</td>\n",
              "      <td>20</td>\n",
              "      <td>-10.0</td>\n",
              "    </tr>\n",
              "    <tr>\n",
              "      <th>1</th>\n",
              "      <td>22022</td>\n",
              "      <td>1610612744</td>\n",
              "      <td>GSW</td>\n",
              "      <td>Golden State Warriors</td>\n",
              "      <td>1522200056</td>\n",
              "      <td>2022-07-15</td>\n",
              "      <td>GSW vs. OKC</td>\n",
              "      <td>L</td>\n",
              "      <td>202</td>\n",
              "      <td>82</td>\n",
              "      <td>...</td>\n",
              "      <td>0.667</td>\n",
              "      <td>4.0</td>\n",
              "      <td>31.0</td>\n",
              "      <td>35.0</td>\n",
              "      <td>14</td>\n",
              "      <td>7</td>\n",
              "      <td>3</td>\n",
              "      <td>16</td>\n",
              "      <td>23</td>\n",
              "      <td>-8.0</td>\n",
              "    </tr>\n",
              "    <tr>\n",
              "      <th>2</th>\n",
              "      <td>22022</td>\n",
              "      <td>1610612744</td>\n",
              "      <td>GSW</td>\n",
              "      <td>Golden State Warriors</td>\n",
              "      <td>1522200035</td>\n",
              "      <td>2022-07-12</td>\n",
              "      <td>GSW vs. BOS</td>\n",
              "      <td>L</td>\n",
              "      <td>199</td>\n",
              "      <td>92</td>\n",
              "      <td>...</td>\n",
              "      <td>0.667</td>\n",
              "      <td>16.0</td>\n",
              "      <td>22.0</td>\n",
              "      <td>38.0</td>\n",
              "      <td>14</td>\n",
              "      <td>7</td>\n",
              "      <td>8</td>\n",
              "      <td>13</td>\n",
              "      <td>23</td>\n",
              "      <td>-18.4</td>\n",
              "    </tr>\n",
              "    <tr>\n",
              "      <th>3</th>\n",
              "      <td>22022</td>\n",
              "      <td>1610612744</td>\n",
              "      <td>GSW</td>\n",
              "      <td>Golden State Warriors</td>\n",
              "      <td>1522200023</td>\n",
              "      <td>2022-07-10</td>\n",
              "      <td>GSW @ SAS</td>\n",
              "      <td>W</td>\n",
              "      <td>200</td>\n",
              "      <td>86</td>\n",
              "      <td>...</td>\n",
              "      <td>0.581</td>\n",
              "      <td>13.0</td>\n",
              "      <td>25.0</td>\n",
              "      <td>38.0</td>\n",
              "      <td>14</td>\n",
              "      <td>7</td>\n",
              "      <td>6</td>\n",
              "      <td>16</td>\n",
              "      <td>30</td>\n",
              "      <td>1.0</td>\n",
              "    </tr>\n",
              "    <tr>\n",
              "      <th>4</th>\n",
              "      <td>22022</td>\n",
              "      <td>1610612744</td>\n",
              "      <td>GSW</td>\n",
              "      <td>Golden State Warriors</td>\n",
              "      <td>1522200007</td>\n",
              "      <td>2022-07-08</td>\n",
              "      <td>GSW @ NYK</td>\n",
              "      <td>L</td>\n",
              "      <td>200</td>\n",
              "      <td>88</td>\n",
              "      <td>...</td>\n",
              "      <td>0.700</td>\n",
              "      <td>11.0</td>\n",
              "      <td>28.0</td>\n",
              "      <td>39.0</td>\n",
              "      <td>13</td>\n",
              "      <td>8</td>\n",
              "      <td>4</td>\n",
              "      <td>23</td>\n",
              "      <td>20</td>\n",
              "      <td>-10.4</td>\n",
              "    </tr>\n",
              "  </tbody>\n",
              "</table>\n",
              "<p>5 rows × 28 columns</p>\n",
              "</div>\n",
              "      <button class=\"colab-df-convert\" onclick=\"convertToInteractive('df-bf7713f5-5dd1-4c7d-80e8-4c518ecb1e46')\"\n",
              "              title=\"Convert this dataframe to an interactive table.\"\n",
              "              style=\"display:none;\">\n",
              "        \n",
              "  <svg xmlns=\"http://www.w3.org/2000/svg\" height=\"24px\"viewBox=\"0 0 24 24\"\n",
              "       width=\"24px\">\n",
              "    <path d=\"M0 0h24v24H0V0z\" fill=\"none\"/>\n",
              "    <path d=\"M18.56 5.44l.94 2.06.94-2.06 2.06-.94-2.06-.94-.94-2.06-.94 2.06-2.06.94zm-11 1L8.5 8.5l.94-2.06 2.06-.94-2.06-.94L8.5 2.5l-.94 2.06-2.06.94zm10 10l.94 2.06.94-2.06 2.06-.94-2.06-.94-.94-2.06-.94 2.06-2.06.94z\"/><path d=\"M17.41 7.96l-1.37-1.37c-.4-.4-.92-.59-1.43-.59-.52 0-1.04.2-1.43.59L10.3 9.45l-7.72 7.72c-.78.78-.78 2.05 0 2.83L4 21.41c.39.39.9.59 1.41.59.51 0 1.02-.2 1.41-.59l7.78-7.78 2.81-2.81c.8-.78.8-2.07 0-2.86zM5.41 20L4 18.59l7.72-7.72 1.47 1.35L5.41 20z\"/>\n",
              "  </svg>\n",
              "      </button>\n",
              "      \n",
              "  <style>\n",
              "    .colab-df-container {\n",
              "      display:flex;\n",
              "      flex-wrap:wrap;\n",
              "      gap: 12px;\n",
              "    }\n",
              "\n",
              "    .colab-df-convert {\n",
              "      background-color: #E8F0FE;\n",
              "      border: none;\n",
              "      border-radius: 50%;\n",
              "      cursor: pointer;\n",
              "      display: none;\n",
              "      fill: #1967D2;\n",
              "      height: 32px;\n",
              "      padding: 0 0 0 0;\n",
              "      width: 32px;\n",
              "    }\n",
              "\n",
              "    .colab-df-convert:hover {\n",
              "      background-color: #E2EBFA;\n",
              "      box-shadow: 0px 1px 2px rgba(60, 64, 67, 0.3), 0px 1px 3px 1px rgba(60, 64, 67, 0.15);\n",
              "      fill: #174EA6;\n",
              "    }\n",
              "\n",
              "    [theme=dark] .colab-df-convert {\n",
              "      background-color: #3B4455;\n",
              "      fill: #D2E3FC;\n",
              "    }\n",
              "\n",
              "    [theme=dark] .colab-df-convert:hover {\n",
              "      background-color: #434B5C;\n",
              "      box-shadow: 0px 1px 3px 1px rgba(0, 0, 0, 0.15);\n",
              "      filter: drop-shadow(0px 1px 2px rgba(0, 0, 0, 0.3));\n",
              "      fill: #FFFFFF;\n",
              "    }\n",
              "  </style>\n",
              "\n",
              "      <script>\n",
              "        const buttonEl =\n",
              "          document.querySelector('#df-bf7713f5-5dd1-4c7d-80e8-4c518ecb1e46 button.colab-df-convert');\n",
              "        buttonEl.style.display =\n",
              "          google.colab.kernel.accessAllowed ? 'block' : 'none';\n",
              "\n",
              "        async function convertToInteractive(key) {\n",
              "          const element = document.querySelector('#df-bf7713f5-5dd1-4c7d-80e8-4c518ecb1e46');\n",
              "          const dataTable =\n",
              "            await google.colab.kernel.invokeFunction('convertToInteractive',\n",
              "                                                     [key], {});\n",
              "          if (!dataTable) return;\n",
              "\n",
              "          const docLinkHtml = 'Like what you see? Visit the ' +\n",
              "            '<a target=\"_blank\" href=https://colab.research.google.com/notebooks/data_table.ipynb>data table notebook</a>'\n",
              "            + ' to learn more about interactive tables.';\n",
              "          element.innerHTML = '';\n",
              "          dataTable['output_type'] = 'display_data';\n",
              "          await google.colab.output.renderOutput(dataTable, element);\n",
              "          const docLink = document.createElement('div');\n",
              "          docLink.innerHTML = docLinkHtml;\n",
              "          element.appendChild(docLink);\n",
              "        }\n",
              "      </script>\n",
              "    </div>\n",
              "  </div>\n",
              "  "
            ]
          },
          "metadata": {},
          "execution_count": 470
        }
      ]
    },
    {
      "cell_type": "code",
      "source": [],
      "metadata": {
        "id": "P7h_dt_T_VGV",
        "outputId": "ba9334b8-c871-4672-e61d-e9bd61f3ff08",
        "colab": {
          "base_uri": "https://localhost:8080/",
          "height": 130
        }
      },
      "execution_count": 475,
      "outputs": [
        {
          "output_type": "error",
          "ename": "SyntaxError",
          "evalue": "ignored",
          "traceback": [
            "\u001b[0;36m  File \u001b[0;32m\"<ipython-input-475-24c802eb9229>\"\u001b[0;36m, line \u001b[0;32m1\u001b[0m\n\u001b[0;31m    pyodide.runPython(`  import sys  sys.version`);\u001b[0m\n\u001b[0m                      ^\u001b[0m\n\u001b[0;31mSyntaxError\u001b[0m\u001b[0;31m:\u001b[0m invalid syntax\n"
          ]
        }
      ]
    },
    {
      "cell_type": "code",
      "source": [],
      "metadata": {
        "id": "AluyCgE5_WAB"
      },
      "execution_count": null,
      "outputs": []
    },
    {
      "cell_type": "code",
      "source": [
        "from pyodide.http import pyfetch\n",
        "\n",
        "filename = \"https://s3-api.us-geo.objectstorage.softlayer.net/cf-courses-data/CognitiveClass/PY0101EN/Chapter%205/Labs/Golden_State.pkl\"\n",
        "\n",
        "async def download(url, filename):\n",
        "    response = await pyfetch(url)\n",
        "    if response.status == 200:\n",
        "        with open(filename, \"wb\") as f:\n",
        "            f.write(await response.bytes())\n",
        "\n",
        "\n",
        "await download(filename, \"Golden_State.pkl\")\n",
        "\n",
        "! wget https://s3-api.us-geo.objectstorage.softlayer.net/cf-courses-data/CognitiveClass/PY0101EN/Chapter%205/Labs/Golden_State.pkl"
      ],
      "metadata": {
        "id": "luxTpArF8e-3",
        "outputId": "a323843e-feec-4386-ea57-d43b2564bb39",
        "colab": {
          "base_uri": "https://localhost:8080/",
          "height": 373
        }
      },
      "execution_count": 472,
      "outputs": [
        {
          "output_type": "error",
          "ename": "ModuleNotFoundError",
          "evalue": "ignored",
          "traceback": [
            "\u001b[0;31m---------------------------------------------------------------------------\u001b[0m",
            "\u001b[0;31mModuleNotFoundError\u001b[0m                       Traceback (most recent call last)",
            "\u001b[0;32m<ipython-input-472-ea189a4faa11>\u001b[0m in \u001b[0;36masync-def-wrapper\u001b[0;34m()\u001b[0m\n\u001b[1;32m      2\u001b[0m \u001b[0;34m\u001b[0m\u001b[0m\n\u001b[1;32m      3\u001b[0m \u001b[0mfilename\u001b[0m \u001b[0;34m=\u001b[0m \u001b[0;34m\"https://s3-api.us-geo.objectstorage.softlayer.net/cf-courses-data/CognitiveClass/PY0101EN/Chapter%205/Labs/Golden_State.pkl\"\u001b[0m\u001b[0;34m\u001b[0m\u001b[0;34m\u001b[0m\u001b[0m\n\u001b[0;32m----> 4\u001b[0;31m \u001b[0;34m\u001b[0m\u001b[0m\n\u001b[0m\u001b[1;32m      5\u001b[0m \u001b[0;32masync\u001b[0m \u001b[0;32mdef\u001b[0m \u001b[0mdownload\u001b[0m\u001b[0;34m(\u001b[0m\u001b[0murl\u001b[0m\u001b[0;34m,\u001b[0m \u001b[0mfilename\u001b[0m\u001b[0;34m)\u001b[0m\u001b[0;34m:\u001b[0m\u001b[0;34m\u001b[0m\u001b[0;34m\u001b[0m\u001b[0m\n\u001b[1;32m      6\u001b[0m     \u001b[0mresponse\u001b[0m \u001b[0;34m=\u001b[0m \u001b[0;32mawait\u001b[0m \u001b[0mpyfetch\u001b[0m\u001b[0;34m(\u001b[0m\u001b[0murl\u001b[0m\u001b[0;34m)\u001b[0m\u001b[0;34m\u001b[0m\u001b[0;34m\u001b[0m\u001b[0m\n",
            "\u001b[0;31mModuleNotFoundError\u001b[0m: No module named 'pyodide'",
            "",
            "\u001b[0;31m---------------------------------------------------------------------------\u001b[0;32m\nNOTE: If your import is failing due to a missing package, you can\nmanually install dependencies using either !pip or !apt.\n\nTo view examples of installing some common dependencies, click the\n\"Open Examples\" button below.\n\u001b[0;31m---------------------------------------------------------------------------\u001b[0m\n"
          ],
          "errorDetails": {
            "actions": [
              {
                "action": "open_url",
                "actionText": "Open Examples",
                "url": "/notebooks/snippets/importing_libraries.ipynb"
              }
            ]
          }
        }
      ]
    },
    {
      "cell_type": "code",
      "source": [
        "file_name = \"Golden_State.pkl\"\n",
        "games = pd.read_pickle(file_name)\n",
        "games.head()"
      ],
      "metadata": {
        "id": "oweHQjUV8irH",
        "outputId": "dae96b95-fe41-4a16-a459-2b4066b2f4aa",
        "colab": {
          "base_uri": "https://localhost:8080/",
          "height": 321
        }
      },
      "execution_count": 485,
      "outputs": [
        {
          "output_type": "error",
          "ename": "UnpicklingError",
          "evalue": "ignored",
          "traceback": [
            "\u001b[0;31m---------------------------------------------------------------------------\u001b[0m",
            "\u001b[0;31mUnpicklingError\u001b[0m                           Traceback (most recent call last)",
            "\u001b[0;32m<ipython-input-485-2d06db8d96af>\u001b[0m in \u001b[0;36m<module>\u001b[0;34m\u001b[0m\n\u001b[1;32m      1\u001b[0m \u001b[0mfile_name\u001b[0m \u001b[0;34m=\u001b[0m \u001b[0;34m\"Golden_State.pkl\"\u001b[0m\u001b[0;34m\u001b[0m\u001b[0;34m\u001b[0m\u001b[0m\n\u001b[0;32m----> 2\u001b[0;31m \u001b[0mgames\u001b[0m \u001b[0;34m=\u001b[0m \u001b[0mpd\u001b[0m\u001b[0;34m.\u001b[0m\u001b[0mread_pickle\u001b[0m\u001b[0;34m(\u001b[0m\u001b[0mfile_name\u001b[0m\u001b[0;34m)\u001b[0m\u001b[0;34m\u001b[0m\u001b[0;34m\u001b[0m\u001b[0m\n\u001b[0m\u001b[1;32m      3\u001b[0m \u001b[0mgames\u001b[0m\u001b[0;34m.\u001b[0m\u001b[0mhead\u001b[0m\u001b[0;34m(\u001b[0m\u001b[0;34m)\u001b[0m\u001b[0;34m\u001b[0m\u001b[0;34m\u001b[0m\u001b[0m\n",
            "\u001b[0;32m/usr/local/lib/python3.7/dist-packages/pandas/io/pickle.py\u001b[0m in \u001b[0;36mread_pickle\u001b[0;34m(filepath_or_buffer, compression, storage_options)\u001b[0m\n\u001b[1;32m    215\u001b[0m                     \u001b[0;31m# RawIOBase, BufferedIOBase, TextIOBase, TextIOWrapper, mmap]\";\u001b[0m\u001b[0;34m\u001b[0m\u001b[0;34m\u001b[0m\u001b[0;34m\u001b[0m\u001b[0m\n\u001b[1;32m    216\u001b[0m                     \u001b[0;31m# expected \"IO[bytes]\"\u001b[0m\u001b[0;34m\u001b[0m\u001b[0;34m\u001b[0m\u001b[0;34m\u001b[0m\u001b[0m\n\u001b[0;32m--> 217\u001b[0;31m                     \u001b[0;32mreturn\u001b[0m \u001b[0mpickle\u001b[0m\u001b[0;34m.\u001b[0m\u001b[0mload\u001b[0m\u001b[0;34m(\u001b[0m\u001b[0mhandles\u001b[0m\u001b[0;34m.\u001b[0m\u001b[0mhandle\u001b[0m\u001b[0;34m)\u001b[0m  \u001b[0;31m# type: ignore[arg-type]\u001b[0m\u001b[0;34m\u001b[0m\u001b[0;34m\u001b[0m\u001b[0m\n\u001b[0m\u001b[1;32m    218\u001b[0m             \u001b[0;32mexcept\u001b[0m \u001b[0mexcs_to_catch\u001b[0m\u001b[0;34m:\u001b[0m\u001b[0;34m\u001b[0m\u001b[0;34m\u001b[0m\u001b[0m\n\u001b[1;32m    219\u001b[0m                 \u001b[0;31m# e.g.\u001b[0m\u001b[0;34m\u001b[0m\u001b[0;34m\u001b[0m\u001b[0;34m\u001b[0m\u001b[0m\n",
            "\u001b[0;31mUnpicklingError\u001b[0m: pickle data was truncated"
          ]
        }
      ]
    },
    {
      "cell_type": "code",
      "source": [
        "games_home=games [games ['MATCHUP']=='GSW vs. TOR']\n",
        "games_away=games [games ['MATCHUP']=='GSW @ TOR']"
      ],
      "metadata": {
        "id": "fuieIpdf8l6i"
      },
      "execution_count": 480,
      "outputs": []
    },
    {
      "cell_type": "code",
      "source": [
        "games_home.mean()['PLUS_MINUS']"
      ],
      "metadata": {
        "id": "GJwDS1Xe8uK2",
        "outputId": "19ba1839-d061-4b6a-a47b-5b918fbf703a",
        "colab": {
          "base_uri": "https://localhost:8080/"
        }
      },
      "execution_count": 481,
      "outputs": [
        {
          "output_type": "stream",
          "name": "stderr",
          "text": [
            "/usr/local/lib/python3.7/dist-packages/ipykernel_launcher.py:1: FutureWarning: Dropping of nuisance columns in DataFrame reductions (with 'numeric_only=None') is deprecated; in a future version this will raise TypeError.  Select only valid columns before calling the reduction.\n",
            "  \"\"\"Entry point for launching an IPython kernel.\n"
          ]
        },
        {
          "output_type": "execute_result",
          "data": {
            "text/plain": [
              "3.7"
            ]
          },
          "metadata": {},
          "execution_count": 481
        }
      ]
    },
    {
      "cell_type": "code",
      "source": [
        "games_away.mean()['PLUS_MINUS']"
      ],
      "metadata": {
        "id": "ApQUbyWQ8uIR",
        "outputId": "91ac6905-86f0-4a79-8f1d-229e9fbfd4b2",
        "colab": {
          "base_uri": "https://localhost:8080/"
        }
      },
      "execution_count": 482,
      "outputs": [
        {
          "output_type": "stream",
          "name": "stderr",
          "text": [
            "/usr/local/lib/python3.7/dist-packages/ipykernel_launcher.py:1: FutureWarning: Dropping of nuisance columns in DataFrame reductions (with 'numeric_only=None') is deprecated; in a future version this will raise TypeError.  Select only valid columns before calling the reduction.\n",
            "  \"\"\"Entry point for launching an IPython kernel.\n"
          ]
        },
        {
          "output_type": "execute_result",
          "data": {
            "text/plain": [
              "-2.966666666666667"
            ]
          },
          "metadata": {},
          "execution_count": 482
        }
      ]
    },
    {
      "cell_type": "code",
      "source": [
        "fig, ax = plt.subplots()\n",
        "\n",
        "games_away.plot(x='GAME_DATE',y='PLUS_MINUS', ax=ax)\n",
        "games_home.plot(x='GAME_DATE',y='PLUS_MINUS', ax=ax)\n",
        "ax.legend([\"away\", \"home\"])\n",
        "plt.show()"
      ],
      "metadata": {
        "id": "9LdUWa0a8uF2",
        "outputId": "7fad1b94-add0-4511-aa14-c19c2db20d96",
        "colab": {
          "base_uri": "https://localhost:8080/",
          "height": 280
        }
      },
      "execution_count": 483,
      "outputs": [
        {
          "output_type": "display_data",
          "data": {
            "text/plain": [
              "<Figure size 432x288 with 1 Axes>"
            ],
            "image/png": "[encoded data removed]"
          },
          "metadata": {
            "needs_background": "light"
          }
        }
      ]
    },
    {
      "cell_type": "markdown",
      "source": [
        "#QUIZ"
      ],
      "metadata": {
        "id": "KaqOK5SP83Sl"
      }
    },
    {
      "cell_type": "code",
      "source": [
        "games_home.mean()['PTS']\n",
        "\n",
        "games_away.mean()['PTS']"
      ],
      "metadata": {
        "id": "sXgT3lX78uDV",
        "outputId": "2816853c-0962-4126-9773-d5dd95bbb230",
        "colab": {
          "base_uri": "https://localhost:8080/"
        }
      },
      "execution_count": 484,
      "outputs": [
        {
          "output_type": "stream",
          "name": "stderr",
          "text": [
            "/usr/local/lib/python3.7/dist-packages/ipykernel_launcher.py:1: FutureWarning: Dropping of nuisance columns in DataFrame reductions (with 'numeric_only=None') is deprecated; in a future version this will raise TypeError.  Select only valid columns before calling the reduction.\n",
            "  \"\"\"Entry point for launching an IPython kernel.\n",
            "/usr/local/lib/python3.7/dist-packages/ipykernel_launcher.py:3: FutureWarning: Dropping of nuisance columns in DataFrame reductions (with 'numeric_only=None') is deprecated; in a future version this will raise TypeError.  Select only valid columns before calling the reduction.\n",
            "  This is separate from the ipykernel package so we can avoid doing imports until\n"
          ]
        },
        {
          "output_type": "execute_result",
          "data": {
            "text/plain": [
              "102.0"
            ]
          },
          "metadata": {},
          "execution_count": 484
        }
      ]
    },
    {
      "cell_type": "code",
      "source": [
        "a=np.array([0,1,0,1,0])\n",
        "\n",
        "b=np.array([1,0,1,0,1])\n",
        "\n",
        "a*b"
      ],
      "metadata": {
        "id": "domcgXT58uAz",
        "outputId": "742c93a7-aa22-474b-f4ce-f693c3f4c083",
        "colab": {
          "base_uri": "https://localhost:8080/"
        }
      },
      "execution_count": 486,
      "outputs": [
        {
          "output_type": "execute_result",
          "data": {
            "text/plain": [
              "array([0, 0, 0, 0, 0])"
            ]
          },
          "metadata": {},
          "execution_count": 486
        }
      ]
    },
    {
      "cell_type": "code",
      "source": [
        "a=np.array([0,1])\n",
        "\n",
        "b=np.array([1,0])\n",
        "\n",
        "np.dot(a,b)"
      ],
      "metadata": {
        "id": "mF-KX62d8t9s",
        "outputId": "a4602d54-751c-44d6-cbef-6fc00bc85483",
        "colab": {
          "base_uri": "https://localhost:8080/"
        }
      },
      "execution_count": 487,
      "outputs": [
        {
          "output_type": "execute_result",
          "data": {
            "text/plain": [
              "0"
            ]
          },
          "metadata": {},
          "execution_count": 487
        }
      ]
    },
    {
      "cell_type": "code",
      "source": [
        "a=np.array([1,1,1,1,1])\n",
        "\n",
        "a+10"
      ],
      "metadata": {
        "id": "TumCcqbC8mOo",
        "outputId": "0a1a852c-8912-4b51-cbb4-5ff18e4f023f",
        "colab": {
          "base_uri": "https://localhost:8080/"
        }
      },
      "execution_count": 488,
      "outputs": [
        {
          "output_type": "execute_result",
          "data": {
            "text/plain": [
              "array([11, 11, 11, 11, 11])"
            ]
          },
          "metadata": {},
          "execution_count": 488
        }
      ]
    }
  ]
}